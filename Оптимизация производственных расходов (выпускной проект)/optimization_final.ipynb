{
  "nbformat": 4,
  "nbformat_minor": 0,
  "metadata": {
    "ExecuteTimeLog": [
      {
        "duration": 1594,
        "start_time": "2021-06-26T18:06:49.706Z"
      },
      {
        "duration": 94,
        "start_time": "2021-06-26T18:06:51.302Z"
      },
      {
        "duration": 36,
        "start_time": "2021-06-26T18:06:51.399Z"
      },
      {
        "duration": 8,
        "start_time": "2021-06-26T18:06:51.454Z"
      },
      {
        "duration": 25,
        "start_time": "2021-06-26T18:06:51.465Z"
      },
      {
        "duration": 22,
        "start_time": "2021-06-26T18:06:51.492Z"
      },
      {
        "duration": 56,
        "start_time": "2021-06-26T18:06:51.517Z"
      },
      {
        "duration": 5,
        "start_time": "2021-06-26T18:06:51.579Z"
      },
      {
        "duration": 29,
        "start_time": "2021-06-26T18:06:51.588Z"
      },
      {
        "duration": 79,
        "start_time": "2021-06-26T18:06:51.621Z"
      },
      {
        "duration": 4,
        "start_time": "2021-06-26T18:06:51.702Z"
      },
      {
        "duration": 35,
        "start_time": "2021-06-26T18:06:51.708Z"
      },
      {
        "duration": 10,
        "start_time": "2021-06-26T18:06:51.754Z"
      },
      {
        "duration": 39,
        "start_time": "2021-06-26T18:06:51.766Z"
      },
      {
        "duration": 25,
        "start_time": "2021-06-26T18:06:51.808Z"
      },
      {
        "duration": 87,
        "start_time": "2021-06-26T18:06:51.835Z"
      },
      {
        "duration": 84,
        "start_time": "2021-06-26T18:06:51.925Z"
      },
      {
        "duration": 10,
        "start_time": "2021-06-26T18:06:52.012Z"
      },
      {
        "duration": 77,
        "start_time": "2021-06-26T18:06:52.025Z"
      },
      {
        "duration": 14,
        "start_time": "2021-06-26T18:06:52.105Z"
      },
      {
        "duration": 107,
        "start_time": "2021-06-26T18:06:52.122Z"
      },
      {
        "duration": 63,
        "start_time": "2021-06-26T18:06:52.232Z"
      },
      {
        "duration": 10,
        "start_time": "2021-06-26T18:06:52.301Z"
      },
      {
        "duration": 124,
        "start_time": "2021-06-26T18:06:52.313Z"
      },
      {
        "duration": 10,
        "start_time": "2021-06-26T18:06:52.439Z"
      },
      {
        "duration": 33,
        "start_time": "2021-06-26T18:06:52.451Z"
      },
      {
        "duration": 26,
        "start_time": "2021-06-26T18:06:52.487Z"
      },
      {
        "duration": 27,
        "start_time": "2021-06-26T18:06:52.516Z"
      },
      {
        "duration": 15,
        "start_time": "2021-06-26T18:06:52.545Z"
      },
      {
        "duration": 13,
        "start_time": "2021-06-26T18:06:52.562Z"
      },
      {
        "duration": 19,
        "start_time": "2021-06-26T18:06:52.577Z"
      },
      {
        "duration": 57,
        "start_time": "2021-06-26T18:06:52.599Z"
      },
      {
        "duration": 7,
        "start_time": "2021-06-26T18:06:52.659Z"
      },
      {
        "duration": 20,
        "start_time": "2021-06-26T18:06:52.669Z"
      },
      {
        "duration": 18,
        "start_time": "2021-06-26T18:06:52.693Z"
      },
      {
        "duration": 23,
        "start_time": "2021-06-26T18:06:52.714Z"
      },
      {
        "duration": 24,
        "start_time": "2021-06-26T18:06:52.740Z"
      },
      {
        "duration": 30,
        "start_time": "2021-06-26T18:06:52.766Z"
      },
      {
        "duration": 6,
        "start_time": "2021-06-26T18:06:52.799Z"
      },
      {
        "duration": 32,
        "start_time": "2021-06-26T18:06:52.808Z"
      },
      {
        "duration": 3821,
        "start_time": "2021-06-26T18:06:52.843Z"
      },
      {
        "duration": 115,
        "start_time": "2021-06-26T18:06:56.754Z"
      },
      {
        "duration": 6,
        "start_time": "2021-06-26T18:06:56.955Z"
      },
      {
        "duration": 16275,
        "start_time": "2021-06-26T18:06:56.964Z"
      },
      {
        "duration": 22,
        "start_time": "2021-06-26T18:07:13.242Z"
      },
      {
        "duration": 3,
        "start_time": "2021-06-26T18:07:13.267Z"
      },
      {
        "duration": 7939,
        "start_time": "2021-06-26T18:07:13.273Z"
      },
      {
        "duration": 17,
        "start_time": "2021-06-26T18:07:21.215Z"
      },
      {
        "duration": 13,
        "start_time": "2021-06-26T18:07:21.235Z"
      }
    ],
    "kernelspec": {
      "display_name": "Python 3",
      "language": "python",
      "name": "python3"
    },
    "language_info": {
      "codemirror_mode": {
        "name": "ipython",
        "version": 3
      },
      "file_extension": ".py",
      "mimetype": "text/x-python",
      "name": "python",
      "nbconvert_exporter": "python",
      "pygments_lexer": "ipython3",
      "version": "3.7.8"
    },
    "toc": {
      "base_numbering": 1,
      "nav_menu": {},
      "number_sections": false,
      "sideBar": true,
      "skip_h1_title": true,
      "title_cell": "Table of Contents",
      "title_sidebar": "Содержание",
      "toc_cell": false,
      "toc_position": {},
      "toc_section_display": true,
      "toc_window_display": false
    },
    "colab": {
      "name": "optimization_final_15.ipynb",
      "provenance": [],
      "include_colab_link": true
    }
  },
  "cells": [
    {
      "cell_type": "markdown",
      "metadata": {
        "id": "view-in-github",
        "colab_type": "text"
      },
      "source": [
        "<a href=\"https://colab.research.google.com/github/stixmal/praktikum_project_ds/blob/main/%D0%9E%D0%BF%D1%82%D0%B8%D0%BC%D0%B8%D0%B7%D0%B0%D1%86%D0%B8%D1%8F%20%D0%BF%D1%80%D0%BE%D0%B8%D0%B7%D0%B2%D0%BE%D0%B4%D1%81%D1%82%D0%B2%D0%B5%D0%BD%D0%BD%D1%8B%D1%85%20%D1%80%D0%B0%D1%81%D1%85%D0%BE%D0%B4%D0%BE%D0%B2%20(%D0%B2%D1%8B%D0%BF%D1%83%D1%81%D0%BA%D0%BD%D0%BE%D0%B9%20%D0%BF%D1%80%D0%BE%D0%B5%D0%BA%D1%82)/optimization_final.ipynb\" target=\"_parent\"><img src=\"https://colab.research.google.com/assets/colab-badge.svg\" alt=\"Open In Colab\"/></a>"
      ]
    },
    {
      "cell_type": "markdown",
      "metadata": {
        "id": "EJ6mn-uJdR12"
      },
      "source": [
        "# Оптимизация производственных расходов"
      ]
    },
    {
      "cell_type": "markdown",
      "metadata": {
        "id": "Nu72SWhXdR2C"
      },
      "source": [
        "Чтобы оптимизировать производственные расходы, металлургический комбинат ООО «Так закаляем сталь» решил уменьшить потребление электроэнергии на этапе обработки стали. Нам предстоит построить модель, которая предскажет температуру стали.  \n",
        "   \n",
        "    \n",
        "### Описание этапа обработки   \n",
        "    \n",
        "    \n",
        "Сталь обрабатывают в металлическом ковше вместимостью около 100 тонн. Чтобы ковш выдерживал высокие температуры, изнутри его облицовывают огнеупорным кирпичом. Расплавленную сталь заливают в ковш и подогревают до нужной температуры графитовыми электродами. Они установлены в крышке ковша.  \n",
        "    \n",
        "Из сплава выводится сера (десульфурация), добавлением примесей корректируется химический состав и отбираются пробы. Сталь легируют — изменяют её состав — подавая куски сплава из бункера для сыпучих материалов или проволоку через специальный трайб-аппарат (англ. tribe, «масса»). \n",
        "    \n",
        "Перед тем как первый раз ввести легирующие добавки, измеряют температуру стали и производят её химический анализ. Потом температуру на несколько минут повышают, добавляют легирующие материалы и продувают сплав инертным газом. Затем его перемешивают и снова проводят измерения. Такой цикл повторяется до достижения целевого химического состава и оптимальной температуры плавки.  \n",
        "    \n",
        "Тогда расплавленная сталь отправляется на доводку металла или поступает в машину непрерывной разливки. Оттуда готовый продукт выходит в виде заготовок-слябов (англ. slab, «плита»).  "
      ]
    },
    {
      "cell_type": "markdown",
      "metadata": {
        "id": "If_cVGrsdR2F"
      },
      "source": [
        "## 1. Исследовательский анализ данных"
      ]
    },
    {
      "cell_type": "code",
      "metadata": {
        "id": "fJOqxt4kdR2H"
      },
      "source": [
        "# импорт библиотеки pandas и numpy\n",
        "import pandas as pd \n",
        "import numpy as np  \n",
        "\n",
        "# импорт модуля display\n",
        "from IPython.display import display  \n",
        "\n",
        "# импорт библиотеки mathplot и seaborn\n",
        "import matplotlib.pyplot as plt\n",
        "import seaborn as sns \n",
        "\n",
        "# отключение предупреждений\n",
        "import warnings\n",
        "warnings.filterwarnings('ignore') \n",
        "\n",
        "# импорт mae\n",
        "from sklearn.metrics import mean_absolute_error, make_scorer\n",
        "\n",
        "# импорт скеллера\n",
        "from sklearn.preprocessing import StandardScaler\n",
        "\n",
        "# импорт модели линейной регрессии\n",
        "from sklearn.linear_model import LinearRegression\n",
        "\n",
        "# импорт модели случайного леса\n",
        "from sklearn.ensemble import RandomForestRegressor\n",
        "\n",
        "# импорт модели бустинга\n",
        "from catboost import CatBoostRegressor\n",
        "\n",
        "# импорт сетки гиперпараметров \n",
        "from sklearn.model_selection import train_test_split, GridSearchCV"
      ],
      "execution_count": null,
      "outputs": []
    },
    {
      "cell_type": "markdown",
      "metadata": {
        "id": "r8ug_gAXdR2J"
      },
      "source": [
        "***"
      ]
    },
    {
      "cell_type": "markdown",
      "metadata": {
        "id": "9nIBGbRAdR2K"
      },
      "source": [
        "### `data_arc`"
      ]
    },
    {
      "cell_type": "code",
      "metadata": {
        "id": "SVRR4xYGdR2L",
        "outputId": "fec2612b-3a2d-403b-e9c7-bdb8a00879fc"
      },
      "source": [
        "# чтение файла с данными\n",
        "data_arc = pd.read_csv('/datasets/final_steel/data_arc.csv')\n",
        "\n",
        "# визуальный осмотр  \n",
        "data_arc.head(10)"
      ],
      "execution_count": null,
      "outputs": [
        {
          "output_type": "execute_result",
          "data": {
            "text/html": [
              "<div>\n",
              "<style scoped>\n",
              "    .dataframe tbody tr th:only-of-type {\n",
              "        vertical-align: middle;\n",
              "    }\n",
              "\n",
              "    .dataframe tbody tr th {\n",
              "        vertical-align: top;\n",
              "    }\n",
              "\n",
              "    .dataframe thead th {\n",
              "        text-align: right;\n",
              "    }\n",
              "</style>\n",
              "<table border=\"1\" class=\"dataframe\">\n",
              "  <thead>\n",
              "    <tr style=\"text-align: right;\">\n",
              "      <th></th>\n",
              "      <th>key</th>\n",
              "      <th>Начало нагрева дугой</th>\n",
              "      <th>Конец нагрева дугой</th>\n",
              "      <th>Активная мощность</th>\n",
              "      <th>Реактивная мощность</th>\n",
              "    </tr>\n",
              "  </thead>\n",
              "  <tbody>\n",
              "    <tr>\n",
              "      <td>0</td>\n",
              "      <td>1</td>\n",
              "      <td>2019-05-03 11:02:14</td>\n",
              "      <td>2019-05-03 11:06:02</td>\n",
              "      <td>0.976059</td>\n",
              "      <td>0.687084</td>\n",
              "    </tr>\n",
              "    <tr>\n",
              "      <td>1</td>\n",
              "      <td>1</td>\n",
              "      <td>2019-05-03 11:07:28</td>\n",
              "      <td>2019-05-03 11:10:33</td>\n",
              "      <td>0.805607</td>\n",
              "      <td>0.520285</td>\n",
              "    </tr>\n",
              "    <tr>\n",
              "      <td>2</td>\n",
              "      <td>1</td>\n",
              "      <td>2019-05-03 11:11:44</td>\n",
              "      <td>2019-05-03 11:14:36</td>\n",
              "      <td>0.744363</td>\n",
              "      <td>0.498805</td>\n",
              "    </tr>\n",
              "    <tr>\n",
              "      <td>3</td>\n",
              "      <td>1</td>\n",
              "      <td>2019-05-03 11:18:14</td>\n",
              "      <td>2019-05-03 11:24:19</td>\n",
              "      <td>1.659363</td>\n",
              "      <td>1.062669</td>\n",
              "    </tr>\n",
              "    <tr>\n",
              "      <td>4</td>\n",
              "      <td>1</td>\n",
              "      <td>2019-05-03 11:26:09</td>\n",
              "      <td>2019-05-03 11:28:37</td>\n",
              "      <td>0.692755</td>\n",
              "      <td>0.414397</td>\n",
              "    </tr>\n",
              "    <tr>\n",
              "      <td>5</td>\n",
              "      <td>2</td>\n",
              "      <td>2019-05-03 11:34:14</td>\n",
              "      <td>2019-05-03 11:36:31</td>\n",
              "      <td>0.438063</td>\n",
              "      <td>0.283043</td>\n",
              "    </tr>\n",
              "    <tr>\n",
              "      <td>6</td>\n",
              "      <td>2</td>\n",
              "      <td>2019-05-03 11:38:50</td>\n",
              "      <td>2019-05-03 11:44:28</td>\n",
              "      <td>1.296415</td>\n",
              "      <td>0.892914</td>\n",
              "    </tr>\n",
              "    <tr>\n",
              "      <td>7</td>\n",
              "      <td>2</td>\n",
              "      <td>2019-05-03 11:46:19</td>\n",
              "      <td>2019-05-03 11:48:25</td>\n",
              "      <td>0.490377</td>\n",
              "      <td>0.305281</td>\n",
              "    </tr>\n",
              "    <tr>\n",
              "      <td>8</td>\n",
              "      <td>2</td>\n",
              "      <td>2019-05-03 11:49:48</td>\n",
              "      <td>2019-05-03 11:53:18</td>\n",
              "      <td>0.827743</td>\n",
              "      <td>0.516874</td>\n",
              "    </tr>\n",
              "    <tr>\n",
              "      <td>9</td>\n",
              "      <td>3</td>\n",
              "      <td>2019-05-03 12:06:54</td>\n",
              "      <td>2019-05-03 12:11:34</td>\n",
              "      <td>1.062053</td>\n",
              "      <td>0.671494</td>\n",
              "    </tr>\n",
              "  </tbody>\n",
              "</table>\n",
              "</div>"
            ],
            "text/plain": [
              "   key Начало нагрева дугой  Конец нагрева дугой  Активная мощность  \\\n",
              "0    1  2019-05-03 11:02:14  2019-05-03 11:06:02           0.976059   \n",
              "1    1  2019-05-03 11:07:28  2019-05-03 11:10:33           0.805607   \n",
              "2    1  2019-05-03 11:11:44  2019-05-03 11:14:36           0.744363   \n",
              "3    1  2019-05-03 11:18:14  2019-05-03 11:24:19           1.659363   \n",
              "4    1  2019-05-03 11:26:09  2019-05-03 11:28:37           0.692755   \n",
              "5    2  2019-05-03 11:34:14  2019-05-03 11:36:31           0.438063   \n",
              "6    2  2019-05-03 11:38:50  2019-05-03 11:44:28           1.296415   \n",
              "7    2  2019-05-03 11:46:19  2019-05-03 11:48:25           0.490377   \n",
              "8    2  2019-05-03 11:49:48  2019-05-03 11:53:18           0.827743   \n",
              "9    3  2019-05-03 12:06:54  2019-05-03 12:11:34           1.062053   \n",
              "\n",
              "   Реактивная мощность  \n",
              "0             0.687084  \n",
              "1             0.520285  \n",
              "2             0.498805  \n",
              "3             1.062669  \n",
              "4             0.414397  \n",
              "5             0.283043  \n",
              "6             0.892914  \n",
              "7             0.305281  \n",
              "8             0.516874  \n",
              "9             0.671494  "
            ]
          },
          "metadata": {
            "tags": []
          },
          "execution_count": 2
        }
      ]
    },
    {
      "cell_type": "code",
      "metadata": {
        "id": "mCgzRyktdR2P",
        "outputId": "90c62b2c-4a42-4577-dd42-97e7bc18a7da"
      },
      "source": [
        "# инфо о таблице\n",
        "data_arc.info(), \n",
        "data_arc.describe()"
      ],
      "execution_count": null,
      "outputs": [
        {
          "output_type": "stream",
          "text": [
            "<class 'pandas.core.frame.DataFrame'>\n",
            "RangeIndex: 14876 entries, 0 to 14875\n",
            "Data columns (total 5 columns):\n",
            "key                     14876 non-null int64\n",
            "Начало нагрева дугой    14876 non-null object\n",
            "Конец нагрева дугой     14876 non-null object\n",
            "Активная мощность       14876 non-null float64\n",
            "Реактивная мощность     14876 non-null float64\n",
            "dtypes: float64(2), int64(1), object(2)\n",
            "memory usage: 581.2+ KB\n"
          ],
          "name": "stdout"
        },
        {
          "output_type": "execute_result",
          "data": {
            "text/html": [
              "<div>\n",
              "<style scoped>\n",
              "    .dataframe tbody tr th:only-of-type {\n",
              "        vertical-align: middle;\n",
              "    }\n",
              "\n",
              "    .dataframe tbody tr th {\n",
              "        vertical-align: top;\n",
              "    }\n",
              "\n",
              "    .dataframe thead th {\n",
              "        text-align: right;\n",
              "    }\n",
              "</style>\n",
              "<table border=\"1\" class=\"dataframe\">\n",
              "  <thead>\n",
              "    <tr style=\"text-align: right;\">\n",
              "      <th></th>\n",
              "      <th>key</th>\n",
              "      <th>Активная мощность</th>\n",
              "      <th>Реактивная мощность</th>\n",
              "    </tr>\n",
              "  </thead>\n",
              "  <tbody>\n",
              "    <tr>\n",
              "      <td>count</td>\n",
              "      <td>14876.000000</td>\n",
              "      <td>14876.000000</td>\n",
              "      <td>14876.000000</td>\n",
              "    </tr>\n",
              "    <tr>\n",
              "      <td>mean</td>\n",
              "      <td>1615.220422</td>\n",
              "      <td>0.670441</td>\n",
              "      <td>0.452592</td>\n",
              "    </tr>\n",
              "    <tr>\n",
              "      <td>std</td>\n",
              "      <td>934.571502</td>\n",
              "      <td>0.408159</td>\n",
              "      <td>5.878702</td>\n",
              "    </tr>\n",
              "    <tr>\n",
              "      <td>min</td>\n",
              "      <td>1.000000</td>\n",
              "      <td>0.030002</td>\n",
              "      <td>-715.504924</td>\n",
              "    </tr>\n",
              "    <tr>\n",
              "      <td>25%</td>\n",
              "      <td>806.000000</td>\n",
              "      <td>0.395297</td>\n",
              "      <td>0.290991</td>\n",
              "    </tr>\n",
              "    <tr>\n",
              "      <td>50%</td>\n",
              "      <td>1617.000000</td>\n",
              "      <td>0.555517</td>\n",
              "      <td>0.415962</td>\n",
              "    </tr>\n",
              "    <tr>\n",
              "      <td>75%</td>\n",
              "      <td>2429.000000</td>\n",
              "      <td>0.857034</td>\n",
              "      <td>0.637371</td>\n",
              "    </tr>\n",
              "    <tr>\n",
              "      <td>max</td>\n",
              "      <td>3241.000000</td>\n",
              "      <td>3.731596</td>\n",
              "      <td>2.676388</td>\n",
              "    </tr>\n",
              "  </tbody>\n",
              "</table>\n",
              "</div>"
            ],
            "text/plain": [
              "                key  Активная мощность  Реактивная мощность\n",
              "count  14876.000000       14876.000000         14876.000000\n",
              "mean    1615.220422           0.670441             0.452592\n",
              "std      934.571502           0.408159             5.878702\n",
              "min        1.000000           0.030002          -715.504924\n",
              "25%      806.000000           0.395297             0.290991\n",
              "50%     1617.000000           0.555517             0.415962\n",
              "75%     2429.000000           0.857034             0.637371\n",
              "max     3241.000000           3.731596             2.676388"
            ]
          },
          "metadata": {
            "tags": []
          },
          "execution_count": 3
        }
      ]
    },
    {
      "cell_type": "markdown",
      "metadata": {
        "id": "DDoHXLNndR2R"
      },
      "source": [
        "Нагревание стали в ковше происходит иттерационно, так как номер партии `key` не меняется в течение нескольких циклов. Пропусков в данных мы не наблюдаем. Однако в реактивной мощности есть выброс - избавимся от него."
      ]
    },
    {
      "cell_type": "code",
      "metadata": {
        "id": "zCKZZCyAdR2S"
      },
      "source": [
        "data_arc = data_arc.drop(data_arc[data_arc['Реактивная мощность'] < 0].index)"
      ],
      "execution_count": null,
      "outputs": []
    },
    {
      "cell_type": "markdown",
      "metadata": {
        "id": "wrbiLa79dR2T"
      },
      "source": [
        "Очевидно, что для предсказания конечной темпереатуры в ковше, нужно найти просуммированную затраченную энергию на нагрев в пределах иттерационного процесса. Для этого найдем разность времён и сумму мощностей. "
      ]
    },
    {
      "cell_type": "code",
      "metadata": {
        "id": "34E7jJ3SdR2U"
      },
      "source": [
        "# смена названий столбцов\n",
        "data_arc.columns = ['key', 'begin_time', 'end_time', 'p_power', 'q_power']\n",
        "\n",
        "# перевод и вычисление общего времени\n",
        "data_arc['total_time'] = (pd.to_datetime(data_arc['end_time']) - pd.to_datetime(data_arc['begin_time'])) \\\n",
        "                .dt.total_seconds().astype(int)\n",
        "data_arc = data_arc.drop(['begin_time', 'end_time'], axis=1)"
      ],
      "execution_count": null,
      "outputs": []
    },
    {
      "cell_type": "code",
      "metadata": {
        "id": "Z5YTzbvpdR2V",
        "outputId": "27f704cb-ac8b-49f8-dcad-6bfec6d13db7"
      },
      "source": [
        "# группировка данных\n",
        "data_arc = data_arc.groupby(['key'])['p_power', 'q_power', 'total_time'].sum()\n",
        "\n",
        "data_arc"
      ],
      "execution_count": null,
      "outputs": [
        {
          "output_type": "execute_result",
          "data": {
            "text/html": [
              "<div>\n",
              "<style scoped>\n",
              "    .dataframe tbody tr th:only-of-type {\n",
              "        vertical-align: middle;\n",
              "    }\n",
              "\n",
              "    .dataframe tbody tr th {\n",
              "        vertical-align: top;\n",
              "    }\n",
              "\n",
              "    .dataframe thead th {\n",
              "        text-align: right;\n",
              "    }\n",
              "</style>\n",
              "<table border=\"1\" class=\"dataframe\">\n",
              "  <thead>\n",
              "    <tr style=\"text-align: right;\">\n",
              "      <th></th>\n",
              "      <th>p_power</th>\n",
              "      <th>q_power</th>\n",
              "      <th>total_time</th>\n",
              "    </tr>\n",
              "    <tr>\n",
              "      <th>key</th>\n",
              "      <th></th>\n",
              "      <th></th>\n",
              "      <th></th>\n",
              "    </tr>\n",
              "  </thead>\n",
              "  <tbody>\n",
              "    <tr>\n",
              "      <td>1</td>\n",
              "      <td>4.878147</td>\n",
              "      <td>3.183241</td>\n",
              "      <td>1098</td>\n",
              "    </tr>\n",
              "    <tr>\n",
              "      <td>2</td>\n",
              "      <td>3.052598</td>\n",
              "      <td>1.998112</td>\n",
              "      <td>811</td>\n",
              "    </tr>\n",
              "    <tr>\n",
              "      <td>3</td>\n",
              "      <td>2.525882</td>\n",
              "      <td>1.599076</td>\n",
              "      <td>655</td>\n",
              "    </tr>\n",
              "    <tr>\n",
              "      <td>4</td>\n",
              "      <td>3.209250</td>\n",
              "      <td>2.060298</td>\n",
              "      <td>741</td>\n",
              "    </tr>\n",
              "    <tr>\n",
              "      <td>5</td>\n",
              "      <td>3.347173</td>\n",
              "      <td>2.252643</td>\n",
              "      <td>869</td>\n",
              "    </tr>\n",
              "    <tr>\n",
              "      <td>...</td>\n",
              "      <td>...</td>\n",
              "      <td>...</td>\n",
              "      <td>...</td>\n",
              "    </tr>\n",
              "    <tr>\n",
              "      <td>3237</td>\n",
              "      <td>3.932467</td>\n",
              "      <td>2.828459</td>\n",
              "      <td>909</td>\n",
              "    </tr>\n",
              "    <tr>\n",
              "      <td>3238</td>\n",
              "      <td>2.106529</td>\n",
              "      <td>1.681182</td>\n",
              "      <td>546</td>\n",
              "    </tr>\n",
              "    <tr>\n",
              "      <td>3239</td>\n",
              "      <td>4.666754</td>\n",
              "      <td>3.111617</td>\n",
              "      <td>1216</td>\n",
              "    </tr>\n",
              "    <tr>\n",
              "      <td>3240</td>\n",
              "      <td>2.984083</td>\n",
              "      <td>2.483267</td>\n",
              "      <td>839</td>\n",
              "    </tr>\n",
              "    <tr>\n",
              "      <td>3241</td>\n",
              "      <td>2.471447</td>\n",
              "      <td>1.696199</td>\n",
              "      <td>659</td>\n",
              "    </tr>\n",
              "  </tbody>\n",
              "</table>\n",
              "<p>3214 rows × 3 columns</p>\n",
              "</div>"
            ],
            "text/plain": [
              "       p_power   q_power  total_time\n",
              "key                                 \n",
              "1     4.878147  3.183241        1098\n",
              "2     3.052598  1.998112         811\n",
              "3     2.525882  1.599076         655\n",
              "4     3.209250  2.060298         741\n",
              "5     3.347173  2.252643         869\n",
              "...        ...       ...         ...\n",
              "3237  3.932467  2.828459         909\n",
              "3238  2.106529  1.681182         546\n",
              "3239  4.666754  3.111617        1216\n",
              "3240  2.984083  2.483267         839\n",
              "3241  2.471447  1.696199         659\n",
              "\n",
              "[3214 rows x 3 columns]"
            ]
          },
          "metadata": {
            "tags": []
          },
          "execution_count": 6
        }
      ]
    },
    {
      "cell_type": "markdown",
      "metadata": {
        "id": "Fyr8S9jldR2X"
      },
      "source": [
        "***"
      ]
    },
    {
      "cell_type": "markdown",
      "metadata": {
        "id": "p0CrFxgUdR2Y"
      },
      "source": [
        "### `data_gas`"
      ]
    },
    {
      "cell_type": "code",
      "metadata": {
        "id": "XXj-mQzUdR2Z",
        "outputId": "b00f1ddc-a1c2-4a6a-de59-86cf72eebac5"
      },
      "source": [
        "# чтение файла с данными\n",
        "data_gas = pd.read_csv('/datasets/final_steel/data_gas.csv')\n",
        "\n",
        "# визуальный осмотр  \n",
        "data_gas.head(10)"
      ],
      "execution_count": null,
      "outputs": [
        {
          "output_type": "execute_result",
          "data": {
            "text/html": [
              "<div>\n",
              "<style scoped>\n",
              "    .dataframe tbody tr th:only-of-type {\n",
              "        vertical-align: middle;\n",
              "    }\n",
              "\n",
              "    .dataframe tbody tr th {\n",
              "        vertical-align: top;\n",
              "    }\n",
              "\n",
              "    .dataframe thead th {\n",
              "        text-align: right;\n",
              "    }\n",
              "</style>\n",
              "<table border=\"1\" class=\"dataframe\">\n",
              "  <thead>\n",
              "    <tr style=\"text-align: right;\">\n",
              "      <th></th>\n",
              "      <th>key</th>\n",
              "      <th>Газ 1</th>\n",
              "    </tr>\n",
              "  </thead>\n",
              "  <tbody>\n",
              "    <tr>\n",
              "      <td>0</td>\n",
              "      <td>1</td>\n",
              "      <td>29.749986</td>\n",
              "    </tr>\n",
              "    <tr>\n",
              "      <td>1</td>\n",
              "      <td>2</td>\n",
              "      <td>12.555561</td>\n",
              "    </tr>\n",
              "    <tr>\n",
              "      <td>2</td>\n",
              "      <td>3</td>\n",
              "      <td>28.554793</td>\n",
              "    </tr>\n",
              "    <tr>\n",
              "      <td>3</td>\n",
              "      <td>4</td>\n",
              "      <td>18.841219</td>\n",
              "    </tr>\n",
              "    <tr>\n",
              "      <td>4</td>\n",
              "      <td>5</td>\n",
              "      <td>5.413692</td>\n",
              "    </tr>\n",
              "    <tr>\n",
              "      <td>5</td>\n",
              "      <td>6</td>\n",
              "      <td>11.273392</td>\n",
              "    </tr>\n",
              "    <tr>\n",
              "      <td>6</td>\n",
              "      <td>7</td>\n",
              "      <td>9.836267</td>\n",
              "    </tr>\n",
              "    <tr>\n",
              "      <td>7</td>\n",
              "      <td>8</td>\n",
              "      <td>15.171553</td>\n",
              "    </tr>\n",
              "    <tr>\n",
              "      <td>8</td>\n",
              "      <td>9</td>\n",
              "      <td>8.216623</td>\n",
              "    </tr>\n",
              "    <tr>\n",
              "      <td>9</td>\n",
              "      <td>10</td>\n",
              "      <td>6.529891</td>\n",
              "    </tr>\n",
              "  </tbody>\n",
              "</table>\n",
              "</div>"
            ],
            "text/plain": [
              "   key      Газ 1\n",
              "0    1  29.749986\n",
              "1    2  12.555561\n",
              "2    3  28.554793\n",
              "3    4  18.841219\n",
              "4    5   5.413692\n",
              "5    6  11.273392\n",
              "6    7   9.836267\n",
              "7    8  15.171553\n",
              "8    9   8.216623\n",
              "9   10   6.529891"
            ]
          },
          "metadata": {
            "tags": []
          },
          "execution_count": 7
        }
      ]
    },
    {
      "cell_type": "code",
      "metadata": {
        "id": "q2mVjubFdR2a"
      },
      "source": [
        "# смена названий столбцов\n",
        "data_gas.columns = ['key', 'gas']"
      ],
      "execution_count": null,
      "outputs": []
    },
    {
      "cell_type": "code",
      "metadata": {
        "id": "4WmQ-aV-dR2b",
        "outputId": "5a36286e-47e1-4534-a154-3be49e0721fa"
      },
      "source": [
        "# инфо о таблице\n",
        "data_gas.info(), \n",
        "data_gas.describe()"
      ],
      "execution_count": null,
      "outputs": [
        {
          "output_type": "stream",
          "text": [
            "<class 'pandas.core.frame.DataFrame'>\n",
            "RangeIndex: 3239 entries, 0 to 3238\n",
            "Data columns (total 2 columns):\n",
            "key    3239 non-null int64\n",
            "gas    3239 non-null float64\n",
            "dtypes: float64(1), int64(1)\n",
            "memory usage: 50.7 KB\n"
          ],
          "name": "stdout"
        },
        {
          "output_type": "execute_result",
          "data": {
            "text/html": [
              "<div>\n",
              "<style scoped>\n",
              "    .dataframe tbody tr th:only-of-type {\n",
              "        vertical-align: middle;\n",
              "    }\n",
              "\n",
              "    .dataframe tbody tr th {\n",
              "        vertical-align: top;\n",
              "    }\n",
              "\n",
              "    .dataframe thead th {\n",
              "        text-align: right;\n",
              "    }\n",
              "</style>\n",
              "<table border=\"1\" class=\"dataframe\">\n",
              "  <thead>\n",
              "    <tr style=\"text-align: right;\">\n",
              "      <th></th>\n",
              "      <th>key</th>\n",
              "      <th>gas</th>\n",
              "    </tr>\n",
              "  </thead>\n",
              "  <tbody>\n",
              "    <tr>\n",
              "      <td>count</td>\n",
              "      <td>3239.000000</td>\n",
              "      <td>3239.000000</td>\n",
              "    </tr>\n",
              "    <tr>\n",
              "      <td>mean</td>\n",
              "      <td>1621.861377</td>\n",
              "      <td>11.002062</td>\n",
              "    </tr>\n",
              "    <tr>\n",
              "      <td>std</td>\n",
              "      <td>935.386334</td>\n",
              "      <td>6.220327</td>\n",
              "    </tr>\n",
              "    <tr>\n",
              "      <td>min</td>\n",
              "      <td>1.000000</td>\n",
              "      <td>0.008399</td>\n",
              "    </tr>\n",
              "    <tr>\n",
              "      <td>25%</td>\n",
              "      <td>812.500000</td>\n",
              "      <td>7.043089</td>\n",
              "    </tr>\n",
              "    <tr>\n",
              "      <td>50%</td>\n",
              "      <td>1622.000000</td>\n",
              "      <td>9.836267</td>\n",
              "    </tr>\n",
              "    <tr>\n",
              "      <td>75%</td>\n",
              "      <td>2431.500000</td>\n",
              "      <td>13.769915</td>\n",
              "    </tr>\n",
              "    <tr>\n",
              "      <td>max</td>\n",
              "      <td>3241.000000</td>\n",
              "      <td>77.995040</td>\n",
              "    </tr>\n",
              "  </tbody>\n",
              "</table>\n",
              "</div>"
            ],
            "text/plain": [
              "               key          gas\n",
              "count  3239.000000  3239.000000\n",
              "mean   1621.861377    11.002062\n",
              "std     935.386334     6.220327\n",
              "min       1.000000     0.008399\n",
              "25%     812.500000     7.043089\n",
              "50%    1622.000000     9.836267\n",
              "75%    2431.500000    13.769915\n",
              "max    3241.000000    77.995040"
            ]
          },
          "metadata": {
            "tags": []
          },
          "execution_count": 9
        }
      ]
    },
    {
      "cell_type": "markdown",
      "metadata": {
        "id": "RVcnRkfpdR2c"
      },
      "source": [
        "Пропуски отсутствуют, каких-либо экстремумов мы также не наблюдаем."
      ]
    },
    {
      "cell_type": "markdown",
      "metadata": {
        "id": "msqD5Sv-dR2d"
      },
      "source": [
        "***"
      ]
    },
    {
      "cell_type": "markdown",
      "metadata": {
        "id": "OGBo_6jGdR2d"
      },
      "source": [
        "### `data_temp`"
      ]
    },
    {
      "cell_type": "code",
      "metadata": {
        "id": "1aIcsNNydR2e",
        "outputId": "5bd2adf8-c62f-4cbf-c0ea-bbb285256261"
      },
      "source": [
        "# чтение файла с данными\n",
        "data_temp = pd.read_csv('/datasets/final_steel/data_temp.csv')\n",
        "\n",
        "# визуальный осмотр  \n",
        "data_temp.head(10)"
      ],
      "execution_count": null,
      "outputs": [
        {
          "output_type": "execute_result",
          "data": {
            "text/html": [
              "<div>\n",
              "<style scoped>\n",
              "    .dataframe tbody tr th:only-of-type {\n",
              "        vertical-align: middle;\n",
              "    }\n",
              "\n",
              "    .dataframe tbody tr th {\n",
              "        vertical-align: top;\n",
              "    }\n",
              "\n",
              "    .dataframe thead th {\n",
              "        text-align: right;\n",
              "    }\n",
              "</style>\n",
              "<table border=\"1\" class=\"dataframe\">\n",
              "  <thead>\n",
              "    <tr style=\"text-align: right;\">\n",
              "      <th></th>\n",
              "      <th>key</th>\n",
              "      <th>Время замера</th>\n",
              "      <th>Температура</th>\n",
              "    </tr>\n",
              "  </thead>\n",
              "  <tbody>\n",
              "    <tr>\n",
              "      <td>0</td>\n",
              "      <td>1</td>\n",
              "      <td>2019-05-03 11:16:18</td>\n",
              "      <td>1571.0</td>\n",
              "    </tr>\n",
              "    <tr>\n",
              "      <td>1</td>\n",
              "      <td>1</td>\n",
              "      <td>2019-05-03 11:25:53</td>\n",
              "      <td>1604.0</td>\n",
              "    </tr>\n",
              "    <tr>\n",
              "      <td>2</td>\n",
              "      <td>1</td>\n",
              "      <td>2019-05-03 11:29:11</td>\n",
              "      <td>1618.0</td>\n",
              "    </tr>\n",
              "    <tr>\n",
              "      <td>3</td>\n",
              "      <td>1</td>\n",
              "      <td>2019-05-03 11:30:01</td>\n",
              "      <td>1601.0</td>\n",
              "    </tr>\n",
              "    <tr>\n",
              "      <td>4</td>\n",
              "      <td>1</td>\n",
              "      <td>2019-05-03 11:30:39</td>\n",
              "      <td>1613.0</td>\n",
              "    </tr>\n",
              "    <tr>\n",
              "      <td>5</td>\n",
              "      <td>2</td>\n",
              "      <td>2019-05-03 11:37:27</td>\n",
              "      <td>1581.0</td>\n",
              "    </tr>\n",
              "    <tr>\n",
              "      <td>6</td>\n",
              "      <td>2</td>\n",
              "      <td>2019-05-03 11:38:00</td>\n",
              "      <td>1577.0</td>\n",
              "    </tr>\n",
              "    <tr>\n",
              "      <td>7</td>\n",
              "      <td>2</td>\n",
              "      <td>2019-05-03 11:49:38</td>\n",
              "      <td>1589.0</td>\n",
              "    </tr>\n",
              "    <tr>\n",
              "      <td>8</td>\n",
              "      <td>2</td>\n",
              "      <td>2019-05-03 11:55:50</td>\n",
              "      <td>1604.0</td>\n",
              "    </tr>\n",
              "    <tr>\n",
              "      <td>9</td>\n",
              "      <td>2</td>\n",
              "      <td>2019-05-03 11:58:24</td>\n",
              "      <td>1608.0</td>\n",
              "    </tr>\n",
              "  </tbody>\n",
              "</table>\n",
              "</div>"
            ],
            "text/plain": [
              "   key         Время замера  Температура\n",
              "0    1  2019-05-03 11:16:18       1571.0\n",
              "1    1  2019-05-03 11:25:53       1604.0\n",
              "2    1  2019-05-03 11:29:11       1618.0\n",
              "3    1  2019-05-03 11:30:01       1601.0\n",
              "4    1  2019-05-03 11:30:39       1613.0\n",
              "5    2  2019-05-03 11:37:27       1581.0\n",
              "6    2  2019-05-03 11:38:00       1577.0\n",
              "7    2  2019-05-03 11:49:38       1589.0\n",
              "8    2  2019-05-03 11:55:50       1604.0\n",
              "9    2  2019-05-03 11:58:24       1608.0"
            ]
          },
          "metadata": {
            "tags": []
          },
          "execution_count": 10
        }
      ]
    },
    {
      "cell_type": "code",
      "metadata": {
        "id": "3tzpQPW7dR2f"
      },
      "source": [
        "# смена названий столбцов\n",
        "data_temp.columns = ['key', 'time', 'temperature']"
      ],
      "execution_count": null,
      "outputs": []
    },
    {
      "cell_type": "code",
      "metadata": {
        "id": "VrSAp1BSdR2g",
        "outputId": "9425a5f1-34a7-45c6-a8bd-0677f0ef6671"
      },
      "source": [
        "# инфо о таблице\n",
        "data_temp.info(), \n",
        "data_temp.describe()"
      ],
      "execution_count": null,
      "outputs": [
        {
          "output_type": "stream",
          "text": [
            "<class 'pandas.core.frame.DataFrame'>\n",
            "RangeIndex: 15907 entries, 0 to 15906\n",
            "Data columns (total 3 columns):\n",
            "key            15907 non-null int64\n",
            "time           15907 non-null object\n",
            "temperature    13006 non-null float64\n",
            "dtypes: float64(1), int64(1), object(1)\n",
            "memory usage: 372.9+ KB\n"
          ],
          "name": "stdout"
        },
        {
          "output_type": "execute_result",
          "data": {
            "text/html": [
              "<div>\n",
              "<style scoped>\n",
              "    .dataframe tbody tr th:only-of-type {\n",
              "        vertical-align: middle;\n",
              "    }\n",
              "\n",
              "    .dataframe tbody tr th {\n",
              "        vertical-align: top;\n",
              "    }\n",
              "\n",
              "    .dataframe thead th {\n",
              "        text-align: right;\n",
              "    }\n",
              "</style>\n",
              "<table border=\"1\" class=\"dataframe\">\n",
              "  <thead>\n",
              "    <tr style=\"text-align: right;\">\n",
              "      <th></th>\n",
              "      <th>key</th>\n",
              "      <th>temperature</th>\n",
              "    </tr>\n",
              "  </thead>\n",
              "  <tbody>\n",
              "    <tr>\n",
              "      <td>count</td>\n",
              "      <td>15907.000000</td>\n",
              "      <td>13006.000000</td>\n",
              "    </tr>\n",
              "    <tr>\n",
              "      <td>mean</td>\n",
              "      <td>1607.880870</td>\n",
              "      <td>1591.840920</td>\n",
              "    </tr>\n",
              "    <tr>\n",
              "      <td>std</td>\n",
              "      <td>942.212073</td>\n",
              "      <td>21.375851</td>\n",
              "    </tr>\n",
              "    <tr>\n",
              "      <td>min</td>\n",
              "      <td>1.000000</td>\n",
              "      <td>1191.000000</td>\n",
              "    </tr>\n",
              "    <tr>\n",
              "      <td>25%</td>\n",
              "      <td>790.000000</td>\n",
              "      <td>1581.000000</td>\n",
              "    </tr>\n",
              "    <tr>\n",
              "      <td>50%</td>\n",
              "      <td>1618.000000</td>\n",
              "      <td>1591.000000</td>\n",
              "    </tr>\n",
              "    <tr>\n",
              "      <td>75%</td>\n",
              "      <td>2427.000000</td>\n",
              "      <td>1601.000000</td>\n",
              "    </tr>\n",
              "    <tr>\n",
              "      <td>max</td>\n",
              "      <td>3241.000000</td>\n",
              "      <td>1705.000000</td>\n",
              "    </tr>\n",
              "  </tbody>\n",
              "</table>\n",
              "</div>"
            ],
            "text/plain": [
              "                key   temperature\n",
              "count  15907.000000  13006.000000\n",
              "mean    1607.880870   1591.840920\n",
              "std      942.212073     21.375851\n",
              "min        1.000000   1191.000000\n",
              "25%      790.000000   1581.000000\n",
              "50%     1618.000000   1591.000000\n",
              "75%     2427.000000   1601.000000\n",
              "max     3241.000000   1705.000000"
            ]
          },
          "metadata": {
            "tags": []
          },
          "execution_count": 12
        }
      ]
    },
    {
      "cell_type": "markdown",
      "metadata": {
        "id": "w8QiRXsEdR2h"
      },
      "source": [
        "Выбросов в температуре мы не наблюдаем - всё похоже на правду. Есть пропуски внутри каких-то иттераций измерений температур. Посмотрим потом, что можно с ними сделать. Так как в роли таргета у нас выступает последняя измеренная температура - вычленим её. Заодно в качестве одного из признака выделим самую первую температуру."
      ]
    },
    {
      "cell_type": "code",
      "metadata": {
        "id": "Qcy5OV8KdR2i"
      },
      "source": [
        "data_temp['time'] = pd.to_datetime(data_temp['time'])"
      ],
      "execution_count": null,
      "outputs": []
    },
    {
      "cell_type": "code",
      "metadata": {
        "id": "v1u0PGhgdR2i",
        "outputId": "822f7eb6-387f-4ed0-da04-4f961f7b938c"
      },
      "source": [
        "# выделение признака с первой температурой на каждой иттерации\n",
        "first_temp = data_temp.pivot_table(index=['key'], values=['temperature'], aggfunc='first')\n",
        "first_temp.columns = ['first_temp']\n",
        "first_temp"
      ],
      "execution_count": null,
      "outputs": [
        {
          "output_type": "execute_result",
          "data": {
            "text/html": [
              "<div>\n",
              "<style scoped>\n",
              "    .dataframe tbody tr th:only-of-type {\n",
              "        vertical-align: middle;\n",
              "    }\n",
              "\n",
              "    .dataframe tbody tr th {\n",
              "        vertical-align: top;\n",
              "    }\n",
              "\n",
              "    .dataframe thead th {\n",
              "        text-align: right;\n",
              "    }\n",
              "</style>\n",
              "<table border=\"1\" class=\"dataframe\">\n",
              "  <thead>\n",
              "    <tr style=\"text-align: right;\">\n",
              "      <th></th>\n",
              "      <th>first_temp</th>\n",
              "    </tr>\n",
              "    <tr>\n",
              "      <th>key</th>\n",
              "      <th></th>\n",
              "    </tr>\n",
              "  </thead>\n",
              "  <tbody>\n",
              "    <tr>\n",
              "      <td>1</td>\n",
              "      <td>1571.0</td>\n",
              "    </tr>\n",
              "    <tr>\n",
              "      <td>2</td>\n",
              "      <td>1581.0</td>\n",
              "    </tr>\n",
              "    <tr>\n",
              "      <td>3</td>\n",
              "      <td>1596.0</td>\n",
              "    </tr>\n",
              "    <tr>\n",
              "      <td>4</td>\n",
              "      <td>1601.0</td>\n",
              "    </tr>\n",
              "    <tr>\n",
              "      <td>5</td>\n",
              "      <td>1576.0</td>\n",
              "    </tr>\n",
              "    <tr>\n",
              "      <td>...</td>\n",
              "      <td>...</td>\n",
              "    </tr>\n",
              "    <tr>\n",
              "      <td>3237</td>\n",
              "      <td>1569.0</td>\n",
              "    </tr>\n",
              "    <tr>\n",
              "      <td>3238</td>\n",
              "      <td>1584.0</td>\n",
              "    </tr>\n",
              "    <tr>\n",
              "      <td>3239</td>\n",
              "      <td>1598.0</td>\n",
              "    </tr>\n",
              "    <tr>\n",
              "      <td>3240</td>\n",
              "      <td>1617.0</td>\n",
              "    </tr>\n",
              "    <tr>\n",
              "      <td>3241</td>\n",
              "      <td>1586.0</td>\n",
              "    </tr>\n",
              "  </tbody>\n",
              "</table>\n",
              "<p>3216 rows × 1 columns</p>\n",
              "</div>"
            ],
            "text/plain": [
              "      first_temp\n",
              "key             \n",
              "1         1571.0\n",
              "2         1581.0\n",
              "3         1596.0\n",
              "4         1601.0\n",
              "5         1576.0\n",
              "...          ...\n",
              "3237      1569.0\n",
              "3238      1584.0\n",
              "3239      1598.0\n",
              "3240      1617.0\n",
              "3241      1586.0\n",
              "\n",
              "[3216 rows x 1 columns]"
            ]
          },
          "metadata": {
            "tags": []
          },
          "execution_count": 14
        }
      ]
    },
    {
      "cell_type": "code",
      "metadata": {
        "id": "fFRMXLIEdR2j",
        "outputId": "61678256-94ef-4251-cdf4-25103559a178"
      },
      "source": [
        "# выделение таргета\n",
        "target_temp = data_temp.pivot_table(index=['key'], values=['temperature'], aggfunc='last')\n",
        "target_temp.columns = ['target_temp']\n",
        "target_temp"
      ],
      "execution_count": null,
      "outputs": [
        {
          "output_type": "execute_result",
          "data": {
            "text/html": [
              "<div>\n",
              "<style scoped>\n",
              "    .dataframe tbody tr th:only-of-type {\n",
              "        vertical-align: middle;\n",
              "    }\n",
              "\n",
              "    .dataframe tbody tr th {\n",
              "        vertical-align: top;\n",
              "    }\n",
              "\n",
              "    .dataframe thead th {\n",
              "        text-align: right;\n",
              "    }\n",
              "</style>\n",
              "<table border=\"1\" class=\"dataframe\">\n",
              "  <thead>\n",
              "    <tr style=\"text-align: right;\">\n",
              "      <th></th>\n",
              "      <th>target_temp</th>\n",
              "    </tr>\n",
              "    <tr>\n",
              "      <th>key</th>\n",
              "      <th></th>\n",
              "    </tr>\n",
              "  </thead>\n",
              "  <tbody>\n",
              "    <tr>\n",
              "      <td>1</td>\n",
              "      <td>1613.0</td>\n",
              "    </tr>\n",
              "    <tr>\n",
              "      <td>2</td>\n",
              "      <td>1602.0</td>\n",
              "    </tr>\n",
              "    <tr>\n",
              "      <td>3</td>\n",
              "      <td>1599.0</td>\n",
              "    </tr>\n",
              "    <tr>\n",
              "      <td>4</td>\n",
              "      <td>1625.0</td>\n",
              "    </tr>\n",
              "    <tr>\n",
              "      <td>5</td>\n",
              "      <td>1602.0</td>\n",
              "    </tr>\n",
              "    <tr>\n",
              "      <td>...</td>\n",
              "      <td>...</td>\n",
              "    </tr>\n",
              "    <tr>\n",
              "      <td>3237</td>\n",
              "      <td>1569.0</td>\n",
              "    </tr>\n",
              "    <tr>\n",
              "      <td>3238</td>\n",
              "      <td>1584.0</td>\n",
              "    </tr>\n",
              "    <tr>\n",
              "      <td>3239</td>\n",
              "      <td>1598.0</td>\n",
              "    </tr>\n",
              "    <tr>\n",
              "      <td>3240</td>\n",
              "      <td>1617.0</td>\n",
              "    </tr>\n",
              "    <tr>\n",
              "      <td>3241</td>\n",
              "      <td>1586.0</td>\n",
              "    </tr>\n",
              "  </tbody>\n",
              "</table>\n",
              "<p>3216 rows × 1 columns</p>\n",
              "</div>"
            ],
            "text/plain": [
              "      target_temp\n",
              "key              \n",
              "1          1613.0\n",
              "2          1602.0\n",
              "3          1599.0\n",
              "4          1625.0\n",
              "5          1602.0\n",
              "...           ...\n",
              "3237       1569.0\n",
              "3238       1584.0\n",
              "3239       1598.0\n",
              "3240       1617.0\n",
              "3241       1586.0\n",
              "\n",
              "[3216 rows x 1 columns]"
            ]
          },
          "metadata": {
            "tags": []
          },
          "execution_count": 15
        }
      ]
    },
    {
      "cell_type": "markdown",
      "metadata": {
        "id": "4ZUfiyBadR2k"
      },
      "source": [
        "***"
      ]
    },
    {
      "cell_type": "markdown",
      "metadata": {
        "id": "_rrnlLYJdR2l"
      },
      "source": [
        "### `data_bulk` "
      ]
    },
    {
      "cell_type": "code",
      "metadata": {
        "id": "luQ0-FhhdR2m",
        "outputId": "9a3e9d0d-2724-49ff-9f61-f2f9b78adae4"
      },
      "source": [
        "# чтение файла с данными\n",
        "data_bulk = pd.read_csv('/datasets/final_steel/data_bulk.csv')\n",
        "\n",
        "# визуальный осмотр  \n",
        "data_bulk.head(10)"
      ],
      "execution_count": null,
      "outputs": [
        {
          "output_type": "execute_result",
          "data": {
            "text/html": [
              "<div>\n",
              "<style scoped>\n",
              "    .dataframe tbody tr th:only-of-type {\n",
              "        vertical-align: middle;\n",
              "    }\n",
              "\n",
              "    .dataframe tbody tr th {\n",
              "        vertical-align: top;\n",
              "    }\n",
              "\n",
              "    .dataframe thead th {\n",
              "        text-align: right;\n",
              "    }\n",
              "</style>\n",
              "<table border=\"1\" class=\"dataframe\">\n",
              "  <thead>\n",
              "    <tr style=\"text-align: right;\">\n",
              "      <th></th>\n",
              "      <th>key</th>\n",
              "      <th>Bulk 1</th>\n",
              "      <th>Bulk 2</th>\n",
              "      <th>Bulk 3</th>\n",
              "      <th>Bulk 4</th>\n",
              "      <th>Bulk 5</th>\n",
              "      <th>Bulk 6</th>\n",
              "      <th>Bulk 7</th>\n",
              "      <th>Bulk 8</th>\n",
              "      <th>Bulk 9</th>\n",
              "      <th>Bulk 10</th>\n",
              "      <th>Bulk 11</th>\n",
              "      <th>Bulk 12</th>\n",
              "      <th>Bulk 13</th>\n",
              "      <th>Bulk 14</th>\n",
              "      <th>Bulk 15</th>\n",
              "    </tr>\n",
              "  </thead>\n",
              "  <tbody>\n",
              "    <tr>\n",
              "      <td>0</td>\n",
              "      <td>1</td>\n",
              "      <td>NaN</td>\n",
              "      <td>NaN</td>\n",
              "      <td>NaN</td>\n",
              "      <td>43.0</td>\n",
              "      <td>NaN</td>\n",
              "      <td>NaN</td>\n",
              "      <td>NaN</td>\n",
              "      <td>NaN</td>\n",
              "      <td>NaN</td>\n",
              "      <td>NaN</td>\n",
              "      <td>NaN</td>\n",
              "      <td>206.0</td>\n",
              "      <td>NaN</td>\n",
              "      <td>150.0</td>\n",
              "      <td>154.0</td>\n",
              "    </tr>\n",
              "    <tr>\n",
              "      <td>1</td>\n",
              "      <td>2</td>\n",
              "      <td>NaN</td>\n",
              "      <td>NaN</td>\n",
              "      <td>NaN</td>\n",
              "      <td>73.0</td>\n",
              "      <td>NaN</td>\n",
              "      <td>NaN</td>\n",
              "      <td>NaN</td>\n",
              "      <td>NaN</td>\n",
              "      <td>NaN</td>\n",
              "      <td>NaN</td>\n",
              "      <td>NaN</td>\n",
              "      <td>206.0</td>\n",
              "      <td>NaN</td>\n",
              "      <td>149.0</td>\n",
              "      <td>154.0</td>\n",
              "    </tr>\n",
              "    <tr>\n",
              "      <td>2</td>\n",
              "      <td>3</td>\n",
              "      <td>NaN</td>\n",
              "      <td>NaN</td>\n",
              "      <td>NaN</td>\n",
              "      <td>34.0</td>\n",
              "      <td>NaN</td>\n",
              "      <td>NaN</td>\n",
              "      <td>NaN</td>\n",
              "      <td>NaN</td>\n",
              "      <td>NaN</td>\n",
              "      <td>NaN</td>\n",
              "      <td>NaN</td>\n",
              "      <td>205.0</td>\n",
              "      <td>NaN</td>\n",
              "      <td>152.0</td>\n",
              "      <td>153.0</td>\n",
              "    </tr>\n",
              "    <tr>\n",
              "      <td>3</td>\n",
              "      <td>4</td>\n",
              "      <td>NaN</td>\n",
              "      <td>NaN</td>\n",
              "      <td>NaN</td>\n",
              "      <td>81.0</td>\n",
              "      <td>NaN</td>\n",
              "      <td>NaN</td>\n",
              "      <td>NaN</td>\n",
              "      <td>NaN</td>\n",
              "      <td>NaN</td>\n",
              "      <td>NaN</td>\n",
              "      <td>NaN</td>\n",
              "      <td>207.0</td>\n",
              "      <td>NaN</td>\n",
              "      <td>153.0</td>\n",
              "      <td>154.0</td>\n",
              "    </tr>\n",
              "    <tr>\n",
              "      <td>4</td>\n",
              "      <td>5</td>\n",
              "      <td>NaN</td>\n",
              "      <td>NaN</td>\n",
              "      <td>NaN</td>\n",
              "      <td>78.0</td>\n",
              "      <td>NaN</td>\n",
              "      <td>NaN</td>\n",
              "      <td>NaN</td>\n",
              "      <td>NaN</td>\n",
              "      <td>NaN</td>\n",
              "      <td>NaN</td>\n",
              "      <td>NaN</td>\n",
              "      <td>203.0</td>\n",
              "      <td>NaN</td>\n",
              "      <td>151.0</td>\n",
              "      <td>152.0</td>\n",
              "    </tr>\n",
              "    <tr>\n",
              "      <td>5</td>\n",
              "      <td>6</td>\n",
              "      <td>NaN</td>\n",
              "      <td>NaN</td>\n",
              "      <td>NaN</td>\n",
              "      <td>117.0</td>\n",
              "      <td>NaN</td>\n",
              "      <td>NaN</td>\n",
              "      <td>NaN</td>\n",
              "      <td>NaN</td>\n",
              "      <td>NaN</td>\n",
              "      <td>NaN</td>\n",
              "      <td>NaN</td>\n",
              "      <td>204.0</td>\n",
              "      <td>NaN</td>\n",
              "      <td>201.0</td>\n",
              "      <td>154.0</td>\n",
              "    </tr>\n",
              "    <tr>\n",
              "      <td>6</td>\n",
              "      <td>7</td>\n",
              "      <td>NaN</td>\n",
              "      <td>NaN</td>\n",
              "      <td>NaN</td>\n",
              "      <td>117.0</td>\n",
              "      <td>NaN</td>\n",
              "      <td>NaN</td>\n",
              "      <td>NaN</td>\n",
              "      <td>NaN</td>\n",
              "      <td>NaN</td>\n",
              "      <td>NaN</td>\n",
              "      <td>NaN</td>\n",
              "      <td>204.0</td>\n",
              "      <td>NaN</td>\n",
              "      <td>152.0</td>\n",
              "      <td>154.0</td>\n",
              "    </tr>\n",
              "    <tr>\n",
              "      <td>7</td>\n",
              "      <td>8</td>\n",
              "      <td>NaN</td>\n",
              "      <td>NaN</td>\n",
              "      <td>NaN</td>\n",
              "      <td>99.0</td>\n",
              "      <td>NaN</td>\n",
              "      <td>NaN</td>\n",
              "      <td>NaN</td>\n",
              "      <td>NaN</td>\n",
              "      <td>NaN</td>\n",
              "      <td>NaN</td>\n",
              "      <td>NaN</td>\n",
              "      <td>410.0</td>\n",
              "      <td>NaN</td>\n",
              "      <td>252.0</td>\n",
              "      <td>153.0</td>\n",
              "    </tr>\n",
              "    <tr>\n",
              "      <td>8</td>\n",
              "      <td>9</td>\n",
              "      <td>NaN</td>\n",
              "      <td>NaN</td>\n",
              "      <td>NaN</td>\n",
              "      <td>117.0</td>\n",
              "      <td>NaN</td>\n",
              "      <td>NaN</td>\n",
              "      <td>NaN</td>\n",
              "      <td>NaN</td>\n",
              "      <td>NaN</td>\n",
              "      <td>NaN</td>\n",
              "      <td>NaN</td>\n",
              "      <td>107.0</td>\n",
              "      <td>NaN</td>\n",
              "      <td>99.0</td>\n",
              "      <td>203.0</td>\n",
              "    </tr>\n",
              "    <tr>\n",
              "      <td>9</td>\n",
              "      <td>10</td>\n",
              "      <td>NaN</td>\n",
              "      <td>NaN</td>\n",
              "      <td>NaN</td>\n",
              "      <td>NaN</td>\n",
              "      <td>NaN</td>\n",
              "      <td>NaN</td>\n",
              "      <td>NaN</td>\n",
              "      <td>NaN</td>\n",
              "      <td>NaN</td>\n",
              "      <td>NaN</td>\n",
              "      <td>NaN</td>\n",
              "      <td>203.0</td>\n",
              "      <td>NaN</td>\n",
              "      <td>102.0</td>\n",
              "      <td>204.0</td>\n",
              "    </tr>\n",
              "  </tbody>\n",
              "</table>\n",
              "</div>"
            ],
            "text/plain": [
              "   key  Bulk 1  Bulk 2  Bulk 3  Bulk 4  Bulk 5  Bulk 6  Bulk 7  Bulk 8  \\\n",
              "0    1     NaN     NaN     NaN    43.0     NaN     NaN     NaN     NaN   \n",
              "1    2     NaN     NaN     NaN    73.0     NaN     NaN     NaN     NaN   \n",
              "2    3     NaN     NaN     NaN    34.0     NaN     NaN     NaN     NaN   \n",
              "3    4     NaN     NaN     NaN    81.0     NaN     NaN     NaN     NaN   \n",
              "4    5     NaN     NaN     NaN    78.0     NaN     NaN     NaN     NaN   \n",
              "5    6     NaN     NaN     NaN   117.0     NaN     NaN     NaN     NaN   \n",
              "6    7     NaN     NaN     NaN   117.0     NaN     NaN     NaN     NaN   \n",
              "7    8     NaN     NaN     NaN    99.0     NaN     NaN     NaN     NaN   \n",
              "8    9     NaN     NaN     NaN   117.0     NaN     NaN     NaN     NaN   \n",
              "9   10     NaN     NaN     NaN     NaN     NaN     NaN     NaN     NaN   \n",
              "\n",
              "   Bulk 9  Bulk 10  Bulk 11  Bulk 12  Bulk 13  Bulk 14  Bulk 15  \n",
              "0     NaN      NaN      NaN    206.0      NaN    150.0    154.0  \n",
              "1     NaN      NaN      NaN    206.0      NaN    149.0    154.0  \n",
              "2     NaN      NaN      NaN    205.0      NaN    152.0    153.0  \n",
              "3     NaN      NaN      NaN    207.0      NaN    153.0    154.0  \n",
              "4     NaN      NaN      NaN    203.0      NaN    151.0    152.0  \n",
              "5     NaN      NaN      NaN    204.0      NaN    201.0    154.0  \n",
              "6     NaN      NaN      NaN    204.0      NaN    152.0    154.0  \n",
              "7     NaN      NaN      NaN    410.0      NaN    252.0    153.0  \n",
              "8     NaN      NaN      NaN    107.0      NaN     99.0    203.0  \n",
              "9     NaN      NaN      NaN    203.0      NaN    102.0    204.0  "
            ]
          },
          "metadata": {
            "tags": []
          },
          "execution_count": 16
        }
      ]
    },
    {
      "cell_type": "code",
      "metadata": {
        "id": "iu_x1RKKdR2n",
        "outputId": "0f563987-77a2-4cef-830c-ff8ce80256ad"
      },
      "source": [
        "# инфо о таблице\n",
        "data_bulk.info(), \n",
        "data_bulk.describe()"
      ],
      "execution_count": null,
      "outputs": [
        {
          "output_type": "stream",
          "text": [
            "<class 'pandas.core.frame.DataFrame'>\n",
            "RangeIndex: 3129 entries, 0 to 3128\n",
            "Data columns (total 16 columns):\n",
            "key        3129 non-null int64\n",
            "Bulk 1     252 non-null float64\n",
            "Bulk 2     22 non-null float64\n",
            "Bulk 3     1298 non-null float64\n",
            "Bulk 4     1014 non-null float64\n",
            "Bulk 5     77 non-null float64\n",
            "Bulk 6     576 non-null float64\n",
            "Bulk 7     25 non-null float64\n",
            "Bulk 8     1 non-null float64\n",
            "Bulk 9     19 non-null float64\n",
            "Bulk 10    176 non-null float64\n",
            "Bulk 11    177 non-null float64\n",
            "Bulk 12    2450 non-null float64\n",
            "Bulk 13    18 non-null float64\n",
            "Bulk 14    2806 non-null float64\n",
            "Bulk 15    2248 non-null float64\n",
            "dtypes: float64(15), int64(1)\n",
            "memory usage: 391.2 KB\n"
          ],
          "name": "stdout"
        },
        {
          "output_type": "execute_result",
          "data": {
            "text/html": [
              "<div>\n",
              "<style scoped>\n",
              "    .dataframe tbody tr th:only-of-type {\n",
              "        vertical-align: middle;\n",
              "    }\n",
              "\n",
              "    .dataframe tbody tr th {\n",
              "        vertical-align: top;\n",
              "    }\n",
              "\n",
              "    .dataframe thead th {\n",
              "        text-align: right;\n",
              "    }\n",
              "</style>\n",
              "<table border=\"1\" class=\"dataframe\">\n",
              "  <thead>\n",
              "    <tr style=\"text-align: right;\">\n",
              "      <th></th>\n",
              "      <th>key</th>\n",
              "      <th>Bulk 1</th>\n",
              "      <th>Bulk 2</th>\n",
              "      <th>Bulk 3</th>\n",
              "      <th>Bulk 4</th>\n",
              "      <th>Bulk 5</th>\n",
              "      <th>Bulk 6</th>\n",
              "      <th>Bulk 7</th>\n",
              "      <th>Bulk 8</th>\n",
              "      <th>Bulk 9</th>\n",
              "      <th>Bulk 10</th>\n",
              "      <th>Bulk 11</th>\n",
              "      <th>Bulk 12</th>\n",
              "      <th>Bulk 13</th>\n",
              "      <th>Bulk 14</th>\n",
              "      <th>Bulk 15</th>\n",
              "    </tr>\n",
              "  </thead>\n",
              "  <tbody>\n",
              "    <tr>\n",
              "      <td>count</td>\n",
              "      <td>3129.000000</td>\n",
              "      <td>252.000000</td>\n",
              "      <td>22.000000</td>\n",
              "      <td>1298.000000</td>\n",
              "      <td>1014.000000</td>\n",
              "      <td>77.000000</td>\n",
              "      <td>576.000000</td>\n",
              "      <td>25.000000</td>\n",
              "      <td>1.0</td>\n",
              "      <td>19.000000</td>\n",
              "      <td>176.000000</td>\n",
              "      <td>177.000000</td>\n",
              "      <td>2450.000000</td>\n",
              "      <td>18.000000</td>\n",
              "      <td>2806.000000</td>\n",
              "      <td>2248.000000</td>\n",
              "    </tr>\n",
              "    <tr>\n",
              "      <td>mean</td>\n",
              "      <td>1624.383509</td>\n",
              "      <td>39.242063</td>\n",
              "      <td>253.045455</td>\n",
              "      <td>113.879045</td>\n",
              "      <td>104.394477</td>\n",
              "      <td>107.025974</td>\n",
              "      <td>118.925347</td>\n",
              "      <td>305.600000</td>\n",
              "      <td>49.0</td>\n",
              "      <td>76.315789</td>\n",
              "      <td>83.284091</td>\n",
              "      <td>76.819209</td>\n",
              "      <td>260.471020</td>\n",
              "      <td>181.111111</td>\n",
              "      <td>170.284747</td>\n",
              "      <td>160.513345</td>\n",
              "    </tr>\n",
              "    <tr>\n",
              "      <td>std</td>\n",
              "      <td>933.337642</td>\n",
              "      <td>18.277654</td>\n",
              "      <td>21.180578</td>\n",
              "      <td>75.483494</td>\n",
              "      <td>48.184126</td>\n",
              "      <td>81.790646</td>\n",
              "      <td>72.057776</td>\n",
              "      <td>191.022904</td>\n",
              "      <td>NaN</td>\n",
              "      <td>21.720581</td>\n",
              "      <td>26.060347</td>\n",
              "      <td>59.655365</td>\n",
              "      <td>120.649269</td>\n",
              "      <td>46.088009</td>\n",
              "      <td>65.868652</td>\n",
              "      <td>51.765319</td>\n",
              "    </tr>\n",
              "    <tr>\n",
              "      <td>min</td>\n",
              "      <td>1.000000</td>\n",
              "      <td>10.000000</td>\n",
              "      <td>228.000000</td>\n",
              "      <td>6.000000</td>\n",
              "      <td>12.000000</td>\n",
              "      <td>11.000000</td>\n",
              "      <td>17.000000</td>\n",
              "      <td>47.000000</td>\n",
              "      <td>49.0</td>\n",
              "      <td>63.000000</td>\n",
              "      <td>24.000000</td>\n",
              "      <td>8.000000</td>\n",
              "      <td>53.000000</td>\n",
              "      <td>151.000000</td>\n",
              "      <td>16.000000</td>\n",
              "      <td>1.000000</td>\n",
              "    </tr>\n",
              "    <tr>\n",
              "      <td>25%</td>\n",
              "      <td>816.000000</td>\n",
              "      <td>27.000000</td>\n",
              "      <td>242.000000</td>\n",
              "      <td>58.000000</td>\n",
              "      <td>72.000000</td>\n",
              "      <td>70.000000</td>\n",
              "      <td>69.750000</td>\n",
              "      <td>155.000000</td>\n",
              "      <td>49.0</td>\n",
              "      <td>66.000000</td>\n",
              "      <td>64.000000</td>\n",
              "      <td>25.000000</td>\n",
              "      <td>204.000000</td>\n",
              "      <td>153.250000</td>\n",
              "      <td>119.000000</td>\n",
              "      <td>105.000000</td>\n",
              "    </tr>\n",
              "    <tr>\n",
              "      <td>50%</td>\n",
              "      <td>1622.000000</td>\n",
              "      <td>31.000000</td>\n",
              "      <td>251.500000</td>\n",
              "      <td>97.500000</td>\n",
              "      <td>102.000000</td>\n",
              "      <td>86.000000</td>\n",
              "      <td>100.000000</td>\n",
              "      <td>298.000000</td>\n",
              "      <td>49.0</td>\n",
              "      <td>68.000000</td>\n",
              "      <td>86.500000</td>\n",
              "      <td>64.000000</td>\n",
              "      <td>208.000000</td>\n",
              "      <td>155.500000</td>\n",
              "      <td>151.000000</td>\n",
              "      <td>160.000000</td>\n",
              "    </tr>\n",
              "    <tr>\n",
              "      <td>75%</td>\n",
              "      <td>2431.000000</td>\n",
              "      <td>46.000000</td>\n",
              "      <td>257.750000</td>\n",
              "      <td>152.000000</td>\n",
              "      <td>133.000000</td>\n",
              "      <td>132.000000</td>\n",
              "      <td>157.000000</td>\n",
              "      <td>406.000000</td>\n",
              "      <td>49.0</td>\n",
              "      <td>70.500000</td>\n",
              "      <td>102.000000</td>\n",
              "      <td>106.000000</td>\n",
              "      <td>316.000000</td>\n",
              "      <td>203.500000</td>\n",
              "      <td>205.750000</td>\n",
              "      <td>205.000000</td>\n",
              "    </tr>\n",
              "    <tr>\n",
              "      <td>max</td>\n",
              "      <td>3241.000000</td>\n",
              "      <td>185.000000</td>\n",
              "      <td>325.000000</td>\n",
              "      <td>454.000000</td>\n",
              "      <td>281.000000</td>\n",
              "      <td>603.000000</td>\n",
              "      <td>503.000000</td>\n",
              "      <td>772.000000</td>\n",
              "      <td>49.0</td>\n",
              "      <td>147.000000</td>\n",
              "      <td>159.000000</td>\n",
              "      <td>313.000000</td>\n",
              "      <td>1849.000000</td>\n",
              "      <td>305.000000</td>\n",
              "      <td>636.000000</td>\n",
              "      <td>405.000000</td>\n",
              "    </tr>\n",
              "  </tbody>\n",
              "</table>\n",
              "</div>"
            ],
            "text/plain": [
              "               key      Bulk 1      Bulk 2       Bulk 3       Bulk 4  \\\n",
              "count  3129.000000  252.000000   22.000000  1298.000000  1014.000000   \n",
              "mean   1624.383509   39.242063  253.045455   113.879045   104.394477   \n",
              "std     933.337642   18.277654   21.180578    75.483494    48.184126   \n",
              "min       1.000000   10.000000  228.000000     6.000000    12.000000   \n",
              "25%     816.000000   27.000000  242.000000    58.000000    72.000000   \n",
              "50%    1622.000000   31.000000  251.500000    97.500000   102.000000   \n",
              "75%    2431.000000   46.000000  257.750000   152.000000   133.000000   \n",
              "max    3241.000000  185.000000  325.000000   454.000000   281.000000   \n",
              "\n",
              "           Bulk 5      Bulk 6      Bulk 7  Bulk 8      Bulk 9     Bulk 10  \\\n",
              "count   77.000000  576.000000   25.000000     1.0   19.000000  176.000000   \n",
              "mean   107.025974  118.925347  305.600000    49.0   76.315789   83.284091   \n",
              "std     81.790646   72.057776  191.022904     NaN   21.720581   26.060347   \n",
              "min     11.000000   17.000000   47.000000    49.0   63.000000   24.000000   \n",
              "25%     70.000000   69.750000  155.000000    49.0   66.000000   64.000000   \n",
              "50%     86.000000  100.000000  298.000000    49.0   68.000000   86.500000   \n",
              "75%    132.000000  157.000000  406.000000    49.0   70.500000  102.000000   \n",
              "max    603.000000  503.000000  772.000000    49.0  147.000000  159.000000   \n",
              "\n",
              "          Bulk 11      Bulk 12     Bulk 13      Bulk 14      Bulk 15  \n",
              "count  177.000000  2450.000000   18.000000  2806.000000  2248.000000  \n",
              "mean    76.819209   260.471020  181.111111   170.284747   160.513345  \n",
              "std     59.655365   120.649269   46.088009    65.868652    51.765319  \n",
              "min      8.000000    53.000000  151.000000    16.000000     1.000000  \n",
              "25%     25.000000   204.000000  153.250000   119.000000   105.000000  \n",
              "50%     64.000000   208.000000  155.500000   151.000000   160.000000  \n",
              "75%    106.000000   316.000000  203.500000   205.750000   205.000000  \n",
              "max    313.000000  1849.000000  305.000000   636.000000   405.000000  "
            ]
          },
          "metadata": {
            "tags": []
          },
          "execution_count": 17
        }
      ]
    },
    {
      "cell_type": "markdown",
      "metadata": {
        "id": "ohNo4sWadR2r"
      },
      "source": [
        "Из описания данных мы видим, что данные о подаче сыпучих материалов в качестве присадок в стали имеют техническое обоснование. Каждая иттерация обладает своим набором материалов в качестве добавок в свойственном ей количестве. Поэтому данные о пропусках здесь закономерны и потому подлежат заполнению только нулем, чтобы не нарушать тех.процесс и не путать нашу обучаемую модель."
      ]
    },
    {
      "cell_type": "code",
      "metadata": {
        "id": "YK0gRlp6dR2t",
        "outputId": "df147933-0e77-478d-e61e-303964a7ebc8"
      },
      "source": [
        "# заполнение нулями пропусков\n",
        "data_bulk = data_bulk.fillna(value = 0)\n",
        "data_bulk.info()"
      ],
      "execution_count": null,
      "outputs": [
        {
          "output_type": "stream",
          "text": [
            "<class 'pandas.core.frame.DataFrame'>\n",
            "RangeIndex: 3129 entries, 0 to 3128\n",
            "Data columns (total 16 columns):\n",
            "key        3129 non-null int64\n",
            "Bulk 1     3129 non-null float64\n",
            "Bulk 2     3129 non-null float64\n",
            "Bulk 3     3129 non-null float64\n",
            "Bulk 4     3129 non-null float64\n",
            "Bulk 5     3129 non-null float64\n",
            "Bulk 6     3129 non-null float64\n",
            "Bulk 7     3129 non-null float64\n",
            "Bulk 8     3129 non-null float64\n",
            "Bulk 9     3129 non-null float64\n",
            "Bulk 10    3129 non-null float64\n",
            "Bulk 11    3129 non-null float64\n",
            "Bulk 12    3129 non-null float64\n",
            "Bulk 13    3129 non-null float64\n",
            "Bulk 14    3129 non-null float64\n",
            "Bulk 15    3129 non-null float64\n",
            "dtypes: float64(15), int64(1)\n",
            "memory usage: 391.2 KB\n"
          ],
          "name": "stdout"
        }
      ]
    },
    {
      "cell_type": "markdown",
      "metadata": {
        "id": "Lycz5vW0dR2u"
      },
      "source": [
        "***"
      ]
    },
    {
      "cell_type": "markdown",
      "metadata": {
        "id": "vMMMuUsQdR2u"
      },
      "source": [
        "### `data_bulk_time`"
      ]
    },
    {
      "cell_type": "code",
      "metadata": {
        "id": "DvJ-1VVPdR2v",
        "outputId": "4ffd5879-17ce-4030-89f5-b40e106f2ee3"
      },
      "source": [
        "# чтение файла с данными\n",
        "data_bulk_time = pd.read_csv('/datasets/final_steel/data_bulk_time.csv')\n",
        "\n",
        "# визуальный осмотр  \n",
        "data_bulk_time.head(10)"
      ],
      "execution_count": null,
      "outputs": [
        {
          "output_type": "execute_result",
          "data": {
            "text/html": [
              "<div>\n",
              "<style scoped>\n",
              "    .dataframe tbody tr th:only-of-type {\n",
              "        vertical-align: middle;\n",
              "    }\n",
              "\n",
              "    .dataframe tbody tr th {\n",
              "        vertical-align: top;\n",
              "    }\n",
              "\n",
              "    .dataframe thead th {\n",
              "        text-align: right;\n",
              "    }\n",
              "</style>\n",
              "<table border=\"1\" class=\"dataframe\">\n",
              "  <thead>\n",
              "    <tr style=\"text-align: right;\">\n",
              "      <th></th>\n",
              "      <th>key</th>\n",
              "      <th>Bulk 1</th>\n",
              "      <th>Bulk 2</th>\n",
              "      <th>Bulk 3</th>\n",
              "      <th>Bulk 4</th>\n",
              "      <th>Bulk 5</th>\n",
              "      <th>Bulk 6</th>\n",
              "      <th>Bulk 7</th>\n",
              "      <th>Bulk 8</th>\n",
              "      <th>Bulk 9</th>\n",
              "      <th>Bulk 10</th>\n",
              "      <th>Bulk 11</th>\n",
              "      <th>Bulk 12</th>\n",
              "      <th>Bulk 13</th>\n",
              "      <th>Bulk 14</th>\n",
              "      <th>Bulk 15</th>\n",
              "    </tr>\n",
              "  </thead>\n",
              "  <tbody>\n",
              "    <tr>\n",
              "      <td>0</td>\n",
              "      <td>1</td>\n",
              "      <td>NaN</td>\n",
              "      <td>NaN</td>\n",
              "      <td>NaN</td>\n",
              "      <td>2019-05-03 11:21:30</td>\n",
              "      <td>NaN</td>\n",
              "      <td>NaN</td>\n",
              "      <td>NaN</td>\n",
              "      <td>NaN</td>\n",
              "      <td>NaN</td>\n",
              "      <td>NaN</td>\n",
              "      <td>NaN</td>\n",
              "      <td>2019-05-03 11:03:52</td>\n",
              "      <td>NaN</td>\n",
              "      <td>2019-05-03 11:03:52</td>\n",
              "      <td>2019-05-03 11:03:52</td>\n",
              "    </tr>\n",
              "    <tr>\n",
              "      <td>1</td>\n",
              "      <td>2</td>\n",
              "      <td>NaN</td>\n",
              "      <td>NaN</td>\n",
              "      <td>NaN</td>\n",
              "      <td>2019-05-03 11:46:38</td>\n",
              "      <td>NaN</td>\n",
              "      <td>NaN</td>\n",
              "      <td>NaN</td>\n",
              "      <td>NaN</td>\n",
              "      <td>NaN</td>\n",
              "      <td>NaN</td>\n",
              "      <td>NaN</td>\n",
              "      <td>2019-05-03 11:40:20</td>\n",
              "      <td>NaN</td>\n",
              "      <td>2019-05-03 11:40:20</td>\n",
              "      <td>2019-05-03 11:40:20</td>\n",
              "    </tr>\n",
              "    <tr>\n",
              "      <td>2</td>\n",
              "      <td>3</td>\n",
              "      <td>NaN</td>\n",
              "      <td>NaN</td>\n",
              "      <td>NaN</td>\n",
              "      <td>2019-05-03 12:31:06</td>\n",
              "      <td>NaN</td>\n",
              "      <td>NaN</td>\n",
              "      <td>NaN</td>\n",
              "      <td>NaN</td>\n",
              "      <td>NaN</td>\n",
              "      <td>NaN</td>\n",
              "      <td>NaN</td>\n",
              "      <td>2019-05-03 12:09:40</td>\n",
              "      <td>NaN</td>\n",
              "      <td>2019-05-03 12:09:40</td>\n",
              "      <td>2019-05-03 12:09:40</td>\n",
              "    </tr>\n",
              "    <tr>\n",
              "      <td>3</td>\n",
              "      <td>4</td>\n",
              "      <td>NaN</td>\n",
              "      <td>NaN</td>\n",
              "      <td>NaN</td>\n",
              "      <td>2019-05-03 12:48:43</td>\n",
              "      <td>NaN</td>\n",
              "      <td>NaN</td>\n",
              "      <td>NaN</td>\n",
              "      <td>NaN</td>\n",
              "      <td>NaN</td>\n",
              "      <td>NaN</td>\n",
              "      <td>NaN</td>\n",
              "      <td>2019-05-03 12:41:24</td>\n",
              "      <td>NaN</td>\n",
              "      <td>2019-05-03 12:41:24</td>\n",
              "      <td>2019-05-03 12:41:24</td>\n",
              "    </tr>\n",
              "    <tr>\n",
              "      <td>4</td>\n",
              "      <td>5</td>\n",
              "      <td>NaN</td>\n",
              "      <td>NaN</td>\n",
              "      <td>NaN</td>\n",
              "      <td>2019-05-03 13:18:50</td>\n",
              "      <td>NaN</td>\n",
              "      <td>NaN</td>\n",
              "      <td>NaN</td>\n",
              "      <td>NaN</td>\n",
              "      <td>NaN</td>\n",
              "      <td>NaN</td>\n",
              "      <td>NaN</td>\n",
              "      <td>2019-05-03 13:12:56</td>\n",
              "      <td>NaN</td>\n",
              "      <td>2019-05-03 13:12:56</td>\n",
              "      <td>2019-05-03 13:12:56</td>\n",
              "    </tr>\n",
              "    <tr>\n",
              "      <td>5</td>\n",
              "      <td>6</td>\n",
              "      <td>NaN</td>\n",
              "      <td>NaN</td>\n",
              "      <td>NaN</td>\n",
              "      <td>2019-05-03 13:59:24</td>\n",
              "      <td>NaN</td>\n",
              "      <td>NaN</td>\n",
              "      <td>NaN</td>\n",
              "      <td>NaN</td>\n",
              "      <td>NaN</td>\n",
              "      <td>NaN</td>\n",
              "      <td>NaN</td>\n",
              "      <td>2019-05-03 13:53:27</td>\n",
              "      <td>NaN</td>\n",
              "      <td>2019-05-03 13:53:27</td>\n",
              "      <td>2019-05-03 13:53:27</td>\n",
              "    </tr>\n",
              "    <tr>\n",
              "      <td>6</td>\n",
              "      <td>7</td>\n",
              "      <td>NaN</td>\n",
              "      <td>NaN</td>\n",
              "      <td>NaN</td>\n",
              "      <td>2019-05-03 14:29:14</td>\n",
              "      <td>NaN</td>\n",
              "      <td>NaN</td>\n",
              "      <td>NaN</td>\n",
              "      <td>NaN</td>\n",
              "      <td>NaN</td>\n",
              "      <td>NaN</td>\n",
              "      <td>NaN</td>\n",
              "      <td>2019-05-03 14:22:19</td>\n",
              "      <td>NaN</td>\n",
              "      <td>2019-05-03 14:22:19</td>\n",
              "      <td>2019-05-03 14:22:19</td>\n",
              "    </tr>\n",
              "    <tr>\n",
              "      <td>7</td>\n",
              "      <td>8</td>\n",
              "      <td>NaN</td>\n",
              "      <td>NaN</td>\n",
              "      <td>NaN</td>\n",
              "      <td>2019-05-03 15:04:05</td>\n",
              "      <td>NaN</td>\n",
              "      <td>NaN</td>\n",
              "      <td>NaN</td>\n",
              "      <td>NaN</td>\n",
              "      <td>NaN</td>\n",
              "      <td>NaN</td>\n",
              "      <td>NaN</td>\n",
              "      <td>2019-05-03 14:55:46</td>\n",
              "      <td>NaN</td>\n",
              "      <td>2019-05-03 14:55:46</td>\n",
              "      <td>2019-05-03 14:55:46</td>\n",
              "    </tr>\n",
              "    <tr>\n",
              "      <td>8</td>\n",
              "      <td>9</td>\n",
              "      <td>NaN</td>\n",
              "      <td>NaN</td>\n",
              "      <td>NaN</td>\n",
              "      <td>2019-05-03 15:47:34</td>\n",
              "      <td>NaN</td>\n",
              "      <td>NaN</td>\n",
              "      <td>NaN</td>\n",
              "      <td>NaN</td>\n",
              "      <td>NaN</td>\n",
              "      <td>NaN</td>\n",
              "      <td>NaN</td>\n",
              "      <td>2019-05-03 15:41:00</td>\n",
              "      <td>NaN</td>\n",
              "      <td>2019-05-03 15:41:00</td>\n",
              "      <td>2019-05-03 15:41:00</td>\n",
              "    </tr>\n",
              "    <tr>\n",
              "      <td>9</td>\n",
              "      <td>10</td>\n",
              "      <td>NaN</td>\n",
              "      <td>NaN</td>\n",
              "      <td>NaN</td>\n",
              "      <td>NaN</td>\n",
              "      <td>NaN</td>\n",
              "      <td>NaN</td>\n",
              "      <td>NaN</td>\n",
              "      <td>NaN</td>\n",
              "      <td>NaN</td>\n",
              "      <td>NaN</td>\n",
              "      <td>NaN</td>\n",
              "      <td>2019-05-03 16:18:52</td>\n",
              "      <td>NaN</td>\n",
              "      <td>2019-05-03 16:18:52</td>\n",
              "      <td>2019-05-03 16:18:52</td>\n",
              "    </tr>\n",
              "  </tbody>\n",
              "</table>\n",
              "</div>"
            ],
            "text/plain": [
              "   key Bulk 1 Bulk 2 Bulk 3               Bulk 4 Bulk 5 Bulk 6 Bulk 7 Bulk 8  \\\n",
              "0    1    NaN    NaN    NaN  2019-05-03 11:21:30    NaN    NaN    NaN    NaN   \n",
              "1    2    NaN    NaN    NaN  2019-05-03 11:46:38    NaN    NaN    NaN    NaN   \n",
              "2    3    NaN    NaN    NaN  2019-05-03 12:31:06    NaN    NaN    NaN    NaN   \n",
              "3    4    NaN    NaN    NaN  2019-05-03 12:48:43    NaN    NaN    NaN    NaN   \n",
              "4    5    NaN    NaN    NaN  2019-05-03 13:18:50    NaN    NaN    NaN    NaN   \n",
              "5    6    NaN    NaN    NaN  2019-05-03 13:59:24    NaN    NaN    NaN    NaN   \n",
              "6    7    NaN    NaN    NaN  2019-05-03 14:29:14    NaN    NaN    NaN    NaN   \n",
              "7    8    NaN    NaN    NaN  2019-05-03 15:04:05    NaN    NaN    NaN    NaN   \n",
              "8    9    NaN    NaN    NaN  2019-05-03 15:47:34    NaN    NaN    NaN    NaN   \n",
              "9   10    NaN    NaN    NaN                  NaN    NaN    NaN    NaN    NaN   \n",
              "\n",
              "  Bulk 9 Bulk 10 Bulk 11              Bulk 12 Bulk 13              Bulk 14  \\\n",
              "0    NaN     NaN     NaN  2019-05-03 11:03:52     NaN  2019-05-03 11:03:52   \n",
              "1    NaN     NaN     NaN  2019-05-03 11:40:20     NaN  2019-05-03 11:40:20   \n",
              "2    NaN     NaN     NaN  2019-05-03 12:09:40     NaN  2019-05-03 12:09:40   \n",
              "3    NaN     NaN     NaN  2019-05-03 12:41:24     NaN  2019-05-03 12:41:24   \n",
              "4    NaN     NaN     NaN  2019-05-03 13:12:56     NaN  2019-05-03 13:12:56   \n",
              "5    NaN     NaN     NaN  2019-05-03 13:53:27     NaN  2019-05-03 13:53:27   \n",
              "6    NaN     NaN     NaN  2019-05-03 14:22:19     NaN  2019-05-03 14:22:19   \n",
              "7    NaN     NaN     NaN  2019-05-03 14:55:46     NaN  2019-05-03 14:55:46   \n",
              "8    NaN     NaN     NaN  2019-05-03 15:41:00     NaN  2019-05-03 15:41:00   \n",
              "9    NaN     NaN     NaN  2019-05-03 16:18:52     NaN  2019-05-03 16:18:52   \n",
              "\n",
              "               Bulk 15  \n",
              "0  2019-05-03 11:03:52  \n",
              "1  2019-05-03 11:40:20  \n",
              "2  2019-05-03 12:09:40  \n",
              "3  2019-05-03 12:41:24  \n",
              "4  2019-05-03 13:12:56  \n",
              "5  2019-05-03 13:53:27  \n",
              "6  2019-05-03 14:22:19  \n",
              "7  2019-05-03 14:55:46  \n",
              "8  2019-05-03 15:41:00  \n",
              "9  2019-05-03 16:18:52  "
            ]
          },
          "metadata": {
            "tags": []
          },
          "execution_count": 19
        }
      ]
    },
    {
      "cell_type": "code",
      "metadata": {
        "id": "ddJFa0PEdR2w",
        "outputId": "a62e40d1-7556-4f45-db7f-7f639719fc29"
      },
      "source": [
        "# инфо о таблице\n",
        "data_bulk_time.info()"
      ],
      "execution_count": null,
      "outputs": [
        {
          "output_type": "stream",
          "text": [
            "<class 'pandas.core.frame.DataFrame'>\n",
            "RangeIndex: 3129 entries, 0 to 3128\n",
            "Data columns (total 16 columns):\n",
            "key        3129 non-null int64\n",
            "Bulk 1     252 non-null object\n",
            "Bulk 2     22 non-null object\n",
            "Bulk 3     1298 non-null object\n",
            "Bulk 4     1014 non-null object\n",
            "Bulk 5     77 non-null object\n",
            "Bulk 6     576 non-null object\n",
            "Bulk 7     25 non-null object\n",
            "Bulk 8     1 non-null object\n",
            "Bulk 9     19 non-null object\n",
            "Bulk 10    176 non-null object\n",
            "Bulk 11    177 non-null object\n",
            "Bulk 12    2450 non-null object\n",
            "Bulk 13    18 non-null object\n",
            "Bulk 14    2806 non-null object\n",
            "Bulk 15    2248 non-null object\n",
            "dtypes: int64(1), object(15)\n",
            "memory usage: 391.2+ KB\n"
          ],
          "name": "stdout"
        }
      ]
    },
    {
      "cell_type": "markdown",
      "metadata": {
        "id": "NxiLptModR2x"
      },
      "source": [
        "Данная таблица аналогична таблице с объёмами сыпучих присадок с той лишь разницей, что она показывает временную констатацию факта без её продолжительности. Данная информация никак не пригодна для обучения модели, поэтому просто оставим её как есть."
      ]
    },
    {
      "cell_type": "markdown",
      "metadata": {
        "id": "dxy27CY0dR2y"
      },
      "source": [
        "***"
      ]
    },
    {
      "cell_type": "markdown",
      "metadata": {
        "id": "u3Vk5awLdR2z"
      },
      "source": [
        "### `data_wire`"
      ]
    },
    {
      "cell_type": "code",
      "metadata": {
        "id": "yymQFz-JdR20",
        "outputId": "6dd96508-fd9b-4071-b15d-6c80dadb6083"
      },
      "source": [
        "# чтение файла с данными\n",
        "data_wire = pd.read_csv('/datasets/final_steel/data_wire.csv')\n",
        "\n",
        "# визуальный осмотр  \n",
        "data_wire.head(10)"
      ],
      "execution_count": null,
      "outputs": [
        {
          "output_type": "execute_result",
          "data": {
            "text/html": [
              "<div>\n",
              "<style scoped>\n",
              "    .dataframe tbody tr th:only-of-type {\n",
              "        vertical-align: middle;\n",
              "    }\n",
              "\n",
              "    .dataframe tbody tr th {\n",
              "        vertical-align: top;\n",
              "    }\n",
              "\n",
              "    .dataframe thead th {\n",
              "        text-align: right;\n",
              "    }\n",
              "</style>\n",
              "<table border=\"1\" class=\"dataframe\">\n",
              "  <thead>\n",
              "    <tr style=\"text-align: right;\">\n",
              "      <th></th>\n",
              "      <th>key</th>\n",
              "      <th>Wire 1</th>\n",
              "      <th>Wire 2</th>\n",
              "      <th>Wire 3</th>\n",
              "      <th>Wire 4</th>\n",
              "      <th>Wire 5</th>\n",
              "      <th>Wire 6</th>\n",
              "      <th>Wire 7</th>\n",
              "      <th>Wire 8</th>\n",
              "      <th>Wire 9</th>\n",
              "    </tr>\n",
              "  </thead>\n",
              "  <tbody>\n",
              "    <tr>\n",
              "      <td>0</td>\n",
              "      <td>1</td>\n",
              "      <td>60.059998</td>\n",
              "      <td>NaN</td>\n",
              "      <td>NaN</td>\n",
              "      <td>NaN</td>\n",
              "      <td>NaN</td>\n",
              "      <td>NaN</td>\n",
              "      <td>NaN</td>\n",
              "      <td>NaN</td>\n",
              "      <td>NaN</td>\n",
              "    </tr>\n",
              "    <tr>\n",
              "      <td>1</td>\n",
              "      <td>2</td>\n",
              "      <td>96.052315</td>\n",
              "      <td>NaN</td>\n",
              "      <td>NaN</td>\n",
              "      <td>NaN</td>\n",
              "      <td>NaN</td>\n",
              "      <td>NaN</td>\n",
              "      <td>NaN</td>\n",
              "      <td>NaN</td>\n",
              "      <td>NaN</td>\n",
              "    </tr>\n",
              "    <tr>\n",
              "      <td>2</td>\n",
              "      <td>3</td>\n",
              "      <td>91.160157</td>\n",
              "      <td>NaN</td>\n",
              "      <td>NaN</td>\n",
              "      <td>NaN</td>\n",
              "      <td>NaN</td>\n",
              "      <td>NaN</td>\n",
              "      <td>NaN</td>\n",
              "      <td>NaN</td>\n",
              "      <td>NaN</td>\n",
              "    </tr>\n",
              "    <tr>\n",
              "      <td>3</td>\n",
              "      <td>4</td>\n",
              "      <td>89.063515</td>\n",
              "      <td>NaN</td>\n",
              "      <td>NaN</td>\n",
              "      <td>NaN</td>\n",
              "      <td>NaN</td>\n",
              "      <td>NaN</td>\n",
              "      <td>NaN</td>\n",
              "      <td>NaN</td>\n",
              "      <td>NaN</td>\n",
              "    </tr>\n",
              "    <tr>\n",
              "      <td>4</td>\n",
              "      <td>5</td>\n",
              "      <td>89.238236</td>\n",
              "      <td>9.114560</td>\n",
              "      <td>NaN</td>\n",
              "      <td>NaN</td>\n",
              "      <td>NaN</td>\n",
              "      <td>NaN</td>\n",
              "      <td>NaN</td>\n",
              "      <td>NaN</td>\n",
              "      <td>NaN</td>\n",
              "    </tr>\n",
              "    <tr>\n",
              "      <td>5</td>\n",
              "      <td>6</td>\n",
              "      <td>99.109917</td>\n",
              "      <td>9.114560</td>\n",
              "      <td>NaN</td>\n",
              "      <td>NaN</td>\n",
              "      <td>NaN</td>\n",
              "      <td>NaN</td>\n",
              "      <td>NaN</td>\n",
              "      <td>NaN</td>\n",
              "      <td>NaN</td>\n",
              "    </tr>\n",
              "    <tr>\n",
              "      <td>6</td>\n",
              "      <td>7</td>\n",
              "      <td>98.061600</td>\n",
              "      <td>NaN</td>\n",
              "      <td>NaN</td>\n",
              "      <td>NaN</td>\n",
              "      <td>NaN</td>\n",
              "      <td>NaN</td>\n",
              "      <td>NaN</td>\n",
              "      <td>NaN</td>\n",
              "      <td>NaN</td>\n",
              "    </tr>\n",
              "    <tr>\n",
              "      <td>7</td>\n",
              "      <td>8</td>\n",
              "      <td>155.282394</td>\n",
              "      <td>NaN</td>\n",
              "      <td>NaN</td>\n",
              "      <td>NaN</td>\n",
              "      <td>NaN</td>\n",
              "      <td>NaN</td>\n",
              "      <td>NaN</td>\n",
              "      <td>NaN</td>\n",
              "      <td>NaN</td>\n",
              "    </tr>\n",
              "    <tr>\n",
              "      <td>8</td>\n",
              "      <td>9</td>\n",
              "      <td>113.393279</td>\n",
              "      <td>9.143681</td>\n",
              "      <td>NaN</td>\n",
              "      <td>NaN</td>\n",
              "      <td>NaN</td>\n",
              "      <td>NaN</td>\n",
              "      <td>NaN</td>\n",
              "      <td>NaN</td>\n",
              "      <td>NaN</td>\n",
              "    </tr>\n",
              "    <tr>\n",
              "      <td>9</td>\n",
              "      <td>10</td>\n",
              "      <td>81.244796</td>\n",
              "      <td>12.376000</td>\n",
              "      <td>NaN</td>\n",
              "      <td>NaN</td>\n",
              "      <td>NaN</td>\n",
              "      <td>NaN</td>\n",
              "      <td>NaN</td>\n",
              "      <td>NaN</td>\n",
              "      <td>NaN</td>\n",
              "    </tr>\n",
              "  </tbody>\n",
              "</table>\n",
              "</div>"
            ],
            "text/plain": [
              "   key      Wire 1     Wire 2  Wire 3  Wire 4  Wire 5  Wire 6  Wire 7  Wire 8  \\\n",
              "0    1   60.059998        NaN     NaN     NaN     NaN     NaN     NaN     NaN   \n",
              "1    2   96.052315        NaN     NaN     NaN     NaN     NaN     NaN     NaN   \n",
              "2    3   91.160157        NaN     NaN     NaN     NaN     NaN     NaN     NaN   \n",
              "3    4   89.063515        NaN     NaN     NaN     NaN     NaN     NaN     NaN   \n",
              "4    5   89.238236   9.114560     NaN     NaN     NaN     NaN     NaN     NaN   \n",
              "5    6   99.109917   9.114560     NaN     NaN     NaN     NaN     NaN     NaN   \n",
              "6    7   98.061600        NaN     NaN     NaN     NaN     NaN     NaN     NaN   \n",
              "7    8  155.282394        NaN     NaN     NaN     NaN     NaN     NaN     NaN   \n",
              "8    9  113.393279   9.143681     NaN     NaN     NaN     NaN     NaN     NaN   \n",
              "9   10   81.244796  12.376000     NaN     NaN     NaN     NaN     NaN     NaN   \n",
              "\n",
              "   Wire 9  \n",
              "0     NaN  \n",
              "1     NaN  \n",
              "2     NaN  \n",
              "3     NaN  \n",
              "4     NaN  \n",
              "5     NaN  \n",
              "6     NaN  \n",
              "7     NaN  \n",
              "8     NaN  \n",
              "9     NaN  "
            ]
          },
          "metadata": {
            "tags": []
          },
          "execution_count": 21
        }
      ]
    },
    {
      "cell_type": "code",
      "metadata": {
        "id": "nrpJPrbNdR21",
        "outputId": "32792dfb-512c-4cf3-c5cd-07d14468400c"
      },
      "source": [
        "# инфо о таблице\n",
        "data_wire.info(), \n",
        "data_wire.describe()"
      ],
      "execution_count": null,
      "outputs": [
        {
          "output_type": "stream",
          "text": [
            "<class 'pandas.core.frame.DataFrame'>\n",
            "RangeIndex: 3081 entries, 0 to 3080\n",
            "Data columns (total 10 columns):\n",
            "key       3081 non-null int64\n",
            "Wire 1    3055 non-null float64\n",
            "Wire 2    1079 non-null float64\n",
            "Wire 3    63 non-null float64\n",
            "Wire 4    14 non-null float64\n",
            "Wire 5    1 non-null float64\n",
            "Wire 6    73 non-null float64\n",
            "Wire 7    11 non-null float64\n",
            "Wire 8    19 non-null float64\n",
            "Wire 9    29 non-null float64\n",
            "dtypes: float64(9), int64(1)\n",
            "memory usage: 240.8 KB\n"
          ],
          "name": "stdout"
        },
        {
          "output_type": "execute_result",
          "data": {
            "text/html": [
              "<div>\n",
              "<style scoped>\n",
              "    .dataframe tbody tr th:only-of-type {\n",
              "        vertical-align: middle;\n",
              "    }\n",
              "\n",
              "    .dataframe tbody tr th {\n",
              "        vertical-align: top;\n",
              "    }\n",
              "\n",
              "    .dataframe thead th {\n",
              "        text-align: right;\n",
              "    }\n",
              "</style>\n",
              "<table border=\"1\" class=\"dataframe\">\n",
              "  <thead>\n",
              "    <tr style=\"text-align: right;\">\n",
              "      <th></th>\n",
              "      <th>key</th>\n",
              "      <th>Wire 1</th>\n",
              "      <th>Wire 2</th>\n",
              "      <th>Wire 3</th>\n",
              "      <th>Wire 4</th>\n",
              "      <th>Wire 5</th>\n",
              "      <th>Wire 6</th>\n",
              "      <th>Wire 7</th>\n",
              "      <th>Wire 8</th>\n",
              "      <th>Wire 9</th>\n",
              "    </tr>\n",
              "  </thead>\n",
              "  <tbody>\n",
              "    <tr>\n",
              "      <td>count</td>\n",
              "      <td>3081.000000</td>\n",
              "      <td>3055.000000</td>\n",
              "      <td>1079.000000</td>\n",
              "      <td>63.000000</td>\n",
              "      <td>14.000000</td>\n",
              "      <td>1.000</td>\n",
              "      <td>73.000000</td>\n",
              "      <td>11.000000</td>\n",
              "      <td>19.000000</td>\n",
              "      <td>29.000000</td>\n",
              "    </tr>\n",
              "    <tr>\n",
              "      <td>mean</td>\n",
              "      <td>1623.426485</td>\n",
              "      <td>100.895853</td>\n",
              "      <td>50.577323</td>\n",
              "      <td>189.482681</td>\n",
              "      <td>57.442841</td>\n",
              "      <td>15.132</td>\n",
              "      <td>48.016974</td>\n",
              "      <td>10.039007</td>\n",
              "      <td>53.625193</td>\n",
              "      <td>34.155752</td>\n",
              "    </tr>\n",
              "    <tr>\n",
              "      <td>std</td>\n",
              "      <td>932.996726</td>\n",
              "      <td>42.012518</td>\n",
              "      <td>39.320216</td>\n",
              "      <td>99.513444</td>\n",
              "      <td>28.824667</td>\n",
              "      <td>NaN</td>\n",
              "      <td>33.919845</td>\n",
              "      <td>8.610584</td>\n",
              "      <td>16.881728</td>\n",
              "      <td>19.931616</td>\n",
              "    </tr>\n",
              "    <tr>\n",
              "      <td>min</td>\n",
              "      <td>1.000000</td>\n",
              "      <td>1.918800</td>\n",
              "      <td>0.030160</td>\n",
              "      <td>0.144144</td>\n",
              "      <td>24.148801</td>\n",
              "      <td>15.132</td>\n",
              "      <td>0.034320</td>\n",
              "      <td>0.234208</td>\n",
              "      <td>45.076721</td>\n",
              "      <td>4.622800</td>\n",
              "    </tr>\n",
              "    <tr>\n",
              "      <td>25%</td>\n",
              "      <td>823.000000</td>\n",
              "      <td>72.115684</td>\n",
              "      <td>20.193680</td>\n",
              "      <td>95.135044</td>\n",
              "      <td>40.807002</td>\n",
              "      <td>15.132</td>\n",
              "      <td>25.053600</td>\n",
              "      <td>6.762756</td>\n",
              "      <td>46.094879</td>\n",
              "      <td>22.058401</td>\n",
              "    </tr>\n",
              "    <tr>\n",
              "      <td>50%</td>\n",
              "      <td>1619.000000</td>\n",
              "      <td>100.158234</td>\n",
              "      <td>40.142956</td>\n",
              "      <td>235.194977</td>\n",
              "      <td>45.234282</td>\n",
              "      <td>15.132</td>\n",
              "      <td>42.076324</td>\n",
              "      <td>9.017009</td>\n",
              "      <td>46.279999</td>\n",
              "      <td>30.066399</td>\n",
              "    </tr>\n",
              "    <tr>\n",
              "      <td>75%</td>\n",
              "      <td>2434.000000</td>\n",
              "      <td>126.060484</td>\n",
              "      <td>70.227558</td>\n",
              "      <td>276.252014</td>\n",
              "      <td>76.124619</td>\n",
              "      <td>15.132</td>\n",
              "      <td>64.212723</td>\n",
              "      <td>11.886057</td>\n",
              "      <td>48.089603</td>\n",
              "      <td>43.862003</td>\n",
              "    </tr>\n",
              "    <tr>\n",
              "      <td>max</td>\n",
              "      <td>3241.000000</td>\n",
              "      <td>330.314424</td>\n",
              "      <td>282.780152</td>\n",
              "      <td>385.008668</td>\n",
              "      <td>113.231044</td>\n",
              "      <td>15.132</td>\n",
              "      <td>180.454575</td>\n",
              "      <td>32.847674</td>\n",
              "      <td>102.762401</td>\n",
              "      <td>90.053604</td>\n",
              "    </tr>\n",
              "  </tbody>\n",
              "</table>\n",
              "</div>"
            ],
            "text/plain": [
              "               key       Wire 1       Wire 2      Wire 3      Wire 4  Wire 5  \\\n",
              "count  3081.000000  3055.000000  1079.000000   63.000000   14.000000   1.000   \n",
              "mean   1623.426485   100.895853    50.577323  189.482681   57.442841  15.132   \n",
              "std     932.996726    42.012518    39.320216   99.513444   28.824667     NaN   \n",
              "min       1.000000     1.918800     0.030160    0.144144   24.148801  15.132   \n",
              "25%     823.000000    72.115684    20.193680   95.135044   40.807002  15.132   \n",
              "50%    1619.000000   100.158234    40.142956  235.194977   45.234282  15.132   \n",
              "75%    2434.000000   126.060484    70.227558  276.252014   76.124619  15.132   \n",
              "max    3241.000000   330.314424   282.780152  385.008668  113.231044  15.132   \n",
              "\n",
              "           Wire 6     Wire 7      Wire 8     Wire 9  \n",
              "count   73.000000  11.000000   19.000000  29.000000  \n",
              "mean    48.016974  10.039007   53.625193  34.155752  \n",
              "std     33.919845   8.610584   16.881728  19.931616  \n",
              "min      0.034320   0.234208   45.076721   4.622800  \n",
              "25%     25.053600   6.762756   46.094879  22.058401  \n",
              "50%     42.076324   9.017009   46.279999  30.066399  \n",
              "75%     64.212723  11.886057   48.089603  43.862003  \n",
              "max    180.454575  32.847674  102.762401  90.053604  "
            ]
          },
          "metadata": {
            "tags": []
          },
          "execution_count": 22
        }
      ]
    },
    {
      "cell_type": "markdown",
      "metadata": {
        "id": "4J7swSZ2dR23"
      },
      "source": [
        "Данные о проволочных материалах также имеют техническое обоснование. Заменили пропуски нулями для более объективного обучения модели."
      ]
    },
    {
      "cell_type": "code",
      "metadata": {
        "id": "EMlBOXS0dR24",
        "outputId": "59b22479-66a3-4a1b-b233-2f255629217e"
      },
      "source": [
        "# заполнение нулями пропусков\n",
        "data_wire = data_wire.fillna(value = 0)\n",
        "data_wire.info()"
      ],
      "execution_count": null,
      "outputs": [
        {
          "output_type": "stream",
          "text": [
            "<class 'pandas.core.frame.DataFrame'>\n",
            "RangeIndex: 3081 entries, 0 to 3080\n",
            "Data columns (total 10 columns):\n",
            "key       3081 non-null int64\n",
            "Wire 1    3081 non-null float64\n",
            "Wire 2    3081 non-null float64\n",
            "Wire 3    3081 non-null float64\n",
            "Wire 4    3081 non-null float64\n",
            "Wire 5    3081 non-null float64\n",
            "Wire 6    3081 non-null float64\n",
            "Wire 7    3081 non-null float64\n",
            "Wire 8    3081 non-null float64\n",
            "Wire 9    3081 non-null float64\n",
            "dtypes: float64(9), int64(1)\n",
            "memory usage: 240.8 KB\n"
          ],
          "name": "stdout"
        }
      ]
    },
    {
      "cell_type": "markdown",
      "metadata": {
        "id": "BlQvNSrYdR25"
      },
      "source": [
        "***"
      ]
    },
    {
      "cell_type": "markdown",
      "metadata": {
        "id": "ekR5P5_-dR25"
      },
      "source": [
        "### `data_wire_time`"
      ]
    },
    {
      "cell_type": "code",
      "metadata": {
        "id": "aYbVWxlJdR26",
        "outputId": "7f2a180d-eb30-44d6-a1e6-745940e0eaee"
      },
      "source": [
        "# чтение файла с данными\n",
        "data_wire_time = pd.read_csv('/datasets/final_steel/data_wire_time.csv')\n",
        "\n",
        "# визуальный осмотр  \n",
        "data_wire_time.head(10)"
      ],
      "execution_count": null,
      "outputs": [
        {
          "output_type": "execute_result",
          "data": {
            "text/html": [
              "<div>\n",
              "<style scoped>\n",
              "    .dataframe tbody tr th:only-of-type {\n",
              "        vertical-align: middle;\n",
              "    }\n",
              "\n",
              "    .dataframe tbody tr th {\n",
              "        vertical-align: top;\n",
              "    }\n",
              "\n",
              "    .dataframe thead th {\n",
              "        text-align: right;\n",
              "    }\n",
              "</style>\n",
              "<table border=\"1\" class=\"dataframe\">\n",
              "  <thead>\n",
              "    <tr style=\"text-align: right;\">\n",
              "      <th></th>\n",
              "      <th>key</th>\n",
              "      <th>Wire 1</th>\n",
              "      <th>Wire 2</th>\n",
              "      <th>Wire 3</th>\n",
              "      <th>Wire 4</th>\n",
              "      <th>Wire 5</th>\n",
              "      <th>Wire 6</th>\n",
              "      <th>Wire 7</th>\n",
              "      <th>Wire 8</th>\n",
              "      <th>Wire 9</th>\n",
              "    </tr>\n",
              "  </thead>\n",
              "  <tbody>\n",
              "    <tr>\n",
              "      <td>0</td>\n",
              "      <td>1</td>\n",
              "      <td>2019-05-03 11:11:41</td>\n",
              "      <td>NaN</td>\n",
              "      <td>NaN</td>\n",
              "      <td>NaN</td>\n",
              "      <td>NaN</td>\n",
              "      <td>NaN</td>\n",
              "      <td>NaN</td>\n",
              "      <td>NaN</td>\n",
              "      <td>NaN</td>\n",
              "    </tr>\n",
              "    <tr>\n",
              "      <td>1</td>\n",
              "      <td>2</td>\n",
              "      <td>2019-05-03 11:46:10</td>\n",
              "      <td>NaN</td>\n",
              "      <td>NaN</td>\n",
              "      <td>NaN</td>\n",
              "      <td>NaN</td>\n",
              "      <td>NaN</td>\n",
              "      <td>NaN</td>\n",
              "      <td>NaN</td>\n",
              "      <td>NaN</td>\n",
              "    </tr>\n",
              "    <tr>\n",
              "      <td>2</td>\n",
              "      <td>3</td>\n",
              "      <td>2019-05-03 12:13:47</td>\n",
              "      <td>NaN</td>\n",
              "      <td>NaN</td>\n",
              "      <td>NaN</td>\n",
              "      <td>NaN</td>\n",
              "      <td>NaN</td>\n",
              "      <td>NaN</td>\n",
              "      <td>NaN</td>\n",
              "      <td>NaN</td>\n",
              "    </tr>\n",
              "    <tr>\n",
              "      <td>3</td>\n",
              "      <td>4</td>\n",
              "      <td>2019-05-03 12:48:05</td>\n",
              "      <td>NaN</td>\n",
              "      <td>NaN</td>\n",
              "      <td>NaN</td>\n",
              "      <td>NaN</td>\n",
              "      <td>NaN</td>\n",
              "      <td>NaN</td>\n",
              "      <td>NaN</td>\n",
              "      <td>NaN</td>\n",
              "    </tr>\n",
              "    <tr>\n",
              "      <td>4</td>\n",
              "      <td>5</td>\n",
              "      <td>2019-05-03 13:18:15</td>\n",
              "      <td>2019-05-03 13:32:06</td>\n",
              "      <td>NaN</td>\n",
              "      <td>NaN</td>\n",
              "      <td>NaN</td>\n",
              "      <td>NaN</td>\n",
              "      <td>NaN</td>\n",
              "      <td>NaN</td>\n",
              "      <td>NaN</td>\n",
              "    </tr>\n",
              "    <tr>\n",
              "      <td>5</td>\n",
              "      <td>6</td>\n",
              "      <td>2019-05-03 13:59:02</td>\n",
              "      <td>2019-05-03 13:59:54</td>\n",
              "      <td>NaN</td>\n",
              "      <td>NaN</td>\n",
              "      <td>NaN</td>\n",
              "      <td>NaN</td>\n",
              "      <td>NaN</td>\n",
              "      <td>NaN</td>\n",
              "      <td>NaN</td>\n",
              "    </tr>\n",
              "    <tr>\n",
              "      <td>6</td>\n",
              "      <td>7</td>\n",
              "      <td>2019-05-03 14:28:46</td>\n",
              "      <td>NaN</td>\n",
              "      <td>NaN</td>\n",
              "      <td>NaN</td>\n",
              "      <td>NaN</td>\n",
              "      <td>NaN</td>\n",
              "      <td>NaN</td>\n",
              "      <td>NaN</td>\n",
              "      <td>NaN</td>\n",
              "    </tr>\n",
              "    <tr>\n",
              "      <td>7</td>\n",
              "      <td>8</td>\n",
              "      <td>2019-05-03 15:03:42</td>\n",
              "      <td>NaN</td>\n",
              "      <td>NaN</td>\n",
              "      <td>NaN</td>\n",
              "      <td>NaN</td>\n",
              "      <td>NaN</td>\n",
              "      <td>NaN</td>\n",
              "      <td>NaN</td>\n",
              "      <td>NaN</td>\n",
              "    </tr>\n",
              "    <tr>\n",
              "      <td>8</td>\n",
              "      <td>9</td>\n",
              "      <td>2019-05-03 15:42:43</td>\n",
              "      <td>2019-05-03 15:58:12</td>\n",
              "      <td>NaN</td>\n",
              "      <td>NaN</td>\n",
              "      <td>NaN</td>\n",
              "      <td>NaN</td>\n",
              "      <td>NaN</td>\n",
              "      <td>NaN</td>\n",
              "      <td>NaN</td>\n",
              "    </tr>\n",
              "    <tr>\n",
              "      <td>9</td>\n",
              "      <td>10</td>\n",
              "      <td>2019-05-03 16:20:25</td>\n",
              "      <td>2019-05-03 16:21:02</td>\n",
              "      <td>NaN</td>\n",
              "      <td>NaN</td>\n",
              "      <td>NaN</td>\n",
              "      <td>NaN</td>\n",
              "      <td>NaN</td>\n",
              "      <td>NaN</td>\n",
              "      <td>NaN</td>\n",
              "    </tr>\n",
              "  </tbody>\n",
              "</table>\n",
              "</div>"
            ],
            "text/plain": [
              "   key               Wire 1               Wire 2 Wire 3 Wire 4 Wire 5 Wire 6  \\\n",
              "0    1  2019-05-03 11:11:41                  NaN    NaN    NaN    NaN    NaN   \n",
              "1    2  2019-05-03 11:46:10                  NaN    NaN    NaN    NaN    NaN   \n",
              "2    3  2019-05-03 12:13:47                  NaN    NaN    NaN    NaN    NaN   \n",
              "3    4  2019-05-03 12:48:05                  NaN    NaN    NaN    NaN    NaN   \n",
              "4    5  2019-05-03 13:18:15  2019-05-03 13:32:06    NaN    NaN    NaN    NaN   \n",
              "5    6  2019-05-03 13:59:02  2019-05-03 13:59:54    NaN    NaN    NaN    NaN   \n",
              "6    7  2019-05-03 14:28:46                  NaN    NaN    NaN    NaN    NaN   \n",
              "7    8  2019-05-03 15:03:42                  NaN    NaN    NaN    NaN    NaN   \n",
              "8    9  2019-05-03 15:42:43  2019-05-03 15:58:12    NaN    NaN    NaN    NaN   \n",
              "9   10  2019-05-03 16:20:25  2019-05-03 16:21:02    NaN    NaN    NaN    NaN   \n",
              "\n",
              "  Wire 7 Wire 8 Wire 9  \n",
              "0    NaN    NaN    NaN  \n",
              "1    NaN    NaN    NaN  \n",
              "2    NaN    NaN    NaN  \n",
              "3    NaN    NaN    NaN  \n",
              "4    NaN    NaN    NaN  \n",
              "5    NaN    NaN    NaN  \n",
              "6    NaN    NaN    NaN  \n",
              "7    NaN    NaN    NaN  \n",
              "8    NaN    NaN    NaN  \n",
              "9    NaN    NaN    NaN  "
            ]
          },
          "metadata": {
            "tags": []
          },
          "execution_count": 24
        }
      ]
    },
    {
      "cell_type": "code",
      "metadata": {
        "id": "v4zL0uBPdR27",
        "outputId": "97d2ea51-b26b-402c-b9ff-7016f64de377"
      },
      "source": [
        "# инфо о таблице\n",
        "data_wire_time.info()"
      ],
      "execution_count": null,
      "outputs": [
        {
          "output_type": "stream",
          "text": [
            "<class 'pandas.core.frame.DataFrame'>\n",
            "RangeIndex: 3081 entries, 0 to 3080\n",
            "Data columns (total 10 columns):\n",
            "key       3081 non-null int64\n",
            "Wire 1    3055 non-null object\n",
            "Wire 2    1079 non-null object\n",
            "Wire 3    63 non-null object\n",
            "Wire 4    14 non-null object\n",
            "Wire 5    1 non-null object\n",
            "Wire 6    73 non-null object\n",
            "Wire 7    11 non-null object\n",
            "Wire 8    19 non-null object\n",
            "Wire 9    29 non-null object\n",
            "dtypes: int64(1), object(9)\n",
            "memory usage: 240.8+ KB\n"
          ],
          "name": "stdout"
        }
      ]
    },
    {
      "cell_type": "markdown",
      "metadata": {
        "id": "8CxKSnT4dR28"
      },
      "source": [
        "Данная констация времени подачи проволочных материалов не имеет особой ценности, поэтому также оставим данную таблицу."
      ]
    },
    {
      "cell_type": "markdown",
      "metadata": {
        "id": "YGVpYpnwdR28"
      },
      "source": [
        "***"
      ]
    },
    {
      "cell_type": "markdown",
      "metadata": {
        "id": "LU3eY5m5dR29"
      },
      "source": [
        "## План решения задачи"
      ]
    },
    {
      "cell_type": "markdown",
      "metadata": {
        "id": "LV7tKjFQdR29"
      },
      "source": [
        "* Провести исследовательский анализ данных и понять возможно ли решение методами машинного обучения.  \n",
        "* Провести предобработку данных.  \n",
        "* Обучить несколько моделей и выбрать итоговую с максимальной метрикой качества.  \n",
        "* Провести степень достижения соотвествия полученных результатов с поставленными задачами.  \n",
        "* Составить отчёт о результатах работы, возможных затруднений и их решений, а также нахождения нетривиальных путей решения задачи."
      ]
    },
    {
      "cell_type": "markdown",
      "metadata": {
        "id": "LN0fOV4sdR2-"
      },
      "source": [
        "***"
      ]
    },
    {
      "cell_type": "markdown",
      "metadata": {
        "id": "7l9rn7DcdR2_"
      },
      "source": [
        "## 2. Предобработка данных"
      ]
    },
    {
      "cell_type": "markdown",
      "metadata": {
        "id": "jdhI_wJMdR2_"
      },
      "source": [
        "Свели предварительно все признаки и таргет в одну таблицу для правильного соотнесения всех иттераций с ключом `key`."
      ]
    },
    {
      "cell_type": "code",
      "metadata": {
        "id": "v4iny2yddR3A"
      },
      "source": [
        "# создание общей таблицы\n",
        "df = data_arc.merge(data_gas, how='left', on='key')"
      ],
      "execution_count": null,
      "outputs": []
    },
    {
      "cell_type": "code",
      "metadata": {
        "id": "Tl9ODbCjdR3B"
      },
      "source": [
        "# присоединение таблицы first_temp и target_temp\n",
        "df = df.merge(first_temp, how='left', on='key')\n",
        "df = df.merge(target_temp, how='left', on='key')"
      ],
      "execution_count": null,
      "outputs": []
    },
    {
      "cell_type": "code",
      "metadata": {
        "id": "Nfy4vh5JdR3B"
      },
      "source": [
        "# присоединение таблицы data_bulk и data_wire\n",
        "df = df.merge(data_bulk, how='left', on='key')\n",
        "df = df.merge(data_wire, how='left', on='key')"
      ],
      "execution_count": null,
      "outputs": []
    },
    {
      "cell_type": "code",
      "metadata": {
        "id": "I_Ola8FYdR3C",
        "outputId": "6d6f205f-81c5-4e21-bf92-ad299708c090"
      },
      "source": [
        "# инфо об общей таблице\n",
        "df.info()"
      ],
      "execution_count": null,
      "outputs": [
        {
          "output_type": "stream",
          "text": [
            "<class 'pandas.core.frame.DataFrame'>\n",
            "Int64Index: 3214 entries, 0 to 3213\n",
            "Data columns (total 31 columns):\n",
            "key            3214 non-null int64\n",
            "p_power        3214 non-null float64\n",
            "q_power        3214 non-null float64\n",
            "total_time     3214 non-null int64\n",
            "gas            3212 non-null float64\n",
            "first_temp     3214 non-null float64\n",
            "target_temp    3214 non-null float64\n",
            "Bulk 1         3128 non-null float64\n",
            "Bulk 2         3128 non-null float64\n",
            "Bulk 3         3128 non-null float64\n",
            "Bulk 4         3128 non-null float64\n",
            "Bulk 5         3128 non-null float64\n",
            "Bulk 6         3128 non-null float64\n",
            "Bulk 7         3128 non-null float64\n",
            "Bulk 8         3128 non-null float64\n",
            "Bulk 9         3128 non-null float64\n",
            "Bulk 10        3128 non-null float64\n",
            "Bulk 11        3128 non-null float64\n",
            "Bulk 12        3128 non-null float64\n",
            "Bulk 13        3128 non-null float64\n",
            "Bulk 14        3128 non-null float64\n",
            "Bulk 15        3128 non-null float64\n",
            "Wire 1         3080 non-null float64\n",
            "Wire 2         3080 non-null float64\n",
            "Wire 3         3080 non-null float64\n",
            "Wire 4         3080 non-null float64\n",
            "Wire 5         3080 non-null float64\n",
            "Wire 6         3080 non-null float64\n",
            "Wire 7         3080 non-null float64\n",
            "Wire 8         3080 non-null float64\n",
            "Wire 9         3080 non-null float64\n",
            "dtypes: float64(29), int64(2)\n",
            "memory usage: 803.5 KB\n"
          ],
          "name": "stdout"
        }
      ]
    },
    {
      "cell_type": "markdown",
      "metadata": {
        "id": "NOBWva-odR3D"
      },
      "source": [
        "Удалили образовавшиеся пропуски и лишний для обучения столбец `key`."
      ]
    },
    {
      "cell_type": "code",
      "metadata": {
        "id": "4Ek9ktEkdR3D"
      },
      "source": [
        "# удаление пропусков\n",
        "df = df.dropna()\n",
        "\n",
        "# удаление столбца с ключом\n",
        "df = df.drop(['key'], axis=1).reset_index(drop = True)"
      ],
      "execution_count": null,
      "outputs": []
    },
    {
      "cell_type": "markdown",
      "metadata": {
        "id": "k-JktENRdR3E"
      },
      "source": [
        "Во избежании утечки признака в целевой признак удалили часть одинаковых значений в столбцах `first_temp` и `target_temp`."
      ]
    },
    {
      "cell_type": "code",
      "metadata": {
        "id": "Doah46ArdR3E"
      },
      "source": [
        "# удаление одинаковых значений\n",
        "df = df.drop(df[df['first_temp'] == df['target_temp']].index).reset_index(drop=True)"
      ],
      "execution_count": null,
      "outputs": []
    },
    {
      "cell_type": "code",
      "metadata": {
        "id": "kLX-RR0LdR3F",
        "outputId": "7e6cc4a4-5f1b-491e-af89-7fe920d45070"
      },
      "source": [
        "# вид полученной таблицы\n",
        "df"
      ],
      "execution_count": null,
      "outputs": [
        {
          "output_type": "execute_result",
          "data": {
            "text/html": [
              "<div>\n",
              "<style scoped>\n",
              "    .dataframe tbody tr th:only-of-type {\n",
              "        vertical-align: middle;\n",
              "    }\n",
              "\n",
              "    .dataframe tbody tr th {\n",
              "        vertical-align: top;\n",
              "    }\n",
              "\n",
              "    .dataframe thead th {\n",
              "        text-align: right;\n",
              "    }\n",
              "</style>\n",
              "<table border=\"1\" class=\"dataframe\">\n",
              "  <thead>\n",
              "    <tr style=\"text-align: right;\">\n",
              "      <th></th>\n",
              "      <th>p_power</th>\n",
              "      <th>q_power</th>\n",
              "      <th>total_time</th>\n",
              "      <th>gas</th>\n",
              "      <th>first_temp</th>\n",
              "      <th>target_temp</th>\n",
              "      <th>Bulk 1</th>\n",
              "      <th>Bulk 2</th>\n",
              "      <th>Bulk 3</th>\n",
              "      <th>Bulk 4</th>\n",
              "      <th>...</th>\n",
              "      <th>Bulk 15</th>\n",
              "      <th>Wire 1</th>\n",
              "      <th>Wire 2</th>\n",
              "      <th>Wire 3</th>\n",
              "      <th>Wire 4</th>\n",
              "      <th>Wire 5</th>\n",
              "      <th>Wire 6</th>\n",
              "      <th>Wire 7</th>\n",
              "      <th>Wire 8</th>\n",
              "      <th>Wire 9</th>\n",
              "    </tr>\n",
              "  </thead>\n",
              "  <tbody>\n",
              "    <tr>\n",
              "      <td>0</td>\n",
              "      <td>4.878147</td>\n",
              "      <td>3.183241</td>\n",
              "      <td>1098</td>\n",
              "      <td>29.749986</td>\n",
              "      <td>1571.0</td>\n",
              "      <td>1613.0</td>\n",
              "      <td>0.0</td>\n",
              "      <td>0.0</td>\n",
              "      <td>0.0</td>\n",
              "      <td>43.0</td>\n",
              "      <td>...</td>\n",
              "      <td>154.0</td>\n",
              "      <td>60.059998</td>\n",
              "      <td>0.00000</td>\n",
              "      <td>0.0</td>\n",
              "      <td>0.0</td>\n",
              "      <td>0.0</td>\n",
              "      <td>0.0</td>\n",
              "      <td>0.0</td>\n",
              "      <td>0.0</td>\n",
              "      <td>0.0</td>\n",
              "    </tr>\n",
              "    <tr>\n",
              "      <td>1</td>\n",
              "      <td>3.052598</td>\n",
              "      <td>1.998112</td>\n",
              "      <td>811</td>\n",
              "      <td>12.555561</td>\n",
              "      <td>1581.0</td>\n",
              "      <td>1602.0</td>\n",
              "      <td>0.0</td>\n",
              "      <td>0.0</td>\n",
              "      <td>0.0</td>\n",
              "      <td>73.0</td>\n",
              "      <td>...</td>\n",
              "      <td>154.0</td>\n",
              "      <td>96.052315</td>\n",
              "      <td>0.00000</td>\n",
              "      <td>0.0</td>\n",
              "      <td>0.0</td>\n",
              "      <td>0.0</td>\n",
              "      <td>0.0</td>\n",
              "      <td>0.0</td>\n",
              "      <td>0.0</td>\n",
              "      <td>0.0</td>\n",
              "    </tr>\n",
              "    <tr>\n",
              "      <td>2</td>\n",
              "      <td>2.525882</td>\n",
              "      <td>1.599076</td>\n",
              "      <td>655</td>\n",
              "      <td>28.554793</td>\n",
              "      <td>1596.0</td>\n",
              "      <td>1599.0</td>\n",
              "      <td>0.0</td>\n",
              "      <td>0.0</td>\n",
              "      <td>0.0</td>\n",
              "      <td>34.0</td>\n",
              "      <td>...</td>\n",
              "      <td>153.0</td>\n",
              "      <td>91.160157</td>\n",
              "      <td>0.00000</td>\n",
              "      <td>0.0</td>\n",
              "      <td>0.0</td>\n",
              "      <td>0.0</td>\n",
              "      <td>0.0</td>\n",
              "      <td>0.0</td>\n",
              "      <td>0.0</td>\n",
              "      <td>0.0</td>\n",
              "    </tr>\n",
              "    <tr>\n",
              "      <td>3</td>\n",
              "      <td>3.209250</td>\n",
              "      <td>2.060298</td>\n",
              "      <td>741</td>\n",
              "      <td>18.841219</td>\n",
              "      <td>1601.0</td>\n",
              "      <td>1625.0</td>\n",
              "      <td>0.0</td>\n",
              "      <td>0.0</td>\n",
              "      <td>0.0</td>\n",
              "      <td>81.0</td>\n",
              "      <td>...</td>\n",
              "      <td>154.0</td>\n",
              "      <td>89.063515</td>\n",
              "      <td>0.00000</td>\n",
              "      <td>0.0</td>\n",
              "      <td>0.0</td>\n",
              "      <td>0.0</td>\n",
              "      <td>0.0</td>\n",
              "      <td>0.0</td>\n",
              "      <td>0.0</td>\n",
              "      <td>0.0</td>\n",
              "    </tr>\n",
              "    <tr>\n",
              "      <td>4</td>\n",
              "      <td>3.347173</td>\n",
              "      <td>2.252643</td>\n",
              "      <td>869</td>\n",
              "      <td>5.413692</td>\n",
              "      <td>1576.0</td>\n",
              "      <td>1602.0</td>\n",
              "      <td>0.0</td>\n",
              "      <td>0.0</td>\n",
              "      <td>0.0</td>\n",
              "      <td>78.0</td>\n",
              "      <td>...</td>\n",
              "      <td>152.0</td>\n",
              "      <td>89.238236</td>\n",
              "      <td>9.11456</td>\n",
              "      <td>0.0</td>\n",
              "      <td>0.0</td>\n",
              "      <td>0.0</td>\n",
              "      <td>0.0</td>\n",
              "      <td>0.0</td>\n",
              "      <td>0.0</td>\n",
              "      <td>0.0</td>\n",
              "    </tr>\n",
              "    <tr>\n",
              "      <td>...</td>\n",
              "      <td>...</td>\n",
              "      <td>...</td>\n",
              "      <td>...</td>\n",
              "      <td>...</td>\n",
              "      <td>...</td>\n",
              "      <td>...</td>\n",
              "      <td>...</td>\n",
              "      <td>...</td>\n",
              "      <td>...</td>\n",
              "      <td>...</td>\n",
              "      <td>...</td>\n",
              "      <td>...</td>\n",
              "      <td>...</td>\n",
              "      <td>...</td>\n",
              "      <td>...</td>\n",
              "      <td>...</td>\n",
              "      <td>...</td>\n",
              "      <td>...</td>\n",
              "      <td>...</td>\n",
              "      <td>...</td>\n",
              "      <td>...</td>\n",
              "    </tr>\n",
              "    <tr>\n",
              "      <td>2288</td>\n",
              "      <td>3.210690</td>\n",
              "      <td>2.360777</td>\n",
              "      <td>723</td>\n",
              "      <td>7.125735</td>\n",
              "      <td>1570.0</td>\n",
              "      <td>1591.0</td>\n",
              "      <td>0.0</td>\n",
              "      <td>0.0</td>\n",
              "      <td>21.0</td>\n",
              "      <td>0.0</td>\n",
              "      <td>...</td>\n",
              "      <td>223.0</td>\n",
              "      <td>89.150879</td>\n",
              "      <td>0.00000</td>\n",
              "      <td>0.0</td>\n",
              "      <td>0.0</td>\n",
              "      <td>0.0</td>\n",
              "      <td>0.0</td>\n",
              "      <td>0.0</td>\n",
              "      <td>0.0</td>\n",
              "      <td>0.0</td>\n",
              "    </tr>\n",
              "    <tr>\n",
              "      <td>2289</td>\n",
              "      <td>4.203064</td>\n",
              "      <td>2.810185</td>\n",
              "      <td>940</td>\n",
              "      <td>9.412616</td>\n",
              "      <td>1554.0</td>\n",
              "      <td>1591.0</td>\n",
              "      <td>0.0</td>\n",
              "      <td>0.0</td>\n",
              "      <td>0.0</td>\n",
              "      <td>63.0</td>\n",
              "      <td>...</td>\n",
              "      <td>226.0</td>\n",
              "      <td>114.179527</td>\n",
              "      <td>0.00000</td>\n",
              "      <td>0.0</td>\n",
              "      <td>0.0</td>\n",
              "      <td>0.0</td>\n",
              "      <td>0.0</td>\n",
              "      <td>0.0</td>\n",
              "      <td>0.0</td>\n",
              "      <td>0.0</td>\n",
              "    </tr>\n",
              "    <tr>\n",
              "      <td>2290</td>\n",
              "      <td>2.212379</td>\n",
              "      <td>1.851269</td>\n",
              "      <td>569</td>\n",
              "      <td>6.271699</td>\n",
              "      <td>1571.0</td>\n",
              "      <td>1589.0</td>\n",
              "      <td>0.0</td>\n",
              "      <td>0.0</td>\n",
              "      <td>0.0</td>\n",
              "      <td>85.0</td>\n",
              "      <td>...</td>\n",
              "      <td>226.0</td>\n",
              "      <td>94.086723</td>\n",
              "      <td>9.04800</td>\n",
              "      <td>0.0</td>\n",
              "      <td>0.0</td>\n",
              "      <td>0.0</td>\n",
              "      <td>0.0</td>\n",
              "      <td>0.0</td>\n",
              "      <td>0.0</td>\n",
              "      <td>0.0</td>\n",
              "    </tr>\n",
              "    <tr>\n",
              "      <td>2291</td>\n",
              "      <td>3.408725</td>\n",
              "      <td>2.355428</td>\n",
              "      <td>750</td>\n",
              "      <td>14.953657</td>\n",
              "      <td>1591.0</td>\n",
              "      <td>1594.0</td>\n",
              "      <td>0.0</td>\n",
              "      <td>0.0</td>\n",
              "      <td>90.0</td>\n",
              "      <td>0.0</td>\n",
              "      <td>...</td>\n",
              "      <td>207.0</td>\n",
              "      <td>118.110717</td>\n",
              "      <td>0.00000</td>\n",
              "      <td>0.0</td>\n",
              "      <td>0.0</td>\n",
              "      <td>0.0</td>\n",
              "      <td>0.0</td>\n",
              "      <td>0.0</td>\n",
              "      <td>0.0</td>\n",
              "      <td>0.0</td>\n",
              "    </tr>\n",
              "    <tr>\n",
              "      <td>2292</td>\n",
              "      <td>4.098431</td>\n",
              "      <td>2.777865</td>\n",
              "      <td>883</td>\n",
              "      <td>11.336151</td>\n",
              "      <td>1569.0</td>\n",
              "      <td>1603.0</td>\n",
              "      <td>0.0</td>\n",
              "      <td>0.0</td>\n",
              "      <td>47.0</td>\n",
              "      <td>0.0</td>\n",
              "      <td>...</td>\n",
              "      <td>227.0</td>\n",
              "      <td>110.160958</td>\n",
              "      <td>50.00528</td>\n",
              "      <td>0.0</td>\n",
              "      <td>0.0</td>\n",
              "      <td>0.0</td>\n",
              "      <td>0.0</td>\n",
              "      <td>0.0</td>\n",
              "      <td>0.0</td>\n",
              "      <td>0.0</td>\n",
              "    </tr>\n",
              "  </tbody>\n",
              "</table>\n",
              "<p>2293 rows × 30 columns</p>\n",
              "</div>"
            ],
            "text/plain": [
              "       p_power   q_power  total_time        gas  first_temp  target_temp  \\\n",
              "0     4.878147  3.183241        1098  29.749986      1571.0       1613.0   \n",
              "1     3.052598  1.998112         811  12.555561      1581.0       1602.0   \n",
              "2     2.525882  1.599076         655  28.554793      1596.0       1599.0   \n",
              "3     3.209250  2.060298         741  18.841219      1601.0       1625.0   \n",
              "4     3.347173  2.252643         869   5.413692      1576.0       1602.0   \n",
              "...        ...       ...         ...        ...         ...          ...   \n",
              "2288  3.210690  2.360777         723   7.125735      1570.0       1591.0   \n",
              "2289  4.203064  2.810185         940   9.412616      1554.0       1591.0   \n",
              "2290  2.212379  1.851269         569   6.271699      1571.0       1589.0   \n",
              "2291  3.408725  2.355428         750  14.953657      1591.0       1594.0   \n",
              "2292  4.098431  2.777865         883  11.336151      1569.0       1603.0   \n",
              "\n",
              "      Bulk 1  Bulk 2  Bulk 3  Bulk 4  ...  Bulk 15      Wire 1    Wire 2  \\\n",
              "0        0.0     0.0     0.0    43.0  ...    154.0   60.059998   0.00000   \n",
              "1        0.0     0.0     0.0    73.0  ...    154.0   96.052315   0.00000   \n",
              "2        0.0     0.0     0.0    34.0  ...    153.0   91.160157   0.00000   \n",
              "3        0.0     0.0     0.0    81.0  ...    154.0   89.063515   0.00000   \n",
              "4        0.0     0.0     0.0    78.0  ...    152.0   89.238236   9.11456   \n",
              "...      ...     ...     ...     ...  ...      ...         ...       ...   \n",
              "2288     0.0     0.0    21.0     0.0  ...    223.0   89.150879   0.00000   \n",
              "2289     0.0     0.0     0.0    63.0  ...    226.0  114.179527   0.00000   \n",
              "2290     0.0     0.0     0.0    85.0  ...    226.0   94.086723   9.04800   \n",
              "2291     0.0     0.0    90.0     0.0  ...    207.0  118.110717   0.00000   \n",
              "2292     0.0     0.0    47.0     0.0  ...    227.0  110.160958  50.00528   \n",
              "\n",
              "      Wire 3  Wire 4  Wire 5  Wire 6  Wire 7  Wire 8  Wire 9  \n",
              "0        0.0     0.0     0.0     0.0     0.0     0.0     0.0  \n",
              "1        0.0     0.0     0.0     0.0     0.0     0.0     0.0  \n",
              "2        0.0     0.0     0.0     0.0     0.0     0.0     0.0  \n",
              "3        0.0     0.0     0.0     0.0     0.0     0.0     0.0  \n",
              "4        0.0     0.0     0.0     0.0     0.0     0.0     0.0  \n",
              "...      ...     ...     ...     ...     ...     ...     ...  \n",
              "2288     0.0     0.0     0.0     0.0     0.0     0.0     0.0  \n",
              "2289     0.0     0.0     0.0     0.0     0.0     0.0     0.0  \n",
              "2290     0.0     0.0     0.0     0.0     0.0     0.0     0.0  \n",
              "2291     0.0     0.0     0.0     0.0     0.0     0.0     0.0  \n",
              "2292     0.0     0.0     0.0     0.0     0.0     0.0     0.0  \n",
              "\n",
              "[2293 rows x 30 columns]"
            ]
          },
          "metadata": {
            "tags": []
          },
          "execution_count": 32
        }
      ]
    },
    {
      "cell_type": "markdown",
      "metadata": {
        "id": "vocgkNSkdR3G"
      },
      "source": [
        "***"
      ]
    },
    {
      "cell_type": "markdown",
      "metadata": {
        "id": "V8F2i5OLdR3H"
      },
      "source": [
        "## 3. Обучение моделей"
      ]
    },
    {
      "cell_type": "markdown",
      "metadata": {
        "id": "bSNIo6dqdR3H"
      },
      "source": [
        "В качестве целевого признака выбрали последнюю измеренную температуру."
      ]
    },
    {
      "cell_type": "code",
      "metadata": {
        "id": "9LPUxaVSdR3I"
      },
      "source": [
        "# переменные с признаками и ответами\n",
        "X = df.drop(['target_temp'], axis=1)\n",
        "y = df['target_temp']"
      ],
      "execution_count": null,
      "outputs": []
    },
    {
      "cell_type": "code",
      "metadata": {
        "id": "uyS2pElldR3J"
      },
      "source": [
        "# раздел на 75 % обучающей и 25 % тестовой выборки\n",
        "X_train, X_test, y_train, y_test = train_test_split(\n",
        "    X, y, test_size=0.25, random_state=12345)"
      ],
      "execution_count": null,
      "outputs": []
    },
    {
      "cell_type": "markdown",
      "metadata": {
        "id": "w2D6Ezp3dR3L"
      },
      "source": [
        "Проконтролировали размер выборок."
      ]
    },
    {
      "cell_type": "code",
      "metadata": {
        "id": "81ExgKiZdR3L",
        "outputId": "f2896212-16b5-4464-8ea8-f0613e32b38f"
      },
      "source": [
        "X_train.shape, y_train.shape"
      ],
      "execution_count": null,
      "outputs": [
        {
          "output_type": "execute_result",
          "data": {
            "text/plain": [
              "((1719, 29), (1719,))"
            ]
          },
          "metadata": {
            "tags": []
          },
          "execution_count": 35
        }
      ]
    },
    {
      "cell_type": "code",
      "metadata": {
        "id": "uC-T5SG1dR3N",
        "outputId": "299c389e-6409-4854-9af0-7186f755d147"
      },
      "source": [
        "X_test.shape, y_test.shape"
      ],
      "execution_count": null,
      "outputs": [
        {
          "output_type": "execute_result",
          "data": {
            "text/plain": [
              "((574, 29), (574,))"
            ]
          },
          "metadata": {
            "tags": []
          },
          "execution_count": 36
        }
      ]
    },
    {
      "cell_type": "code",
      "metadata": {
        "id": "gKROvDkQdR3O",
        "outputId": "4b387212-d8c5-491a-974d-11ab6fc2e5d0"
      },
      "source": [
        "df.shape"
      ],
      "execution_count": null,
      "outputs": [
        {
          "output_type": "execute_result",
          "data": {
            "text/plain": [
              "(2293, 30)"
            ]
          },
          "metadata": {
            "tags": []
          },
          "execution_count": 37
        }
      ]
    },
    {
      "cell_type": "markdown",
      "metadata": {
        "id": "DAGpsLg7dR3P"
      },
      "source": [
        "Провели масштабирование числовых признаков."
      ]
    },
    {
      "cell_type": "code",
      "metadata": {
        "id": "BiUFRGzUdR3Q"
      },
      "source": [
        "# cоздали объект структуры StandardScaler() и настроили его на обучающих данных\n",
        "scaler = StandardScaler()\n",
        "scaler.fit(X_train)\n",
        "\n",
        "# преобразовали обучающую и тестовую выборки функцией transform()\n",
        "X_train = scaler.transform(X_train)\n",
        "X_test = scaler.transform(X_test)"
      ],
      "execution_count": null,
      "outputs": []
    },
    {
      "cell_type": "markdown",
      "metadata": {
        "id": "dgnZ2-X5dR3R"
      },
      "source": [
        "Написали функцию перебора гиперпараметров по сетке со своим скорером."
      ]
    },
    {
      "cell_type": "code",
      "metadata": {
        "id": "AIxYMvs3dR3S"
      },
      "source": [
        "# функция для оценки качества модели в GridSearch\n",
        "my_scorer = make_scorer(score_func=mean_absolute_error, greater_is_better=False)\n",
        "\n",
        "def grid_search(model, param_grid, cv, features_train, target_train):\n",
        "    grid_model = GridSearchCV(model, param_grid=param_grid, cv=cv, scoring=my_scorer, n_jobs=-1)\n",
        "    grid_model.fit(features_train, target_train)\n",
        "    best_estimator = grid_model.best_estimator_\n",
        "    best_parameters = grid_model.best_params_\n",
        "    best_score = grid_model.best_score_\n",
        "    return best_estimator, best_parameters, best_score"
      ],
      "execution_count": null,
      "outputs": []
    },
    {
      "cell_type": "markdown",
      "metadata": {
        "id": "5lyxgiVldR3T"
      },
      "source": [
        "***"
      ]
    },
    {
      "cell_type": "markdown",
      "metadata": {
        "id": "_b6QJn30dR3T"
      },
      "source": [
        "### 3.1 Линейная регрессия"
      ]
    },
    {
      "cell_type": "code",
      "metadata": {
        "id": "YAGdsXaodR3U"
      },
      "source": [
        "# сетка гиперпараметров линейной регрессии\n",
        "param_grid_reg={'fit_intercept':[True, False],\n",
        "                'normalize':[True, False]}"
      ],
      "execution_count": null,
      "outputs": []
    },
    {
      "cell_type": "code",
      "metadata": {
        "id": "wKPmDujXdR3U",
        "outputId": "8011ed66-453b-4c5a-9231-3771c8b0a174"
      },
      "source": [
        "lin_reg = LinearRegression()\n",
        "grid_lin_reg = grid_search(lin_reg, param_grid_reg, 5, X_train, y_train)\n",
        "grid_lin_reg"
      ],
      "execution_count": null,
      "outputs": [
        {
          "output_type": "execute_result",
          "data": {
            "text/plain": [
              "(LinearRegression(copy_X=True, fit_intercept=True, n_jobs=None, normalize=True),\n",
              " {'fit_intercept': True, 'normalize': True},\n",
              " -6.536510350394517)"
            ]
          },
          "metadata": {
            "tags": []
          },
          "execution_count": 41
        }
      ]
    },
    {
      "cell_type": "code",
      "metadata": {
        "id": "UKWJ4mtTdR3V",
        "outputId": "1cf0af7c-778b-4971-d188-917f55604bda"
      },
      "source": [
        "# определение mae\n",
        "pred_lin_reg = grid_lin_reg[0].predict(X_test)\n",
        "lin_reg_mae = mean_absolute_error(y_test, pred_lin_reg)\n",
        "lin_reg_mae"
      ],
      "execution_count": null,
      "outputs": [
        {
          "output_type": "execute_result",
          "data": {
            "text/plain": [
              "6.19743440057547"
            ]
          },
          "metadata": {
            "tags": []
          },
          "execution_count": 42
        }
      ]
    },
    {
      "cell_type": "markdown",
      "metadata": {
        "id": "gh722RkUdR3W"
      },
      "source": [
        "***"
      ]
    },
    {
      "cell_type": "markdown",
      "metadata": {
        "id": "CY3_veuldR3X"
      },
      "source": [
        "### 3.2 Случайный лес"
      ]
    },
    {
      "cell_type": "code",
      "metadata": {
        "id": "z3s1DceKdR3Y"
      },
      "source": [
        "# сетка параметров случайного леса\n",
        "param_grid_forest={'n_estimators':[25, 50, 75],\n",
        "                   'max_depth':[3, 4, 5],\n",
        "                   'max_features': ['auto', 'sqrt']}"
      ],
      "execution_count": null,
      "outputs": []
    },
    {
      "cell_type": "code",
      "metadata": {
        "id": "ZeDBX8BidR3Y",
        "outputId": "cfebfda5-7b59-4be0-9512-ded75ff0a337"
      },
      "source": [
        "rfr = RandomForestRegressor(random_state=12345)\n",
        "grid_rfr = grid_search(rfr, param_grid_forest, 5, X_train, y_train)\n",
        "grid_rfr"
      ],
      "execution_count": null,
      "outputs": [
        {
          "output_type": "execute_result",
          "data": {
            "text/plain": [
              "(RandomForestRegressor(bootstrap=True, criterion='mse', max_depth=5,\n",
              "                       max_features='auto', max_leaf_nodes=None,\n",
              "                       min_impurity_decrease=0.0, min_impurity_split=None,\n",
              "                       min_samples_leaf=1, min_samples_split=2,\n",
              "                       min_weight_fraction_leaf=0.0, n_estimators=75,\n",
              "                       n_jobs=None, oob_score=False, random_state=12345,\n",
              "                       verbose=0, warm_start=False),\n",
              " {'max_depth': 5, 'max_features': 'auto', 'n_estimators': 75},\n",
              " -6.370481213589712)"
            ]
          },
          "metadata": {
            "tags": []
          },
          "execution_count": 44
        }
      ]
    },
    {
      "cell_type": "code",
      "metadata": {
        "id": "lvgA4KSfdR3Z",
        "outputId": "2addff87-9052-4f72-e497-aa968318af88"
      },
      "source": [
        "# определение mae\n",
        "pred_rfr = grid_rfr[0].predict(X_test)\n",
        "rfr_mae = mean_absolute_error(y_test, pred_rfr)\n",
        "rfr_mae"
      ],
      "execution_count": null,
      "outputs": [
        {
          "output_type": "execute_result",
          "data": {
            "text/plain": [
              "6.469991554435425"
            ]
          },
          "metadata": {
            "tags": []
          },
          "execution_count": 45
        }
      ]
    },
    {
      "cell_type": "markdown",
      "metadata": {
        "id": "mjvx_Xi_dR3a"
      },
      "source": [
        "***"
      ]
    },
    {
      "cell_type": "markdown",
      "metadata": {
        "id": "FanWh37idR3a"
      },
      "source": [
        "### 3.3 Градиентный бустинг CatBoost "
      ]
    },
    {
      "cell_type": "code",
      "metadata": {
        "id": "jm0b9Y9pdR3b"
      },
      "source": [
        "cat = CatBoostRegressor(learning_rate=0.1, depth=2, verbose=False, random_state=12345)"
      ],
      "execution_count": null,
      "outputs": []
    },
    {
      "cell_type": "code",
      "metadata": {
        "scrolled": true,
        "id": "Jr_PjCj2dR3c",
        "outputId": "400dc4c6-1dbc-4cf6-8094-bdbd4c1ae92a"
      },
      "source": [
        "# обучение и определение метрики mae\n",
        "cat.fit(X_train, y_train)\n",
        "predictions = cat.predict(X_test)\n",
        "cat_mae = mean_absolute_error(y_test, predictions)\n",
        "cat_mae"
      ],
      "execution_count": null,
      "outputs": [
        {
          "output_type": "execute_result",
          "data": {
            "text/plain": [
              "5.865325926441813"
            ]
          },
          "metadata": {
            "tags": []
          },
          "execution_count": 47
        }
      ]
    },
    {
      "cell_type": "markdown",
      "metadata": {
        "id": "0qig55XFdR3d"
      },
      "source": [
        "Свели метрики качества разных моделей в одну таблицу."
      ]
    },
    {
      "cell_type": "code",
      "metadata": {
        "id": "NE0hLaybdR3e",
        "outputId": "581457a6-feb5-450d-979e-1ecee31e8f9a"
      },
      "source": [
        "score = pd.DataFrame({'lin_reg': [lin_reg_mae], 'random_forest': [rfr_mae], 'catboost': [cat_mae]}, index=['mae'])\n",
        "score"
      ],
      "execution_count": null,
      "outputs": [
        {
          "output_type": "execute_result",
          "data": {
            "text/html": [
              "<div>\n",
              "<style scoped>\n",
              "    .dataframe tbody tr th:only-of-type {\n",
              "        vertical-align: middle;\n",
              "    }\n",
              "\n",
              "    .dataframe tbody tr th {\n",
              "        vertical-align: top;\n",
              "    }\n",
              "\n",
              "    .dataframe thead th {\n",
              "        text-align: right;\n",
              "    }\n",
              "</style>\n",
              "<table border=\"1\" class=\"dataframe\">\n",
              "  <thead>\n",
              "    <tr style=\"text-align: right;\">\n",
              "      <th></th>\n",
              "      <th>lin_reg</th>\n",
              "      <th>random_forest</th>\n",
              "      <th>catboost</th>\n",
              "    </tr>\n",
              "  </thead>\n",
              "  <tbody>\n",
              "    <tr>\n",
              "      <td>mae</td>\n",
              "      <td>6.197434</td>\n",
              "      <td>6.469992</td>\n",
              "      <td>5.865326</td>\n",
              "    </tr>\n",
              "  </tbody>\n",
              "</table>\n",
              "</div>"
            ],
            "text/plain": [
              "      lin_reg  random_forest  catboost\n",
              "mae  6.197434       6.469992  5.865326"
            ]
          },
          "metadata": {
            "tags": []
          },
          "execution_count": 48
        }
      ]
    },
    {
      "cell_type": "markdown",
      "metadata": {
        "id": "C3NlygcfdR3e"
      },
      "source": [
        "#### Вывод   \n",
        "\n",
        "Лучшая метрика mae у модели градиентного бустинга - 5,8. Данный параметр укладывается в диапазон допустимых значений метрики качества. Линейная регрессия неожиданно показала более лучший score, чем случайный лес."
      ]
    },
    {
      "cell_type": "markdown",
      "metadata": {
        "id": "hl63SWtBdR3f"
      },
      "source": [
        "***"
      ]
    },
    {
      "cell_type": "markdown",
      "metadata": {
        "id": "c4h6KKX2dR3g"
      },
      "source": [
        "## 4. Отчёт"
      ]
    },
    {
      "cell_type": "markdown",
      "metadata": {
        "id": "8DLGkmdtdR3g"
      },
      "source": [
        "Первоначальным условием оптимизации потребления электрической энергии при выплавке стали было создание модели, предсказывающую конечную температуру при каждом итерационном процессе. Признаком успешности модели являлось минимальное значение средней абсолютной ошибки MAE предсказанной и истинной конечной температуры в пределах, установленных заданием (<8,7).  \n",
        "\n",
        "* В результате предобработки данных мы просуммировали затраченную энергию на нагрев стали и общее время нагрева для предсказания конечной темпереатуры в ковше в пределах иттерационного процесса. Особо критичных выбросов в данных не обнаружили. В качестве целевого признака выбрали конечную температуру нагрева, а в качестве одного из признаков - первичную измеренную температуру. Данные о подаче материалов в качестве присадок в стали имеют техническое обоснование, поэтому пропуски здесь закономерны и заполнены нулем. В итоге совместили все признаки и таргет в нескольких таблицах в одну общую для дальнейшего анализа и обучения моделей.  \n",
        "\n",
        "\n",
        "* При соединении нескольких таблиц по ключу `key` в общей таблице у нас образовались пропуски. Причём пропуски соотносились с разными диапазонами ключей `key`. В итоге приняли решение удалить эти строки, а не заполнить их нулем из-за того, что строки со всеми нулями в признаках мало повлияли бы на конечную модель.   \n",
        "\n",
        "\n",
        "* При анализе мы также обнаружили ряд значений первичной температуры в признаках, совпадающей с конечной в таргете. Во избежании утечки удалили эти строки. В результате очистки наша таблица лишилась ~25% строк.  \n",
        "\n",
        "\n",
        "* Обучили несколько моделей, предварительно промасштабировав численные признаки. Линейная регрессия, случайный лес и градиентный бустинг показали хорошие результаты по метрике MAE. Лучшей моделью, как ни странно, оказалась CatBoost со score 5,8.\n",
        "\n",
        "\n",
        "* Модель CatBoost успешно может применяться для адекватного предсказания конечной температуры в пределах заданного диапазона метрики качества."
      ]
    },
    {
      "cell_type": "code",
      "metadata": {
        "id": "EqOTHhuCdR3h",
        "outputId": "83dcba00-67f9-4cd4-ea67-a6888622ae94"
      },
      "source": [
        "# сравнительная таблица\n",
        "score"
      ],
      "execution_count": null,
      "outputs": [
        {
          "output_type": "execute_result",
          "data": {
            "text/html": [
              "<div>\n",
              "<style scoped>\n",
              "    .dataframe tbody tr th:only-of-type {\n",
              "        vertical-align: middle;\n",
              "    }\n",
              "\n",
              "    .dataframe tbody tr th {\n",
              "        vertical-align: top;\n",
              "    }\n",
              "\n",
              "    .dataframe thead th {\n",
              "        text-align: right;\n",
              "    }\n",
              "</style>\n",
              "<table border=\"1\" class=\"dataframe\">\n",
              "  <thead>\n",
              "    <tr style=\"text-align: right;\">\n",
              "      <th></th>\n",
              "      <th>lin_reg</th>\n",
              "      <th>random_forest</th>\n",
              "      <th>catboost</th>\n",
              "    </tr>\n",
              "  </thead>\n",
              "  <tbody>\n",
              "    <tr>\n",
              "      <td>mae</td>\n",
              "      <td>6.197434</td>\n",
              "      <td>6.469992</td>\n",
              "      <td>5.865326</td>\n",
              "    </tr>\n",
              "  </tbody>\n",
              "</table>\n",
              "</div>"
            ],
            "text/plain": [
              "      lin_reg  random_forest  catboost\n",
              "mae  6.197434       6.469992  5.865326"
            ]
          },
          "metadata": {
            "tags": []
          },
          "execution_count": 49
        }
      ]
    }
  ]
}