{
  "nbformat": 4,
  "nbformat_minor": 0,
  "metadata": {
    "ExecuteTimeLog": [
      {
        "duration": 1412,
        "start_time": "2021-06-25T12:58:52.480Z"
      },
      {
        "duration": 1113,
        "start_time": "2021-06-25T12:58:53.894Z"
      },
      {
        "duration": 94,
        "start_time": "2021-06-25T12:58:55.011Z"
      },
      {
        "duration": 128,
        "start_time": "2021-06-25T12:58:55.108Z"
      },
      {
        "duration": 107,
        "start_time": "2021-06-25T12:58:55.238Z"
      },
      {
        "duration": 77,
        "start_time": "2021-06-25T12:58:55.348Z"
      },
      {
        "duration": 1680,
        "start_time": "2021-06-25T12:58:55.428Z"
      },
      {
        "duration": 1111,
        "start_time": "2021-06-25T12:58:57.110Z"
      },
      {
        "duration": 4,
        "start_time": "2021-06-25T12:58:58.226Z"
      },
      {
        "duration": 8,
        "start_time": "2021-06-25T12:58:58.233Z"
      },
      {
        "duration": 14,
        "start_time": "2021-06-25T12:58:58.243Z"
      },
      {
        "duration": 9,
        "start_time": "2021-06-25T12:58:58.259Z"
      },
      {
        "duration": 291,
        "start_time": "2021-06-25T12:58:58.271Z"
      },
      {
        "duration": 4,
        "start_time": "2021-06-25T12:58:58.564Z"
      },
      {
        "duration": 28953,
        "start_time": "2021-06-25T12:58:58.570Z"
      },
      {
        "duration": 7,
        "start_time": "2021-06-25T12:59:27.528Z"
      },
      {
        "duration": 195,
        "start_time": "2021-06-25T12:59:27.537Z"
      },
      {
        "duration": 302,
        "start_time": "2021-06-25T12:59:27.734Z"
      },
      {
        "duration": 7,
        "start_time": "2021-06-25T12:59:28.126Z"
      },
      {
        "duration": 90,
        "start_time": "2021-06-25T12:59:28.136Z"
      },
      {
        "duration": 14,
        "start_time": "2021-06-25T12:59:28.229Z"
      },
      {
        "duration": 80571,
        "start_time": "2021-06-25T12:59:28.246Z"
      },
      {
        "duration": 7,
        "start_time": "2021-06-25T13:00:48.819Z"
      },
      {
        "duration": 783,
        "start_time": "2021-06-25T13:00:48.829Z"
      },
      {
        "duration": 784,
        "start_time": "2021-06-25T13:00:49.614Z"
      },
      {
        "duration": 6,
        "start_time": "2021-06-25T13:00:50.400Z"
      },
      {
        "duration": 4,
        "start_time": "2021-06-25T13:00:50.425Z"
      },
      {
        "duration": 49,
        "start_time": "2021-06-25T13:00:50.431Z"
      },
      {
        "duration": 3,
        "start_time": "2021-06-25T13:00:50.482Z"
      },
      {
        "duration": 240,
        "start_time": "2021-06-25T13:00:50.487Z"
      },
      {
        "duration": 59,
        "start_time": "2021-06-25T13:00:50.729Z"
      },
      {
        "duration": 5,
        "start_time": "2021-06-25T13:00:50.790Z"
      },
      {
        "duration": 38,
        "start_time": "2021-06-25T13:00:50.798Z"
      },
      {
        "duration": 25,
        "start_time": "2021-06-25T13:00:50.839Z"
      },
      {
        "duration": 19,
        "start_time": "2021-06-25T13:00:50.867Z"
      },
      {
        "duration": 18,
        "start_time": "2021-06-25T13:00:50.889Z"
      },
      {
        "duration": 19,
        "start_time": "2021-06-25T13:00:50.909Z"
      },
      {
        "duration": 56406,
        "start_time": "2021-06-25T13:00:50.931Z"
      },
      {
        "duration": 5,
        "start_time": "2021-06-25T13:01:47.425Z"
      },
      {
        "duration": 4395,
        "start_time": "2021-06-25T13:01:47.433Z"
      },
      {
        "duration": 304,
        "start_time": "2021-06-25T13:01:51.831Z"
      },
      {
        "duration": 88,
        "start_time": "2021-06-25T13:01:52.138Z"
      },
      {
        "duration": 8,
        "start_time": "2021-06-25T13:01:52.228Z"
      },
      {
        "duration": 27,
        "start_time": "2021-06-25T13:01:52.238Z"
      }
    ],
    "kernelspec": {
      "display_name": "Python 3",
      "language": "python",
      "name": "python3"
    },
    "language_info": {
      "codemirror_mode": {
        "name": "ipython",
        "version": 3
      },
      "file_extension": ".py",
      "mimetype": "text/x-python",
      "name": "python",
      "nbconvert_exporter": "python",
      "pygments_lexer": "ipython3",
      "version": "3.7.8"
    },
    "toc": {
      "base_numbering": 1,
      "nav_menu": {},
      "number_sections": false,
      "sideBar": true,
      "skip_h1_title": true,
      "title_cell": "Table of Contents",
      "title_sidebar": "Contents",
      "toc_cell": false,
      "toc_position": {},
      "toc_section_display": true,
      "toc_window_display": false
    },
    "colab": {
      "name": "autos_10.ipynb",
      "provenance": [],
      "include_colab_link": true
    }
  },
  "cells": [
    {
      "cell_type": "markdown",
      "metadata": {
        "id": "view-in-github",
        "colab_type": "text"
      },
      "source": [
        "<a href=\"https://colab.research.google.com/github/stixmal/praktikum_project_ds/blob/main/%D0%9E%D0%BF%D1%80%D0%B5%D0%B4%D0%B5%D0%BB%D0%B5%D0%BD%D0%B8%D0%B5%20%D1%80%D1%8B%D0%BD%D0%BE%D1%87%D0%BD%D0%BE%D0%B9%20%D1%81%D1%82%D0%BE%D0%B8%D0%BC%D0%BE%D1%81%D1%82%D0%B8%20%D0%B0%D0%B2%D1%82%D0%BE%D0%BC%D0%BE%D0%B1%D0%B8%D0%BB%D1%8F/autos.ipynb\" target=\"_parent\"><img src=\"https://colab.research.google.com/assets/colab-badge.svg\" alt=\"Open In Colab\"/></a>"
      ]
    },
    {
      "cell_type": "markdown",
      "metadata": {
        "id": "iOo4VIftyjFu"
      },
      "source": [
        "# Приложение для определения рыночной стоимости автомобиля\n",
        "\n",
        "Сервис по продаже автомобилей с пробегом «Не бит, не крашен» разрабатывает приложение для привлечения новых клиентов. В нём можно быстро узнать рыночную стоимость своего автомобиля. В нашем распоряжении исторические данные: технические характеристики, комплектации и цены автомобилей. Построим модель для определения стоимости. \n",
        "\n",
        "Заказчику важны:\n",
        "\n",
        "- качество предсказания;\n",
        "- скорость предсказания;\n",
        "- время обучения.  \n",
        "\n",
        "\n",
        "Источник данных: `/datasets/autos.csv`."
      ]
    },
    {
      "cell_type": "markdown",
      "metadata": {
        "id": "5xv-SbUIyjF8"
      },
      "source": [
        "## Оглавление\n",
        "\n",
        "### [1. Подготовка данных](#1) <a id='10'></a>   \n",
        "\n",
        "\n",
        "\n",
        "### [2. Обучение моделей](#2) <a id='20'></a>\n",
        "\n",
        "\n",
        "\n",
        "### [3. Анализ скорости и качества моделей](#3) <a id='30'></a>\n",
        "\n",
        "\n",
        "***"
      ]
    },
    {
      "cell_type": "markdown",
      "metadata": {
        "id": "Oq366OF0yjF-"
      },
      "source": [
        "## 1. Подготовка данных <a id='1'></a>   [^](#10) "
      ]
    },
    {
      "cell_type": "code",
      "metadata": {
        "id": "s5R5P4BcyjF_"
      },
      "source": [
        "# импорт библиотеки pandas и numpy\n",
        "import pandas as pd \n",
        "import numpy as np  \n",
        "\n",
        "# импорт модуля display\n",
        "from IPython.display import display  \n",
        "\n",
        "# отключение предупреждений\n",
        "import warnings\n",
        "warnings.filterwarnings('ignore') \n",
        "\n",
        "# импорт модуля разделения на выборки\n",
        "from sklearn.model_selection import train_test_split, GridSearchCV\n",
        "\n",
        "# импорт скеллера\n",
        "from sklearn.preprocessing import StandardScaler\n",
        "\n",
        "# импорт модели линейной регрессии\n",
        "from sklearn.linear_model import LinearRegression\n",
        "\n",
        "# импорт модели случайного леса\n",
        "from sklearn.ensemble import RandomForestRegressor\n",
        "\n",
        "# импорт модели градиентного бустинга\n",
        "import lightgbm as lgb\n",
        "\n",
        "# импорт метрик\n",
        "from sklearn.metrics import mean_squared_error, make_scorer\n",
        "\n",
        "# импорт модуля времени\n",
        "import time"
      ],
      "execution_count": null,
      "outputs": []
    },
    {
      "cell_type": "code",
      "metadata": {
        "id": "4aq2XSMTyjGE",
        "outputId": "bfe854bd-962a-4e76-eb97-a4ad5aa4f69d"
      },
      "source": [
        "# чтение файла с данными\n",
        "df = pd.read_csv('/datasets/autos.csv')\n",
        "\n",
        "# визуальный осмотр  \n",
        "df"
      ],
      "execution_count": null,
      "outputs": [
        {
          "output_type": "execute_result",
          "data": {
            "text/html": [
              "<div>\n",
              "<style scoped>\n",
              "    .dataframe tbody tr th:only-of-type {\n",
              "        vertical-align: middle;\n",
              "    }\n",
              "\n",
              "    .dataframe tbody tr th {\n",
              "        vertical-align: top;\n",
              "    }\n",
              "\n",
              "    .dataframe thead th {\n",
              "        text-align: right;\n",
              "    }\n",
              "</style>\n",
              "<table border=\"1\" class=\"dataframe\">\n",
              "  <thead>\n",
              "    <tr style=\"text-align: right;\">\n",
              "      <th></th>\n",
              "      <th>DateCrawled</th>\n",
              "      <th>Price</th>\n",
              "      <th>VehicleType</th>\n",
              "      <th>RegistrationYear</th>\n",
              "      <th>Gearbox</th>\n",
              "      <th>Power</th>\n",
              "      <th>Model</th>\n",
              "      <th>Kilometer</th>\n",
              "      <th>RegistrationMonth</th>\n",
              "      <th>FuelType</th>\n",
              "      <th>Brand</th>\n",
              "      <th>NotRepaired</th>\n",
              "      <th>DateCreated</th>\n",
              "      <th>NumberOfPictures</th>\n",
              "      <th>PostalCode</th>\n",
              "      <th>LastSeen</th>\n",
              "    </tr>\n",
              "  </thead>\n",
              "  <tbody>\n",
              "    <tr>\n",
              "      <td>0</td>\n",
              "      <td>2016-03-24 11:52:17</td>\n",
              "      <td>480</td>\n",
              "      <td>NaN</td>\n",
              "      <td>1993</td>\n",
              "      <td>manual</td>\n",
              "      <td>0</td>\n",
              "      <td>golf</td>\n",
              "      <td>150000</td>\n",
              "      <td>0</td>\n",
              "      <td>petrol</td>\n",
              "      <td>volkswagen</td>\n",
              "      <td>NaN</td>\n",
              "      <td>2016-03-24 00:00:00</td>\n",
              "      <td>0</td>\n",
              "      <td>70435</td>\n",
              "      <td>2016-04-07 03:16:57</td>\n",
              "    </tr>\n",
              "    <tr>\n",
              "      <td>1</td>\n",
              "      <td>2016-03-24 10:58:45</td>\n",
              "      <td>18300</td>\n",
              "      <td>coupe</td>\n",
              "      <td>2011</td>\n",
              "      <td>manual</td>\n",
              "      <td>190</td>\n",
              "      <td>NaN</td>\n",
              "      <td>125000</td>\n",
              "      <td>5</td>\n",
              "      <td>gasoline</td>\n",
              "      <td>audi</td>\n",
              "      <td>yes</td>\n",
              "      <td>2016-03-24 00:00:00</td>\n",
              "      <td>0</td>\n",
              "      <td>66954</td>\n",
              "      <td>2016-04-07 01:46:50</td>\n",
              "    </tr>\n",
              "    <tr>\n",
              "      <td>2</td>\n",
              "      <td>2016-03-14 12:52:21</td>\n",
              "      <td>9800</td>\n",
              "      <td>suv</td>\n",
              "      <td>2004</td>\n",
              "      <td>auto</td>\n",
              "      <td>163</td>\n",
              "      <td>grand</td>\n",
              "      <td>125000</td>\n",
              "      <td>8</td>\n",
              "      <td>gasoline</td>\n",
              "      <td>jeep</td>\n",
              "      <td>NaN</td>\n",
              "      <td>2016-03-14 00:00:00</td>\n",
              "      <td>0</td>\n",
              "      <td>90480</td>\n",
              "      <td>2016-04-05 12:47:46</td>\n",
              "    </tr>\n",
              "    <tr>\n",
              "      <td>3</td>\n",
              "      <td>2016-03-17 16:54:04</td>\n",
              "      <td>1500</td>\n",
              "      <td>small</td>\n",
              "      <td>2001</td>\n",
              "      <td>manual</td>\n",
              "      <td>75</td>\n",
              "      <td>golf</td>\n",
              "      <td>150000</td>\n",
              "      <td>6</td>\n",
              "      <td>petrol</td>\n",
              "      <td>volkswagen</td>\n",
              "      <td>no</td>\n",
              "      <td>2016-03-17 00:00:00</td>\n",
              "      <td>0</td>\n",
              "      <td>91074</td>\n",
              "      <td>2016-03-17 17:40:17</td>\n",
              "    </tr>\n",
              "    <tr>\n",
              "      <td>4</td>\n",
              "      <td>2016-03-31 17:25:20</td>\n",
              "      <td>3600</td>\n",
              "      <td>small</td>\n",
              "      <td>2008</td>\n",
              "      <td>manual</td>\n",
              "      <td>69</td>\n",
              "      <td>fabia</td>\n",
              "      <td>90000</td>\n",
              "      <td>7</td>\n",
              "      <td>gasoline</td>\n",
              "      <td>skoda</td>\n",
              "      <td>no</td>\n",
              "      <td>2016-03-31 00:00:00</td>\n",
              "      <td>0</td>\n",
              "      <td>60437</td>\n",
              "      <td>2016-04-06 10:17:21</td>\n",
              "    </tr>\n",
              "    <tr>\n",
              "      <td>...</td>\n",
              "      <td>...</td>\n",
              "      <td>...</td>\n",
              "      <td>...</td>\n",
              "      <td>...</td>\n",
              "      <td>...</td>\n",
              "      <td>...</td>\n",
              "      <td>...</td>\n",
              "      <td>...</td>\n",
              "      <td>...</td>\n",
              "      <td>...</td>\n",
              "      <td>...</td>\n",
              "      <td>...</td>\n",
              "      <td>...</td>\n",
              "      <td>...</td>\n",
              "      <td>...</td>\n",
              "      <td>...</td>\n",
              "    </tr>\n",
              "    <tr>\n",
              "      <td>354364</td>\n",
              "      <td>2016-03-21 09:50:58</td>\n",
              "      <td>0</td>\n",
              "      <td>NaN</td>\n",
              "      <td>2005</td>\n",
              "      <td>manual</td>\n",
              "      <td>0</td>\n",
              "      <td>colt</td>\n",
              "      <td>150000</td>\n",
              "      <td>7</td>\n",
              "      <td>petrol</td>\n",
              "      <td>mitsubishi</td>\n",
              "      <td>yes</td>\n",
              "      <td>2016-03-21 00:00:00</td>\n",
              "      <td>0</td>\n",
              "      <td>2694</td>\n",
              "      <td>2016-03-21 10:42:49</td>\n",
              "    </tr>\n",
              "    <tr>\n",
              "      <td>354365</td>\n",
              "      <td>2016-03-14 17:48:27</td>\n",
              "      <td>2200</td>\n",
              "      <td>NaN</td>\n",
              "      <td>2005</td>\n",
              "      <td>NaN</td>\n",
              "      <td>0</td>\n",
              "      <td>NaN</td>\n",
              "      <td>20000</td>\n",
              "      <td>1</td>\n",
              "      <td>NaN</td>\n",
              "      <td>sonstige_autos</td>\n",
              "      <td>NaN</td>\n",
              "      <td>2016-03-14 00:00:00</td>\n",
              "      <td>0</td>\n",
              "      <td>39576</td>\n",
              "      <td>2016-04-06 00:46:52</td>\n",
              "    </tr>\n",
              "    <tr>\n",
              "      <td>354366</td>\n",
              "      <td>2016-03-05 19:56:21</td>\n",
              "      <td>1199</td>\n",
              "      <td>convertible</td>\n",
              "      <td>2000</td>\n",
              "      <td>auto</td>\n",
              "      <td>101</td>\n",
              "      <td>fortwo</td>\n",
              "      <td>125000</td>\n",
              "      <td>3</td>\n",
              "      <td>petrol</td>\n",
              "      <td>smart</td>\n",
              "      <td>no</td>\n",
              "      <td>2016-03-05 00:00:00</td>\n",
              "      <td>0</td>\n",
              "      <td>26135</td>\n",
              "      <td>2016-03-11 18:17:12</td>\n",
              "    </tr>\n",
              "    <tr>\n",
              "      <td>354367</td>\n",
              "      <td>2016-03-19 18:57:12</td>\n",
              "      <td>9200</td>\n",
              "      <td>bus</td>\n",
              "      <td>1996</td>\n",
              "      <td>manual</td>\n",
              "      <td>102</td>\n",
              "      <td>transporter</td>\n",
              "      <td>150000</td>\n",
              "      <td>3</td>\n",
              "      <td>gasoline</td>\n",
              "      <td>volkswagen</td>\n",
              "      <td>no</td>\n",
              "      <td>2016-03-19 00:00:00</td>\n",
              "      <td>0</td>\n",
              "      <td>87439</td>\n",
              "      <td>2016-04-07 07:15:26</td>\n",
              "    </tr>\n",
              "    <tr>\n",
              "      <td>354368</td>\n",
              "      <td>2016-03-20 19:41:08</td>\n",
              "      <td>3400</td>\n",
              "      <td>wagon</td>\n",
              "      <td>2002</td>\n",
              "      <td>manual</td>\n",
              "      <td>100</td>\n",
              "      <td>golf</td>\n",
              "      <td>150000</td>\n",
              "      <td>6</td>\n",
              "      <td>gasoline</td>\n",
              "      <td>volkswagen</td>\n",
              "      <td>NaN</td>\n",
              "      <td>2016-03-20 00:00:00</td>\n",
              "      <td>0</td>\n",
              "      <td>40764</td>\n",
              "      <td>2016-03-24 12:45:21</td>\n",
              "    </tr>\n",
              "  </tbody>\n",
              "</table>\n",
              "<p>354369 rows × 16 columns</p>\n",
              "</div>"
            ],
            "text/plain": [
              "                DateCrawled  Price  VehicleType  RegistrationYear Gearbox  \\\n",
              "0       2016-03-24 11:52:17    480          NaN              1993  manual   \n",
              "1       2016-03-24 10:58:45  18300        coupe              2011  manual   \n",
              "2       2016-03-14 12:52:21   9800          suv              2004    auto   \n",
              "3       2016-03-17 16:54:04   1500        small              2001  manual   \n",
              "4       2016-03-31 17:25:20   3600        small              2008  manual   \n",
              "...                     ...    ...          ...               ...     ...   \n",
              "354364  2016-03-21 09:50:58      0          NaN              2005  manual   \n",
              "354365  2016-03-14 17:48:27   2200          NaN              2005     NaN   \n",
              "354366  2016-03-05 19:56:21   1199  convertible              2000    auto   \n",
              "354367  2016-03-19 18:57:12   9200          bus              1996  manual   \n",
              "354368  2016-03-20 19:41:08   3400        wagon              2002  manual   \n",
              "\n",
              "        Power        Model  Kilometer  RegistrationMonth  FuelType  \\\n",
              "0           0         golf     150000                  0    petrol   \n",
              "1         190          NaN     125000                  5  gasoline   \n",
              "2         163        grand     125000                  8  gasoline   \n",
              "3          75         golf     150000                  6    petrol   \n",
              "4          69        fabia      90000                  7  gasoline   \n",
              "...       ...          ...        ...                ...       ...   \n",
              "354364      0         colt     150000                  7    petrol   \n",
              "354365      0          NaN      20000                  1       NaN   \n",
              "354366    101       fortwo     125000                  3    petrol   \n",
              "354367    102  transporter     150000                  3  gasoline   \n",
              "354368    100         golf     150000                  6  gasoline   \n",
              "\n",
              "                 Brand NotRepaired          DateCreated  NumberOfPictures  \\\n",
              "0           volkswagen         NaN  2016-03-24 00:00:00                 0   \n",
              "1                 audi         yes  2016-03-24 00:00:00                 0   \n",
              "2                 jeep         NaN  2016-03-14 00:00:00                 0   \n",
              "3           volkswagen          no  2016-03-17 00:00:00                 0   \n",
              "4                skoda          no  2016-03-31 00:00:00                 0   \n",
              "...                ...         ...                  ...               ...   \n",
              "354364      mitsubishi         yes  2016-03-21 00:00:00                 0   \n",
              "354365  sonstige_autos         NaN  2016-03-14 00:00:00                 0   \n",
              "354366           smart          no  2016-03-05 00:00:00                 0   \n",
              "354367      volkswagen          no  2016-03-19 00:00:00                 0   \n",
              "354368      volkswagen         NaN  2016-03-20 00:00:00                 0   \n",
              "\n",
              "        PostalCode             LastSeen  \n",
              "0            70435  2016-04-07 03:16:57  \n",
              "1            66954  2016-04-07 01:46:50  \n",
              "2            90480  2016-04-05 12:47:46  \n",
              "3            91074  2016-03-17 17:40:17  \n",
              "4            60437  2016-04-06 10:17:21  \n",
              "...            ...                  ...  \n",
              "354364        2694  2016-03-21 10:42:49  \n",
              "354365       39576  2016-04-06 00:46:52  \n",
              "354366       26135  2016-03-11 18:17:12  \n",
              "354367       87439  2016-04-07 07:15:26  \n",
              "354368       40764  2016-03-24 12:45:21  \n",
              "\n",
              "[354369 rows x 16 columns]"
            ]
          },
          "metadata": {
            "tags": []
          },
          "execution_count": 2
        }
      ]
    },
    {
      "cell_type": "markdown",
      "metadata": {
        "id": "S6kDAtNzyjGJ"
      },
      "source": [
        "Признаки:  \n",
        "\n",
        "* **DateCrawled** — дата скачивания анкеты из базы\n",
        "* **VehicleType** — тип автомобильного кузова\n",
        "* **RegistrationYear** — год регистрации автомобиля\n",
        "* **Gearbox** — тип коробки передач\n",
        "* **Power** — мощность (л. с.)\n",
        "* **Model** — модель автомобиля\n",
        "* **Kilometer** — пробег (км)\n",
        "* **RegistrationMonth** — месяц регистрации автомобиля\n",
        "* **FuelType** — тип топлива\n",
        "* **Brand** — марка автомобиля\n",
        "* **NotRepaired** — была машина в ремонте или нет\n",
        "* **DateCreated** — дата создания анкеты\n",
        "* **NumberOfPictures** — количество фотографий автомобиля\n",
        "* **PostalCode** — почтовый индекс владельца анкеты (пользователя)\n",
        "* **LastSeen** — дата последней активности пользователя  \n",
        "\n",
        "Целевой признак:  \n",
        "\n",
        "* **Price** - цена в евро."
      ]
    },
    {
      "cell_type": "markdown",
      "metadata": {
        "id": "cgHeGfSAyjGL"
      },
      "source": [
        "Удалили признаки, невлияющие на предсказания модели:  \n",
        "\n",
        "* дата скачивания анкеты из базы,  \n",
        "* дата создания анкеты, \n",
        "* количество фотографий автомобиля,  \n",
        "* почтовый индекс владельца анкеты,  \n",
        "* дата последней активности пользователя."
      ]
    },
    {
      "cell_type": "code",
      "metadata": {
        "id": "vF8tzPRGyjGN",
        "outputId": "12b239c5-aa8a-4e96-e2f8-d2387425b374"
      },
      "source": [
        "# удаление неактуальных признаков\n",
        "df = df.drop(df[['DateCrawled', 'DateCreated', 'NumberOfPictures', 'PostalCode', 'LastSeen']], axis=1)\n",
        "df"
      ],
      "execution_count": null,
      "outputs": [
        {
          "output_type": "execute_result",
          "data": {
            "text/html": [
              "<div>\n",
              "<style scoped>\n",
              "    .dataframe tbody tr th:only-of-type {\n",
              "        vertical-align: middle;\n",
              "    }\n",
              "\n",
              "    .dataframe tbody tr th {\n",
              "        vertical-align: top;\n",
              "    }\n",
              "\n",
              "    .dataframe thead th {\n",
              "        text-align: right;\n",
              "    }\n",
              "</style>\n",
              "<table border=\"1\" class=\"dataframe\">\n",
              "  <thead>\n",
              "    <tr style=\"text-align: right;\">\n",
              "      <th></th>\n",
              "      <th>Price</th>\n",
              "      <th>VehicleType</th>\n",
              "      <th>RegistrationYear</th>\n",
              "      <th>Gearbox</th>\n",
              "      <th>Power</th>\n",
              "      <th>Model</th>\n",
              "      <th>Kilometer</th>\n",
              "      <th>RegistrationMonth</th>\n",
              "      <th>FuelType</th>\n",
              "      <th>Brand</th>\n",
              "      <th>NotRepaired</th>\n",
              "    </tr>\n",
              "  </thead>\n",
              "  <tbody>\n",
              "    <tr>\n",
              "      <td>0</td>\n",
              "      <td>480</td>\n",
              "      <td>NaN</td>\n",
              "      <td>1993</td>\n",
              "      <td>manual</td>\n",
              "      <td>0</td>\n",
              "      <td>golf</td>\n",
              "      <td>150000</td>\n",
              "      <td>0</td>\n",
              "      <td>petrol</td>\n",
              "      <td>volkswagen</td>\n",
              "      <td>NaN</td>\n",
              "    </tr>\n",
              "    <tr>\n",
              "      <td>1</td>\n",
              "      <td>18300</td>\n",
              "      <td>coupe</td>\n",
              "      <td>2011</td>\n",
              "      <td>manual</td>\n",
              "      <td>190</td>\n",
              "      <td>NaN</td>\n",
              "      <td>125000</td>\n",
              "      <td>5</td>\n",
              "      <td>gasoline</td>\n",
              "      <td>audi</td>\n",
              "      <td>yes</td>\n",
              "    </tr>\n",
              "    <tr>\n",
              "      <td>2</td>\n",
              "      <td>9800</td>\n",
              "      <td>suv</td>\n",
              "      <td>2004</td>\n",
              "      <td>auto</td>\n",
              "      <td>163</td>\n",
              "      <td>grand</td>\n",
              "      <td>125000</td>\n",
              "      <td>8</td>\n",
              "      <td>gasoline</td>\n",
              "      <td>jeep</td>\n",
              "      <td>NaN</td>\n",
              "    </tr>\n",
              "    <tr>\n",
              "      <td>3</td>\n",
              "      <td>1500</td>\n",
              "      <td>small</td>\n",
              "      <td>2001</td>\n",
              "      <td>manual</td>\n",
              "      <td>75</td>\n",
              "      <td>golf</td>\n",
              "      <td>150000</td>\n",
              "      <td>6</td>\n",
              "      <td>petrol</td>\n",
              "      <td>volkswagen</td>\n",
              "      <td>no</td>\n",
              "    </tr>\n",
              "    <tr>\n",
              "      <td>4</td>\n",
              "      <td>3600</td>\n",
              "      <td>small</td>\n",
              "      <td>2008</td>\n",
              "      <td>manual</td>\n",
              "      <td>69</td>\n",
              "      <td>fabia</td>\n",
              "      <td>90000</td>\n",
              "      <td>7</td>\n",
              "      <td>gasoline</td>\n",
              "      <td>skoda</td>\n",
              "      <td>no</td>\n",
              "    </tr>\n",
              "    <tr>\n",
              "      <td>...</td>\n",
              "      <td>...</td>\n",
              "      <td>...</td>\n",
              "      <td>...</td>\n",
              "      <td>...</td>\n",
              "      <td>...</td>\n",
              "      <td>...</td>\n",
              "      <td>...</td>\n",
              "      <td>...</td>\n",
              "      <td>...</td>\n",
              "      <td>...</td>\n",
              "      <td>...</td>\n",
              "    </tr>\n",
              "    <tr>\n",
              "      <td>354364</td>\n",
              "      <td>0</td>\n",
              "      <td>NaN</td>\n",
              "      <td>2005</td>\n",
              "      <td>manual</td>\n",
              "      <td>0</td>\n",
              "      <td>colt</td>\n",
              "      <td>150000</td>\n",
              "      <td>7</td>\n",
              "      <td>petrol</td>\n",
              "      <td>mitsubishi</td>\n",
              "      <td>yes</td>\n",
              "    </tr>\n",
              "    <tr>\n",
              "      <td>354365</td>\n",
              "      <td>2200</td>\n",
              "      <td>NaN</td>\n",
              "      <td>2005</td>\n",
              "      <td>NaN</td>\n",
              "      <td>0</td>\n",
              "      <td>NaN</td>\n",
              "      <td>20000</td>\n",
              "      <td>1</td>\n",
              "      <td>NaN</td>\n",
              "      <td>sonstige_autos</td>\n",
              "      <td>NaN</td>\n",
              "    </tr>\n",
              "    <tr>\n",
              "      <td>354366</td>\n",
              "      <td>1199</td>\n",
              "      <td>convertible</td>\n",
              "      <td>2000</td>\n",
              "      <td>auto</td>\n",
              "      <td>101</td>\n",
              "      <td>fortwo</td>\n",
              "      <td>125000</td>\n",
              "      <td>3</td>\n",
              "      <td>petrol</td>\n",
              "      <td>smart</td>\n",
              "      <td>no</td>\n",
              "    </tr>\n",
              "    <tr>\n",
              "      <td>354367</td>\n",
              "      <td>9200</td>\n",
              "      <td>bus</td>\n",
              "      <td>1996</td>\n",
              "      <td>manual</td>\n",
              "      <td>102</td>\n",
              "      <td>transporter</td>\n",
              "      <td>150000</td>\n",
              "      <td>3</td>\n",
              "      <td>gasoline</td>\n",
              "      <td>volkswagen</td>\n",
              "      <td>no</td>\n",
              "    </tr>\n",
              "    <tr>\n",
              "      <td>354368</td>\n",
              "      <td>3400</td>\n",
              "      <td>wagon</td>\n",
              "      <td>2002</td>\n",
              "      <td>manual</td>\n",
              "      <td>100</td>\n",
              "      <td>golf</td>\n",
              "      <td>150000</td>\n",
              "      <td>6</td>\n",
              "      <td>gasoline</td>\n",
              "      <td>volkswagen</td>\n",
              "      <td>NaN</td>\n",
              "    </tr>\n",
              "  </tbody>\n",
              "</table>\n",
              "<p>354369 rows × 11 columns</p>\n",
              "</div>"
            ],
            "text/plain": [
              "        Price  VehicleType  RegistrationYear Gearbox  Power        Model  \\\n",
              "0         480          NaN              1993  manual      0         golf   \n",
              "1       18300        coupe              2011  manual    190          NaN   \n",
              "2        9800          suv              2004    auto    163        grand   \n",
              "3        1500        small              2001  manual     75         golf   \n",
              "4        3600        small              2008  manual     69        fabia   \n",
              "...       ...          ...               ...     ...    ...          ...   \n",
              "354364      0          NaN              2005  manual      0         colt   \n",
              "354365   2200          NaN              2005     NaN      0          NaN   \n",
              "354366   1199  convertible              2000    auto    101       fortwo   \n",
              "354367   9200          bus              1996  manual    102  transporter   \n",
              "354368   3400        wagon              2002  manual    100         golf   \n",
              "\n",
              "        Kilometer  RegistrationMonth  FuelType           Brand NotRepaired  \n",
              "0          150000                  0    petrol      volkswagen         NaN  \n",
              "1          125000                  5  gasoline            audi         yes  \n",
              "2          125000                  8  gasoline            jeep         NaN  \n",
              "3          150000                  6    petrol      volkswagen          no  \n",
              "4           90000                  7  gasoline           skoda          no  \n",
              "...           ...                ...       ...             ...         ...  \n",
              "354364     150000                  7    petrol      mitsubishi         yes  \n",
              "354365      20000                  1       NaN  sonstige_autos         NaN  \n",
              "354366     125000                  3    petrol           smart          no  \n",
              "354367     150000                  3  gasoline      volkswagen          no  \n",
              "354368     150000                  6  gasoline      volkswagen         NaN  \n",
              "\n",
              "[354369 rows x 11 columns]"
            ]
          },
          "metadata": {
            "tags": []
          },
          "execution_count": 3
        }
      ]
    },
    {
      "cell_type": "code",
      "metadata": {
        "id": "SLF7NdTryjGP",
        "outputId": "fd27699d-8fe8-4b82-c62e-d7eab2a7c79c"
      },
      "source": [
        "# информация о таблице\n",
        "df.info()"
      ],
      "execution_count": null,
      "outputs": [
        {
          "output_type": "stream",
          "text": [
            "<class 'pandas.core.frame.DataFrame'>\n",
            "RangeIndex: 354369 entries, 0 to 354368\n",
            "Data columns (total 11 columns):\n",
            "Price                354369 non-null int64\n",
            "VehicleType          316879 non-null object\n",
            "RegistrationYear     354369 non-null int64\n",
            "Gearbox              334536 non-null object\n",
            "Power                354369 non-null int64\n",
            "Model                334664 non-null object\n",
            "Kilometer            354369 non-null int64\n",
            "RegistrationMonth    354369 non-null int64\n",
            "FuelType             321474 non-null object\n",
            "Brand                354369 non-null object\n",
            "NotRepaired          283215 non-null object\n",
            "dtypes: int64(5), object(6)\n",
            "memory usage: 29.7+ MB\n"
          ],
          "name": "stdout"
        }
      ]
    },
    {
      "cell_type": "code",
      "metadata": {
        "id": "bYsUmAMhyjGQ",
        "outputId": "7bbf0265-c398-465b-9a27-97d92b7427d9"
      },
      "source": [
        "df.describe()"
      ],
      "execution_count": null,
      "outputs": [
        {
          "output_type": "execute_result",
          "data": {
            "text/html": [
              "<div>\n",
              "<style scoped>\n",
              "    .dataframe tbody tr th:only-of-type {\n",
              "        vertical-align: middle;\n",
              "    }\n",
              "\n",
              "    .dataframe tbody tr th {\n",
              "        vertical-align: top;\n",
              "    }\n",
              "\n",
              "    .dataframe thead th {\n",
              "        text-align: right;\n",
              "    }\n",
              "</style>\n",
              "<table border=\"1\" class=\"dataframe\">\n",
              "  <thead>\n",
              "    <tr style=\"text-align: right;\">\n",
              "      <th></th>\n",
              "      <th>Price</th>\n",
              "      <th>RegistrationYear</th>\n",
              "      <th>Power</th>\n",
              "      <th>Kilometer</th>\n",
              "      <th>RegistrationMonth</th>\n",
              "    </tr>\n",
              "  </thead>\n",
              "  <tbody>\n",
              "    <tr>\n",
              "      <td>count</td>\n",
              "      <td>354369.000000</td>\n",
              "      <td>354369.000000</td>\n",
              "      <td>354369.000000</td>\n",
              "      <td>354369.000000</td>\n",
              "      <td>354369.000000</td>\n",
              "    </tr>\n",
              "    <tr>\n",
              "      <td>mean</td>\n",
              "      <td>4416.656776</td>\n",
              "      <td>2004.234448</td>\n",
              "      <td>110.094337</td>\n",
              "      <td>128211.172535</td>\n",
              "      <td>5.714645</td>\n",
              "    </tr>\n",
              "    <tr>\n",
              "      <td>std</td>\n",
              "      <td>4514.158514</td>\n",
              "      <td>90.227958</td>\n",
              "      <td>189.850405</td>\n",
              "      <td>37905.341530</td>\n",
              "      <td>3.726421</td>\n",
              "    </tr>\n",
              "    <tr>\n",
              "      <td>min</td>\n",
              "      <td>0.000000</td>\n",
              "      <td>1000.000000</td>\n",
              "      <td>0.000000</td>\n",
              "      <td>5000.000000</td>\n",
              "      <td>0.000000</td>\n",
              "    </tr>\n",
              "    <tr>\n",
              "      <td>25%</td>\n",
              "      <td>1050.000000</td>\n",
              "      <td>1999.000000</td>\n",
              "      <td>69.000000</td>\n",
              "      <td>125000.000000</td>\n",
              "      <td>3.000000</td>\n",
              "    </tr>\n",
              "    <tr>\n",
              "      <td>50%</td>\n",
              "      <td>2700.000000</td>\n",
              "      <td>2003.000000</td>\n",
              "      <td>105.000000</td>\n",
              "      <td>150000.000000</td>\n",
              "      <td>6.000000</td>\n",
              "    </tr>\n",
              "    <tr>\n",
              "      <td>75%</td>\n",
              "      <td>6400.000000</td>\n",
              "      <td>2008.000000</td>\n",
              "      <td>143.000000</td>\n",
              "      <td>150000.000000</td>\n",
              "      <td>9.000000</td>\n",
              "    </tr>\n",
              "    <tr>\n",
              "      <td>max</td>\n",
              "      <td>20000.000000</td>\n",
              "      <td>9999.000000</td>\n",
              "      <td>20000.000000</td>\n",
              "      <td>150000.000000</td>\n",
              "      <td>12.000000</td>\n",
              "    </tr>\n",
              "  </tbody>\n",
              "</table>\n",
              "</div>"
            ],
            "text/plain": [
              "               Price  RegistrationYear          Power      Kilometer  \\\n",
              "count  354369.000000     354369.000000  354369.000000  354369.000000   \n",
              "mean     4416.656776       2004.234448     110.094337  128211.172535   \n",
              "std      4514.158514         90.227958     189.850405   37905.341530   \n",
              "min         0.000000       1000.000000       0.000000    5000.000000   \n",
              "25%      1050.000000       1999.000000      69.000000  125000.000000   \n",
              "50%      2700.000000       2003.000000     105.000000  150000.000000   \n",
              "75%      6400.000000       2008.000000     143.000000  150000.000000   \n",
              "max     20000.000000       9999.000000   20000.000000  150000.000000   \n",
              "\n",
              "       RegistrationMonth  \n",
              "count      354369.000000  \n",
              "mean            5.714645  \n",
              "std             3.726421  \n",
              "min             0.000000  \n",
              "25%             3.000000  \n",
              "50%             6.000000  \n",
              "75%             9.000000  \n",
              "max            12.000000  "
            ]
          },
          "metadata": {
            "tags": []
          },
          "execution_count": 5
        }
      ]
    },
    {
      "cell_type": "markdown",
      "metadata": {
        "id": "K_1xwXekyjGT"
      },
      "source": [
        "Видим, что в столбцах имеются пропущенные значения и выбросы в признаках цены, мощности автомобиля и года регистрации."
      ]
    },
    {
      "cell_type": "code",
      "metadata": {
        "id": "AY0tTUNmyjGU",
        "outputId": "2eacb793-5492-4dcd-ba1c-30b664bfed27"
      },
      "source": [
        "# избавление от выбросов\n",
        "df_new = df.query('Price > 100 and ( 1900 <= RegistrationYear <= 2020) and Power < 1000')\n",
        "\n",
        "# очистка таблицы составила не более 5 %\n",
        "len(df_new) / len(df)"
      ],
      "execution_count": null,
      "outputs": [
        {
          "output_type": "execute_result",
          "data": {
            "text/plain": [
              "0.9584190490703194"
            ]
          },
          "metadata": {
            "tags": []
          },
          "execution_count": 6
        }
      ]
    },
    {
      "cell_type": "code",
      "metadata": {
        "id": "k85XCENPyjGW"
      },
      "source": [
        "# провели прямое кодирование категориальных признаков с избеганием дамми-ловушки \n",
        "data_ohe = pd.get_dummies(df_new, drop_first=True)\n",
        "\n",
        "# переменные с признаками и ответами\n",
        "X = data_ohe.drop(['Price'], axis=1)\n",
        "y = data_ohe['Price']"
      ],
      "execution_count": null,
      "outputs": []
    },
    {
      "cell_type": "code",
      "metadata": {
        "id": "ahUZBJfRyjGY"
      },
      "source": [
        "# раздел на 75 % обучающей и 25 % тестовой выборки\n",
        "X_train, X_test, y_train, y_test = train_test_split(\n",
        "    X, y, test_size=0.25, random_state=12345)"
      ],
      "execution_count": null,
      "outputs": []
    },
    {
      "cell_type": "markdown",
      "metadata": {
        "id": "0mHix_2vyjGZ"
      },
      "source": [
        "Проконтролировали размер выборок."
      ]
    },
    {
      "cell_type": "code",
      "metadata": {
        "id": "xR7-s07gyjGa",
        "outputId": "213fdd26-0dba-47e3-fc02-b15275f178ca"
      },
      "source": [
        "X_train.shape, y_train.shape"
      ],
      "execution_count": null,
      "outputs": [
        {
          "output_type": "execute_result",
          "data": {
            "text/plain": [
              "((254725, 307), (254725,))"
            ]
          },
          "metadata": {
            "tags": []
          },
          "execution_count": 9
        }
      ]
    },
    {
      "cell_type": "code",
      "metadata": {
        "id": "oGhpsZd5yjGb",
        "outputId": "32733d86-9e91-476f-f304-9416c1ad44a0"
      },
      "source": [
        "X_test.shape, y_test.shape"
      ],
      "execution_count": null,
      "outputs": [
        {
          "output_type": "execute_result",
          "data": {
            "text/plain": [
              "((84909, 307), (84909,))"
            ]
          },
          "metadata": {
            "tags": []
          },
          "execution_count": 10
        }
      ]
    },
    {
      "cell_type": "code",
      "metadata": {
        "id": "7r-KvOL7yjGd",
        "outputId": "ec4b98fe-6559-4b09-b306-b66c2be949bb"
      },
      "source": [
        "data_ohe.shape"
      ],
      "execution_count": null,
      "outputs": [
        {
          "output_type": "execute_result",
          "data": {
            "text/plain": [
              "(339634, 308)"
            ]
          },
          "metadata": {
            "tags": []
          },
          "execution_count": 11
        }
      ]
    },
    {
      "cell_type": "code",
      "metadata": {
        "id": "8IVaqkbXyjGe"
      },
      "source": [
        "# провели масштабирование числовых признаков\n",
        "numeric = ['RegistrationYear', 'Power', 'Kilometer', 'RegistrationMonth']"
      ],
      "execution_count": null,
      "outputs": []
    },
    {
      "cell_type": "code",
      "metadata": {
        "id": "Ra3CbKrTyjGf"
      },
      "source": [
        "# cоздали объект структуры StandardScaler() и настроили его на обучающих данных\n",
        "scaler = StandardScaler()\n",
        "scaler.fit(X_train[numeric])\n",
        "\n",
        "# преобразовали обучающую и тестовую выборки функцией transform()\n",
        "X_train[numeric] = scaler.transform(X_train[numeric])\n",
        "X_test[numeric] = scaler.transform(X_test[numeric])"
      ],
      "execution_count": null,
      "outputs": []
    },
    {
      "cell_type": "markdown",
      "metadata": {
        "id": "_IB-IKQGyjGg"
      },
      "source": [
        "## 2. Обучение моделей <a id='2'></a>  [^](#10) "
      ]
    },
    {
      "cell_type": "markdown",
      "metadata": {
        "id": "DJYii1GcyjGi"
      },
      "source": [
        "* ### 2.1 Линейная регрессия"
      ]
    },
    {
      "cell_type": "code",
      "metadata": {
        "id": "QiT1POERyjGi"
      },
      "source": [
        "lin_reg = LinearRegression(n_jobs=-1)"
      ],
      "execution_count": null,
      "outputs": []
    },
    {
      "cell_type": "code",
      "metadata": {
        "id": "fp6mjrINyjGj",
        "outputId": "a55f6830-387f-435e-a7a7-c22d20d86c93"
      },
      "source": [
        "# время обучения модели\n",
        "start = time.time()\n",
        "lin_reg.fit(X_train, y_train)\n",
        "end_fit = time.time() - start\n",
        "end_fit"
      ],
      "execution_count": null,
      "outputs": [
        {
          "output_type": "execute_result",
          "data": {
            "text/plain": [
              "28.85953426361084"
            ]
          },
          "metadata": {
            "tags": []
          },
          "execution_count": 15
        }
      ]
    },
    {
      "cell_type": "code",
      "metadata": {
        "id": "64PlbxsdyjGl",
        "outputId": "54f0b66d-3fdc-4b25-a457-86f1dc3995f1"
      },
      "source": [
        "# параметры модели\n",
        "lin_reg.get_params()"
      ],
      "execution_count": null,
      "outputs": [
        {
          "output_type": "execute_result",
          "data": {
            "text/plain": [
              "{'copy_X': True, 'fit_intercept': True, 'n_jobs': -1, 'normalize': False}"
            ]
          },
          "metadata": {
            "tags": []
          },
          "execution_count": 16
        }
      ]
    },
    {
      "cell_type": "code",
      "metadata": {
        "id": "j8riFcizyjGo",
        "outputId": "f18846a6-0d0e-4c49-c34f-3c1fa127fdf0"
      },
      "source": [
        "# время предсказания модели\n",
        "start = time.time()\n",
        "y_pred = lin_reg.predict(X_test)\n",
        "end_pred = time.time() - start\n",
        "end_pred"
      ],
      "execution_count": null,
      "outputs": [
        {
          "output_type": "execute_result",
          "data": {
            "text/plain": [
              "0.1830449104309082"
            ]
          },
          "metadata": {
            "tags": []
          },
          "execution_count": 17
        }
      ]
    },
    {
      "cell_type": "code",
      "metadata": {
        "id": "fZ-tHRROyjGp",
        "outputId": "e193bb43-e3bf-400b-af03-5838d18208fc"
      },
      "source": [
        "# score и rmse модели\n",
        "score = lin_reg.score(X_test, y_test)\n",
        "score"
      ],
      "execution_count": null,
      "outputs": [
        {
          "output_type": "execute_result",
          "data": {
            "text/plain": [
              "0.6266601656842947"
            ]
          },
          "metadata": {
            "tags": []
          },
          "execution_count": 18
        }
      ]
    },
    {
      "cell_type": "code",
      "metadata": {
        "id": "30iqv4mJyjGq",
        "outputId": "62f0504d-d28c-4f3c-ff7c-7527076f2a08"
      },
      "source": [
        "rmse = mean_squared_error(y_test, y_pred) ** 0.5\n",
        "rmse"
      ],
      "execution_count": null,
      "outputs": [
        {
          "output_type": "execute_result",
          "data": {
            "text/plain": [
              "2756.6020625766455"
            ]
          },
          "metadata": {
            "tags": []
          },
          "execution_count": 19
        }
      ]
    },
    {
      "cell_type": "code",
      "metadata": {
        "id": "v5gZ_uipyjG0"
      },
      "source": [
        "# результаты сохраним в results\n",
        "results = []\n",
        "results.append(('Lin_Reg', end_fit, end_pred, score, rmse))"
      ],
      "execution_count": null,
      "outputs": []
    },
    {
      "cell_type": "markdown",
      "metadata": {
        "id": "ym4b1u-myjG1"
      },
      "source": [
        "* ### 2.2 Случайный лес"
      ]
    },
    {
      "cell_type": "code",
      "metadata": {
        "id": "Jet-i9xayjG1"
      },
      "source": [
        "rfr = RandomForestRegressor(n_jobs=-1, random_state=12345)"
      ],
      "execution_count": null,
      "outputs": []
    },
    {
      "cell_type": "code",
      "metadata": {
        "id": "VzhwTkY2yjG2",
        "outputId": "c153c500-f7ed-43e4-852f-260d815d3c08"
      },
      "source": [
        "# время обучения модели\n",
        "start = time.time()\n",
        "rfr.fit(X_train, y_train)\n",
        "end_fit = time.time() - start\n",
        "end_fit"
      ],
      "execution_count": null,
      "outputs": [
        {
          "output_type": "execute_result",
          "data": {
            "text/plain": [
              "80.56161952018738"
            ]
          },
          "metadata": {
            "tags": []
          },
          "execution_count": 22
        }
      ]
    },
    {
      "cell_type": "code",
      "metadata": {
        "id": "LAmzxlBtyjG4",
        "outputId": "d5507a4f-2f4d-4d59-fb82-5644075a90fa"
      },
      "source": [
        "# параметры модели\n",
        "rfr.get_params()"
      ],
      "execution_count": null,
      "outputs": [
        {
          "output_type": "execute_result",
          "data": {
            "text/plain": [
              "{'bootstrap': True,\n",
              " 'criterion': 'mse',\n",
              " 'max_depth': None,\n",
              " 'max_features': 'auto',\n",
              " 'max_leaf_nodes': None,\n",
              " 'min_impurity_decrease': 0.0,\n",
              " 'min_impurity_split': None,\n",
              " 'min_samples_leaf': 1,\n",
              " 'min_samples_split': 2,\n",
              " 'min_weight_fraction_leaf': 0.0,\n",
              " 'n_estimators': 10,\n",
              " 'n_jobs': -1,\n",
              " 'oob_score': False,\n",
              " 'random_state': 12345,\n",
              " 'verbose': 0,\n",
              " 'warm_start': False}"
            ]
          },
          "metadata": {
            "tags": []
          },
          "execution_count": 23
        }
      ]
    },
    {
      "cell_type": "code",
      "metadata": {
        "id": "NBmsLWyWyjG5",
        "outputId": "51f22bba-856d-4f7c-da4b-d96eb9d4bd93"
      },
      "source": [
        "# время предсказания модели\n",
        "start = time.time()\n",
        "y_pred = rfr.predict(X_test)\n",
        "end_pred = time.time() - start\n",
        "end_pred"
      ],
      "execution_count": null,
      "outputs": [
        {
          "output_type": "execute_result",
          "data": {
            "text/plain": [
              "0.7742817401885986"
            ]
          },
          "metadata": {
            "tags": []
          },
          "execution_count": 24
        }
      ]
    },
    {
      "cell_type": "code",
      "metadata": {
        "id": "nfoOqbLoyjG6"
      },
      "source": [
        "# score и rmse модели\n",
        "score = rfr.score(X_test, y_test)"
      ],
      "execution_count": null,
      "outputs": []
    },
    {
      "cell_type": "code",
      "metadata": {
        "id": "mCSuaSZbyjG8",
        "outputId": "257de4e7-48b5-42bd-d1ba-dd216fbee771"
      },
      "source": [
        "rmse = mean_squared_error(y_test, y_pred) ** 0.5\n",
        "rmse"
      ],
      "execution_count": null,
      "outputs": [
        {
          "output_type": "execute_result",
          "data": {
            "text/plain": [
              "1683.4602613053873"
            ]
          },
          "metadata": {
            "tags": []
          },
          "execution_count": 26
        }
      ]
    },
    {
      "cell_type": "code",
      "metadata": {
        "id": "Gg2KvRQTyjG9"
      },
      "source": [
        "# результаты сохраним в results\n",
        "results.append(('Random_Forest', end_fit, end_pred, score, rmse))"
      ],
      "execution_count": null,
      "outputs": []
    },
    {
      "cell_type": "markdown",
      "metadata": {
        "id": "IyzYsqZLyjG-"
      },
      "source": [
        "* ### 2.3 Градиентный бустинг LightGBM"
      ]
    },
    {
      "cell_type": "markdown",
      "metadata": {
        "id": "kDmqLT7IyjG-"
      },
      "source": [
        "Так как LightGBM поддерживает категориальные переменные, преобразовали их в `int`."
      ]
    },
    {
      "cell_type": "code",
      "metadata": {
        "id": "tG4Ly5KRyjG_"
      },
      "source": [
        "# переменные с признаками и ответами\n",
        "X = df_new.drop(['Price'], axis=1)\n",
        "y = df_new['Price']"
      ],
      "execution_count": null,
      "outputs": []
    },
    {
      "cell_type": "code",
      "metadata": {
        "id": "YYyLVoW2yjHg"
      },
      "source": [
        "cat_features = ['VehicleType', 'Gearbox', 'Model', 'FuelType', 'Brand', 'NotRepaired']"
      ],
      "execution_count": null,
      "outputs": []
    },
    {
      "cell_type": "code",
      "metadata": {
        "id": "K47uhDR1yjHh"
      },
      "source": [
        "# кодирование категориальных признаков\n",
        "for i in cat_features:\n",
        "    X[i] = X[i].astype('category').cat.codes"
      ],
      "execution_count": null,
      "outputs": []
    },
    {
      "cell_type": "code",
      "metadata": {
        "id": "1zDYevQyyjHi"
      },
      "source": [
        "# раздел на 75 % обучающей и 25 % тестовой выборки\n",
        "X_train, X_test, y_train, y_test = train_test_split(\n",
        "    X, y, test_size=0.25, random_state=12345)"
      ],
      "execution_count": null,
      "outputs": []
    },
    {
      "cell_type": "markdown",
      "metadata": {
        "id": "UkDBxr7EyjHj"
      },
      "source": [
        "Проконтролировали размер выборок."
      ]
    },
    {
      "cell_type": "code",
      "metadata": {
        "id": "S87D6gquyjHj",
        "outputId": "77cdd78a-bafa-44d9-e9ae-17555f29e0fb"
      },
      "source": [
        "X_train.shape, y_train.shape"
      ],
      "execution_count": null,
      "outputs": [
        {
          "output_type": "execute_result",
          "data": {
            "text/plain": [
              "((254725, 10), (254725,))"
            ]
          },
          "metadata": {
            "tags": []
          },
          "execution_count": 32
        }
      ]
    },
    {
      "cell_type": "code",
      "metadata": {
        "id": "dahZA886yjHk",
        "outputId": "ae0c5b87-5af8-411e-8df5-08c872b6efad"
      },
      "source": [
        "X_test.shape, y_test.shape"
      ],
      "execution_count": null,
      "outputs": [
        {
          "output_type": "execute_result",
          "data": {
            "text/plain": [
              "((84909, 10), (84909,))"
            ]
          },
          "metadata": {
            "tags": []
          },
          "execution_count": 33
        }
      ]
    },
    {
      "cell_type": "code",
      "metadata": {
        "id": "O8rP27DLyjHm",
        "outputId": "07ab8bd7-686e-40ec-e140-4a05410372ee"
      },
      "source": [
        "df_new.shape"
      ],
      "execution_count": null,
      "outputs": [
        {
          "output_type": "execute_result",
          "data": {
            "text/plain": [
              "(339634, 11)"
            ]
          },
          "metadata": {
            "tags": []
          },
          "execution_count": 34
        }
      ]
    },
    {
      "cell_type": "code",
      "metadata": {
        "id": "bZNpxu4ZyjHn"
      },
      "source": [
        "# функция нахождения лучшей модели по поиску гиперпараметров GridSearchCV\n",
        "def grid_search(model, param_grid, cv, X_train, y_train):\n",
        "    grid_model = GridSearchCV(model, param_grid=param_grid, cv=cv, n_jobs=-1)\n",
        "    grid_model.fit(X_train, y_train)\n",
        "    best_estimator = grid_model.best_estimator_\n",
        "    best_parameters = grid_model.best_params_\n",
        "    best_score = grid_model.best_score_\n",
        "    return best_estimator, best_parameters, best_score"
      ],
      "execution_count": null,
      "outputs": []
    },
    {
      "cell_type": "code",
      "metadata": {
        "id": "U9GrPDiVyjHp"
      },
      "source": [
        "# сетка гиперпараметров градиентного бустинга\n",
        "param_grid={'learning_rate': [0.01, 0.1, 1],\n",
        "            'n_estimators': [20, 40],\n",
        "           }"
      ],
      "execution_count": null,
      "outputs": []
    },
    {
      "cell_type": "code",
      "metadata": {
        "id": "qKPf3yXsyjHp"
      },
      "source": [
        "# вызов LightGBM\n",
        "gbm = lgb.LGBMRegressor(num_leaves=31, random_state=12345)"
      ],
      "execution_count": null,
      "outputs": []
    },
    {
      "cell_type": "code",
      "metadata": {
        "id": "zuwJ7PzLyjHr",
        "outputId": "9e731ed8-90ac-47af-ae74-a3649c379ab8"
      },
      "source": [
        "# нахожение лучшей модели по сетке гиперпараметров\n",
        "grid_bust = grid_search(gbm, param_grid, 3, X_train, y_train)\n",
        "grid_bust"
      ],
      "execution_count": null,
      "outputs": [
        {
          "output_type": "execute_result",
          "data": {
            "text/plain": [
              "(LGBMRegressor(boosting_type='gbdt', class_weight=None, colsample_bytree=1.0,\n",
              "               importance_type='split', learning_rate=1, max_depth=-1,\n",
              "               min_child_samples=20, min_child_weight=0.001, min_split_gain=0.0,\n",
              "               n_estimators=40, n_jobs=-1, num_leaves=31, objective=None,\n",
              "               random_state=12345, reg_alpha=0.0, reg_lambda=0.0, silent=True,\n",
              "               subsample=1.0, subsample_for_bin=200000, subsample_freq=0),\n",
              " {'learning_rate': 1, 'n_estimators': 40},\n",
              " 0.8389217369065698)"
            ]
          },
          "metadata": {
            "tags": []
          },
          "execution_count": 38
        }
      ]
    },
    {
      "cell_type": "code",
      "metadata": {
        "id": "reHqfA2ByjHr"
      },
      "source": [
        "gbm = lgb.LGBMRegressor(num_leaves=31, learning_rate=grid_bust[1]['learning_rate'],\n",
        "                        n_estimators=grid_bust[1]['n_estimators'], random_state=12345)"
      ],
      "execution_count": null,
      "outputs": []
    },
    {
      "cell_type": "code",
      "metadata": {
        "id": "TY9hcdrPyjHs",
        "outputId": "65082295-493f-4458-f371-a3901d6bc805"
      },
      "source": [
        "# время обучения лучшей модели\n",
        "start = time.time()\n",
        "gbm.fit(X_train, y_train)\n",
        "end_fit = time.time() - start\n",
        "end_fit"
      ],
      "execution_count": null,
      "outputs": [
        {
          "output_type": "execute_result",
          "data": {
            "text/plain": [
              "4.3850438594818115"
            ]
          },
          "metadata": {
            "tags": []
          },
          "execution_count": 40
        }
      ]
    },
    {
      "cell_type": "code",
      "metadata": {
        "id": "3n2ZSTdByjHt",
        "outputId": "efc09d9f-039f-4744-d14e-de62b532cf6d"
      },
      "source": [
        "# время предсказания модели\n",
        "start = time.time()\n",
        "y_pred = gbm.predict(X_test)\n",
        "end_pred = time.time() - start\n",
        "end_pred"
      ],
      "execution_count": null,
      "outputs": [
        {
          "output_type": "execute_result",
          "data": {
            "text/plain": [
              "0.2973175048828125"
            ]
          },
          "metadata": {
            "tags": []
          },
          "execution_count": 41
        }
      ]
    },
    {
      "cell_type": "code",
      "metadata": {
        "id": "ENLudcydyjHu",
        "outputId": "59497760-a137-4c09-83d5-8af97a4986d7"
      },
      "source": [
        "# rmse модели\n",
        "rmse = mean_squared_error(y_test, y_pred) ** 0.5\n",
        "rmse"
      ],
      "execution_count": null,
      "outputs": [
        {
          "output_type": "execute_result",
          "data": {
            "text/plain": [
              "1794.9439418299862"
            ]
          },
          "metadata": {
            "tags": []
          },
          "execution_count": 42
        }
      ]
    },
    {
      "cell_type": "code",
      "metadata": {
        "id": "F9OkojSZyjIE"
      },
      "source": [
        "# результаты сохраним в results\n",
        "results.append(('LightGBM', end_fit, end_pred, grid_bust[2], rmse))"
      ],
      "execution_count": null,
      "outputs": []
    },
    {
      "cell_type": "markdown",
      "metadata": {
        "id": "PRIdxrOcyjIF"
      },
      "source": [
        "## 3. Анализ скорости и качества моделей <a id='3'></a>  [^](#10) "
      ]
    },
    {
      "cell_type": "markdown",
      "metadata": {
        "id": "JoPS5ZlPyjIF"
      },
      "source": [
        "Свели результаты по всем моделям."
      ]
    },
    {
      "cell_type": "code",
      "metadata": {
        "id": "686sybRAyjIG",
        "outputId": "92706184-4772-4367-8e81-70885bea1dce"
      },
      "source": [
        "results_all = pd.DataFrame(results, columns=['Модель', 'Время обучения, c', 'Время предсказания, c', 'Score', 'RMSE'])\n",
        "results_all"
      ],
      "execution_count": null,
      "outputs": [
        {
          "output_type": "execute_result",
          "data": {
            "text/html": [
              "<div>\n",
              "<style scoped>\n",
              "    .dataframe tbody tr th:only-of-type {\n",
              "        vertical-align: middle;\n",
              "    }\n",
              "\n",
              "    .dataframe tbody tr th {\n",
              "        vertical-align: top;\n",
              "    }\n",
              "\n",
              "    .dataframe thead th {\n",
              "        text-align: right;\n",
              "    }\n",
              "</style>\n",
              "<table border=\"1\" class=\"dataframe\">\n",
              "  <thead>\n",
              "    <tr style=\"text-align: right;\">\n",
              "      <th></th>\n",
              "      <th>Модель</th>\n",
              "      <th>Время обучения, c</th>\n",
              "      <th>Время предсказания, c</th>\n",
              "      <th>Score</th>\n",
              "      <th>RMSE</th>\n",
              "    </tr>\n",
              "  </thead>\n",
              "  <tbody>\n",
              "    <tr>\n",
              "      <td>0</td>\n",
              "      <td>Lin_Reg</td>\n",
              "      <td>28.859534</td>\n",
              "      <td>0.183045</td>\n",
              "      <td>0.626660</td>\n",
              "      <td>2756.602063</td>\n",
              "    </tr>\n",
              "    <tr>\n",
              "      <td>1</td>\n",
              "      <td>Random_Forest</td>\n",
              "      <td>80.561620</td>\n",
              "      <td>0.774282</td>\n",
              "      <td>0.860761</td>\n",
              "      <td>1683.460261</td>\n",
              "    </tr>\n",
              "    <tr>\n",
              "      <td>2</td>\n",
              "      <td>LightGBM</td>\n",
              "      <td>4.385044</td>\n",
              "      <td>0.297318</td>\n",
              "      <td>0.838922</td>\n",
              "      <td>1794.943942</td>\n",
              "    </tr>\n",
              "  </tbody>\n",
              "</table>\n",
              "</div>"
            ],
            "text/plain": [
              "          Модель  Время обучения, c  Время предсказания, c     Score  \\\n",
              "0        Lin_Reg          28.859534               0.183045  0.626660   \n",
              "1  Random_Forest          80.561620               0.774282  0.860761   \n",
              "2       LightGBM           4.385044               0.297318  0.838922   \n",
              "\n",
              "          RMSE  \n",
              "0  2756.602063  \n",
              "1  1683.460261  \n",
              "2  1794.943942  "
            ]
          },
          "metadata": {
            "tags": []
          },
          "execution_count": 44
        }
      ]
    },
    {
      "cell_type": "markdown",
      "metadata": {
        "id": "nI_SXyhmyjIH"
      },
      "source": [
        "## Вывод:  \n",
        "\n",
        "* Качество предсказаний линейной регрессии значительно проигрывает двум другим моделям.  \n",
        "* Время обучения случайного леса даже без учета перебора гиперпараметров превышает 1 минуту. Однако и качество предсказаний также существенно выше, чем у линейной регрессии.\n",
        "* Качество градиентного бустинга LightGBM сопоставимо с качеством случайного леса. Время обучения различается довольно сильно, что несомненно идёт в плюс бустингу.\n",
        "* Все модели предсказывают довольно быстро - в пределах одной секунды.\n",
        "* Модель градиентного бустинга является предпочтительней в виду высокой скорости обучения и качества предсказаний."
      ]
    }
  ]
}