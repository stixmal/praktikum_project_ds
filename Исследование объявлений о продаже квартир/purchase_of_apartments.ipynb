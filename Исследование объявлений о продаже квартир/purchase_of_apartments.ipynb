{
  "nbformat": 4,
  "nbformat_minor": 0,
  "metadata": {
    "ExecuteTimeLog": [
      {
        "duration": 913,
        "start_time": "2021-06-23T16:20:38.591Z"
      },
      {
        "duration": 93,
        "start_time": "2021-06-23T16:20:39.507Z"
      },
      {
        "duration": 78,
        "start_time": "2021-06-23T16:20:39.602Z"
      },
      {
        "duration": 16,
        "start_time": "2021-06-23T16:20:39.682Z"
      },
      {
        "duration": 126,
        "start_time": "2021-06-23T16:20:39.700Z"
      },
      {
        "duration": 12,
        "start_time": "2021-06-23T16:20:39.828Z"
      },
      {
        "duration": 23,
        "start_time": "2021-06-23T16:20:39.842Z"
      },
      {
        "duration": 16,
        "start_time": "2021-06-23T16:20:39.869Z"
      },
      {
        "duration": 33,
        "start_time": "2021-06-23T16:20:39.889Z"
      },
      {
        "duration": 4040,
        "start_time": "2021-06-23T16:20:39.925Z"
      },
      {
        "duration": 18,
        "start_time": "2021-06-23T16:20:43.968Z"
      },
      {
        "duration": 41,
        "start_time": "2021-06-23T16:20:43.988Z"
      },
      {
        "duration": 33,
        "start_time": "2021-06-23T16:20:44.031Z"
      },
      {
        "duration": 13,
        "start_time": "2021-06-23T16:20:44.066Z"
      },
      {
        "duration": 17,
        "start_time": "2021-06-23T16:20:44.081Z"
      },
      {
        "duration": 5376,
        "start_time": "2021-06-23T16:20:44.101Z"
      },
      {
        "duration": 4865,
        "start_time": "2021-06-23T16:20:49.479Z"
      },
      {
        "duration": 17,
        "start_time": "2021-06-23T16:20:54.346Z"
      },
      {
        "duration": 970,
        "start_time": "2021-06-23T16:20:54.365Z"
      },
      {
        "duration": 8,
        "start_time": "2021-06-23T16:20:55.337Z"
      },
      {
        "duration": 9,
        "start_time": "2021-06-23T16:20:55.361Z"
      },
      {
        "duration": 42,
        "start_time": "2021-06-23T16:20:55.372Z"
      },
      {
        "duration": 678,
        "start_time": "2021-06-23T16:20:55.417Z"
      },
      {
        "duration": 756,
        "start_time": "2021-06-23T16:20:56.097Z"
      },
      {
        "duration": 447,
        "start_time": "2021-06-23T16:20:56.861Z"
      },
      {
        "duration": 625,
        "start_time": "2021-06-23T16:20:57.314Z"
      },
      {
        "duration": 40,
        "start_time": "2021-06-23T16:20:57.944Z"
      },
      {
        "duration": 665,
        "start_time": "2021-06-23T16:20:57.987Z"
      },
      {
        "duration": 351,
        "start_time": "2021-06-23T16:20:58.662Z"
      },
      {
        "duration": 11,
        "start_time": "2021-06-23T16:20:59.016Z"
      },
      {
        "duration": 325,
        "start_time": "2021-06-23T16:20:59.029Z"
      },
      {
        "duration": 26,
        "start_time": "2021-06-23T16:20:59.356Z"
      },
      {
        "duration": 11,
        "start_time": "2021-06-23T16:20:59.385Z"
      },
      {
        "duration": 252,
        "start_time": "2021-06-23T16:20:59.399Z"
      },
      {
        "duration": 44,
        "start_time": "2021-06-23T16:20:59.653Z"
      },
      {
        "duration": 10,
        "start_time": "2021-06-23T16:20:59.700Z"
      },
      {
        "duration": 55,
        "start_time": "2021-06-23T16:20:59.713Z"
      },
      {
        "duration": 12,
        "start_time": "2021-06-23T16:20:59.770Z"
      },
      {
        "duration": 340,
        "start_time": "2021-06-23T16:20:59.784Z"
      },
      {
        "duration": 10,
        "start_time": "2021-06-23T16:21:00.127Z"
      },
      {
        "duration": 34,
        "start_time": "2021-06-23T16:21:00.140Z"
      },
      {
        "duration": 428,
        "start_time": "2021-06-23T16:21:00.177Z"
      },
      {
        "duration": 21,
        "start_time": "2021-06-23T16:21:00.608Z"
      },
      {
        "duration": 35,
        "start_time": "2021-06-23T16:21:00.631Z"
      },
      {
        "duration": 80,
        "start_time": "2021-06-23T16:21:00.668Z"
      },
      {
        "duration": 5,
        "start_time": "2021-06-23T16:21:00.761Z"
      },
      {
        "duration": 32,
        "start_time": "2021-06-23T16:21:00.768Z"
      },
      {
        "duration": 14,
        "start_time": "2021-06-23T16:21:00.802Z"
      },
      {
        "duration": 5874,
        "start_time": "2021-06-23T16:21:00.819Z"
      },
      {
        "duration": 447,
        "start_time": "2021-06-23T16:21:06.695Z"
      },
      {
        "duration": 558,
        "start_time": "2021-06-23T16:21:07.144Z"
      },
      {
        "duration": 820,
        "start_time": "2021-06-23T16:21:07.705Z"
      },
      {
        "duration": 617,
        "start_time": "2021-06-23T16:21:08.528Z"
      },
      {
        "duration": 34,
        "start_time": "2021-06-23T16:21:09.148Z"
      },
      {
        "duration": 32,
        "start_time": "2021-06-23T16:21:09.185Z"
      },
      {
        "duration": 9,
        "start_time": "2021-06-23T16:21:09.220Z"
      },
      {
        "duration": 40,
        "start_time": "2021-06-23T16:21:09.263Z"
      },
      {
        "duration": 558,
        "start_time": "2021-06-23T16:21:09.306Z"
      },
      {
        "duration": 1152,
        "start_time": "2021-06-23T16:21:09.867Z"
      },
      {
        "duration": 14,
        "start_time": "2021-06-23T16:21:11.021Z"
      },
      {
        "duration": 445,
        "start_time": "2021-06-23T16:21:11.038Z"
      },
      {
        "duration": 533,
        "start_time": "2021-06-23T16:21:11.486Z"
      },
      {
        "duration": 683,
        "start_time": "2021-06-23T16:21:12.021Z"
      },
      {
        "duration": 494,
        "start_time": "2021-06-23T16:21:12.707Z"
      }
    ],
    "kernelspec": {
      "display_name": "Python 3",
      "language": "python",
      "name": "python3"
    },
    "language_info": {
      "codemirror_mode": {
        "name": "ipython",
        "version": 3
      },
      "file_extension": ".py",
      "mimetype": "text/x-python",
      "name": "python",
      "nbconvert_exporter": "python",
      "pygments_lexer": "ipython3",
      "version": "3.7.8"
    },
    "toc": {
      "base_numbering": 1,
      "nav_menu": {},
      "number_sections": false,
      "sideBar": true,
      "skip_h1_title": true,
      "title_cell": "Table of Contents",
      "title_sidebar": "Contents",
      "toc_cell": false,
      "toc_position": {},
      "toc_section_display": true,
      "toc_window_display": false
    },
    "colab": {
      "name": "purchase of apartments.ipynb",
      "provenance": [],
      "include_colab_link": true
    }
  },
  "cells": [
    {
      "cell_type": "markdown",
      "metadata": {
        "id": "view-in-github",
        "colab_type": "text"
      },
      "source": [
        "<a href=\"https://colab.research.google.com/github/stixmal/praktikum_project_ds/blob/main/%D0%98%D1%81%D1%81%D0%BB%D0%B5%D0%B4%D0%BE%D0%B2%D0%B0%D0%BD%D0%B8%D0%B5%20%D0%BE%D0%B1%D1%8A%D1%8F%D0%B2%D0%BB%D0%B5%D0%BD%D0%B8%D0%B9%20%D0%BE%20%D0%BF%D1%80%D0%BE%D0%B4%D0%B0%D0%B6%D0%B5%20%D0%BA%D0%B2%D0%B0%D1%80%D1%82%D0%B8%D1%80/purchase_of_apartments.ipynb\" target=\"_parent\"><img src=\"https://colab.research.google.com/assets/colab-badge.svg\" alt=\"Open In Colab\"/></a>"
      ]
    },
    {
      "cell_type": "markdown",
      "metadata": {
        "id": "ipSvHcOPrm0s"
      },
      "source": [
        "# Исследование объявлений о продаже квартир\n",
        "\n",
        "Научимся определять рыночную стоимость объектов недвижимости. Наша задача — установить параметры, которые позволят построить автоматизированную систему, отслеживающую аномалии и мошенническую деятельность. В нашем распоряжении данные сервиса Яндекс.Недвижимость — архив объявлений о продаже квартир в Санкт-Петербурге и соседних населённых пунктов за несколько лет. Источник: `/datasets/real_estate_data.csv`.\n",
        "\n",
        "По каждой квартире на продажу доступны два вида данных. Первые вписаны пользователем, вторые — получены автоматически на основе картографических данных. Например, расстояние до центра, аэропорта, ближайшего парка и водоёма. "
      ]
    },
    {
      "cell_type": "markdown",
      "metadata": {
        "id": "3oGnoXiArm01"
      },
      "source": [
        "## Оглавление\n",
        "\n",
        "### [1. Ознакомление с общей информацией](#1) <a id='10'></a>   \n",
        "\n",
        "### [2. Предобработка данных](#2) <a id='20'></a>\n",
        "+ [Работа с пропусками](#2.1)  \n",
        "\n",
        "\n",
        "+ [Замена типа данных](#2.2)\n",
        "\n",
        "### [3. Работа с таблицей](#3) <a id='30'></a>\n",
        "+ [Определение цены квадратного метра](#3.1)  \n",
        "\n",
        "\n",
        "+ [Расчёт даты публикации объявления](#3.2)  \n",
        "\n",
        "\n",
        "+ [Категоризация данных столбца с этажом квартиры](#3.3)  \n",
        "\n",
        "\n",
        "+ [Расчёт соотношения площадей в квартире](#3.4)  \n",
        "\n",
        "\n",
        "### [4. Исследовательский анализ данных](#4) <a id='40'></a>\n",
        "+ [Исследование площади, цены, числа комнат, высоты потолков](#4.1)\n",
        "\n",
        "\n",
        "+ [Исследование количества времени для продажи квартиры](#4.2)\n",
        "\n",
        "\n",
        "+ [Анализ редких и выбивающихся значений](#4.3)\n",
        "\n",
        "\n",
        "+ [Исследование факторов, влияющих на стоимость квартиры](#4.4)\n",
        "\n",
        "\n",
        "+ [Анализ десяти населённых пунктов с наибольшим числом объявлений](#4.5)\n",
        "\n",
        "\n",
        "+ [Анализ изменения цены по степени удалённости от центра](#4.6)\n",
        "\n",
        "\n",
        "+ [Сравнение выводов по квартирам в центре и общих выводов по всему городу](#4.7)\n",
        "\n",
        "\n",
        "### [5. Общий вывод](#5) <a id='50'></a>\n",
        "***"
      ]
    },
    {
      "cell_type": "markdown",
      "metadata": {
        "id": "EabotQwNrm03"
      },
      "source": [
        "## 1. Ознакомление с общей информацией <a id='1'></a>   [^](#10) "
      ]
    },
    {
      "cell_type": "markdown",
      "metadata": {
        "id": "6-Wx0WsWrm04"
      },
      "source": [
        "Изучим данные, предоставленные сервисом Яндекс.Недвижимость для проекта."
      ]
    },
    {
      "cell_type": "code",
      "metadata": {
        "id": "3mb5qpvorm06"
      },
      "source": [
        "# импорт библиотеки pandas\n",
        "import pandas as pd    \n",
        "\n",
        "# импорт библиотеки mathplot\n",
        "import matplotlib.pyplot as plt\n",
        "\n",
        "# импорт модуля display\n",
        "from IPython.display import display  "
      ],
      "execution_count": null,
      "outputs": []
    },
    {
      "cell_type": "markdown",
      "metadata": {
        "id": "d4PWj8aYrm07"
      },
      "source": [
        "Прочитаем файл и сохраним его в переменной `df`."
      ]
    },
    {
      "cell_type": "code",
      "metadata": {
        "id": "TZyq7DCqrm08"
      },
      "source": [
        "# чтение файла с данными\n",
        "df = pd.read_csv('/datasets/real_estate_data.csv', sep='\\t')  "
      ],
      "execution_count": null,
      "outputs": []
    },
    {
      "cell_type": "markdown",
      "metadata": {
        "id": "JZr8q_Q7rm0-"
      },
      "source": [
        "Оценим взглядом нашу таблицу."
      ]
    },
    {
      "cell_type": "code",
      "metadata": {
        "scrolled": true,
        "id": "GLzhl6Xhrm0_",
        "outputId": "115f1409-b47e-4822-dd98-7d3bf0bba7b8"
      },
      "source": [
        "# вызов таблицы на экран\n",
        "display(df)     "
      ],
      "execution_count": null,
      "outputs": [
        {
          "output_type": "display_data",
          "data": {
            "text/html": [
              "<div>\n",
              "<style scoped>\n",
              "    .dataframe tbody tr th:only-of-type {\n",
              "        vertical-align: middle;\n",
              "    }\n",
              "\n",
              "    .dataframe tbody tr th {\n",
              "        vertical-align: top;\n",
              "    }\n",
              "\n",
              "    .dataframe thead th {\n",
              "        text-align: right;\n",
              "    }\n",
              "</style>\n",
              "<table border=\"1\" class=\"dataframe\">\n",
              "  <thead>\n",
              "    <tr style=\"text-align: right;\">\n",
              "      <th></th>\n",
              "      <th>total_images</th>\n",
              "      <th>last_price</th>\n",
              "      <th>total_area</th>\n",
              "      <th>first_day_exposition</th>\n",
              "      <th>rooms</th>\n",
              "      <th>ceiling_height</th>\n",
              "      <th>floors_total</th>\n",
              "      <th>living_area</th>\n",
              "      <th>floor</th>\n",
              "      <th>is_apartment</th>\n",
              "      <th>...</th>\n",
              "      <th>kitchen_area</th>\n",
              "      <th>balcony</th>\n",
              "      <th>locality_name</th>\n",
              "      <th>airports_nearest</th>\n",
              "      <th>cityCenters_nearest</th>\n",
              "      <th>parks_around3000</th>\n",
              "      <th>parks_nearest</th>\n",
              "      <th>ponds_around3000</th>\n",
              "      <th>ponds_nearest</th>\n",
              "      <th>days_exposition</th>\n",
              "    </tr>\n",
              "  </thead>\n",
              "  <tbody>\n",
              "    <tr>\n",
              "      <td>0</td>\n",
              "      <td>20</td>\n",
              "      <td>13000000.0</td>\n",
              "      <td>108.00</td>\n",
              "      <td>2019-03-07T00:00:00</td>\n",
              "      <td>3</td>\n",
              "      <td>2.70</td>\n",
              "      <td>16.0</td>\n",
              "      <td>51.0</td>\n",
              "      <td>8</td>\n",
              "      <td>NaN</td>\n",
              "      <td>...</td>\n",
              "      <td>25.00</td>\n",
              "      <td>NaN</td>\n",
              "      <td>Санкт-Петербург</td>\n",
              "      <td>18863.0</td>\n",
              "      <td>16028.0</td>\n",
              "      <td>1.0</td>\n",
              "      <td>482.0</td>\n",
              "      <td>2.0</td>\n",
              "      <td>755.0</td>\n",
              "      <td>NaN</td>\n",
              "    </tr>\n",
              "    <tr>\n",
              "      <td>1</td>\n",
              "      <td>7</td>\n",
              "      <td>3350000.0</td>\n",
              "      <td>40.40</td>\n",
              "      <td>2018-12-04T00:00:00</td>\n",
              "      <td>1</td>\n",
              "      <td>NaN</td>\n",
              "      <td>11.0</td>\n",
              "      <td>18.6</td>\n",
              "      <td>1</td>\n",
              "      <td>NaN</td>\n",
              "      <td>...</td>\n",
              "      <td>11.00</td>\n",
              "      <td>2.0</td>\n",
              "      <td>посёлок Шушары</td>\n",
              "      <td>12817.0</td>\n",
              "      <td>18603.0</td>\n",
              "      <td>0.0</td>\n",
              "      <td>NaN</td>\n",
              "      <td>0.0</td>\n",
              "      <td>NaN</td>\n",
              "      <td>81.0</td>\n",
              "    </tr>\n",
              "    <tr>\n",
              "      <td>2</td>\n",
              "      <td>10</td>\n",
              "      <td>5196000.0</td>\n",
              "      <td>56.00</td>\n",
              "      <td>2015-08-20T00:00:00</td>\n",
              "      <td>2</td>\n",
              "      <td>NaN</td>\n",
              "      <td>5.0</td>\n",
              "      <td>34.3</td>\n",
              "      <td>4</td>\n",
              "      <td>NaN</td>\n",
              "      <td>...</td>\n",
              "      <td>8.30</td>\n",
              "      <td>0.0</td>\n",
              "      <td>Санкт-Петербург</td>\n",
              "      <td>21741.0</td>\n",
              "      <td>13933.0</td>\n",
              "      <td>1.0</td>\n",
              "      <td>90.0</td>\n",
              "      <td>2.0</td>\n",
              "      <td>574.0</td>\n",
              "      <td>558.0</td>\n",
              "    </tr>\n",
              "    <tr>\n",
              "      <td>3</td>\n",
              "      <td>0</td>\n",
              "      <td>64900000.0</td>\n",
              "      <td>159.00</td>\n",
              "      <td>2015-07-24T00:00:00</td>\n",
              "      <td>3</td>\n",
              "      <td>NaN</td>\n",
              "      <td>14.0</td>\n",
              "      <td>NaN</td>\n",
              "      <td>9</td>\n",
              "      <td>NaN</td>\n",
              "      <td>...</td>\n",
              "      <td>NaN</td>\n",
              "      <td>0.0</td>\n",
              "      <td>Санкт-Петербург</td>\n",
              "      <td>28098.0</td>\n",
              "      <td>6800.0</td>\n",
              "      <td>2.0</td>\n",
              "      <td>84.0</td>\n",
              "      <td>3.0</td>\n",
              "      <td>234.0</td>\n",
              "      <td>424.0</td>\n",
              "    </tr>\n",
              "    <tr>\n",
              "      <td>4</td>\n",
              "      <td>2</td>\n",
              "      <td>10000000.0</td>\n",
              "      <td>100.00</td>\n",
              "      <td>2018-06-19T00:00:00</td>\n",
              "      <td>2</td>\n",
              "      <td>3.03</td>\n",
              "      <td>14.0</td>\n",
              "      <td>32.0</td>\n",
              "      <td>13</td>\n",
              "      <td>NaN</td>\n",
              "      <td>...</td>\n",
              "      <td>41.00</td>\n",
              "      <td>NaN</td>\n",
              "      <td>Санкт-Петербург</td>\n",
              "      <td>31856.0</td>\n",
              "      <td>8098.0</td>\n",
              "      <td>2.0</td>\n",
              "      <td>112.0</td>\n",
              "      <td>1.0</td>\n",
              "      <td>48.0</td>\n",
              "      <td>121.0</td>\n",
              "    </tr>\n",
              "    <tr>\n",
              "      <td>...</td>\n",
              "      <td>...</td>\n",
              "      <td>...</td>\n",
              "      <td>...</td>\n",
              "      <td>...</td>\n",
              "      <td>...</td>\n",
              "      <td>...</td>\n",
              "      <td>...</td>\n",
              "      <td>...</td>\n",
              "      <td>...</td>\n",
              "      <td>...</td>\n",
              "      <td>...</td>\n",
              "      <td>...</td>\n",
              "      <td>...</td>\n",
              "      <td>...</td>\n",
              "      <td>...</td>\n",
              "      <td>...</td>\n",
              "      <td>...</td>\n",
              "      <td>...</td>\n",
              "      <td>...</td>\n",
              "      <td>...</td>\n",
              "      <td>...</td>\n",
              "    </tr>\n",
              "    <tr>\n",
              "      <td>23694</td>\n",
              "      <td>9</td>\n",
              "      <td>9700000.0</td>\n",
              "      <td>133.81</td>\n",
              "      <td>2017-03-21T00:00:00</td>\n",
              "      <td>3</td>\n",
              "      <td>3.70</td>\n",
              "      <td>5.0</td>\n",
              "      <td>73.3</td>\n",
              "      <td>3</td>\n",
              "      <td>NaN</td>\n",
              "      <td>...</td>\n",
              "      <td>13.83</td>\n",
              "      <td>NaN</td>\n",
              "      <td>Санкт-Петербург</td>\n",
              "      <td>24665.0</td>\n",
              "      <td>4232.0</td>\n",
              "      <td>1.0</td>\n",
              "      <td>796.0</td>\n",
              "      <td>3.0</td>\n",
              "      <td>381.0</td>\n",
              "      <td>NaN</td>\n",
              "    </tr>\n",
              "    <tr>\n",
              "      <td>23695</td>\n",
              "      <td>14</td>\n",
              "      <td>3100000.0</td>\n",
              "      <td>59.00</td>\n",
              "      <td>2018-01-15T00:00:00</td>\n",
              "      <td>3</td>\n",
              "      <td>NaN</td>\n",
              "      <td>5.0</td>\n",
              "      <td>38.0</td>\n",
              "      <td>4</td>\n",
              "      <td>NaN</td>\n",
              "      <td>...</td>\n",
              "      <td>8.50</td>\n",
              "      <td>NaN</td>\n",
              "      <td>Тосно</td>\n",
              "      <td>NaN</td>\n",
              "      <td>NaN</td>\n",
              "      <td>NaN</td>\n",
              "      <td>NaN</td>\n",
              "      <td>NaN</td>\n",
              "      <td>NaN</td>\n",
              "      <td>45.0</td>\n",
              "    </tr>\n",
              "    <tr>\n",
              "      <td>23696</td>\n",
              "      <td>18</td>\n",
              "      <td>2500000.0</td>\n",
              "      <td>56.70</td>\n",
              "      <td>2018-02-11T00:00:00</td>\n",
              "      <td>2</td>\n",
              "      <td>NaN</td>\n",
              "      <td>3.0</td>\n",
              "      <td>29.7</td>\n",
              "      <td>1</td>\n",
              "      <td>NaN</td>\n",
              "      <td>...</td>\n",
              "      <td>NaN</td>\n",
              "      <td>NaN</td>\n",
              "      <td>село Рождествено</td>\n",
              "      <td>NaN</td>\n",
              "      <td>NaN</td>\n",
              "      <td>NaN</td>\n",
              "      <td>NaN</td>\n",
              "      <td>NaN</td>\n",
              "      <td>NaN</td>\n",
              "      <td>NaN</td>\n",
              "    </tr>\n",
              "    <tr>\n",
              "      <td>23697</td>\n",
              "      <td>13</td>\n",
              "      <td>11475000.0</td>\n",
              "      <td>76.75</td>\n",
              "      <td>2017-03-28T00:00:00</td>\n",
              "      <td>2</td>\n",
              "      <td>3.00</td>\n",
              "      <td>17.0</td>\n",
              "      <td>NaN</td>\n",
              "      <td>12</td>\n",
              "      <td>NaN</td>\n",
              "      <td>...</td>\n",
              "      <td>23.30</td>\n",
              "      <td>2.0</td>\n",
              "      <td>Санкт-Петербург</td>\n",
              "      <td>39140.0</td>\n",
              "      <td>10364.0</td>\n",
              "      <td>2.0</td>\n",
              "      <td>173.0</td>\n",
              "      <td>3.0</td>\n",
              "      <td>196.0</td>\n",
              "      <td>602.0</td>\n",
              "    </tr>\n",
              "    <tr>\n",
              "      <td>23698</td>\n",
              "      <td>4</td>\n",
              "      <td>1350000.0</td>\n",
              "      <td>32.30</td>\n",
              "      <td>2017-07-21T00:00:00</td>\n",
              "      <td>1</td>\n",
              "      <td>2.50</td>\n",
              "      <td>5.0</td>\n",
              "      <td>12.3</td>\n",
              "      <td>1</td>\n",
              "      <td>NaN</td>\n",
              "      <td>...</td>\n",
              "      <td>9.00</td>\n",
              "      <td>NaN</td>\n",
              "      <td>поселок Новый Учхоз</td>\n",
              "      <td>NaN</td>\n",
              "      <td>NaN</td>\n",
              "      <td>NaN</td>\n",
              "      <td>NaN</td>\n",
              "      <td>NaN</td>\n",
              "      <td>NaN</td>\n",
              "      <td>NaN</td>\n",
              "    </tr>\n",
              "  </tbody>\n",
              "</table>\n",
              "<p>23699 rows × 22 columns</p>\n",
              "</div>"
            ],
            "text/plain": [
              "       total_images  last_price  total_area first_day_exposition  rooms  \\\n",
              "0                20  13000000.0      108.00  2019-03-07T00:00:00      3   \n",
              "1                 7   3350000.0       40.40  2018-12-04T00:00:00      1   \n",
              "2                10   5196000.0       56.00  2015-08-20T00:00:00      2   \n",
              "3                 0  64900000.0      159.00  2015-07-24T00:00:00      3   \n",
              "4                 2  10000000.0      100.00  2018-06-19T00:00:00      2   \n",
              "...             ...         ...         ...                  ...    ...   \n",
              "23694             9   9700000.0      133.81  2017-03-21T00:00:00      3   \n",
              "23695            14   3100000.0       59.00  2018-01-15T00:00:00      3   \n",
              "23696            18   2500000.0       56.70  2018-02-11T00:00:00      2   \n",
              "23697            13  11475000.0       76.75  2017-03-28T00:00:00      2   \n",
              "23698             4   1350000.0       32.30  2017-07-21T00:00:00      1   \n",
              "\n",
              "       ceiling_height  floors_total  living_area  floor is_apartment  ...  \\\n",
              "0                2.70          16.0         51.0      8          NaN  ...   \n",
              "1                 NaN          11.0         18.6      1          NaN  ...   \n",
              "2                 NaN           5.0         34.3      4          NaN  ...   \n",
              "3                 NaN          14.0          NaN      9          NaN  ...   \n",
              "4                3.03          14.0         32.0     13          NaN  ...   \n",
              "...               ...           ...          ...    ...          ...  ...   \n",
              "23694            3.70           5.0         73.3      3          NaN  ...   \n",
              "23695             NaN           5.0         38.0      4          NaN  ...   \n",
              "23696             NaN           3.0         29.7      1          NaN  ...   \n",
              "23697            3.00          17.0          NaN     12          NaN  ...   \n",
              "23698            2.50           5.0         12.3      1          NaN  ...   \n",
              "\n",
              "       kitchen_area  balcony        locality_name  airports_nearest  \\\n",
              "0             25.00      NaN      Санкт-Петербург           18863.0   \n",
              "1             11.00      2.0       посёлок Шушары           12817.0   \n",
              "2              8.30      0.0      Санкт-Петербург           21741.0   \n",
              "3               NaN      0.0      Санкт-Петербург           28098.0   \n",
              "4             41.00      NaN      Санкт-Петербург           31856.0   \n",
              "...             ...      ...                  ...               ...   \n",
              "23694         13.83      NaN      Санкт-Петербург           24665.0   \n",
              "23695          8.50      NaN                Тосно               NaN   \n",
              "23696           NaN      NaN     село Рождествено               NaN   \n",
              "23697         23.30      2.0      Санкт-Петербург           39140.0   \n",
              "23698          9.00      NaN  поселок Новый Учхоз               NaN   \n",
              "\n",
              "      cityCenters_nearest  parks_around3000  parks_nearest  ponds_around3000  \\\n",
              "0                 16028.0               1.0          482.0               2.0   \n",
              "1                 18603.0               0.0            NaN               0.0   \n",
              "2                 13933.0               1.0           90.0               2.0   \n",
              "3                  6800.0               2.0           84.0               3.0   \n",
              "4                  8098.0               2.0          112.0               1.0   \n",
              "...                   ...               ...            ...               ...   \n",
              "23694              4232.0               1.0          796.0               3.0   \n",
              "23695                 NaN               NaN            NaN               NaN   \n",
              "23696                 NaN               NaN            NaN               NaN   \n",
              "23697             10364.0               2.0          173.0               3.0   \n",
              "23698                 NaN               NaN            NaN               NaN   \n",
              "\n",
              "       ponds_nearest  days_exposition  \n",
              "0              755.0              NaN  \n",
              "1                NaN             81.0  \n",
              "2              574.0            558.0  \n",
              "3              234.0            424.0  \n",
              "4               48.0            121.0  \n",
              "...              ...              ...  \n",
              "23694          381.0              NaN  \n",
              "23695            NaN             45.0  \n",
              "23696            NaN              NaN  \n",
              "23697          196.0            602.0  \n",
              "23698            NaN              NaN  \n",
              "\n",
              "[23699 rows x 22 columns]"
            ]
          },
          "metadata": {
            "tags": []
          }
        }
      ]
    },
    {
      "cell_type": "markdown",
      "metadata": {
        "id": "EQlcBj2Krm1C"
      },
      "source": [
        "Общая информация о данных таблицы *'df'*."
      ]
    },
    {
      "cell_type": "code",
      "metadata": {
        "scrolled": false,
        "id": "XQ5xMcXJrm1D",
        "outputId": "20507567-6d8b-490e-d112-55a4bcfcb2a1"
      },
      "source": [
        "# получение общей информации о данных в таблице df\n",
        "df.info()          "
      ],
      "execution_count": null,
      "outputs": [
        {
          "output_type": "stream",
          "text": [
            "<class 'pandas.core.frame.DataFrame'>\n",
            "RangeIndex: 23699 entries, 0 to 23698\n",
            "Data columns (total 22 columns):\n",
            "total_images            23699 non-null int64\n",
            "last_price              23699 non-null float64\n",
            "total_area              23699 non-null float64\n",
            "first_day_exposition    23699 non-null object\n",
            "rooms                   23699 non-null int64\n",
            "ceiling_height          14504 non-null float64\n",
            "floors_total            23613 non-null float64\n",
            "living_area             21796 non-null float64\n",
            "floor                   23699 non-null int64\n",
            "is_apartment            2775 non-null object\n",
            "studio                  23699 non-null bool\n",
            "open_plan               23699 non-null bool\n",
            "kitchen_area            21421 non-null float64\n",
            "balcony                 12180 non-null float64\n",
            "locality_name           23650 non-null object\n",
            "airports_nearest        18157 non-null float64\n",
            "cityCenters_nearest     18180 non-null float64\n",
            "parks_around3000        18181 non-null float64\n",
            "parks_nearest           8079 non-null float64\n",
            "ponds_around3000        18181 non-null float64\n",
            "ponds_nearest           9110 non-null float64\n",
            "days_exposition         20518 non-null float64\n",
            "dtypes: bool(2), float64(14), int64(3), object(3)\n",
            "memory usage: 3.7+ MB\n"
          ],
          "name": "stdout"
        }
      ]
    },
    {
      "cell_type": "markdown",
      "metadata": {
        "id": "Ebx2CDURrm1E"
      },
      "source": [
        "Рассмотрим полученную таблицу.\n",
        "\n",
        "Всего в таблице 22 столбца с целочисленными, вещественными, строковыми и булевыми данными.\n",
        "\n",
        "Разберём какую информацию содержат столбцы.\n",
        "\n",
        "* **airports_nearest** — расстояние до ближайшего аэропорта в метрах (м)\n",
        "* **balcony** — число балконов\n",
        "* **ceiling_height** — высота потолков (м)\n",
        "* **cityCenters_nearest** — расстояние до центра города (м)\n",
        "* **days_exposition** — сколько дней было размещено объявление (от публикации до снятия)\n",
        "* **first_day_exposition** — дата публикации\n",
        "* **floor** — этаж\n",
        "* **floors_total** — всего этажей в доме\n",
        "* **is_apartment** — апартаменты (булев тип)\n",
        "* **kitchen_area** — площадь кухни в квадратных метрах (м²)\n",
        "* **last_price** — цена на момент снятия с публикации\n",
        "* **living_area** — жилая площадь в квадратных метрах(м²)\n",
        "* **locality_name** — название населённого пункта\n",
        "* **open_plan** — свободная планировка (булев тип)\n",
        "* **parks_around3000** — число парков в радиусе 3 км\n",
        "* **parks_nearest** — расстояние до ближайшего парка (м)\n",
        "* **ponds_around3000** — число водоёмов в радиусе 3 км\n",
        "* **ponds_nearest** — расстояние до ближайшего водоёма (м)\n",
        "* **rooms** — число комнат\n",
        "* **studio** — квартира-студия (булев тип)\n",
        "* **total_area** — площадь квартиры в квадратных метрах (м²)\n",
        "* **total_images** — число фотографий квартиры в объявлении\n",
        "\n",
        "\n",
        "Количество значений  в столбцах различается. Множество столбцов имеют пропущенные значения."
      ]
    },
    {
      "cell_type": "markdown",
      "metadata": {
        "id": "Ek8cFD92rm1G"
      },
      "source": [
        "###  Выводы\n",
        "Наша таблица имеет множество пропусков в столбцах с различными типами данных. Попробуем разобраться, где можно внести коррективы для дальнейшего анализа и поиска решений вышепоставленных задач.\n",
        "\n",
        "\n",
        "***"
      ]
    },
    {
      "cell_type": "markdown",
      "metadata": {
        "id": "KUinATMcrm1H"
      },
      "source": [
        "## 2. Предобработка данных <a id='2'></a>   [^](#10)"
      ]
    },
    {
      "cell_type": "markdown",
      "metadata": {
        "id": "2nhHzWJOrm1I"
      },
      "source": [
        "* ### Работа с пропусками <a id='2.1'></a> [^](#10)"
      ]
    },
    {
      "cell_type": "markdown",
      "metadata": {
        "id": "1y1WlUIyrm1I"
      },
      "source": [
        "Оценили состояние данных в столбцах. "
      ]
    },
    {
      "cell_type": "code",
      "metadata": {
        "scrolled": true,
        "id": "0hlTayp5rm1J",
        "outputId": "34517445-c5ab-49c6-dfed-87cf595ca987"
      },
      "source": [
        "# вызов числового описания данных\n",
        "df.describe()"
      ],
      "execution_count": null,
      "outputs": [
        {
          "output_type": "execute_result",
          "data": {
            "text/html": [
              "<div>\n",
              "<style scoped>\n",
              "    .dataframe tbody tr th:only-of-type {\n",
              "        vertical-align: middle;\n",
              "    }\n",
              "\n",
              "    .dataframe tbody tr th {\n",
              "        vertical-align: top;\n",
              "    }\n",
              "\n",
              "    .dataframe thead th {\n",
              "        text-align: right;\n",
              "    }\n",
              "</style>\n",
              "<table border=\"1\" class=\"dataframe\">\n",
              "  <thead>\n",
              "    <tr style=\"text-align: right;\">\n",
              "      <th></th>\n",
              "      <th>total_images</th>\n",
              "      <th>last_price</th>\n",
              "      <th>total_area</th>\n",
              "      <th>rooms</th>\n",
              "      <th>ceiling_height</th>\n",
              "      <th>floors_total</th>\n",
              "      <th>living_area</th>\n",
              "      <th>floor</th>\n",
              "      <th>kitchen_area</th>\n",
              "      <th>balcony</th>\n",
              "      <th>airports_nearest</th>\n",
              "      <th>cityCenters_nearest</th>\n",
              "      <th>parks_around3000</th>\n",
              "      <th>parks_nearest</th>\n",
              "      <th>ponds_around3000</th>\n",
              "      <th>ponds_nearest</th>\n",
              "      <th>days_exposition</th>\n",
              "    </tr>\n",
              "  </thead>\n",
              "  <tbody>\n",
              "    <tr>\n",
              "      <td>count</td>\n",
              "      <td>23699.000000</td>\n",
              "      <td>2.369900e+04</td>\n",
              "      <td>23699.000000</td>\n",
              "      <td>23699.000000</td>\n",
              "      <td>14504.000000</td>\n",
              "      <td>23613.000000</td>\n",
              "      <td>21796.000000</td>\n",
              "      <td>23699.000000</td>\n",
              "      <td>21421.000000</td>\n",
              "      <td>12180.000000</td>\n",
              "      <td>18157.000000</td>\n",
              "      <td>18180.000000</td>\n",
              "      <td>18181.000000</td>\n",
              "      <td>8079.000000</td>\n",
              "      <td>18181.000000</td>\n",
              "      <td>9110.000000</td>\n",
              "      <td>20518.000000</td>\n",
              "    </tr>\n",
              "    <tr>\n",
              "      <td>mean</td>\n",
              "      <td>9.858475</td>\n",
              "      <td>6.541549e+06</td>\n",
              "      <td>60.348651</td>\n",
              "      <td>2.070636</td>\n",
              "      <td>2.771499</td>\n",
              "      <td>10.673824</td>\n",
              "      <td>34.457852</td>\n",
              "      <td>5.892358</td>\n",
              "      <td>10.569807</td>\n",
              "      <td>1.150082</td>\n",
              "      <td>28793.672193</td>\n",
              "      <td>14191.277833</td>\n",
              "      <td>0.611408</td>\n",
              "      <td>490.804555</td>\n",
              "      <td>0.770255</td>\n",
              "      <td>517.980900</td>\n",
              "      <td>180.888634</td>\n",
              "    </tr>\n",
              "    <tr>\n",
              "      <td>std</td>\n",
              "      <td>5.682529</td>\n",
              "      <td>1.088701e+07</td>\n",
              "      <td>35.654083</td>\n",
              "      <td>1.078405</td>\n",
              "      <td>1.261056</td>\n",
              "      <td>6.597173</td>\n",
              "      <td>22.030445</td>\n",
              "      <td>4.885249</td>\n",
              "      <td>5.905438</td>\n",
              "      <td>1.071300</td>\n",
              "      <td>12630.880622</td>\n",
              "      <td>8608.386210</td>\n",
              "      <td>0.802074</td>\n",
              "      <td>342.317995</td>\n",
              "      <td>0.938346</td>\n",
              "      <td>277.720643</td>\n",
              "      <td>219.727988</td>\n",
              "    </tr>\n",
              "    <tr>\n",
              "      <td>min</td>\n",
              "      <td>0.000000</td>\n",
              "      <td>1.219000e+04</td>\n",
              "      <td>12.000000</td>\n",
              "      <td>0.000000</td>\n",
              "      <td>1.000000</td>\n",
              "      <td>1.000000</td>\n",
              "      <td>2.000000</td>\n",
              "      <td>1.000000</td>\n",
              "      <td>1.300000</td>\n",
              "      <td>0.000000</td>\n",
              "      <td>0.000000</td>\n",
              "      <td>181.000000</td>\n",
              "      <td>0.000000</td>\n",
              "      <td>1.000000</td>\n",
              "      <td>0.000000</td>\n",
              "      <td>13.000000</td>\n",
              "      <td>1.000000</td>\n",
              "    </tr>\n",
              "    <tr>\n",
              "      <td>25%</td>\n",
              "      <td>6.000000</td>\n",
              "      <td>3.400000e+06</td>\n",
              "      <td>40.000000</td>\n",
              "      <td>1.000000</td>\n",
              "      <td>2.520000</td>\n",
              "      <td>5.000000</td>\n",
              "      <td>18.600000</td>\n",
              "      <td>2.000000</td>\n",
              "      <td>7.000000</td>\n",
              "      <td>0.000000</td>\n",
              "      <td>18585.000000</td>\n",
              "      <td>9238.000000</td>\n",
              "      <td>0.000000</td>\n",
              "      <td>288.000000</td>\n",
              "      <td>0.000000</td>\n",
              "      <td>294.000000</td>\n",
              "      <td>45.000000</td>\n",
              "    </tr>\n",
              "    <tr>\n",
              "      <td>50%</td>\n",
              "      <td>9.000000</td>\n",
              "      <td>4.650000e+06</td>\n",
              "      <td>52.000000</td>\n",
              "      <td>2.000000</td>\n",
              "      <td>2.650000</td>\n",
              "      <td>9.000000</td>\n",
              "      <td>30.000000</td>\n",
              "      <td>4.000000</td>\n",
              "      <td>9.100000</td>\n",
              "      <td>1.000000</td>\n",
              "      <td>26726.000000</td>\n",
              "      <td>13098.500000</td>\n",
              "      <td>0.000000</td>\n",
              "      <td>455.000000</td>\n",
              "      <td>1.000000</td>\n",
              "      <td>502.000000</td>\n",
              "      <td>95.000000</td>\n",
              "    </tr>\n",
              "    <tr>\n",
              "      <td>75%</td>\n",
              "      <td>14.000000</td>\n",
              "      <td>6.800000e+06</td>\n",
              "      <td>69.900000</td>\n",
              "      <td>3.000000</td>\n",
              "      <td>2.800000</td>\n",
              "      <td>16.000000</td>\n",
              "      <td>42.300000</td>\n",
              "      <td>8.000000</td>\n",
              "      <td>12.000000</td>\n",
              "      <td>2.000000</td>\n",
              "      <td>37273.000000</td>\n",
              "      <td>16293.000000</td>\n",
              "      <td>1.000000</td>\n",
              "      <td>612.000000</td>\n",
              "      <td>1.000000</td>\n",
              "      <td>729.000000</td>\n",
              "      <td>232.000000</td>\n",
              "    </tr>\n",
              "    <tr>\n",
              "      <td>max</td>\n",
              "      <td>50.000000</td>\n",
              "      <td>7.630000e+08</td>\n",
              "      <td>900.000000</td>\n",
              "      <td>19.000000</td>\n",
              "      <td>100.000000</td>\n",
              "      <td>60.000000</td>\n",
              "      <td>409.700000</td>\n",
              "      <td>33.000000</td>\n",
              "      <td>112.000000</td>\n",
              "      <td>5.000000</td>\n",
              "      <td>84869.000000</td>\n",
              "      <td>65968.000000</td>\n",
              "      <td>3.000000</td>\n",
              "      <td>3190.000000</td>\n",
              "      <td>3.000000</td>\n",
              "      <td>1344.000000</td>\n",
              "      <td>1580.000000</td>\n",
              "    </tr>\n",
              "  </tbody>\n",
              "</table>\n",
              "</div>"
            ],
            "text/plain": [
              "       total_images    last_price    total_area         rooms  ceiling_height  \\\n",
              "count  23699.000000  2.369900e+04  23699.000000  23699.000000    14504.000000   \n",
              "mean       9.858475  6.541549e+06     60.348651      2.070636        2.771499   \n",
              "std        5.682529  1.088701e+07     35.654083      1.078405        1.261056   \n",
              "min        0.000000  1.219000e+04     12.000000      0.000000        1.000000   \n",
              "25%        6.000000  3.400000e+06     40.000000      1.000000        2.520000   \n",
              "50%        9.000000  4.650000e+06     52.000000      2.000000        2.650000   \n",
              "75%       14.000000  6.800000e+06     69.900000      3.000000        2.800000   \n",
              "max       50.000000  7.630000e+08    900.000000     19.000000      100.000000   \n",
              "\n",
              "       floors_total   living_area         floor  kitchen_area       balcony  \\\n",
              "count  23613.000000  21796.000000  23699.000000  21421.000000  12180.000000   \n",
              "mean      10.673824     34.457852      5.892358     10.569807      1.150082   \n",
              "std        6.597173     22.030445      4.885249      5.905438      1.071300   \n",
              "min        1.000000      2.000000      1.000000      1.300000      0.000000   \n",
              "25%        5.000000     18.600000      2.000000      7.000000      0.000000   \n",
              "50%        9.000000     30.000000      4.000000      9.100000      1.000000   \n",
              "75%       16.000000     42.300000      8.000000     12.000000      2.000000   \n",
              "max       60.000000    409.700000     33.000000    112.000000      5.000000   \n",
              "\n",
              "       airports_nearest  cityCenters_nearest  parks_around3000  parks_nearest  \\\n",
              "count      18157.000000         18180.000000      18181.000000    8079.000000   \n",
              "mean       28793.672193         14191.277833          0.611408     490.804555   \n",
              "std        12630.880622          8608.386210          0.802074     342.317995   \n",
              "min            0.000000           181.000000          0.000000       1.000000   \n",
              "25%        18585.000000          9238.000000          0.000000     288.000000   \n",
              "50%        26726.000000         13098.500000          0.000000     455.000000   \n",
              "75%        37273.000000         16293.000000          1.000000     612.000000   \n",
              "max        84869.000000         65968.000000          3.000000    3190.000000   \n",
              "\n",
              "       ponds_around3000  ponds_nearest  days_exposition  \n",
              "count      18181.000000    9110.000000     20518.000000  \n",
              "mean           0.770255     517.980900       180.888634  \n",
              "std            0.938346     277.720643       219.727988  \n",
              "min            0.000000      13.000000         1.000000  \n",
              "25%            0.000000     294.000000        45.000000  \n",
              "50%            1.000000     502.000000        95.000000  \n",
              "75%            1.000000     729.000000       232.000000  \n",
              "max            3.000000    1344.000000      1580.000000  "
            ]
          },
          "metadata": {
            "tags": []
          },
          "execution_count": 5
        }
      ]
    },
    {
      "cell_type": "markdown",
      "metadata": {
        "id": "hofEyGWErm1K"
      },
      "source": [
        "При первичной оценке увидели некоторые \"странности\" в нескольких столбцах. В столбце со стоимостью жилья имеется минимальная цена в 12000 рублей, или в столбце с величиной потолков максимальный размер потолка достигает 100 метров. Данные не очень кореллируют с реальностью, поэтому требуют дальнейшей проверки."
      ]
    },
    {
      "cell_type": "markdown",
      "metadata": {
        "id": "-SxWngkwrm1L"
      },
      "source": [
        "### *'balcony'*"
      ]
    },
    {
      "cell_type": "markdown",
      "metadata": {
        "id": "FXx1Tg1Srm1M"
      },
      "source": [
        "Для некоторых пропущенных значений можно предположить логичную замену. Если человек не указал число балконов - скорее всего их нет. "
      ]
    },
    {
      "cell_type": "code",
      "metadata": {
        "id": "BmtAxAE6rm1N",
        "outputId": "11f288d5-ffcc-4b7f-f8e9-fa5ee7a25cb0"
      },
      "source": [
        "# замена на целочисленный тип данных\n",
        "df['balcony'] = df['balcony'].astype('Int64')\n",
        "\n",
        "# замена пропущенных значений в столбце 'balcony'\n",
        "df['balcony'] = df['balcony'].fillna(value=0)\n",
        "df['balcony']"
      ],
      "execution_count": null,
      "outputs": [
        {
          "output_type": "execute_result",
          "data": {
            "text/plain": [
              "0        0\n",
              "1        2\n",
              "2        0\n",
              "3        0\n",
              "4        0\n",
              "        ..\n",
              "23694    0\n",
              "23695    0\n",
              "23696    0\n",
              "23697    2\n",
              "23698    0\n",
              "Name: balcony, Length: 23699, dtype: Int64"
            ]
          },
          "metadata": {
            "tags": []
          },
          "execution_count": 6
        }
      ]
    },
    {
      "cell_type": "markdown",
      "metadata": {
        "id": "tiA7u8mUrm1O"
      },
      "source": [
        "***"
      ]
    },
    {
      "cell_type": "markdown",
      "metadata": {
        "id": "A93qRY9Prm1P"
      },
      "source": [
        "### *'floors_total'*\n",
        "\n",
        "\n",
        "   В столбце с общим числом этажей немного пропусков. Однако сложно подобрать рациональное объяснение об их заполнении. Изменили только тип данных: фактически число этажей, как и число балконов являются только целочисленными величинами."
      ]
    },
    {
      "cell_type": "code",
      "metadata": {
        "id": "6H4ckueHrm1Q"
      },
      "source": [
        "# замена на целочисленный тип данных\n",
        "df['floors_total'] = df['floors_total'].astype('Int64')\n"
      ],
      "execution_count": null,
      "outputs": []
    },
    {
      "cell_type": "markdown",
      "metadata": {
        "id": "n6N4TF2Nrm1Q"
      },
      "source": [
        "***"
      ]
    },
    {
      "cell_type": "markdown",
      "metadata": {
        "id": "c7MZV5g6rm1R"
      },
      "source": [
        "### *'is_apartment'*"
      ]
    },
    {
      "cell_type": "markdown",
      "metadata": {
        "id": "BapWyTifrm1R"
      },
      "source": [
        "   Столбец, указывающий на вид недвижимости, имеет также много пропусков. Так как на данный момент апартаменты не являются равнозначным объектом жилой недвижимости наряду с квартирами, неуказание или умалчивание этого факта сильно влияет на момент принятия решения о покупке. Оставим тот столбец как есть."
      ]
    },
    {
      "cell_type": "markdown",
      "metadata": {
        "id": "bw3auOCRrm1S"
      },
      "source": [
        "***"
      ]
    },
    {
      "cell_type": "markdown",
      "metadata": {
        "id": "z1xF1f13rm1S"
      },
      "source": [
        "* ### Замена типа данных <a id='2.2'></a> [^](#10)"
      ]
    },
    {
      "cell_type": "markdown",
      "metadata": {
        "id": "2p9Wi6lZrm1T"
      },
      "source": [
        "### *'first_day_exposition'*\n",
        "Столбец с указанием времени размещения объекта перевели в формат даты без указания точного времени."
      ]
    },
    {
      "cell_type": "code",
      "metadata": {
        "id": "XfswCpHzrm1U",
        "outputId": "053caacc-0131-4a8a-e27c-f6c6ec3c44fd"
      },
      "source": [
        "# перевод типа данных в формат времени\n",
        "df['first_day_exposition'] = pd.to_datetime(df['first_day_exposition'], format='%Y-%m-%d')\n",
        "df['first_day_exposition']"
      ],
      "execution_count": null,
      "outputs": [
        {
          "output_type": "execute_result",
          "data": {
            "text/plain": [
              "0       2019-03-07\n",
              "1       2018-12-04\n",
              "2       2015-08-20\n",
              "3       2015-07-24\n",
              "4       2018-06-19\n",
              "           ...    \n",
              "23694   2017-03-21\n",
              "23695   2018-01-15\n",
              "23696   2018-02-11\n",
              "23697   2017-03-28\n",
              "23698   2017-07-21\n",
              "Name: first_day_exposition, Length: 23699, dtype: datetime64[ns]"
            ]
          },
          "metadata": {
            "tags": []
          },
          "execution_count": 8
        }
      ]
    },
    {
      "cell_type": "markdown",
      "metadata": {
        "id": "a2-glLH7rm1U"
      },
      "source": [
        "***"
      ]
    },
    {
      "cell_type": "markdown",
      "metadata": {
        "id": "PCRZ4N_wrm1V"
      },
      "source": [
        "### *'locality_name'*\n",
        "Пропусков в столбце с местом продажи объекта недвижимости не очень много (менее 0,5 %). Заполнить их возможно, создав категорию с неизвестными населенными пунктами.Также изменили регистр строковых данных."
      ]
    },
    {
      "cell_type": "code",
      "metadata": {
        "id": "Eld0Jwq2rm1W",
        "outputId": "bf75ccf9-0d26-4606-a350-47a7b73568e9"
      },
      "source": [
        "# создание неизвестной группы\n",
        "df['locality_name'] = df['locality_name'].fillna(value = 'Не указано') \n",
        "\n",
        "# перевод в нижний регистр\n",
        "df['locality_name'] = df['locality_name'].str.lower()\n",
        "\n",
        "# проверка уникальных значений столбца\n",
        "df['locality_name'].value_counts().head(15)"
      ],
      "execution_count": null,
      "outputs": [
        {
          "output_type": "execute_result",
          "data": {
            "text/plain": [
              "санкт-петербург            15721\n",
              "посёлок мурино               522\n",
              "посёлок шушары               440\n",
              "всеволожск                   398\n",
              "пушкин                       369\n",
              "колпино                      338\n",
              "посёлок парголово            327\n",
              "гатчина                      307\n",
              "деревня кудрово              299\n",
              "выборг                       237\n",
              "петергоф                     201\n",
              "сестрорецк                   183\n",
              "красное село                 178\n",
              "кудрово                      173\n",
              "деревня новое девяткино      144\n",
              "Name: locality_name, dtype: int64"
            ]
          },
          "metadata": {
            "tags": []
          },
          "execution_count": 9
        }
      ]
    },
    {
      "cell_type": "markdown",
      "metadata": {
        "id": "kgbkuiszrm1X"
      },
      "source": [
        "Провели лемматизацию столбца и выявили 10 населённых пунктов с наибольшим числом объявлений, необходимых по заданию."
      ]
    },
    {
      "cell_type": "code",
      "metadata": {
        "id": "LXrRCyMFrm1X"
      },
      "source": [
        "# импорт  Лемматизатора\n",
        "from pymystem3 import Mystem        \n",
        "m = Mystem() \n",
        "\n",
        "# используется коллекция для подсчета неизменяемых объектов\n",
        "from collections import Counter\n",
        "  \n",
        "# функция для лемматизации столбца с именами    \n",
        "def to_lemmas(text):                                         \n",
        "    result =' '.join(m.lemmatize(text))   \n",
        "    return result                         \n",
        "                   \n",
        "# применение функции к столбцу с именами и вывод результата в переменную\n",
        "lemas_list = df['locality_name'].apply(to_lemmas).tolist()"
      ],
      "execution_count": null,
      "outputs": []
    },
    {
      "cell_type": "code",
      "metadata": {
        "scrolled": true,
        "id": "aiIDmR6Frm1Y",
        "outputId": "db5a6580-1ec6-434b-d3be-2caf5c2df915"
      },
      "source": [
        "# подсчёт уникальных значений столбца\n",
        "print(Counter(' '.join(lemas_list).split()))"
      ],
      "execution_count": null,
      "outputs": [
        {
          "output_type": "stream",
          "text": [
            "Counter({'санкт-петербург': 15721, 'поселок': 2660, 'деревня': 945, 'муриный': 590, 'городской': 550, 'кудрово': 472, 'шушары': 440, 'всеволожск': 398, 'пушкин': 369, 'тип': 363, 'колпино': 338, 'парголовый': 327, 'гатчина': 307, 'выборг': 237, 'село': 210, 'петергоф': 201, 'красный': 190, 'новый': 187, 'сестрорецк': 183, 'девяткино': 144, 'сертолово': 142, 'ломоносов': 133, 'кириши': 125, 'бугор': 114, 'сланцы': 112, 'волхов': 111, 'сосновый': 105, 'кингисепп': 104, 'тосно': 104, 'бор': 101, 'кронштадт': 96, 'никольское': 94, '-': 91, 'коммунар': 90, 'кировск': 84, 'отрадный': 80, 'старый': 75, 'янино': 68, '1': 68, 'металлострой': 66, 'приозерск': 66, 'луг': 61, 'шлиссельбург': 57, 'имя': 53, 'тихвин': 49, 'не': 49, 'указывать': 49, 'стрельна': 44, 'тельман': 41, 'большой': 40, 'рощино': 39, 'павловск': 38, 'романовка': 37, 'волосово': 36, 'свердлов': 36, 'кузьмоловский': 35, 'мга': 33, 'сиверский': 29, 'ивангород': 28, 'новоселье': 28, 'малый': 28, 'сясьстрой': 24, 'зеленогорск': 24, 'щегловый': 24, 'колпана': 23, 'свет': 22, 'вырица': 22, 'синявина': 21, 'понтонный': 20, 'лесколов': 20, 'токсово': 20, 'вартемяга': 20, 'новогорелово': 20, 'лодейный': 20, 'поле': 20, 'подпорожье': 19, 'ижора': 19, 'бегуница': 19, 'павлово': 18, 'пикалево': 18, 'морозов': 17, 'назия': 17, 'гарболовый': 17, 'аннино': 16, 'бокситогорск': 16, 'рахья': 16, 'ладога': 16, 'федоровский': 15, 'лебяжий': 15, 'горбунок': 15, 'станция': 15, 'дубровка': 15, 'елизаветин': 13, 'кузнечный': 13, 'ульяновка': 13, 'каменногорск': 13, 'нурм': 11, 'советский': 11, 'белогорка': 11, 'мистолово': 11, 'колтуша': 11, 'гостилица': 11, 'мичуринский': 11, 'верево': 11, 'светогорск': 11, 'любань': 11, 'лаголовый': 10, 'низиный': 10, 'войсковица': 10, 'приладожский': 10, 'сяськелевый': 10, 'молодцово': 9, 'оржица': 9, 'сельцо': 9, 'батовый': 9, 'карлино': 9, 'пудость': 9, 'русский': 9, 'высоцкий': 9, 'кобраловый': 9, 'первомайский': 8, 'приморск': 8, 'запорожский': 8, 'ильичев': 8, 'саперный': 8, 'стеклянный': 8, 'суходолье': 8, 'куттузить': 7, 'кальтино': 7, 'кипень': 7, 'поляна': 7, 'извар': 7, 'калитин': 7, 'никольский': 7, 'кузьмоловый': 7, 'угловый': 7, 'усть': 7, 'победа': 6, 'лопухинка': 6, 'терволов': 6, 'заневка': 6, 'пеник': 6, 'пудомяга': 6, 'тайцы': 6, 'кобринский': 6, 'важин': 6, 'форносовый': 6, 'ламповый': 6, 'горка': 6, 'яльгелевый': 6, 'учхоз': 6, 'ушак': 6, 'громовый': 6, 'товарищество': 5, 'плодовый': 5, 'копорье': 5, 'молодежный': 5, 'петровский': 5, 'лесогорский': 5, 'вещево': 5, 'гаврилов': 5, 'семрино': 5, 'глажево': 5, 'юкка': 5, 'мельниково': 5, 'селезневый': 5, 'войскоровый': 5, 'дружный': 5, 'садовый': 4, 'келозь': 4, 'агалатово': 4, 'цвелодубово': 4, 'зимитиц': 4, 'разметелево': 4, 'рябово': 4, 'песочный': 4, 'репино': 4, 'малукс': 4, 'парица': 4, 'кикерино': 4, 'торфяной': 4, 'будогощь': 4, 'лесной': 4, 'разбегаево': 4, 'вруд': 4, 'суйда': 4, 'перово': 4, 'высоцк': 4, 'ефимовский': 3, 'заклинья': 3, 'торкович': 3, 'оредеж': 3, 'заводской': 3, 'аро': 3, 'рабитиц': 3, 'приветнинский': 3, 'глебычево': 3, 'виллози': 3, 'возрождение': 3, 'старосиверский': 3, 'пригородный': 3, 'долина': 3, 'лисий': 3, 'нос': 3, 'рождествено': 3, 'старополье': 3, 'жилгородка': 3, 'торошкович': 3, 'лукаша': 3, 'торосовый': 3, 'тесовый': 3, 'коттеджный': 3, 'котельский': 3, 'ваганово': 3, 'ропша': 2, 'путиловый': 2, 'александровский': 2, 'барышево': 2, 'паша': 2, 'мина': 2, 'коркино': 2, 'житковый': 2, 'сумино': 2, 'камышовка': 2, 'фалилеев': 2, 'серебрянский': 2, 'тарасовый': 2, 'кингисеппский': 2, 'при': 2, 'железнодорожный': 2, 'глинка': 2, 'пустошь': 2, 'починок': 2, 'вознесение': 2, 'коробицыно': 2, 'суоранд': 2, 'совхозный': 2, 'ленинский': 2, 'нижний': 2, 'свирь': 2, 'яма': 2, 'пушной': 2, 'выскатка': 2, 'пансионат': 2, 'зеленый': 2, 'ненимяк': 2, 'пикколов': 1, 'севастьяново': 1, 'иссад': 1, 'корневый': 1, 'чудской': 1, 'петро': 1, 'славянка': 1, 'меньковый': 1, 'мануйлово': 1, 'пчев': 1, 'цвылево': 1, 'кривко': 1, 'жилпоселок': 1, 'мыза': 1, 'ивановка': 1, 'шпаньково': 1, 'лаврик': 1, 'хинколово': 1, 'хапо': 1, 'ое': 1, 'левашово': 1, 'садоводческий': 1, 'некоммерческий': 1, 'хязелька': 1, 'ялгино': 1, 'гончарово': 1, 'почап': 1, 'платформа': 1, '69': 1, 'й': 1, 'километр': 1, 'каложица': 1, 'пельгора': 1, 'белоостров': 1, 'алексеевка': 1, 'котел': 1, 'сижно': 1, 'форт': 1, 'новолисиный': 1, 'гладкий': 1, '4': 1, 'курковица': 1, 'кондратьево': 1, 'счастие': 1, 'ребровый': 1, 'тойворовый': 1, 'семиозерье': 1, 'оселек': 1, 'шум': 1, 'лужайка': 1, 'пустомерж': 1, 'красносельский': 1, 'вахнов': 1, 'кара': 1, 'пижма': 1, 'кивеннап': 1, 'север': 1, 'ромашка': 1, 'каськово': 1, 'куровица': 1, 'плоский': 1, 'кирпичный': 1, 'раздолье': 1, 'терпилица': 1, 'шугозеро': 1, 'садко': 1, 'свирьстрой': 1, 'кисельня': 1, 'трубник': 1, 'калитино': 1, 'высокоключевой': 1, 'снегиревка': 1, 'рапполовый': 1, 'пустынка': 1, 'сабск': 1, 'русско': 1, 'лупполовый': 1, 'рейзино': 1, 'дружноселье': 1, 'пчевжа': 1, 'володарское': 1, 'тихковица': 1, 'борисова': 1, 'грива': 1, 'дзержинский': 1})\n"
          ],
          "name": "stdout"
        }
      ]
    },
    {
      "cell_type": "markdown",
      "metadata": {
        "id": "Sbldf5h-rm1Z"
      },
      "source": [
        "Создали столбец с 10 самых упоминаемых населённых пунктов."
      ]
    },
    {
      "cell_type": "code",
      "metadata": {
        "id": "YvnBvN1Drm1Z"
      },
      "source": [
        "# функция создания столбца с категорией населённого пункта\n",
        "def to_cat_name(row):                                         \n",
        "\n",
        "    if  'санкт-петербург' in row.split(' '):\n",
        "        return 'санкт-петербург'\n",
        "    if 'мурино' in row.split(' '):\n",
        "        return 'мурино'\n",
        "    if 'кудрово' in row.split(' '):\n",
        "        return 'кудрово'\n",
        "    if 'шушары' in row.split(' '):\n",
        "        return 'шушары'\n",
        "    if  'всеволожск' in row.split(' '):\n",
        "        return 'всеволожск'\n",
        "    if 'пушкин' in row.split(' '):\n",
        "        return 'пушкин'\n",
        "    if 'колпино' in row.split(' '):\n",
        "        return 'колпино'\n",
        "    if 'парголово' in row.split(' '):\n",
        "        return 'парголово'\n",
        "    if 'гатчина' in row.split(' '):\n",
        "        return 'гатчина'\n",
        "    if 'выборг' in row.split(' '):\n",
        "        return 'выборг'\n",
        "    else:\n",
        "        return 'другие'\n",
        "\n",
        "# создание столбца в таблице df    \n",
        "df['name_group'] = df['locality_name'].apply(to_cat_name)     "
      ],
      "execution_count": null,
      "outputs": []
    },
    {
      "cell_type": "code",
      "metadata": {
        "id": "08KoHqAWrm1a",
        "outputId": "9fc5c93a-bf5c-486c-84e2-0b150ab0f912"
      },
      "source": [
        "# подсчет значений в новом столбце\n",
        "df['name_group'].value_counts()"
      ],
      "execution_count": null,
      "outputs": [
        {
          "output_type": "execute_result",
          "data": {
            "text/plain": [
              "санкт-петербург    15721\n",
              "другие              4500\n",
              "мурино               590\n",
              "кудрово              472\n",
              "шушары               440\n",
              "всеволожск           398\n",
              "пушкин               369\n",
              "колпино              338\n",
              "парголово            327\n",
              "гатчина              307\n",
              "выборг               237\n",
              "Name: name_group, dtype: int64"
            ]
          },
          "metadata": {
            "tags": []
          },
          "execution_count": 13
        }
      ]
    },
    {
      "cell_type": "markdown",
      "metadata": {
        "id": "rAa9SI3Jrm1b"
      },
      "source": [
        "***"
      ]
    },
    {
      "cell_type": "markdown",
      "metadata": {
        "id": "MMyUVvbTrm1c"
      },
      "source": [
        "### *'ceiling_height'*"
      ]
    },
    {
      "cell_type": "markdown",
      "metadata": {
        "id": "W8sGGUworm1c"
      },
      "source": [
        "   Разброс величин обычно лежит в узких пределах. Однако из-за наличия выбросов пропуски в столбце с указанием высоты потолков сложно заменить медианным значением, так как количество пропусков составляет около 40 %. \n"
      ]
    },
    {
      "cell_type": "markdown",
      "metadata": {
        "id": "HFx_xgWGrm1d"
      },
      "source": [
        "***"
      ]
    },
    {
      "cell_type": "markdown",
      "metadata": {
        "id": "raCGv86crm1d"
      },
      "source": [
        "### *'living_area'* , *'kitchen_area'*"
      ]
    },
    {
      "cell_type": "markdown",
      "metadata": {
        "id": "XJ04W45Yrm1e"
      },
      "source": [
        "   Пропусков в столбце с жилой площадью и кухонной примерно 10%. Соотношение жилой и кухонной площади сильно различается от квартиры к квартире, поэтому здесь также сложно найти логическое обоснование замены пропусков медианным или средним значением.\n"
      ]
    },
    {
      "cell_type": "markdown",
      "metadata": {
        "id": "WwVnWA49rm1e"
      },
      "source": [
        "***"
      ]
    },
    {
      "cell_type": "markdown",
      "metadata": {
        "id": "pvhGCLDwrm1f"
      },
      "source": [
        "### *'days_exposition'* \n",
        "Привели к целочисленному типу данных количество дней, в течение которых была продана недвижимость."
      ]
    },
    {
      "cell_type": "code",
      "metadata": {
        "id": "joKKYpirrm1f",
        "outputId": "7bb61f9f-4e8c-4606-ed7a-790362fd0c05"
      },
      "source": [
        "# замена на целочисленный тип данных\n",
        "df['days_exposition'] = df['days_exposition'].round(0).astype('Int64')\n",
        "df['days_exposition']"
      ],
      "execution_count": null,
      "outputs": [
        {
          "output_type": "execute_result",
          "data": {
            "text/plain": [
              "0        NaN\n",
              "1         81\n",
              "2        558\n",
              "3        424\n",
              "4        121\n",
              "        ... \n",
              "23694    NaN\n",
              "23695     45\n",
              "23696    NaN\n",
              "23697    602\n",
              "23698    NaN\n",
              "Name: days_exposition, Length: 23699, dtype: Int64"
            ]
          },
          "metadata": {
            "tags": []
          },
          "execution_count": 14
        }
      ]
    },
    {
      "cell_type": "markdown",
      "metadata": {
        "id": "6nqEJnWkrm1g"
      },
      "source": [
        "###  Выводы\n",
        "При анализе таблицы мы увидели, что полностью заполнены лишь важные столбцы, вписанные пользователем, такие как - цена, общая площадь, количество комнат, этаж. Другие столбцы содержали пропуски, так как второстепенные показатели пользователь может не знать, либо забыть - высота потолков, жилая площадь, площадь кухни.\n",
        "\n",
        "Данные в столбцах, полученные автоматическим образом на основе картографических данных такие как: расстояние до центра, аэропорта, ближайшего парка и водоёма, мы оставили без изменений, потому что заполнение данных пропусков довольно проблематично.\n",
        "\n",
        "\n",
        "***"
      ]
    },
    {
      "cell_type": "markdown",
      "metadata": {
        "id": "lzAu_Y3Arm1h"
      },
      "source": [
        "## 3. Работа с таблицей <a id='3'></a>   [^](#10)"
      ]
    },
    {
      "cell_type": "markdown",
      "metadata": {
        "id": "wxmYUWX0rm1i"
      },
      "source": [
        "* ### Определение цены квадратного метра <a id='3.1'></a> [^](#10)"
      ]
    },
    {
      "cell_type": "markdown",
      "metadata": {
        "id": "om7rn_CNrm1i"
      },
      "source": [
        "Определили цену квадратного метра как отношение цены на общую площадь."
      ]
    },
    {
      "cell_type": "code",
      "metadata": {
        "id": "kbFtXluorm1j",
        "outputId": "ef8193bc-0951-4d7a-806c-a2c05e2a6e65"
      },
      "source": [
        "# создание столбца с ценой квадратного метра\n",
        "df['price_per_metr'] = (df['last_price'] / df['total_area']).round()\n",
        "df['price_per_metr']"
      ],
      "execution_count": null,
      "outputs": [
        {
          "output_type": "execute_result",
          "data": {
            "text/plain": [
              "0        120370.0\n",
              "1         82921.0\n",
              "2         92786.0\n",
              "3        408176.0\n",
              "4        100000.0\n",
              "           ...   \n",
              "23694     72491.0\n",
              "23695     52542.0\n",
              "23696     44092.0\n",
              "23697    149511.0\n",
              "23698     41796.0\n",
              "Name: price_per_metr, Length: 23699, dtype: float64"
            ]
          },
          "metadata": {
            "tags": []
          },
          "execution_count": 15
        }
      ]
    },
    {
      "cell_type": "markdown",
      "metadata": {
        "id": "TB7387LSrm1k"
      },
      "source": [
        "* ### Расчёт даты публикации объявления <a id='3.2'></a> [^](#10)"
      ]
    },
    {
      "cell_type": "markdown",
      "metadata": {
        "id": "hfLof9mFrm1k"
      },
      "source": [
        "Создали столбец с днём недели."
      ]
    },
    {
      "cell_type": "code",
      "metadata": {
        "id": "wK44yNeHrm1l",
        "outputId": "153e5011-6fc2-4c6d-a5cb-4bad706e3f53"
      },
      "source": [
        "# функция для определения дня недели и создание столбца\n",
        "def to_weekday(row):\n",
        "    \n",
        "    data = pd.Series(['понедельник', 'вторник', 'среда', 'четверг', 'пятница', 'суббота', 'воскресенье'])\n",
        "    \n",
        "    if row in data.index:\n",
        "        return data.loc[row]\n",
        "    \n",
        "df['weekday_exp'] = df['first_day_exposition'].dt.weekday.apply(to_weekday)\n",
        "\n",
        "# проверка уникальных значений столбца\n",
        "df['weekday_exp'].value_counts()"
      ],
      "execution_count": null,
      "outputs": [
        {
          "output_type": "execute_result",
          "data": {
            "text/plain": [
              "четверг        4295\n",
              "вторник        4183\n",
              "пятница        4000\n",
              "среда          3974\n",
              "понедельник    3612\n",
              "суббота        1936\n",
              "воскресенье    1699\n",
              "Name: weekday_exp, dtype: int64"
            ]
          },
          "metadata": {
            "tags": []
          },
          "execution_count": 16
        }
      ]
    },
    {
      "cell_type": "markdown",
      "metadata": {
        "id": "6RQSp4YSrm1m"
      },
      "source": [
        "Создали столбец с месяцем размещения объявления."
      ]
    },
    {
      "cell_type": "code",
      "metadata": {
        "id": "1wwXJUgPrm1m",
        "outputId": "923af93c-0144-4faf-d216-a040cea9b3f4"
      },
      "source": [
        "# функция для определения месяца и создание столбца\n",
        "def to_month(row):\n",
        "    data = pd.Series(['no', 'январь', 'февраль', 'март', 'апрель', 'май', 'июнь', 'июль', 'август', 'сентябрь',\n",
        "                                'октябрь', 'ноябрь', 'декабрь'])\n",
        "    if row in data.index:\n",
        "        return data.loc[row]\n",
        "    \n",
        "df['month_exp'] = df['first_day_exposition'].dt.month.apply(to_month)\n",
        "\n",
        "# проверка уникальных значений столбца\n",
        "df['month_exp'].value_counts()"
      ],
      "execution_count": null,
      "outputs": [
        {
          "output_type": "execute_result",
          "data": {
            "text/plain": [
              "февраль     2640\n",
              "март        2587\n",
              "апрель      2379\n",
              "ноябрь      2371\n",
              "октябрь     2127\n",
              "сентябрь    1981\n",
              "июнь        1760\n",
              "август      1744\n",
              "июль        1695\n",
              "декабрь     1641\n",
              "январь      1500\n",
              "май         1274\n",
              "Name: month_exp, dtype: int64"
            ]
          },
          "metadata": {
            "tags": []
          },
          "execution_count": 17
        }
      ]
    },
    {
      "cell_type": "markdown",
      "metadata": {
        "id": "Gb-v8rtKrm1n"
      },
      "source": [
        "Создали столбец с годом публикации объявления о продаже."
      ]
    },
    {
      "cell_type": "code",
      "metadata": {
        "id": "B8V2qJjprm1o",
        "outputId": "2aa00924-ea26-4620-a7a3-7a31d985f784"
      },
      "source": [
        "# создание столбца с годом\n",
        "df['year_exp'] = df['first_day_exposition'].dt.year\n",
        "\n",
        "# проверка уникальных значений столбца\n",
        "df['year_exp'].value_counts()"
      ],
      "execution_count": null,
      "outputs": [
        {
          "output_type": "execute_result",
          "data": {
            "text/plain": [
              "2018    8519\n",
              "2017    8190\n",
              "2019    2879\n",
              "2016    2783\n",
              "2015    1191\n",
              "2014     137\n",
              "Name: year_exp, dtype: int64"
            ]
          },
          "metadata": {
            "tags": []
          },
          "execution_count": 18
        }
      ]
    },
    {
      "cell_type": "markdown",
      "metadata": {
        "id": "_XUAlLD5rm1p"
      },
      "source": [
        "* ### Категоризация данных столбца с этажом квартиры <a id='3.3'></a> [^](#10)"
      ]
    },
    {
      "cell_type": "markdown",
      "metadata": {
        "id": "DhyTQxO9rm1q"
      },
      "source": [
        "Категоризировали столбец с этажом квартиры."
      ]
    },
    {
      "cell_type": "code",
      "metadata": {
        "id": "T_xGliKwrm1q",
        "outputId": "852813fb-cd31-4cd9-c176-4c6f2952d9f4"
      },
      "source": [
        "# функция для распределения этажей по категориям\n",
        "def to_floor(row):\n",
        "    \n",
        "    if row['floor'] == 1:\n",
        "        return 'первый'\n",
        "    if row['floor'] == row['floors_total']:\n",
        "        return 'последний'\n",
        "    else:\n",
        "        return 'другой'\n",
        "    \n",
        "df['floors_group'] = df.apply(to_floor, axis=1)\n",
        "\n",
        "# проверка уникальных значений столбца\n",
        "df['floors_group'].value_counts()"
      ],
      "execution_count": null,
      "outputs": [
        {
          "output_type": "execute_result",
          "data": {
            "text/plain": [
              "другой       17446\n",
              "последний     3336\n",
              "первый        2917\n",
              "Name: floors_group, dtype: int64"
            ]
          },
          "metadata": {
            "tags": []
          },
          "execution_count": 19
        }
      ]
    },
    {
      "cell_type": "markdown",
      "metadata": {
        "id": "8rxi0vA6rm1r"
      },
      "source": [
        "* ### Расчёт соотношения площадей в квартире <a id='3.4'></a> [^](#10)"
      ]
    },
    {
      "cell_type": "markdown",
      "metadata": {
        "id": "Wioo2u5Orm1s"
      },
      "source": [
        "Создали столбец с отношением жилой и кухонной площадей к общей. "
      ]
    },
    {
      "cell_type": "code",
      "metadata": {
        "id": "f57HrrNDrm1s",
        "outputId": "cca605f0-3205-4378-cd14-6b1b0e6b9c62"
      },
      "source": [
        "# создание столбца с отношением жилой площади к общей\n",
        "df['ratio_living_area'] = (df['living_area'] / df['total_area']).round(3)\n",
        "df['ratio_living_area']"
      ],
      "execution_count": null,
      "outputs": [
        {
          "output_type": "execute_result",
          "data": {
            "text/plain": [
              "0        0.472\n",
              "1        0.460\n",
              "2        0.612\n",
              "3          NaN\n",
              "4        0.320\n",
              "         ...  \n",
              "23694    0.548\n",
              "23695    0.644\n",
              "23696    0.524\n",
              "23697      NaN\n",
              "23698    0.381\n",
              "Name: ratio_living_area, Length: 23699, dtype: float64"
            ]
          },
          "metadata": {
            "tags": []
          },
          "execution_count": 20
        }
      ]
    },
    {
      "cell_type": "code",
      "metadata": {
        "id": "3KXDk5rorm1t",
        "outputId": "926d3a46-eb48-433a-8ddb-0d6bfca11d2d"
      },
      "source": [
        "# создание столбца с отношением кухонной площади к общей \n",
        "df['ratio_kithen_area'] = (df['kitchen_area'] / df['total_area']).round(3)\n",
        "df['ratio_kithen_area']"
      ],
      "execution_count": null,
      "outputs": [
        {
          "output_type": "execute_result",
          "data": {
            "text/plain": [
              "0        0.231\n",
              "1        0.272\n",
              "2        0.148\n",
              "3          NaN\n",
              "4        0.410\n",
              "         ...  \n",
              "23694    0.103\n",
              "23695    0.144\n",
              "23696      NaN\n",
              "23697    0.304\n",
              "23698    0.279\n",
              "Name: ratio_kithen_area, Length: 23699, dtype: float64"
            ]
          },
          "metadata": {
            "tags": []
          },
          "execution_count": 21
        }
      ]
    },
    {
      "cell_type": "markdown",
      "metadata": {
        "id": "zGz1w331rm1v"
      },
      "source": [
        "###  Выводы\n",
        "Мы посчитали и добавили в таблицу столбцы с:\n",
        "* ценой квадратного метра\n",
        "* днём недели, месяцем и годом\n",
        "* этажом квартиры\n",
        "* соотношением жилой и кухонной площади к общей\n",
        "\n",
        "В дальнейшем попробуем проанализировать эти параметры для более полного ответа на поставленные вопросы.\n",
        "\n",
        "***"
      ]
    },
    {
      "cell_type": "markdown",
      "metadata": {
        "id": "lbSQeankrm1w"
      },
      "source": [
        "## 4. Исследовательский анализ данных <a id='4'></a>   [^](#10)"
      ]
    },
    {
      "cell_type": "markdown",
      "metadata": {
        "id": "AFkm888erm1w"
      },
      "source": [
        "* ### Исследование площади, цены, числа комнат, высоты потолков <a id='4.1'></a> [^](#40)"
      ]
    },
    {
      "cell_type": "markdown",
      "metadata": {
        "id": "kRuYlvgYrm1w"
      },
      "source": [
        "Посмотрели числовое описание данных в столбцах."
      ]
    },
    {
      "cell_type": "code",
      "metadata": {
        "id": "jw3HCpnirm1x",
        "outputId": "bf2cd5a5-07b5-4763-bcc3-5970e025b338"
      },
      "source": [
        "# вызов метода .describe\n",
        "df[['total_area', 'last_price', 'rooms', 'ceiling_height']].describe()"
      ],
      "execution_count": null,
      "outputs": [
        {
          "output_type": "execute_result",
          "data": {
            "text/html": [
              "<div>\n",
              "<style scoped>\n",
              "    .dataframe tbody tr th:only-of-type {\n",
              "        vertical-align: middle;\n",
              "    }\n",
              "\n",
              "    .dataframe tbody tr th {\n",
              "        vertical-align: top;\n",
              "    }\n",
              "\n",
              "    .dataframe thead th {\n",
              "        text-align: right;\n",
              "    }\n",
              "</style>\n",
              "<table border=\"1\" class=\"dataframe\">\n",
              "  <thead>\n",
              "    <tr style=\"text-align: right;\">\n",
              "      <th></th>\n",
              "      <th>total_area</th>\n",
              "      <th>last_price</th>\n",
              "      <th>rooms</th>\n",
              "      <th>ceiling_height</th>\n",
              "    </tr>\n",
              "  </thead>\n",
              "  <tbody>\n",
              "    <tr>\n",
              "      <td>count</td>\n",
              "      <td>23699.000000</td>\n",
              "      <td>2.369900e+04</td>\n",
              "      <td>23699.000000</td>\n",
              "      <td>14504.000000</td>\n",
              "    </tr>\n",
              "    <tr>\n",
              "      <td>mean</td>\n",
              "      <td>60.348651</td>\n",
              "      <td>6.541549e+06</td>\n",
              "      <td>2.070636</td>\n",
              "      <td>2.771499</td>\n",
              "    </tr>\n",
              "    <tr>\n",
              "      <td>std</td>\n",
              "      <td>35.654083</td>\n",
              "      <td>1.088701e+07</td>\n",
              "      <td>1.078405</td>\n",
              "      <td>1.261056</td>\n",
              "    </tr>\n",
              "    <tr>\n",
              "      <td>min</td>\n",
              "      <td>12.000000</td>\n",
              "      <td>1.219000e+04</td>\n",
              "      <td>0.000000</td>\n",
              "      <td>1.000000</td>\n",
              "    </tr>\n",
              "    <tr>\n",
              "      <td>25%</td>\n",
              "      <td>40.000000</td>\n",
              "      <td>3.400000e+06</td>\n",
              "      <td>1.000000</td>\n",
              "      <td>2.520000</td>\n",
              "    </tr>\n",
              "    <tr>\n",
              "      <td>50%</td>\n",
              "      <td>52.000000</td>\n",
              "      <td>4.650000e+06</td>\n",
              "      <td>2.000000</td>\n",
              "      <td>2.650000</td>\n",
              "    </tr>\n",
              "    <tr>\n",
              "      <td>75%</td>\n",
              "      <td>69.900000</td>\n",
              "      <td>6.800000e+06</td>\n",
              "      <td>3.000000</td>\n",
              "      <td>2.800000</td>\n",
              "    </tr>\n",
              "    <tr>\n",
              "      <td>max</td>\n",
              "      <td>900.000000</td>\n",
              "      <td>7.630000e+08</td>\n",
              "      <td>19.000000</td>\n",
              "      <td>100.000000</td>\n",
              "    </tr>\n",
              "  </tbody>\n",
              "</table>\n",
              "</div>"
            ],
            "text/plain": [
              "         total_area    last_price         rooms  ceiling_height\n",
              "count  23699.000000  2.369900e+04  23699.000000    14504.000000\n",
              "mean      60.348651  6.541549e+06      2.070636        2.771499\n",
              "std       35.654083  1.088701e+07      1.078405        1.261056\n",
              "min       12.000000  1.219000e+04      0.000000        1.000000\n",
              "25%       40.000000  3.400000e+06      1.000000        2.520000\n",
              "50%       52.000000  4.650000e+06      2.000000        2.650000\n",
              "75%       69.900000  6.800000e+06      3.000000        2.800000\n",
              "max      900.000000  7.630000e+08     19.000000      100.000000"
            ]
          },
          "metadata": {
            "tags": []
          },
          "execution_count": 22
        }
      ]
    },
    {
      "cell_type": "markdown",
      "metadata": {
        "id": "zwIn2sXnrm1y"
      },
      "source": [
        "Построили гистограммы для каждого столбца."
      ]
    },
    {
      "cell_type": "markdown",
      "metadata": {
        "id": "fHuUsweUrm1z"
      },
      "source": [
        "### *'total_area'* "
      ]
    },
    {
      "cell_type": "code",
      "metadata": {
        "id": "NhEV8jTerm1z",
        "outputId": "baa5f355-b95c-4ab9-bafa-1ac78b62921a"
      },
      "source": [
        "# гистограмма распределения площади квартиры\n",
        "df['total_area'].hist(bins=75, range=(0, 500), figsize=(12, 7))\n",
        "plt.show()"
      ],
      "execution_count": null,
      "outputs": [
        {
          "output_type": "display_data",
          "data": {
            "image/png": "[encoded data removed]",
            "text/plain": [
              "<Figure size 864x504 with 1 Axes>"
            ]
          },
          "metadata": {
            "tags": [],
            "needs_background": "light"
          }
        }
      ]
    },
    {
      "cell_type": "markdown",
      "metadata": {
        "id": "N7jQf_Wrrm10"
      },
      "source": [
        "Мы видим, что гистограмма напоминает распределение Пуассона. Среднее арифметическое ненамного больше медианы, что говорит о равномерности выборке. Однако имеется максимум в виде 900 кв.м., при том что в 75 % распределения попадают квартиры в 70 кв.м."
      ]
    },
    {
      "cell_type": "markdown",
      "metadata": {
        "id": "59H_d1_Srm10"
      },
      "source": [
        "### *'last_price'* "
      ]
    },
    {
      "cell_type": "code",
      "metadata": {
        "id": "rh2RRKMxrm11",
        "outputId": "592bfd9d-a5ac-46b7-8cec-ae4d9a589587"
      },
      "source": [
        "# гистограмма распределения цены\n",
        "df['last_price'].hist(bins=100, range=(0, 50*10**6), figsize=(12, 7))\n",
        "plt.show()"
      ],
      "execution_count": null,
      "outputs": [
        {
          "output_type": "display_data",
          "data": {
            "image/png": "[encoded data removed]",
            "text/plain": [
              "<Figure size 864x504 with 1 Axes>"
            ]
          },
          "metadata": {
            "tags": [],
            "needs_background": "light"
          }
        }
      ]
    },
    {
      "cell_type": "markdown",
      "metadata": {
        "id": "S_jd3-Q_rm12"
      },
      "source": [
        "Гистограмма распределения цены также напоминает распределение Пуассона. Из числовых данных видим, что в пределах 3 квартили лежат квартиры, стоимостью до 7 млн.руб. Также имеется выброс в виде очень дорогой недвижимости стоимостью 763 млн.руб. и \"нереально\" дешёвой стоимостью 12000 руб."
      ]
    },
    {
      "cell_type": "markdown",
      "metadata": {
        "id": "rFG7yqJHrm12"
      },
      "source": [
        "### *'rooms'* "
      ]
    },
    {
      "cell_type": "code",
      "metadata": {
        "id": "-IxjlT_Frm13",
        "outputId": "b98e1621-95c2-43ca-d600-7db0ba4d3d54"
      },
      "source": [
        "#гистограмма распределения числа комнат\n",
        "df['rooms'].hist(bins=20, range=(0, 8), figsize=(12, 7))\n",
        "plt.show()"
      ],
      "execution_count": null,
      "outputs": [
        {
          "output_type": "display_data",
          "data": {
            "image/png": "[encoded data removed]",
            "text/plain": [
              "<Figure size 864x504 with 1 Axes>"
            ]
          },
          "metadata": {
            "tags": [],
            "needs_background": "light"
          }
        }
      ]
    },
    {
      "cell_type": "markdown",
      "metadata": {
        "id": "lEa9yorqrm14"
      },
      "source": [
        "Гистограмма практически не отличается от предыдущих по форме распределения. Среднее и медиана практически схожи. Не ясно наличие \"нулевых\" комнат, а также квартир с очень большим количеством комнат."
      ]
    },
    {
      "cell_type": "markdown",
      "metadata": {
        "id": "S2f576d0rm14"
      },
      "source": [
        "### *'ceiling_height'* "
      ]
    },
    {
      "cell_type": "code",
      "metadata": {
        "id": "ZaCVHIO3rm15",
        "outputId": "5104fe20-3f53-495b-ec9c-d5bbaff8c72b"
      },
      "source": [
        "# гистограмма распределения высоты потолков\n",
        "df['ceiling_height'].hist(bins=15, range=(2, 4), figsize=(12, 7))\n",
        "plt.show()"
      ],
      "execution_count": null,
      "outputs": [
        {
          "output_type": "display_data",
          "data": {
            "image/png": "[encoded data removed]",
            "text/plain": [
              "<Figure size 864x504 with 1 Axes>"
            ]
          },
          "metadata": {
            "tags": [],
            "needs_background": "light"
          }
        }
      ]
    },
    {
      "cell_type": "markdown",
      "metadata": {
        "id": "iMpWNwpzrm15"
      },
      "source": [
        "   Числовые данные говорят, что имеется выброс в виде квартир с потолками до 100 м. Данный факт никак не коррелирует с реальностью, так как, руководствуясь здравым смыслом, мы понимаем, что высота потолков лежит в очень узких пределах, и её разброс должен быть минимален.\n"
      ]
    },
    {
      "cell_type": "markdown",
      "metadata": {
        "id": "6c6Fy_QCrm16"
      },
      "source": [
        "* ### Исследование количества времени для продажи квартиры <a id='4.2'></a> [^](#40)"
      ]
    },
    {
      "cell_type": "markdown",
      "metadata": {
        "id": "oo5ASPuHrm17"
      },
      "source": [
        "Посмотрели на числовые характеристики столбца с временем продажи квартиры."
      ]
    },
    {
      "cell_type": "code",
      "metadata": {
        "scrolled": true,
        "id": "ULKp988Crm17",
        "outputId": "044fdb5f-03e4-46dd-ed75-e84c179b79cc"
      },
      "source": [
        "# числовое описание данных\n",
        "df['days_exposition'].describe()"
      ],
      "execution_count": null,
      "outputs": [
        {
          "output_type": "execute_result",
          "data": {
            "text/plain": [
              "count    20518.000000\n",
              "mean       180.888634\n",
              "std        219.727988\n",
              "min          1.000000\n",
              "25%         45.000000\n",
              "50%         95.000000\n",
              "75%        232.000000\n",
              "max       1580.000000\n",
              "Name: days_exposition, dtype: float64"
            ]
          },
          "metadata": {
            "tags": []
          },
          "execution_count": 27
        }
      ]
    },
    {
      "cell_type": "markdown",
      "metadata": {
        "id": "tk6gncCxrm18"
      },
      "source": [
        "Различие среднего и медианы почти в 2 раза указывает на значительный разброс значений. В 3 квартиль входят продажи, укладывающиеся примерно в 7-8 месяцев. Максимальное время зафиксировано на уровне более 4 лет, что является очень длинным сроком.\n",
        "\n",
        "Построили гистограмму и диаграмму размаха, чтобы точнее увидеть суть отклонений."
      ]
    },
    {
      "cell_type": "code",
      "metadata": {
        "scrolled": false,
        "id": "H1MBxvYIrm19",
        "outputId": "08807713-0aeb-4943-8681-a56c675cfb8a"
      },
      "source": [
        "# построение гистограммы\n",
        "df['days_exposition'].hist(bins=100, figsize=(12, 7))\n",
        "plt.show()"
      ],
      "execution_count": null,
      "outputs": [
        {
          "output_type": "display_data",
          "data": {
            "image/png": "[encoded data removed]",
            "text/plain": [
              "<Figure size 864x504 with 1 Axes>"
            ]
          },
          "metadata": {
            "tags": [],
            "needs_background": "light"
          }
        }
      ]
    },
    {
      "cell_type": "code",
      "metadata": {
        "scrolled": false,
        "id": "UQNXtPbRrm1-",
        "outputId": "cdcad5e0-da14-4868-8b11-6f07831c7ad1"
      },
      "source": [
        "# построение диаграммы размаха\n",
        "df.boxplot('days_exposition', figsize=(12, 7))\n",
        "plt.show()"
      ],
      "execution_count": null,
      "outputs": [
        {
          "output_type": "display_data",
          "data": {
            "image/png": "[encoded data removed]",
            "text/plain": [
              "<Figure size 864x504 with 1 Axes>"
            ]
          },
          "metadata": {
            "tags": [],
            "needs_background": "light"
          }
        }
      ]
    },
    {
      "cell_type": "markdown",
      "metadata": {
        "id": "xBx0sPR1rm1-"
      },
      "source": [
        "Из диаграммы мы видим, что медиана тяготеет к \"нижнему усу\". Значит все выбивающиеся значения за верхним 1,5-межквартильным размахом составляют не очень большую часть. На уровне 600 дней данные значения могут быть убраны. Процент потерь составит 5. "
      ]
    },
    {
      "cell_type": "code",
      "metadata": {
        "id": "9G7H8c5Vrm1_",
        "outputId": "946629b8-5c32-4a24-89a2-18aecd66c531"
      },
      "source": [
        "# доля потерь после удаления выбросов\n",
        "len(df.query('days_exposition > 600')) / len(df)"
      ],
      "execution_count": null,
      "outputs": [
        {
          "output_type": "execute_result",
          "data": {
            "text/plain": [
              "0.05055065614582894"
            ]
          },
          "metadata": {
            "tags": []
          },
          "execution_count": 30
        }
      ]
    },
    {
      "cell_type": "markdown",
      "metadata": {
        "id": "KeGZg0ASrm2A"
      },
      "source": [
        "* ### Анализ редких и выбивающихся значений <a id='4.3'></a> [^](#40)"
      ]
    },
    {
      "cell_type": "markdown",
      "metadata": {
        "id": "2ps1IOpurm2A"
      },
      "source": [
        "Провели анализ сильно отклоняющихся от большинства значений в разных столбцах."
      ]
    },
    {
      "cell_type": "markdown",
      "metadata": {
        "id": "kvO9AMFvrm2B"
      },
      "source": [
        "### *'total_area'* "
      ]
    },
    {
      "cell_type": "code",
      "metadata": {
        "scrolled": false,
        "id": "qqeh2GBbrm2B",
        "outputId": "1570a361-3a50-4833-ab87-e4dff3acd258"
      },
      "source": [
        "# построение диаграммы размаха\n",
        "df.boxplot('total_area', figsize=(12, 7))\n",
        "plt.show()"
      ],
      "execution_count": null,
      "outputs": [
        {
          "output_type": "display_data",
          "data": {
            "image/png": "[encoded data removed]",
            "text/plain": [
              "<Figure size 864x504 with 1 Axes>"
            ]
          },
          "metadata": {
            "tags": [],
            "needs_background": "light"
          }
        }
      ]
    },
    {
      "cell_type": "code",
      "metadata": {
        "scrolled": true,
        "id": "VlsQsKoIrm2C",
        "outputId": "fd7aceed-8a5d-4a27-eb96-5c9403438ed6"
      },
      "source": [
        "# нахождение группы квартир с большой площадью\n",
        "df.query('total_area > 130').pivot_table(index='name_group', values='total_area', aggfunc='count')"
      ],
      "execution_count": null,
      "outputs": [
        {
          "output_type": "execute_result",
          "data": {
            "text/html": [
              "<div>\n",
              "<style scoped>\n",
              "    .dataframe tbody tr th:only-of-type {\n",
              "        vertical-align: middle;\n",
              "    }\n",
              "\n",
              "    .dataframe tbody tr th {\n",
              "        vertical-align: top;\n",
              "    }\n",
              "\n",
              "    .dataframe thead th {\n",
              "        text-align: right;\n",
              "    }\n",
              "</style>\n",
              "<table border=\"1\" class=\"dataframe\">\n",
              "  <thead>\n",
              "    <tr style=\"text-align: right;\">\n",
              "      <th></th>\n",
              "      <th>total_area</th>\n",
              "    </tr>\n",
              "    <tr>\n",
              "      <th>name_group</th>\n",
              "      <th></th>\n",
              "    </tr>\n",
              "  </thead>\n",
              "  <tbody>\n",
              "    <tr>\n",
              "      <td>всеволожск</td>\n",
              "      <td>1</td>\n",
              "    </tr>\n",
              "    <tr>\n",
              "      <td>выборг</td>\n",
              "      <td>4</td>\n",
              "    </tr>\n",
              "    <tr>\n",
              "      <td>гатчина</td>\n",
              "      <td>3</td>\n",
              "    </tr>\n",
              "    <tr>\n",
              "      <td>другие</td>\n",
              "      <td>28</td>\n",
              "    </tr>\n",
              "    <tr>\n",
              "      <td>колпино</td>\n",
              "      <td>1</td>\n",
              "    </tr>\n",
              "    <tr>\n",
              "      <td>парголово</td>\n",
              "      <td>1</td>\n",
              "    </tr>\n",
              "    <tr>\n",
              "      <td>пушкин</td>\n",
              "      <td>15</td>\n",
              "    </tr>\n",
              "    <tr>\n",
              "      <td>санкт-петербург</td>\n",
              "      <td>786</td>\n",
              "    </tr>\n",
              "  </tbody>\n",
              "</table>\n",
              "</div>"
            ],
            "text/plain": [
              "                 total_area\n",
              "name_group                 \n",
              "всеволожск                1\n",
              "выборг                    4\n",
              "гатчина                   3\n",
              "другие                   28\n",
              "колпино                   1\n",
              "парголово                 1\n",
              "пушкин                   15\n",
              "санкт-петербург         786"
            ]
          },
          "metadata": {
            "tags": []
          },
          "execution_count": 32
        }
      ]
    },
    {
      "cell_type": "markdown",
      "metadata": {
        "id": "egHCfkDMrm2D"
      },
      "source": [
        "За верхний 1,5-межквартильный размах выходит достаточно много квартир с большой площадью. Практически все они расположены в Петербурге, что вполне естественно. Однако условимся, что уровень в 130 м будет границей выброса. Тогда потеря в точности составила примерно 3,5 %."
      ]
    },
    {
      "cell_type": "code",
      "metadata": {
        "id": "FXw9BIRCrm2E",
        "outputId": "414424e2-6bd2-4887-b48b-76d24f7519dd"
      },
      "source": [
        "# доля потерь после удаления выбросов\n",
        "len(df.query('total_area > 130')) / len(df)"
      ],
      "execution_count": null,
      "outputs": [
        {
          "output_type": "execute_result",
          "data": {
            "text/plain": [
              "0.035402337651377694"
            ]
          },
          "metadata": {
            "tags": []
          },
          "execution_count": 33
        }
      ]
    },
    {
      "cell_type": "markdown",
      "metadata": {
        "id": "rp7kqS0mrm2F"
      },
      "source": [
        "### *'last_price'* "
      ]
    },
    {
      "cell_type": "code",
      "metadata": {
        "scrolled": false,
        "id": "Neov4vaOrm2F",
        "outputId": "6d58c497-072f-467e-d32b-1c51744e6067"
      },
      "source": [
        "# построение диаграммы размаха\n",
        "plt.ylim(0, 15*10**6)\n",
        "df.boxplot('last_price', figsize=(12, 7))\n",
        "plt.show()"
      ],
      "execution_count": null,
      "outputs": [
        {
          "output_type": "display_data",
          "data": {
            "image/png": "[encoded data removed]",
            "text/plain": [
              "<Figure size 432x288 with 1 Axes>"
            ]
          },
          "metadata": {
            "tags": [],
            "needs_background": "light"
          }
        }
      ]
    },
    {
      "cell_type": "code",
      "metadata": {
        "scrolled": true,
        "id": "6nkF4QA2rm2G",
        "outputId": "ea4a675f-dab6-4857-8d4e-c7ab4933af8c"
      },
      "source": [
        "# нахождение выброса с необычно дешёвой квартирой в Санкт-Петербурге\n",
        "df.query('last_price < 0.4*10**6')"
      ],
      "execution_count": null,
      "outputs": [
        {
          "output_type": "execute_result",
          "data": {
            "text/html": [
              "<div>\n",
              "<style scoped>\n",
              "    .dataframe tbody tr th:only-of-type {\n",
              "        vertical-align: middle;\n",
              "    }\n",
              "\n",
              "    .dataframe tbody tr th {\n",
              "        vertical-align: top;\n",
              "    }\n",
              "\n",
              "    .dataframe thead th {\n",
              "        text-align: right;\n",
              "    }\n",
              "</style>\n",
              "<table border=\"1\" class=\"dataframe\">\n",
              "  <thead>\n",
              "    <tr style=\"text-align: right;\">\n",
              "      <th></th>\n",
              "      <th>total_images</th>\n",
              "      <th>last_price</th>\n",
              "      <th>total_area</th>\n",
              "      <th>first_day_exposition</th>\n",
              "      <th>rooms</th>\n",
              "      <th>ceiling_height</th>\n",
              "      <th>floors_total</th>\n",
              "      <th>living_area</th>\n",
              "      <th>floor</th>\n",
              "      <th>is_apartment</th>\n",
              "      <th>...</th>\n",
              "      <th>ponds_nearest</th>\n",
              "      <th>days_exposition</th>\n",
              "      <th>name_group</th>\n",
              "      <th>price_per_metr</th>\n",
              "      <th>weekday_exp</th>\n",
              "      <th>month_exp</th>\n",
              "      <th>year_exp</th>\n",
              "      <th>floors_group</th>\n",
              "      <th>ratio_living_area</th>\n",
              "      <th>ratio_kithen_area</th>\n",
              "    </tr>\n",
              "  </thead>\n",
              "  <tbody>\n",
              "    <tr>\n",
              "      <td>8793</td>\n",
              "      <td>7</td>\n",
              "      <td>12190.0</td>\n",
              "      <td>109.0</td>\n",
              "      <td>2019-03-20</td>\n",
              "      <td>2</td>\n",
              "      <td>2.75</td>\n",
              "      <td>25</td>\n",
              "      <td>32.0</td>\n",
              "      <td>25</td>\n",
              "      <td>NaN</td>\n",
              "      <td>...</td>\n",
              "      <td>NaN</td>\n",
              "      <td>8</td>\n",
              "      <td>санкт-петербург</td>\n",
              "      <td>112.0</td>\n",
              "      <td>среда</td>\n",
              "      <td>март</td>\n",
              "      <td>2019</td>\n",
              "      <td>последний</td>\n",
              "      <td>0.294</td>\n",
              "      <td>0.372</td>\n",
              "    </tr>\n",
              "  </tbody>\n",
              "</table>\n",
              "<p>1 rows × 30 columns</p>\n",
              "</div>"
            ],
            "text/plain": [
              "      total_images  last_price  total_area first_day_exposition  rooms  \\\n",
              "8793             7     12190.0       109.0           2019-03-20      2   \n",
              "\n",
              "      ceiling_height  floors_total  living_area  floor is_apartment  ...  \\\n",
              "8793            2.75            25         32.0     25          NaN  ...   \n",
              "\n",
              "      ponds_nearest  days_exposition       name_group  price_per_metr  \\\n",
              "8793            NaN                8  санкт-петербург           112.0   \n",
              "\n",
              "     weekday_exp  month_exp  year_exp  floors_group  ratio_living_area  \\\n",
              "8793       среда       март      2019     последний              0.294   \n",
              "\n",
              "      ratio_kithen_area  \n",
              "8793              0.372  \n",
              "\n",
              "[1 rows x 30 columns]"
            ]
          },
          "metadata": {
            "tags": []
          },
          "execution_count": 35
        }
      ]
    },
    {
      "cell_type": "code",
      "metadata": {
        "id": "xMpwg2Furm2H",
        "outputId": "d4ca990c-47ca-4dc0-8ff3-b307872d6a63"
      },
      "source": [
        "# доля потерь после удаления выбросов\n",
        "len(df.query('last_price > 15*10**6')) / len(df)"
      ],
      "execution_count": null,
      "outputs": [
        {
          "output_type": "execute_result",
          "data": {
            "text/plain": [
              "0.050803831385290515"
            ]
          },
          "metadata": {
            "tags": []
          },
          "execution_count": 36
        }
      ]
    },
    {
      "cell_type": "code",
      "metadata": {
        "scrolled": true,
        "id": "5RpTLADnrm2I",
        "outputId": "2e66a9a4-1824-4d17-e4c3-799b8ce17f82"
      },
      "source": [
        "# нахождение группы очень дорогих квартир\n",
        "df.query('last_price > 15*10**6').pivot_table(index='name_group', values='last_price', aggfunc='count')"
      ],
      "execution_count": null,
      "outputs": [
        {
          "output_type": "execute_result",
          "data": {
            "text/html": [
              "<div>\n",
              "<style scoped>\n",
              "    .dataframe tbody tr th:only-of-type {\n",
              "        vertical-align: middle;\n",
              "    }\n",
              "\n",
              "    .dataframe tbody tr th {\n",
              "        vertical-align: top;\n",
              "    }\n",
              "\n",
              "    .dataframe thead th {\n",
              "        text-align: right;\n",
              "    }\n",
              "</style>\n",
              "<table border=\"1\" class=\"dataframe\">\n",
              "  <thead>\n",
              "    <tr style=\"text-align: right;\">\n",
              "      <th></th>\n",
              "      <th>last_price</th>\n",
              "    </tr>\n",
              "    <tr>\n",
              "      <th>name_group</th>\n",
              "      <th></th>\n",
              "    </tr>\n",
              "  </thead>\n",
              "  <tbody>\n",
              "    <tr>\n",
              "      <td>всеволожск</td>\n",
              "      <td>1</td>\n",
              "    </tr>\n",
              "    <tr>\n",
              "      <td>выборг</td>\n",
              "      <td>1</td>\n",
              "    </tr>\n",
              "    <tr>\n",
              "      <td>другие</td>\n",
              "      <td>20</td>\n",
              "    </tr>\n",
              "    <tr>\n",
              "      <td>колпино</td>\n",
              "      <td>1</td>\n",
              "    </tr>\n",
              "    <tr>\n",
              "      <td>пушкин</td>\n",
              "      <td>18</td>\n",
              "    </tr>\n",
              "    <tr>\n",
              "      <td>санкт-петербург</td>\n",
              "      <td>1163</td>\n",
              "    </tr>\n",
              "  </tbody>\n",
              "</table>\n",
              "</div>"
            ],
            "text/plain": [
              "                 last_price\n",
              "name_group                 \n",
              "всеволожск                1\n",
              "выборг                    1\n",
              "другие                   20\n",
              "колпино                   1\n",
              "пушкин                   18\n",
              "санкт-петербург        1163"
            ]
          },
          "metadata": {
            "tags": []
          },
          "execution_count": 37
        }
      ]
    },
    {
      "cell_type": "markdown",
      "metadata": {
        "id": "JdVOARnprm2J"
      },
      "source": [
        "Группа очень дорогих квартир преимущественно расположена в Санкт-Петербурге. Можно ли счиатать такой разброс аномалией? Скорее всего эта закономерность имеет объективную природу. Однако для ответов на поставленные вопросы мы условно избавимся от этой части квартир, считая объекты, стоимостью выше 15 миллионнов как выбросы. Тогда потери в точности составят примерно 5 %."
      ]
    },
    {
      "cell_type": "code",
      "metadata": {
        "id": "XwEgdD2Trm2K",
        "outputId": "1e414ffc-08f6-40d7-c0f0-0f0b1404bf4e"
      },
      "source": [
        "# доля потерь после удаления выбросов\n",
        "len(df.query('0.4*10**6 > last_price or last_price > 15*10**6')) / len(df)"
      ],
      "execution_count": null,
      "outputs": [
        {
          "output_type": "execute_result",
          "data": {
            "text/plain": [
              "0.05084602725853411"
            ]
          },
          "metadata": {
            "tags": []
          },
          "execution_count": 38
        }
      ]
    },
    {
      "cell_type": "markdown",
      "metadata": {
        "id": "6ToL5DXfrm2L"
      },
      "source": [
        "### *'rooms'* "
      ]
    },
    {
      "cell_type": "code",
      "metadata": {
        "scrolled": false,
        "id": "BYTByKiirm2L",
        "outputId": "9d8b697b-83d3-4735-900a-3b4ff814ba4e"
      },
      "source": [
        "# построение диаграммы размаха\n",
        "df.boxplot('rooms', figsize=(12, 7))\n",
        "plt.show()"
      ],
      "execution_count": null,
      "outputs": [
        {
          "output_type": "display_data",
          "data": {
            "image/png": "[encoded data removed]",
            "text/plain": [
              "<Figure size 864x504 with 1 Axes>"
            ]
          },
          "metadata": {
            "tags": [],
            "needs_background": "light"
          }
        }
      ]
    },
    {
      "cell_type": "code",
      "metadata": {
        "id": "OPn0Yp34rm2M",
        "outputId": "c3b5d43b-74fa-46eb-c630-655d4225ea61"
      },
      "source": [
        "# проверка уникальных значений в столбце с данными по комнатам\n",
        "df['rooms'].value_counts()"
      ],
      "execution_count": null,
      "outputs": [
        {
          "output_type": "execute_result",
          "data": {
            "text/plain": [
              "1     8047\n",
              "2     7940\n",
              "3     5814\n",
              "4     1180\n",
              "5      326\n",
              "0      197\n",
              "6      105\n",
              "7       59\n",
              "8       12\n",
              "9        8\n",
              "10       3\n",
              "14       2\n",
              "11       2\n",
              "19       1\n",
              "12       1\n",
              "16       1\n",
              "15       1\n",
              "Name: rooms, dtype: int64"
            ]
          },
          "metadata": {
            "tags": []
          },
          "execution_count": 40
        }
      ]
    },
    {
      "cell_type": "markdown",
      "metadata": {
        "id": "PDxSDNd2rm2P"
      },
      "source": [
        "Наличие объектов с нулевым количеством комнат выглядит неправдоподобно, в отличие от петербуржских больших и дорогих квартир с большим количеством комнат. Избавились и от них. Потери в точности примерно 1 %."
      ]
    },
    {
      "cell_type": "code",
      "metadata": {
        "id": "DfBvz1pUrm2Q",
        "outputId": "e7ba4bab-a344-48f0-cddd-51d688c23ea4"
      },
      "source": [
        "# доля потерь после удаления выбросов\n",
        "len(df.query('0 == rooms or rooms > 6')) / len(df)"
      ],
      "execution_count": null,
      "outputs": [
        {
          "output_type": "execute_result",
          "data": {
            "text/plain": [
              "0.012110215620912275"
            ]
          },
          "metadata": {
            "tags": []
          },
          "execution_count": 41
        }
      ]
    },
    {
      "cell_type": "markdown",
      "metadata": {
        "id": "EQq8Ze24rm2R"
      },
      "source": [
        "### *'ceiling_height'* "
      ]
    },
    {
      "cell_type": "code",
      "metadata": {
        "scrolled": false,
        "id": "Npe7LJf1rm2T",
        "outputId": "49c9b208-1a31-459c-a7ff-961a9d038584"
      },
      "source": [
        "# диаграмма размаха данных столбца с высотой потолка\n",
        "df.boxplot('ceiling_height', figsize=(12, 7))\n",
        "plt.ylim(1, 4)\n",
        "plt.show()"
      ],
      "execution_count": null,
      "outputs": [
        {
          "output_type": "display_data",
          "data": {
            "image/png": "[encoded data removed]",
            "text/plain": [
              "<Figure size 864x504 with 1 Axes>"
            ]
          },
          "metadata": {
            "tags": [],
            "needs_background": "light"
          }
        }
      ]
    },
    {
      "cell_type": "markdown",
      "metadata": {
        "id": "05PA5rF0rm2U"
      },
      "source": [
        "Потолки высотой ниже 2,4 метров, как и очень высокие потолки признак включения их в аномалии, от которых нужно избавиться. Посмотрели на группу с потолками выше 4 метров."
      ]
    },
    {
      "cell_type": "code",
      "metadata": {
        "scrolled": true,
        "id": "EOLKK1Gtrm2V",
        "outputId": "ca225dda-3405-4772-8e5e-5b16a3c2a350"
      },
      "source": [
        "# нахождение группы очень дорогих квартир\n",
        "df.query('ceiling_height > 4').pivot_table(index='name_group', values='ceiling_height', aggfunc='count')"
      ],
      "execution_count": null,
      "outputs": [
        {
          "output_type": "execute_result",
          "data": {
            "text/html": [
              "<div>\n",
              "<style scoped>\n",
              "    .dataframe tbody tr th:only-of-type {\n",
              "        vertical-align: middle;\n",
              "    }\n",
              "\n",
              "    .dataframe tbody tr th {\n",
              "        vertical-align: top;\n",
              "    }\n",
              "\n",
              "    .dataframe thead th {\n",
              "        text-align: right;\n",
              "    }\n",
              "</style>\n",
              "<table border=\"1\" class=\"dataframe\">\n",
              "  <thead>\n",
              "    <tr style=\"text-align: right;\">\n",
              "      <th></th>\n",
              "      <th>ceiling_height</th>\n",
              "    </tr>\n",
              "    <tr>\n",
              "      <th>name_group</th>\n",
              "      <th></th>\n",
              "    </tr>\n",
              "  </thead>\n",
              "  <tbody>\n",
              "    <tr>\n",
              "      <td>всеволожск</td>\n",
              "      <td>1</td>\n",
              "    </tr>\n",
              "    <tr>\n",
              "      <td>выборг</td>\n",
              "      <td>1</td>\n",
              "    </tr>\n",
              "    <tr>\n",
              "      <td>гатчина</td>\n",
              "      <td>1</td>\n",
              "    </tr>\n",
              "    <tr>\n",
              "      <td>другие</td>\n",
              "      <td>11</td>\n",
              "    </tr>\n",
              "    <tr>\n",
              "      <td>мурино</td>\n",
              "      <td>2</td>\n",
              "    </tr>\n",
              "    <tr>\n",
              "      <td>пушкин</td>\n",
              "      <td>1</td>\n",
              "    </tr>\n",
              "    <tr>\n",
              "      <td>санкт-петербург</td>\n",
              "      <td>58</td>\n",
              "    </tr>\n",
              "  </tbody>\n",
              "</table>\n",
              "</div>"
            ],
            "text/plain": [
              "                 ceiling_height\n",
              "name_group                     \n",
              "всеволожск                    1\n",
              "выборг                        1\n",
              "гатчина                       1\n",
              "другие                       11\n",
              "мурино                        2\n",
              "пушкин                        1\n",
              "санкт-петербург              58"
            ]
          },
          "metadata": {
            "tags": []
          },
          "execution_count": 43
        }
      ]
    },
    {
      "cell_type": "markdown",
      "metadata": {
        "id": "NheEAABjrm2X"
      },
      "source": [
        "Как и ожидалось, большинство квартир находится в Петербурге. Сложно судить о наличии в действительности таких высоких потолков, однако из-за малого их количества можно удалить данные строки. Процент потери в точности примерно 0.5 %."
      ]
    },
    {
      "cell_type": "code",
      "metadata": {
        "id": "zYfYcRbJrm2Y",
        "outputId": "18c086d6-744e-4be4-d0bb-d0c8a6bfd746"
      },
      "source": [
        "# доля потерь после удаления выбросов\n",
        "len(df.query('2.4 > ceiling_height or ceiling_height > 4')) / len(df)"
      ],
      "execution_count": null,
      "outputs": [
        {
          "output_type": "execute_result",
          "data": {
            "text/plain": [
              "0.004050803831385291"
            ]
          },
          "metadata": {
            "tags": []
          },
          "execution_count": 44
        }
      ]
    },
    {
      "cell_type": "markdown",
      "metadata": {
        "id": "4-Z1iQTHrm2Z"
      },
      "source": [
        "***"
      ]
    },
    {
      "cell_type": "markdown",
      "metadata": {
        "id": "0F4ptuFrrm2a"
      },
      "source": [
        "Создали очищенную от аномалий таблицу."
      ]
    },
    {
      "cell_type": "code",
      "metadata": {
        "id": "xTdKg1B1rm2a",
        "outputId": "f91d07e6-5e73-4b7d-f3a5-199fb398e31d"
      },
      "source": [
        "df_clean = df.query(\n",
        "                    'days_exposition < 600 and total_area < 130 and 0.4*10**6 < last_price < 15*10**6\\\n",
        "                     and 0 < rooms < 6 and 2.4 < ceiling_height < 4').reset_index(drop=True)\n",
        "df_clean"
      ],
      "execution_count": null,
      "outputs": [
        {
          "output_type": "execute_result",
          "data": {
            "text/html": [
              "<div>\n",
              "<style scoped>\n",
              "    .dataframe tbody tr th:only-of-type {\n",
              "        vertical-align: middle;\n",
              "    }\n",
              "\n",
              "    .dataframe tbody tr th {\n",
              "        vertical-align: top;\n",
              "    }\n",
              "\n",
              "    .dataframe thead th {\n",
              "        text-align: right;\n",
              "    }\n",
              "</style>\n",
              "<table border=\"1\" class=\"dataframe\">\n",
              "  <thead>\n",
              "    <tr style=\"text-align: right;\">\n",
              "      <th></th>\n",
              "      <th>total_images</th>\n",
              "      <th>last_price</th>\n",
              "      <th>total_area</th>\n",
              "      <th>first_day_exposition</th>\n",
              "      <th>rooms</th>\n",
              "      <th>ceiling_height</th>\n",
              "      <th>floors_total</th>\n",
              "      <th>living_area</th>\n",
              "      <th>floor</th>\n",
              "      <th>is_apartment</th>\n",
              "      <th>...</th>\n",
              "      <th>ponds_nearest</th>\n",
              "      <th>days_exposition</th>\n",
              "      <th>name_group</th>\n",
              "      <th>price_per_metr</th>\n",
              "      <th>weekday_exp</th>\n",
              "      <th>month_exp</th>\n",
              "      <th>year_exp</th>\n",
              "      <th>floors_group</th>\n",
              "      <th>ratio_living_area</th>\n",
              "      <th>ratio_kithen_area</th>\n",
              "    </tr>\n",
              "  </thead>\n",
              "  <tbody>\n",
              "    <tr>\n",
              "      <td>0</td>\n",
              "      <td>2</td>\n",
              "      <td>10000000.0</td>\n",
              "      <td>100.0</td>\n",
              "      <td>2018-06-19</td>\n",
              "      <td>2</td>\n",
              "      <td>3.03</td>\n",
              "      <td>14</td>\n",
              "      <td>32.0</td>\n",
              "      <td>13</td>\n",
              "      <td>NaN</td>\n",
              "      <td>...</td>\n",
              "      <td>48.0</td>\n",
              "      <td>121</td>\n",
              "      <td>санкт-петербург</td>\n",
              "      <td>100000.0</td>\n",
              "      <td>вторник</td>\n",
              "      <td>июнь</td>\n",
              "      <td>2018</td>\n",
              "      <td>другой</td>\n",
              "      <td>0.320</td>\n",
              "      <td>0.410</td>\n",
              "    </tr>\n",
              "    <tr>\n",
              "      <td>1</td>\n",
              "      <td>18</td>\n",
              "      <td>5400000.0</td>\n",
              "      <td>61.0</td>\n",
              "      <td>2017-02-26</td>\n",
              "      <td>3</td>\n",
              "      <td>2.50</td>\n",
              "      <td>9</td>\n",
              "      <td>43.6</td>\n",
              "      <td>7</td>\n",
              "      <td>NaN</td>\n",
              "      <td>...</td>\n",
              "      <td>NaN</td>\n",
              "      <td>289</td>\n",
              "      <td>санкт-петербург</td>\n",
              "      <td>88525.0</td>\n",
              "      <td>воскресенье</td>\n",
              "      <td>февраль</td>\n",
              "      <td>2017</td>\n",
              "      <td>другой</td>\n",
              "      <td>0.715</td>\n",
              "      <td>0.107</td>\n",
              "    </tr>\n",
              "    <tr>\n",
              "      <td>2</td>\n",
              "      <td>5</td>\n",
              "      <td>5050000.0</td>\n",
              "      <td>39.6</td>\n",
              "      <td>2017-11-16</td>\n",
              "      <td>1</td>\n",
              "      <td>2.67</td>\n",
              "      <td>12</td>\n",
              "      <td>20.3</td>\n",
              "      <td>3</td>\n",
              "      <td>NaN</td>\n",
              "      <td>...</td>\n",
              "      <td>553.0</td>\n",
              "      <td>137</td>\n",
              "      <td>санкт-петербург</td>\n",
              "      <td>127525.0</td>\n",
              "      <td>четверг</td>\n",
              "      <td>ноябрь</td>\n",
              "      <td>2017</td>\n",
              "      <td>другой</td>\n",
              "      <td>0.513</td>\n",
              "      <td>0.215</td>\n",
              "    </tr>\n",
              "    <tr>\n",
              "      <td>3</td>\n",
              "      <td>20</td>\n",
              "      <td>3550000.0</td>\n",
              "      <td>42.8</td>\n",
              "      <td>2017-07-01</td>\n",
              "      <td>2</td>\n",
              "      <td>2.56</td>\n",
              "      <td>5</td>\n",
              "      <td>27.0</td>\n",
              "      <td>5</td>\n",
              "      <td>NaN</td>\n",
              "      <td>...</td>\n",
              "      <td>298.0</td>\n",
              "      <td>366</td>\n",
              "      <td>другие</td>\n",
              "      <td>82944.0</td>\n",
              "      <td>суббота</td>\n",
              "      <td>июль</td>\n",
              "      <td>2017</td>\n",
              "      <td>последний</td>\n",
              "      <td>0.631</td>\n",
              "      <td>0.121</td>\n",
              "    </tr>\n",
              "    <tr>\n",
              "      <td>4</td>\n",
              "      <td>11</td>\n",
              "      <td>6700000.0</td>\n",
              "      <td>82.0</td>\n",
              "      <td>2017-11-23</td>\n",
              "      <td>3</td>\n",
              "      <td>3.05</td>\n",
              "      <td>5</td>\n",
              "      <td>55.6</td>\n",
              "      <td>1</td>\n",
              "      <td>NaN</td>\n",
              "      <td>...</td>\n",
              "      <td>NaN</td>\n",
              "      <td>397</td>\n",
              "      <td>санкт-петербург</td>\n",
              "      <td>81707.0</td>\n",
              "      <td>четверг</td>\n",
              "      <td>ноябрь</td>\n",
              "      <td>2017</td>\n",
              "      <td>первый</td>\n",
              "      <td>0.678</td>\n",
              "      <td>0.110</td>\n",
              "    </tr>\n",
              "    <tr>\n",
              "      <td>...</td>\n",
              "      <td>...</td>\n",
              "      <td>...</td>\n",
              "      <td>...</td>\n",
              "      <td>...</td>\n",
              "      <td>...</td>\n",
              "      <td>...</td>\n",
              "      <td>...</td>\n",
              "      <td>...</td>\n",
              "      <td>...</td>\n",
              "      <td>...</td>\n",
              "      <td>...</td>\n",
              "      <td>...</td>\n",
              "      <td>...</td>\n",
              "      <td>...</td>\n",
              "      <td>...</td>\n",
              "      <td>...</td>\n",
              "      <td>...</td>\n",
              "      <td>...</td>\n",
              "      <td>...</td>\n",
              "      <td>...</td>\n",
              "      <td>...</td>\n",
              "    </tr>\n",
              "    <tr>\n",
              "      <td>10522</td>\n",
              "      <td>8</td>\n",
              "      <td>3300000.0</td>\n",
              "      <td>31.0</td>\n",
              "      <td>2017-04-29</td>\n",
              "      <td>1</td>\n",
              "      <td>2.55</td>\n",
              "      <td>9</td>\n",
              "      <td>18.0</td>\n",
              "      <td>6</td>\n",
              "      <td>NaN</td>\n",
              "      <td>...</td>\n",
              "      <td>317.0</td>\n",
              "      <td>193</td>\n",
              "      <td>санкт-петербург</td>\n",
              "      <td>106452.0</td>\n",
              "      <td>суббота</td>\n",
              "      <td>апрель</td>\n",
              "      <td>2017</td>\n",
              "      <td>другой</td>\n",
              "      <td>0.581</td>\n",
              "      <td>0.210</td>\n",
              "    </tr>\n",
              "    <tr>\n",
              "      <td>10523</td>\n",
              "      <td>19</td>\n",
              "      <td>9200000.0</td>\n",
              "      <td>101.0</td>\n",
              "      <td>2019-04-01</td>\n",
              "      <td>3</td>\n",
              "      <td>3.05</td>\n",
              "      <td>15</td>\n",
              "      <td>63.0</td>\n",
              "      <td>12</td>\n",
              "      <td>NaN</td>\n",
              "      <td>...</td>\n",
              "      <td>NaN</td>\n",
              "      <td>23</td>\n",
              "      <td>санкт-петербург</td>\n",
              "      <td>91089.0</td>\n",
              "      <td>понедельник</td>\n",
              "      <td>апрель</td>\n",
              "      <td>2019</td>\n",
              "      <td>другой</td>\n",
              "      <td>0.624</td>\n",
              "      <td>0.149</td>\n",
              "    </tr>\n",
              "    <tr>\n",
              "      <td>10524</td>\n",
              "      <td>13</td>\n",
              "      <td>3550000.0</td>\n",
              "      <td>35.3</td>\n",
              "      <td>2018-02-28</td>\n",
              "      <td>1</td>\n",
              "      <td>2.86</td>\n",
              "      <td>15</td>\n",
              "      <td>16.3</td>\n",
              "      <td>4</td>\n",
              "      <td>NaN</td>\n",
              "      <td>...</td>\n",
              "      <td>652.0</td>\n",
              "      <td>29</td>\n",
              "      <td>санкт-петербург</td>\n",
              "      <td>100567.0</td>\n",
              "      <td>среда</td>\n",
              "      <td>февраль</td>\n",
              "      <td>2018</td>\n",
              "      <td>другой</td>\n",
              "      <td>0.462</td>\n",
              "      <td>0.258</td>\n",
              "    </tr>\n",
              "    <tr>\n",
              "      <td>10525</td>\n",
              "      <td>11</td>\n",
              "      <td>9470000.0</td>\n",
              "      <td>72.9</td>\n",
              "      <td>2016-10-13</td>\n",
              "      <td>2</td>\n",
              "      <td>2.75</td>\n",
              "      <td>25</td>\n",
              "      <td>40.3</td>\n",
              "      <td>7</td>\n",
              "      <td>NaN</td>\n",
              "      <td>...</td>\n",
              "      <td>806.0</td>\n",
              "      <td>519</td>\n",
              "      <td>санкт-петербург</td>\n",
              "      <td>129904.0</td>\n",
              "      <td>четверг</td>\n",
              "      <td>октябрь</td>\n",
              "      <td>2016</td>\n",
              "      <td>другой</td>\n",
              "      <td>0.553</td>\n",
              "      <td>0.145</td>\n",
              "    </tr>\n",
              "    <tr>\n",
              "      <td>10526</td>\n",
              "      <td>9</td>\n",
              "      <td>4600000.0</td>\n",
              "      <td>62.4</td>\n",
              "      <td>2016-08-05</td>\n",
              "      <td>3</td>\n",
              "      <td>2.60</td>\n",
              "      <td>9</td>\n",
              "      <td>40.0</td>\n",
              "      <td>8</td>\n",
              "      <td>NaN</td>\n",
              "      <td>...</td>\n",
              "      <td>675.0</td>\n",
              "      <td>239</td>\n",
              "      <td>другие</td>\n",
              "      <td>73718.0</td>\n",
              "      <td>пятница</td>\n",
              "      <td>август</td>\n",
              "      <td>2016</td>\n",
              "      <td>другой</td>\n",
              "      <td>0.641</td>\n",
              "      <td>0.128</td>\n",
              "    </tr>\n",
              "  </tbody>\n",
              "</table>\n",
              "<p>10527 rows × 30 columns</p>\n",
              "</div>"
            ],
            "text/plain": [
              "       total_images  last_price  total_area first_day_exposition  rooms  \\\n",
              "0                 2  10000000.0       100.0           2018-06-19      2   \n",
              "1                18   5400000.0        61.0           2017-02-26      3   \n",
              "2                 5   5050000.0        39.6           2017-11-16      1   \n",
              "3                20   3550000.0        42.8           2017-07-01      2   \n",
              "4                11   6700000.0        82.0           2017-11-23      3   \n",
              "...             ...         ...         ...                  ...    ...   \n",
              "10522             8   3300000.0        31.0           2017-04-29      1   \n",
              "10523            19   9200000.0       101.0           2019-04-01      3   \n",
              "10524            13   3550000.0        35.3           2018-02-28      1   \n",
              "10525            11   9470000.0        72.9           2016-10-13      2   \n",
              "10526             9   4600000.0        62.4           2016-08-05      3   \n",
              "\n",
              "       ceiling_height  floors_total  living_area  floor is_apartment  ...  \\\n",
              "0                3.03            14         32.0     13          NaN  ...   \n",
              "1                2.50             9         43.6      7          NaN  ...   \n",
              "2                2.67            12         20.3      3          NaN  ...   \n",
              "3                2.56             5         27.0      5          NaN  ...   \n",
              "4                3.05             5         55.6      1          NaN  ...   \n",
              "...               ...           ...          ...    ...          ...  ...   \n",
              "10522            2.55             9         18.0      6          NaN  ...   \n",
              "10523            3.05            15         63.0     12          NaN  ...   \n",
              "10524            2.86            15         16.3      4          NaN  ...   \n",
              "10525            2.75            25         40.3      7          NaN  ...   \n",
              "10526            2.60             9         40.0      8          NaN  ...   \n",
              "\n",
              "       ponds_nearest  days_exposition       name_group  price_per_metr  \\\n",
              "0               48.0              121  санкт-петербург        100000.0   \n",
              "1                NaN              289  санкт-петербург         88525.0   \n",
              "2              553.0              137  санкт-петербург        127525.0   \n",
              "3              298.0              366           другие         82944.0   \n",
              "4                NaN              397  санкт-петербург         81707.0   \n",
              "...              ...              ...              ...             ...   \n",
              "10522          317.0              193  санкт-петербург        106452.0   \n",
              "10523            NaN               23  санкт-петербург         91089.0   \n",
              "10524          652.0               29  санкт-петербург        100567.0   \n",
              "10525          806.0              519  санкт-петербург        129904.0   \n",
              "10526          675.0              239           другие         73718.0   \n",
              "\n",
              "       weekday_exp  month_exp  year_exp  floors_group  ratio_living_area  \\\n",
              "0          вторник       июнь      2018        другой              0.320   \n",
              "1      воскресенье    февраль      2017        другой              0.715   \n",
              "2          четверг     ноябрь      2017        другой              0.513   \n",
              "3          суббота       июль      2017     последний              0.631   \n",
              "4          четверг     ноябрь      2017        первый              0.678   \n",
              "...            ...        ...       ...           ...                ...   \n",
              "10522      суббота     апрель      2017        другой              0.581   \n",
              "10523  понедельник     апрель      2019        другой              0.624   \n",
              "10524        среда    февраль      2018        другой              0.462   \n",
              "10525      четверг    октябрь      2016        другой              0.553   \n",
              "10526      пятница     август      2016        другой              0.641   \n",
              "\n",
              "       ratio_kithen_area  \n",
              "0                  0.410  \n",
              "1                  0.107  \n",
              "2                  0.215  \n",
              "3                  0.121  \n",
              "4                  0.110  \n",
              "...                  ...  \n",
              "10522              0.210  \n",
              "10523              0.149  \n",
              "10524              0.258  \n",
              "10525              0.145  \n",
              "10526              0.128  \n",
              "\n",
              "[10527 rows x 30 columns]"
            ]
          },
          "metadata": {
            "tags": []
          },
          "execution_count": 45
        }
      ]
    },
    {
      "cell_type": "code",
      "metadata": {
        "id": "YABVHFohrm2c",
        "outputId": "2c236923-2dda-4666-96a0-fc6833edfbdd"
      },
      "source": [
        "# доля потерь после удаления выбросов примерно 56 %\n",
        "len(df_clean) / len(df)"
      ],
      "execution_count": null,
      "outputs": [
        {
          "output_type": "execute_result",
          "data": {
            "text/plain": [
              "0.44419595763534325"
            ]
          },
          "metadata": {
            "tags": []
          },
          "execution_count": 46
        }
      ]
    },
    {
      "cell_type": "markdown",
      "metadata": {
        "id": "UqR3vRLarm2e"
      },
      "source": [
        "* ### Исследование факторов, влияющих на стоимость квартиры <a id='4.4'></a> [^](#40)"
      ]
    },
    {
      "cell_type": "code",
      "metadata": {
        "id": "1Odi8ZFsrm2f",
        "outputId": "085140dc-5db5-4699-b1a9-a375acf0562f"
      },
      "source": [
        "# вызов матрицы корреляции из таблицы с неочищенными данными\n",
        "df[['last_price', 'total_area', 'rooms', 'cityCenters_nearest']].corr()"
      ],
      "execution_count": null,
      "outputs": [
        {
          "output_type": "execute_result",
          "data": {
            "text/html": [
              "<div>\n",
              "<style scoped>\n",
              "    .dataframe tbody tr th:only-of-type {\n",
              "        vertical-align: middle;\n",
              "    }\n",
              "\n",
              "    .dataframe tbody tr th {\n",
              "        vertical-align: top;\n",
              "    }\n",
              "\n",
              "    .dataframe thead th {\n",
              "        text-align: right;\n",
              "    }\n",
              "</style>\n",
              "<table border=\"1\" class=\"dataframe\">\n",
              "  <thead>\n",
              "    <tr style=\"text-align: right;\">\n",
              "      <th></th>\n",
              "      <th>last_price</th>\n",
              "      <th>total_area</th>\n",
              "      <th>rooms</th>\n",
              "      <th>cityCenters_nearest</th>\n",
              "    </tr>\n",
              "  </thead>\n",
              "  <tbody>\n",
              "    <tr>\n",
              "      <td>last_price</td>\n",
              "      <td>1.000000</td>\n",
              "      <td>0.653675</td>\n",
              "      <td>0.363343</td>\n",
              "      <td>-0.206747</td>\n",
              "    </tr>\n",
              "    <tr>\n",
              "      <td>total_area</td>\n",
              "      <td>0.653675</td>\n",
              "      <td>1.000000</td>\n",
              "      <td>0.758344</td>\n",
              "      <td>-0.231446</td>\n",
              "    </tr>\n",
              "    <tr>\n",
              "      <td>rooms</td>\n",
              "      <td>0.363343</td>\n",
              "      <td>0.758344</td>\n",
              "      <td>1.000000</td>\n",
              "      <td>-0.184864</td>\n",
              "    </tr>\n",
              "    <tr>\n",
              "      <td>cityCenters_nearest</td>\n",
              "      <td>-0.206747</td>\n",
              "      <td>-0.231446</td>\n",
              "      <td>-0.184864</td>\n",
              "      <td>1.000000</td>\n",
              "    </tr>\n",
              "  </tbody>\n",
              "</table>\n",
              "</div>"
            ],
            "text/plain": [
              "                     last_price  total_area     rooms  cityCenters_nearest\n",
              "last_price             1.000000    0.653675  0.363343            -0.206747\n",
              "total_area             0.653675    1.000000  0.758344            -0.231446\n",
              "rooms                  0.363343    0.758344  1.000000            -0.184864\n",
              "cityCenters_nearest   -0.206747   -0.231446 -0.184864             1.000000"
            ]
          },
          "metadata": {
            "tags": []
          },
          "execution_count": 47
        }
      ]
    },
    {
      "cell_type": "markdown",
      "metadata": {
        "id": "J0zyUkObrm2g"
      },
      "source": [
        "Зависит ли цена от площади, числа комнат, удалённости от центра? Для более наглядного представления вызвали матрицу корреляции с числовым описанием исследуемых данных."
      ]
    },
    {
      "cell_type": "code",
      "metadata": {
        "id": "uo_uZTftrm2h",
        "outputId": "742b3ac0-32e1-42c8-cec5-8b3d41f3f6f6"
      },
      "source": [
        "# вызов матрицы корреляции\n",
        "df_clean[['last_price', 'total_area', 'rooms', 'cityCenters_nearest']].corr()"
      ],
      "execution_count": null,
      "outputs": [
        {
          "output_type": "execute_result",
          "data": {
            "text/html": [
              "<div>\n",
              "<style scoped>\n",
              "    .dataframe tbody tr th:only-of-type {\n",
              "        vertical-align: middle;\n",
              "    }\n",
              "\n",
              "    .dataframe tbody tr th {\n",
              "        vertical-align: top;\n",
              "    }\n",
              "\n",
              "    .dataframe thead th {\n",
              "        text-align: right;\n",
              "    }\n",
              "</style>\n",
              "<table border=\"1\" class=\"dataframe\">\n",
              "  <thead>\n",
              "    <tr style=\"text-align: right;\">\n",
              "      <th></th>\n",
              "      <th>last_price</th>\n",
              "      <th>total_area</th>\n",
              "      <th>rooms</th>\n",
              "      <th>cityCenters_nearest</th>\n",
              "    </tr>\n",
              "  </thead>\n",
              "  <tbody>\n",
              "    <tr>\n",
              "      <td>last_price</td>\n",
              "      <td>1.000000</td>\n",
              "      <td>0.745946</td>\n",
              "      <td>0.468013</td>\n",
              "      <td>-0.349470</td>\n",
              "    </tr>\n",
              "    <tr>\n",
              "      <td>total_area</td>\n",
              "      <td>0.745946</td>\n",
              "      <td>1.000000</td>\n",
              "      <td>0.797112</td>\n",
              "      <td>-0.162801</td>\n",
              "    </tr>\n",
              "    <tr>\n",
              "      <td>rooms</td>\n",
              "      <td>0.468013</td>\n",
              "      <td>0.797112</td>\n",
              "      <td>1.000000</td>\n",
              "      <td>-0.103176</td>\n",
              "    </tr>\n",
              "    <tr>\n",
              "      <td>cityCenters_nearest</td>\n",
              "      <td>-0.349470</td>\n",
              "      <td>-0.162801</td>\n",
              "      <td>-0.103176</td>\n",
              "      <td>1.000000</td>\n",
              "    </tr>\n",
              "  </tbody>\n",
              "</table>\n",
              "</div>"
            ],
            "text/plain": [
              "                     last_price  total_area     rooms  cityCenters_nearest\n",
              "last_price             1.000000    0.745946  0.468013            -0.349470\n",
              "total_area             0.745946    1.000000  0.797112            -0.162801\n",
              "rooms                  0.468013    0.797112  1.000000            -0.103176\n",
              "cityCenters_nearest   -0.349470   -0.162801 -0.103176             1.000000"
            ]
          },
          "metadata": {
            "tags": []
          },
          "execution_count": 48
        }
      ]
    },
    {
      "cell_type": "markdown",
      "metadata": {
        "id": "CYrSGFfUrm2j"
      },
      "source": [
        "   После удаления выбросов корреляционные коэффициенты немного выросли. Значит в совокупности зависимости одних величин от других более сильны, а выбросы только \"зашумляют\" этот вывод, потому и нуждаются в удалении."
      ]
    },
    {
      "cell_type": "code",
      "metadata": {
        "scrolled": true,
        "id": "BJtg0hjdrm2k",
        "outputId": "13f87048-c470-4786-d388-009877d81b8f"
      },
      "source": [
        "# диаграммы корреляции между разными параметрами\n",
        "pd.plotting.scatter_matrix(df_clean[['last_price', 'total_area', 'rooms', 'cityCenters_nearest']], figsize=(12, 12))\n",
        "plt.show()"
      ],
      "execution_count": null,
      "outputs": [
        {
          "output_type": "display_data",
          "data": {
            "image/png": "[encoded data removed]",
            "text/plain": [
              "<Figure size 864x864 with 16 Axes>"
            ]
          },
          "metadata": {
            "tags": [],
            "needs_background": "light"
          }
        }
      ]
    },
    {
      "cell_type": "markdown",
      "metadata": {
        "id": "UVFDi1eNrm2l"
      },
      "source": [
        "Мы видим, что из числовых данных, так и из графиков имеется корреляция между ценой и различными параметрами: при увеличении площади - увеличивается цена квартиры (уровень корреляции 0,74 довольно высок); при увеличении числа комнат также увеличивается цена (корреляция здесь меньше - 0,46, что объясняется неочевидной зависимостью между общей площадью и числом комнат); зависимость цены от расстояния до центра имеет зависимость, похожую на обратную экспоненту (корреляция -0,35), т.е. с удалением от центра уменьшается цена на недвижимость."
      ]
    },
    {
      "cell_type": "markdown",
      "metadata": {
        "id": "Vib4i0DTrm2m"
      },
      "source": [
        "***"
      ]
    },
    {
      "cell_type": "markdown",
      "metadata": {
        "id": "OWV1Drmnrm2n"
      },
      "source": [
        "Изучили зависимость цены квартиры от расположения её на этаже."
      ]
    },
    {
      "cell_type": "code",
      "metadata": {
        "id": "455AUAeqrm2p",
        "outputId": "d2cde234-a419-402f-99dd-e864a1789a1c"
      },
      "source": [
        "# диаграмма корреляции по сгруппированным данным\n",
        "df_clean.boxplot('last_price', by='floors_group', figsize=(12, 7))\n",
        "plt.ylim(0, 15*10**6)\n",
        "plt.show()"
      ],
      "execution_count": null,
      "outputs": [
        {
          "output_type": "stream",
          "text": [
            "/opt/conda/lib/python3.7/site-packages/numpy/core/_asarray.py:83: VisibleDeprecationWarning: Creating an ndarray from ragged nested sequences (which is a list-or-tuple of lists-or-tuples-or ndarrays with different lengths or shapes) is deprecated. If you meant to do this, you must specify 'dtype=object' when creating the ndarray\n",
            "  return array(a, dtype, copy=False, order=order)\n"
          ],
          "name": "stderr"
        },
        {
          "output_type": "display_data",
          "data": {
            "image/png": "[encoded data removed]",
            "text/plain": [
              "<Figure size 864x504 with 1 Axes>"
            ]
          },
          "metadata": {
            "tags": [],
            "needs_background": "light"
          }
        }
      ]
    },
    {
      "cell_type": "markdown",
      "metadata": {
        "id": "dSWLcvn2rm2q"
      },
      "source": [
        "Видим, что из всех диаграмм медиана квартир первых этажей более всех тяготеет к нижнему 1,5-межквартильному размаху, а сами \"усы\" короче, чем в других группах. Медиана группы квартир на последнем этаже находится чуть выше. Квартиры, находящиеся между первым этажом и последним, имеют максимальный уровень межквартильного размаха (верхний \"ус\" выше остальных), что говорит о более высоком уровне цен на данный тип недвижимости."
      ]
    },
    {
      "cell_type": "markdown",
      "metadata": {
        "id": "jRtGUpuLrm2r"
      },
      "source": [
        "***"
      ]
    },
    {
      "cell_type": "markdown",
      "metadata": {
        "id": "HIbmM7DYrm2r"
      },
      "source": [
        "Изучили зависимость цены от даты размещения."
      ]
    },
    {
      "cell_type": "code",
      "metadata": {
        "id": "bYJLIN3orm2t",
        "outputId": "5ba293d9-e66e-4913-e44d-899dcccc0c12"
      },
      "source": [
        "# диаграммы корреляции по сгруппированным дням недели\n",
        "df_clean.boxplot('last_price', by='weekday_exp', figsize=(12, 7))\n",
        "plt.ylim(0, 15*10**6)\n",
        "plt.show()"
      ],
      "execution_count": null,
      "outputs": [
        {
          "output_type": "stream",
          "text": [
            "/opt/conda/lib/python3.7/site-packages/numpy/core/_asarray.py:83: VisibleDeprecationWarning: Creating an ndarray from ragged nested sequences (which is a list-or-tuple of lists-or-tuples-or ndarrays with different lengths or shapes) is deprecated. If you meant to do this, you must specify 'dtype=object' when creating the ndarray\n",
            "  return array(a, dtype, copy=False, order=order)\n"
          ],
          "name": "stderr"
        },
        {
          "output_type": "display_data",
          "data": {
            "image/png": "[encoded data removed]",
            "text/plain": [
              "<Figure size 864x504 with 1 Axes>"
            ]
          },
          "metadata": {
            "tags": [],
            "needs_background": "light"
          }
        }
      ]
    },
    {
      "cell_type": "markdown",
      "metadata": {
        "id": "t356hUwWrm2u"
      },
      "source": [
        "Корреляция как таковая здесь не прослеживается, что говорит об отсутствии связи между днём недели размещения объявления и ценой за объект."
      ]
    },
    {
      "cell_type": "code",
      "metadata": {
        "id": "1guaL1onrm2v",
        "outputId": "e33c84b8-4cdb-46c9-a146-5be08e9e257f"
      },
      "source": [
        "# диаграммы корреляции по сгруппированным месяцам\n",
        "df_clean.boxplot('last_price', by='month_exp', figsize=(12, 7))\n",
        "plt.ylim(0, 15*10**6)\n",
        "plt.show()"
      ],
      "execution_count": null,
      "outputs": [
        {
          "output_type": "stream",
          "text": [
            "/opt/conda/lib/python3.7/site-packages/numpy/core/_asarray.py:83: VisibleDeprecationWarning: Creating an ndarray from ragged nested sequences (which is a list-or-tuple of lists-or-tuples-or ndarrays with different lengths or shapes) is deprecated. If you meant to do this, you must specify 'dtype=object' when creating the ndarray\n",
            "  return array(a, dtype, copy=False, order=order)\n"
          ],
          "name": "stderr"
        },
        {
          "output_type": "display_data",
          "data": {
            "image/png": "[encoded data removed]",
            "text/plain": [
              "<Figure size 864x504 with 1 Axes>"
            ]
          },
          "metadata": {
            "tags": [],
            "needs_background": "light"
          }
        }
      ]
    },
    {
      "cell_type": "markdown",
      "metadata": {
        "id": "bbfdrNPbrm2x"
      },
      "source": [
        "Месяц выкладывания объявления также не оказывает существенного влияния на уровень цены. Связь, как таковая, отсутствует."
      ]
    },
    {
      "cell_type": "code",
      "metadata": {
        "id": "1CVho4Virm2y",
        "outputId": "f8b12bd0-4021-4e90-adae-8eda9c6cde04"
      },
      "source": [
        "df_clean.boxplot('last_price', by='year_exp', figsize=(12, 7))\n",
        "plt.ylim(0, 15*10**6)\n",
        "plt.show()"
      ],
      "execution_count": null,
      "outputs": [
        {
          "output_type": "stream",
          "text": [
            "/opt/conda/lib/python3.7/site-packages/numpy/core/_asarray.py:83: VisibleDeprecationWarning: Creating an ndarray from ragged nested sequences (which is a list-or-tuple of lists-or-tuples-or ndarrays with different lengths or shapes) is deprecated. If you meant to do this, you must specify 'dtype=object' when creating the ndarray\n",
            "  return array(a, dtype, copy=False, order=order)\n"
          ],
          "name": "stderr"
        },
        {
          "output_type": "display_data",
          "data": {
            "image/png": "[encoded data removed]",
            "text/plain": [
              "<Figure size 864x504 with 1 Axes>"
            ]
          },
          "metadata": {
            "tags": [],
            "needs_background": "light"
          }
        }
      ]
    },
    {
      "cell_type": "code",
      "metadata": {
        "scrolled": true,
        "id": "JlPpqBS9rm2z",
        "outputId": "62ba98f0-bda9-4678-81e4-5ef846d60eae"
      },
      "source": [
        "# нахождение месяца с высокими ценами 2014 года\n",
        "df_clean.query('year_exp == 2014').pivot_table(index='month_exp', values='last_price', aggfunc='count')"
      ],
      "execution_count": null,
      "outputs": [
        {
          "output_type": "execute_result",
          "data": {
            "text/html": [
              "<div>\n",
              "<style scoped>\n",
              "    .dataframe tbody tr th:only-of-type {\n",
              "        vertical-align: middle;\n",
              "    }\n",
              "\n",
              "    .dataframe tbody tr th {\n",
              "        vertical-align: top;\n",
              "    }\n",
              "\n",
              "    .dataframe thead th {\n",
              "        text-align: right;\n",
              "    }\n",
              "</style>\n",
              "<table border=\"1\" class=\"dataframe\">\n",
              "  <thead>\n",
              "    <tr style=\"text-align: right;\">\n",
              "      <th></th>\n",
              "      <th>last_price</th>\n",
              "    </tr>\n",
              "    <tr>\n",
              "      <th>month_exp</th>\n",
              "      <th></th>\n",
              "    </tr>\n",
              "  </thead>\n",
              "  <tbody>\n",
              "    <tr>\n",
              "      <td>декабрь</td>\n",
              "      <td>12</td>\n",
              "    </tr>\n",
              "    <tr>\n",
              "      <td>ноябрь</td>\n",
              "      <td>3</td>\n",
              "    </tr>\n",
              "  </tbody>\n",
              "</table>\n",
              "</div>"
            ],
            "text/plain": [
              "           last_price\n",
              "month_exp            \n",
              "декабрь            12\n",
              "ноябрь              3"
            ]
          },
          "metadata": {
            "tags": []
          },
          "execution_count": 54
        }
      ]
    },
    {
      "cell_type": "markdown",
      "metadata": {
        "id": "PvGiwSAorm20"
      },
      "source": [
        "Корреляции между разными годами также отсутствует, за исключением 2014 года. Можно предположить, что за теми геополитическими последствиями, имевшие место в начале года, и обвалом рубля в декабре, следует панические продажи недвижимости по более высоким ценам."
      ]
    },
    {
      "cell_type": "markdown",
      "metadata": {
        "id": "8ercssbbrm22"
      },
      "source": [
        "* ### Анализ десяти населённых пунктов с наибольшим числом объявлений <a id='4.5'></a> [^](#40)"
      ]
    },
    {
      "cell_type": "markdown",
      "metadata": {
        "id": "TNH6xowurm23"
      },
      "source": [
        "Выбрали 10 населённых пунктов с наибольшим числом объявлений и посчитали среднюю цену за квадратный метр."
      ]
    },
    {
      "cell_type": "code",
      "metadata": {
        "id": "zyAKajXNrm24",
        "outputId": "5cda8cc9-6ecc-4178-cebb-1093fbc48214"
      },
      "source": [
        "# подсчёт средней цены за квадратный метр в десяти населённых пунктах\n",
        "ten_name = df_clean.query('name_group != \"другие\"').pivot_table(index='name_group', values='price_per_metr').sort_values(\n",
        "                          by='price_per_metr', ascending=False)\n",
        "ten_name"
      ],
      "execution_count": null,
      "outputs": [
        {
          "output_type": "execute_result",
          "data": {
            "text/html": [
              "<div>\n",
              "<style scoped>\n",
              "    .dataframe tbody tr th:only-of-type {\n",
              "        vertical-align: middle;\n",
              "    }\n",
              "\n",
              "    .dataframe tbody tr th {\n",
              "        vertical-align: top;\n",
              "    }\n",
              "\n",
              "    .dataframe thead th {\n",
              "        text-align: right;\n",
              "    }\n",
              "</style>\n",
              "<table border=\"1\" class=\"dataframe\">\n",
              "  <thead>\n",
              "    <tr style=\"text-align: right;\">\n",
              "      <th></th>\n",
              "      <th>price_per_metr</th>\n",
              "    </tr>\n",
              "    <tr>\n",
              "      <th>name_group</th>\n",
              "      <th></th>\n",
              "    </tr>\n",
              "  </thead>\n",
              "  <tbody>\n",
              "    <tr>\n",
              "      <td>санкт-петербург</td>\n",
              "      <td>106387.223717</td>\n",
              "    </tr>\n",
              "    <tr>\n",
              "      <td>пушкин</td>\n",
              "      <td>98895.092593</td>\n",
              "    </tr>\n",
              "    <tr>\n",
              "      <td>кудрово</td>\n",
              "      <td>94901.770701</td>\n",
              "    </tr>\n",
              "    <tr>\n",
              "      <td>парголово</td>\n",
              "      <td>89548.284483</td>\n",
              "    </tr>\n",
              "    <tr>\n",
              "      <td>мурино</td>\n",
              "      <td>87347.909548</td>\n",
              "    </tr>\n",
              "    <tr>\n",
              "      <td>шушары</td>\n",
              "      <td>78726.587912</td>\n",
              "    </tr>\n",
              "    <tr>\n",
              "      <td>колпино</td>\n",
              "      <td>74933.360465</td>\n",
              "    </tr>\n",
              "    <tr>\n",
              "      <td>гатчина</td>\n",
              "      <td>69915.149123</td>\n",
              "    </tr>\n",
              "    <tr>\n",
              "      <td>всеволожск</td>\n",
              "      <td>66253.612745</td>\n",
              "    </tr>\n",
              "    <tr>\n",
              "      <td>выборг</td>\n",
              "      <td>57987.000000</td>\n",
              "    </tr>\n",
              "  </tbody>\n",
              "</table>\n",
              "</div>"
            ],
            "text/plain": [
              "                 price_per_metr\n",
              "name_group                     \n",
              "санкт-петербург   106387.223717\n",
              "пушкин             98895.092593\n",
              "кудрово            94901.770701\n",
              "парголово          89548.284483\n",
              "мурино             87347.909548\n",
              "шушары             78726.587912\n",
              "колпино            74933.360465\n",
              "гатчина            69915.149123\n",
              "всеволожск         66253.612745\n",
              "выборг             57987.000000"
            ]
          },
          "metadata": {
            "tags": []
          },
          "execution_count": 55
        }
      ]
    },
    {
      "cell_type": "markdown",
      "metadata": {
        "id": "D3QfqHyxrm25"
      },
      "source": [
        "Как и следовало ожидать, максимальная стоимость квартир приходится на Санкт-Петербург, минимальная стоимость квадратного метра находится в городе Выборг, находящийся в 140 км от северной столицы."
      ]
    },
    {
      "cell_type": "markdown",
      "metadata": {
        "id": "7UpznzGnrm26"
      },
      "source": [
        "* ### Анализ изменения цены по степени удалённости от центра <a id='4.6'></a> [^](#40)"
      ]
    },
    {
      "cell_type": "markdown",
      "metadata": {
        "id": "mFy-C2iPrm27"
      },
      "source": [
        "Создали столбец с расстоянием до центра в км."
      ]
    },
    {
      "cell_type": "code",
      "metadata": {
        "id": "uiLWtINXrm27",
        "outputId": "ac8b6f92-7b10-4b14-893d-33d2f633f565"
      },
      "source": [
        "# добавление столбца в таблицу\n",
        "df_clean['km_Centr'] = (df_clean['cityCenters_nearest'] / 1000).round(0) \n",
        "df_clean['km_Centr']"
      ],
      "execution_count": null,
      "outputs": [
        {
          "output_type": "execute_result",
          "data": {
            "text/plain": [
              "0         8.0\n",
              "1        15.0\n",
              "2        14.0\n",
              "3        33.0\n",
              "4        11.0\n",
              "         ... \n",
              "10522    12.0\n",
              "10523    14.0\n",
              "10524    16.0\n",
              "10525     4.0\n",
              "10526    34.0\n",
              "Name: km_Centr, Length: 10527, dtype: float64"
            ]
          },
          "metadata": {
            "tags": []
          },
          "execution_count": 56
        }
      ]
    },
    {
      "cell_type": "code",
      "metadata": {
        "id": "qwh8Ekynrm29",
        "outputId": "18d36b57-27bb-4d35-fd97-e1ccf8c2e240"
      },
      "source": [
        "# расчёт средней цены квартир на каждом километре от центра\n",
        "mean_price_km = df_clean.query('name_group == \"санкт-петербург\"').pivot_table(index='km_Centr', values='last_price')\n",
        "mean_price_km.head(10)"
      ],
      "execution_count": null,
      "outputs": [
        {
          "output_type": "execute_result",
          "data": {
            "text/html": [
              "<div>\n",
              "<style scoped>\n",
              "    .dataframe tbody tr th:only-of-type {\n",
              "        vertical-align: middle;\n",
              "    }\n",
              "\n",
              "    .dataframe tbody tr th {\n",
              "        vertical-align: top;\n",
              "    }\n",
              "\n",
              "    .dataframe thead th {\n",
              "        text-align: right;\n",
              "    }\n",
              "</style>\n",
              "<table border=\"1\" class=\"dataframe\">\n",
              "  <thead>\n",
              "    <tr style=\"text-align: right;\">\n",
              "      <th></th>\n",
              "      <th>last_price</th>\n",
              "    </tr>\n",
              "    <tr>\n",
              "      <th>km_Centr</th>\n",
              "      <th></th>\n",
              "    </tr>\n",
              "  </thead>\n",
              "  <tbody>\n",
              "    <tr>\n",
              "      <td>0.0</td>\n",
              "      <td>9.472500e+06</td>\n",
              "    </tr>\n",
              "    <tr>\n",
              "      <td>1.0</td>\n",
              "      <td>8.728327e+06</td>\n",
              "    </tr>\n",
              "    <tr>\n",
              "      <td>2.0</td>\n",
              "      <td>8.624880e+06</td>\n",
              "    </tr>\n",
              "    <tr>\n",
              "      <td>3.0</td>\n",
              "      <td>7.749719e+06</td>\n",
              "    </tr>\n",
              "    <tr>\n",
              "      <td>4.0</td>\n",
              "      <td>8.332155e+06</td>\n",
              "    </tr>\n",
              "    <tr>\n",
              "      <td>5.0</td>\n",
              "      <td>8.149493e+06</td>\n",
              "    </tr>\n",
              "    <tr>\n",
              "      <td>6.0</td>\n",
              "      <td>7.268514e+06</td>\n",
              "    </tr>\n",
              "    <tr>\n",
              "      <td>7.0</td>\n",
              "      <td>6.647217e+06</td>\n",
              "    </tr>\n",
              "    <tr>\n",
              "      <td>8.0</td>\n",
              "      <td>7.157808e+06</td>\n",
              "    </tr>\n",
              "    <tr>\n",
              "      <td>9.0</td>\n",
              "      <td>6.161087e+06</td>\n",
              "    </tr>\n",
              "  </tbody>\n",
              "</table>\n",
              "</div>"
            ],
            "text/plain": [
              "            last_price\n",
              "km_Centr              \n",
              "0.0       9.472500e+06\n",
              "1.0       8.728327e+06\n",
              "2.0       8.624880e+06\n",
              "3.0       7.749719e+06\n",
              "4.0       8.332155e+06\n",
              "5.0       8.149493e+06\n",
              "6.0       7.268514e+06\n",
              "7.0       6.647217e+06\n",
              "8.0       7.157808e+06\n",
              "9.0       6.161087e+06"
            ]
          },
          "metadata": {
            "tags": []
          },
          "execution_count": 57
        }
      ]
    },
    {
      "cell_type": "code",
      "metadata": {
        "id": "Og3oKHn2rm2-",
        "outputId": "379a0d09-1868-447b-b72a-f32e8d47a0da"
      },
      "source": [
        "# построение графика зависимости цены квартиры от расстояния до центра\n",
        "mean_price_km['last_price'].plot(x=mean_price_km.index, y='last_price',\n",
        "                                style='o-', xlim=(0, 10), ylim=(5*10**6, 10*10**6), grid=True, figsize=(12, 7),\n",
        "                                label='price_per_km', legend=True)\n",
        "plt.show()\n"
      ],
      "execution_count": null,
      "outputs": [
        {
          "output_type": "display_data",
          "data": {
            "image/png": "[encoded data removed]",
            "text/plain": [
              "<Figure size 864x504 with 1 Axes>"
            ]
          },
          "metadata": {
            "tags": [],
            "needs_background": "light"
          }
        }
      ]
    },
    {
      "cell_type": "markdown",
      "metadata": {
        "id": "kg4w9URFrm3A"
      },
      "source": [
        "Примерно после 2 км от центра мы видим резкое проседание в стоимости недвижимости. Будем считать эту область центральной. "
      ]
    },
    {
      "cell_type": "markdown",
      "metadata": {
        "id": "f85KuDYhrm3C"
      },
      "source": [
        "* ### Сравнение выводов по квартирам в центре и общих выводов по всему городу <a id='4.7'></a> [^](#40)"
      ]
    },
    {
      "cell_type": "markdown",
      "metadata": {
        "id": "8xEvGmvnrm3D"
      },
      "source": [
        "Выделили сегмент квартир в центре и проанализировали данную территорию."
      ]
    },
    {
      "cell_type": "code",
      "metadata": {
        "id": "F4DPUKJZrm3F",
        "outputId": "ceabce30-5e0f-4e38-b8e7-2816db6abb6a"
      },
      "source": [
        "# создание сегмента квартир в центре\n",
        "df_Centr = df_clean.query('name_group == \"санкт-петербург\" and km_Centr <= 2').reset_index(drop=True)\n",
        "\n",
        "# построение гистограмм\n",
        "df_Centr[['last_price', 'total_area', 'rooms', 'ceiling_height']].hist(bins=15, figsize=(12, 7))\n",
        "plt.show()"
      ],
      "execution_count": null,
      "outputs": [
        {
          "output_type": "display_data",
          "data": {
            "image/png": "[encoded data removed]",
            "text/plain": [
              "<Figure size 864x504 with 4 Axes>"
            ]
          },
          "metadata": {
            "tags": [],
            "needs_background": "light"
          }
        }
      ]
    },
    {
      "cell_type": "markdown",
      "metadata": {
        "id": "M48IAJIgrm3G"
      },
      "source": [
        "Данные параметры очень напоминают распределения пуассона, аналогично нами сделанные по всему городу. Посмотрели факторы, которые влияют на стоимость квартир, вызвав матрицу корреляции."
      ]
    },
    {
      "cell_type": "code",
      "metadata": {
        "scrolled": true,
        "id": "Iqq6zgaTrm3G",
        "outputId": "105b1f32-4c8d-45ba-a64e-a60623336e4a"
      },
      "source": [
        "# матрица корреляции\n",
        "df_Centr[['last_price', 'total_area', 'rooms', 'cityCenters_nearest']].corr()"
      ],
      "execution_count": null,
      "outputs": [
        {
          "output_type": "execute_result",
          "data": {
            "text/html": [
              "<div>\n",
              "<style scoped>\n",
              "    .dataframe tbody tr th:only-of-type {\n",
              "        vertical-align: middle;\n",
              "    }\n",
              "\n",
              "    .dataframe tbody tr th {\n",
              "        vertical-align: top;\n",
              "    }\n",
              "\n",
              "    .dataframe thead th {\n",
              "        text-align: right;\n",
              "    }\n",
              "</style>\n",
              "<table border=\"1\" class=\"dataframe\">\n",
              "  <thead>\n",
              "    <tr style=\"text-align: right;\">\n",
              "      <th></th>\n",
              "      <th>last_price</th>\n",
              "      <th>total_area</th>\n",
              "      <th>rooms</th>\n",
              "      <th>cityCenters_nearest</th>\n",
              "    </tr>\n",
              "  </thead>\n",
              "  <tbody>\n",
              "    <tr>\n",
              "      <td>last_price</td>\n",
              "      <td>1.000000</td>\n",
              "      <td>0.622081</td>\n",
              "      <td>0.338255</td>\n",
              "      <td>-0.049193</td>\n",
              "    </tr>\n",
              "    <tr>\n",
              "      <td>total_area</td>\n",
              "      <td>0.622081</td>\n",
              "      <td>1.000000</td>\n",
              "      <td>0.661362</td>\n",
              "      <td>-0.030131</td>\n",
              "    </tr>\n",
              "    <tr>\n",
              "      <td>rooms</td>\n",
              "      <td>0.338255</td>\n",
              "      <td>0.661362</td>\n",
              "      <td>1.000000</td>\n",
              "      <td>0.000093</td>\n",
              "    </tr>\n",
              "    <tr>\n",
              "      <td>cityCenters_nearest</td>\n",
              "      <td>-0.049193</td>\n",
              "      <td>-0.030131</td>\n",
              "      <td>0.000093</td>\n",
              "      <td>1.000000</td>\n",
              "    </tr>\n",
              "  </tbody>\n",
              "</table>\n",
              "</div>"
            ],
            "text/plain": [
              "                     last_price  total_area     rooms  cityCenters_nearest\n",
              "last_price             1.000000    0.622081  0.338255            -0.049193\n",
              "total_area             0.622081    1.000000  0.661362            -0.030131\n",
              "rooms                  0.338255    0.661362  1.000000             0.000093\n",
              "cityCenters_nearest   -0.049193   -0.030131  0.000093             1.000000"
            ]
          },
          "metadata": {
            "tags": []
          },
          "execution_count": 60
        }
      ]
    },
    {
      "cell_type": "markdown",
      "metadata": {
        "id": "3F7Z6fcrrm3J"
      },
      "source": [
        "Коэффициенты из матрицы показывают, что зависимости цены от общей площади и числа комнат практически идентичны зависимостям, сделанным нами ранее для всего массива данных. В центре города цена на недвижимость слабо коррелирует с расстоянием до центра, что логично."
      ]
    },
    {
      "cell_type": "markdown",
      "metadata": {
        "id": "oTJwbTAkrm3L"
      },
      "source": [
        "***"
      ]
    },
    {
      "cell_type": "markdown",
      "metadata": {
        "id": "pszhB_R-rm3M"
      },
      "source": [
        "Изучили зависимость цены квартиры от расположения её на этаже в центре города."
      ]
    },
    {
      "cell_type": "code",
      "metadata": {
        "id": "SUke4jX5rm3N",
        "outputId": "d2676f1c-c9d9-4800-d857-ad3ac4a86a63"
      },
      "source": [
        "# диаграмма корреляции по сгруппированным данным\n",
        "df_Centr.boxplot('last_price', by='floors_group', figsize=(12, 7))\n",
        "plt.ylim(0, 15*10**6)\n",
        "plt.show()"
      ],
      "execution_count": null,
      "outputs": [
        {
          "output_type": "stream",
          "text": [
            "/opt/conda/lib/python3.7/site-packages/numpy/core/_asarray.py:83: VisibleDeprecationWarning: Creating an ndarray from ragged nested sequences (which is a list-or-tuple of lists-or-tuples-or ndarrays with different lengths or shapes) is deprecated. If you meant to do this, you must specify 'dtype=object' when creating the ndarray\n",
            "  return array(a, dtype, copy=False, order=order)\n"
          ],
          "name": "stderr"
        },
        {
          "output_type": "display_data",
          "data": {
            "image/png": "[encoded data removed]",
            "text/plain": [
              "<Figure size 864x504 with 1 Axes>"
            ]
          },
          "metadata": {
            "tags": [],
            "needs_background": "light"
          }
        }
      ]
    },
    {
      "cell_type": "markdown",
      "metadata": {
        "id": "DuGYVSksrm3O"
      },
      "source": [
        "***"
      ]
    },
    {
      "cell_type": "markdown",
      "metadata": {
        "id": "Fknztm6Crm3P"
      },
      "source": [
        "Изучили зависимость цены квартиры в центре города от даты размещения."
      ]
    },
    {
      "cell_type": "code",
      "metadata": {
        "id": "KwnqVJYErm3Q",
        "outputId": "42a178b3-c3f0-4364-bd31-012662548187"
      },
      "source": [
        "# диаграммы корреляции по сгруппированным дням недели\n",
        "df_Centr.boxplot('last_price', by='weekday_exp', figsize=(12, 7))\n",
        "plt.ylim(0, 15*10**6)\n",
        "plt.show()"
      ],
      "execution_count": null,
      "outputs": [
        {
          "output_type": "stream",
          "text": [
            "/opt/conda/lib/python3.7/site-packages/numpy/core/_asarray.py:83: VisibleDeprecationWarning: Creating an ndarray from ragged nested sequences (which is a list-or-tuple of lists-or-tuples-or ndarrays with different lengths or shapes) is deprecated. If you meant to do this, you must specify 'dtype=object' when creating the ndarray\n",
            "  return array(a, dtype, copy=False, order=order)\n"
          ],
          "name": "stderr"
        },
        {
          "output_type": "display_data",
          "data": {
            "image/png": "[encoded data removed]",
            "text/plain": [
              "<Figure size 864x504 with 1 Axes>"
            ]
          },
          "metadata": {
            "tags": [],
            "needs_background": "light"
          }
        }
      ]
    },
    {
      "cell_type": "markdown",
      "metadata": {
        "id": "nivLikhhrm3R"
      },
      "source": [
        "Имеется небольшое проседание в выходные, что естественно, так как в отдыхе нуждаются все)))"
      ]
    },
    {
      "cell_type": "code",
      "metadata": {
        "id": "mzAWWyxvrm3S",
        "outputId": "d243462c-f62b-409d-f6e2-9430053a5e7d"
      },
      "source": [
        "# диаграммы корреляции по сгруппированным месяцам\n",
        "df_Centr.boxplot('last_price', by='month_exp', figsize=(12, 7))\n",
        "plt.ylim(0, 15*10**6)\n",
        "plt.show()"
      ],
      "execution_count": null,
      "outputs": [
        {
          "output_type": "stream",
          "text": [
            "/opt/conda/lib/python3.7/site-packages/numpy/core/_asarray.py:83: VisibleDeprecationWarning: Creating an ndarray from ragged nested sequences (which is a list-or-tuple of lists-or-tuples-or ndarrays with different lengths or shapes) is deprecated. If you meant to do this, you must specify 'dtype=object' when creating the ndarray\n",
            "  return array(a, dtype, copy=False, order=order)\n"
          ],
          "name": "stderr"
        },
        {
          "output_type": "display_data",
          "data": {
            "image/png": "[encoded data removed]",
            "text/plain": [
              "<Figure size 864x504 with 1 Axes>"
            ]
          },
          "metadata": {
            "tags": [],
            "needs_background": "light"
          }
        }
      ]
    },
    {
      "cell_type": "code",
      "metadata": {
        "id": "2GCMxwdUrm3V",
        "outputId": "f433a1e2-f798-40ec-9fb6-2b539424a2a4"
      },
      "source": [
        "df_Centr.boxplot('last_price', by='year_exp', figsize=(12, 7))\n",
        "plt.ylim(0, 15*10**6)\n",
        "plt.show()"
      ],
      "execution_count": null,
      "outputs": [
        {
          "output_type": "stream",
          "text": [
            "/opt/conda/lib/python3.7/site-packages/numpy/core/_asarray.py:83: VisibleDeprecationWarning: Creating an ndarray from ragged nested sequences (which is a list-or-tuple of lists-or-tuples-or ndarrays with different lengths or shapes) is deprecated. If you meant to do this, you must specify 'dtype=object' when creating the ndarray\n",
            "  return array(a, dtype, copy=False, order=order)\n"
          ],
          "name": "stderr"
        },
        {
          "output_type": "display_data",
          "data": {
            "image/png": "[encoded data removed]",
            "text/plain": [
              "<Figure size 864x504 with 1 Axes>"
            ]
          },
          "metadata": {
            "tags": [],
            "needs_background": "light"
          }
        }
      ]
    },
    {
      "cell_type": "markdown",
      "metadata": {
        "id": "Hqtp5YF9rm3W"
      },
      "source": [
        "###  Выводы\n",
        "Проанализировав группу квартир в центре и сравнив выводы по ней с общими по всему городу, мы можем сказать, что ряд зависимостей коррелирует с ценой квартиры аналогичным образом, в каком бы районе она не продавалась. Иными словами, цена на жилье зависит от общей площади, числа комнат и расстояния до центра города, а также не зависит от даты размещения объявления: дня недели, месяца и года.\n",
        "\n",
        "***"
      ]
    },
    {
      "cell_type": "markdown",
      "metadata": {
        "id": "nHk6v5xZrm3X"
      },
      "source": [
        "## 5. Общий вывод <a id='5'></a>   [^](#10)"
      ]
    },
    {
      "cell_type": "markdown",
      "metadata": {
        "id": "G3Ddxdnorm3Z"
      },
      "source": [
        "   Мы провели исследование объявлений о продаже квартир, установив ряд взаимосвязей цены объекта от разных параметров.  \n",
        "       \n",
        "    \n",
        "    \n",
        "- Изначально нами был получен датасет, основанный как на ручном вводе, так и на автоматическом заполнении картографических данных.  \n",
        "    \n",
        "- Датасет имел полную информацию в важных категориях (стоимость, общая площадь, количество комнат) и некоторые пропуски в тех типах данных, которые не столь важны при ручном вводе в виду незнания (жилая и кухонная площадь, высота потолков, общее количество этажей в доме).  \n",
        "    \n",
        "- Нами были заполнены пропуски, в местах где имелась логическая целесообразность, были изменены некоторые типы данных для лучшего анализа, проведена очистка данных от выбросов и аномальных значений.  \n",
        "    \n",
        "- В результате работы мы обнаружили следующие взаимосвязи:  цена на жилье зависит от общей площади, числа комнат и расстояния до центра города. Также имеется слабая корреляция от нахождения квартиры на определённом этаже: меньшим спросом пользуются объекты на первом и последнем этажах. Практически отсутствует взаимосвязь от даты размещения объявления: дня недели, месяца и года.\n",
        "   "
      ]
    },
    {
      "cell_type": "code",
      "metadata": {
        "id": "0yZd9j2Mrm3a"
      },
      "source": [
        ""
      ],
      "execution_count": null,
      "outputs": []
    }
  ]
}