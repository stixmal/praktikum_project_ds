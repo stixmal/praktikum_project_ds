{
  "nbformat": 4,
  "nbformat_minor": 0,
  "metadata": {
    "ExecuteTimeLog": [
      {
        "duration": 1387,
        "start_time": "2021-06-24T14:49:25.793Z"
      },
      {
        "duration": 76,
        "start_time": "2021-06-24T14:49:27.183Z"
      },
      {
        "duration": 14,
        "start_time": "2021-06-24T14:49:27.262Z"
      },
      {
        "duration": 8,
        "start_time": "2021-06-24T14:49:27.278Z"
      },
      {
        "duration": 32,
        "start_time": "2021-06-24T14:49:27.289Z"
      },
      {
        "duration": 27,
        "start_time": "2021-06-24T14:49:27.324Z"
      },
      {
        "duration": 16,
        "start_time": "2021-06-24T14:49:27.353Z"
      },
      {
        "duration": 41,
        "start_time": "2021-06-24T14:49:27.373Z"
      },
      {
        "duration": 10,
        "start_time": "2021-06-24T14:49:27.417Z"
      },
      {
        "duration": 18,
        "start_time": "2021-06-24T14:49:27.429Z"
      },
      {
        "duration": 10,
        "start_time": "2021-06-24T14:49:27.450Z"
      },
      {
        "duration": 48,
        "start_time": "2021-06-24T14:49:27.462Z"
      },
      {
        "duration": 28,
        "start_time": "2021-06-24T14:49:27.512Z"
      },
      {
        "duration": 10,
        "start_time": "2021-06-24T14:49:27.542Z"
      },
      {
        "duration": 14,
        "start_time": "2021-06-24T14:49:27.554Z"
      },
      {
        "duration": 17,
        "start_time": "2021-06-24T14:49:27.570Z"
      },
      {
        "duration": 810,
        "start_time": "2021-06-24T14:49:27.589Z"
      },
      {
        "duration": 37,
        "start_time": "2021-06-24T14:49:28.401Z"
      },
      {
        "duration": 26,
        "start_time": "2021-06-24T14:49:28.441Z"
      },
      {
        "duration": 452,
        "start_time": "2021-06-24T14:49:28.469Z"
      },
      {
        "duration": 43,
        "start_time": "2021-06-24T14:49:28.923Z"
      },
      {
        "duration": 346,
        "start_time": "2021-06-24T14:49:28.968Z"
      },
      {
        "duration": 336,
        "start_time": "2021-06-24T14:49:29.320Z"
      },
      {
        "duration": 359,
        "start_time": "2021-06-24T14:49:29.659Z"
      },
      {
        "duration": 338,
        "start_time": "2021-06-24T14:49:30.020Z"
      },
      {
        "duration": 618,
        "start_time": "2021-06-24T14:49:30.361Z"
      },
      {
        "duration": 572,
        "start_time": "2021-06-24T14:49:30.981Z"
      },
      {
        "duration": 427,
        "start_time": "2021-06-24T14:49:31.555Z"
      },
      {
        "duration": 508,
        "start_time": "2021-06-24T14:49:31.985Z"
      },
      {
        "duration": 53,
        "start_time": "2021-06-24T14:49:32.495Z"
      },
      {
        "duration": 11,
        "start_time": "2021-06-24T14:49:32.550Z"
      },
      {
        "duration": 476,
        "start_time": "2021-06-24T14:49:32.563Z"
      },
      {
        "duration": 39,
        "start_time": "2021-06-24T14:49:33.042Z"
      },
      {
        "duration": 58,
        "start_time": "2021-06-24T14:49:33.084Z"
      },
      {
        "duration": 11,
        "start_time": "2021-06-24T14:49:33.144Z"
      },
      {
        "duration": 26,
        "start_time": "2021-06-24T14:49:33.157Z"
      },
      {
        "duration": 1780,
        "start_time": "2021-06-24T14:49:33.210Z"
      },
      {
        "duration": 27,
        "start_time": "2021-06-24T14:49:34.994Z"
      },
      {
        "duration": 26,
        "start_time": "2021-06-24T14:49:35.024Z"
      },
      {
        "duration": 28,
        "start_time": "2021-06-24T14:49:35.052Z"
      },
      {
        "duration": 46,
        "start_time": "2021-06-24T14:49:35.082Z"
      },
      {
        "duration": 437,
        "start_time": "2021-06-24T14:49:35.131Z"
      },
      {
        "duration": 437,
        "start_time": "2021-06-24T14:49:35.571Z"
      },
      {
        "duration": 25,
        "start_time": "2021-06-24T14:49:36.012Z"
      },
      {
        "duration": 35,
        "start_time": "2021-06-24T14:49:36.040Z"
      },
      {
        "duration": 39,
        "start_time": "2021-06-24T14:49:36.078Z"
      },
      {
        "duration": 34,
        "start_time": "2021-06-24T14:49:36.120Z"
      },
      {
        "duration": 68,
        "start_time": "2021-06-24T14:49:36.158Z"
      },
      {
        "duration": 22,
        "start_time": "2021-06-24T14:49:36.230Z"
      },
      {
        "duration": 56,
        "start_time": "2021-06-24T14:49:36.255Z"
      },
      {
        "duration": 35,
        "start_time": "2021-06-24T14:49:36.314Z"
      },
      {
        "duration": 18,
        "start_time": "2021-06-24T14:49:36.352Z"
      },
      {
        "duration": 53,
        "start_time": "2021-06-24T14:49:36.373Z"
      },
      {
        "duration": 12,
        "start_time": "2021-06-24T14:49:36.428Z"
      },
      {
        "duration": 30,
        "start_time": "2021-06-24T14:49:36.443Z"
      },
      {
        "duration": 36,
        "start_time": "2021-06-24T14:49:36.476Z"
      }
    ],
    "kernelspec": {
      "display_name": "Python 3",
      "language": "python",
      "name": "python3"
    },
    "language_info": {
      "codemirror_mode": {
        "name": "ipython",
        "version": 3
      },
      "file_extension": ".py",
      "mimetype": "text/x-python",
      "name": "python",
      "nbconvert_exporter": "python",
      "pygments_lexer": "ipython3",
      "version": "3.7.8"
    },
    "toc": {
      "base_numbering": 1,
      "nav_menu": {},
      "number_sections": false,
      "sideBar": true,
      "skip_h1_title": true,
      "title_cell": "Table of Contents",
      "title_sidebar": "Contents",
      "toc_cell": false,
      "toc_position": {},
      "toc_section_display": true,
      "toc_window_display": false
    },
    "colab": {
      "name": "sales of games.ipynb",
      "provenance": [],
      "include_colab_link": true
    }
  },
  "cells": [
    {
      "cell_type": "markdown",
      "metadata": {
        "id": "view-in-github",
        "colab_type": "text"
      },
      "source": [
        "<a href=\"https://colab.research.google.com/github/stixmal/praktikum_project_ds/blob/main/%D0%9F%D1%80%D0%BE%D0%B4%D0%B0%D0%B6%D0%B0%20%D0%B8%D0%B3%D1%80%20%D0%B2%20%D0%B8%D0%BD%D1%82%D0%B5%D1%80%D0%BD%D0%B5%D1%82-%D0%BC%D0%B0%D0%B3%D0%B0%D0%B7%D0%B8%D0%BD%D0%B5/sales_of_games.ipynb\" target=\"_parent\"><img src=\"https://colab.research.google.com/assets/colab-badge.svg\" alt=\"Open In Colab\"/></a>"
      ]
    },
    {
      "cell_type": "markdown",
      "metadata": {
        "id": "mo5aDBGTgCpJ"
      },
      "source": [
        "# Определение условий успешности при продаже игр\n",
        "\n",
        "Мы работаем в интернет-магазине «Стримчик», который продаёт по всему миру компьютерные игры. Из открытых источников доступны исторические данные о продажах игр, оценки пользователей и экспертов, жанры и платформы (например, Xbox или PlayStation). Нужно выявить определяющие успешность игры закономерности. Это позволит сделать ставку на потенциально популярный продукт и спланировать рекламные кампании. Доступны данные за 2016 г. Источник: `/datasets/games.csv`."
      ]
    },
    {
      "cell_type": "markdown",
      "metadata": {
        "id": "tO57XIcxgCpS"
      },
      "source": [
        "## Оглавление\n",
        "\n",
        "### [1. Ознакомление с общей информацией](#1) <a id='10'></a>   \n",
        "\n",
        "### [2. Подготовка данных](#2) <a id='20'></a>\n",
        "+ [Замена типа данных и исправление ошибок](#2.1)  \n",
        "\n",
        "\n",
        "\n",
        "+ [Определение суммарных продаж во всех регионах](#2.2)\n",
        "\n",
        "### [3. Исследовательский анализ данных](#3) <a id='30'></a>\n",
        "+ [Определение платформ с наибольшими суммарными продажами в разбивке по годам](#3.1)  \n",
        "\n",
        "\n",
        "+ [Определение актуального периода и потенциально прибыльных платформ](#3.2)  \n",
        "\n",
        "\n",
        "+ [Глобальные продажи игр в разбивке по прибыльным платформам](#3.3)  \n",
        "\n",
        "\n",
        "+ [Корреляция прибыльной платформы от оценок пользователей и критиков](#3.4)  \n",
        "\n",
        "\n",
        "+ [Общее распределение по жанрам](#3.5)\n",
        "\n",
        "\n",
        "### [4. Составление портрета пользователя каждого региона](#4) <a id='40'></a>\n",
        "+ [Портрет пользователя Северной Америки](#4.1)\n",
        "\n",
        "\n",
        "+ [Портрет пользователя Западной Европы](#4.2)  \n",
        "\n",
        "\n",
        "+ [Портрет пользователя Японии](#4.3)\n",
        "\n",
        "\n",
        "### [5. Проверка гипотез](#5) <a id='50'></a>\n",
        "+ [Средние пользовательские рейтинги платформ Xbox One и PC одинаковые](#5.1)  \n",
        "\n",
        "\n",
        "+ [Средние пользовательские рейтинги жанров Action и Sports разные](#5.2) \n",
        "\n",
        "\n",
        "### [6. Общий вывод](#6) <a id='60'></a>\n",
        "***\n"
      ]
    },
    {
      "cell_type": "markdown",
      "metadata": {
        "id": "NEMVluz4gCpV"
      },
      "source": [
        "## 1. Ознакомление с общей информацией <a id='1'></a>   [^](#10) "
      ]
    },
    {
      "cell_type": "markdown",
      "metadata": {
        "id": "0KldjsgLgCpW"
      },
      "source": [
        "Изучим набор данных, предоставленный для анализа."
      ]
    },
    {
      "cell_type": "code",
      "metadata": {
        "id": "4zc_mobhgCpY"
      },
      "source": [
        "# импорт библиотеки pandas\n",
        "import pandas as pd    \n",
        "\n",
        "# импорт библиотеки mathplot\n",
        "import matplotlib.pyplot as plt\n",
        "\n",
        "# импорт библиотеки math\n",
        "import math as mt\n",
        "\n",
        "# импорт библиотеки numpy\n",
        "import numpy as np  \n",
        "\n",
        "# импорт библиотеки статистики\n",
        "from scipy import stats as st\n",
        "\n",
        "# импорт модуля display\n",
        "from IPython.display import display  "
      ],
      "execution_count": null,
      "outputs": []
    },
    {
      "cell_type": "code",
      "metadata": {
        "id": "F7E2-R3VgCpa",
        "outputId": "6a4aaf7c-61c4-4f59-ee32-70167fb9340a"
      },
      "source": [
        "# чтение файла с данными и визуальная оценка таблицы\n",
        "df = pd.read_csv('/datasets/games.csv')\n",
        "df"
      ],
      "execution_count": null,
      "outputs": [
        {
          "output_type": "execute_result",
          "data": {
            "text/html": [
              "<div>\n",
              "<style scoped>\n",
              "    .dataframe tbody tr th:only-of-type {\n",
              "        vertical-align: middle;\n",
              "    }\n",
              "\n",
              "    .dataframe tbody tr th {\n",
              "        vertical-align: top;\n",
              "    }\n",
              "\n",
              "    .dataframe thead th {\n",
              "        text-align: right;\n",
              "    }\n",
              "</style>\n",
              "<table border=\"1\" class=\"dataframe\">\n",
              "  <thead>\n",
              "    <tr style=\"text-align: right;\">\n",
              "      <th></th>\n",
              "      <th>Name</th>\n",
              "      <th>Platform</th>\n",
              "      <th>Year_of_Release</th>\n",
              "      <th>Genre</th>\n",
              "      <th>NA_sales</th>\n",
              "      <th>EU_sales</th>\n",
              "      <th>JP_sales</th>\n",
              "      <th>Other_sales</th>\n",
              "      <th>Critic_Score</th>\n",
              "      <th>User_Score</th>\n",
              "      <th>Rating</th>\n",
              "    </tr>\n",
              "  </thead>\n",
              "  <tbody>\n",
              "    <tr>\n",
              "      <td>0</td>\n",
              "      <td>Wii Sports</td>\n",
              "      <td>Wii</td>\n",
              "      <td>2006.0</td>\n",
              "      <td>Sports</td>\n",
              "      <td>41.36</td>\n",
              "      <td>28.96</td>\n",
              "      <td>3.77</td>\n",
              "      <td>8.45</td>\n",
              "      <td>76.0</td>\n",
              "      <td>8</td>\n",
              "      <td>E</td>\n",
              "    </tr>\n",
              "    <tr>\n",
              "      <td>1</td>\n",
              "      <td>Super Mario Bros.</td>\n",
              "      <td>NES</td>\n",
              "      <td>1985.0</td>\n",
              "      <td>Platform</td>\n",
              "      <td>29.08</td>\n",
              "      <td>3.58</td>\n",
              "      <td>6.81</td>\n",
              "      <td>0.77</td>\n",
              "      <td>NaN</td>\n",
              "      <td>NaN</td>\n",
              "      <td>NaN</td>\n",
              "    </tr>\n",
              "    <tr>\n",
              "      <td>2</td>\n",
              "      <td>Mario Kart Wii</td>\n",
              "      <td>Wii</td>\n",
              "      <td>2008.0</td>\n",
              "      <td>Racing</td>\n",
              "      <td>15.68</td>\n",
              "      <td>12.76</td>\n",
              "      <td>3.79</td>\n",
              "      <td>3.29</td>\n",
              "      <td>82.0</td>\n",
              "      <td>8.3</td>\n",
              "      <td>E</td>\n",
              "    </tr>\n",
              "    <tr>\n",
              "      <td>3</td>\n",
              "      <td>Wii Sports Resort</td>\n",
              "      <td>Wii</td>\n",
              "      <td>2009.0</td>\n",
              "      <td>Sports</td>\n",
              "      <td>15.61</td>\n",
              "      <td>10.93</td>\n",
              "      <td>3.28</td>\n",
              "      <td>2.95</td>\n",
              "      <td>80.0</td>\n",
              "      <td>8</td>\n",
              "      <td>E</td>\n",
              "    </tr>\n",
              "    <tr>\n",
              "      <td>4</td>\n",
              "      <td>Pokemon Red/Pokemon Blue</td>\n",
              "      <td>GB</td>\n",
              "      <td>1996.0</td>\n",
              "      <td>Role-Playing</td>\n",
              "      <td>11.27</td>\n",
              "      <td>8.89</td>\n",
              "      <td>10.22</td>\n",
              "      <td>1.00</td>\n",
              "      <td>NaN</td>\n",
              "      <td>NaN</td>\n",
              "      <td>NaN</td>\n",
              "    </tr>\n",
              "    <tr>\n",
              "      <td>...</td>\n",
              "      <td>...</td>\n",
              "      <td>...</td>\n",
              "      <td>...</td>\n",
              "      <td>...</td>\n",
              "      <td>...</td>\n",
              "      <td>...</td>\n",
              "      <td>...</td>\n",
              "      <td>...</td>\n",
              "      <td>...</td>\n",
              "      <td>...</td>\n",
              "      <td>...</td>\n",
              "    </tr>\n",
              "    <tr>\n",
              "      <td>16710</td>\n",
              "      <td>Samurai Warriors: Sanada Maru</td>\n",
              "      <td>PS3</td>\n",
              "      <td>2016.0</td>\n",
              "      <td>Action</td>\n",
              "      <td>0.00</td>\n",
              "      <td>0.00</td>\n",
              "      <td>0.01</td>\n",
              "      <td>0.00</td>\n",
              "      <td>NaN</td>\n",
              "      <td>NaN</td>\n",
              "      <td>NaN</td>\n",
              "    </tr>\n",
              "    <tr>\n",
              "      <td>16711</td>\n",
              "      <td>LMA Manager 2007</td>\n",
              "      <td>X360</td>\n",
              "      <td>2006.0</td>\n",
              "      <td>Sports</td>\n",
              "      <td>0.00</td>\n",
              "      <td>0.01</td>\n",
              "      <td>0.00</td>\n",
              "      <td>0.00</td>\n",
              "      <td>NaN</td>\n",
              "      <td>NaN</td>\n",
              "      <td>NaN</td>\n",
              "    </tr>\n",
              "    <tr>\n",
              "      <td>16712</td>\n",
              "      <td>Haitaka no Psychedelica</td>\n",
              "      <td>PSV</td>\n",
              "      <td>2016.0</td>\n",
              "      <td>Adventure</td>\n",
              "      <td>0.00</td>\n",
              "      <td>0.00</td>\n",
              "      <td>0.01</td>\n",
              "      <td>0.00</td>\n",
              "      <td>NaN</td>\n",
              "      <td>NaN</td>\n",
              "      <td>NaN</td>\n",
              "    </tr>\n",
              "    <tr>\n",
              "      <td>16713</td>\n",
              "      <td>Spirits &amp; Spells</td>\n",
              "      <td>GBA</td>\n",
              "      <td>2003.0</td>\n",
              "      <td>Platform</td>\n",
              "      <td>0.01</td>\n",
              "      <td>0.00</td>\n",
              "      <td>0.00</td>\n",
              "      <td>0.00</td>\n",
              "      <td>NaN</td>\n",
              "      <td>NaN</td>\n",
              "      <td>NaN</td>\n",
              "    </tr>\n",
              "    <tr>\n",
              "      <td>16714</td>\n",
              "      <td>Winning Post 8 2016</td>\n",
              "      <td>PSV</td>\n",
              "      <td>2016.0</td>\n",
              "      <td>Simulation</td>\n",
              "      <td>0.00</td>\n",
              "      <td>0.00</td>\n",
              "      <td>0.01</td>\n",
              "      <td>0.00</td>\n",
              "      <td>NaN</td>\n",
              "      <td>NaN</td>\n",
              "      <td>NaN</td>\n",
              "    </tr>\n",
              "  </tbody>\n",
              "</table>\n",
              "<p>16715 rows × 11 columns</p>\n",
              "</div>"
            ],
            "text/plain": [
              "                                Name Platform  Year_of_Release         Genre  \\\n",
              "0                         Wii Sports      Wii           2006.0        Sports   \n",
              "1                  Super Mario Bros.      NES           1985.0      Platform   \n",
              "2                     Mario Kart Wii      Wii           2008.0        Racing   \n",
              "3                  Wii Sports Resort      Wii           2009.0        Sports   \n",
              "4           Pokemon Red/Pokemon Blue       GB           1996.0  Role-Playing   \n",
              "...                              ...      ...              ...           ...   \n",
              "16710  Samurai Warriors: Sanada Maru      PS3           2016.0        Action   \n",
              "16711               LMA Manager 2007     X360           2006.0        Sports   \n",
              "16712        Haitaka no Psychedelica      PSV           2016.0     Adventure   \n",
              "16713               Spirits & Spells      GBA           2003.0      Platform   \n",
              "16714            Winning Post 8 2016      PSV           2016.0    Simulation   \n",
              "\n",
              "       NA_sales  EU_sales  JP_sales  Other_sales  Critic_Score User_Score  \\\n",
              "0         41.36     28.96      3.77         8.45          76.0          8   \n",
              "1         29.08      3.58      6.81         0.77           NaN        NaN   \n",
              "2         15.68     12.76      3.79         3.29          82.0        8.3   \n",
              "3         15.61     10.93      3.28         2.95          80.0          8   \n",
              "4         11.27      8.89     10.22         1.00           NaN        NaN   \n",
              "...         ...       ...       ...          ...           ...        ...   \n",
              "16710      0.00      0.00      0.01         0.00           NaN        NaN   \n",
              "16711      0.00      0.01      0.00         0.00           NaN        NaN   \n",
              "16712      0.00      0.00      0.01         0.00           NaN        NaN   \n",
              "16713      0.01      0.00      0.00         0.00           NaN        NaN   \n",
              "16714      0.00      0.00      0.01         0.00           NaN        NaN   \n",
              "\n",
              "      Rating  \n",
              "0          E  \n",
              "1        NaN  \n",
              "2          E  \n",
              "3          E  \n",
              "4        NaN  \n",
              "...      ...  \n",
              "16710    NaN  \n",
              "16711    NaN  \n",
              "16712    NaN  \n",
              "16713    NaN  \n",
              "16714    NaN  \n",
              "\n",
              "[16715 rows x 11 columns]"
            ]
          },
          "metadata": {
            "tags": []
          },
          "execution_count": 2
        }
      ]
    },
    {
      "cell_type": "code",
      "metadata": {
        "id": "tF4MWSiZgCpd",
        "outputId": "b4dd9b3e-9dcf-4d5b-c509-d14e316f5f70"
      },
      "source": [
        "# общая информация о таблице\n",
        "df.info()"
      ],
      "execution_count": null,
      "outputs": [
        {
          "output_type": "stream",
          "text": [
            "<class 'pandas.core.frame.DataFrame'>\n",
            "RangeIndex: 16715 entries, 0 to 16714\n",
            "Data columns (total 11 columns):\n",
            "Name               16713 non-null object\n",
            "Platform           16715 non-null object\n",
            "Year_of_Release    16446 non-null float64\n",
            "Genre              16713 non-null object\n",
            "NA_sales           16715 non-null float64\n",
            "EU_sales           16715 non-null float64\n",
            "JP_sales           16715 non-null float64\n",
            "Other_sales        16715 non-null float64\n",
            "Critic_Score       8137 non-null float64\n",
            "User_Score         10014 non-null object\n",
            "Rating             9949 non-null object\n",
            "dtypes: float64(6), object(5)\n",
            "memory usage: 1.4+ MB\n"
          ],
          "name": "stdout"
        }
      ]
    },
    {
      "cell_type": "markdown",
      "metadata": {
        "id": "_QwKMI3qgCpf"
      },
      "source": [
        "Разберём какую информацию содержат столбцы.\n",
        "\n",
        "* **Name** — название игры\n",
        "* **Platform** — платформа\n",
        "* **Year_of_Release** — год выпуска\n",
        "* **Genre** — жанр игры\n",
        "* **NA_sales** — продажи в Северной Америке (миллионы проданных копий)\n",
        "* **EU_sales** — продажи в Европе (миллионы проданных копий)\n",
        "* **JP_sales** — продажи в Японии (миллионы проданных копий)\n",
        "* **Other_sales** — продажи в других странах (миллионы проданных копий)\n",
        "* **Critic_Score** — оценка критиков (максимум 100)\n",
        "* **User_Score** — оценка пользователей (максимум 10)\n",
        "* **Rating** — рейтинг от организации ESRB (англ. Entertainment Software Rating Board)\n",
        "\n",
        "\n",
        "Количество значений  в столбцах различается. Множество столбцов имеют пропущенные значения."
      ]
    },
    {
      "cell_type": "markdown",
      "metadata": {
        "id": "Cm47U2pxgCph"
      },
      "source": [
        "###  Выводы\n",
        "Наша таблица имеет пропуски в столбцах с различными типами данных. Попробуем разобраться, где можно внести коррективы для дальнейшего анализа и поиска решений вышепоставленных задач.\n",
        "***"
      ]
    },
    {
      "cell_type": "markdown",
      "metadata": {
        "id": "sBJpROeBgCpi"
      },
      "source": [
        "## 2. Подготовка данных <a id='2'></a>   [^](#10)"
      ]
    },
    {
      "cell_type": "markdown",
      "metadata": {
        "id": "NtW7YHArgCpj"
      },
      "source": [
        "* ### Замена типа данных и исправление ошибок <a id='2.1'></a> [^](#10)"
      ]
    },
    {
      "cell_type": "markdown",
      "metadata": {
        "id": "K6QDX24GgCpk"
      },
      "source": [
        "Привели к нижнему регистру названия столбцов."
      ]
    },
    {
      "cell_type": "code",
      "metadata": {
        "id": "PVx0rBSegCpl"
      },
      "source": [
        "df.columns = [col.lower() for col in df.columns]"
      ],
      "execution_count": null,
      "outputs": []
    },
    {
      "cell_type": "markdown",
      "metadata": {
        "id": "FyeWPkRJgCpm"
      },
      "source": [
        "## `name`"
      ]
    },
    {
      "cell_type": "code",
      "metadata": {
        "scrolled": true,
        "id": "u2uicRHvgCpn"
      },
      "source": [
        "# привели к нижнему регистру\n",
        "df['name'] = df['name'].str.lower()"
      ],
      "execution_count": null,
      "outputs": []
    },
    {
      "cell_type": "code",
      "metadata": {
        "id": "YluYLSH7gCpn",
        "outputId": "7f7df8de-a6e2-4aa7-8418-1acb89b4d7f1"
      },
      "source": [
        "# удалили 2 пропущенные записи в столбце name\n",
        "df = df.dropna(subset=['name']).reset_index(drop = True)\n",
        "df.info()"
      ],
      "execution_count": null,
      "outputs": [
        {
          "output_type": "stream",
          "text": [
            "<class 'pandas.core.frame.DataFrame'>\n",
            "RangeIndex: 16713 entries, 0 to 16712\n",
            "Data columns (total 11 columns):\n",
            "name               16713 non-null object\n",
            "platform           16713 non-null object\n",
            "year_of_release    16444 non-null float64\n",
            "genre              16713 non-null object\n",
            "na_sales           16713 non-null float64\n",
            "eu_sales           16713 non-null float64\n",
            "jp_sales           16713 non-null float64\n",
            "other_sales        16713 non-null float64\n",
            "critic_score       8137 non-null float64\n",
            "user_score         10014 non-null object\n",
            "rating             9949 non-null object\n",
            "dtypes: float64(6), object(5)\n",
            "memory usage: 1.4+ MB\n"
          ],
          "name": "stdout"
        }
      ]
    },
    {
      "cell_type": "markdown",
      "metadata": {
        "id": "61O3Gi3jgCpp"
      },
      "source": [
        "## `platform`"
      ]
    },
    {
      "cell_type": "code",
      "metadata": {
        "scrolled": true,
        "id": "I9_gtXgggCpp",
        "outputId": "2129153e-3336-4b37-ee89-d3c82b62e17f"
      },
      "source": [
        "# привели к нижнему регистру\n",
        "df['platform'] = df['platform'].str.lower()\n",
        "df['platform']"
      ],
      "execution_count": null,
      "outputs": [
        {
          "output_type": "execute_result",
          "data": {
            "text/plain": [
              "0         wii\n",
              "1         nes\n",
              "2         wii\n",
              "3         wii\n",
              "4          gb\n",
              "         ... \n",
              "16708     ps3\n",
              "16709    x360\n",
              "16710     psv\n",
              "16711     gba\n",
              "16712     psv\n",
              "Name: platform, Length: 16713, dtype: object"
            ]
          },
          "metadata": {
            "tags": []
          },
          "execution_count": 7
        }
      ]
    },
    {
      "cell_type": "markdown",
      "metadata": {
        "id": "ylWMNypcgCpq"
      },
      "source": [
        "## `year_of_release`"
      ]
    },
    {
      "cell_type": "code",
      "metadata": {
        "id": "BtLvXY1-gCpr",
        "outputId": "ab05929c-cc04-47d4-baeb-499f3449cdf7"
      },
      "source": [
        "# приведение к целочисленному виду\n",
        "df['year_of_release'] = df['year_of_release'].astype('Int64')\n",
        "df['year_of_release']"
      ],
      "execution_count": null,
      "outputs": [
        {
          "output_type": "execute_result",
          "data": {
            "text/plain": [
              "0        2006\n",
              "1        1985\n",
              "2        2008\n",
              "3        2009\n",
              "4        1996\n",
              "         ... \n",
              "16708    2016\n",
              "16709    2006\n",
              "16710    2016\n",
              "16711    2003\n",
              "16712    2016\n",
              "Name: year_of_release, Length: 16713, dtype: Int64"
            ]
          },
          "metadata": {
            "tags": []
          },
          "execution_count": 8
        }
      ]
    },
    {
      "cell_type": "markdown",
      "metadata": {
        "id": "_arzne3KgCps"
      },
      "source": [
        "## `genre`"
      ]
    },
    {
      "cell_type": "code",
      "metadata": {
        "scrolled": false,
        "id": "KZekBlbtgCpt",
        "outputId": "ea231c90-32d1-4a98-9391-0717d81884a0"
      },
      "source": [
        "# просмотрели уникальные значения столбца с жанром\n",
        "df['genre'].value_counts()"
      ],
      "execution_count": null,
      "outputs": [
        {
          "output_type": "execute_result",
          "data": {
            "text/plain": [
              "Action          3369\n",
              "Sports          2348\n",
              "Misc            1750\n",
              "Role-Playing    1498\n",
              "Shooter         1323\n",
              "Adventure       1303\n",
              "Racing          1249\n",
              "Platform         888\n",
              "Simulation       873\n",
              "Fighting         849\n",
              "Strategy         683\n",
              "Puzzle           580\n",
              "Name: genre, dtype: int64"
            ]
          },
          "metadata": {
            "tags": []
          },
          "execution_count": 9
        }
      ]
    },
    {
      "cell_type": "markdown",
      "metadata": {
        "id": "Hjix-hTogCpt"
      },
      "source": [
        "Привели также к нижнему регистру данных столбец с жанрами игр."
      ]
    },
    {
      "cell_type": "code",
      "metadata": {
        "scrolled": true,
        "id": "AcN9O5XBgCpu",
        "outputId": "b4544e61-8438-4584-f879-6937f608f903"
      },
      "source": [
        "df['genre'] = df['genre'].str.lower()\n",
        "df['genre']"
      ],
      "execution_count": null,
      "outputs": [
        {
          "output_type": "execute_result",
          "data": {
            "text/plain": [
              "0              sports\n",
              "1            platform\n",
              "2              racing\n",
              "3              sports\n",
              "4        role-playing\n",
              "             ...     \n",
              "16708          action\n",
              "16709          sports\n",
              "16710       adventure\n",
              "16711        platform\n",
              "16712      simulation\n",
              "Name: genre, Length: 16713, dtype: object"
            ]
          },
          "metadata": {
            "tags": []
          },
          "execution_count": 10
        }
      ]
    },
    {
      "cell_type": "markdown",
      "metadata": {
        "id": "6PdnuuabgCpv"
      },
      "source": [
        "## `critic_score`"
      ]
    },
    {
      "cell_type": "markdown",
      "metadata": {
        "id": "j4sqdVSlgCpw"
      },
      "source": [
        "Заполнение пропусков на логически обоснованную величину не представляется возможным, так как оценка критиков является чисто субъективным мнением."
      ]
    },
    {
      "cell_type": "code",
      "metadata": {
        "id": "_h9Ae1fwgCpx",
        "outputId": "dccca3ce-a7c0-41c2-b6ee-ccec9fa1cdf3"
      },
      "source": [
        "df['critic_score']"
      ],
      "execution_count": null,
      "outputs": [
        {
          "output_type": "execute_result",
          "data": {
            "text/plain": [
              "0        76.0\n",
              "1         NaN\n",
              "2        82.0\n",
              "3        80.0\n",
              "4         NaN\n",
              "         ... \n",
              "16708     NaN\n",
              "16709     NaN\n",
              "16710     NaN\n",
              "16711     NaN\n",
              "16712     NaN\n",
              "Name: critic_score, Length: 16713, dtype: float64"
            ]
          },
          "metadata": {
            "tags": []
          },
          "execution_count": 11
        }
      ]
    },
    {
      "cell_type": "markdown",
      "metadata": {
        "id": "KSEXpOPngCpy"
      },
      "source": [
        "## `user_score`"
      ]
    },
    {
      "cell_type": "markdown",
      "metadata": {
        "id": "C30IgalMgCpy"
      },
      "source": [
        "Столбец с пользовательскими оценками также не полностью заполнен. Возможной причиной может являться не выгруженные данные, либо просто отсутствие релевантной оценки по тем или иным играм. У данного столбца объектный тип данных, хотя по логике должен быть вещественный или целочисленный тип. "
      ]
    },
    {
      "cell_type": "code",
      "metadata": {
        "scrolled": true,
        "id": "-XxS9czagCpz",
        "outputId": "85615568-d6d0-4f44-9a9e-8d7c4b8a01d4"
      },
      "source": [
        "# визуальная оценка уникальных значений\n",
        "df['user_score'].value_counts()"
      ],
      "execution_count": null,
      "outputs": [
        {
          "output_type": "execute_result",
          "data": {
            "text/plain": [
              "tbd    2424\n",
              "7.8     324\n",
              "8       290\n",
              "8.2     282\n",
              "8.3     254\n",
              "       ... \n",
              "9.6       2\n",
              "1.9       2\n",
              "0.7       2\n",
              "0         1\n",
              "9.7       1\n",
              "Name: user_score, Length: 96, dtype: int64"
            ]
          },
          "metadata": {
            "tags": []
          },
          "execution_count": 12
        }
      ]
    },
    {
      "cell_type": "markdown",
      "metadata": {
        "id": "3uG0ZKnigCp0"
      },
      "source": [
        "Значение **`tbd`** занимает приблизительно 2500 строк. **`To be define`** говорит нам, что оценки подлежат уточнению и ещё не совсем определены. Заполнение их какими-либо экстраполированными данными также может сильно исказить истинную картину. Поэтому просто приведём к вещественному типу, применив метод `.to_numeric`. Тогда 2500 строк станут аналогичны пропущенным значениям."
      ]
    },
    {
      "cell_type": "code",
      "metadata": {
        "id": "0sG0dg_HgCp1",
        "outputId": "c4b243b2-163d-41b0-c92c-4a07ca7abc27"
      },
      "source": [
        "# приведение к вещественному типу данных\n",
        "df['user_score'] = pd.to_numeric(df['user_score'], errors='coerce')\n",
        "df.info()"
      ],
      "execution_count": null,
      "outputs": [
        {
          "output_type": "stream",
          "text": [
            "<class 'pandas.core.frame.DataFrame'>\n",
            "RangeIndex: 16713 entries, 0 to 16712\n",
            "Data columns (total 11 columns):\n",
            "name               16713 non-null object\n",
            "platform           16713 non-null object\n",
            "year_of_release    16444 non-null Int64\n",
            "genre              16713 non-null object\n",
            "na_sales           16713 non-null float64\n",
            "eu_sales           16713 non-null float64\n",
            "jp_sales           16713 non-null float64\n",
            "other_sales        16713 non-null float64\n",
            "critic_score       8137 non-null float64\n",
            "user_score         7590 non-null float64\n",
            "rating             9949 non-null object\n",
            "dtypes: Int64(1), float64(6), object(4)\n",
            "memory usage: 1.4+ MB\n"
          ],
          "name": "stdout"
        }
      ]
    },
    {
      "cell_type": "markdown",
      "metadata": {
        "id": "VCX5LQvggCp2"
      },
      "source": [
        "## `rating`"
      ]
    },
    {
      "cell_type": "code",
      "metadata": {
        "scrolled": true,
        "id": "ZgSpKedegCp3",
        "outputId": "aa80201a-16f4-4987-ab4d-020eb3251947"
      },
      "source": [
        "# просмотрели уникальные значения столбца с рейтингом\n",
        "df['rating'].value_counts()"
      ],
      "execution_count": null,
      "outputs": [
        {
          "output_type": "execute_result",
          "data": {
            "text/plain": [
              "E       3990\n",
              "T       2961\n",
              "M       1563\n",
              "E10+    1420\n",
              "EC         8\n",
              "RP         3\n",
              "K-A        3\n",
              "AO         1\n",
              "Name: rating, dtype: int64"
            ]
          },
          "metadata": {
            "tags": []
          },
          "execution_count": 14
        }
      ]
    },
    {
      "cell_type": "markdown",
      "metadata": {
        "id": "7eHroZHtgCp4"
      },
      "source": [
        "Написали функцию для перевода обозначений рейтинга ESRB в условно-числовой вариант."
      ]
    },
    {
      "cell_type": "code",
      "metadata": {
        "id": "SICApRH8gCp4"
      },
      "source": [
        "# функция для рейтинга ESRB\n",
        "def to_number(row):\n",
        "    if row == 'E':\n",
        "        return 6\n",
        "    if row == 'E10+':\n",
        "        return 10\n",
        "    if row == 'T':\n",
        "        return 13\n",
        "    if row == 'M':\n",
        "        return 17\n",
        "    \n",
        "df['number_rating'] = df['rating'].apply(to_number)    \n"
      ],
      "execution_count": null,
      "outputs": []
    },
    {
      "cell_type": "markdown",
      "metadata": {
        "id": "Eas0qddsgCp5"
      },
      "source": [
        "***"
      ]
    },
    {
      "cell_type": "markdown",
      "metadata": {
        "id": "nMI3GEvggCp6"
      },
      "source": [
        "* ### Определение суммарных продаж во всех регионах <a id='2.2'></a> [^](#10)"
      ]
    },
    {
      "cell_type": "markdown",
      "metadata": {
        "id": "z7TZ-1v2gCp6"
      },
      "source": [
        "Создали столбец с суммарными продажами во всех регионах."
      ]
    },
    {
      "cell_type": "code",
      "metadata": {
        "id": "8cthMkOzgCp7"
      },
      "source": [
        "# функция для определения суммарных продаж\n",
        "def to_sales(row):\n",
        "    world = row['na_sales'] + row['eu_sales'] + row['jp_sales'] + row['other_sales']\n",
        "    return world"
      ],
      "execution_count": null,
      "outputs": []
    },
    {
      "cell_type": "code",
      "metadata": {
        "id": "RBK-p17egCp7"
      },
      "source": [
        "# создание столбца\n",
        "df['world_sales'] = df.apply(to_sales, axis=1)"
      ],
      "execution_count": null,
      "outputs": []
    },
    {
      "cell_type": "code",
      "metadata": {
        "id": "JMmdIFRsgCp8",
        "outputId": "bd16eaf6-be4e-45b2-ea08-9d7453f3951b"
      },
      "source": [
        "# визуально оценили общий вид таблицы\n",
        "df"
      ],
      "execution_count": null,
      "outputs": [
        {
          "output_type": "execute_result",
          "data": {
            "text/html": [
              "<div>\n",
              "<style scoped>\n",
              "    .dataframe tbody tr th:only-of-type {\n",
              "        vertical-align: middle;\n",
              "    }\n",
              "\n",
              "    .dataframe tbody tr th {\n",
              "        vertical-align: top;\n",
              "    }\n",
              "\n",
              "    .dataframe thead th {\n",
              "        text-align: right;\n",
              "    }\n",
              "</style>\n",
              "<table border=\"1\" class=\"dataframe\">\n",
              "  <thead>\n",
              "    <tr style=\"text-align: right;\">\n",
              "      <th></th>\n",
              "      <th>name</th>\n",
              "      <th>platform</th>\n",
              "      <th>year_of_release</th>\n",
              "      <th>genre</th>\n",
              "      <th>na_sales</th>\n",
              "      <th>eu_sales</th>\n",
              "      <th>jp_sales</th>\n",
              "      <th>other_sales</th>\n",
              "      <th>critic_score</th>\n",
              "      <th>user_score</th>\n",
              "      <th>rating</th>\n",
              "      <th>number_rating</th>\n",
              "      <th>world_sales</th>\n",
              "    </tr>\n",
              "  </thead>\n",
              "  <tbody>\n",
              "    <tr>\n",
              "      <td>0</td>\n",
              "      <td>wii sports</td>\n",
              "      <td>wii</td>\n",
              "      <td>2006</td>\n",
              "      <td>sports</td>\n",
              "      <td>41.36</td>\n",
              "      <td>28.96</td>\n",
              "      <td>3.77</td>\n",
              "      <td>8.45</td>\n",
              "      <td>76.0</td>\n",
              "      <td>8.0</td>\n",
              "      <td>E</td>\n",
              "      <td>6.0</td>\n",
              "      <td>82.54</td>\n",
              "    </tr>\n",
              "    <tr>\n",
              "      <td>1</td>\n",
              "      <td>super mario bros.</td>\n",
              "      <td>nes</td>\n",
              "      <td>1985</td>\n",
              "      <td>platform</td>\n",
              "      <td>29.08</td>\n",
              "      <td>3.58</td>\n",
              "      <td>6.81</td>\n",
              "      <td>0.77</td>\n",
              "      <td>NaN</td>\n",
              "      <td>NaN</td>\n",
              "      <td>NaN</td>\n",
              "      <td>NaN</td>\n",
              "      <td>40.24</td>\n",
              "    </tr>\n",
              "    <tr>\n",
              "      <td>2</td>\n",
              "      <td>mario kart wii</td>\n",
              "      <td>wii</td>\n",
              "      <td>2008</td>\n",
              "      <td>racing</td>\n",
              "      <td>15.68</td>\n",
              "      <td>12.76</td>\n",
              "      <td>3.79</td>\n",
              "      <td>3.29</td>\n",
              "      <td>82.0</td>\n",
              "      <td>8.3</td>\n",
              "      <td>E</td>\n",
              "      <td>6.0</td>\n",
              "      <td>35.52</td>\n",
              "    </tr>\n",
              "    <tr>\n",
              "      <td>3</td>\n",
              "      <td>wii sports resort</td>\n",
              "      <td>wii</td>\n",
              "      <td>2009</td>\n",
              "      <td>sports</td>\n",
              "      <td>15.61</td>\n",
              "      <td>10.93</td>\n",
              "      <td>3.28</td>\n",
              "      <td>2.95</td>\n",
              "      <td>80.0</td>\n",
              "      <td>8.0</td>\n",
              "      <td>E</td>\n",
              "      <td>6.0</td>\n",
              "      <td>32.77</td>\n",
              "    </tr>\n",
              "    <tr>\n",
              "      <td>4</td>\n",
              "      <td>pokemon red/pokemon blue</td>\n",
              "      <td>gb</td>\n",
              "      <td>1996</td>\n",
              "      <td>role-playing</td>\n",
              "      <td>11.27</td>\n",
              "      <td>8.89</td>\n",
              "      <td>10.22</td>\n",
              "      <td>1.00</td>\n",
              "      <td>NaN</td>\n",
              "      <td>NaN</td>\n",
              "      <td>NaN</td>\n",
              "      <td>NaN</td>\n",
              "      <td>31.38</td>\n",
              "    </tr>\n",
              "    <tr>\n",
              "      <td>...</td>\n",
              "      <td>...</td>\n",
              "      <td>...</td>\n",
              "      <td>...</td>\n",
              "      <td>...</td>\n",
              "      <td>...</td>\n",
              "      <td>...</td>\n",
              "      <td>...</td>\n",
              "      <td>...</td>\n",
              "      <td>...</td>\n",
              "      <td>...</td>\n",
              "      <td>...</td>\n",
              "      <td>...</td>\n",
              "      <td>...</td>\n",
              "    </tr>\n",
              "    <tr>\n",
              "      <td>16708</td>\n",
              "      <td>samurai warriors: sanada maru</td>\n",
              "      <td>ps3</td>\n",
              "      <td>2016</td>\n",
              "      <td>action</td>\n",
              "      <td>0.00</td>\n",
              "      <td>0.00</td>\n",
              "      <td>0.01</td>\n",
              "      <td>0.00</td>\n",
              "      <td>NaN</td>\n",
              "      <td>NaN</td>\n",
              "      <td>NaN</td>\n",
              "      <td>NaN</td>\n",
              "      <td>0.01</td>\n",
              "    </tr>\n",
              "    <tr>\n",
              "      <td>16709</td>\n",
              "      <td>lma manager 2007</td>\n",
              "      <td>x360</td>\n",
              "      <td>2006</td>\n",
              "      <td>sports</td>\n",
              "      <td>0.00</td>\n",
              "      <td>0.01</td>\n",
              "      <td>0.00</td>\n",
              "      <td>0.00</td>\n",
              "      <td>NaN</td>\n",
              "      <td>NaN</td>\n",
              "      <td>NaN</td>\n",
              "      <td>NaN</td>\n",
              "      <td>0.01</td>\n",
              "    </tr>\n",
              "    <tr>\n",
              "      <td>16710</td>\n",
              "      <td>haitaka no psychedelica</td>\n",
              "      <td>psv</td>\n",
              "      <td>2016</td>\n",
              "      <td>adventure</td>\n",
              "      <td>0.00</td>\n",
              "      <td>0.00</td>\n",
              "      <td>0.01</td>\n",
              "      <td>0.00</td>\n",
              "      <td>NaN</td>\n",
              "      <td>NaN</td>\n",
              "      <td>NaN</td>\n",
              "      <td>NaN</td>\n",
              "      <td>0.01</td>\n",
              "    </tr>\n",
              "    <tr>\n",
              "      <td>16711</td>\n",
              "      <td>spirits &amp; spells</td>\n",
              "      <td>gba</td>\n",
              "      <td>2003</td>\n",
              "      <td>platform</td>\n",
              "      <td>0.01</td>\n",
              "      <td>0.00</td>\n",
              "      <td>0.00</td>\n",
              "      <td>0.00</td>\n",
              "      <td>NaN</td>\n",
              "      <td>NaN</td>\n",
              "      <td>NaN</td>\n",
              "      <td>NaN</td>\n",
              "      <td>0.01</td>\n",
              "    </tr>\n",
              "    <tr>\n",
              "      <td>16712</td>\n",
              "      <td>winning post 8 2016</td>\n",
              "      <td>psv</td>\n",
              "      <td>2016</td>\n",
              "      <td>simulation</td>\n",
              "      <td>0.00</td>\n",
              "      <td>0.00</td>\n",
              "      <td>0.01</td>\n",
              "      <td>0.00</td>\n",
              "      <td>NaN</td>\n",
              "      <td>NaN</td>\n",
              "      <td>NaN</td>\n",
              "      <td>NaN</td>\n",
              "      <td>0.01</td>\n",
              "    </tr>\n",
              "  </tbody>\n",
              "</table>\n",
              "<p>16713 rows × 13 columns</p>\n",
              "</div>"
            ],
            "text/plain": [
              "                                name platform  year_of_release         genre  \\\n",
              "0                         wii sports      wii             2006        sports   \n",
              "1                  super mario bros.      nes             1985      platform   \n",
              "2                     mario kart wii      wii             2008        racing   \n",
              "3                  wii sports resort      wii             2009        sports   \n",
              "4           pokemon red/pokemon blue       gb             1996  role-playing   \n",
              "...                              ...      ...              ...           ...   \n",
              "16708  samurai warriors: sanada maru      ps3             2016        action   \n",
              "16709               lma manager 2007     x360             2006        sports   \n",
              "16710        haitaka no psychedelica      psv             2016     adventure   \n",
              "16711               spirits & spells      gba             2003      platform   \n",
              "16712            winning post 8 2016      psv             2016    simulation   \n",
              "\n",
              "       na_sales  eu_sales  jp_sales  other_sales  critic_score  user_score  \\\n",
              "0         41.36     28.96      3.77         8.45          76.0         8.0   \n",
              "1         29.08      3.58      6.81         0.77           NaN         NaN   \n",
              "2         15.68     12.76      3.79         3.29          82.0         8.3   \n",
              "3         15.61     10.93      3.28         2.95          80.0         8.0   \n",
              "4         11.27      8.89     10.22         1.00           NaN         NaN   \n",
              "...         ...       ...       ...          ...           ...         ...   \n",
              "16708      0.00      0.00      0.01         0.00           NaN         NaN   \n",
              "16709      0.00      0.01      0.00         0.00           NaN         NaN   \n",
              "16710      0.00      0.00      0.01         0.00           NaN         NaN   \n",
              "16711      0.01      0.00      0.00         0.00           NaN         NaN   \n",
              "16712      0.00      0.00      0.01         0.00           NaN         NaN   \n",
              "\n",
              "      rating  number_rating  world_sales  \n",
              "0          E            6.0        82.54  \n",
              "1        NaN            NaN        40.24  \n",
              "2          E            6.0        35.52  \n",
              "3          E            6.0        32.77  \n",
              "4        NaN            NaN        31.38  \n",
              "...      ...            ...          ...  \n",
              "16708    NaN            NaN         0.01  \n",
              "16709    NaN            NaN         0.01  \n",
              "16710    NaN            NaN         0.01  \n",
              "16711    NaN            NaN         0.01  \n",
              "16712    NaN            NaN         0.01  \n",
              "\n",
              "[16713 rows x 13 columns]"
            ]
          },
          "metadata": {
            "tags": []
          },
          "execution_count": 18
        }
      ]
    },
    {
      "cell_type": "markdown",
      "metadata": {
        "id": "2oH7bqimgCp9"
      },
      "source": [
        "###  Выводы\n",
        "Мы сделали предобработку данных в нашей таблице: привели к нижнему регистру названия столбцов и данных в самих столбцах, заменили объектный тип на вещественный. От замены пропусков в оценках критиков и пользователей отказались из-за логической невозможности заполнения каким-то экстраполированным значением. \n",
        "***"
      ]
    },
    {
      "cell_type": "markdown",
      "metadata": {
        "id": "uLaul7FqgCp-"
      },
      "source": [
        "## 3. Исследовательский анализ данных <a id='3'></a>   [^](#10)"
      ]
    },
    {
      "cell_type": "markdown",
      "metadata": {
        "id": "4oZOYzlIgCp-"
      },
      "source": [
        "* ### Определение платформ с наибольшими суммарными продажами в разбивке по годам <a id='3.1'></a> [^](#10)"
      ]
    },
    {
      "cell_type": "markdown",
      "metadata": {
        "id": "7PESJbhogCp_"
      },
      "source": [
        "Посмотрели, сколько игр выпускалось в разные годы."
      ]
    },
    {
      "cell_type": "code",
      "metadata": {
        "scrolled": true,
        "id": "wzHy6IibgCp_",
        "outputId": "73f5b230-d0ae-404a-ff21-fc005d239f42"
      },
      "source": [
        "df.pivot_table(index='year_of_release', values='name', aggfunc='count')"
      ],
      "execution_count": null,
      "outputs": [
        {
          "output_type": "execute_result",
          "data": {
            "text/html": [
              "<div>\n",
              "<style scoped>\n",
              "    .dataframe tbody tr th:only-of-type {\n",
              "        vertical-align: middle;\n",
              "    }\n",
              "\n",
              "    .dataframe tbody tr th {\n",
              "        vertical-align: top;\n",
              "    }\n",
              "\n",
              "    .dataframe thead th {\n",
              "        text-align: right;\n",
              "    }\n",
              "</style>\n",
              "<table border=\"1\" class=\"dataframe\">\n",
              "  <thead>\n",
              "    <tr style=\"text-align: right;\">\n",
              "      <th></th>\n",
              "      <th>name</th>\n",
              "    </tr>\n",
              "    <tr>\n",
              "      <th>year_of_release</th>\n",
              "      <th></th>\n",
              "    </tr>\n",
              "  </thead>\n",
              "  <tbody>\n",
              "    <tr>\n",
              "      <td>1980</td>\n",
              "      <td>9</td>\n",
              "    </tr>\n",
              "    <tr>\n",
              "      <td>1981</td>\n",
              "      <td>46</td>\n",
              "    </tr>\n",
              "    <tr>\n",
              "      <td>1982</td>\n",
              "      <td>36</td>\n",
              "    </tr>\n",
              "    <tr>\n",
              "      <td>1983</td>\n",
              "      <td>17</td>\n",
              "    </tr>\n",
              "    <tr>\n",
              "      <td>1984</td>\n",
              "      <td>14</td>\n",
              "    </tr>\n",
              "    <tr>\n",
              "      <td>1985</td>\n",
              "      <td>14</td>\n",
              "    </tr>\n",
              "    <tr>\n",
              "      <td>1986</td>\n",
              "      <td>21</td>\n",
              "    </tr>\n",
              "    <tr>\n",
              "      <td>1987</td>\n",
              "      <td>16</td>\n",
              "    </tr>\n",
              "    <tr>\n",
              "      <td>1988</td>\n",
              "      <td>15</td>\n",
              "    </tr>\n",
              "    <tr>\n",
              "      <td>1989</td>\n",
              "      <td>17</td>\n",
              "    </tr>\n",
              "    <tr>\n",
              "      <td>1990</td>\n",
              "      <td>16</td>\n",
              "    </tr>\n",
              "    <tr>\n",
              "      <td>1991</td>\n",
              "      <td>41</td>\n",
              "    </tr>\n",
              "    <tr>\n",
              "      <td>1992</td>\n",
              "      <td>43</td>\n",
              "    </tr>\n",
              "    <tr>\n",
              "      <td>1993</td>\n",
              "      <td>60</td>\n",
              "    </tr>\n",
              "    <tr>\n",
              "      <td>1994</td>\n",
              "      <td>121</td>\n",
              "    </tr>\n",
              "    <tr>\n",
              "      <td>1995</td>\n",
              "      <td>219</td>\n",
              "    </tr>\n",
              "    <tr>\n",
              "      <td>1996</td>\n",
              "      <td>263</td>\n",
              "    </tr>\n",
              "    <tr>\n",
              "      <td>1997</td>\n",
              "      <td>289</td>\n",
              "    </tr>\n",
              "    <tr>\n",
              "      <td>1998</td>\n",
              "      <td>379</td>\n",
              "    </tr>\n",
              "    <tr>\n",
              "      <td>1999</td>\n",
              "      <td>338</td>\n",
              "    </tr>\n",
              "    <tr>\n",
              "      <td>2000</td>\n",
              "      <td>350</td>\n",
              "    </tr>\n",
              "    <tr>\n",
              "      <td>2001</td>\n",
              "      <td>482</td>\n",
              "    </tr>\n",
              "    <tr>\n",
              "      <td>2002</td>\n",
              "      <td>829</td>\n",
              "    </tr>\n",
              "    <tr>\n",
              "      <td>2003</td>\n",
              "      <td>775</td>\n",
              "    </tr>\n",
              "    <tr>\n",
              "      <td>2004</td>\n",
              "      <td>762</td>\n",
              "    </tr>\n",
              "    <tr>\n",
              "      <td>2005</td>\n",
              "      <td>939</td>\n",
              "    </tr>\n",
              "    <tr>\n",
              "      <td>2006</td>\n",
              "      <td>1006</td>\n",
              "    </tr>\n",
              "    <tr>\n",
              "      <td>2007</td>\n",
              "      <td>1197</td>\n",
              "    </tr>\n",
              "    <tr>\n",
              "      <td>2008</td>\n",
              "      <td>1427</td>\n",
              "    </tr>\n",
              "    <tr>\n",
              "      <td>2009</td>\n",
              "      <td>1426</td>\n",
              "    </tr>\n",
              "    <tr>\n",
              "      <td>2010</td>\n",
              "      <td>1255</td>\n",
              "    </tr>\n",
              "    <tr>\n",
              "      <td>2011</td>\n",
              "      <td>1136</td>\n",
              "    </tr>\n",
              "    <tr>\n",
              "      <td>2012</td>\n",
              "      <td>653</td>\n",
              "    </tr>\n",
              "    <tr>\n",
              "      <td>2013</td>\n",
              "      <td>544</td>\n",
              "    </tr>\n",
              "    <tr>\n",
              "      <td>2014</td>\n",
              "      <td>581</td>\n",
              "    </tr>\n",
              "    <tr>\n",
              "      <td>2015</td>\n",
              "      <td>606</td>\n",
              "    </tr>\n",
              "    <tr>\n",
              "      <td>2016</td>\n",
              "      <td>502</td>\n",
              "    </tr>\n",
              "  </tbody>\n",
              "</table>\n",
              "</div>"
            ],
            "text/plain": [
              "                 name\n",
              "year_of_release      \n",
              "1980                9\n",
              "1981               46\n",
              "1982               36\n",
              "1983               17\n",
              "1984               14\n",
              "1985               14\n",
              "1986               21\n",
              "1987               16\n",
              "1988               15\n",
              "1989               17\n",
              "1990               16\n",
              "1991               41\n",
              "1992               43\n",
              "1993               60\n",
              "1994              121\n",
              "1995              219\n",
              "1996              263\n",
              "1997              289\n",
              "1998              379\n",
              "1999              338\n",
              "2000              350\n",
              "2001              482\n",
              "2002              829\n",
              "2003              775\n",
              "2004              762\n",
              "2005              939\n",
              "2006             1006\n",
              "2007             1197\n",
              "2008             1427\n",
              "2009             1426\n",
              "2010             1255\n",
              "2011             1136\n",
              "2012              653\n",
              "2013              544\n",
              "2014              581\n",
              "2015              606\n",
              "2016              502"
            ]
          },
          "metadata": {
            "tags": []
          },
          "execution_count": 19
        }
      ]
    },
    {
      "cell_type": "code",
      "metadata": {
        "id": "OtEiwrqYgCqA",
        "outputId": "0ca64d07-2730-46fb-f80a-e9af365dde3f"
      },
      "source": [
        "# построили гистограмму распределения выпуска игр по всем годам\n",
        "df.hist(column='year_of_release', bins=25, figsize=(10, 5))\n",
        "plt.xlabel('Годы выпуска',  fontsize=16, fontweight='normal')\n",
        "plt.ylabel('Частотность', fontsize=16, fontweight='normal')\n",
        "plt.title('Гистограмма распределения выпуска игр по годам', fontsize=16, fontweight='normal')\n",
        "plt.show()"
      ],
      "execution_count": null,
      "outputs": [
        {
          "output_type": "display_data",
          "data": {
            "image/png": "[encoded data removed]",
            "text/plain": [
              "<Figure size 720x360 with 1 Axes>"
            ]
          },
          "metadata": {
            "tags": [],
            "needs_background": "light"
          }
        }
      ]
    },
    {
      "cell_type": "markdown",
      "metadata": {
        "id": "Fj3VQUEXgCqC"
      },
      "source": [
        "Видим, что пики выхода игр достигают апогея в 2009-2010 годах. Далее идёт снижение количества выпускаемых игр. Возможно данный пик обусловлен выходом в свет следующего поколения игровых приставок от Sony и Microsoft.\n",
        "\n",
        "Однако в желании ставки на популярный продукт необходимо руководствоваться не только вопросами недавней истории, но и актуальностью и своевременностью продаваемых игр. Поэтому посмотрели на временные отрезки, где господствуют уже актуальные игровые приставки, которые и будут продаваться в следующем году."
      ]
    },
    {
      "cell_type": "code",
      "metadata": {
        "scrolled": true,
        "id": "aEnL2pq5gCqD",
        "outputId": "8b4b56fd-9583-4364-ba8b-71be9535613b"
      },
      "source": [
        "# суммарные продажи по годам для разных платформ, начиная с 2011 года\n",
        "df_sales = df.query('year_of_release > 2010').pivot_table(index=['platform','year_of_release'], \\\n",
        "values=['world_sales'], aggfunc='sum').sort_values(by=['year_of_release', 'world_sales'], ascending=False).head(100)\n",
        "df_sales"
      ],
      "execution_count": null,
      "outputs": [
        {
          "output_type": "execute_result",
          "data": {
            "text/html": [
              "<div>\n",
              "<style scoped>\n",
              "    .dataframe tbody tr th:only-of-type {\n",
              "        vertical-align: middle;\n",
              "    }\n",
              "\n",
              "    .dataframe tbody tr th {\n",
              "        vertical-align: top;\n",
              "    }\n",
              "\n",
              "    .dataframe thead th {\n",
              "        text-align: right;\n",
              "    }\n",
              "</style>\n",
              "<table border=\"1\" class=\"dataframe\">\n",
              "  <thead>\n",
              "    <tr style=\"text-align: right;\">\n",
              "      <th></th>\n",
              "      <th></th>\n",
              "      <th>world_sales</th>\n",
              "    </tr>\n",
              "    <tr>\n",
              "      <th>platform</th>\n",
              "      <th>year_of_release</th>\n",
              "      <th></th>\n",
              "    </tr>\n",
              "  </thead>\n",
              "  <tbody>\n",
              "    <tr>\n",
              "      <td>ps4</td>\n",
              "      <td>2016</td>\n",
              "      <td>69.25</td>\n",
              "    </tr>\n",
              "    <tr>\n",
              "      <td>xone</td>\n",
              "      <td>2016</td>\n",
              "      <td>26.15</td>\n",
              "    </tr>\n",
              "    <tr>\n",
              "      <td>3ds</td>\n",
              "      <td>2016</td>\n",
              "      <td>15.14</td>\n",
              "    </tr>\n",
              "    <tr>\n",
              "      <td>pc</td>\n",
              "      <td>2016</td>\n",
              "      <td>5.25</td>\n",
              "    </tr>\n",
              "    <tr>\n",
              "      <td>wiiu</td>\n",
              "      <td>2016</td>\n",
              "      <td>4.60</td>\n",
              "    </tr>\n",
              "    <tr>\n",
              "      <td>psv</td>\n",
              "      <td>2016</td>\n",
              "      <td>4.25</td>\n",
              "    </tr>\n",
              "    <tr>\n",
              "      <td>ps3</td>\n",
              "      <td>2016</td>\n",
              "      <td>3.60</td>\n",
              "    </tr>\n",
              "    <tr>\n",
              "      <td>x360</td>\n",
              "      <td>2016</td>\n",
              "      <td>1.52</td>\n",
              "    </tr>\n",
              "    <tr>\n",
              "      <td>wii</td>\n",
              "      <td>2016</td>\n",
              "      <td>0.18</td>\n",
              "    </tr>\n",
              "    <tr>\n",
              "      <td>ps4</td>\n",
              "      <td>2015</td>\n",
              "      <td>118.90</td>\n",
              "    </tr>\n",
              "    <tr>\n",
              "      <td>xone</td>\n",
              "      <td>2015</td>\n",
              "      <td>60.14</td>\n",
              "    </tr>\n",
              "    <tr>\n",
              "      <td>3ds</td>\n",
              "      <td>2015</td>\n",
              "      <td>27.78</td>\n",
              "    </tr>\n",
              "    <tr>\n",
              "      <td>ps3</td>\n",
              "      <td>2015</td>\n",
              "      <td>16.82</td>\n",
              "    </tr>\n",
              "    <tr>\n",
              "      <td>wiiu</td>\n",
              "      <td>2015</td>\n",
              "      <td>16.35</td>\n",
              "    </tr>\n",
              "    <tr>\n",
              "      <td>x360</td>\n",
              "      <td>2015</td>\n",
              "      <td>11.96</td>\n",
              "    </tr>\n",
              "    <tr>\n",
              "      <td>pc</td>\n",
              "      <td>2015</td>\n",
              "      <td>8.52</td>\n",
              "    </tr>\n",
              "    <tr>\n",
              "      <td>psv</td>\n",
              "      <td>2015</td>\n",
              "      <td>6.25</td>\n",
              "    </tr>\n",
              "    <tr>\n",
              "      <td>wii</td>\n",
              "      <td>2015</td>\n",
              "      <td>1.14</td>\n",
              "    </tr>\n",
              "    <tr>\n",
              "      <td>psp</td>\n",
              "      <td>2015</td>\n",
              "      <td>0.12</td>\n",
              "    </tr>\n",
              "    <tr>\n",
              "      <td>ps4</td>\n",
              "      <td>2014</td>\n",
              "      <td>100.00</td>\n",
              "    </tr>\n",
              "    <tr>\n",
              "      <td>xone</td>\n",
              "      <td>2014</td>\n",
              "      <td>54.07</td>\n",
              "    </tr>\n",
              "    <tr>\n",
              "      <td>ps3</td>\n",
              "      <td>2014</td>\n",
              "      <td>47.76</td>\n",
              "    </tr>\n",
              "    <tr>\n",
              "      <td>3ds</td>\n",
              "      <td>2014</td>\n",
              "      <td>43.76</td>\n",
              "    </tr>\n",
              "    <tr>\n",
              "      <td>x360</td>\n",
              "      <td>2014</td>\n",
              "      <td>34.74</td>\n",
              "    </tr>\n",
              "    <tr>\n",
              "      <td>wiiu</td>\n",
              "      <td>2014</td>\n",
              "      <td>22.03</td>\n",
              "    </tr>\n",
              "    <tr>\n",
              "      <td>pc</td>\n",
              "      <td>2014</td>\n",
              "      <td>13.28</td>\n",
              "    </tr>\n",
              "    <tr>\n",
              "      <td>psv</td>\n",
              "      <td>2014</td>\n",
              "      <td>11.90</td>\n",
              "    </tr>\n",
              "    <tr>\n",
              "      <td>wii</td>\n",
              "      <td>2014</td>\n",
              "      <td>3.75</td>\n",
              "    </tr>\n",
              "    <tr>\n",
              "      <td>psp</td>\n",
              "      <td>2014</td>\n",
              "      <td>0.24</td>\n",
              "    </tr>\n",
              "    <tr>\n",
              "      <td>ps3</td>\n",
              "      <td>2013</td>\n",
              "      <td>113.25</td>\n",
              "    </tr>\n",
              "    <tr>\n",
              "      <td>x360</td>\n",
              "      <td>2013</td>\n",
              "      <td>88.58</td>\n",
              "    </tr>\n",
              "    <tr>\n",
              "      <td>3ds</td>\n",
              "      <td>2013</td>\n",
              "      <td>56.57</td>\n",
              "    </tr>\n",
              "    <tr>\n",
              "      <td>ps4</td>\n",
              "      <td>2013</td>\n",
              "      <td>25.99</td>\n",
              "    </tr>\n",
              "    <tr>\n",
              "      <td>wiiu</td>\n",
              "      <td>2013</td>\n",
              "      <td>21.65</td>\n",
              "    </tr>\n",
              "    <tr>\n",
              "      <td>xone</td>\n",
              "      <td>2013</td>\n",
              "      <td>18.96</td>\n",
              "    </tr>\n",
              "    <tr>\n",
              "      <td>pc</td>\n",
              "      <td>2013</td>\n",
              "      <td>12.38</td>\n",
              "    </tr>\n",
              "    <tr>\n",
              "      <td>psv</td>\n",
              "      <td>2013</td>\n",
              "      <td>10.59</td>\n",
              "    </tr>\n",
              "    <tr>\n",
              "      <td>wii</td>\n",
              "      <td>2013</td>\n",
              "      <td>8.59</td>\n",
              "    </tr>\n",
              "    <tr>\n",
              "      <td>psp</td>\n",
              "      <td>2013</td>\n",
              "      <td>3.14</td>\n",
              "    </tr>\n",
              "    <tr>\n",
              "      <td>ds</td>\n",
              "      <td>2013</td>\n",
              "      <td>1.54</td>\n",
              "    </tr>\n",
              "    <tr>\n",
              "      <td>ps3</td>\n",
              "      <td>2012</td>\n",
              "      <td>107.36</td>\n",
              "    </tr>\n",
              "    <tr>\n",
              "      <td>x360</td>\n",
              "      <td>2012</td>\n",
              "      <td>99.74</td>\n",
              "    </tr>\n",
              "    <tr>\n",
              "      <td>3ds</td>\n",
              "      <td>2012</td>\n",
              "      <td>51.36</td>\n",
              "    </tr>\n",
              "    <tr>\n",
              "      <td>pc</td>\n",
              "      <td>2012</td>\n",
              "      <td>23.22</td>\n",
              "    </tr>\n",
              "    <tr>\n",
              "      <td>wii</td>\n",
              "      <td>2012</td>\n",
              "      <td>21.71</td>\n",
              "    </tr>\n",
              "    <tr>\n",
              "      <td>wiiu</td>\n",
              "      <td>2012</td>\n",
              "      <td>17.56</td>\n",
              "    </tr>\n",
              "    <tr>\n",
              "      <td>psv</td>\n",
              "      <td>2012</td>\n",
              "      <td>16.19</td>\n",
              "    </tr>\n",
              "    <tr>\n",
              "      <td>ds</td>\n",
              "      <td>2012</td>\n",
              "      <td>11.01</td>\n",
              "    </tr>\n",
              "    <tr>\n",
              "      <td>psp</td>\n",
              "      <td>2012</td>\n",
              "      <td>7.69</td>\n",
              "    </tr>\n",
              "    <tr>\n",
              "      <td>ps3</td>\n",
              "      <td>2011</td>\n",
              "      <td>156.78</td>\n",
              "    </tr>\n",
              "    <tr>\n",
              "      <td>x360</td>\n",
              "      <td>2011</td>\n",
              "      <td>143.84</td>\n",
              "    </tr>\n",
              "    <tr>\n",
              "      <td>3ds</td>\n",
              "      <td>2011</td>\n",
              "      <td>63.20</td>\n",
              "    </tr>\n",
              "    <tr>\n",
              "      <td>wii</td>\n",
              "      <td>2011</td>\n",
              "      <td>59.65</td>\n",
              "    </tr>\n",
              "    <tr>\n",
              "      <td>pc</td>\n",
              "      <td>2011</td>\n",
              "      <td>35.03</td>\n",
              "    </tr>\n",
              "    <tr>\n",
              "      <td>ds</td>\n",
              "      <td>2011</td>\n",
              "      <td>26.18</td>\n",
              "    </tr>\n",
              "    <tr>\n",
              "      <td>psp</td>\n",
              "      <td>2011</td>\n",
              "      <td>17.82</td>\n",
              "    </tr>\n",
              "    <tr>\n",
              "      <td>psv</td>\n",
              "      <td>2011</td>\n",
              "      <td>4.63</td>\n",
              "    </tr>\n",
              "    <tr>\n",
              "      <td>ps2</td>\n",
              "      <td>2011</td>\n",
              "      <td>0.45</td>\n",
              "    </tr>\n",
              "  </tbody>\n",
              "</table>\n",
              "</div>"
            ],
            "text/plain": [
              "                          world_sales\n",
              "platform year_of_release             \n",
              "ps4      2016                   69.25\n",
              "xone     2016                   26.15\n",
              "3ds      2016                   15.14\n",
              "pc       2016                    5.25\n",
              "wiiu     2016                    4.60\n",
              "psv      2016                    4.25\n",
              "ps3      2016                    3.60\n",
              "x360     2016                    1.52\n",
              "wii      2016                    0.18\n",
              "ps4      2015                  118.90\n",
              "xone     2015                   60.14\n",
              "3ds      2015                   27.78\n",
              "ps3      2015                   16.82\n",
              "wiiu     2015                   16.35\n",
              "x360     2015                   11.96\n",
              "pc       2015                    8.52\n",
              "psv      2015                    6.25\n",
              "wii      2015                    1.14\n",
              "psp      2015                    0.12\n",
              "ps4      2014                  100.00\n",
              "xone     2014                   54.07\n",
              "ps3      2014                   47.76\n",
              "3ds      2014                   43.76\n",
              "x360     2014                   34.74\n",
              "wiiu     2014                   22.03\n",
              "pc       2014                   13.28\n",
              "psv      2014                   11.90\n",
              "wii      2014                    3.75\n",
              "psp      2014                    0.24\n",
              "ps3      2013                  113.25\n",
              "x360     2013                   88.58\n",
              "3ds      2013                   56.57\n",
              "ps4      2013                   25.99\n",
              "wiiu     2013                   21.65\n",
              "xone     2013                   18.96\n",
              "pc       2013                   12.38\n",
              "psv      2013                   10.59\n",
              "wii      2013                    8.59\n",
              "psp      2013                    3.14\n",
              "ds       2013                    1.54\n",
              "ps3      2012                  107.36\n",
              "x360     2012                   99.74\n",
              "3ds      2012                   51.36\n",
              "pc       2012                   23.22\n",
              "wii      2012                   21.71\n",
              "wiiu     2012                   17.56\n",
              "psv      2012                   16.19\n",
              "ds       2012                   11.01\n",
              "psp      2012                    7.69\n",
              "ps3      2011                  156.78\n",
              "x360     2011                  143.84\n",
              "3ds      2011                   63.20\n",
              "wii      2011                   59.65\n",
              "pc       2011                   35.03\n",
              "ds       2011                   26.18\n",
              "psp      2011                   17.82\n",
              "psv      2011                    4.63\n",
              "ps2      2011                    0.45"
            ]
          },
          "metadata": {
            "tags": []
          },
          "execution_count": 21
        }
      ]
    },
    {
      "cell_type": "markdown",
      "metadata": {
        "id": "-jcCR797gCqF"
      },
      "source": [
        "Видим, что с выходом новых приставок \"PS4\" и \"XBox One\" в конце 2013 года, началось падение продаж других платформ и отвоёвывание доли новым поколением (данные за 2016 год будем считать неполными). Построили гистограммы и увидели данную ситуацию. "
      ]
    },
    {
      "cell_type": "markdown",
      "metadata": {
        "id": "JzcJr40BgCqF"
      },
      "source": [
        "## `PS4`"
      ]
    },
    {
      "cell_type": "code",
      "metadata": {
        "id": "Os5btxREgCqG",
        "outputId": "e877b634-0eda-47a4-e87c-4f7fcac97025"
      },
      "source": [
        "# распределение продаж игр по годам для ps4\n",
        "df.query('platform == \"ps4\"').pivot_table(index=['platform','year_of_release'], \\\n",
        "values=['world_sales'], aggfunc='sum').plot(kind='bar', y='world_sales', figsize=(8, 4), grid=True)\n",
        "plt.xlabel('Годы продаж',  fontsize=16, fontweight='normal')\n",
        "plt.ylabel('Суммарные продажи', fontsize=16, fontweight='normal')\n",
        "plt.title('Распределения суммарных продаж игр \"PS4\" по годам', fontsize=16, fontweight='normal')\n",
        "plt.show()"
      ],
      "execution_count": null,
      "outputs": [
        {
          "output_type": "display_data",
          "data": {
            "image/png": "[encoded data removed]",
            "text/plain": [
              "<Figure size 576x288 with 1 Axes>"
            ]
          },
          "metadata": {
            "tags": [],
            "needs_background": "light"
          }
        }
      ]
    },
    {
      "cell_type": "markdown",
      "metadata": {
        "id": "sUbYc7C_gCqH"
      },
      "source": [
        "## `XONE`"
      ]
    },
    {
      "cell_type": "code",
      "metadata": {
        "scrolled": true,
        "id": "y0uP8qnFgCqI",
        "outputId": "161b7d39-e7f8-4a97-c4da-df74eab8c0d5"
      },
      "source": [
        "# распределение продаж игр по годам для xone\n",
        "df.query('platform == \"xone\"').pivot_table(index=['platform','year_of_release'], \\\n",
        "values=['world_sales'], aggfunc='sum').plot(kind='bar', y='world_sales', figsize=(8, 4), grid=True)\n",
        "plt.xlabel('Годы продаж',  fontsize=16, fontweight='normal')\n",
        "plt.ylabel('Суммарные продажи', fontsize=16, fontweight='normal')\n",
        "plt.title('Распределения суммарных продаж игр \"xone\" по годам', fontsize=16, fontweight='normal')\n",
        "plt.show()"
      ],
      "execution_count": null,
      "outputs": [
        {
          "output_type": "display_data",
          "data": {
            "image/png": "[encoded data removed]",
            "text/plain": [
              "<Figure size 576x288 with 1 Axes>"
            ]
          },
          "metadata": {
            "tags": [],
            "needs_background": "light"
          }
        }
      ]
    },
    {
      "cell_type": "markdown",
      "metadata": {
        "id": "q_TU4LFWgCqJ"
      },
      "source": [
        "## `3DS`"
      ]
    },
    {
      "cell_type": "code",
      "metadata": {
        "id": "JuxfsgkfgCqK",
        "outputId": "956b1981-ccff-4c6e-aca9-17b77694ab5b"
      },
      "source": [
        "# распределение продаж игр по годам для 3ds\n",
        "df.query('platform == \"3ds\"').pivot_table(index=['platform','year_of_release'], \\\n",
        "values=['world_sales'], aggfunc='sum').plot(kind='bar', y='world_sales', figsize=(8, 4), grid=True)\n",
        "plt.xlabel('Годы продаж',  fontsize=16, fontweight='normal')\n",
        "plt.ylabel('Суммарные продажи', fontsize=16, fontweight='normal')\n",
        "plt.title('Распределения суммарных продаж игр \"3ds\" по годам', fontsize=16, fontweight='normal')\n",
        "plt.show()"
      ],
      "execution_count": null,
      "outputs": [
        {
          "output_type": "display_data",
          "data": {
            "image/png": "[encoded data removed]",
            "text/plain": [
              "<Figure size 576x288 with 1 Axes>"
            ]
          },
          "metadata": {
            "tags": [],
            "needs_background": "light"
          }
        }
      ]
    },
    {
      "cell_type": "markdown",
      "metadata": {
        "id": "hH5robvOgCqL"
      },
      "source": [
        "## `WIIU`"
      ]
    },
    {
      "cell_type": "code",
      "metadata": {
        "id": "xmMfxS4agCqL",
        "outputId": "43b5c63e-c50b-47d5-cbd4-a04862e70860"
      },
      "source": [
        "# распределение продаж игр по годам для wiiu\n",
        "df.query('platform == \"wiiu\"').pivot_table(index=['platform','year_of_release'], \\\n",
        "values=['world_sales'], aggfunc='sum').plot(kind='bar', y='world_sales', figsize=(8, 4), grid=True)\n",
        "plt.xlabel('Годы продаж',  fontsize=16, fontweight='normal')\n",
        "plt.ylabel('Суммарные продажи', fontsize=16, fontweight='normal')\n",
        "plt.title('Распределения суммарных продаж игр \"wiiu\" по годам', fontsize=16, fontweight='normal')\n",
        "plt.show()"
      ],
      "execution_count": null,
      "outputs": [
        {
          "output_type": "display_data",
          "data": {
            "image/png": "[encoded data removed]",
            "text/plain": [
              "<Figure size 576x288 with 1 Axes>"
            ]
          },
          "metadata": {
            "tags": [],
            "needs_background": "light"
          }
        }
      ]
    },
    {
      "cell_type": "markdown",
      "metadata": {
        "id": "IIpMpOTngCqM"
      },
      "source": [
        "## `PC`"
      ]
    },
    {
      "cell_type": "code",
      "metadata": {
        "scrolled": true,
        "id": "q2OxvVkfgCqN",
        "outputId": "f835a34e-146e-4d52-e5af-fe22f049f979"
      },
      "source": [
        "# распределение продаж игр по годам для pc\n",
        "df.query('platform == \"pc\"').pivot_table(index=['platform','year_of_release'], \\\n",
        "values=['world_sales'], aggfunc='sum').plot(kind='bar', y='world_sales', figsize=(12, 4), grid=True)\n",
        "plt.xlabel('Годы продаж',  fontsize=16, fontweight='normal')\n",
        "plt.ylabel('Суммарные продажи', fontsize=16, fontweight='normal')\n",
        "plt.title('Распределения суммарных продаж игр \"pc\" по годам', fontsize=16, fontweight='normal')\n",
        "plt.show()"
      ],
      "execution_count": null,
      "outputs": [
        {
          "output_type": "display_data",
          "data": {
            "image/png": "[encoded data removed]",
            "text/plain": [
              "<Figure size 864x288 with 1 Axes>"
            ]
          },
          "metadata": {
            "tags": [],
            "needs_background": "light"
          }
        }
      ]
    },
    {
      "cell_type": "markdown",
      "metadata": {
        "id": "_kNH4kdOgCqO"
      },
      "source": [
        "Посмотрели также количество выпускаемых игр для компьютеров по годам, так как стационарный компьютер пока сложно списывать со счетов. Заметили, что при снижении общих суммарных продаж, количество выпускаемых игр не только не снижается, но и немного возрастает в последние 3 года."
      ]
    },
    {
      "cell_type": "code",
      "metadata": {
        "id": "EoaRackbgCqO",
        "outputId": "b75a32a3-d351-4b08-fee2-728da3b95a3d"
      },
      "source": [
        "# гистограмма распределения количества выпускаемых игр pc\n",
        "df.query('platform == \"pc\"').hist(column='year_of_release', bins=65, figsize=(12, 5))\n",
        "plt.xlabel('Годы выпуска',  fontsize=16, fontweight='normal')\n",
        "plt.ylabel('Частотность', fontsize=16, fontweight='normal')\n",
        "plt.title('Гистограмма распределения количества выпускаемых игр для \"PC\" по годам', fontsize=16, fontweight='normal')\n",
        "plt.show()"
      ],
      "execution_count": null,
      "outputs": [
        {
          "output_type": "display_data",
          "data": {
            "image/png": "[encoded data removed]",
            "text/plain": [
              "<Figure size 864x360 with 1 Axes>"
            ]
          },
          "metadata": {
            "tags": [],
            "needs_background": "light"
          }
        }
      ]
    },
    {
      "cell_type": "markdown",
      "metadata": {
        "id": "guZl_9dOgCqP"
      },
      "source": [
        "## `PS3 и X360`"
      ]
    },
    {
      "cell_type": "markdown",
      "metadata": {
        "id": "ypNi6eYSgCqQ"
      },
      "source": [
        "Прошлое поколение приставок PS3 и X360 также сдают позиции после выхода обновленных платформ."
      ]
    },
    {
      "cell_type": "code",
      "metadata": {
        "scrolled": true,
        "id": "W8iP7c83gCqQ",
        "outputId": "83f3c24b-70b0-4153-b9e4-03bdb78b289a"
      },
      "source": [
        "# распределение продаж игр по годам для ps3\n",
        "df.query('platform == \"ps3\"').pivot_table(index=['platform','year_of_release'], \\\n",
        "values=['world_sales'], aggfunc='sum').plot(kind='bar', y='world_sales', figsize=(8, 4), grid=True)\n",
        "plt.xlabel('Годы продаж',  fontsize=16, fontweight='normal')\n",
        "plt.ylabel('Суммарные продажи', fontsize=16, fontweight='normal')\n",
        "plt.title('Распределения суммарных продаж игр \"ps3\" по годам', fontsize=16, fontweight='normal')\n",
        "plt.show()"
      ],
      "execution_count": null,
      "outputs": [
        {
          "output_type": "display_data",
          "data": {
            "image/png": "[encoded data removed]",
            "text/plain": [
              "<Figure size 576x288 with 1 Axes>"
            ]
          },
          "metadata": {
            "tags": [],
            "needs_background": "light"
          }
        }
      ]
    },
    {
      "cell_type": "code",
      "metadata": {
        "scrolled": true,
        "id": "Cm2gEwZygCqR",
        "outputId": "0b69d14b-d6ae-4282-b08e-16a0220e8e32"
      },
      "source": [
        "# распределение продаж игр по годам для x360\n",
        "df.query('platform == \"x360\"').pivot_table(index=['platform','year_of_release'], \\\n",
        "values=['world_sales'], aggfunc='sum').plot(kind='bar', y='world_sales', figsize=(8, 4), grid=True)\n",
        "plt.xlabel('Годы продаж',  fontsize=16, fontweight='normal')\n",
        "plt.ylabel('Суммарные продажи', fontsize=16, fontweight='normal')\n",
        "plt.title('Распределения суммарных продаж игр \"x360\" по годам', fontsize=16, fontweight='normal')\n",
        "plt.show()"
      ],
      "execution_count": null,
      "outputs": [
        {
          "output_type": "display_data",
          "data": {
            "image/png": "[encoded data removed]",
            "text/plain": [
              "<Figure size 576x288 with 1 Axes>"
            ]
          },
          "metadata": {
            "tags": [],
            "needs_background": "light"
          }
        }
      ]
    },
    {
      "cell_type": "markdown",
      "metadata": {
        "id": "ZmaUizbkgCqS"
      },
      "source": [
        "***"
      ]
    },
    {
      "cell_type": "markdown",
      "metadata": {
        "id": "iHXMfFU-gCqU"
      },
      "source": [
        "* ### Определение актуального периода и потенциально прибыльных платформ <a id='3.2'></a> [^](#10)"
      ]
    },
    {
      "cell_type": "markdown",
      "metadata": {
        "id": "4vhprAsKgCqU"
      },
      "source": [
        "Проанализировав полученные распределения, мы можем установить в качестве актуального периода срок,равный 3 годам, с момента выхода новых приставок Sony и Microsoft. Более ранние данные уже не имеют актуальности и не релевантны.  \n",
        "\n",
        "В качестве потенциально прибыльных платформ мы выбрали: PS4, XOne, PC, 3DS. Две конкурирующие стационарные приставки, мобильная приставка и классические игры на компьютере находятся в разных группах пользования. Поэтому несмотря на снижающиеся объёмы продаж 3DS и PC, они также были выбраны в качестве \"последнего вагона\" уходящего поезда.)\n"
      ]
    },
    {
      "cell_type": "code",
      "metadata": {
        "scrolled": true,
        "id": "8BPFfzjngCqV",
        "outputId": "b02462ac-5640-47c5-c5c5-9b483fdbdcf4"
      },
      "source": [
        "# создание среза актуальных данных с потенциально прибыльными платформами \n",
        "df_actual = df.query('year_of_release > 2013 and (platform == \"ps4\" or platform == \"xone\" or \\\n",
        "                     platform == \"pc\" or platform == \"3ds\")').reset_index(drop=True)\n",
        "df_actual"
      ],
      "execution_count": null,
      "outputs": [
        {
          "output_type": "execute_result",
          "data": {
            "text/html": [
              "<div>\n",
              "<style scoped>\n",
              "    .dataframe tbody tr th:only-of-type {\n",
              "        vertical-align: middle;\n",
              "    }\n",
              "\n",
              "    .dataframe tbody tr th {\n",
              "        vertical-align: top;\n",
              "    }\n",
              "\n",
              "    .dataframe thead th {\n",
              "        text-align: right;\n",
              "    }\n",
              "</style>\n",
              "<table border=\"1\" class=\"dataframe\">\n",
              "  <thead>\n",
              "    <tr style=\"text-align: right;\">\n",
              "      <th></th>\n",
              "      <th>name</th>\n",
              "      <th>platform</th>\n",
              "      <th>year_of_release</th>\n",
              "      <th>genre</th>\n",
              "      <th>na_sales</th>\n",
              "      <th>eu_sales</th>\n",
              "      <th>jp_sales</th>\n",
              "      <th>other_sales</th>\n",
              "      <th>critic_score</th>\n",
              "      <th>user_score</th>\n",
              "      <th>rating</th>\n",
              "      <th>number_rating</th>\n",
              "      <th>world_sales</th>\n",
              "    </tr>\n",
              "  </thead>\n",
              "  <tbody>\n",
              "    <tr>\n",
              "      <td>0</td>\n",
              "      <td>call of duty: black ops 3</td>\n",
              "      <td>ps4</td>\n",
              "      <td>2015</td>\n",
              "      <td>shooter</td>\n",
              "      <td>6.03</td>\n",
              "      <td>5.86</td>\n",
              "      <td>0.36</td>\n",
              "      <td>2.38</td>\n",
              "      <td>NaN</td>\n",
              "      <td>NaN</td>\n",
              "      <td>NaN</td>\n",
              "      <td>NaN</td>\n",
              "      <td>14.63</td>\n",
              "    </tr>\n",
              "    <tr>\n",
              "      <td>1</td>\n",
              "      <td>grand theft auto v</td>\n",
              "      <td>ps4</td>\n",
              "      <td>2014</td>\n",
              "      <td>action</td>\n",
              "      <td>3.96</td>\n",
              "      <td>6.31</td>\n",
              "      <td>0.38</td>\n",
              "      <td>1.97</td>\n",
              "      <td>97.0</td>\n",
              "      <td>8.3</td>\n",
              "      <td>M</td>\n",
              "      <td>17.0</td>\n",
              "      <td>12.62</td>\n",
              "    </tr>\n",
              "    <tr>\n",
              "      <td>2</td>\n",
              "      <td>pokemon omega ruby/pokemon alpha sapphire</td>\n",
              "      <td>3ds</td>\n",
              "      <td>2014</td>\n",
              "      <td>role-playing</td>\n",
              "      <td>4.35</td>\n",
              "      <td>3.49</td>\n",
              "      <td>3.10</td>\n",
              "      <td>0.74</td>\n",
              "      <td>NaN</td>\n",
              "      <td>NaN</td>\n",
              "      <td>NaN</td>\n",
              "      <td>NaN</td>\n",
              "      <td>11.68</td>\n",
              "    </tr>\n",
              "    <tr>\n",
              "      <td>3</td>\n",
              "      <td>fifa 16</td>\n",
              "      <td>ps4</td>\n",
              "      <td>2015</td>\n",
              "      <td>sports</td>\n",
              "      <td>1.12</td>\n",
              "      <td>6.12</td>\n",
              "      <td>0.06</td>\n",
              "      <td>1.28</td>\n",
              "      <td>82.0</td>\n",
              "      <td>4.3</td>\n",
              "      <td>E</td>\n",
              "      <td>6.0</td>\n",
              "      <td>8.58</td>\n",
              "    </tr>\n",
              "    <tr>\n",
              "      <td>4</td>\n",
              "      <td>star wars battlefront (2015)</td>\n",
              "      <td>ps4</td>\n",
              "      <td>2015</td>\n",
              "      <td>shooter</td>\n",
              "      <td>2.99</td>\n",
              "      <td>3.49</td>\n",
              "      <td>0.22</td>\n",
              "      <td>1.28</td>\n",
              "      <td>NaN</td>\n",
              "      <td>NaN</td>\n",
              "      <td>NaN</td>\n",
              "      <td>NaN</td>\n",
              "      <td>7.98</td>\n",
              "    </tr>\n",
              "    <tr>\n",
              "      <td>...</td>\n",
              "      <td>...</td>\n",
              "      <td>...</td>\n",
              "      <td>...</td>\n",
              "      <td>...</td>\n",
              "      <td>...</td>\n",
              "      <td>...</td>\n",
              "      <td>...</td>\n",
              "      <td>...</td>\n",
              "      <td>...</td>\n",
              "      <td>...</td>\n",
              "      <td>...</td>\n",
              "      <td>...</td>\n",
              "      <td>...</td>\n",
              "    </tr>\n",
              "    <tr>\n",
              "      <td>962</td>\n",
              "      <td>prison architect</td>\n",
              "      <td>xone</td>\n",
              "      <td>2016</td>\n",
              "      <td>action</td>\n",
              "      <td>0.01</td>\n",
              "      <td>0.00</td>\n",
              "      <td>0.00</td>\n",
              "      <td>0.00</td>\n",
              "      <td>74.0</td>\n",
              "      <td>6.7</td>\n",
              "      <td>NaN</td>\n",
              "      <td>NaN</td>\n",
              "      <td>0.01</td>\n",
              "    </tr>\n",
              "    <tr>\n",
              "      <td>963</td>\n",
              "      <td>fujiko f. fujio characters: great assembly! sl...</td>\n",
              "      <td>3ds</td>\n",
              "      <td>2014</td>\n",
              "      <td>action</td>\n",
              "      <td>0.00</td>\n",
              "      <td>0.00</td>\n",
              "      <td>0.01</td>\n",
              "      <td>0.00</td>\n",
              "      <td>NaN</td>\n",
              "      <td>NaN</td>\n",
              "      <td>NaN</td>\n",
              "      <td>NaN</td>\n",
              "      <td>0.01</td>\n",
              "    </tr>\n",
              "    <tr>\n",
              "      <td>964</td>\n",
              "      <td>metal gear solid v: the definitive experience</td>\n",
              "      <td>xone</td>\n",
              "      <td>2016</td>\n",
              "      <td>action</td>\n",
              "      <td>0.01</td>\n",
              "      <td>0.00</td>\n",
              "      <td>0.00</td>\n",
              "      <td>0.00</td>\n",
              "      <td>NaN</td>\n",
              "      <td>NaN</td>\n",
              "      <td>M</td>\n",
              "      <td>17.0</td>\n",
              "      <td>0.01</td>\n",
              "    </tr>\n",
              "    <tr>\n",
              "      <td>965</td>\n",
              "      <td>aikatsu stars! my special appeal</td>\n",
              "      <td>3ds</td>\n",
              "      <td>2016</td>\n",
              "      <td>action</td>\n",
              "      <td>0.00</td>\n",
              "      <td>0.00</td>\n",
              "      <td>0.01</td>\n",
              "      <td>0.00</td>\n",
              "      <td>NaN</td>\n",
              "      <td>NaN</td>\n",
              "      <td>NaN</td>\n",
              "      <td>NaN</td>\n",
              "      <td>0.01</td>\n",
              "    </tr>\n",
              "    <tr>\n",
              "      <td>966</td>\n",
              "      <td>metal gear solid v: ground zeroes</td>\n",
              "      <td>pc</td>\n",
              "      <td>2014</td>\n",
              "      <td>action</td>\n",
              "      <td>0.00</td>\n",
              "      <td>0.01</td>\n",
              "      <td>0.00</td>\n",
              "      <td>0.00</td>\n",
              "      <td>80.0</td>\n",
              "      <td>7.6</td>\n",
              "      <td>M</td>\n",
              "      <td>17.0</td>\n",
              "      <td>0.01</td>\n",
              "    </tr>\n",
              "  </tbody>\n",
              "</table>\n",
              "<p>967 rows × 13 columns</p>\n",
              "</div>"
            ],
            "text/plain": [
              "                                                  name platform  \\\n",
              "0                            call of duty: black ops 3      ps4   \n",
              "1                                   grand theft auto v      ps4   \n",
              "2            pokemon omega ruby/pokemon alpha sapphire      3ds   \n",
              "3                                              fifa 16      ps4   \n",
              "4                         star wars battlefront (2015)      ps4   \n",
              "..                                                 ...      ...   \n",
              "962                                   prison architect     xone   \n",
              "963  fujiko f. fujio characters: great assembly! sl...      3ds   \n",
              "964      metal gear solid v: the definitive experience     xone   \n",
              "965                   aikatsu stars! my special appeal      3ds   \n",
              "966                  metal gear solid v: ground zeroes       pc   \n",
              "\n",
              "     year_of_release         genre  na_sales  eu_sales  jp_sales  other_sales  \\\n",
              "0               2015       shooter      6.03      5.86      0.36         2.38   \n",
              "1               2014        action      3.96      6.31      0.38         1.97   \n",
              "2               2014  role-playing      4.35      3.49      3.10         0.74   \n",
              "3               2015        sports      1.12      6.12      0.06         1.28   \n",
              "4               2015       shooter      2.99      3.49      0.22         1.28   \n",
              "..               ...           ...       ...       ...       ...          ...   \n",
              "962             2016        action      0.01      0.00      0.00         0.00   \n",
              "963             2014        action      0.00      0.00      0.01         0.00   \n",
              "964             2016        action      0.01      0.00      0.00         0.00   \n",
              "965             2016        action      0.00      0.00      0.01         0.00   \n",
              "966             2014        action      0.00      0.01      0.00         0.00   \n",
              "\n",
              "     critic_score  user_score rating  number_rating  world_sales  \n",
              "0             NaN         NaN    NaN            NaN        14.63  \n",
              "1            97.0         8.3      M           17.0        12.62  \n",
              "2             NaN         NaN    NaN            NaN        11.68  \n",
              "3            82.0         4.3      E            6.0         8.58  \n",
              "4             NaN         NaN    NaN            NaN         7.98  \n",
              "..            ...         ...    ...            ...          ...  \n",
              "962          74.0         6.7    NaN            NaN         0.01  \n",
              "963           NaN         NaN    NaN            NaN         0.01  \n",
              "964           NaN         NaN      M           17.0         0.01  \n",
              "965           NaN         NaN    NaN            NaN         0.01  \n",
              "966          80.0         7.6      M           17.0         0.01  \n",
              "\n",
              "[967 rows x 13 columns]"
            ]
          },
          "metadata": {
            "tags": []
          },
          "execution_count": 30
        }
      ]
    },
    {
      "cell_type": "markdown",
      "metadata": {
        "id": "Sa9AHHCSgCqW"
      },
      "source": [
        "***"
      ]
    },
    {
      "cell_type": "markdown",
      "metadata": {
        "id": "UEDobffPgCqX"
      },
      "source": [
        "* ### Глобальные продажи игр в разбивке по прибыльным платформам <a id='3.3'></a> [^](#10)"
      ]
    },
    {
      "cell_type": "markdown",
      "metadata": {
        "id": "DBxvg3btgCqX"
      },
      "source": [
        "Построили график «ящик с усами» по глобальным продажам игр в разбивке по платформам."
      ]
    },
    {
      "cell_type": "code",
      "metadata": {
        "id": "-StIz_s4gCqY",
        "outputId": "5e9500d3-3939-4baa-874f-925809417f84"
      },
      "source": [
        "# числовое описание мировых продаж игр\n",
        "df_actual['world_sales'].describe()"
      ],
      "execution_count": null,
      "outputs": [
        {
          "output_type": "execute_result",
          "data": {
            "text/plain": [
              "count    967.000000\n",
              "mean       0.560745\n",
              "std        1.280676\n",
              "min        0.010000\n",
              "25%        0.040000\n",
              "50%        0.130000\n",
              "75%        0.455000\n",
              "max       14.630000\n",
              "Name: world_sales, dtype: float64"
            ]
          },
          "metadata": {
            "tags": []
          },
          "execution_count": 31
        }
      ]
    },
    {
      "cell_type": "code",
      "metadata": {
        "id": "uVrvDZlTgCqZ",
        "outputId": "39b3aaea-b3b5-4baf-c13e-4426c16a24fd"
      },
      "source": [
        "# диаграмма размаха глобальных продаж игр по платформам\n",
        "df_actual.boxplot('world_sales', by='platform', figsize=(12, 7))\n",
        "plt.ylim(0, 2.5)\n",
        "plt.show()"
      ],
      "execution_count": null,
      "outputs": [
        {
          "output_type": "stream",
          "text": [
            "/opt/conda/lib/python3.7/site-packages/numpy/core/_asarray.py:83: VisibleDeprecationWarning: Creating an ndarray from ragged nested sequences (which is a list-or-tuple of lists-or-tuples-or ndarrays with different lengths or shapes) is deprecated. If you meant to do this, you must specify 'dtype=object' when creating the ndarray\n",
            "  return array(a, dtype, copy=False, order=order)\n"
          ],
          "name": "stderr"
        },
        {
          "output_type": "display_data",
          "data": {
            "image/png": "[encoded data removed]",
            "text/plain": [
              "<Figure size 864x504 with 1 Axes>"
            ]
          },
          "metadata": {
            "tags": [],
            "needs_background": "light"
          }
        }
      ]
    },
    {
      "cell_type": "markdown",
      "metadata": {
        "id": "X7cxmHg5gCqa"
      },
      "source": [
        "Числовое описание глобальных продаж говорит нам, что большинство игр укладывается в 0,5 млн проданных копий, судя по 3 квартилю. Однако медиана в разы меньше среднего, и выброс в 14 млн копий игры показывает наличие сверхпопулярных игровых предпочтений.  \n",
        "При разбивке данных по платформам, диаграмма размаха существенно различает предпочтения игроков. Две игровых приставки PS4 и Xone захватывают на себя большинство популярных игр. Верхние усы у обеих приставок идут почти вровень - 1,5-межквартильный размах достигает 1,5 млн продаж. Также у обеих приставок есть множество выбросов в виде 2 млн и выше проданных игр. Это логично - все новые игры лучше выпускать на самых популярных платформах для увеличения охвата пользователей. Игры на 3DS и PC в среднем продаются меньшим числом копий - верхний ус в пределах 0,5 млн - даже несмотря на \"выбросы\" сверхуспешных игр за 1 млн. и выше."
      ]
    },
    {
      "cell_type": "markdown",
      "metadata": {
        "id": "5B_WdefUgCqa"
      },
      "source": [
        "Посмотрели долю сверхуспешных игр в общих продажах по платформам."
      ]
    },
    {
      "cell_type": "code",
      "metadata": {
        "id": "5aVXSvgYgCqb",
        "outputId": "731ece6d-fcda-4507-fe50-da4b9b41ce66"
      },
      "source": [
        "# нахождение доли продаж сверхуспешных игр по платформам\n",
        "sum_all = df_actual.pivot_table(index='platform', values=['world_sales'], aggfunc='sum')\n",
        "sum_success = df_actual.query('world_sales > 1.7').pivot_table(index='platform', values=['world_sales'], aggfunc='sum')\n",
        "share_sum = (sum_success / sum_all) * 100\n",
        "share_sum.columns = ['world_sales%']\n",
        "share_sum"
      ],
      "execution_count": null,
      "outputs": [
        {
          "output_type": "execute_result",
          "data": {
            "text/html": [
              "<div>\n",
              "<style scoped>\n",
              "    .dataframe tbody tr th:only-of-type {\n",
              "        vertical-align: middle;\n",
              "    }\n",
              "\n",
              "    .dataframe tbody tr th {\n",
              "        vertical-align: top;\n",
              "    }\n",
              "\n",
              "    .dataframe thead th {\n",
              "        text-align: right;\n",
              "    }\n",
              "</style>\n",
              "<table border=\"1\" class=\"dataframe\">\n",
              "  <thead>\n",
              "    <tr style=\"text-align: right;\">\n",
              "      <th></th>\n",
              "      <th>world_sales%</th>\n",
              "    </tr>\n",
              "    <tr>\n",
              "      <th>platform</th>\n",
              "      <th></th>\n",
              "    </tr>\n",
              "  </thead>\n",
              "  <tbody>\n",
              "    <tr>\n",
              "      <td>3ds</td>\n",
              "      <td>56.587448</td>\n",
              "    </tr>\n",
              "    <tr>\n",
              "      <td>pc</td>\n",
              "      <td>11.275416</td>\n",
              "    </tr>\n",
              "    <tr>\n",
              "      <td>ps4</td>\n",
              "      <td>68.065244</td>\n",
              "    </tr>\n",
              "    <tr>\n",
              "      <td>xone</td>\n",
              "      <td>51.859504</td>\n",
              "    </tr>\n",
              "  </tbody>\n",
              "</table>\n",
              "</div>"
            ],
            "text/plain": [
              "          world_sales%\n",
              "platform              \n",
              "3ds          56.587448\n",
              "pc           11.275416\n",
              "ps4          68.065244\n",
              "xone         51.859504"
            ]
          },
          "metadata": {
            "tags": []
          },
          "execution_count": 33
        }
      ]
    },
    {
      "cell_type": "code",
      "metadata": {
        "id": "KtnNQExMgCqc",
        "outputId": "0edcd014-e599-42d5-bd12-e87e89ab2f65"
      },
      "source": [
        "# нахождение доли количества сверхуспешных игр по платформам\n",
        "count_all = df_actual.pivot_table(index='platform', values=['name'], aggfunc='count')\n",
        "count_success = df_actual.query('world_sales > 1.7').pivot_table(index='platform', values=['name'], aggfunc='count')\n",
        "share_count = (count_success / count_all) * 100\n",
        "share_count.columns = ['number_games%']\n",
        "share_count"
      ],
      "execution_count": null,
      "outputs": [
        {
          "output_type": "execute_result",
          "data": {
            "text/html": [
              "<div>\n",
              "<style scoped>\n",
              "    .dataframe tbody tr th:only-of-type {\n",
              "        vertical-align: middle;\n",
              "    }\n",
              "\n",
              "    .dataframe tbody tr th {\n",
              "        vertical-align: top;\n",
              "    }\n",
              "\n",
              "    .dataframe thead th {\n",
              "        text-align: right;\n",
              "    }\n",
              "</style>\n",
              "<table border=\"1\" class=\"dataframe\">\n",
              "  <thead>\n",
              "    <tr style=\"text-align: right;\">\n",
              "      <th></th>\n",
              "      <th>number_games%</th>\n",
              "    </tr>\n",
              "    <tr>\n",
              "      <th>platform</th>\n",
              "      <th></th>\n",
              "    </tr>\n",
              "  </thead>\n",
              "  <tbody>\n",
              "    <tr>\n",
              "      <td>3ds</td>\n",
              "      <td>5.188679</td>\n",
              "    </tr>\n",
              "    <tr>\n",
              "      <td>pc</td>\n",
              "      <td>0.662252</td>\n",
              "    </tr>\n",
              "    <tr>\n",
              "      <td>ps4</td>\n",
              "      <td>13.297872</td>\n",
              "    </tr>\n",
              "    <tr>\n",
              "      <td>xone</td>\n",
              "      <td>9.649123</td>\n",
              "    </tr>\n",
              "  </tbody>\n",
              "</table>\n",
              "</div>"
            ],
            "text/plain": [
              "          number_games%\n",
              "platform               \n",
              "3ds            5.188679\n",
              "pc             0.662252\n",
              "ps4           13.297872\n",
              "xone           9.649123"
            ]
          },
          "metadata": {
            "tags": []
          },
          "execution_count": 34
        }
      ]
    },
    {
      "cell_type": "markdown",
      "metadata": {
        "id": "KU7Jzht-gCqd"
      },
      "source": [
        "Для PS4 - 13 % выпущенных игр обеспечивают почти 70 % мировых продаж. Для Xone - 10 % выпущенных игр обеспечивают половину 50 % глобальной выручки. Как оказалось выбросы на диаграмме размаха не так просты, и иногда могут сказать больше, чем от них ожидалось."
      ]
    },
    {
      "cell_type": "markdown",
      "metadata": {
        "id": "Mj2vPCp1gCqd"
      },
      "source": [
        "***"
      ]
    },
    {
      "cell_type": "markdown",
      "metadata": {
        "id": "OrYLLSc6gCqe"
      },
      "source": [
        "* ### Корреляция прибыльной платформы от оценок пользователей и критиков <a id='3.4'></a> [^](#10)"
      ]
    },
    {
      "cell_type": "markdown",
      "metadata": {
        "id": "qi6di4jKgCqf"
      },
      "source": [
        "Взяли самую популярную платформу PS4 и выявили зависимость прибыльности от оценок пользователей и критиков."
      ]
    },
    {
      "cell_type": "code",
      "metadata": {
        "id": "D7cbgx3XgCqf"
      },
      "source": [
        "# выбор ps4 в качестве образца для анализа\n",
        "df_ps4 = df_actual.query('platform == \"ps4\"').reset_index(drop=True)"
      ],
      "execution_count": null,
      "outputs": []
    },
    {
      "cell_type": "code",
      "metadata": {
        "id": "bRjgQ79_gCqg",
        "outputId": "09ded177-f446-41ca-a5bc-5ca88141add0"
      },
      "source": [
        "# вызов матрицы корреляции для ps4\n",
        "df_ps4[['world_sales', 'critic_score', 'user_score']].corr()"
      ],
      "execution_count": null,
      "outputs": [
        {
          "output_type": "execute_result",
          "data": {
            "text/html": [
              "<div>\n",
              "<style scoped>\n",
              "    .dataframe tbody tr th:only-of-type {\n",
              "        vertical-align: middle;\n",
              "    }\n",
              "\n",
              "    .dataframe tbody tr th {\n",
              "        vertical-align: top;\n",
              "    }\n",
              "\n",
              "    .dataframe thead th {\n",
              "        text-align: right;\n",
              "    }\n",
              "</style>\n",
              "<table border=\"1\" class=\"dataframe\">\n",
              "  <thead>\n",
              "    <tr style=\"text-align: right;\">\n",
              "      <th></th>\n",
              "      <th>world_sales</th>\n",
              "      <th>critic_score</th>\n",
              "      <th>user_score</th>\n",
              "    </tr>\n",
              "  </thead>\n",
              "  <tbody>\n",
              "    <tr>\n",
              "      <td>world_sales</td>\n",
              "      <td>1.000000</td>\n",
              "      <td>0.402661</td>\n",
              "      <td>-0.040132</td>\n",
              "    </tr>\n",
              "    <tr>\n",
              "      <td>critic_score</td>\n",
              "      <td>0.402661</td>\n",
              "      <td>1.000000</td>\n",
              "      <td>0.546434</td>\n",
              "    </tr>\n",
              "    <tr>\n",
              "      <td>user_score</td>\n",
              "      <td>-0.040132</td>\n",
              "      <td>0.546434</td>\n",
              "      <td>1.000000</td>\n",
              "    </tr>\n",
              "  </tbody>\n",
              "</table>\n",
              "</div>"
            ],
            "text/plain": [
              "              world_sales  critic_score  user_score\n",
              "world_sales      1.000000      0.402661   -0.040132\n",
              "critic_score     0.402661      1.000000    0.546434\n",
              "user_score      -0.040132      0.546434    1.000000"
            ]
          },
          "metadata": {
            "tags": []
          },
          "execution_count": 36
        }
      ]
    },
    {
      "cell_type": "code",
      "metadata": {
        "id": "24fEP_Z1gCqh",
        "outputId": "aa292c71-4b2e-4de2-c49d-edc867471917"
      },
      "source": [
        "# диаграммы корреляции между разными параметрами\n",
        "pd.plotting.scatter_matrix(df_ps4[['world_sales', 'critic_score', 'user_score']], figsize=(12, 12))\n",
        "plt.show()"
      ],
      "execution_count": null,
      "outputs": [
        {
          "output_type": "display_data",
          "data": {
            "image/png": "[encoded data removed]",
            "text/plain": [
              "<Figure size 864x864 with 9 Axes>"
            ]
          },
          "metadata": {
            "tags": [],
            "needs_background": "light"
          }
        }
      ]
    },
    {
      "cell_type": "markdown",
      "metadata": {
        "id": "QT42ravegCqi"
      },
      "source": [
        "Мы видим, что из числовых данных прямая корреляция между мировыми продажами игр о оценками критиков довольна сильна (0,4). Это говорит о субъективном факторе доверия мнениям профессиональных людей при покупке игры покупателями. Мнения же других игроков покупатели практически полностью игнорируют - корреляция ~ 0,04. "
      ]
    },
    {
      "cell_type": "code",
      "metadata": {
        "id": "Ej-9Q3rogCqj",
        "outputId": "70e8116f-4274-4878-bf74-74ccf95ae3cf"
      },
      "source": [
        "# вызов матрицы корреляции для xone\n",
        "df_actual.query('platform == \"xone\"')[['world_sales', 'critic_score', 'user_score']].corr()"
      ],
      "execution_count": null,
      "outputs": [
        {
          "output_type": "execute_result",
          "data": {
            "text/html": [
              "<div>\n",
              "<style scoped>\n",
              "    .dataframe tbody tr th:only-of-type {\n",
              "        vertical-align: middle;\n",
              "    }\n",
              "\n",
              "    .dataframe tbody tr th {\n",
              "        vertical-align: top;\n",
              "    }\n",
              "\n",
              "    .dataframe thead th {\n",
              "        text-align: right;\n",
              "    }\n",
              "</style>\n",
              "<table border=\"1\" class=\"dataframe\">\n",
              "  <thead>\n",
              "    <tr style=\"text-align: right;\">\n",
              "      <th></th>\n",
              "      <th>world_sales</th>\n",
              "      <th>critic_score</th>\n",
              "      <th>user_score</th>\n",
              "    </tr>\n",
              "  </thead>\n",
              "  <tbody>\n",
              "    <tr>\n",
              "      <td>world_sales</td>\n",
              "      <td>1.000000</td>\n",
              "      <td>0.428677</td>\n",
              "      <td>-0.070384</td>\n",
              "    </tr>\n",
              "    <tr>\n",
              "      <td>critic_score</td>\n",
              "      <td>0.428677</td>\n",
              "      <td>1.000000</td>\n",
              "      <td>0.440977</td>\n",
              "    </tr>\n",
              "    <tr>\n",
              "      <td>user_score</td>\n",
              "      <td>-0.070384</td>\n",
              "      <td>0.440977</td>\n",
              "      <td>1.000000</td>\n",
              "    </tr>\n",
              "  </tbody>\n",
              "</table>\n",
              "</div>"
            ],
            "text/plain": [
              "              world_sales  critic_score  user_score\n",
              "world_sales      1.000000      0.428677   -0.070384\n",
              "critic_score     0.428677      1.000000    0.440977\n",
              "user_score      -0.070384      0.440977    1.000000"
            ]
          },
          "metadata": {
            "tags": []
          },
          "execution_count": 38
        }
      ]
    },
    {
      "cell_type": "code",
      "metadata": {
        "scrolled": true,
        "id": "kuLgUBxcgCqk",
        "outputId": "6401756d-9c2b-487c-d9cd-bc44dd50c2ec"
      },
      "source": [
        "# вызов матрицы корреляции для 3ds\n",
        "df_actual.query('platform == \"3ds\"')[['world_sales', 'critic_score', 'user_score']].corr()"
      ],
      "execution_count": null,
      "outputs": [
        {
          "output_type": "execute_result",
          "data": {
            "text/html": [
              "<div>\n",
              "<style scoped>\n",
              "    .dataframe tbody tr th:only-of-type {\n",
              "        vertical-align: middle;\n",
              "    }\n",
              "\n",
              "    .dataframe tbody tr th {\n",
              "        vertical-align: top;\n",
              "    }\n",
              "\n",
              "    .dataframe thead th {\n",
              "        text-align: right;\n",
              "    }\n",
              "</style>\n",
              "<table border=\"1\" class=\"dataframe\">\n",
              "  <thead>\n",
              "    <tr style=\"text-align: right;\">\n",
              "      <th></th>\n",
              "      <th>world_sales</th>\n",
              "      <th>critic_score</th>\n",
              "      <th>user_score</th>\n",
              "    </tr>\n",
              "  </thead>\n",
              "  <tbody>\n",
              "    <tr>\n",
              "      <td>world_sales</td>\n",
              "      <td>1.000000</td>\n",
              "      <td>0.314117</td>\n",
              "      <td>0.215193</td>\n",
              "    </tr>\n",
              "    <tr>\n",
              "      <td>critic_score</td>\n",
              "      <td>0.314117</td>\n",
              "      <td>1.000000</td>\n",
              "      <td>0.862485</td>\n",
              "    </tr>\n",
              "    <tr>\n",
              "      <td>user_score</td>\n",
              "      <td>0.215193</td>\n",
              "      <td>0.862485</td>\n",
              "      <td>1.000000</td>\n",
              "    </tr>\n",
              "  </tbody>\n",
              "</table>\n",
              "</div>"
            ],
            "text/plain": [
              "              world_sales  critic_score  user_score\n",
              "world_sales      1.000000      0.314117    0.215193\n",
              "critic_score     0.314117      1.000000    0.862485\n",
              "user_score       0.215193      0.862485    1.000000"
            ]
          },
          "metadata": {
            "tags": []
          },
          "execution_count": 39
        }
      ]
    },
    {
      "cell_type": "code",
      "metadata": {
        "id": "COUH1RFzgCqk",
        "outputId": "368b759a-cf4d-4e38-8b66-67af29ef1d53"
      },
      "source": [
        "# вызов матрицы корреляции для pc\n",
        "df_actual.query('platform == \"pc\"')[['world_sales', 'critic_score', 'user_score']].corr()"
      ],
      "execution_count": null,
      "outputs": [
        {
          "output_type": "execute_result",
          "data": {
            "text/html": [
              "<div>\n",
              "<style scoped>\n",
              "    .dataframe tbody tr th:only-of-type {\n",
              "        vertical-align: middle;\n",
              "    }\n",
              "\n",
              "    .dataframe tbody tr th {\n",
              "        vertical-align: top;\n",
              "    }\n",
              "\n",
              "    .dataframe thead th {\n",
              "        text-align: right;\n",
              "    }\n",
              "</style>\n",
              "<table border=\"1\" class=\"dataframe\">\n",
              "  <thead>\n",
              "    <tr style=\"text-align: right;\">\n",
              "      <th></th>\n",
              "      <th>world_sales</th>\n",
              "      <th>critic_score</th>\n",
              "      <th>user_score</th>\n",
              "    </tr>\n",
              "  </thead>\n",
              "  <tbody>\n",
              "    <tr>\n",
              "      <td>world_sales</td>\n",
              "      <td>1.000000</td>\n",
              "      <td>0.174634</td>\n",
              "      <td>-0.071597</td>\n",
              "    </tr>\n",
              "    <tr>\n",
              "      <td>critic_score</td>\n",
              "      <td>0.174634</td>\n",
              "      <td>1.000000</td>\n",
              "      <td>0.466099</td>\n",
              "    </tr>\n",
              "    <tr>\n",
              "      <td>user_score</td>\n",
              "      <td>-0.071597</td>\n",
              "      <td>0.466099</td>\n",
              "      <td>1.000000</td>\n",
              "    </tr>\n",
              "  </tbody>\n",
              "</table>\n",
              "</div>"
            ],
            "text/plain": [
              "              world_sales  critic_score  user_score\n",
              "world_sales      1.000000      0.174634   -0.071597\n",
              "critic_score     0.174634      1.000000    0.466099\n",
              "user_score      -0.071597      0.466099    1.000000"
            ]
          },
          "metadata": {
            "tags": []
          },
          "execution_count": 40
        }
      ]
    },
    {
      "cell_type": "markdown",
      "metadata": {
        "id": "cpad6m8KgCql"
      },
      "source": [
        "Аналогичные выводы мы можем сделать и для приставки Xone - при покупке покупатели прислушиваются к мнению профессиональных критиков. Для мобильной приставки 3DS корреляции уже не столь очевидны, как и для игр, используемых на компьютере. У 3DS есть небольшая зависимость от мнения пользователей, но и в этом случае слабая связь мало спасает падающие продажи."
      ]
    },
    {
      "cell_type": "markdown",
      "metadata": {
        "id": "nIqRjcYxgCqm"
      },
      "source": [
        "***"
      ]
    },
    {
      "cell_type": "markdown",
      "metadata": {
        "id": "p0xa4W__gCqm"
      },
      "source": [
        "* ### Общее распределение по жанрам <a id='3.5'></a> [^](#10)"
      ]
    },
    {
      "cell_type": "markdown",
      "metadata": {
        "id": "fDWBfQudgCqn"
      },
      "source": [
        "Нашли распределение по жанрам покупаемых игр."
      ]
    },
    {
      "cell_type": "code",
      "metadata": {
        "scrolled": true,
        "id": "vBmrny7xgCqn",
        "outputId": "aefc6765-c1ef-4bce-e301-230f2f915455"
      },
      "source": [
        "# распределение жанров продаваемых игр по платформам\n",
        "df_actual.pivot_table(index=['platform', 'genre'], values=['world_sales'], aggfunc='sum')\\\n",
        ".sort_values(by=['platform', 'world_sales'], ascending=False)"
      ],
      "execution_count": null,
      "outputs": [
        {
          "output_type": "execute_result",
          "data": {
            "text/html": [
              "<div>\n",
              "<style scoped>\n",
              "    .dataframe tbody tr th:only-of-type {\n",
              "        vertical-align: middle;\n",
              "    }\n",
              "\n",
              "    .dataframe tbody tr th {\n",
              "        vertical-align: top;\n",
              "    }\n",
              "\n",
              "    .dataframe thead th {\n",
              "        text-align: right;\n",
              "    }\n",
              "</style>\n",
              "<table border=\"1\" class=\"dataframe\">\n",
              "  <thead>\n",
              "    <tr style=\"text-align: right;\">\n",
              "      <th></th>\n",
              "      <th></th>\n",
              "      <th>world_sales</th>\n",
              "    </tr>\n",
              "    <tr>\n",
              "      <th>platform</th>\n",
              "      <th>genre</th>\n",
              "      <th></th>\n",
              "    </tr>\n",
              "  </thead>\n",
              "  <tbody>\n",
              "    <tr>\n",
              "      <td rowspan=\"11\" valign=\"top\">xone</td>\n",
              "      <td>shooter</td>\n",
              "      <td>55.39</td>\n",
              "    </tr>\n",
              "    <tr>\n",
              "      <td>action</td>\n",
              "      <td>31.06</td>\n",
              "    </tr>\n",
              "    <tr>\n",
              "      <td>sports</td>\n",
              "      <td>23.68</td>\n",
              "    </tr>\n",
              "    <tr>\n",
              "      <td>role-playing</td>\n",
              "      <td>10.55</td>\n",
              "    </tr>\n",
              "    <tr>\n",
              "      <td>racing</td>\n",
              "      <td>6.89</td>\n",
              "    </tr>\n",
              "    <tr>\n",
              "      <td>misc</td>\n",
              "      <td>6.74</td>\n",
              "    </tr>\n",
              "    <tr>\n",
              "      <td>adventure</td>\n",
              "      <td>2.68</td>\n",
              "    </tr>\n",
              "    <tr>\n",
              "      <td>fighting</td>\n",
              "      <td>2.17</td>\n",
              "    </tr>\n",
              "    <tr>\n",
              "      <td>platform</td>\n",
              "      <td>0.62</td>\n",
              "    </tr>\n",
              "    <tr>\n",
              "      <td>simulation</td>\n",
              "      <td>0.33</td>\n",
              "    </tr>\n",
              "    <tr>\n",
              "      <td>strategy</td>\n",
              "      <td>0.25</td>\n",
              "    </tr>\n",
              "    <tr>\n",
              "      <td rowspan=\"12\" valign=\"top\">ps4</td>\n",
              "      <td>action</td>\n",
              "      <td>91.62</td>\n",
              "    </tr>\n",
              "    <tr>\n",
              "      <td>shooter</td>\n",
              "      <td>78.46</td>\n",
              "    </tr>\n",
              "    <tr>\n",
              "      <td>sports</td>\n",
              "      <td>50.01</td>\n",
              "    </tr>\n",
              "    <tr>\n",
              "      <td>role-playing</td>\n",
              "      <td>28.99</td>\n",
              "    </tr>\n",
              "    <tr>\n",
              "      <td>racing</td>\n",
              "      <td>10.16</td>\n",
              "    </tr>\n",
              "    <tr>\n",
              "      <td>misc</td>\n",
              "      <td>7.77</td>\n",
              "    </tr>\n",
              "    <tr>\n",
              "      <td>fighting</td>\n",
              "      <td>7.73</td>\n",
              "    </tr>\n",
              "    <tr>\n",
              "      <td>adventure</td>\n",
              "      <td>6.34</td>\n",
              "    </tr>\n",
              "    <tr>\n",
              "      <td>platform</td>\n",
              "      <td>5.42</td>\n",
              "    </tr>\n",
              "    <tr>\n",
              "      <td>simulation</td>\n",
              "      <td>1.23</td>\n",
              "    </tr>\n",
              "    <tr>\n",
              "      <td>strategy</td>\n",
              "      <td>0.40</td>\n",
              "    </tr>\n",
              "    <tr>\n",
              "      <td>puzzle</td>\n",
              "      <td>0.02</td>\n",
              "    </tr>\n",
              "    <tr>\n",
              "      <td rowspan=\"11\" valign=\"top\">pc</td>\n",
              "      <td>simulation</td>\n",
              "      <td>6.59</td>\n",
              "    </tr>\n",
              "    <tr>\n",
              "      <td>shooter</td>\n",
              "      <td>5.79</td>\n",
              "    </tr>\n",
              "    <tr>\n",
              "      <td>action</td>\n",
              "      <td>5.34</td>\n",
              "    </tr>\n",
              "    <tr>\n",
              "      <td>role-playing</td>\n",
              "      <td>4.87</td>\n",
              "    </tr>\n",
              "    <tr>\n",
              "      <td>strategy</td>\n",
              "      <td>2.29</td>\n",
              "    </tr>\n",
              "    <tr>\n",
              "      <td>sports</td>\n",
              "      <td>0.93</td>\n",
              "    </tr>\n",
              "    <tr>\n",
              "      <td>racing</td>\n",
              "      <td>0.64</td>\n",
              "    </tr>\n",
              "    <tr>\n",
              "      <td>adventure</td>\n",
              "      <td>0.39</td>\n",
              "    </tr>\n",
              "    <tr>\n",
              "      <td>fighting</td>\n",
              "      <td>0.10</td>\n",
              "    </tr>\n",
              "    <tr>\n",
              "      <td>platform</td>\n",
              "      <td>0.06</td>\n",
              "    </tr>\n",
              "    <tr>\n",
              "      <td>misc</td>\n",
              "      <td>0.05</td>\n",
              "    </tr>\n",
              "    <tr>\n",
              "      <td rowspan=\"10\" valign=\"top\">3ds</td>\n",
              "      <td>role-playing</td>\n",
              "      <td>40.02</td>\n",
              "    </tr>\n",
              "    <tr>\n",
              "      <td>action</td>\n",
              "      <td>22.06</td>\n",
              "    </tr>\n",
              "    <tr>\n",
              "      <td>fighting</td>\n",
              "      <td>8.10</td>\n",
              "    </tr>\n",
              "    <tr>\n",
              "      <td>simulation</td>\n",
              "      <td>4.13</td>\n",
              "    </tr>\n",
              "    <tr>\n",
              "      <td>platform</td>\n",
              "      <td>3.98</td>\n",
              "    </tr>\n",
              "    <tr>\n",
              "      <td>misc</td>\n",
              "      <td>3.85</td>\n",
              "    </tr>\n",
              "    <tr>\n",
              "      <td>adventure</td>\n",
              "      <td>1.57</td>\n",
              "    </tr>\n",
              "    <tr>\n",
              "      <td>sports</td>\n",
              "      <td>1.32</td>\n",
              "    </tr>\n",
              "    <tr>\n",
              "      <td>puzzle</td>\n",
              "      <td>0.87</td>\n",
              "    </tr>\n",
              "    <tr>\n",
              "      <td>strategy</td>\n",
              "      <td>0.78</td>\n",
              "    </tr>\n",
              "  </tbody>\n",
              "</table>\n",
              "</div>"
            ],
            "text/plain": [
              "                       world_sales\n",
              "platform genre                    \n",
              "xone     shooter             55.39\n",
              "         action              31.06\n",
              "         sports              23.68\n",
              "         role-playing        10.55\n",
              "         racing               6.89\n",
              "         misc                 6.74\n",
              "         adventure            2.68\n",
              "         fighting             2.17\n",
              "         platform             0.62\n",
              "         simulation           0.33\n",
              "         strategy             0.25\n",
              "ps4      action              91.62\n",
              "         shooter             78.46\n",
              "         sports              50.01\n",
              "         role-playing        28.99\n",
              "         racing              10.16\n",
              "         misc                 7.77\n",
              "         fighting             7.73\n",
              "         adventure            6.34\n",
              "         platform             5.42\n",
              "         simulation           1.23\n",
              "         strategy             0.40\n",
              "         puzzle               0.02\n",
              "pc       simulation           6.59\n",
              "         shooter              5.79\n",
              "         action               5.34\n",
              "         role-playing         4.87\n",
              "         strategy             2.29\n",
              "         sports               0.93\n",
              "         racing               0.64\n",
              "         adventure            0.39\n",
              "         fighting             0.10\n",
              "         platform             0.06\n",
              "         misc                 0.05\n",
              "3ds      role-playing        40.02\n",
              "         action              22.06\n",
              "         fighting             8.10\n",
              "         simulation           4.13\n",
              "         platform             3.98\n",
              "         misc                 3.85\n",
              "         adventure            1.57\n",
              "         sports               1.32\n",
              "         puzzle               0.87\n",
              "         strategy             0.78"
            ]
          },
          "metadata": {
            "tags": []
          },
          "execution_count": 41
        }
      ]
    },
    {
      "cell_type": "code",
      "metadata": {
        "id": "myxZV-YZgCqo",
        "outputId": "70a04436-3cf9-4d2a-94af-20c4bbac99cf"
      },
      "source": [
        "# общее распределение совокупных продаж от жанров\n",
        "df_actual.pivot_table(index=['genre'], values=['world_sales'], aggfunc='sum')\\\n",
        ".sort_values(by='world_sales', ascending=False).plot(kind='bar', y='world_sales', figsize=(10, 5), grid=True)\n",
        "plt.xlabel('Жанр',  fontsize=16, fontweight='normal')\n",
        "plt.ylabel('Суммарные продажи', fontsize=16, fontweight='normal')\n",
        "plt.show()"
      ],
      "execution_count": null,
      "outputs": [
        {
          "output_type": "display_data",
          "data": {
            "image/png": "[encoded data removed]",
            "text/plain": [
              "<Figure size 720x360 with 1 Axes>"
            ]
          },
          "metadata": {
            "tags": [],
            "needs_background": "light"
          }
        }
      ]
    },
    {
      "cell_type": "code",
      "metadata": {
        "id": "xkoIs3B2gCqp",
        "outputId": "66382f50-f86d-43a0-fb31-18870fbb16b4"
      },
      "source": [
        "# общее распределение выпускаемых игр по жанрам\n",
        "df_actual.pivot_table(index=['genre'], values=['name'], aggfunc='count')\\\n",
        ".sort_values(by='name', ascending=False).plot(kind='bar', y='name', figsize=(10, 5), grid=True)\n",
        "plt.xlabel('Жанр',  fontsize=16, fontweight='normal')\n",
        "plt.ylabel('Количество выпускаемых игр', fontsize=16, fontweight='normal')\n",
        "plt.show()"
      ],
      "execution_count": null,
      "outputs": [
        {
          "output_type": "display_data",
          "data": {
            "image/png": "[encoded data removed]",
            "text/plain": [
              "<Figure size 720x360 with 1 Axes>"
            ]
          },
          "metadata": {
            "tags": [],
            "needs_background": "light"
          }
        }
      ]
    },
    {
      "cell_type": "markdown",
      "metadata": {
        "id": "HEzP6qaDgCqq"
      },
      "source": [
        "Общая совокупность мировых продаж распределяется по наиболее успешным жанрам игр. К таким относятся Action, Shooter, Role-Playing и Sports. Однако количество выпускаемых игр в Action в разы превышает количество выпускаемых игр других жанров, что говорит о популярности данного жанра среди геймеров. При рассмотрении распределения продаж по платформам находятся некоторые отличия. Например, на PC в популярных жанрах числится Simulation и Strategy, а на 3DS также Fighting. Скорее всего, данный факт можно объяснить различием пользовательского опыта (UE) в конструктивно-отличающихся платформах."
      ]
    },
    {
      "cell_type": "markdown",
      "metadata": {
        "id": "qklIsyi7gCqr"
      },
      "source": [
        "###  Выводы\n",
        "Исследовательский анализ показал, что актуальность данных для прогноза имеет важную составляющую. Мы выбрали 3-летний период с момента выхода нового поколения приставок Sony и Microsoft. Львиную долю продаж всех игр составляют эти платформы. Причём для PS4 - 13 % выпущенных игр обеспечивают почти 70 % мировых продаж. Для Xone - 10 % выпущенных игр обеспечивают половину 50 % глобальной выручки каждой платформы. При покупке игр геймеры имеют склонность доверять профессиональной оценке критиков и не смотрят пользовательские комментарии. Чаще всего покупают игры жанров Action, Shooter, Role-Playing и Sports, хотя количество выпускаемых игр жанра Action несоизмеримо больше.\n",
        "***"
      ]
    },
    {
      "cell_type": "markdown",
      "metadata": {
        "id": "Sda4_LvYgCqr"
      },
      "source": [
        "## 4. Составление портрета пользователя каждого региона <a id='4'></a>   [^](#10)"
      ]
    },
    {
      "cell_type": "markdown",
      "metadata": {
        "id": "E6PrL9PmgCqs"
      },
      "source": [
        "* ### Портрет пользователя Северной Америки <a id='4.1'></a> [^](#10)"
      ]
    },
    {
      "cell_type": "markdown",
      "metadata": {
        "id": "3ovi9k1UgCqs"
      },
      "source": [
        "Определили самые популярные платформы и жанры за 3 последних года."
      ]
    },
    {
      "cell_type": "code",
      "metadata": {
        "id": "iqKlLXF5gCqt",
        "outputId": "cccd0d13-991c-4e56-869a-874ac7158343"
      },
      "source": [
        "# топ-5 популярных платформ в Северной Америке\n",
        "df.query('year_of_release > 2013').pivot_table(index=['platform'], values=['na_sales'], aggfunc='sum')\\\n",
        ".sort_values(by='na_sales', ascending=False).head()"
      ],
      "execution_count": null,
      "outputs": [
        {
          "output_type": "execute_result",
          "data": {
            "text/html": [
              "<div>\n",
              "<style scoped>\n",
              "    .dataframe tbody tr th:only-of-type {\n",
              "        vertical-align: middle;\n",
              "    }\n",
              "\n",
              "    .dataframe tbody tr th {\n",
              "        vertical-align: top;\n",
              "    }\n",
              "\n",
              "    .dataframe thead th {\n",
              "        text-align: right;\n",
              "    }\n",
              "</style>\n",
              "<table border=\"1\" class=\"dataframe\">\n",
              "  <thead>\n",
              "    <tr style=\"text-align: right;\">\n",
              "      <th></th>\n",
              "      <th>na_sales</th>\n",
              "    </tr>\n",
              "    <tr>\n",
              "      <th>platform</th>\n",
              "      <th></th>\n",
              "    </tr>\n",
              "  </thead>\n",
              "  <tbody>\n",
              "    <tr>\n",
              "      <td>ps4</td>\n",
              "      <td>98.61</td>\n",
              "    </tr>\n",
              "    <tr>\n",
              "      <td>xone</td>\n",
              "      <td>81.27</td>\n",
              "    </tr>\n",
              "    <tr>\n",
              "      <td>x360</td>\n",
              "      <td>28.30</td>\n",
              "    </tr>\n",
              "    <tr>\n",
              "      <td>3ds</td>\n",
              "      <td>22.64</td>\n",
              "    </tr>\n",
              "    <tr>\n",
              "      <td>ps3</td>\n",
              "      <td>22.05</td>\n",
              "    </tr>\n",
              "  </tbody>\n",
              "</table>\n",
              "</div>"
            ],
            "text/plain": [
              "          na_sales\n",
              "platform          \n",
              "ps4          98.61\n",
              "xone         81.27\n",
              "x360         28.30\n",
              "3ds          22.64\n",
              "ps3          22.05"
            ]
          },
          "metadata": {
            "tags": []
          },
          "execution_count": 44
        }
      ]
    },
    {
      "cell_type": "markdown",
      "metadata": {
        "id": "mG6JMwV5gCqu"
      },
      "source": [
        "Видим, что суммарным итогом новые платформы отвоёвывают всё больше продаж в США. Прошлое поколение приставок уже почти в 4 раза меньше покупается игроками.\n",
        "***"
      ]
    },
    {
      "cell_type": "code",
      "metadata": {
        "id": "_vtSGvuvgCqu",
        "outputId": "ed67bbb2-d462-4404-afbd-b1f683882dda"
      },
      "source": [
        "# топ-5 популярных жанров в Северной Америке\n",
        "df.query('year_of_release > 2013').pivot_table(index=['genre'], values=['na_sales'], aggfunc='sum')\\\n",
        ".sort_values(by='na_sales', ascending=False).head()"
      ],
      "execution_count": null,
      "outputs": [
        {
          "output_type": "execute_result",
          "data": {
            "text/html": [
              "<div>\n",
              "<style scoped>\n",
              "    .dataframe tbody tr th:only-of-type {\n",
              "        vertical-align: middle;\n",
              "    }\n",
              "\n",
              "    .dataframe tbody tr th {\n",
              "        vertical-align: top;\n",
              "    }\n",
              "\n",
              "    .dataframe thead th {\n",
              "        text-align: right;\n",
              "    }\n",
              "</style>\n",
              "<table border=\"1\" class=\"dataframe\">\n",
              "  <thead>\n",
              "    <tr style=\"text-align: right;\">\n",
              "      <th></th>\n",
              "      <th>na_sales</th>\n",
              "    </tr>\n",
              "    <tr>\n",
              "      <th>genre</th>\n",
              "      <th></th>\n",
              "    </tr>\n",
              "  </thead>\n",
              "  <tbody>\n",
              "    <tr>\n",
              "      <td>shooter</td>\n",
              "      <td>79.02</td>\n",
              "    </tr>\n",
              "    <tr>\n",
              "      <td>action</td>\n",
              "      <td>72.53</td>\n",
              "    </tr>\n",
              "    <tr>\n",
              "      <td>sports</td>\n",
              "      <td>46.13</td>\n",
              "    </tr>\n",
              "    <tr>\n",
              "      <td>role-playing</td>\n",
              "      <td>33.47</td>\n",
              "    </tr>\n",
              "    <tr>\n",
              "      <td>misc</td>\n",
              "      <td>15.05</td>\n",
              "    </tr>\n",
              "  </tbody>\n",
              "</table>\n",
              "</div>"
            ],
            "text/plain": [
              "              na_sales\n",
              "genre                 \n",
              "shooter          79.02\n",
              "action           72.53\n",
              "sports           46.13\n",
              "role-playing     33.47\n",
              "misc             15.05"
            ]
          },
          "metadata": {
            "tags": []
          },
          "execution_count": 45
        }
      ]
    },
    {
      "cell_type": "markdown",
      "metadata": {
        "id": "G5Wc_YPbgCqv"
      },
      "source": [
        "А вот вкусовые пристрастия по жанрам держатся стабильно - всё также 4 главенствующих вида Action, Shooter, Role-Playing и Sports.\n",
        "***"
      ]
    },
    {
      "cell_type": "code",
      "metadata": {
        "id": "YkXH40ADgCqw",
        "outputId": "b63ca10f-2cac-44ba-f191-52b401d8cfca"
      },
      "source": [
        "# матрица корреляции между продажами в США и рейтингом ESRB\n",
        "df.query('year_of_release > 2013')[['na_sales', 'number_rating']].corr() "
      ],
      "execution_count": null,
      "outputs": [
        {
          "output_type": "execute_result",
          "data": {
            "text/html": [
              "<div>\n",
              "<style scoped>\n",
              "    .dataframe tbody tr th:only-of-type {\n",
              "        vertical-align: middle;\n",
              "    }\n",
              "\n",
              "    .dataframe tbody tr th {\n",
              "        vertical-align: top;\n",
              "    }\n",
              "\n",
              "    .dataframe thead th {\n",
              "        text-align: right;\n",
              "    }\n",
              "</style>\n",
              "<table border=\"1\" class=\"dataframe\">\n",
              "  <thead>\n",
              "    <tr style=\"text-align: right;\">\n",
              "      <th></th>\n",
              "      <th>na_sales</th>\n",
              "      <th>number_rating</th>\n",
              "    </tr>\n",
              "  </thead>\n",
              "  <tbody>\n",
              "    <tr>\n",
              "      <td>na_sales</td>\n",
              "      <td>1.00000</td>\n",
              "      <td>0.09818</td>\n",
              "    </tr>\n",
              "    <tr>\n",
              "      <td>number_rating</td>\n",
              "      <td>0.09818</td>\n",
              "      <td>1.00000</td>\n",
              "    </tr>\n",
              "  </tbody>\n",
              "</table>\n",
              "</div>"
            ],
            "text/plain": [
              "               na_sales  number_rating\n",
              "na_sales        1.00000        0.09818\n",
              "number_rating   0.09818        1.00000"
            ]
          },
          "metadata": {
            "tags": []
          },
          "execution_count": 46
        }
      ]
    },
    {
      "cell_type": "markdown",
      "metadata": {
        "id": "0LAOPpAegCqx"
      },
      "source": [
        "Корреляция между продажами и рейтингом не прослеживается.\n",
        "***"
      ]
    },
    {
      "cell_type": "markdown",
      "metadata": {
        "id": "ZpVPy-sIgCqy"
      },
      "source": [
        "* ### Портрет пользователя Западной Европы <a id='4.2'></a> [^](#10)"
      ]
    },
    {
      "cell_type": "markdown",
      "metadata": {
        "id": "1CDdcc8MgCqy"
      },
      "source": [
        "Определили самые популярные платформы и жанры за 3 последних года."
      ]
    },
    {
      "cell_type": "code",
      "metadata": {
        "id": "nwM9mSf6gCqz",
        "outputId": "bc55d971-c2f2-40b5-9a58-0d906804591a"
      },
      "source": [
        "# топ-5 популярных платформ в Западной Европе\n",
        "df.query('year_of_release > 2013').pivot_table(index=['platform'], values=['eu_sales'], aggfunc='sum')\\\n",
        ".sort_values(by='eu_sales', ascending=False).head()"
      ],
      "execution_count": null,
      "outputs": [
        {
          "output_type": "execute_result",
          "data": {
            "text/html": [
              "<div>\n",
              "<style scoped>\n",
              "    .dataframe tbody tr th:only-of-type {\n",
              "        vertical-align: middle;\n",
              "    }\n",
              "\n",
              "    .dataframe tbody tr th {\n",
              "        vertical-align: top;\n",
              "    }\n",
              "\n",
              "    .dataframe thead th {\n",
              "        text-align: right;\n",
              "    }\n",
              "</style>\n",
              "<table border=\"1\" class=\"dataframe\">\n",
              "  <thead>\n",
              "    <tr style=\"text-align: right;\">\n",
              "      <th></th>\n",
              "      <th>eu_sales</th>\n",
              "    </tr>\n",
              "    <tr>\n",
              "      <th>platform</th>\n",
              "      <th></th>\n",
              "    </tr>\n",
              "  </thead>\n",
              "  <tbody>\n",
              "    <tr>\n",
              "      <td>ps4</td>\n",
              "      <td>130.04</td>\n",
              "    </tr>\n",
              "    <tr>\n",
              "      <td>xone</td>\n",
              "      <td>46.25</td>\n",
              "    </tr>\n",
              "    <tr>\n",
              "      <td>ps3</td>\n",
              "      <td>25.54</td>\n",
              "    </tr>\n",
              "    <tr>\n",
              "      <td>pc</td>\n",
              "      <td>17.97</td>\n",
              "    </tr>\n",
              "    <tr>\n",
              "      <td>3ds</td>\n",
              "      <td>16.12</td>\n",
              "    </tr>\n",
              "  </tbody>\n",
              "</table>\n",
              "</div>"
            ],
            "text/plain": [
              "          eu_sales\n",
              "platform          \n",
              "ps4         130.04\n",
              "xone         46.25\n",
              "ps3          25.54\n",
              "pc           17.97\n",
              "3ds          16.12"
            ]
          },
          "metadata": {
            "tags": []
          },
          "execution_count": 47
        }
      ]
    },
    {
      "cell_type": "markdown",
      "metadata": {
        "id": "D-_d8M1WgCq0"
      },
      "source": [
        "Суммарным итогом новые платформы держат лидерство и в Западной Европе. У европейцев также популярны игры на стационарном компьютере.\n",
        "***"
      ]
    },
    {
      "cell_type": "code",
      "metadata": {
        "id": "9gzLgMVcgCq1",
        "outputId": "d6693843-d222-4fbf-bbe5-b3fdce30f2ef"
      },
      "source": [
        "# топ-5 популярных жанров в Западной Европе\n",
        "df.query('year_of_release > 2013').pivot_table(index=['genre'], values=['eu_sales'], aggfunc='sum')\\\n",
        ".sort_values(by='eu_sales', ascending=False).head()"
      ],
      "execution_count": null,
      "outputs": [
        {
          "output_type": "execute_result",
          "data": {
            "text/html": [
              "<div>\n",
              "<style scoped>\n",
              "    .dataframe tbody tr th:only-of-type {\n",
              "        vertical-align: middle;\n",
              "    }\n",
              "\n",
              "    .dataframe tbody tr th {\n",
              "        vertical-align: top;\n",
              "    }\n",
              "\n",
              "    .dataframe thead th {\n",
              "        text-align: right;\n",
              "    }\n",
              "</style>\n",
              "<table border=\"1\" class=\"dataframe\">\n",
              "  <thead>\n",
              "    <tr style=\"text-align: right;\">\n",
              "      <th></th>\n",
              "      <th>eu_sales</th>\n",
              "    </tr>\n",
              "    <tr>\n",
              "      <th>genre</th>\n",
              "      <th></th>\n",
              "    </tr>\n",
              "  </thead>\n",
              "  <tbody>\n",
              "    <tr>\n",
              "      <td>action</td>\n",
              "      <td>74.68</td>\n",
              "    </tr>\n",
              "    <tr>\n",
              "      <td>shooter</td>\n",
              "      <td>65.52</td>\n",
              "    </tr>\n",
              "    <tr>\n",
              "      <td>sports</td>\n",
              "      <td>45.73</td>\n",
              "    </tr>\n",
              "    <tr>\n",
              "      <td>role-playing</td>\n",
              "      <td>28.17</td>\n",
              "    </tr>\n",
              "    <tr>\n",
              "      <td>racing</td>\n",
              "      <td>14.13</td>\n",
              "    </tr>\n",
              "  </tbody>\n",
              "</table>\n",
              "</div>"
            ],
            "text/plain": [
              "              eu_sales\n",
              "genre                 \n",
              "action           74.68\n",
              "shooter          65.52\n",
              "sports           45.73\n",
              "role-playing     28.17\n",
              "racing           14.13"
            ]
          },
          "metadata": {
            "tags": []
          },
          "execution_count": 48
        }
      ]
    },
    {
      "cell_type": "markdown",
      "metadata": {
        "id": "NiS8p2P4gCq2"
      },
      "source": [
        "А вот вкусовые пристрастия по жанрам держатся стабильно - всё также 4 главенствующих вида Action, Shooter, Role-Playing и Sports.\n",
        "***"
      ]
    },
    {
      "cell_type": "code",
      "metadata": {
        "id": "xsG9aS9agCq3",
        "outputId": "e5b999df-5d75-47b7-82ec-8636b5412dfd"
      },
      "source": [
        "# матрица корреляции между продажами в Западной Европе и рейтингом ESRB\n",
        "df.query('year_of_release > 2013')[['eu_sales', 'number_rating']].corr() "
      ],
      "execution_count": null,
      "outputs": [
        {
          "output_type": "execute_result",
          "data": {
            "text/html": [
              "<div>\n",
              "<style scoped>\n",
              "    .dataframe tbody tr th:only-of-type {\n",
              "        vertical-align: middle;\n",
              "    }\n",
              "\n",
              "    .dataframe tbody tr th {\n",
              "        vertical-align: top;\n",
              "    }\n",
              "\n",
              "    .dataframe thead th {\n",
              "        text-align: right;\n",
              "    }\n",
              "</style>\n",
              "<table border=\"1\" class=\"dataframe\">\n",
              "  <thead>\n",
              "    <tr style=\"text-align: right;\">\n",
              "      <th></th>\n",
              "      <th>eu_sales</th>\n",
              "      <th>number_rating</th>\n",
              "    </tr>\n",
              "  </thead>\n",
              "  <tbody>\n",
              "    <tr>\n",
              "      <td>eu_sales</td>\n",
              "      <td>1.000000</td>\n",
              "      <td>0.059192</td>\n",
              "    </tr>\n",
              "    <tr>\n",
              "      <td>number_rating</td>\n",
              "      <td>0.059192</td>\n",
              "      <td>1.000000</td>\n",
              "    </tr>\n",
              "  </tbody>\n",
              "</table>\n",
              "</div>"
            ],
            "text/plain": [
              "               eu_sales  number_rating\n",
              "eu_sales       1.000000       0.059192\n",
              "number_rating  0.059192       1.000000"
            ]
          },
          "metadata": {
            "tags": []
          },
          "execution_count": 49
        }
      ]
    },
    {
      "cell_type": "markdown",
      "metadata": {
        "id": "pEdNU_lKgCq3"
      },
      "source": [
        "Корреляция между продажами и рейтингом не прослеживается.\n",
        "***"
      ]
    },
    {
      "cell_type": "markdown",
      "metadata": {
        "id": "9Hs30C30gCq4"
      },
      "source": [
        "* ### Портрет пользователя Японии <a id='4.3'></a> [^](#10)"
      ]
    },
    {
      "cell_type": "code",
      "metadata": {
        "id": "Dipz3GY_gCq5",
        "outputId": "3ed12dcc-111d-4dc1-a309-60b65f917b62"
      },
      "source": [
        "# топ-5 популярных платформ в Японии\n",
        "df.query('year_of_release > 2013').pivot_table(index=['platform'], values=['jp_sales'], aggfunc='sum')\\\n",
        ".sort_values(by='jp_sales', ascending=False).head()"
      ],
      "execution_count": null,
      "outputs": [
        {
          "output_type": "execute_result",
          "data": {
            "text/html": [
              "<div>\n",
              "<style scoped>\n",
              "    .dataframe tbody tr th:only-of-type {\n",
              "        vertical-align: middle;\n",
              "    }\n",
              "\n",
              "    .dataframe tbody tr th {\n",
              "        vertical-align: top;\n",
              "    }\n",
              "\n",
              "    .dataframe thead th {\n",
              "        text-align: right;\n",
              "    }\n",
              "</style>\n",
              "<table border=\"1\" class=\"dataframe\">\n",
              "  <thead>\n",
              "    <tr style=\"text-align: right;\">\n",
              "      <th></th>\n",
              "      <th>jp_sales</th>\n",
              "    </tr>\n",
              "    <tr>\n",
              "      <th>platform</th>\n",
              "      <th></th>\n",
              "    </tr>\n",
              "  </thead>\n",
              "  <tbody>\n",
              "    <tr>\n",
              "      <td>3ds</td>\n",
              "      <td>44.24</td>\n",
              "    </tr>\n",
              "    <tr>\n",
              "      <td>ps4</td>\n",
              "      <td>15.02</td>\n",
              "    </tr>\n",
              "    <tr>\n",
              "      <td>psv</td>\n",
              "      <td>14.54</td>\n",
              "    </tr>\n",
              "    <tr>\n",
              "      <td>ps3</td>\n",
              "      <td>11.22</td>\n",
              "    </tr>\n",
              "    <tr>\n",
              "      <td>wiiu</td>\n",
              "      <td>7.31</td>\n",
              "    </tr>\n",
              "  </tbody>\n",
              "</table>\n",
              "</div>"
            ],
            "text/plain": [
              "          jp_sales\n",
              "platform          \n",
              "3ds          44.24\n",
              "ps4          15.02\n",
              "psv          14.54\n",
              "ps3          11.22\n",
              "wiiu          7.31"
            ]
          },
          "metadata": {
            "tags": []
          },
          "execution_count": 50
        }
      ]
    },
    {
      "cell_type": "markdown",
      "metadata": {
        "id": "USVG1GtlgCq5"
      },
      "source": [
        "Местные игровые приставки корпораций Nintendo и Sony не дают шансов американцам. Весь пьедестал занят национальными платформами.\n",
        "***"
      ]
    },
    {
      "cell_type": "code",
      "metadata": {
        "id": "xVvEkW3IgCq6",
        "outputId": "4544a18b-9d82-46f2-b226-84c790929b49"
      },
      "source": [
        "# топ-5 популярных жанров в Японии\n",
        "df.query('year_of_release > 2013').pivot_table(index=['genre'], values=['jp_sales'], aggfunc='sum')\\\n",
        ".sort_values(by='jp_sales', ascending=False).head()"
      ],
      "execution_count": null,
      "outputs": [
        {
          "output_type": "execute_result",
          "data": {
            "text/html": [
              "<div>\n",
              "<style scoped>\n",
              "    .dataframe tbody tr th:only-of-type {\n",
              "        vertical-align: middle;\n",
              "    }\n",
              "\n",
              "    .dataframe tbody tr th {\n",
              "        vertical-align: top;\n",
              "    }\n",
              "\n",
              "    .dataframe thead th {\n",
              "        text-align: right;\n",
              "    }\n",
              "</style>\n",
              "<table border=\"1\" class=\"dataframe\">\n",
              "  <thead>\n",
              "    <tr style=\"text-align: right;\">\n",
              "      <th></th>\n",
              "      <th>jp_sales</th>\n",
              "    </tr>\n",
              "    <tr>\n",
              "      <th>genre</th>\n",
              "      <th></th>\n",
              "    </tr>\n",
              "  </thead>\n",
              "  <tbody>\n",
              "    <tr>\n",
              "      <td>role-playing</td>\n",
              "      <td>31.16</td>\n",
              "    </tr>\n",
              "    <tr>\n",
              "      <td>action</td>\n",
              "      <td>29.58</td>\n",
              "    </tr>\n",
              "    <tr>\n",
              "      <td>fighting</td>\n",
              "      <td>6.37</td>\n",
              "    </tr>\n",
              "    <tr>\n",
              "      <td>misc</td>\n",
              "      <td>5.61</td>\n",
              "    </tr>\n",
              "    <tr>\n",
              "      <td>shooter</td>\n",
              "      <td>4.87</td>\n",
              "    </tr>\n",
              "  </tbody>\n",
              "</table>\n",
              "</div>"
            ],
            "text/plain": [
              "              jp_sales\n",
              "genre                 \n",
              "role-playing     31.16\n",
              "action           29.58\n",
              "fighting          6.37\n",
              "misc              5.61\n",
              "shooter           4.87"
            ]
          },
          "metadata": {
            "tags": []
          },
          "execution_count": 51
        }
      ]
    },
    {
      "cell_type": "markdown",
      "metadata": {
        "id": "ccH4BCjCgCq7"
      },
      "source": [
        "\"Стрелялки\" у японцев не в таком высоком почёте, как у англоязычного мира, в отличие от того же \"файтинга\". \n",
        "***"
      ]
    },
    {
      "cell_type": "code",
      "metadata": {
        "id": "RD2kMHvAgCq8",
        "outputId": "fdeb9fcc-60b9-4fc1-b449-3ca248f873b9"
      },
      "source": [
        "# матрица корреляции между продажами в Японии и рейтингом ESRB\n",
        "df.query('year_of_release > 2013')[['jp_sales', 'number_rating']].corr() "
      ],
      "execution_count": null,
      "outputs": [
        {
          "output_type": "execute_result",
          "data": {
            "text/html": [
              "<div>\n",
              "<style scoped>\n",
              "    .dataframe tbody tr th:only-of-type {\n",
              "        vertical-align: middle;\n",
              "    }\n",
              "\n",
              "    .dataframe tbody tr th {\n",
              "        vertical-align: top;\n",
              "    }\n",
              "\n",
              "    .dataframe thead th {\n",
              "        text-align: right;\n",
              "    }\n",
              "</style>\n",
              "<table border=\"1\" class=\"dataframe\">\n",
              "  <thead>\n",
              "    <tr style=\"text-align: right;\">\n",
              "      <th></th>\n",
              "      <th>jp_sales</th>\n",
              "      <th>number_rating</th>\n",
              "    </tr>\n",
              "  </thead>\n",
              "  <tbody>\n",
              "    <tr>\n",
              "      <td>jp_sales</td>\n",
              "      <td>1.000000</td>\n",
              "      <td>-0.008214</td>\n",
              "    </tr>\n",
              "    <tr>\n",
              "      <td>number_rating</td>\n",
              "      <td>-0.008214</td>\n",
              "      <td>1.000000</td>\n",
              "    </tr>\n",
              "  </tbody>\n",
              "</table>\n",
              "</div>"
            ],
            "text/plain": [
              "               jp_sales  number_rating\n",
              "jp_sales       1.000000      -0.008214\n",
              "number_rating -0.008214       1.000000"
            ]
          },
          "metadata": {
            "tags": []
          },
          "execution_count": 52
        }
      ]
    },
    {
      "cell_type": "markdown",
      "metadata": {
        "id": "IRYbfiN5gCq8"
      },
      "source": [
        "Корреляция между продажами и рейтингом не прослеживается.\n",
        "***"
      ]
    },
    {
      "cell_type": "markdown",
      "metadata": {
        "id": "hgo8mklSgCq9"
      },
      "source": [
        "###  Выводы\n",
        "Японский мир немного отличается от англоязычного. Это видно не только в занимаемых национальных платформах, но и в популярности тех или иных жанров игр. Например, жанр RPG куда более популярен в Японии, чем в США или Европе.\n",
        "***"
      ]
    },
    {
      "cell_type": "markdown",
      "metadata": {
        "id": "HCNfI887gCq-"
      },
      "source": [
        "## 5. Проверка гипотез <a id='5'></a>   [^](#10)"
      ]
    },
    {
      "cell_type": "markdown",
      "metadata": {
        "id": "WcqFBATHgCq-"
      },
      "source": [
        "* ### Средние пользовательские рейтинги платформ Xbox One и PC одинаковые <a id='5.1'></a> [^](#10)"
      ]
    },
    {
      "cell_type": "markdown",
      "metadata": {
        "id": "y50UOAssgCq_"
      },
      "source": [
        "Сформулировали гипотезы, так чтобы все значения, полученные эмпирически, не были экстремальными, а лежали там, где ожидаем их найти. Поэтому:  \n",
        "\n",
        "- Будем считать для нулевой гипотезы $ H_0 $, что средние пользовательские рейтинги платформ **\"Xbox One\"** и **\"PC\"** равны.\n",
        "- Тогда альтернативная гипотеза $ H_1 $ будет звучать как: \"Средние пользовательские рейтинги платформ **\"Xbox One\"** и **\"PC\"** различаются\".\n",
        "\n",
        "Применили статистический тест о равенстве среднего двух генеральных совокупностей по взятым из них выборкам."
      ]
    },
    {
      "cell_type": "code",
      "metadata": {
        "id": "OZenx1z9gCq_",
        "outputId": "b3112ff9-f07b-4a02-c6d1-8fe4c6858472"
      },
      "source": [
        "# выборка из первой и второй генеральной совокупности пользовательских рейтингов\n",
        "\n",
        "sample_1 = df_actual.query('platform == \"xone\" and user_score.notna()')['user_score'].reset_index(drop=True)\n",
        "sample_2 = df_actual.query('platform == \"pc\" and user_score.notna()')['user_score'].reset_index(drop=True)\n",
        "\n",
        "# проверили методом Бартлетта одинаковость дисперсий двух выборок\n",
        "from scipy.stats import bartlett\n",
        "stat, p = bartlett(sample_1, sample_2,)\n",
        "print('p-значение Бартлетта:', p)"
      ],
      "execution_count": null,
      "outputs": [
        {
          "output_type": "stream",
          "text": [
            "p-значение Бартлетта: 0.01113234705603591\n"
          ],
          "name": "stdout"
        }
      ]
    },
    {
      "cell_type": "markdown",
      "metadata": {
        "id": "toCU7sUggCrA"
      },
      "source": [
        "Дисперсии двух выборок различаются."
      ]
    },
    {
      "cell_type": "code",
      "metadata": {
        "id": "YePf6XJ8gCrB",
        "outputId": "dac844c3-ff35-45fe-f206-48fa7f47ba89"
      },
      "source": [
        "# критический уровень статистической значимости, меньше которого отвергнем нулевую гипотезу \n",
        "alpha = 0.05\n",
        "\n",
        "# будем считать дисперсии выборок разными\n",
        "results = st.ttest_ind(sample_1, sample_2, equal_var = False)   \n",
        "\n",
        "print('p-значение:', results.pvalue)\n",
        "\n",
        "if (results.pvalue < alpha):\n",
        "    print(\"Отвергаем нулевую гипотезу\")\n",
        "else:\n",
        "    print(\"Не получилось отвергнуть нулевую гипотезу\")    "
      ],
      "execution_count": null,
      "outputs": [
        {
          "output_type": "stream",
          "text": [
            "p-значение: 0.11601398086668827\n",
            "Не получилось отвергнуть нулевую гипотезу\n"
          ],
          "name": "stdout"
        }
      ]
    },
    {
      "cell_type": "markdown",
      "metadata": {
        "id": "eadghGytgCrC"
      },
      "source": [
        "Полученное значение p-value говорит о том, что с вероятностью 11 % средние генеральных совокупностей равны. Поэтому нулевая гипотеза не отвергается, т.е. средние пользовательские рейтинги платформ \"Xbox One\" и \"PC\" равны."
      ]
    },
    {
      "cell_type": "markdown",
      "metadata": {
        "id": "j3oLXcAggCrD"
      },
      "source": [
        "* ### Средние пользовательские рейтинги жанров Action и Sports разные  <a id='5.2'></a> [^](#10)"
      ]
    },
    {
      "cell_type": "markdown",
      "metadata": {
        "id": "KBQ5wep1gCrD"
      },
      "source": [
        "Применим в качестве нулевой гипотезы положительное определение о равенстве средних пользовательских рейтингов жанров Action и Sports:  \n",
        "\n",
        "- Будем считать для нулевой гипотезы $ H_0 $, что средние пользовательские рейтинги жанров Action и Sports равны.\n",
        "- Тогда альтернативная гипотеза $ H_1 $ будет: \"Средние пользовательские рейтинги различаются\".\n",
        "\n",
        "Применили статистический тест о равенстве среднего двух генеральных совокупностей по взятым из них выборкам."
      ]
    },
    {
      "cell_type": "code",
      "metadata": {
        "id": "5dAepDXhgCrE",
        "outputId": "424e0239-7fa7-42cb-b5c9-f2b5e6b736d7"
      },
      "source": [
        "# выборка из первой и второй генеральной совокупности пользовательских рейтингов\n",
        "\n",
        "sample_1 = df_actual.query('genre == \"action\" and user_score.notna()')['user_score'].reset_index(drop=True)\n",
        "sample_2 = df_actual.query('genre == \"sports\" and user_score.notna()')['user_score'].reset_index(drop=True)\n",
        "\n",
        "# проверили методом Бартлетта одинаковость дисперсий двух выборок\n",
        "from scipy.stats import bartlett\n",
        "stat, p = bartlett(sample_1, sample_2,)\n",
        "print('p-значение Бартлетта:', p)"
      ],
      "execution_count": null,
      "outputs": [
        {
          "output_type": "stream",
          "text": [
            "p-значение Бартлетта: 0.06143892017814415\n"
          ],
          "name": "stdout"
        }
      ]
    },
    {
      "cell_type": "markdown",
      "metadata": {
        "id": "eGj4H4wNgCrF"
      },
      "source": [
        "Дисперсии двух выборок различаются."
      ]
    },
    {
      "cell_type": "code",
      "metadata": {
        "id": "GIIIyvONgCrG",
        "outputId": "1fa508f8-bdc1-4424-de4a-1e134e33fec3"
      },
      "source": [
        "# критический уровень статистической значимости, меньше которого отвергнем нулевую гипотезу \n",
        "alpha = 0.05\n",
        "\n",
        "# будем считать дисперсии выборок разными\n",
        "results = st.ttest_ind(sample_1, sample_2, equal_var = False)   \n",
        "\n",
        "print('p-значение:', results.pvalue)\n",
        "\n",
        "if (results.pvalue < alpha):\n",
        "    print(\"Отвергаем нулевую гипотезу\")\n",
        "else:\n",
        "    print(\"Не получилось отвергнуть нулевую гипотезу\")    "
      ],
      "execution_count": null,
      "outputs": [
        {
          "output_type": "stream",
          "text": [
            "p-значение: 1.212959355403123e-07\n",
            "Отвергаем нулевую гипотезу\n"
          ],
          "name": "stdout"
        }
      ]
    },
    {
      "cell_type": "markdown",
      "metadata": {
        "id": "B-7PZEMtgCrH"
      },
      "source": [
        "Полученное значение p-value говорит о том, что  средние генеральных совокупностей различаются. Поэтому нулевая гипотеза отвергается и предлагается альтернативная, говорящая о различии средних рейтингов жанров Action и Sports."
      ]
    },
    {
      "cell_type": "markdown",
      "metadata": {
        "id": "OXAoagXAgCrH"
      },
      "source": [
        "###  Выводы\n",
        "Мы проверили две гипотезы, используя статистический тест о равенстве среднего двух генеральных совокупностей по взятым из них выборкам. Данный тест показал одинаковость средних пользовательских рейтингов разных платформ и различие средних пользовательских рейтингов разных жанров.\n",
        "***"
      ]
    },
    {
      "cell_type": "markdown",
      "metadata": {
        "id": "HG_l4J8lgCrJ"
      },
      "source": [
        "## 6. Общий вывод <a id='6'></a>   [^](#10)"
      ]
    },
    {
      "cell_type": "markdown",
      "metadata": {
        "id": "-QXX9BGjgCrL"
      },
      "source": [
        "Мы определили некоторые закономерности для успешной продажи игр.  \n",
        "\n",
        "- Изначально был получен датасет с выпускаемыми играми по годам и продажами по основным регионам мира.  \n",
        "\n",
        "\n",
        "- Предварительно произвели замену типа данных, там, где это было необходимо. Рассчитали суммарные продажи для игр по всем регионам мира. От замены пропусков в оценках критиков и пользователей отказались из-за логической невозможности заполнения каким-то усреднённым значением.  \n",
        "\n",
        "\n",
        "- В результате мы обнаружили следующие закономерности:  \n",
        "    - Срок жизни игровых приставок определяется корпорациями и выход новой версии автоматически определяет будущие продажи игр. Актуальным периодом для этого является последние 3 года - время с выхода приставок Sony и Microsoft.\n",
        "    - PS4 и X-box One являются главенствующими локомотивами продаж игр.\n",
        "    - В контексте количества выпускаемых игр для приставок примерно десятая часть являются сверхуспешными в плане продаж и занимают более половины рынка.\n",
        "    - Покупатели оглядываются на отзывы профессиональных критиков и не смотрят комментарии рядовых пользователей. Лейбл системы рейтинга ESRB мало на что влияет.\n",
        "    - Чаще всего покупают игры жанров Action, Shooter, Role-Playing и Sports, хотя количество выпускаемых игр жанра Action несоизмеримо больше. В разрезе по регионам появляется специфика отличий азиатского мира от англоязычного - японские геймеры более увлекаются играми в жанре RPG нежели \"шутерами\". Также они поклонники жанра Fighting. Главенствующие приставки в Японии полностью распределены между национальными корпорациями Nintendo и Sony, так что \"американцам\" не остаётся места.\n",
        "    - Проверка гипотез показала, что средние пользовательские рейтинги платформ X-Box One и PC одинаковы. Однако эти же рейтинги различаются в зависимости от жанра игры - Action или Sports.\n",
        "    "
      ]
    },
    {
      "cell_type": "code",
      "metadata": {
        "id": "WlQLGGlrgCrL"
      },
      "source": [
        ""
      ],
      "execution_count": null,
      "outputs": []
    }
  ]
}