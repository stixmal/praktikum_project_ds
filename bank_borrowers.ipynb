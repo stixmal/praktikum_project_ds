{
  "nbformat": 4,
  "nbformat_minor": 0,
  "metadata": {
    "ExecuteTimeLog": [
      {
        "duration": 798,
        "start_time": "2021-06-21T15:18:17.852Z"
      },
      {
        "duration": 63,
        "start_time": "2021-06-21T15:18:18.652Z"
      },
      {
        "duration": 41,
        "start_time": "2021-06-21T15:18:18.718Z"
      },
      {
        "duration": 33,
        "start_time": "2021-06-21T15:18:18.762Z"
      },
      {
        "duration": 15,
        "start_time": "2021-06-21T15:18:18.797Z"
      },
      {
        "duration": 16,
        "start_time": "2021-06-21T15:18:18.815Z"
      },
      {
        "duration": 23,
        "start_time": "2021-06-21T15:18:18.834Z"
      },
      {
        "duration": 6,
        "start_time": "2021-06-21T15:18:18.883Z"
      },
      {
        "duration": 18,
        "start_time": "2021-06-21T15:18:18.893Z"
      },
      {
        "duration": 26,
        "start_time": "2021-06-21T15:18:18.914Z"
      },
      {
        "duration": 34,
        "start_time": "2021-06-21T15:18:18.942Z"
      },
      {
        "duration": 29,
        "start_time": "2021-06-21T15:18:18.979Z"
      },
      {
        "duration": 32,
        "start_time": "2021-06-21T15:18:19.011Z"
      },
      {
        "duration": 26,
        "start_time": "2021-06-21T15:18:19.046Z"
      },
      {
        "duration": 23,
        "start_time": "2021-06-21T15:18:19.074Z"
      },
      {
        "duration": 42,
        "start_time": "2021-06-21T15:18:19.099Z"
      },
      {
        "duration": 25,
        "start_time": "2021-06-21T15:18:19.143Z"
      },
      {
        "duration": 20,
        "start_time": "2021-06-21T15:18:19.170Z"
      },
      {
        "duration": 42,
        "start_time": "2021-06-21T15:18:19.192Z"
      },
      {
        "duration": 21,
        "start_time": "2021-06-21T15:18:19.236Z"
      },
      {
        "duration": 46,
        "start_time": "2021-06-21T15:18:19.260Z"
      },
      {
        "duration": 46,
        "start_time": "2021-06-21T15:18:19.309Z"
      },
      {
        "duration": 15,
        "start_time": "2021-06-21T15:18:19.359Z"
      },
      {
        "duration": 29,
        "start_time": "2021-06-21T15:18:19.377Z"
      },
      {
        "duration": 26,
        "start_time": "2021-06-21T15:18:19.409Z"
      },
      {
        "duration": 35,
        "start_time": "2021-06-21T15:18:19.437Z"
      },
      {
        "duration": 27,
        "start_time": "2021-06-21T15:18:19.477Z"
      },
      {
        "duration": 44,
        "start_time": "2021-06-21T15:18:19.506Z"
      },
      {
        "duration": 24,
        "start_time": "2021-06-21T15:18:19.552Z"
      },
      {
        "duration": 17,
        "start_time": "2021-06-21T15:18:19.578Z"
      },
      {
        "duration": 8706,
        "start_time": "2021-06-21T15:18:19.598Z"
      },
      {
        "duration": 16,
        "start_time": "2021-06-21T15:18:28.308Z"
      },
      {
        "duration": 18,
        "start_time": "2021-06-21T15:18:28.327Z"
      },
      {
        "duration": 80,
        "start_time": "2021-06-21T15:18:28.347Z"
      },
      {
        "duration": 9,
        "start_time": "2021-06-21T15:18:28.429Z"
      },
      {
        "duration": 72,
        "start_time": "2021-06-21T15:18:28.440Z"
      },
      {
        "duration": 14,
        "start_time": "2021-06-21T15:18:28.515Z"
      },
      {
        "duration": 60,
        "start_time": "2021-06-21T15:18:28.531Z"
      },
      {
        "duration": 14,
        "start_time": "2021-06-21T15:18:28.594Z"
      },
      {
        "duration": 42,
        "start_time": "2021-06-21T15:18:28.610Z"
      },
      {
        "duration": 26229,
        "start_time": "2021-06-21T15:18:28.655Z"
      },
      {
        "duration": 42,
        "start_time": "2021-06-21T15:18:54.886Z"
      }
    ],
    "kernelspec": {
      "display_name": "Python 3",
      "language": "python",
      "name": "python3"
    },
    "language_info": {
      "codemirror_mode": {
        "name": "ipython",
        "version": 3
      },
      "file_extension": ".py",
      "mimetype": "text/x-python",
      "name": "python",
      "nbconvert_exporter": "python",
      "pygments_lexer": "ipython3",
      "version": "3.7.8"
    },
    "toc": {
      "base_numbering": 1,
      "nav_menu": {},
      "number_sections": true,
      "sideBar": true,
      "skip_h1_title": false,
      "title_cell": "Table of Contents",
      "title_sidebar": "Contents",
      "toc_cell": false,
      "toc_position": {},
      "toc_section_display": true,
      "toc_window_display": false
    },
    "colab": {
      "name": "bank_borrowers.ipynb",
      "provenance": [],
      "include_colab_link": true
    }
  },
  "cells": [
    {
      "cell_type": "markdown",
      "metadata": {
        "id": "view-in-github",
        "colab_type": "text"
      },
      "source": [
        "<a href=\"https://colab.research.google.com/github/stixmal/praktikum_project_ds/blob/main/bank_borrowers.ipynb\" target=\"_parent\"><img src=\"https://colab.research.google.com/assets/colab-badge.svg\" alt=\"Open In Colab\"/></a>"
      ]
    },
    {
      "cell_type": "markdown",
      "metadata": {
        "id": "-BAtGlcFNm2b"
      },
      "source": [
        "\n",
        "\n",
        "  # Исследование надёжности заёмщиков\n",
        "\n",
        "Заказчик — кредитный отдел банка. Нужно разобраться, влияет ли семейное положение и количество детей клиента на факт погашения кредита в срок. Входные данные от банка — статистика о платёжеспособности клиентов. Источник: `/datasets/data.csv`.\n",
        "\n",
        "Результаты исследования будут учтены при построении модели **кредитного скоринга** — специальной системы, которая оценивает способность потенциального заёмщика вернуть кредит банку."
      ]
    },
    {
      "cell_type": "markdown",
      "metadata": {
        "id": "XUOv13JGNm2k"
      },
      "source": [
        "## Оглавление  \n",
        "\n",
        "### 1. Ознакомление с общей информацией\n",
        "\n",
        "\n",
        "### 2. Предобработка данных\n",
        "+ Работа с пропусками  \n",
        "\n",
        "\n",
        "+ Замена типа данных  \n",
        "\n",
        "\n",
        "+ Обработка дубликатов  \n",
        "\n",
        "\n",
        "+ Лемматизация\n",
        "\n",
        "\n",
        "+ Категоризация данных\n",
        "    \n",
        "    \n",
        "### 3. Ответы на вопросы  \n",
        "+ Влияние наличия детей на возврат кредита в срок\n",
        "\n",
        "\n",
        "+ Влияние семейного положения на возврат кредита в срок\n",
        "\n",
        "\n",
        "+ Корелляция между уровнем дохода и возвратом кредита в срок\n",
        "\n",
        "\n",
        "+ Влияние целей кредита на его возврат в срок\n",
        "\n",
        "\n",
        "### 4. Общий вывод  \n",
        "***\n",
        " "
      ]
    },
    {
      "cell_type": "markdown",
      "metadata": {
        "id": "ubWHyl_nNm2m"
      },
      "source": [
        "## 1. Ознакомление с общей информацией"
      ]
    },
    {
      "cell_type": "markdown",
      "metadata": {
        "id": "QVG3rFR1Nm2n"
      },
      "source": [
        "Изучим данные, предоставленные банком для проекта."
      ]
    },
    {
      "cell_type": "code",
      "metadata": {
        "id": "Q7G8y7pkNm2o"
      },
      "source": [
        "# импорт библиотеки pandas\n",
        "import pandas as pd     \n",
        "\n",
        "# импорт модуля display\n",
        "from IPython.display import display    "
      ],
      "execution_count": null,
      "outputs": []
    },
    {
      "cell_type": "markdown",
      "metadata": {
        "id": "_M3PVJv0Nm2q"
      },
      "source": [
        "Прочитаем файл, предоставленный банком, и сохраним его в переменной `df`."
      ]
    },
    {
      "cell_type": "code",
      "metadata": {
        "id": "nhJpx-dQNm2r"
      },
      "source": [
        "# чтение файла с данными\n",
        "df = pd.read_csv('/datasets/data.csv')  "
      ],
      "execution_count": null,
      "outputs": []
    },
    {
      "cell_type": "markdown",
      "metadata": {
        "id": "B5CptGqHNm2s"
      },
      "source": [
        "Посмотрим визуально на таблицу."
      ]
    },
    {
      "cell_type": "code",
      "metadata": {
        "id": "9S--WGA4Nm2u",
        "outputId": "f43a9dc1-feb7-43e2-d874-4c77a844741e"
      },
      "source": [
        "# вызов таблицы на экран\n",
        "display(df)     "
      ],
      "execution_count": null,
      "outputs": [
        {
          "output_type": "display_data",
          "data": {
            "text/html": [
              "<div>\n",
              "<style scoped>\n",
              "    .dataframe tbody tr th:only-of-type {\n",
              "        vertical-align: middle;\n",
              "    }\n",
              "\n",
              "    .dataframe tbody tr th {\n",
              "        vertical-align: top;\n",
              "    }\n",
              "\n",
              "    .dataframe thead th {\n",
              "        text-align: right;\n",
              "    }\n",
              "</style>\n",
              "<table border=\"1\" class=\"dataframe\">\n",
              "  <thead>\n",
              "    <tr style=\"text-align: right;\">\n",
              "      <th></th>\n",
              "      <th>children</th>\n",
              "      <th>days_employed</th>\n",
              "      <th>dob_years</th>\n",
              "      <th>education</th>\n",
              "      <th>education_id</th>\n",
              "      <th>family_status</th>\n",
              "      <th>family_status_id</th>\n",
              "      <th>gender</th>\n",
              "      <th>income_type</th>\n",
              "      <th>debt</th>\n",
              "      <th>total_income</th>\n",
              "      <th>purpose</th>\n",
              "    </tr>\n",
              "  </thead>\n",
              "  <tbody>\n",
              "    <tr>\n",
              "      <td>0</td>\n",
              "      <td>1</td>\n",
              "      <td>-8437.673028</td>\n",
              "      <td>42</td>\n",
              "      <td>высшее</td>\n",
              "      <td>0</td>\n",
              "      <td>женат / замужем</td>\n",
              "      <td>0</td>\n",
              "      <td>F</td>\n",
              "      <td>сотрудник</td>\n",
              "      <td>0</td>\n",
              "      <td>253875.639453</td>\n",
              "      <td>покупка жилья</td>\n",
              "    </tr>\n",
              "    <tr>\n",
              "      <td>1</td>\n",
              "      <td>1</td>\n",
              "      <td>-4024.803754</td>\n",
              "      <td>36</td>\n",
              "      <td>среднее</td>\n",
              "      <td>1</td>\n",
              "      <td>женат / замужем</td>\n",
              "      <td>0</td>\n",
              "      <td>F</td>\n",
              "      <td>сотрудник</td>\n",
              "      <td>0</td>\n",
              "      <td>112080.014102</td>\n",
              "      <td>приобретение автомобиля</td>\n",
              "    </tr>\n",
              "    <tr>\n",
              "      <td>2</td>\n",
              "      <td>0</td>\n",
              "      <td>-5623.422610</td>\n",
              "      <td>33</td>\n",
              "      <td>Среднее</td>\n",
              "      <td>1</td>\n",
              "      <td>женат / замужем</td>\n",
              "      <td>0</td>\n",
              "      <td>M</td>\n",
              "      <td>сотрудник</td>\n",
              "      <td>0</td>\n",
              "      <td>145885.952297</td>\n",
              "      <td>покупка жилья</td>\n",
              "    </tr>\n",
              "    <tr>\n",
              "      <td>3</td>\n",
              "      <td>3</td>\n",
              "      <td>-4124.747207</td>\n",
              "      <td>32</td>\n",
              "      <td>среднее</td>\n",
              "      <td>1</td>\n",
              "      <td>женат / замужем</td>\n",
              "      <td>0</td>\n",
              "      <td>M</td>\n",
              "      <td>сотрудник</td>\n",
              "      <td>0</td>\n",
              "      <td>267628.550329</td>\n",
              "      <td>дополнительное образование</td>\n",
              "    </tr>\n",
              "    <tr>\n",
              "      <td>4</td>\n",
              "      <td>0</td>\n",
              "      <td>340266.072047</td>\n",
              "      <td>53</td>\n",
              "      <td>среднее</td>\n",
              "      <td>1</td>\n",
              "      <td>гражданский брак</td>\n",
              "      <td>1</td>\n",
              "      <td>F</td>\n",
              "      <td>пенсионер</td>\n",
              "      <td>0</td>\n",
              "      <td>158616.077870</td>\n",
              "      <td>сыграть свадьбу</td>\n",
              "    </tr>\n",
              "    <tr>\n",
              "      <td>...</td>\n",
              "      <td>...</td>\n",
              "      <td>...</td>\n",
              "      <td>...</td>\n",
              "      <td>...</td>\n",
              "      <td>...</td>\n",
              "      <td>...</td>\n",
              "      <td>...</td>\n",
              "      <td>...</td>\n",
              "      <td>...</td>\n",
              "      <td>...</td>\n",
              "      <td>...</td>\n",
              "      <td>...</td>\n",
              "    </tr>\n",
              "    <tr>\n",
              "      <td>21520</td>\n",
              "      <td>1</td>\n",
              "      <td>-4529.316663</td>\n",
              "      <td>43</td>\n",
              "      <td>среднее</td>\n",
              "      <td>1</td>\n",
              "      <td>гражданский брак</td>\n",
              "      <td>1</td>\n",
              "      <td>F</td>\n",
              "      <td>компаньон</td>\n",
              "      <td>0</td>\n",
              "      <td>224791.862382</td>\n",
              "      <td>операции с жильем</td>\n",
              "    </tr>\n",
              "    <tr>\n",
              "      <td>21521</td>\n",
              "      <td>0</td>\n",
              "      <td>343937.404131</td>\n",
              "      <td>67</td>\n",
              "      <td>среднее</td>\n",
              "      <td>1</td>\n",
              "      <td>женат / замужем</td>\n",
              "      <td>0</td>\n",
              "      <td>F</td>\n",
              "      <td>пенсионер</td>\n",
              "      <td>0</td>\n",
              "      <td>155999.806512</td>\n",
              "      <td>сделка с автомобилем</td>\n",
              "    </tr>\n",
              "    <tr>\n",
              "      <td>21522</td>\n",
              "      <td>1</td>\n",
              "      <td>-2113.346888</td>\n",
              "      <td>38</td>\n",
              "      <td>среднее</td>\n",
              "      <td>1</td>\n",
              "      <td>гражданский брак</td>\n",
              "      <td>1</td>\n",
              "      <td>M</td>\n",
              "      <td>сотрудник</td>\n",
              "      <td>1</td>\n",
              "      <td>89672.561153</td>\n",
              "      <td>недвижимость</td>\n",
              "    </tr>\n",
              "    <tr>\n",
              "      <td>21523</td>\n",
              "      <td>3</td>\n",
              "      <td>-3112.481705</td>\n",
              "      <td>38</td>\n",
              "      <td>среднее</td>\n",
              "      <td>1</td>\n",
              "      <td>женат / замужем</td>\n",
              "      <td>0</td>\n",
              "      <td>M</td>\n",
              "      <td>сотрудник</td>\n",
              "      <td>1</td>\n",
              "      <td>244093.050500</td>\n",
              "      <td>на покупку своего автомобиля</td>\n",
              "    </tr>\n",
              "    <tr>\n",
              "      <td>21524</td>\n",
              "      <td>2</td>\n",
              "      <td>-1984.507589</td>\n",
              "      <td>40</td>\n",
              "      <td>среднее</td>\n",
              "      <td>1</td>\n",
              "      <td>женат / замужем</td>\n",
              "      <td>0</td>\n",
              "      <td>F</td>\n",
              "      <td>сотрудник</td>\n",
              "      <td>0</td>\n",
              "      <td>82047.418899</td>\n",
              "      <td>на покупку автомобиля</td>\n",
              "    </tr>\n",
              "  </tbody>\n",
              "</table>\n",
              "<p>21525 rows × 12 columns</p>\n",
              "</div>"
            ],
            "text/plain": [
              "       children  days_employed  dob_years education  education_id  \\\n",
              "0             1   -8437.673028         42    высшее             0   \n",
              "1             1   -4024.803754         36   среднее             1   \n",
              "2             0   -5623.422610         33   Среднее             1   \n",
              "3             3   -4124.747207         32   среднее             1   \n",
              "4             0  340266.072047         53   среднее             1   \n",
              "...         ...            ...        ...       ...           ...   \n",
              "21520         1   -4529.316663         43   среднее             1   \n",
              "21521         0  343937.404131         67   среднее             1   \n",
              "21522         1   -2113.346888         38   среднее             1   \n",
              "21523         3   -3112.481705         38   среднее             1   \n",
              "21524         2   -1984.507589         40   среднее             1   \n",
              "\n",
              "          family_status  family_status_id gender income_type  debt  \\\n",
              "0       женат / замужем                 0      F   сотрудник     0   \n",
              "1       женат / замужем                 0      F   сотрудник     0   \n",
              "2       женат / замужем                 0      M   сотрудник     0   \n",
              "3       женат / замужем                 0      M   сотрудник     0   \n",
              "4      гражданский брак                 1      F   пенсионер     0   \n",
              "...                 ...               ...    ...         ...   ...   \n",
              "21520  гражданский брак                 1      F   компаньон     0   \n",
              "21521   женат / замужем                 0      F   пенсионер     0   \n",
              "21522  гражданский брак                 1      M   сотрудник     1   \n",
              "21523   женат / замужем                 0      M   сотрудник     1   \n",
              "21524   женат / замужем                 0      F   сотрудник     0   \n",
              "\n",
              "        total_income                       purpose  \n",
              "0      253875.639453                 покупка жилья  \n",
              "1      112080.014102       приобретение автомобиля  \n",
              "2      145885.952297                 покупка жилья  \n",
              "3      267628.550329    дополнительное образование  \n",
              "4      158616.077870               сыграть свадьбу  \n",
              "...              ...                           ...  \n",
              "21520  224791.862382             операции с жильем  \n",
              "21521  155999.806512          сделка с автомобилем  \n",
              "21522   89672.561153                  недвижимость  \n",
              "21523  244093.050500  на покупку своего автомобиля  \n",
              "21524   82047.418899         на покупку автомобиля  \n",
              "\n",
              "[21525 rows x 12 columns]"
            ]
          },
          "metadata": {
            "tags": []
          }
        }
      ]
    },
    {
      "cell_type": "markdown",
      "metadata": {
        "id": "U38VDiYTNm2x"
      },
      "source": [
        "Общая информация о данных таблицы *'df'*."
      ]
    },
    {
      "cell_type": "code",
      "metadata": {
        "id": "lRUHps59Nm2y",
        "outputId": "74ddd551-afd1-4c8f-f716-647724007803"
      },
      "source": [
        "# получение общей информации о данных в таблице df\n",
        "df.info()           "
      ],
      "execution_count": null,
      "outputs": [
        {
          "output_type": "stream",
          "text": [
            "<class 'pandas.core.frame.DataFrame'>\n",
            "RangeIndex: 21525 entries, 0 to 21524\n",
            "Data columns (total 12 columns):\n",
            "children            21525 non-null int64\n",
            "days_employed       19351 non-null float64\n",
            "dob_years           21525 non-null int64\n",
            "education           21525 non-null object\n",
            "education_id        21525 non-null int64\n",
            "family_status       21525 non-null object\n",
            "family_status_id    21525 non-null int64\n",
            "gender              21525 non-null object\n",
            "income_type         21525 non-null object\n",
            "debt                21525 non-null int64\n",
            "total_income        19351 non-null float64\n",
            "purpose             21525 non-null object\n",
            "dtypes: float64(2), int64(5), object(5)\n",
            "memory usage: 2.0+ MB\n"
          ],
          "name": "stdout"
        }
      ]
    },
    {
      "cell_type": "markdown",
      "metadata": {
        "id": "mSYGkpUGNm2z"
      },
      "source": [
        "Рассмотрим полученную таблицу.\n",
        "\n",
        "Всего в таблице 12 столбцов с целочисленными, вещественными и строковыми данными.\n",
        "\n",
        "Разберём какю информацию содержат столбцы.\n",
        "\n",
        "* **children** — количество детей в семье\n",
        "* **days_employed** — общий трудовой стаж в днях\n",
        "* **dob_years** — возраст клиента в годах\n",
        "* **education** — уровень образования клиента\n",
        "* **education_id** — идентификатор уровня образования\n",
        "* **family_status** — семейное положение\n",
        "* **family_status_id** — идентификатор семейного положения\n",
        "* **gender** — пол клиента\n",
        "* **income_type** — тип занятости\n",
        "* **debt** — имел ли задолженность по возврату кредитов\n",
        "* **total_income** — ежемесячный доход\n",
        "* **purpose** — цель получения кредита\n",
        "\n",
        "Количество значений  в столбцах различается. Это указывает на наличие пропущенных значений."
      ]
    },
    {
      "cell_type": "markdown",
      "metadata": {
        "id": "gMZrpJzjNm21"
      },
      "source": [
        "###  Выводы\n",
        "\n",
        "Первой проблемой стало обнаружение пропусков в нашей таблице.Устраним её в дальнейшем. Для ответов на поставленные вопросы наиболее ценны столбцы *'children'*, *'family_status'*, *'total_income'*, *'purpose'*, *'debt'*.\n",
        "\n",
        "***"
      ]
    },
    {
      "cell_type": "markdown",
      "metadata": {
        "id": "Wubdg8r1Nm21"
      },
      "source": [
        "## 2. Предобработка данных"
      ]
    },
    {
      "cell_type": "markdown",
      "metadata": {
        "id": "kcZ4WfDqNm22"
      },
      "source": [
        "* ### Работа с пропусками"
      ]
    },
    {
      "cell_type": "markdown",
      "metadata": {
        "id": "H0GkNLMfNm23"
      },
      "source": [
        "В столбцах *'days_employed'* и *'total_income'* с вещественными данными обнаружили пропуски. "
      ]
    },
    {
      "cell_type": "code",
      "metadata": {
        "id": "Nq8l5vpaNm23",
        "outputId": "ba09f930-acfb-43de-ed3a-d1705fcf9f7b"
      },
      "source": [
        "# Подсчёт количества пропусков в таблице 'df'\n",
        "df.isnull().sum()  "
      ],
      "execution_count": null,
      "outputs": [
        {
          "output_type": "execute_result",
          "data": {
            "text/plain": [
              "children               0\n",
              "days_employed       2174\n",
              "dob_years              0\n",
              "education              0\n",
              "education_id           0\n",
              "family_status          0\n",
              "family_status_id       0\n",
              "gender                 0\n",
              "income_type            0\n",
              "debt                   0\n",
              "total_income        2174\n",
              "purpose                0\n",
              "dtype: int64"
            ]
          },
          "metadata": {
            "tags": []
          },
          "execution_count": 5
        }
      ]
    },
    {
      "cell_type": "markdown",
      "metadata": {
        "id": "srY2FbQ0Nm24"
      },
      "source": [
        "Визуально в столбце с общим трудовым стажем в днях мы видим отрицательные значения, что не соответствует действительности. Приведём их к абсолютному виду."
      ]
    },
    {
      "cell_type": "code",
      "metadata": {
        "id": "ZRgdDUWbNm25"
      },
      "source": [
        "# Приведение отрицательных значений в абсолютную форму\n",
        "df['days_employed'] = abs(df['days_employed'])   "
      ],
      "execution_count": null,
      "outputs": []
    },
    {
      "cell_type": "markdown",
      "metadata": {
        "id": "hEe2S_DLNm26"
      },
      "source": [
        "Так как в обоих столбцах находятся количественные переменные, можно применить метод заполнения пропусков характерными значениями. Однако в столбце *'days_employed'* имеются значения-артефакты, которые кардинально выделяются и не отвечают здравому смыслу. Причины возникновения таких данных требует дополнительной проверки.\n",
        "\n"
      ]
    },
    {
      "cell_type": "code",
      "metadata": {
        "id": "EwocZQuyNm27",
        "outputId": "fdf270a4-ec67-448c-e9ae-9cc7d7d156e1"
      },
      "source": [
        "# Сортировка столбца 'days_employed' по убыванию\n",
        "df['days_employed'].sort_values(ascending = False)   "
      ],
      "execution_count": null,
      "outputs": [
        {
          "output_type": "execute_result",
          "data": {
            "text/plain": [
              "6954     401755.400475\n",
              "10006    401715.811749\n",
              "7664     401675.093434\n",
              "2156     401674.466633\n",
              "7794     401663.850046\n",
              "             ...      \n",
              "21489              NaN\n",
              "21495              NaN\n",
              "21497              NaN\n",
              "21502              NaN\n",
              "21510              NaN\n",
              "Name: days_employed, Length: 21525, dtype: float64"
            ]
          },
          "metadata": {
            "tags": []
          },
          "execution_count": 7
        }
      ]
    },
    {
      "cell_type": "code",
      "metadata": {
        "id": "sHUFyrwyNm28",
        "outputId": "3638d05f-2576-4a6e-b880-493d112448e6"
      },
      "source": [
        "# Нахождение среднего в столбце 'days_employed'\n",
        "df['days_employed'].mean()  "
      ],
      "execution_count": null,
      "outputs": [
        {
          "output_type": "execute_result",
          "data": {
            "text/plain": [
              "66914.72890682236"
            ]
          },
          "metadata": {
            "tags": []
          },
          "execution_count": 8
        }
      ]
    },
    {
      "cell_type": "code",
      "metadata": {
        "id": "TdBv9Z6zNm29",
        "outputId": "8dec9196-d234-4faa-969b-cdae30f75caa"
      },
      "source": [
        "# Нахождение медианы в столбце 'days_employed'\n",
        "days_employed_median = df['days_employed'].median()  \n",
        "days_employed_median"
      ],
      "execution_count": null,
      "outputs": [
        {
          "output_type": "execute_result",
          "data": {
            "text/plain": [
              "2194.220566878695"
            ]
          },
          "metadata": {
            "tags": []
          },
          "execution_count": 9
        }
      ]
    },
    {
      "cell_type": "markdown",
      "metadata": {
        "id": "tHCr6zDbNm2-"
      },
      "source": [
        "В качестве метода замены использовали медианное значение, так как оно более точно характеризует выборку при наличии данных существенно отклоняющихся от большинства."
      ]
    },
    {
      "cell_type": "markdown",
      "metadata": {
        "id": "70r231OvNm2-"
      },
      "source": [
        "Выполнили замену пропусков в столбце *'days_employed'*."
      ]
    },
    {
      "cell_type": "code",
      "metadata": {
        "id": "FgqTug3qNm2_"
      },
      "source": [
        "# Замена пропусков медианным значением\n",
        "df['days_employed'] = df['days_employed'].fillna(value = days_employed_median)     "
      ],
      "execution_count": null,
      "outputs": []
    },
    {
      "cell_type": "markdown",
      "metadata": {
        "id": "i8WFHvnyNm3A"
      },
      "source": [
        "Второй столбец с пропущенными значениями *'total_income'* также заменили медианным значением."
      ]
    },
    {
      "cell_type": "code",
      "metadata": {
        "id": "MnAQBIBQNm3B"
      },
      "source": [
        "# Нахождение медианы в столбце 'total_income'\n",
        "total_income_median = df['total_income'].median()           \n",
        "\n",
        "# Замена пропусков медианным значением\n",
        "df['total_income'] = df['total_income'].fillna(value = total_income_median)  "
      ],
      "execution_count": null,
      "outputs": []
    },
    {
      "cell_type": "markdown",
      "metadata": {
        "id": "MV1KhOOINm3B"
      },
      "source": [
        "Получаем общую информацию о таблице и проверяем результат замены."
      ]
    },
    {
      "cell_type": "code",
      "metadata": {
        "scrolled": true,
        "id": "qt0DhvrsNm3C",
        "outputId": "ec8ec0b4-8214-4e42-d563-cc43bdf71e54"
      },
      "source": [
        "# Общая информация о таблице `df`\n",
        "df.info()       "
      ],
      "execution_count": null,
      "outputs": [
        {
          "output_type": "stream",
          "text": [
            "<class 'pandas.core.frame.DataFrame'>\n",
            "RangeIndex: 21525 entries, 0 to 21524\n",
            "Data columns (total 12 columns):\n",
            "children            21525 non-null int64\n",
            "days_employed       21525 non-null float64\n",
            "dob_years           21525 non-null int64\n",
            "education           21525 non-null object\n",
            "education_id        21525 non-null int64\n",
            "family_status       21525 non-null object\n",
            "family_status_id    21525 non-null int64\n",
            "gender              21525 non-null object\n",
            "income_type         21525 non-null object\n",
            "debt                21525 non-null int64\n",
            "total_income        21525 non-null float64\n",
            "purpose             21525 non-null object\n",
            "dtypes: float64(2), int64(5), object(5)\n",
            "memory usage: 2.0+ MB\n"
          ],
          "name": "stdout"
        }
      ]
    },
    {
      "cell_type": "markdown",
      "metadata": {
        "id": "3UpYN4jLNm3E"
      },
      "source": [
        "###  Выводы\n",
        "\n",
        "Выполнили поиск и замену пропусков в таблице *'df'*. В дальнейшем это позволит точнее провести анализ.\n",
        "\n",
        "На этапе работы с пропусками обнаружили несколько проблем с вводными данными, такими как:\n",
        "\n",
        "+ отрицательные значения трудового стажа в днях\n",
        "+ данные-артефакты, которые не отражают действительность (количество дней трудового стажа гораздо больше величины человеческой жизни)\n",
        "\n",
        "Данные в этих двух столбцах представлены  в вещественной форме, что может косвенно указывать на ошибки их внесения компьютерными системами.\n",
        "\n"
      ]
    },
    {
      "cell_type": "markdown",
      "metadata": {
        "id": "Ozh8NqWPNm3F"
      },
      "source": [
        "* ### Замена типа данных"
      ]
    },
    {
      "cell_type": "markdown",
      "metadata": {
        "id": "qcJ_fCzzNm3G"
      },
      "source": [
        "Заменили вещественный тип данных на целочисленный методом `.astype`."
      ]
    },
    {
      "cell_type": "code",
      "metadata": {
        "id": "W1CJvsaRNm3H"
      },
      "source": [
        "# Замена типа данных на целочисленный в столбце 'days_employed'\n",
        "df['days_employed'] = df['days_employed'].astype('int')     \n",
        "\n",
        "# Замена типа данных на целочисленный в столбце 'total_income'\n",
        "df['total_income'] = df['total_income'].astype('int')       "
      ],
      "execution_count": null,
      "outputs": []
    },
    {
      "cell_type": "markdown",
      "metadata": {
        "id": "rlqen-Q4Nm3I"
      },
      "source": [
        "Посмотрели результат замены, вызвав метод `.info`"
      ]
    },
    {
      "cell_type": "code",
      "metadata": {
        "id": "ctjiPDVZNm3I",
        "outputId": "15290c2b-cc32-4238-dde2-dd9b4b90e2a6"
      },
      "source": [
        "# Общая информация о таблице `df`\n",
        "df.info()        "
      ],
      "execution_count": null,
      "outputs": [
        {
          "output_type": "stream",
          "text": [
            "<class 'pandas.core.frame.DataFrame'>\n",
            "RangeIndex: 21525 entries, 0 to 21524\n",
            "Data columns (total 12 columns):\n",
            "children            21525 non-null int64\n",
            "days_employed       21525 non-null int64\n",
            "dob_years           21525 non-null int64\n",
            "education           21525 non-null object\n",
            "education_id        21525 non-null int64\n",
            "family_status       21525 non-null object\n",
            "family_status_id    21525 non-null int64\n",
            "gender              21525 non-null object\n",
            "income_type         21525 non-null object\n",
            "debt                21525 non-null int64\n",
            "total_income        21525 non-null int64\n",
            "purpose             21525 non-null object\n",
            "dtypes: int64(7), object(5)\n",
            "memory usage: 2.0+ MB\n"
          ],
          "name": "stdout"
        }
      ]
    },
    {
      "cell_type": "markdown",
      "metadata": {
        "id": "S5XHP7G_Nm3J"
      },
      "source": [
        "###  Выводы\n",
        "\n",
        "Заменили вещественный тип данных на целочисленный методом `.astype`. Данный метод выбрали в виду отсутствия строковых данных в заменяемых столбцах."
      ]
    },
    {
      "cell_type": "markdown",
      "metadata": {
        "id": "8ytwtLu2Nm3K"
      },
      "source": [
        "* ### Обработка дубликатов"
      ]
    },
    {
      "cell_type": "markdown",
      "metadata": {
        "id": "4kQ48LIaNm3K"
      },
      "source": [
        "Посмотрели на наличие уникальных значений интересующих нас столбцов, которые необходимы для ответов на поставленные вопросы."
      ]
    },
    {
      "cell_type": "code",
      "metadata": {
        "id": "v4MW1frhNm3L",
        "outputId": "83ca7156-8813-47d8-db98-634a366f7db9"
      },
      "source": [
        "# уникальные значения столбца 'children'\n",
        "df['children'].value_counts()    "
      ],
      "execution_count": null,
      "outputs": [
        {
          "output_type": "execute_result",
          "data": {
            "text/plain": [
              " 0     14149\n",
              " 1      4818\n",
              " 2      2055\n",
              " 3       330\n",
              " 20       76\n",
              "-1        47\n",
              " 4        41\n",
              " 5         9\n",
              "Name: children, dtype: int64"
            ]
          },
          "metadata": {
            "tags": []
          },
          "execution_count": 15
        }
      ]
    },
    {
      "cell_type": "markdown",
      "metadata": {
        "id": "jWhTMvxfNm3M"
      },
      "source": [
        "Так как нам нужен сам факт наличия детей, а не их количество, заменили некорректные данные условно: отрицательные значения на **1**, нереальное количество детей на **2**. Данные несоответсвия возможны в одном случае случайным нажатием нуля в виду близкого расположения к двойке, а в другом наличия предустановленного дефиса."
      ]
    },
    {
      "cell_type": "code",
      "metadata": {
        "id": "Rkz8JWJ1Nm3M"
      },
      "source": [
        "# замена строк в столбце 'children'\n",
        "df.loc[df['children'] == -1, 'children'] = 1    \n",
        "\n",
        "df.loc[df['children'] == 20, 'children'] = 2"
      ],
      "execution_count": null,
      "outputs": []
    },
    {
      "cell_type": "markdown",
      "metadata": {
        "id": "MOXOvWmLNm3N"
      },
      "source": [
        "Проверяем наш новый столбец."
      ]
    },
    {
      "cell_type": "code",
      "metadata": {
        "id": "_Zw6j2S9Nm3N",
        "outputId": "ae3a11fb-4748-4289-ca27-853de4e50433"
      },
      "source": [
        "# проверка столбца\n",
        "df['children'].value_counts()   "
      ],
      "execution_count": null,
      "outputs": [
        {
          "output_type": "execute_result",
          "data": {
            "text/plain": [
              "0    14149\n",
              "1     4865\n",
              "2     2131\n",
              "3      330\n",
              "4       41\n",
              "5        9\n",
              "Name: children, dtype: int64"
            ]
          },
          "metadata": {
            "tags": []
          },
          "execution_count": 17
        }
      ]
    },
    {
      "cell_type": "markdown",
      "metadata": {
        "id": "m8y1397XNm3P"
      },
      "source": [
        "***"
      ]
    },
    {
      "cell_type": "markdown",
      "metadata": {
        "id": "lLCHRazFNm3Q"
      },
      "source": [
        "Также смотрим на столбец *'dob_years'*"
      ]
    },
    {
      "cell_type": "code",
      "metadata": {
        "id": "N7-lA3YZNm3Q",
        "outputId": "55959e17-71f1-46ee-8a92-5a3dd0a02ebf"
      },
      "source": [
        "df['dob_years'].unique() "
      ],
      "execution_count": null,
      "outputs": [
        {
          "output_type": "execute_result",
          "data": {
            "text/plain": [
              "array([42, 36, 33, 32, 53, 27, 43, 50, 35, 41, 40, 65, 54, 56, 26, 48, 24,\n",
              "       21, 57, 67, 28, 63, 62, 47, 34, 68, 25, 31, 30, 20, 49, 37, 45, 61,\n",
              "       64, 44, 52, 46, 23, 38, 39, 51,  0, 59, 29, 60, 55, 58, 71, 22, 73,\n",
              "       66, 69, 19, 72, 70, 74, 75])"
            ]
          },
          "metadata": {
            "tags": []
          },
          "execution_count": 18
        }
      ]
    },
    {
      "cell_type": "markdown",
      "metadata": {
        "id": "P-gOts93Nm3R"
      },
      "source": [
        "Видим, что есть выпадающее значение: запись с нулевым значением. Заменили округлённым средним методом `.mean` и функцией `round`, так как разброс величин возрастов конечен и не выходит за рамки жизни человека."
      ]
    },
    {
      "cell_type": "code",
      "metadata": {
        "id": "svXthLqmNm3S",
        "outputId": "97e74a03-72b9-4a44-acc0-7afb067b9a6f"
      },
      "source": [
        "# нахождение строки логической индексацией и замена неправильного значения округлённым средним\n",
        "\n",
        "df.loc[df['dob_years'] == 0, 'dob_years'] = round(df['dob_years'].mean())\n",
        "\n",
        "# проверка значений столбца 'dob_years'\n",
        "\n",
        "df['dob_years'].unique() "
      ],
      "execution_count": null,
      "outputs": [
        {
          "output_type": "execute_result",
          "data": {
            "text/plain": [
              "array([42, 36, 33, 32, 53, 27, 43, 50, 35, 41, 40, 65, 54, 56, 26, 48, 24,\n",
              "       21, 57, 67, 28, 63, 62, 47, 34, 68, 25, 31, 30, 20, 49, 37, 45, 61,\n",
              "       64, 44, 52, 46, 23, 38, 39, 51, 59, 29, 60, 55, 58, 71, 22, 73, 66,\n",
              "       69, 19, 72, 70, 74, 75])"
            ]
          },
          "metadata": {
            "tags": []
          },
          "execution_count": 19
        }
      ]
    },
    {
      "cell_type": "markdown",
      "metadata": {
        "id": "ijOcp4TENm3T"
      },
      "source": [
        "***"
      ]
    },
    {
      "cell_type": "markdown",
      "metadata": {
        "id": "Ay-GWjDnNm3T"
      },
      "source": [
        "Уникальные строки в столбце *'education'*."
      ]
    },
    {
      "cell_type": "code",
      "metadata": {
        "id": "nZWpO_1zNm3U",
        "outputId": "28711035-afcf-4116-dfec-2899dc5d07b5"
      },
      "source": [
        "# подсчет уникальных значений столбца 'education'\n",
        "df['education'].value_counts() "
      ],
      "execution_count": null,
      "outputs": [
        {
          "output_type": "execute_result",
          "data": {
            "text/plain": [
              "среднее                13750\n",
              "высшее                  4718\n",
              "СРЕДНЕЕ                  772\n",
              "Среднее                  711\n",
              "неоконченное высшее      668\n",
              "ВЫСШЕЕ                   274\n",
              "Высшее                   268\n",
              "начальное                250\n",
              "Неоконченное высшее       47\n",
              "НЕОКОНЧЕННОЕ ВЫСШЕЕ       29\n",
              "НАЧАЛЬНОЕ                 17\n",
              "Начальное                 15\n",
              "ученая степень             4\n",
              "УЧЕНАЯ СТЕПЕНЬ             1\n",
              "Ученая степень             1\n",
              "Name: education, dtype: int64"
            ]
          },
          "metadata": {
            "tags": []
          },
          "execution_count": 20
        }
      ]
    },
    {
      "cell_type": "markdown",
      "metadata": {
        "id": "lHCOGUzBNm3V"
      },
      "source": [
        "Привели к нижнему регистру методом `str.lower`."
      ]
    },
    {
      "cell_type": "code",
      "metadata": {
        "id": "5_HBQ7iCNm3V",
        "outputId": "b2ed8d2f-462d-4220-8106-8f4d68e1deed"
      },
      "source": [
        "#  перевод строковых данных в столбце к нижнему регистру\n",
        "df['education'] = df['education'].str.lower()   \n",
        "\n",
        "# проверка исправленного столбца\n",
        "\n",
        "df['education'].value_counts()"
      ],
      "execution_count": null,
      "outputs": [
        {
          "output_type": "execute_result",
          "data": {
            "text/plain": [
              "среднее                15233\n",
              "высшее                  5260\n",
              "неоконченное высшее      744\n",
              "начальное                282\n",
              "ученая степень             6\n",
              "Name: education, dtype: int64"
            ]
          },
          "metadata": {
            "tags": []
          },
          "execution_count": 21
        }
      ]
    },
    {
      "cell_type": "markdown",
      "metadata": {
        "id": "-i8Nx0J-Nm3W"
      },
      "source": [
        "Посмотрели на сгруппированные данные с 'education_id'."
      ]
    },
    {
      "cell_type": "code",
      "metadata": {
        "id": "v_X7Gy4UNm3X",
        "outputId": "cf0bd596-5c98-4e2c-8723-53e77aee13b4"
      },
      "source": [
        "# отсортированная таблица по убыванию с посчитанным количеством строк, приходящихся на группированные столбцы\n",
        "\n",
        "df.groupby(['education_id', 'education'])['education'].count().sort_values(ascending = False) "
      ],
      "execution_count": null,
      "outputs": [
        {
          "output_type": "execute_result",
          "data": {
            "text/plain": [
              "education_id  education          \n",
              "1             среднее                15233\n",
              "0             высшее                  5260\n",
              "2             неоконченное высшее      744\n",
              "3             начальное                282\n",
              "4             ученая степень             6\n",
              "Name: education, dtype: int64"
            ]
          },
          "metadata": {
            "tags": []
          },
          "execution_count": 22
        }
      ]
    },
    {
      "cell_type": "markdown",
      "metadata": {
        "id": "Qavj252cNm3Y"
      },
      "source": [
        "Каждому типу образования соответствует определённый балл. Возможно данное оценивание помогает в анализе кредитоспособности заёмщика."
      ]
    },
    {
      "cell_type": "markdown",
      "metadata": {
        "id": "immXxTm0Nm3Y"
      },
      "source": [
        "***"
      ]
    },
    {
      "cell_type": "markdown",
      "metadata": {
        "id": "wA4FHIsUNm3Z"
      },
      "source": [
        "Посмотрели количество уникальных записей в столбце семейного положения."
      ]
    },
    {
      "cell_type": "code",
      "metadata": {
        "id": "8d2CnGBNNm3Z",
        "outputId": "30967a23-e227-4182-d690-1aca0a326769"
      },
      "source": [
        "# подсчет уникальных значений столбца 'family_status'\n",
        "df['family_status'].value_counts() "
      ],
      "execution_count": null,
      "outputs": [
        {
          "output_type": "execute_result",
          "data": {
            "text/plain": [
              "женат / замужем          12380\n",
              "гражданский брак          4177\n",
              "Не женат / не замужем     2813\n",
              "в разводе                 1195\n",
              "вдовец / вдова             960\n",
              "Name: family_status, dtype: int64"
            ]
          },
          "metadata": {
            "tags": []
          },
          "execution_count": 23
        }
      ]
    },
    {
      "cell_type": "markdown",
      "metadata": {
        "id": "kfobjFYONm3a"
      },
      "source": [
        "На первый взгляд схожие категории данных не объединены, так как человек либо в браке, либо нет. Посмотрели на сгруппированные данные с *'family_id'*."
      ]
    },
    {
      "cell_type": "code",
      "metadata": {
        "id": "4Pr9KYOVNm3b",
        "outputId": "1b313e9b-b2bb-4651-9d6e-559f788d210e"
      },
      "source": [
        "# отсортированная таблица по убыванию с посчитанным количеством строк, приходящихся на группированные столбцы\n",
        "\n",
        "df.groupby(['family_status_id', 'family_status'])['family_status_id'].count().sort_values(ascending = False) "
      ],
      "execution_count": null,
      "outputs": [
        {
          "output_type": "execute_result",
          "data": {
            "text/plain": [
              "family_status_id  family_status        \n",
              "0                 женат / замужем          12380\n",
              "1                 гражданский брак          4177\n",
              "4                 Не женат / не замужем     2813\n",
              "3                 в разводе                 1195\n",
              "2                 вдовец / вдова             960\n",
              "Name: family_status_id, dtype: int64"
            ]
          },
          "metadata": {
            "tags": []
          },
          "execution_count": 24
        }
      ]
    },
    {
      "cell_type": "markdown",
      "metadata": {
        "id": "nuSSGyfDNm3b"
      },
      "source": [
        "Мы видим, что данные в столбцах идентичны и не имеют расхождений. Возможно это преднамеренное разделение и выставление баллов в зависимости от степени наличия родственных связей."
      ]
    },
    {
      "cell_type": "markdown",
      "metadata": {
        "id": "uuOk1u_BNm3c"
      },
      "source": [
        "\n",
        "***\n",
        "\n"
      ]
    },
    {
      "cell_type": "markdown",
      "metadata": {
        "id": "Q4pkQWIANm3d"
      },
      "source": [
        "В столбце *'gender'* удалили методом `.drop` строку с непонятным смыслом.\n"
      ]
    },
    {
      "cell_type": "code",
      "metadata": {
        "id": "lAnU981HNm3d",
        "outputId": "4b57f102-0d7a-4192-85b4-44e7bcd28b8c"
      },
      "source": [
        "# подсчет уникальных значений столбца 'gender'\n",
        "df['gender'].value_counts() "
      ],
      "execution_count": null,
      "outputs": [
        {
          "output_type": "execute_result",
          "data": {
            "text/plain": [
              "F      14236\n",
              "M       7288\n",
              "XNA        1\n",
              "Name: gender, dtype: int64"
            ]
          },
          "metadata": {
            "tags": []
          },
          "execution_count": 25
        }
      ]
    },
    {
      "cell_type": "code",
      "metadata": {
        "id": "jncYXFtBNm3e",
        "outputId": "32ecc76c-4d2c-4b44-8852-a730f3a0cae2"
      },
      "source": [
        "# удаление строки методом drop и сброс индексов у таблицы\n",
        "df = df.drop(df[df.gender == 'XNA'].index).reset_index(drop = True) \n",
        "\n",
        "# проверка удаления строки\n",
        "df['gender'].value_counts() "
      ],
      "execution_count": null,
      "outputs": [
        {
          "output_type": "execute_result",
          "data": {
            "text/plain": [
              "F    14236\n",
              "M     7288\n",
              "Name: gender, dtype: int64"
            ]
          },
          "metadata": {
            "tags": []
          },
          "execution_count": 26
        }
      ]
    },
    {
      "cell_type": "markdown",
      "metadata": {
        "id": "pAS_K4KeNm3l"
      },
      "source": [
        "***"
      ]
    },
    {
      "cell_type": "markdown",
      "metadata": {
        "id": "MzsdU_NHNm3m"
      },
      "source": [
        "Удалили строки в столбце *'income_type'*, имеющие небольшое количество записей и которые сложно дифференцировать по основным группам."
      ]
    },
    {
      "cell_type": "code",
      "metadata": {
        "scrolled": true,
        "id": "8kK8wsV8Nm3n",
        "outputId": "81dfaa85-5d2c-4181-85f6-1de87e0985be"
      },
      "source": [
        "# подсчет уникальных значений столбца 'income_type'\n",
        "df['income_type'].value_counts()  "
      ],
      "execution_count": null,
      "outputs": [
        {
          "output_type": "execute_result",
          "data": {
            "text/plain": [
              "сотрудник          11119\n",
              "компаньон           5084\n",
              "пенсионер           3856\n",
              "госслужащий         1459\n",
              "предприниматель        2\n",
              "безработный            2\n",
              "студент                1\n",
              "в декрете              1\n",
              "Name: income_type, dtype: int64"
            ]
          },
          "metadata": {
            "tags": []
          },
          "execution_count": 27
        }
      ]
    },
    {
      "cell_type": "code",
      "metadata": {
        "id": "uINGA-zxNm3o",
        "outputId": "6382ac9a-4dc2-4eec-a02e-571569ed86f3"
      },
      "source": [
        "# удаление строк методом .drop с логическим условием и сброс индексов у таблицы df \n",
        "\n",
        "df = df.drop(df[(df.income_type == 'безработный') | (df.income_type == 'предприниматель') \\\n",
        "                | (df.income_type == 'студент') | (df.income_type == 'в декрете')].index).reset_index(drop = True)\n",
        "\n",
        "\n",
        "# проверка столбца 'income_type'\n",
        "df['income_type'].value_counts()"
      ],
      "execution_count": null,
      "outputs": [
        {
          "output_type": "execute_result",
          "data": {
            "text/plain": [
              "сотрудник      11119\n",
              "компаньон       5084\n",
              "пенсионер       3856\n",
              "госслужащий     1459\n",
              "Name: income_type, dtype: int64"
            ]
          },
          "metadata": {
            "tags": []
          },
          "execution_count": 28
        }
      ]
    },
    {
      "cell_type": "markdown",
      "metadata": {
        "id": "cmNC9otnNm3p"
      },
      "source": [
        "***"
      ]
    },
    {
      "cell_type": "markdown",
      "metadata": {
        "id": "yx0UIE1KNm3p"
      },
      "source": [
        "Посмотрели на столбец *'debt'* и поняли, что он не имеет неточностей."
      ]
    },
    {
      "cell_type": "code",
      "metadata": {
        "id": "06d11elsNm3q",
        "outputId": "2e6626be-ee44-40a8-b5db-1e50acbc7dd6"
      },
      "source": [
        "# подсчет уникальных значений столбца 'debt'\n",
        "df['debt'].value_counts() "
      ],
      "execution_count": null,
      "outputs": [
        {
          "output_type": "execute_result",
          "data": {
            "text/plain": [
              "0    19779\n",
              "1     1739\n",
              "Name: debt, dtype: int64"
            ]
          },
          "metadata": {
            "tags": []
          },
          "execution_count": 29
        }
      ]
    },
    {
      "cell_type": "markdown",
      "metadata": {
        "id": "J9sbdHQZNm3r"
      },
      "source": [
        "###  Выводы\n",
        "\n",
        "При поиске дубликатов мы обнаружили разные несоответвия и нехарактерные данные в столбцах нашей таблицы. При приведении в норму использовали различные методы: \n",
        "\n",
        "+ замена характерными значениями: близкие по смыслу, усредненное среднее по выборке\n",
        "\n",
        "+ приведение к нижнему регистру строковых данных\n",
        "\n",
        "+ удаление строк\n",
        "\n",
        "Таблица практически очищена от неточностей и готова к дальнейшему анализу."
      ]
    },
    {
      "cell_type": "markdown",
      "metadata": {
        "id": "FyIqN0DCNm3r"
      },
      "source": [
        "* ### Лемматизация"
      ]
    },
    {
      "cell_type": "markdown",
      "metadata": {
        "id": "ITebI1fQNm3s"
      },
      "source": [
        "Произвели лемматизацию столбца с целями получения кредита."
      ]
    },
    {
      "cell_type": "code",
      "metadata": {
        "id": "KmbGozN6Nm3s"
      },
      "source": [
        "# импорт библиотеки pymystem3 с функцией лемматизации на русском языке\n",
        "from pymystem3 import Mystem        \n",
        "m = Mystem()\n",
        "\n",
        "# импорт 'счётчика' из модуля collections\n",
        "from collections import Counter     \n"
      ],
      "execution_count": null,
      "outputs": []
    },
    {
      "cell_type": "markdown",
      "metadata": {
        "id": "mhhqeu2FNm3t"
      },
      "source": [
        "Написали функцию для лемматизации столбца *'purpose'* и создали столбец методом `.apply`."
      ]
    },
    {
      "cell_type": "code",
      "metadata": {
        "id": "j1Y1HHUbNm3t",
        "outputId": "d49e207f-65be-4e2e-8813-a6b43c95f793"
      },
      "source": [
        "# функция для лемматизации столбца с выводом строк лемм\n",
        "def to_lemmas(text):                                         \n",
        "    lemmas = m.lemmatize(text)\n",
        "    lemmas_str = ' '.join(m.lemmatize(text))\n",
        "    return lemmas_str\n",
        "\n",
        "# создание столбца с леммами в таблице df\n",
        "df['lemmas_purpose'] = df['purpose'].apply(to_lemmas)         \n",
        "df['lemmas_purpose']"
      ],
      "execution_count": null,
      "outputs": [
        {
          "output_type": "execute_result",
          "data": {
            "text/plain": [
              "0                         покупка   жилье \\n\n",
              "1               приобретение   автомобиль \\n\n",
              "2                         покупка   жилье \\n\n",
              "3            дополнительный   образование \\n\n",
              "4                       сыграть   свадьба \\n\n",
              "                        ...                 \n",
              "21513                операция   с   жилье \\n\n",
              "21514             сделка   с   автомобиль \\n\n",
              "21515                        недвижимость \\n\n",
              "21516    на   покупка   свой   автомобиль \\n\n",
              "21517           на   покупка   автомобиль \\n\n",
              "Name: lemmas_purpose, Length: 21518, dtype: object"
            ]
          },
          "metadata": {
            "tags": []
          },
          "execution_count": 31
        }
      ]
    },
    {
      "cell_type": "code",
      "metadata": {
        "id": "BUiO5qPBNm3u",
        "outputId": "76ec026e-ea91-474d-d7af-2bf40a2eef6e"
      },
      "source": [
        "# визуальная оценка смысловых лемм в столбце 'purpose'\n",
        "df['lemmas_purpose'].value_counts()             "
      ],
      "execution_count": null,
      "outputs": [
        {
          "output_type": "execute_result",
          "data": {
            "text/plain": [
              "автомобиль \\n                                    972\n",
              "свадьба \\n                                       797\n",
              "на   проведение   свадьба \\n                     776\n",
              "сыграть   свадьба \\n                             774\n",
              "операция   с   недвижимость \\n                   676\n",
              "покупка   коммерческий   недвижимость \\n         664\n",
              "операция   с   жилье \\n                          653\n",
              "покупка   жилье   для   сдача \\n                 652\n",
              "операция   с   коммерческий   недвижимость \\n    651\n",
              "покупка   жилье \\n                               647\n",
              "жилье \\n                                         647\n",
              "покупка   жилье   для   семья \\n                 641\n",
              "строительство   собственный   недвижимость \\n    634\n",
              "недвижимость \\n                                  634\n",
              "операция   со   свой   недвижимость \\n           630\n",
              "строительство   жилой   недвижимость \\n          626\n",
              "покупка   недвижимость \\n                        623\n",
              "покупка   свой   жилье \\n                        620\n",
              "строительство   недвижимость \\n                  620\n",
              "ремонт   жилье \\n                                611\n",
              "покупка   жилой   недвижимость \\n                606\n",
              "на   покупка   свой   автомобиль \\n              505\n",
              "заниматься   высокий   образование \\n            496\n",
              "сделка   с   подержанный   автомобиль \\n         489\n",
              "свой   автомобиль \\n                             480\n",
              "на   покупка   подержать   автомобиль \\n         479\n",
              "на   покупка   автомобиль \\n                     472\n",
              "дополнительный   образование \\n                  462\n",
              "приобретение   автомобиль \\n                     462\n",
              "сделка   с   автомобиль \\n                       455\n",
              "высокий   образование \\n                         453\n",
              "образование \\n                                   447\n",
              "получение   дополнительный   образование \\n      447\n",
              "получение   образование \\n                       443\n",
              "профильный   образование \\n                      436\n",
              "получение   высокий   образование \\n             426\n",
              "заниматься   образование \\n                      412\n",
              "Name: lemmas_purpose, dtype: int64"
            ]
          },
          "metadata": {
            "tags": []
          },
          "execution_count": 32
        }
      ]
    },
    {
      "cell_type": "markdown",
      "metadata": {
        "id": "w2fsVPkmNm3v"
      },
      "source": [
        "###  Выводы\n",
        "\n",
        "В процессе лемматизации столбца с целями получения кредита мы обнаружили, что все цели определяются очень ограниченным кругом интересов. При визуальной оценке эти интересы можно условно распределить по категориям:\n",
        "\n",
        "* недвижимость\n",
        "* автомобиль\n",
        "* образование\n",
        "* свадьба\n",
        "\n",
        "В дальнейшем категоризируем эти данные для более удобного анализа."
      ]
    },
    {
      "cell_type": "markdown",
      "metadata": {
        "id": "-arkE3haNm3w"
      },
      "source": [
        "* ### Категоризация данных"
      ]
    },
    {
      "cell_type": "markdown",
      "metadata": {
        "id": "MM6guoCtNm3x"
      },
      "source": [
        "###  *'debt'*"
      ]
    },
    {
      "cell_type": "markdown",
      "metadata": {
        "id": "EukrToyBNm3x"
      },
      "source": [
        "Функция для распределения факта наличия задолженности по кредиту."
      ]
    },
    {
      "cell_type": "code",
      "metadata": {
        "id": "l9aYGKGUNm3y",
        "outputId": "7a3b49a6-2aaa-4b48-9b11-1d3a79adf5bd"
      },
      "source": [
        "# функция распределения факта наличия задолженности по категориям\n",
        "def to_cat_debt(row):                                     \n",
        "    if row == 0:\n",
        "        return 'не было'\n",
        "    else:\n",
        "        return 'была задолженность'\n",
        "\n",
        "    # создание столбца с категориями в таблице df\n",
        "df['category_debt'] = df['debt'].apply(to_cat_debt)     \n",
        "df['category_debt']    "
      ],
      "execution_count": null,
      "outputs": [
        {
          "output_type": "execute_result",
          "data": {
            "text/plain": [
              "0                   не было\n",
              "1                   не было\n",
              "2                   не было\n",
              "3                   не было\n",
              "4                   не было\n",
              "                ...        \n",
              "21513               не было\n",
              "21514               не было\n",
              "21515    была задолженность\n",
              "21516    была задолженность\n",
              "21517               не было\n",
              "Name: category_debt, Length: 21518, dtype: object"
            ]
          },
          "metadata": {
            "tags": []
          },
          "execution_count": 33
        }
      ]
    },
    {
      "cell_type": "markdown",
      "metadata": {
        "id": "IAWgN8O9Nm3z"
      },
      "source": [
        "***"
      ]
    },
    {
      "cell_type": "markdown",
      "metadata": {
        "id": "2cxIe-0tNm3z"
      },
      "source": [
        "###  *'purpose'*"
      ]
    },
    {
      "cell_type": "markdown",
      "metadata": {
        "id": "omtpahLuNm30"
      },
      "source": [
        "Написали функцию для столбца с леммами, распределяющую их по категориям, и создали столбец методом `.apply`."
      ]
    },
    {
      "cell_type": "code",
      "metadata": {
        "id": "8X2PcKMvNm30",
        "outputId": "863141c2-4903-4dec-f210-421675372eb0"
      },
      "source": [
        "# функция распределения целей получения кредита по категориям\n",
        "def to_cat_purpose(row):                                         \n",
        "\n",
        "    if ('недвижимость' in row.split(' ')) | ('жилье' in row.split(' ')):\n",
        "        return 'недвижимость'\n",
        "    if 'автомобиль' in row.split(' '):\n",
        "        return 'автомобиль'\n",
        "    if 'образование' in row.split(' '):\n",
        "        return 'образование'\n",
        "    if 'свадьба' in row.split(' '):\n",
        "        return 'свадьба'\n",
        "\n",
        "# создание столбца с категориями в таблице df\n",
        "df['category_purpose'] = df['lemmas_purpose'].apply(to_cat_purpose)     \n",
        "df['category_purpose']"
      ],
      "execution_count": null,
      "outputs": [
        {
          "output_type": "execute_result",
          "data": {
            "text/plain": [
              "0        недвижимость\n",
              "1          автомобиль\n",
              "2        недвижимость\n",
              "3         образование\n",
              "4             свадьба\n",
              "             ...     \n",
              "21513    недвижимость\n",
              "21514      автомобиль\n",
              "21515    недвижимость\n",
              "21516      автомобиль\n",
              "21517      автомобиль\n",
              "Name: category_purpose, Length: 21518, dtype: object"
            ]
          },
          "metadata": {
            "tags": []
          },
          "execution_count": 34
        }
      ]
    },
    {
      "cell_type": "markdown",
      "metadata": {
        "id": "HRinKSlBNm31"
      },
      "source": [
        "Посмотрели распределение значений нового столбца."
      ]
    },
    {
      "cell_type": "code",
      "metadata": {
        "id": "JzXER84nNm32",
        "outputId": "ebb0f863-7585-4118-b9ae-1ea7119abbf7"
      },
      "source": [
        "# уникальные значения столбца 'category_purpose'\n",
        "df['category_purpose'].value_counts()        "
      ],
      "execution_count": null,
      "outputs": [
        {
          "output_type": "execute_result",
          "data": {
            "text/plain": [
              "недвижимость    10835\n",
              "автомобиль       4314\n",
              "образование      4022\n",
              "свадьба          2347\n",
              "Name: category_purpose, dtype: int64"
            ]
          },
          "metadata": {
            "tags": []
          },
          "execution_count": 35
        }
      ]
    },
    {
      "cell_type": "markdown",
      "metadata": {
        "id": "Y1ku5vqvNm33"
      },
      "source": [
        "Создали сводную таблицу для просмотра влияния целей получения кредита на его возврат в срок."
      ]
    },
    {
      "cell_type": "code",
      "metadata": {
        "id": "x8ISBgYBNm33",
        "outputId": "619599db-b8fe-473f-9133-d3d8e1addadd"
      },
      "source": [
        "# создание сводной таблицы\n",
        "df_pivot_purpose = df.pivot_table(index=['category_purpose'], columns='category_debt', values='total_income', aggfunc='count')\n",
        "\n",
        "# создание столбца с отношениями категорий к факту наличия или отсутствия задолженности\n",
        "df_pivot_purpose['ratio_%'] = 100 * df_pivot_purpose['была задолженность'] / df_pivot_purpose['не было']\n",
        "\n",
        "df_pivot_purpose.sort_values('ratio_%', ascending = False)"
      ],
      "execution_count": null,
      "outputs": [
        {
          "output_type": "execute_result",
          "data": {
            "text/html": [
              "<div>\n",
              "<style scoped>\n",
              "    .dataframe tbody tr th:only-of-type {\n",
              "        vertical-align: middle;\n",
              "    }\n",
              "\n",
              "    .dataframe tbody tr th {\n",
              "        vertical-align: top;\n",
              "    }\n",
              "\n",
              "    .dataframe thead th {\n",
              "        text-align: right;\n",
              "    }\n",
              "</style>\n",
              "<table border=\"1\" class=\"dataframe\">\n",
              "  <thead>\n",
              "    <tr style=\"text-align: right;\">\n",
              "      <th>category_debt</th>\n",
              "      <th>была задолженность</th>\n",
              "      <th>не было</th>\n",
              "      <th>ratio_%</th>\n",
              "    </tr>\n",
              "    <tr>\n",
              "      <th>category_purpose</th>\n",
              "      <th></th>\n",
              "      <th></th>\n",
              "      <th></th>\n",
              "    </tr>\n",
              "  </thead>\n",
              "  <tbody>\n",
              "    <tr>\n",
              "      <td>автомобиль</td>\n",
              "      <td>402</td>\n",
              "      <td>3912</td>\n",
              "      <td>10.276074</td>\n",
              "    </tr>\n",
              "    <tr>\n",
              "      <td>образование</td>\n",
              "      <td>370</td>\n",
              "      <td>3652</td>\n",
              "      <td>10.131435</td>\n",
              "    </tr>\n",
              "    <tr>\n",
              "      <td>свадьба</td>\n",
              "      <td>186</td>\n",
              "      <td>2161</td>\n",
              "      <td>8.607126</td>\n",
              "    </tr>\n",
              "    <tr>\n",
              "      <td>недвижимость</td>\n",
              "      <td>781</td>\n",
              "      <td>10054</td>\n",
              "      <td>7.768053</td>\n",
              "    </tr>\n",
              "  </tbody>\n",
              "</table>\n",
              "</div>"
            ],
            "text/plain": [
              "category_debt     была задолженность  не было    ratio_%\n",
              "category_purpose                                        \n",
              "автомобиль                       402     3912  10.276074\n",
              "образование                      370     3652  10.131435\n",
              "свадьба                          186     2161   8.607126\n",
              "недвижимость                     781    10054   7.768053"
            ]
          },
          "metadata": {
            "tags": []
          },
          "execution_count": 36
        }
      ]
    },
    {
      "cell_type": "markdown",
      "metadata": {
        "id": "CDdgQCB8Nm34"
      },
      "source": [
        "***"
      ]
    },
    {
      "cell_type": "markdown",
      "metadata": {
        "id": "5OYk8iapNm35"
      },
      "source": [
        "###  *'children'*"
      ]
    },
    {
      "cell_type": "markdown",
      "metadata": {
        "id": "_CRe0jajNm35"
      },
      "source": [
        "Функция для распределения количества детей по категориям."
      ]
    },
    {
      "cell_type": "code",
      "metadata": {
        "id": "cTkvTSGyNm36",
        "outputId": "17c6832d-f18e-4e61-97d2-d2b5a2394e2f"
      },
      "source": [
        "# функция распределения наличия детей по категориям\n",
        "def to_cat_child(row):                                           \n",
        "    if row == 0:\n",
        "        return 'отсутствуют'\n",
        "    if row != 0:\n",
        "        return 'есть дети'\n",
        "\n",
        "# создание столбца с категориями в таблице df    \n",
        "df['category_children'] = df['children'].apply(to_cat_child)     \n",
        "df['category_children']"
      ],
      "execution_count": null,
      "outputs": [
        {
          "output_type": "execute_result",
          "data": {
            "text/plain": [
              "0          есть дети\n",
              "1          есть дети\n",
              "2        отсутствуют\n",
              "3          есть дети\n",
              "4        отсутствуют\n",
              "            ...     \n",
              "21513      есть дети\n",
              "21514    отсутствуют\n",
              "21515      есть дети\n",
              "21516      есть дети\n",
              "21517      есть дети\n",
              "Name: category_children, Length: 21518, dtype: object"
            ]
          },
          "metadata": {
            "tags": []
          },
          "execution_count": 37
        }
      ]
    },
    {
      "cell_type": "markdown",
      "metadata": {
        "id": "x-a5feN4Nm37"
      },
      "source": [
        "Создали сводную таблицу для просмотра влияния наличия детей на возврат кредита в срок."
      ]
    },
    {
      "cell_type": "code",
      "metadata": {
        "id": "BsWC9lzANm37",
        "outputId": "828175e5-0175-413b-e99b-dcc6874129ec"
      },
      "source": [
        "# создание сводной таблицы\n",
        "df_pivot_children = df.pivot_table(index=['category_children'], columns='category_debt', values='total_income', aggfunc='count')\n",
        "\n",
        "# создание столбца с отношениями категорий к факту наличия или отсутствия задолженности\n",
        "df_pivot_children['ratio_%'] = 100 * df_pivot_children['была задолженность'] / df_pivot_children['не было']\n",
        "df_pivot_children.sort_values('ratio_%', ascending = False)"
      ],
      "execution_count": null,
      "outputs": [
        {
          "output_type": "execute_result",
          "data": {
            "text/html": [
              "<div>\n",
              "<style scoped>\n",
              "    .dataframe tbody tr th:only-of-type {\n",
              "        vertical-align: middle;\n",
              "    }\n",
              "\n",
              "    .dataframe tbody tr th {\n",
              "        vertical-align: top;\n",
              "    }\n",
              "\n",
              "    .dataframe thead th {\n",
              "        text-align: right;\n",
              "    }\n",
              "</style>\n",
              "<table border=\"1\" class=\"dataframe\">\n",
              "  <thead>\n",
              "    <tr style=\"text-align: right;\">\n",
              "      <th>category_debt</th>\n",
              "      <th>была задолженность</th>\n",
              "      <th>не было</th>\n",
              "      <th>ratio_%</th>\n",
              "    </tr>\n",
              "    <tr>\n",
              "      <th>category_children</th>\n",
              "      <th></th>\n",
              "      <th></th>\n",
              "      <th></th>\n",
              "    </tr>\n",
              "  </thead>\n",
              "  <tbody>\n",
              "    <tr>\n",
              "      <td>есть дети</td>\n",
              "      <td>676</td>\n",
              "      <td>6698</td>\n",
              "      <td>10.092565</td>\n",
              "    </tr>\n",
              "    <tr>\n",
              "      <td>отсутствуют</td>\n",
              "      <td>1063</td>\n",
              "      <td>13081</td>\n",
              "      <td>8.126290</td>\n",
              "    </tr>\n",
              "  </tbody>\n",
              "</table>\n",
              "</div>"
            ],
            "text/plain": [
              "category_debt      была задолженность  не было    ratio_%\n",
              "category_children                                        \n",
              "есть дети                         676     6698  10.092565\n",
              "отсутствуют                      1063    13081   8.126290"
            ]
          },
          "metadata": {
            "tags": []
          },
          "execution_count": 38
        }
      ]
    },
    {
      "cell_type": "markdown",
      "metadata": {
        "id": "I9FR0INXNm38"
      },
      "source": [
        "***"
      ]
    },
    {
      "cell_type": "markdown",
      "metadata": {
        "id": "QbboZsd4Nm39"
      },
      "source": [
        "###  *'family_status'*"
      ]
    },
    {
      "cell_type": "markdown",
      "metadata": {
        "id": "SVNOQvybNm39"
      },
      "source": [
        "Функция для распределения семейного положения по категориям."
      ]
    },
    {
      "cell_type": "code",
      "metadata": {
        "id": "c1eXbiQSNm3-",
        "outputId": "660185f8-a355-4972-ee8e-d26bef9b45b0"
      },
      "source": [
        "# функция распределения семейного положения по категориям\n",
        "def to_cat_family(row):                                               \n",
        "    if row == 0:\n",
        "        return 'в браке'\n",
        "    else:\n",
        "        return 'свободен'\n",
        "    \n",
        "# создание столбца с категориями в таблице df    \n",
        "df['category_family'] = df['family_status_id'].apply(to_cat_family)     \n",
        "df['category_family']"
      ],
      "execution_count": null,
      "outputs": [
        {
          "output_type": "execute_result",
          "data": {
            "text/plain": [
              "0         в браке\n",
              "1         в браке\n",
              "2         в браке\n",
              "3         в браке\n",
              "4        свободен\n",
              "           ...   \n",
              "21513    свободен\n",
              "21514     в браке\n",
              "21515    свободен\n",
              "21516     в браке\n",
              "21517     в браке\n",
              "Name: category_family, Length: 21518, dtype: object"
            ]
          },
          "metadata": {
            "tags": []
          },
          "execution_count": 39
        }
      ]
    },
    {
      "cell_type": "markdown",
      "metadata": {
        "id": "7XUpxzmMNm3_"
      },
      "source": [
        "Создали сводную таблицу для просмотра влияния семейного положения на возврат кредита в срок."
      ]
    },
    {
      "cell_type": "code",
      "metadata": {
        "id": "HBjswXn-Nm3_",
        "outputId": "f215fbad-59be-47b7-ba18-965f02a3cbc6"
      },
      "source": [
        "# создание сводной таблицы\n",
        "df_pivot_family = df.pivot_table(index=['category_family'], columns='category_debt', values='total_income', aggfunc='count')\n",
        "\n",
        "# создание столбца с отношениями категорий к факту наличия или отсутствия задолженности\n",
        "df_pivot_family['ratio_%'] = 100 * df_pivot_family['была задолженность'] / df_pivot_family['не было']\n",
        "df_pivot_family.sort_values('ratio_%', ascending = False)"
      ],
      "execution_count": null,
      "outputs": [
        {
          "output_type": "execute_result",
          "data": {
            "text/html": [
              "<div>\n",
              "<style scoped>\n",
              "    .dataframe tbody tr th:only-of-type {\n",
              "        vertical-align: middle;\n",
              "    }\n",
              "\n",
              "    .dataframe tbody tr th {\n",
              "        vertical-align: top;\n",
              "    }\n",
              "\n",
              "    .dataframe thead th {\n",
              "        text-align: right;\n",
              "    }\n",
              "</style>\n",
              "<table border=\"1\" class=\"dataframe\">\n",
              "  <thead>\n",
              "    <tr style=\"text-align: right;\">\n",
              "      <th>category_debt</th>\n",
              "      <th>была задолженность</th>\n",
              "      <th>не было</th>\n",
              "      <th>ratio_%</th>\n",
              "    </tr>\n",
              "    <tr>\n",
              "      <th>category_family</th>\n",
              "      <th></th>\n",
              "      <th></th>\n",
              "      <th></th>\n",
              "    </tr>\n",
              "  </thead>\n",
              "  <tbody>\n",
              "    <tr>\n",
              "      <td>свободен</td>\n",
              "      <td>810</td>\n",
              "      <td>8331</td>\n",
              "      <td>9.722722</td>\n",
              "    </tr>\n",
              "    <tr>\n",
              "      <td>в браке</td>\n",
              "      <td>929</td>\n",
              "      <td>11448</td>\n",
              "      <td>8.114955</td>\n",
              "    </tr>\n",
              "  </tbody>\n",
              "</table>\n",
              "</div>"
            ],
            "text/plain": [
              "category_debt    была задолженность  не было   ratio_%\n",
              "category_family                                       \n",
              "свободен                        810     8331  9.722722\n",
              "в браке                         929    11448  8.114955"
            ]
          },
          "metadata": {
            "tags": []
          },
          "execution_count": 40
        }
      ]
    },
    {
      "cell_type": "markdown",
      "metadata": {
        "id": "h2stlu7FNm4A"
      },
      "source": [
        "***"
      ]
    },
    {
      "cell_type": "markdown",
      "metadata": {
        "id": "QvKE3rEvNm4B"
      },
      "source": [
        "###  *'total_income'*"
      ]
    },
    {
      "cell_type": "markdown",
      "metadata": {
        "id": "Negn2MRSNm4B"
      },
      "source": [
        "Функция для распределения дохода по категориям."
      ]
    },
    {
      "cell_type": "code",
      "metadata": {
        "id": "5r1q97NeNm4C",
        "outputId": "42058368-316e-49f7-ef9b-09e9d79e5df1"
      },
      "source": [
        "# функция распределения дохода по категориям\n",
        "def to_cat_income(row):                                                     \n",
        "    if row <= 0.75 * df['total_income'].median():\n",
        "        return 'низкий доход'\n",
        "    if row > 2 * df['total_income'].median():\n",
        "        return 'высокий доход'\n",
        "    else:\n",
        "        return 'средний доход'\n",
        "    \n",
        "# создание столбца с категориями в таблице df    \n",
        "df['category_total_income'] = df['total_income'].apply(to_cat_income)     \n",
        "df['category_total_income']    "
      ],
      "execution_count": null,
      "outputs": [
        {
          "output_type": "execute_result",
          "data": {
            "text/plain": [
              "0        средний доход\n",
              "1        средний доход\n",
              "2        средний доход\n",
              "3        средний доход\n",
              "4        средний доход\n",
              "             ...      \n",
              "21513    средний доход\n",
              "21514    средний доход\n",
              "21515     низкий доход\n",
              "21516    средний доход\n",
              "21517     низкий доход\n",
              "Name: category_total_income, Length: 21518, dtype: object"
            ]
          },
          "metadata": {
            "tags": []
          },
          "execution_count": 41
        }
      ]
    },
    {
      "cell_type": "markdown",
      "metadata": {
        "id": "uOORsABLNm4D"
      },
      "source": [
        "Создали сводную таблицу для просмотра влияния уровня дохода на возврат кредита в срок."
      ]
    },
    {
      "cell_type": "code",
      "metadata": {
        "id": "R7R8ctBbNm4E",
        "outputId": "de515498-be6f-43e2-a84c-e91e9dd54aae"
      },
      "source": [
        "# создание сводной таблицы\n",
        "df_pivot_total_income = df.pivot_table(index=['category_total_income'], columns='category_debt', values='total_income', aggfunc='count')\n",
        "\n",
        "# создание столбца с отношениями категорий к факту наличия или отсутствия задолженности\n",
        "df_pivot_total_income['ratio_%'] = 100 * df_pivot_total_income['была задолженность'] / df_pivot_total_income['не было']\n",
        "df_pivot_total_income.sort_values('ratio_%', ascending = False)"
      ],
      "execution_count": null,
      "outputs": [
        {
          "output_type": "execute_result",
          "data": {
            "text/html": [
              "<div>\n",
              "<style scoped>\n",
              "    .dataframe tbody tr th:only-of-type {\n",
              "        vertical-align: middle;\n",
              "    }\n",
              "\n",
              "    .dataframe tbody tr th {\n",
              "        vertical-align: top;\n",
              "    }\n",
              "\n",
              "    .dataframe thead th {\n",
              "        text-align: right;\n",
              "    }\n",
              "</style>\n",
              "<table border=\"1\" class=\"dataframe\">\n",
              "  <thead>\n",
              "    <tr style=\"text-align: right;\">\n",
              "      <th>category_debt</th>\n",
              "      <th>была задолженность</th>\n",
              "      <th>не было</th>\n",
              "      <th>ratio_%</th>\n",
              "    </tr>\n",
              "    <tr>\n",
              "      <th>category_total_income</th>\n",
              "      <th></th>\n",
              "      <th></th>\n",
              "      <th></th>\n",
              "    </tr>\n",
              "  </thead>\n",
              "  <tbody>\n",
              "    <tr>\n",
              "      <td>средний доход</td>\n",
              "      <td>1183</td>\n",
              "      <td>13183</td>\n",
              "      <td>8.973678</td>\n",
              "    </tr>\n",
              "    <tr>\n",
              "      <td>низкий доход</td>\n",
              "      <td>436</td>\n",
              "      <td>5062</td>\n",
              "      <td>8.613196</td>\n",
              "    </tr>\n",
              "    <tr>\n",
              "      <td>высокий доход</td>\n",
              "      <td>120</td>\n",
              "      <td>1534</td>\n",
              "      <td>7.822686</td>\n",
              "    </tr>\n",
              "  </tbody>\n",
              "</table>\n",
              "</div>"
            ],
            "text/plain": [
              "category_debt          была задолженность  не было   ratio_%\n",
              "category_total_income                                       \n",
              "средний доход                        1183    13183  8.973678\n",
              "низкий доход                          436     5062  8.613196\n",
              "высокий доход                         120     1534  7.822686"
            ]
          },
          "metadata": {
            "tags": []
          },
          "execution_count": 42
        }
      ]
    },
    {
      "cell_type": "markdown",
      "metadata": {
        "id": "lRcL_tfeNm4F"
      },
      "source": [
        "###  Выводы\n",
        "\n",
        "При категоризации столбца с целями получения кредита мы обнаружили, что условно интерес в заемных средствах представляет только четыре цели. Все они относятся к долгосрочным и дорогим покупкам и потому требующие кредитных средств банка. \n",
        "\n",
        "Категоризация столбца с детьми получила 2 категории: наличия или отсутствия, так как конкретное количество не важно в ответе на поставленный вопрос. \n",
        "\n",
        "Также столбец с семейным положением: либо человек в браке, либо свободен, потому что не юридически обязывающие отношения между людьми сомнительно влияют на возврат кредита. \n",
        "\n",
        "Категоризацию столбца доходов провели согласно рекомендации ОЭСР."
      ]
    },
    {
      "cell_type": "markdown",
      "metadata": {
        "id": "hwbFCOCgNm4G"
      },
      "source": [
        "***"
      ]
    },
    {
      "cell_type": "markdown",
      "metadata": {
        "id": "vVgu3OhJNm4H"
      },
      "source": [
        "## 3. Ответы на вопросы"
      ]
    },
    {
      "cell_type": "markdown",
      "metadata": {
        "id": "htH5M9dlNm4H"
      },
      "source": [
        "* ### Влияние наличия детей на возврат кредита в срок"
      ]
    },
    {
      "cell_type": "markdown",
      "metadata": {
        "id": "hDwMP19jNm4I"
      },
      "source": [
        "Процент людей с детьми, невозвращающих кредит, составил 10,1 %. Процент людей без детей, невозвращающих кредит, составил 8,1 %. Различие имеется, но не настолько, чтобы утверждать о явной зависимости наличия детей и возвратом кредита в срок. При любом раскладе процент невозврата будет около 10 %. Поэтому зависимости нет."
      ]
    },
    {
      "cell_type": "markdown",
      "metadata": {
        "id": "jTGA5EfWNm4I"
      },
      "source": [
        "* ### Влияние семейного положения на возврат кредита в срок"
      ]
    },
    {
      "cell_type": "markdown",
      "metadata": {
        "id": "ynUYxVgtNm4J"
      },
      "source": [
        "Семейное положение также не слишком коррелирует с фактом возврата кредита в срок, так как и в этом случае, свободен ли человек или в браке, явно не указывает на его будущую недобросовестность. Различие процента невозврата в категориях семейного положения сотавляет ~ 1,5 %. Поэтому зависимости между семейным положением и возвратом кредита в срок явно не просматривается."
      ]
    },
    {
      "cell_type": "markdown",
      "metadata": {
        "id": "8yjCdsQzNm4J"
      },
      "source": [
        "* ### Корелляция между уровнем дохода и возвратом кредита в срок"
      ]
    },
    {
      "cell_type": "markdown",
      "metadata": {
        "id": "N3G_nIrQNm4K"
      },
      "source": [
        "Процент невозврата кредита у людей с высокими доходами оказывается самым низким. Процент должников со средними и низкими доходами незначительно (на ~ 1 %) превышает процент должников с высокими доходами, что также говорит о отсутствии явной связи между уровнем дохода и возвратом заемных средств в срок."
      ]
    },
    {
      "cell_type": "markdown",
      "metadata": {
        "id": "O8Ipa-jFNm4K"
      },
      "source": [
        "* ### Влияние целей кредита на его возврат в срок"
      ]
    },
    {
      "cell_type": "markdown",
      "metadata": {
        "id": "PuBh8fXPNm4L"
      },
      "source": [
        "Процент невозврата показывает, что наибольшую недобросовестность показывают заемщики, целью получения кредита которых являлся автомобиль (10,3 %). Категория недвижимости наоборот показывает меньшую долю невозвратов (7,8 %). Жильё, как часть дорогостоящей недвижимости, является оплотом стабильности жизни человека. Понимая это, заёмщик меньше всего хочет его потерять. Иными словами без автомобиля \"прожить можно\", а в случае лишения жилья гораздо сложнее."
      ]
    },
    {
      "cell_type": "markdown",
      "metadata": {
        "id": "uX0oYev3Nm4L"
      },
      "source": [
        "***"
      ]
    },
    {
      "cell_type": "markdown",
      "metadata": {
        "id": "CIXNkI_BNm4M"
      },
      "source": [
        "## 4. Общий вывод"
      ]
    },
    {
      "cell_type": "markdown",
      "metadata": {
        "id": "XOqNtQToNm4M"
      },
      "source": [
        "В результате исследования надёжности заёмщиков мы выяснили, что наличие детей, семейное положение и уровень доходов практически не влияют на возврат кредита в срок. Отличия разных категорий в доле невозврата составляет приблизительно 1,5 - 2 %, что указывает на слабую корреляцию между разным количеством детей, разным семейным положением, разным доходом и недобросовестностью клиентов. "
      ]
    }
  ]
}