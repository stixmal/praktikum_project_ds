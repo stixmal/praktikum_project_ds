{
  "nbformat": 4,
  "nbformat_minor": 0,
  "metadata": {
    "ExecuteTimeLog": [
      {
        "duration": 1528,
        "start_time": "2021-06-24T13:47:10.721Z"
      },
      {
        "duration": 45,
        "start_time": "2021-06-24T13:47:12.252Z"
      },
      {
        "duration": 221,
        "start_time": "2021-06-24T13:47:12.300Z"
      },
      {
        "duration": 133,
        "start_time": "2021-06-24T13:47:12.523Z"
      },
      {
        "duration": 199,
        "start_time": "2021-06-24T13:47:12.658Z"
      },
      {
        "duration": 25,
        "start_time": "2021-06-24T13:47:12.859Z"
      },
      {
        "duration": 24,
        "start_time": "2021-06-24T13:47:12.888Z"
      },
      {
        "duration": 9,
        "start_time": "2021-06-24T13:47:12.915Z"
      },
      {
        "duration": 12,
        "start_time": "2021-06-24T13:47:12.926Z"
      },
      {
        "duration": 29,
        "start_time": "2021-06-24T13:47:12.940Z"
      },
      {
        "duration": 52,
        "start_time": "2021-06-24T13:47:12.972Z"
      },
      {
        "duration": 3,
        "start_time": "2021-06-24T13:47:13.027Z"
      },
      {
        "duration": 97,
        "start_time": "2021-06-24T13:47:13.033Z"
      },
      {
        "duration": 198,
        "start_time": "2021-06-24T13:47:13.132Z"
      },
      {
        "duration": 20,
        "start_time": "2021-06-24T13:47:13.332Z"
      },
      {
        "duration": 14,
        "start_time": "2021-06-24T13:47:13.354Z"
      },
      {
        "duration": 63,
        "start_time": "2021-06-24T13:47:13.371Z"
      },
      {
        "duration": 18,
        "start_time": "2021-06-24T13:47:13.437Z"
      },
      {
        "duration": 28,
        "start_time": "2021-06-24T13:47:13.457Z"
      },
      {
        "duration": 36,
        "start_time": "2021-06-24T13:47:13.487Z"
      },
      {
        "duration": 7,
        "start_time": "2021-06-24T13:47:13.525Z"
      },
      {
        "duration": 81,
        "start_time": "2021-06-24T13:47:13.537Z"
      },
      {
        "duration": 133,
        "start_time": "2021-06-24T13:47:13.621Z"
      },
      {
        "duration": 19,
        "start_time": "2021-06-24T13:47:13.757Z"
      },
      {
        "duration": 13,
        "start_time": "2021-06-24T13:47:13.778Z"
      },
      {
        "duration": 4,
        "start_time": "2021-06-24T13:47:13.810Z"
      },
      {
        "duration": 42,
        "start_time": "2021-06-24T13:47:13.816Z"
      },
      {
        "duration": 129,
        "start_time": "2021-06-24T13:47:13.861Z"
      },
      {
        "duration": 57,
        "start_time": "2021-06-24T13:47:13.993Z"
      },
      {
        "duration": 59,
        "start_time": "2021-06-24T13:47:14.052Z"
      },
      {
        "duration": 47,
        "start_time": "2021-06-24T13:47:14.114Z"
      },
      {
        "duration": 11,
        "start_time": "2021-06-24T13:47:14.163Z"
      },
      {
        "duration": 64,
        "start_time": "2021-06-24T13:47:14.177Z"
      },
      {
        "duration": 7,
        "start_time": "2021-06-24T13:47:14.243Z"
      },
      {
        "duration": 414,
        "start_time": "2021-06-24T13:47:14.252Z"
      },
      {
        "duration": 14,
        "start_time": "2021-06-24T13:47:14.668Z"
      },
      {
        "duration": 26,
        "start_time": "2021-06-24T13:47:14.684Z"
      },
      {
        "duration": 19,
        "start_time": "2021-06-24T13:47:14.713Z"
      },
      {
        "duration": 8,
        "start_time": "2021-06-24T13:47:14.734Z"
      },
      {
        "duration": 29,
        "start_time": "2021-06-24T13:47:14.744Z"
      },
      {
        "duration": 18,
        "start_time": "2021-06-24T13:47:14.775Z"
      },
      {
        "duration": 19,
        "start_time": "2021-06-24T13:47:14.795Z"
      },
      {
        "duration": 1270,
        "start_time": "2021-06-24T13:47:14.817Z"
      },
      {
        "duration": 1348,
        "start_time": "2021-06-24T13:47:16.089Z"
      },
      {
        "duration": 8,
        "start_time": "2021-06-24T13:47:17.439Z"
      },
      {
        "duration": 7,
        "start_time": "2021-06-24T13:47:17.450Z"
      },
      {
        "duration": 19,
        "start_time": "2021-06-24T13:47:17.459Z"
      },
      {
        "duration": 32,
        "start_time": "2021-06-24T13:47:17.480Z"
      },
      {
        "duration": 12,
        "start_time": "2021-06-24T13:47:17.514Z"
      }
    ],
    "kernelspec": {
      "display_name": "Python 3",
      "language": "python",
      "name": "python3"
    },
    "language_info": {
      "codemirror_mode": {
        "name": "ipython",
        "version": 3
      },
      "file_extension": ".py",
      "mimetype": "text/x-python",
      "name": "python",
      "nbconvert_exporter": "python",
      "pygments_lexer": "ipython3",
      "version": "3.7.8"
    },
    "toc": {
      "base_numbering": 1,
      "nav_menu": {},
      "number_sections": false,
      "sideBar": true,
      "skip_h1_title": true,
      "title_cell": "Table of Contents",
      "title_sidebar": "Contents",
      "toc_cell": false,
      "toc_position": {},
      "toc_section_display": true,
      "toc_window_display": false
    },
    "colab": {
      "name": "tariff_telecom.ipynb",
      "provenance": [],
      "include_colab_link": true
    }
  },
  "cells": [
    {
      "cell_type": "markdown",
      "metadata": {
        "id": "view-in-github",
        "colab_type": "text"
      },
      "source": [
        "<a href=\"https://colab.research.google.com/github/stixmal/praktikum_project_ds/blob/main/%D0%9E%D0%BF%D1%80%D0%B5%D0%B4%D0%B5%D0%BB%D0%B5%D0%BD%D0%B8%D0%B5%20%D0%BF%D0%B5%D1%80%D1%81%D0%BF%D0%B5%D0%BA%D1%82%D0%B8%D0%B2%D0%BD%D0%BE%D0%B3%D0%BE%20%D1%82%D0%B0%D1%80%D0%B8%D1%84%D0%B0%20%D0%B4%D0%BB%D1%8F%20%D1%82%D0%B5%D0%BB%D0%B5%D0%BA%D0%BE%D0%BC%20%D0%BA%D0%BE%D0%BC%D0%BF%D0%B0%D0%BD%D0%B8%D0%B8/tariff_telecom.ipynb\" target=\"_parent\"><img src=\"https://colab.research.google.com/assets/colab-badge.svg\" alt=\"Open In Colab\"/></a>"
      ]
    },
    {
      "cell_type": "markdown",
      "metadata": {
        "id": "OrsLxCcUSI25"
      },
      "source": [
        "# Определение перспективного тарифа для телеком компании\n",
        "\n",
        "Клиентам федерального оператора сотовой связи предлагается два тарифных плана: «Смарт» и «Ультра». Чтобы скорректировать рекламный бюджет, коммерческий департамент хочет понять, какой тариф приносит больше денег. Сделаем предварительный анализ тарифов на небольшой выборке клиентов. В нашем распоряжении данные 500 пользователей «Мегалайна»: кто они, откуда, каким тарифом пользуются, сколько звонков и сообщений каждый отправил за 2018 год. Проанализируем поведение клиентов и сделаем вывод — какой тариф лучше. Источники: `/datasets/calls.csv`, `/datasets/internet.csv`, `/datasets/messages.csv`, `/datasets/tariffs.csv`, `/datasets/users.csv`.\n"
      ]
    },
    {
      "cell_type": "markdown",
      "metadata": {
        "id": "_GNmv4XuSI3B"
      },
      "source": [
        "## Описание тарифов\n",
        "\n",
        "### Тариф \"Смарт\"\n",
        "\n",
        "#### 1. Ежемесячная плата: 550 рублей\n",
        "\n",
        "\n",
        "#### 2. Включено 500 минут разговора, 50 сообщений и 15 Гб интернет-трафика\n",
        "\n",
        "\n",
        "#### 3. Стоимость услуг сверх тарифного пакета:\n",
        "\n",
        "\n",
        "+ минута разговора: 3 рубля\n",
        "\n",
        "\n",
        "+ сообщение: 3 рубля\n",
        "\n",
        "\n",
        "+ 1 Гб интернет-трафика: 200 рублей\n",
        "\n",
        "\n",
        "### Тариф \"Ультра\"\n",
        "\n",
        "#### 1. Ежемесячная плата: 1950 рублей\n",
        "\n",
        "\n",
        "#### 2. Включено 3000 минут разговора, 1000 сообщений и 30 Гб интернет-трафика\n",
        "\n",
        "\n",
        "#### 3. Стоимость услуг сверх тарифного пакета:\n",
        "\n",
        "\n",
        "+ минута разговора: 1 рубля\n",
        "\n",
        "\n",
        "+ сообщение: 1 рубля\n",
        "\n",
        "\n",
        "+ 1 Гб интернет-трафика: 150 рублей"
      ]
    },
    {
      "cell_type": "markdown",
      "metadata": {
        "id": "wbHysPMySI3E"
      },
      "source": [
        "## Оглавление\n",
        "\n",
        "### [1. Ознакомление с общей информацией](#1) <a id='10'></a>   \n",
        "\n",
        "### [2. Подготовка данных](#2) <a id='20'></a>\n",
        "+ [Замена типа данных и исправление ошибок](#2.1)  \n",
        "\n",
        "\n",
        "+ [Подсчёт количества сделанных звонков и израсходованных минут разговора по месяцам](#2.2)\n",
        "\n",
        "\n",
        "+ [Подсчёт количества отправленных сообщений по месяцам](#2.3)\n",
        "\n",
        "\n",
        "+ [Объём израсходованного интернет-трафика по месяцам](#2.4)\n",
        "\n",
        "\n",
        "+ [Подсчёт помесячной выручки с каждого пользователя](#2.5)\n",
        "\n",
        "### [3. Анализ данных](#3) <a id='30'></a>\n",
        "+ [Описание поведения клиентов и расчёт статистических параметров](#3.1)  \n",
        "\n",
        "\n",
        "\n",
        "### [4. Проверка гипотез](#4) <a id='40'></a>\n",
        "+ [Различие средней выручки пользователей тарифов \"Ультра\" и \"Смарт\"](#4.1)\n",
        "\n",
        "\n",
        "+ [Различие средней выручки пользователей из Москвы от других пользователей](#4.2)\n",
        "\n",
        "\n",
        "### [5. Общий вывод](#5) <a id='50'></a>\n",
        "***"
      ]
    },
    {
      "cell_type": "markdown",
      "metadata": {
        "id": "GnHzITpKSI3G"
      },
      "source": [
        "## 1. Ознакомление с общей информацией <a id='1'></a>   [^](#10) "
      ]
    },
    {
      "cell_type": "markdown",
      "metadata": {
        "id": "RTlc6GJmSI3H"
      },
      "source": [
        "Изучим данные о 500 пользователях федерального оператора сотовой связи."
      ]
    },
    {
      "cell_type": "code",
      "metadata": {
        "id": "A98PGRz3SI3I"
      },
      "source": [
        "# импорт библиотеки pandas\n",
        "import pandas as pd    \n",
        "\n",
        "# импорт библиотеки mathplot\n",
        "import matplotlib.pyplot as plt\n",
        "\n",
        "# импорт библиотеки math\n",
        "import math as mt\n",
        "\n",
        "# импорт библиотеки numpy\n",
        "import numpy as np  \n",
        "\n",
        "# импорт библиотеки статистики\n",
        "from scipy import stats as st\n",
        "\n",
        "# импорт модуля display\n",
        "from IPython.display import display  "
      ],
      "execution_count": null,
      "outputs": []
    },
    {
      "cell_type": "markdown",
      "metadata": {
        "id": "X-hGkKyXSI3K"
      },
      "source": [
        "Прочитаем файлы и сохраним их в переменных."
      ]
    },
    {
      "cell_type": "markdown",
      "metadata": {
        "id": "Ecsqu9VuSI3L"
      },
      "source": [
        "## `users`"
      ]
    },
    {
      "cell_type": "code",
      "metadata": {
        "id": "qo3HASMBSI3M",
        "outputId": "7b8685e6-e38c-465e-a968-fdb214e0e516"
      },
      "source": [
        "# чтение файла с данными\n",
        "df_users = pd.read_csv('/datasets/users.csv')\n",
        "\n",
        "# вызов таблицы на экран\n",
        "display(df_users)  "
      ],
      "execution_count": null,
      "outputs": [
        {
          "output_type": "display_data",
          "data": {
            "text/html": [
              "<div>\n",
              "<style scoped>\n",
              "    .dataframe tbody tr th:only-of-type {\n",
              "        vertical-align: middle;\n",
              "    }\n",
              "\n",
              "    .dataframe tbody tr th {\n",
              "        vertical-align: top;\n",
              "    }\n",
              "\n",
              "    .dataframe thead th {\n",
              "        text-align: right;\n",
              "    }\n",
              "</style>\n",
              "<table border=\"1\" class=\"dataframe\">\n",
              "  <thead>\n",
              "    <tr style=\"text-align: right;\">\n",
              "      <th></th>\n",
              "      <th>user_id</th>\n",
              "      <th>age</th>\n",
              "      <th>churn_date</th>\n",
              "      <th>city</th>\n",
              "      <th>first_name</th>\n",
              "      <th>last_name</th>\n",
              "      <th>reg_date</th>\n",
              "      <th>tariff</th>\n",
              "    </tr>\n",
              "  </thead>\n",
              "  <tbody>\n",
              "    <tr>\n",
              "      <td>0</td>\n",
              "      <td>1000</td>\n",
              "      <td>52</td>\n",
              "      <td>NaN</td>\n",
              "      <td>Краснодар</td>\n",
              "      <td>Рафаил</td>\n",
              "      <td>Верещагин</td>\n",
              "      <td>2018-05-25</td>\n",
              "      <td>ultra</td>\n",
              "    </tr>\n",
              "    <tr>\n",
              "      <td>1</td>\n",
              "      <td>1001</td>\n",
              "      <td>41</td>\n",
              "      <td>NaN</td>\n",
              "      <td>Москва</td>\n",
              "      <td>Иван</td>\n",
              "      <td>Ежов</td>\n",
              "      <td>2018-11-01</td>\n",
              "      <td>smart</td>\n",
              "    </tr>\n",
              "    <tr>\n",
              "      <td>2</td>\n",
              "      <td>1002</td>\n",
              "      <td>59</td>\n",
              "      <td>NaN</td>\n",
              "      <td>Стерлитамак</td>\n",
              "      <td>Евгений</td>\n",
              "      <td>Абрамович</td>\n",
              "      <td>2018-06-17</td>\n",
              "      <td>smart</td>\n",
              "    </tr>\n",
              "    <tr>\n",
              "      <td>3</td>\n",
              "      <td>1003</td>\n",
              "      <td>23</td>\n",
              "      <td>NaN</td>\n",
              "      <td>Москва</td>\n",
              "      <td>Белла</td>\n",
              "      <td>Белякова</td>\n",
              "      <td>2018-08-17</td>\n",
              "      <td>ultra</td>\n",
              "    </tr>\n",
              "    <tr>\n",
              "      <td>4</td>\n",
              "      <td>1004</td>\n",
              "      <td>68</td>\n",
              "      <td>NaN</td>\n",
              "      <td>Новокузнецк</td>\n",
              "      <td>Татьяна</td>\n",
              "      <td>Авдеенко</td>\n",
              "      <td>2018-05-14</td>\n",
              "      <td>ultra</td>\n",
              "    </tr>\n",
              "    <tr>\n",
              "      <td>...</td>\n",
              "      <td>...</td>\n",
              "      <td>...</td>\n",
              "      <td>...</td>\n",
              "      <td>...</td>\n",
              "      <td>...</td>\n",
              "      <td>...</td>\n",
              "      <td>...</td>\n",
              "      <td>...</td>\n",
              "    </tr>\n",
              "    <tr>\n",
              "      <td>495</td>\n",
              "      <td>1495</td>\n",
              "      <td>65</td>\n",
              "      <td>NaN</td>\n",
              "      <td>Иркутск</td>\n",
              "      <td>Авксентий</td>\n",
              "      <td>Фокин</td>\n",
              "      <td>2018-08-28</td>\n",
              "      <td>ultra</td>\n",
              "    </tr>\n",
              "    <tr>\n",
              "      <td>496</td>\n",
              "      <td>1496</td>\n",
              "      <td>36</td>\n",
              "      <td>NaN</td>\n",
              "      <td>Вологда</td>\n",
              "      <td>Трифон</td>\n",
              "      <td>Блохин</td>\n",
              "      <td>2018-01-27</td>\n",
              "      <td>smart</td>\n",
              "    </tr>\n",
              "    <tr>\n",
              "      <td>497</td>\n",
              "      <td>1497</td>\n",
              "      <td>32</td>\n",
              "      <td>NaN</td>\n",
              "      <td>Челябинск</td>\n",
              "      <td>Каролина</td>\n",
              "      <td>Агеева</td>\n",
              "      <td>2018-10-09</td>\n",
              "      <td>smart</td>\n",
              "    </tr>\n",
              "    <tr>\n",
              "      <td>498</td>\n",
              "      <td>1498</td>\n",
              "      <td>68</td>\n",
              "      <td>2018-10-25</td>\n",
              "      <td>Владикавказ</td>\n",
              "      <td>Всеволод</td>\n",
              "      <td>Акимчин</td>\n",
              "      <td>2018-07-19</td>\n",
              "      <td>smart</td>\n",
              "    </tr>\n",
              "    <tr>\n",
              "      <td>499</td>\n",
              "      <td>1499</td>\n",
              "      <td>35</td>\n",
              "      <td>NaN</td>\n",
              "      <td>Пермь</td>\n",
              "      <td>Гектор</td>\n",
              "      <td>Корнилов</td>\n",
              "      <td>2018-09-27</td>\n",
              "      <td>smart</td>\n",
              "    </tr>\n",
              "  </tbody>\n",
              "</table>\n",
              "<p>500 rows × 8 columns</p>\n",
              "</div>"
            ],
            "text/plain": [
              "     user_id  age  churn_date         city first_name  last_name    reg_date  \\\n",
              "0       1000   52         NaN    Краснодар     Рафаил  Верещагин  2018-05-25   \n",
              "1       1001   41         NaN       Москва       Иван       Ежов  2018-11-01   \n",
              "2       1002   59         NaN  Стерлитамак    Евгений  Абрамович  2018-06-17   \n",
              "3       1003   23         NaN       Москва      Белла   Белякова  2018-08-17   \n",
              "4       1004   68         NaN  Новокузнецк    Татьяна   Авдеенко  2018-05-14   \n",
              "..       ...  ...         ...          ...        ...        ...         ...   \n",
              "495     1495   65         NaN      Иркутск  Авксентий      Фокин  2018-08-28   \n",
              "496     1496   36         NaN      Вологда     Трифон     Блохин  2018-01-27   \n",
              "497     1497   32         NaN    Челябинск   Каролина     Агеева  2018-10-09   \n",
              "498     1498   68  2018-10-25  Владикавказ   Всеволод    Акимчин  2018-07-19   \n",
              "499     1499   35         NaN        Пермь     Гектор   Корнилов  2018-09-27   \n",
              "\n",
              "    tariff  \n",
              "0    ultra  \n",
              "1    smart  \n",
              "2    smart  \n",
              "3    ultra  \n",
              "4    ultra  \n",
              "..     ...  \n",
              "495  ultra  \n",
              "496  smart  \n",
              "497  smart  \n",
              "498  smart  \n",
              "499  smart  \n",
              "\n",
              "[500 rows x 8 columns]"
            ]
          },
          "metadata": {
            "tags": []
          }
        }
      ]
    },
    {
      "cell_type": "markdown",
      "metadata": {
        "id": "o8R1TRG-SI3Q"
      },
      "source": [
        "Разберём какую информацию содержат столбцы.\n",
        "\n",
        "* **user_id** — уникальный идентификатор пользователя\n",
        "* **age** — возраст пользователя (годы)\n",
        "* **churn_date** — дата прекращения пользования тарифом (если значение пропущено, то тариф ещё действовал на момент выгрузки данных)\n",
        "* **city** — город проживания пользователя\n",
        "* **first_name** — имя пользователя\n",
        "* **last_name** — фамилия пользователя\n",
        "* **reg_date** — дата подключения тарифа (день, месяц, год)\n",
        "* **tariff** — название тарифного плана"
      ]
    },
    {
      "cell_type": "markdown",
      "metadata": {
        "id": "x-x6lsOtSI3R"
      },
      "source": [
        "## `calls`"
      ]
    },
    {
      "cell_type": "code",
      "metadata": {
        "id": "iSixasCkSI3S",
        "outputId": "afe30bc7-2c2e-4ed0-c691-1897f91c1ba0"
      },
      "source": [
        "# чтение файла с данными\n",
        "df_calls = pd.read_csv('/datasets/calls.csv')\n",
        "\n",
        "# вызов таблицы на экран\n",
        "display(df_calls)  "
      ],
      "execution_count": null,
      "outputs": [
        {
          "output_type": "display_data",
          "data": {
            "text/html": [
              "<div>\n",
              "<style scoped>\n",
              "    .dataframe tbody tr th:only-of-type {\n",
              "        vertical-align: middle;\n",
              "    }\n",
              "\n",
              "    .dataframe tbody tr th {\n",
              "        vertical-align: top;\n",
              "    }\n",
              "\n",
              "    .dataframe thead th {\n",
              "        text-align: right;\n",
              "    }\n",
              "</style>\n",
              "<table border=\"1\" class=\"dataframe\">\n",
              "  <thead>\n",
              "    <tr style=\"text-align: right;\">\n",
              "      <th></th>\n",
              "      <th>id</th>\n",
              "      <th>call_date</th>\n",
              "      <th>duration</th>\n",
              "      <th>user_id</th>\n",
              "    </tr>\n",
              "  </thead>\n",
              "  <tbody>\n",
              "    <tr>\n",
              "      <td>0</td>\n",
              "      <td>1000_0</td>\n",
              "      <td>2018-07-25</td>\n",
              "      <td>0.00</td>\n",
              "      <td>1000</td>\n",
              "    </tr>\n",
              "    <tr>\n",
              "      <td>1</td>\n",
              "      <td>1000_1</td>\n",
              "      <td>2018-08-17</td>\n",
              "      <td>0.00</td>\n",
              "      <td>1000</td>\n",
              "    </tr>\n",
              "    <tr>\n",
              "      <td>2</td>\n",
              "      <td>1000_2</td>\n",
              "      <td>2018-06-11</td>\n",
              "      <td>2.85</td>\n",
              "      <td>1000</td>\n",
              "    </tr>\n",
              "    <tr>\n",
              "      <td>3</td>\n",
              "      <td>1000_3</td>\n",
              "      <td>2018-09-21</td>\n",
              "      <td>13.80</td>\n",
              "      <td>1000</td>\n",
              "    </tr>\n",
              "    <tr>\n",
              "      <td>4</td>\n",
              "      <td>1000_4</td>\n",
              "      <td>2018-12-15</td>\n",
              "      <td>5.18</td>\n",
              "      <td>1000</td>\n",
              "    </tr>\n",
              "    <tr>\n",
              "      <td>...</td>\n",
              "      <td>...</td>\n",
              "      <td>...</td>\n",
              "      <td>...</td>\n",
              "      <td>...</td>\n",
              "    </tr>\n",
              "    <tr>\n",
              "      <td>202602</td>\n",
              "      <td>1499_215</td>\n",
              "      <td>2018-12-26</td>\n",
              "      <td>0.76</td>\n",
              "      <td>1499</td>\n",
              "    </tr>\n",
              "    <tr>\n",
              "      <td>202603</td>\n",
              "      <td>1499_216</td>\n",
              "      <td>2018-10-18</td>\n",
              "      <td>18.83</td>\n",
              "      <td>1499</td>\n",
              "    </tr>\n",
              "    <tr>\n",
              "      <td>202604</td>\n",
              "      <td>1499_217</td>\n",
              "      <td>2018-11-10</td>\n",
              "      <td>10.81</td>\n",
              "      <td>1499</td>\n",
              "    </tr>\n",
              "    <tr>\n",
              "      <td>202605</td>\n",
              "      <td>1499_218</td>\n",
              "      <td>2018-10-06</td>\n",
              "      <td>4.27</td>\n",
              "      <td>1499</td>\n",
              "    </tr>\n",
              "    <tr>\n",
              "      <td>202606</td>\n",
              "      <td>1499_219</td>\n",
              "      <td>2018-12-14</td>\n",
              "      <td>19.62</td>\n",
              "      <td>1499</td>\n",
              "    </tr>\n",
              "  </tbody>\n",
              "</table>\n",
              "<p>202607 rows × 4 columns</p>\n",
              "</div>"
            ],
            "text/plain": [
              "              id   call_date  duration  user_id\n",
              "0         1000_0  2018-07-25      0.00     1000\n",
              "1         1000_1  2018-08-17      0.00     1000\n",
              "2         1000_2  2018-06-11      2.85     1000\n",
              "3         1000_3  2018-09-21     13.80     1000\n",
              "4         1000_4  2018-12-15      5.18     1000\n",
              "...          ...         ...       ...      ...\n",
              "202602  1499_215  2018-12-26      0.76     1499\n",
              "202603  1499_216  2018-10-18     18.83     1499\n",
              "202604  1499_217  2018-11-10     10.81     1499\n",
              "202605  1499_218  2018-10-06      4.27     1499\n",
              "202606  1499_219  2018-12-14     19.62     1499\n",
              "\n",
              "[202607 rows x 4 columns]"
            ]
          },
          "metadata": {
            "tags": []
          }
        }
      ]
    },
    {
      "cell_type": "markdown",
      "metadata": {
        "id": "I2g9nQumSI3T"
      },
      "source": [
        "Разберём какую информацию содержат столбцы.\n",
        "\n",
        "* **id** — уникальный номер звонка\n",
        "* **call_date** — дата звонка\n",
        "* **duration** — длительность звонка в минутах\n",
        "* **user_id** — идентификатор пользователя, сделавшего звонок"
      ]
    },
    {
      "cell_type": "markdown",
      "metadata": {
        "id": "rrl3mH2USI3U"
      },
      "source": [
        "## `messages`"
      ]
    },
    {
      "cell_type": "code",
      "metadata": {
        "id": "IKc_lXeXSI3V",
        "outputId": "3d028dd0-57a0-4fdf-940b-68c1bcf3dd56"
      },
      "source": [
        "# чтение файла с данными\n",
        "df_messages = pd.read_csv('/datasets/messages.csv')\n",
        "\n",
        "# вызов таблицы на экран\n",
        "display(df_messages)  "
      ],
      "execution_count": null,
      "outputs": [
        {
          "output_type": "display_data",
          "data": {
            "text/html": [
              "<div>\n",
              "<style scoped>\n",
              "    .dataframe tbody tr th:only-of-type {\n",
              "        vertical-align: middle;\n",
              "    }\n",
              "\n",
              "    .dataframe tbody tr th {\n",
              "        vertical-align: top;\n",
              "    }\n",
              "\n",
              "    .dataframe thead th {\n",
              "        text-align: right;\n",
              "    }\n",
              "</style>\n",
              "<table border=\"1\" class=\"dataframe\">\n",
              "  <thead>\n",
              "    <tr style=\"text-align: right;\">\n",
              "      <th></th>\n",
              "      <th>id</th>\n",
              "      <th>message_date</th>\n",
              "      <th>user_id</th>\n",
              "    </tr>\n",
              "  </thead>\n",
              "  <tbody>\n",
              "    <tr>\n",
              "      <td>0</td>\n",
              "      <td>1000_0</td>\n",
              "      <td>2018-06-27</td>\n",
              "      <td>1000</td>\n",
              "    </tr>\n",
              "    <tr>\n",
              "      <td>1</td>\n",
              "      <td>1000_1</td>\n",
              "      <td>2018-10-08</td>\n",
              "      <td>1000</td>\n",
              "    </tr>\n",
              "    <tr>\n",
              "      <td>2</td>\n",
              "      <td>1000_2</td>\n",
              "      <td>2018-08-04</td>\n",
              "      <td>1000</td>\n",
              "    </tr>\n",
              "    <tr>\n",
              "      <td>3</td>\n",
              "      <td>1000_3</td>\n",
              "      <td>2018-06-16</td>\n",
              "      <td>1000</td>\n",
              "    </tr>\n",
              "    <tr>\n",
              "      <td>4</td>\n",
              "      <td>1000_4</td>\n",
              "      <td>2018-12-05</td>\n",
              "      <td>1000</td>\n",
              "    </tr>\n",
              "    <tr>\n",
              "      <td>...</td>\n",
              "      <td>...</td>\n",
              "      <td>...</td>\n",
              "      <td>...</td>\n",
              "    </tr>\n",
              "    <tr>\n",
              "      <td>123031</td>\n",
              "      <td>1499_179</td>\n",
              "      <td>2018-12-12</td>\n",
              "      <td>1499</td>\n",
              "    </tr>\n",
              "    <tr>\n",
              "      <td>123032</td>\n",
              "      <td>1499_180</td>\n",
              "      <td>2018-09-28</td>\n",
              "      <td>1499</td>\n",
              "    </tr>\n",
              "    <tr>\n",
              "      <td>123033</td>\n",
              "      <td>1499_181</td>\n",
              "      <td>2018-09-27</td>\n",
              "      <td>1499</td>\n",
              "    </tr>\n",
              "    <tr>\n",
              "      <td>123034</td>\n",
              "      <td>1499_182</td>\n",
              "      <td>2018-11-15</td>\n",
              "      <td>1499</td>\n",
              "    </tr>\n",
              "    <tr>\n",
              "      <td>123035</td>\n",
              "      <td>1499_183</td>\n",
              "      <td>2018-11-16</td>\n",
              "      <td>1499</td>\n",
              "    </tr>\n",
              "  </tbody>\n",
              "</table>\n",
              "<p>123036 rows × 3 columns</p>\n",
              "</div>"
            ],
            "text/plain": [
              "              id message_date  user_id\n",
              "0         1000_0   2018-06-27     1000\n",
              "1         1000_1   2018-10-08     1000\n",
              "2         1000_2   2018-08-04     1000\n",
              "3         1000_3   2018-06-16     1000\n",
              "4         1000_4   2018-12-05     1000\n",
              "...          ...          ...      ...\n",
              "123031  1499_179   2018-12-12     1499\n",
              "123032  1499_180   2018-09-28     1499\n",
              "123033  1499_181   2018-09-27     1499\n",
              "123034  1499_182   2018-11-15     1499\n",
              "123035  1499_183   2018-11-16     1499\n",
              "\n",
              "[123036 rows x 3 columns]"
            ]
          },
          "metadata": {
            "tags": []
          }
        }
      ]
    },
    {
      "cell_type": "markdown",
      "metadata": {
        "id": "NxkGw61eSI3X"
      },
      "source": [
        "Разберём какую информацию содержат столбцы.\n",
        "\n",
        "* **id** — уникальный номер сообщения\n",
        "* **message_date** — дата сообщения\n",
        "* **user_id** — идентификатор пользователя, отправившего сообщение"
      ]
    },
    {
      "cell_type": "markdown",
      "metadata": {
        "id": "jRTjvZ2sSI3Y"
      },
      "source": [
        "## `internet`"
      ]
    },
    {
      "cell_type": "code",
      "metadata": {
        "id": "UxG7IEM1SI3Y",
        "outputId": "a826b03f-9fb8-4dae-ce0a-e32db3342086"
      },
      "source": [
        "# чтение файла с данными\n",
        "df_internet = pd.read_csv('/datasets/internet.csv')\n",
        "\n",
        "# вызов таблицы на экран\n",
        "display(df_internet)  "
      ],
      "execution_count": null,
      "outputs": [
        {
          "output_type": "display_data",
          "data": {
            "text/html": [
              "<div>\n",
              "<style scoped>\n",
              "    .dataframe tbody tr th:only-of-type {\n",
              "        vertical-align: middle;\n",
              "    }\n",
              "\n",
              "    .dataframe tbody tr th {\n",
              "        vertical-align: top;\n",
              "    }\n",
              "\n",
              "    .dataframe thead th {\n",
              "        text-align: right;\n",
              "    }\n",
              "</style>\n",
              "<table border=\"1\" class=\"dataframe\">\n",
              "  <thead>\n",
              "    <tr style=\"text-align: right;\">\n",
              "      <th></th>\n",
              "      <th>Unnamed: 0</th>\n",
              "      <th>id</th>\n",
              "      <th>mb_used</th>\n",
              "      <th>session_date</th>\n",
              "      <th>user_id</th>\n",
              "    </tr>\n",
              "  </thead>\n",
              "  <tbody>\n",
              "    <tr>\n",
              "      <td>0</td>\n",
              "      <td>0</td>\n",
              "      <td>1000_0</td>\n",
              "      <td>112.95</td>\n",
              "      <td>2018-11-25</td>\n",
              "      <td>1000</td>\n",
              "    </tr>\n",
              "    <tr>\n",
              "      <td>1</td>\n",
              "      <td>1</td>\n",
              "      <td>1000_1</td>\n",
              "      <td>1052.81</td>\n",
              "      <td>2018-09-07</td>\n",
              "      <td>1000</td>\n",
              "    </tr>\n",
              "    <tr>\n",
              "      <td>2</td>\n",
              "      <td>2</td>\n",
              "      <td>1000_2</td>\n",
              "      <td>1197.26</td>\n",
              "      <td>2018-06-25</td>\n",
              "      <td>1000</td>\n",
              "    </tr>\n",
              "    <tr>\n",
              "      <td>3</td>\n",
              "      <td>3</td>\n",
              "      <td>1000_3</td>\n",
              "      <td>550.27</td>\n",
              "      <td>2018-08-22</td>\n",
              "      <td>1000</td>\n",
              "    </tr>\n",
              "    <tr>\n",
              "      <td>4</td>\n",
              "      <td>4</td>\n",
              "      <td>1000_4</td>\n",
              "      <td>302.56</td>\n",
              "      <td>2018-09-24</td>\n",
              "      <td>1000</td>\n",
              "    </tr>\n",
              "    <tr>\n",
              "      <td>...</td>\n",
              "      <td>...</td>\n",
              "      <td>...</td>\n",
              "      <td>...</td>\n",
              "      <td>...</td>\n",
              "      <td>...</td>\n",
              "    </tr>\n",
              "    <tr>\n",
              "      <td>149391</td>\n",
              "      <td>149391</td>\n",
              "      <td>1499_152</td>\n",
              "      <td>318.90</td>\n",
              "      <td>2018-10-03</td>\n",
              "      <td>1499</td>\n",
              "    </tr>\n",
              "    <tr>\n",
              "      <td>149392</td>\n",
              "      <td>149392</td>\n",
              "      <td>1499_153</td>\n",
              "      <td>490.13</td>\n",
              "      <td>2018-12-14</td>\n",
              "      <td>1499</td>\n",
              "    </tr>\n",
              "    <tr>\n",
              "      <td>149393</td>\n",
              "      <td>149393</td>\n",
              "      <td>1499_154</td>\n",
              "      <td>0.00</td>\n",
              "      <td>2018-10-27</td>\n",
              "      <td>1499</td>\n",
              "    </tr>\n",
              "    <tr>\n",
              "      <td>149394</td>\n",
              "      <td>149394</td>\n",
              "      <td>1499_155</td>\n",
              "      <td>1246.32</td>\n",
              "      <td>2018-11-26</td>\n",
              "      <td>1499</td>\n",
              "    </tr>\n",
              "    <tr>\n",
              "      <td>149395</td>\n",
              "      <td>149395</td>\n",
              "      <td>1499_156</td>\n",
              "      <td>544.37</td>\n",
              "      <td>2018-10-26</td>\n",
              "      <td>1499</td>\n",
              "    </tr>\n",
              "  </tbody>\n",
              "</table>\n",
              "<p>149396 rows × 5 columns</p>\n",
              "</div>"
            ],
            "text/plain": [
              "        Unnamed: 0        id  mb_used session_date  user_id\n",
              "0                0    1000_0   112.95   2018-11-25     1000\n",
              "1                1    1000_1  1052.81   2018-09-07     1000\n",
              "2                2    1000_2  1197.26   2018-06-25     1000\n",
              "3                3    1000_3   550.27   2018-08-22     1000\n",
              "4                4    1000_4   302.56   2018-09-24     1000\n",
              "...            ...       ...      ...          ...      ...\n",
              "149391      149391  1499_152   318.90   2018-10-03     1499\n",
              "149392      149392  1499_153   490.13   2018-12-14     1499\n",
              "149393      149393  1499_154     0.00   2018-10-27     1499\n",
              "149394      149394  1499_155  1246.32   2018-11-26     1499\n",
              "149395      149395  1499_156   544.37   2018-10-26     1499\n",
              "\n",
              "[149396 rows x 5 columns]"
            ]
          },
          "metadata": {
            "tags": []
          }
        }
      ]
    },
    {
      "cell_type": "markdown",
      "metadata": {
        "id": "e-7qK3sxSI3Z"
      },
      "source": [
        "Разберём какую информацию содержат столбцы.\n",
        "\n",
        "* **id** — уникальный номер сессии\n",
        "* **mb_used** — объём потраченного за сессию интернет-трафика (в мегабайтах)\n",
        "* **session_date** — дата интернет-сессии\n",
        "* **user_id** — идентификатор пользователя"
      ]
    },
    {
      "cell_type": "markdown",
      "metadata": {
        "id": "otBch7GUSI3a"
      },
      "source": [
        "## `tariffs`"
      ]
    },
    {
      "cell_type": "code",
      "metadata": {
        "id": "L6VqrqkbSI3b",
        "outputId": "7785dc26-7502-4b94-e2ce-bed46b28b677"
      },
      "source": [
        "# чтение файла с данными\n",
        "df_tariffs = pd.read_csv('/datasets/tariffs.csv')\n",
        "\n",
        "# вызов таблицы на экран\n",
        "display(df_tariffs)  "
      ],
      "execution_count": null,
      "outputs": [
        {
          "output_type": "display_data",
          "data": {
            "text/html": [
              "<div>\n",
              "<style scoped>\n",
              "    .dataframe tbody tr th:only-of-type {\n",
              "        vertical-align: middle;\n",
              "    }\n",
              "\n",
              "    .dataframe tbody tr th {\n",
              "        vertical-align: top;\n",
              "    }\n",
              "\n",
              "    .dataframe thead th {\n",
              "        text-align: right;\n",
              "    }\n",
              "</style>\n",
              "<table border=\"1\" class=\"dataframe\">\n",
              "  <thead>\n",
              "    <tr style=\"text-align: right;\">\n",
              "      <th></th>\n",
              "      <th>messages_included</th>\n",
              "      <th>mb_per_month_included</th>\n",
              "      <th>minutes_included</th>\n",
              "      <th>rub_monthly_fee</th>\n",
              "      <th>rub_per_gb</th>\n",
              "      <th>rub_per_message</th>\n",
              "      <th>rub_per_minute</th>\n",
              "      <th>tariff_name</th>\n",
              "    </tr>\n",
              "  </thead>\n",
              "  <tbody>\n",
              "    <tr>\n",
              "      <td>0</td>\n",
              "      <td>50</td>\n",
              "      <td>15360</td>\n",
              "      <td>500</td>\n",
              "      <td>550</td>\n",
              "      <td>200</td>\n",
              "      <td>3</td>\n",
              "      <td>3</td>\n",
              "      <td>smart</td>\n",
              "    </tr>\n",
              "    <tr>\n",
              "      <td>1</td>\n",
              "      <td>1000</td>\n",
              "      <td>30720</td>\n",
              "      <td>3000</td>\n",
              "      <td>1950</td>\n",
              "      <td>150</td>\n",
              "      <td>1</td>\n",
              "      <td>1</td>\n",
              "      <td>ultra</td>\n",
              "    </tr>\n",
              "  </tbody>\n",
              "</table>\n",
              "</div>"
            ],
            "text/plain": [
              "   messages_included  mb_per_month_included  minutes_included  \\\n",
              "0                 50                  15360               500   \n",
              "1               1000                  30720              3000   \n",
              "\n",
              "   rub_monthly_fee  rub_per_gb  rub_per_message  rub_per_minute tariff_name  \n",
              "0              550         200                3               3       smart  \n",
              "1             1950         150                1               1       ultra  "
            ]
          },
          "metadata": {
            "tags": []
          }
        }
      ]
    },
    {
      "cell_type": "markdown",
      "metadata": {
        "id": "E_sPFXo5SI3c"
      },
      "source": [
        "Разберём какую информацию содержат столбцы.\n",
        "\n",
        "* **messages_included** — количество сообщений в месяц, включённых в абонентскую плату\n",
        "* **mb_per_month_included** — объём интернет-трафика, включённого в абонентскую плату (в мегабайтах)\n",
        "* **minutes_included** — количество минут разговора в месяц, включённых в абонентскую плату\n",
        "* **rub_monthly_fee** — ежемесячная абонентская плата в рублях\n",
        "* **rub_per_gb** — стоимость дополнительного гигабайта интернет-трафика сверх тарифного пакета (1 гигабайт = 1024 мегабайта)\n",
        "* **rub_per_message** — стоимость отправки сообщения сверх тарифного пакета\n",
        "* **rub_per_minute** — стоимость минуты разговора сверх тарифного пакета\n",
        "* **tariff_name** — название тарифа"
      ]
    },
    {
      "cell_type": "markdown",
      "metadata": {
        "id": "4gQsu6dsSI3d"
      },
      "source": [
        "###  Выводы\n",
        "Первичное ознакомление с таблицами показало несоответствие некоторых типов данных и наличие лишних столбцов. В дальнейшем уберём эти неточности для лучшего анализа и ответов на поставленные вопросы.\n",
        "***"
      ]
    },
    {
      "cell_type": "markdown",
      "metadata": {
        "id": "nBCg39jkSI3e"
      },
      "source": [
        "## 2. Подготовка данных <a id='2'></a>   [^](#10)"
      ]
    },
    {
      "cell_type": "markdown",
      "metadata": {
        "id": "cU0_AXVuSI3f"
      },
      "source": [
        "* ### Замена типа данных и исправление ошибок <a id='2.1'></a> [^](#10)"
      ]
    },
    {
      "cell_type": "markdown",
      "metadata": {
        "id": "vL-3MOXOSI3f"
      },
      "source": [
        "## `users`"
      ]
    },
    {
      "cell_type": "code",
      "metadata": {
        "scrolled": true,
        "id": "edBtVV8_SI3g",
        "outputId": "79021153-bcd9-4cea-b905-7386eb40c10e"
      },
      "source": [
        "# просмотр информации о таблице \n",
        "df_users.info()"
      ],
      "execution_count": null,
      "outputs": [
        {
          "output_type": "stream",
          "text": [
            "<class 'pandas.core.frame.DataFrame'>\n",
            "RangeIndex: 500 entries, 0 to 499\n",
            "Data columns (total 8 columns):\n",
            "user_id       500 non-null int64\n",
            "age           500 non-null int64\n",
            "churn_date    38 non-null object\n",
            "city          500 non-null object\n",
            "first_name    500 non-null object\n",
            "last_name     500 non-null object\n",
            "reg_date      500 non-null object\n",
            "tariff        500 non-null object\n",
            "dtypes: int64(2), object(6)\n",
            "memory usage: 31.4+ KB\n"
          ],
          "name": "stdout"
        }
      ]
    },
    {
      "cell_type": "markdown",
      "metadata": {
        "id": "dzjSZivISI3g"
      },
      "source": [
        "Изменили объектный тип данных на формат datetime."
      ]
    },
    {
      "cell_type": "code",
      "metadata": {
        "scrolled": true,
        "id": "Lf4uJifWSI3h"
      },
      "source": [
        "df_users['reg_date'] = pd.to_datetime(df_users['reg_date'], format='%Y-%m-%d')"
      ],
      "execution_count": null,
      "outputs": []
    },
    {
      "cell_type": "markdown",
      "metadata": {
        "id": "v3b8_IZUSI3i"
      },
      "source": [
        "Привели к нижнему регистру с объектными типами данных."
      ]
    },
    {
      "cell_type": "code",
      "metadata": {
        "id": "XYKqDxNpSI3i"
      },
      "source": [
        "# перевод к нижнему регистру \n",
        "df_users['city'] = df_users['city'].str.lower()\n",
        "\n",
        "df_users['first_name'] = df_users['first_name'].str.lower()\n",
        "\n",
        "df_users['last_name'] = df_users['last_name'].str.lower()"
      ],
      "execution_count": null,
      "outputs": []
    },
    {
      "cell_type": "code",
      "metadata": {
        "id": "nFbmRATBSI3j",
        "outputId": "e4f4c11c-8c7a-4585-8a4a-2c29e9cb2013"
      },
      "source": [
        "df_users"
      ],
      "execution_count": null,
      "outputs": [
        {
          "output_type": "execute_result",
          "data": {
            "text/html": [
              "<div>\n",
              "<style scoped>\n",
              "    .dataframe tbody tr th:only-of-type {\n",
              "        vertical-align: middle;\n",
              "    }\n",
              "\n",
              "    .dataframe tbody tr th {\n",
              "        vertical-align: top;\n",
              "    }\n",
              "\n",
              "    .dataframe thead th {\n",
              "        text-align: right;\n",
              "    }\n",
              "</style>\n",
              "<table border=\"1\" class=\"dataframe\">\n",
              "  <thead>\n",
              "    <tr style=\"text-align: right;\">\n",
              "      <th></th>\n",
              "      <th>user_id</th>\n",
              "      <th>age</th>\n",
              "      <th>churn_date</th>\n",
              "      <th>city</th>\n",
              "      <th>first_name</th>\n",
              "      <th>last_name</th>\n",
              "      <th>reg_date</th>\n",
              "      <th>tariff</th>\n",
              "    </tr>\n",
              "  </thead>\n",
              "  <tbody>\n",
              "    <tr>\n",
              "      <td>0</td>\n",
              "      <td>1000</td>\n",
              "      <td>52</td>\n",
              "      <td>NaN</td>\n",
              "      <td>краснодар</td>\n",
              "      <td>рафаил</td>\n",
              "      <td>верещагин</td>\n",
              "      <td>2018-05-25</td>\n",
              "      <td>ultra</td>\n",
              "    </tr>\n",
              "    <tr>\n",
              "      <td>1</td>\n",
              "      <td>1001</td>\n",
              "      <td>41</td>\n",
              "      <td>NaN</td>\n",
              "      <td>москва</td>\n",
              "      <td>иван</td>\n",
              "      <td>ежов</td>\n",
              "      <td>2018-11-01</td>\n",
              "      <td>smart</td>\n",
              "    </tr>\n",
              "    <tr>\n",
              "      <td>2</td>\n",
              "      <td>1002</td>\n",
              "      <td>59</td>\n",
              "      <td>NaN</td>\n",
              "      <td>стерлитамак</td>\n",
              "      <td>евгений</td>\n",
              "      <td>абрамович</td>\n",
              "      <td>2018-06-17</td>\n",
              "      <td>smart</td>\n",
              "    </tr>\n",
              "    <tr>\n",
              "      <td>3</td>\n",
              "      <td>1003</td>\n",
              "      <td>23</td>\n",
              "      <td>NaN</td>\n",
              "      <td>москва</td>\n",
              "      <td>белла</td>\n",
              "      <td>белякова</td>\n",
              "      <td>2018-08-17</td>\n",
              "      <td>ultra</td>\n",
              "    </tr>\n",
              "    <tr>\n",
              "      <td>4</td>\n",
              "      <td>1004</td>\n",
              "      <td>68</td>\n",
              "      <td>NaN</td>\n",
              "      <td>новокузнецк</td>\n",
              "      <td>татьяна</td>\n",
              "      <td>авдеенко</td>\n",
              "      <td>2018-05-14</td>\n",
              "      <td>ultra</td>\n",
              "    </tr>\n",
              "    <tr>\n",
              "      <td>...</td>\n",
              "      <td>...</td>\n",
              "      <td>...</td>\n",
              "      <td>...</td>\n",
              "      <td>...</td>\n",
              "      <td>...</td>\n",
              "      <td>...</td>\n",
              "      <td>...</td>\n",
              "      <td>...</td>\n",
              "    </tr>\n",
              "    <tr>\n",
              "      <td>495</td>\n",
              "      <td>1495</td>\n",
              "      <td>65</td>\n",
              "      <td>NaN</td>\n",
              "      <td>иркутск</td>\n",
              "      <td>авксентий</td>\n",
              "      <td>фокин</td>\n",
              "      <td>2018-08-28</td>\n",
              "      <td>ultra</td>\n",
              "    </tr>\n",
              "    <tr>\n",
              "      <td>496</td>\n",
              "      <td>1496</td>\n",
              "      <td>36</td>\n",
              "      <td>NaN</td>\n",
              "      <td>вологда</td>\n",
              "      <td>трифон</td>\n",
              "      <td>блохин</td>\n",
              "      <td>2018-01-27</td>\n",
              "      <td>smart</td>\n",
              "    </tr>\n",
              "    <tr>\n",
              "      <td>497</td>\n",
              "      <td>1497</td>\n",
              "      <td>32</td>\n",
              "      <td>NaN</td>\n",
              "      <td>челябинск</td>\n",
              "      <td>каролина</td>\n",
              "      <td>агеева</td>\n",
              "      <td>2018-10-09</td>\n",
              "      <td>smart</td>\n",
              "    </tr>\n",
              "    <tr>\n",
              "      <td>498</td>\n",
              "      <td>1498</td>\n",
              "      <td>68</td>\n",
              "      <td>2018-10-25</td>\n",
              "      <td>владикавказ</td>\n",
              "      <td>всеволод</td>\n",
              "      <td>акимчин</td>\n",
              "      <td>2018-07-19</td>\n",
              "      <td>smart</td>\n",
              "    </tr>\n",
              "    <tr>\n",
              "      <td>499</td>\n",
              "      <td>1499</td>\n",
              "      <td>35</td>\n",
              "      <td>NaN</td>\n",
              "      <td>пермь</td>\n",
              "      <td>гектор</td>\n",
              "      <td>корнилов</td>\n",
              "      <td>2018-09-27</td>\n",
              "      <td>smart</td>\n",
              "    </tr>\n",
              "  </tbody>\n",
              "</table>\n",
              "<p>500 rows × 8 columns</p>\n",
              "</div>"
            ],
            "text/plain": [
              "     user_id  age  churn_date         city first_name  last_name   reg_date  \\\n",
              "0       1000   52         NaN    краснодар     рафаил  верещагин 2018-05-25   \n",
              "1       1001   41         NaN       москва       иван       ежов 2018-11-01   \n",
              "2       1002   59         NaN  стерлитамак    евгений  абрамович 2018-06-17   \n",
              "3       1003   23         NaN       москва      белла   белякова 2018-08-17   \n",
              "4       1004   68         NaN  новокузнецк    татьяна   авдеенко 2018-05-14   \n",
              "..       ...  ...         ...          ...        ...        ...        ...   \n",
              "495     1495   65         NaN      иркутск  авксентий      фокин 2018-08-28   \n",
              "496     1496   36         NaN      вологда     трифон     блохин 2018-01-27   \n",
              "497     1497   32         NaN    челябинск   каролина     агеева 2018-10-09   \n",
              "498     1498   68  2018-10-25  владикавказ   всеволод    акимчин 2018-07-19   \n",
              "499     1499   35         NaN        пермь     гектор   корнилов 2018-09-27   \n",
              "\n",
              "    tariff  \n",
              "0    ultra  \n",
              "1    smart  \n",
              "2    smart  \n",
              "3    ultra  \n",
              "4    ultra  \n",
              "..     ...  \n",
              "495  ultra  \n",
              "496  smart  \n",
              "497  smart  \n",
              "498  smart  \n",
              "499  smart  \n",
              "\n",
              "[500 rows x 8 columns]"
            ]
          },
          "metadata": {
            "tags": []
          },
          "execution_count": 10
        }
      ]
    },
    {
      "cell_type": "markdown",
      "metadata": {
        "id": "AGSb4rU5SI3k"
      },
      "source": [
        "## `calls`"
      ]
    },
    {
      "cell_type": "code",
      "metadata": {
        "scrolled": true,
        "id": "7hb4zlljSI3l",
        "outputId": "2d96eec4-46bc-408e-b5ab-67fea57b2135"
      },
      "source": [
        "# просмотр информации о таблице \n",
        "df_calls.info()"
      ],
      "execution_count": null,
      "outputs": [
        {
          "output_type": "stream",
          "text": [
            "<class 'pandas.core.frame.DataFrame'>\n",
            "RangeIndex: 202607 entries, 0 to 202606\n",
            "Data columns (total 4 columns):\n",
            "id           202607 non-null object\n",
            "call_date    202607 non-null object\n",
            "duration     202607 non-null float64\n",
            "user_id      202607 non-null int64\n",
            "dtypes: float64(1), int64(1), object(2)\n",
            "memory usage: 6.2+ MB\n"
          ],
          "name": "stdout"
        }
      ]
    },
    {
      "cell_type": "markdown",
      "metadata": {
        "id": "4KlFtxxtSI3m"
      },
      "source": [
        "Изменили название столбца."
      ]
    },
    {
      "cell_type": "code",
      "metadata": {
        "id": "AyutVItvSI3n"
      },
      "source": [
        "# изменили название id\n",
        "df_calls.columns = ['id_calls', 'call_date', 'duration', 'user_id']"
      ],
      "execution_count": null,
      "outputs": []
    },
    {
      "cell_type": "markdown",
      "metadata": {
        "id": "DmGhnN7JSI3n"
      },
      "source": [
        "Изменили объектный тип данных на формат datetime."
      ]
    },
    {
      "cell_type": "code",
      "metadata": {
        "scrolled": true,
        "id": "FgEe9sqTSI3o"
      },
      "source": [
        "df_calls['call_date'] = pd.to_datetime(df_calls['call_date'], format='%Y-%m-%d')\n",
        "\n",
        "# создание столбца с номером месяца звонка\n",
        "df_calls['month_calls'] = df_calls['call_date'].dt.month"
      ],
      "execution_count": null,
      "outputs": []
    },
    {
      "cell_type": "markdown",
      "metadata": {
        "id": "gs1fJNAiSI3p"
      },
      "source": [
        "Так как оператор всегда округляет вверх значения независимо от проговоренных минут, нам необходимо также округлить до верхнего целого."
      ]
    },
    {
      "cell_type": "code",
      "metadata": {
        "id": "SrVH71JwSI3p",
        "outputId": "0fcbaa09-b31b-4f0d-e973-553301d6e87c"
      },
      "source": [
        "# округление потраченных минут\n",
        "df_calls['duration'] = df_calls['duration'].apply(lambda row: int(mt.ceil(row)))\n",
        "df_calls"
      ],
      "execution_count": null,
      "outputs": [
        {
          "output_type": "execute_result",
          "data": {
            "text/html": [
              "<div>\n",
              "<style scoped>\n",
              "    .dataframe tbody tr th:only-of-type {\n",
              "        vertical-align: middle;\n",
              "    }\n",
              "\n",
              "    .dataframe tbody tr th {\n",
              "        vertical-align: top;\n",
              "    }\n",
              "\n",
              "    .dataframe thead th {\n",
              "        text-align: right;\n",
              "    }\n",
              "</style>\n",
              "<table border=\"1\" class=\"dataframe\">\n",
              "  <thead>\n",
              "    <tr style=\"text-align: right;\">\n",
              "      <th></th>\n",
              "      <th>id_calls</th>\n",
              "      <th>call_date</th>\n",
              "      <th>duration</th>\n",
              "      <th>user_id</th>\n",
              "      <th>month_calls</th>\n",
              "    </tr>\n",
              "  </thead>\n",
              "  <tbody>\n",
              "    <tr>\n",
              "      <td>0</td>\n",
              "      <td>1000_0</td>\n",
              "      <td>2018-07-25</td>\n",
              "      <td>0</td>\n",
              "      <td>1000</td>\n",
              "      <td>7</td>\n",
              "    </tr>\n",
              "    <tr>\n",
              "      <td>1</td>\n",
              "      <td>1000_1</td>\n",
              "      <td>2018-08-17</td>\n",
              "      <td>0</td>\n",
              "      <td>1000</td>\n",
              "      <td>8</td>\n",
              "    </tr>\n",
              "    <tr>\n",
              "      <td>2</td>\n",
              "      <td>1000_2</td>\n",
              "      <td>2018-06-11</td>\n",
              "      <td>3</td>\n",
              "      <td>1000</td>\n",
              "      <td>6</td>\n",
              "    </tr>\n",
              "    <tr>\n",
              "      <td>3</td>\n",
              "      <td>1000_3</td>\n",
              "      <td>2018-09-21</td>\n",
              "      <td>14</td>\n",
              "      <td>1000</td>\n",
              "      <td>9</td>\n",
              "    </tr>\n",
              "    <tr>\n",
              "      <td>4</td>\n",
              "      <td>1000_4</td>\n",
              "      <td>2018-12-15</td>\n",
              "      <td>6</td>\n",
              "      <td>1000</td>\n",
              "      <td>12</td>\n",
              "    </tr>\n",
              "    <tr>\n",
              "      <td>...</td>\n",
              "      <td>...</td>\n",
              "      <td>...</td>\n",
              "      <td>...</td>\n",
              "      <td>...</td>\n",
              "      <td>...</td>\n",
              "    </tr>\n",
              "    <tr>\n",
              "      <td>202602</td>\n",
              "      <td>1499_215</td>\n",
              "      <td>2018-12-26</td>\n",
              "      <td>1</td>\n",
              "      <td>1499</td>\n",
              "      <td>12</td>\n",
              "    </tr>\n",
              "    <tr>\n",
              "      <td>202603</td>\n",
              "      <td>1499_216</td>\n",
              "      <td>2018-10-18</td>\n",
              "      <td>19</td>\n",
              "      <td>1499</td>\n",
              "      <td>10</td>\n",
              "    </tr>\n",
              "    <tr>\n",
              "      <td>202604</td>\n",
              "      <td>1499_217</td>\n",
              "      <td>2018-11-10</td>\n",
              "      <td>11</td>\n",
              "      <td>1499</td>\n",
              "      <td>11</td>\n",
              "    </tr>\n",
              "    <tr>\n",
              "      <td>202605</td>\n",
              "      <td>1499_218</td>\n",
              "      <td>2018-10-06</td>\n",
              "      <td>5</td>\n",
              "      <td>1499</td>\n",
              "      <td>10</td>\n",
              "    </tr>\n",
              "    <tr>\n",
              "      <td>202606</td>\n",
              "      <td>1499_219</td>\n",
              "      <td>2018-12-14</td>\n",
              "      <td>20</td>\n",
              "      <td>1499</td>\n",
              "      <td>12</td>\n",
              "    </tr>\n",
              "  </tbody>\n",
              "</table>\n",
              "<p>202607 rows × 5 columns</p>\n",
              "</div>"
            ],
            "text/plain": [
              "        id_calls  call_date  duration  user_id  month_calls\n",
              "0         1000_0 2018-07-25         0     1000            7\n",
              "1         1000_1 2018-08-17         0     1000            8\n",
              "2         1000_2 2018-06-11         3     1000            6\n",
              "3         1000_3 2018-09-21        14     1000            9\n",
              "4         1000_4 2018-12-15         6     1000           12\n",
              "...          ...        ...       ...      ...          ...\n",
              "202602  1499_215 2018-12-26         1     1499           12\n",
              "202603  1499_216 2018-10-18        19     1499           10\n",
              "202604  1499_217 2018-11-10        11     1499           11\n",
              "202605  1499_218 2018-10-06         5     1499           10\n",
              "202606  1499_219 2018-12-14        20     1499           12\n",
              "\n",
              "[202607 rows x 5 columns]"
            ]
          },
          "metadata": {
            "tags": []
          },
          "execution_count": 14
        }
      ]
    },
    {
      "cell_type": "markdown",
      "metadata": {
        "id": "GQ0xju51SI3q"
      },
      "source": [
        "## `messages`"
      ]
    },
    {
      "cell_type": "code",
      "metadata": {
        "scrolled": true,
        "id": "jWWh4BDuSI3r",
        "outputId": "678ac987-8d21-4e45-9824-5c30cdfef05d"
      },
      "source": [
        "# просмотр информации о таблице \n",
        "df_messages.info()"
      ],
      "execution_count": null,
      "outputs": [
        {
          "output_type": "stream",
          "text": [
            "<class 'pandas.core.frame.DataFrame'>\n",
            "RangeIndex: 123036 entries, 0 to 123035\n",
            "Data columns (total 3 columns):\n",
            "id              123036 non-null object\n",
            "message_date    123036 non-null object\n",
            "user_id         123036 non-null int64\n",
            "dtypes: int64(1), object(2)\n",
            "memory usage: 2.8+ MB\n"
          ],
          "name": "stdout"
        }
      ]
    },
    {
      "cell_type": "markdown",
      "metadata": {
        "id": "k4S7TD2PSI3s"
      },
      "source": [
        "Изменили название столбца."
      ]
    },
    {
      "cell_type": "code",
      "metadata": {
        "id": "wkMQ6cnWSI3s"
      },
      "source": [
        "# изменили название id\n",
        "df_messages.columns = ['id_message', 'message_date', 'user_id']"
      ],
      "execution_count": null,
      "outputs": []
    },
    {
      "cell_type": "markdown",
      "metadata": {
        "id": "_4S7uxKCSI3t"
      },
      "source": [
        "Изменили объектный тип данных на формат datetime."
      ]
    },
    {
      "cell_type": "code",
      "metadata": {
        "scrolled": true,
        "id": "vdApgUSnSI3u"
      },
      "source": [
        "df_messages['message_date'] = pd.to_datetime(df_messages['message_date'], format='%Y-%m-%d')\n",
        "\n",
        "# создание столбца с номером месяца отправленного сообщения\n",
        "df_messages['month_message'] = df_messages['message_date'].dt.month"
      ],
      "execution_count": null,
      "outputs": []
    },
    {
      "cell_type": "code",
      "metadata": {
        "id": "_B41DdKeSI3u",
        "outputId": "5742c87b-9a3a-472b-f297-8f3badb11b12"
      },
      "source": [
        "# просмотр полученной таблицы\n",
        "df_messages"
      ],
      "execution_count": null,
      "outputs": [
        {
          "output_type": "execute_result",
          "data": {
            "text/html": [
              "<div>\n",
              "<style scoped>\n",
              "    .dataframe tbody tr th:only-of-type {\n",
              "        vertical-align: middle;\n",
              "    }\n",
              "\n",
              "    .dataframe tbody tr th {\n",
              "        vertical-align: top;\n",
              "    }\n",
              "\n",
              "    .dataframe thead th {\n",
              "        text-align: right;\n",
              "    }\n",
              "</style>\n",
              "<table border=\"1\" class=\"dataframe\">\n",
              "  <thead>\n",
              "    <tr style=\"text-align: right;\">\n",
              "      <th></th>\n",
              "      <th>id_message</th>\n",
              "      <th>message_date</th>\n",
              "      <th>user_id</th>\n",
              "      <th>month_message</th>\n",
              "    </tr>\n",
              "  </thead>\n",
              "  <tbody>\n",
              "    <tr>\n",
              "      <td>0</td>\n",
              "      <td>1000_0</td>\n",
              "      <td>2018-06-27</td>\n",
              "      <td>1000</td>\n",
              "      <td>6</td>\n",
              "    </tr>\n",
              "    <tr>\n",
              "      <td>1</td>\n",
              "      <td>1000_1</td>\n",
              "      <td>2018-10-08</td>\n",
              "      <td>1000</td>\n",
              "      <td>10</td>\n",
              "    </tr>\n",
              "    <tr>\n",
              "      <td>2</td>\n",
              "      <td>1000_2</td>\n",
              "      <td>2018-08-04</td>\n",
              "      <td>1000</td>\n",
              "      <td>8</td>\n",
              "    </tr>\n",
              "    <tr>\n",
              "      <td>3</td>\n",
              "      <td>1000_3</td>\n",
              "      <td>2018-06-16</td>\n",
              "      <td>1000</td>\n",
              "      <td>6</td>\n",
              "    </tr>\n",
              "    <tr>\n",
              "      <td>4</td>\n",
              "      <td>1000_4</td>\n",
              "      <td>2018-12-05</td>\n",
              "      <td>1000</td>\n",
              "      <td>12</td>\n",
              "    </tr>\n",
              "    <tr>\n",
              "      <td>...</td>\n",
              "      <td>...</td>\n",
              "      <td>...</td>\n",
              "      <td>...</td>\n",
              "      <td>...</td>\n",
              "    </tr>\n",
              "    <tr>\n",
              "      <td>123031</td>\n",
              "      <td>1499_179</td>\n",
              "      <td>2018-12-12</td>\n",
              "      <td>1499</td>\n",
              "      <td>12</td>\n",
              "    </tr>\n",
              "    <tr>\n",
              "      <td>123032</td>\n",
              "      <td>1499_180</td>\n",
              "      <td>2018-09-28</td>\n",
              "      <td>1499</td>\n",
              "      <td>9</td>\n",
              "    </tr>\n",
              "    <tr>\n",
              "      <td>123033</td>\n",
              "      <td>1499_181</td>\n",
              "      <td>2018-09-27</td>\n",
              "      <td>1499</td>\n",
              "      <td>9</td>\n",
              "    </tr>\n",
              "    <tr>\n",
              "      <td>123034</td>\n",
              "      <td>1499_182</td>\n",
              "      <td>2018-11-15</td>\n",
              "      <td>1499</td>\n",
              "      <td>11</td>\n",
              "    </tr>\n",
              "    <tr>\n",
              "      <td>123035</td>\n",
              "      <td>1499_183</td>\n",
              "      <td>2018-11-16</td>\n",
              "      <td>1499</td>\n",
              "      <td>11</td>\n",
              "    </tr>\n",
              "  </tbody>\n",
              "</table>\n",
              "<p>123036 rows × 4 columns</p>\n",
              "</div>"
            ],
            "text/plain": [
              "       id_message message_date  user_id  month_message\n",
              "0          1000_0   2018-06-27     1000              6\n",
              "1          1000_1   2018-10-08     1000             10\n",
              "2          1000_2   2018-08-04     1000              8\n",
              "3          1000_3   2018-06-16     1000              6\n",
              "4          1000_4   2018-12-05     1000             12\n",
              "...           ...          ...      ...            ...\n",
              "123031   1499_179   2018-12-12     1499             12\n",
              "123032   1499_180   2018-09-28     1499              9\n",
              "123033   1499_181   2018-09-27     1499              9\n",
              "123034   1499_182   2018-11-15     1499             11\n",
              "123035   1499_183   2018-11-16     1499             11\n",
              "\n",
              "[123036 rows x 4 columns]"
            ]
          },
          "metadata": {
            "tags": []
          },
          "execution_count": 18
        }
      ]
    },
    {
      "cell_type": "markdown",
      "metadata": {
        "id": "sq2_7r6ISI3v"
      },
      "source": [
        "## `internet`"
      ]
    },
    {
      "cell_type": "code",
      "metadata": {
        "scrolled": false,
        "id": "pJ2OGlTmSI3w",
        "outputId": "81076579-e97a-43eb-f8c7-da4683a953ae"
      },
      "source": [
        "# просмотр информации о таблице \n",
        "df_internet.info()"
      ],
      "execution_count": null,
      "outputs": [
        {
          "output_type": "stream",
          "text": [
            "<class 'pandas.core.frame.DataFrame'>\n",
            "RangeIndex: 149396 entries, 0 to 149395\n",
            "Data columns (total 5 columns):\n",
            "Unnamed: 0      149396 non-null int64\n",
            "id              149396 non-null object\n",
            "mb_used         149396 non-null float64\n",
            "session_date    149396 non-null object\n",
            "user_id         149396 non-null int64\n",
            "dtypes: float64(1), int64(2), object(2)\n",
            "memory usage: 5.7+ MB\n"
          ],
          "name": "stdout"
        }
      ]
    },
    {
      "cell_type": "markdown",
      "metadata": {
        "id": "IpKyX0bwSI3x"
      },
      "source": [
        "Удалили столбец, дублирующий индексы таблицы."
      ]
    },
    {
      "cell_type": "code",
      "metadata": {
        "id": "OffZE4DfSI3x"
      },
      "source": [
        "df_internet = df_internet.drop('Unnamed: 0', axis=1)"
      ],
      "execution_count": null,
      "outputs": []
    },
    {
      "cell_type": "markdown",
      "metadata": {
        "id": "bxem4GuFSI3z"
      },
      "source": [
        "Изменили название столбца."
      ]
    },
    {
      "cell_type": "code",
      "metadata": {
        "id": "d9gm1T2VSI3z"
      },
      "source": [
        "# изменили название id\n",
        "df_internet.columns = ['id_internet', 'mb_used', 'session_date', 'user_id']"
      ],
      "execution_count": null,
      "outputs": []
    },
    {
      "cell_type": "markdown",
      "metadata": {
        "id": "_0Rs8SufSI30"
      },
      "source": [
        "Изменили объектный тип данных на формат datetime."
      ]
    },
    {
      "cell_type": "code",
      "metadata": {
        "scrolled": true,
        "id": "5llMq9boSI31"
      },
      "source": [
        "df_internet['session_date'] = pd.to_datetime(df_internet['session_date'], format='%Y-%m-%d')\n",
        "\n",
        "# создание столбца с номером месяца интернет сессии\n",
        "df_internet['month_session'] = df_internet['session_date'].dt.month"
      ],
      "execution_count": null,
      "outputs": []
    },
    {
      "cell_type": "markdown",
      "metadata": {
        "id": "RCiagbyqSI32"
      },
      "source": [
        "Округлили до целого числа мегабайтов."
      ]
    },
    {
      "cell_type": "code",
      "metadata": {
        "id": "nVt-Z2apSI32"
      },
      "source": [
        "# округление потраченных мегабайт\n",
        "df_internet['mb_used'] = df_internet['mb_used'].apply(lambda row: int(mt.ceil(row)))"
      ],
      "execution_count": null,
      "outputs": []
    },
    {
      "cell_type": "code",
      "metadata": {
        "id": "3d0-RwdmSI33",
        "outputId": "964db153-361f-435b-faa4-980c44cd1cd8"
      },
      "source": [
        "# просмотр полученной таблицы\n",
        "df_internet"
      ],
      "execution_count": null,
      "outputs": [
        {
          "output_type": "execute_result",
          "data": {
            "text/html": [
              "<div>\n",
              "<style scoped>\n",
              "    .dataframe tbody tr th:only-of-type {\n",
              "        vertical-align: middle;\n",
              "    }\n",
              "\n",
              "    .dataframe tbody tr th {\n",
              "        vertical-align: top;\n",
              "    }\n",
              "\n",
              "    .dataframe thead th {\n",
              "        text-align: right;\n",
              "    }\n",
              "</style>\n",
              "<table border=\"1\" class=\"dataframe\">\n",
              "  <thead>\n",
              "    <tr style=\"text-align: right;\">\n",
              "      <th></th>\n",
              "      <th>id_internet</th>\n",
              "      <th>mb_used</th>\n",
              "      <th>session_date</th>\n",
              "      <th>user_id</th>\n",
              "      <th>month_session</th>\n",
              "    </tr>\n",
              "  </thead>\n",
              "  <tbody>\n",
              "    <tr>\n",
              "      <td>0</td>\n",
              "      <td>1000_0</td>\n",
              "      <td>113</td>\n",
              "      <td>2018-11-25</td>\n",
              "      <td>1000</td>\n",
              "      <td>11</td>\n",
              "    </tr>\n",
              "    <tr>\n",
              "      <td>1</td>\n",
              "      <td>1000_1</td>\n",
              "      <td>1053</td>\n",
              "      <td>2018-09-07</td>\n",
              "      <td>1000</td>\n",
              "      <td>9</td>\n",
              "    </tr>\n",
              "    <tr>\n",
              "      <td>2</td>\n",
              "      <td>1000_2</td>\n",
              "      <td>1198</td>\n",
              "      <td>2018-06-25</td>\n",
              "      <td>1000</td>\n",
              "      <td>6</td>\n",
              "    </tr>\n",
              "    <tr>\n",
              "      <td>3</td>\n",
              "      <td>1000_3</td>\n",
              "      <td>551</td>\n",
              "      <td>2018-08-22</td>\n",
              "      <td>1000</td>\n",
              "      <td>8</td>\n",
              "    </tr>\n",
              "    <tr>\n",
              "      <td>4</td>\n",
              "      <td>1000_4</td>\n",
              "      <td>303</td>\n",
              "      <td>2018-09-24</td>\n",
              "      <td>1000</td>\n",
              "      <td>9</td>\n",
              "    </tr>\n",
              "    <tr>\n",
              "      <td>...</td>\n",
              "      <td>...</td>\n",
              "      <td>...</td>\n",
              "      <td>...</td>\n",
              "      <td>...</td>\n",
              "      <td>...</td>\n",
              "    </tr>\n",
              "    <tr>\n",
              "      <td>149391</td>\n",
              "      <td>1499_152</td>\n",
              "      <td>319</td>\n",
              "      <td>2018-10-03</td>\n",
              "      <td>1499</td>\n",
              "      <td>10</td>\n",
              "    </tr>\n",
              "    <tr>\n",
              "      <td>149392</td>\n",
              "      <td>1499_153</td>\n",
              "      <td>491</td>\n",
              "      <td>2018-12-14</td>\n",
              "      <td>1499</td>\n",
              "      <td>12</td>\n",
              "    </tr>\n",
              "    <tr>\n",
              "      <td>149393</td>\n",
              "      <td>1499_154</td>\n",
              "      <td>0</td>\n",
              "      <td>2018-10-27</td>\n",
              "      <td>1499</td>\n",
              "      <td>10</td>\n",
              "    </tr>\n",
              "    <tr>\n",
              "      <td>149394</td>\n",
              "      <td>1499_155</td>\n",
              "      <td>1247</td>\n",
              "      <td>2018-11-26</td>\n",
              "      <td>1499</td>\n",
              "      <td>11</td>\n",
              "    </tr>\n",
              "    <tr>\n",
              "      <td>149395</td>\n",
              "      <td>1499_156</td>\n",
              "      <td>545</td>\n",
              "      <td>2018-10-26</td>\n",
              "      <td>1499</td>\n",
              "      <td>10</td>\n",
              "    </tr>\n",
              "  </tbody>\n",
              "</table>\n",
              "<p>149396 rows × 5 columns</p>\n",
              "</div>"
            ],
            "text/plain": [
              "       id_internet  mb_used session_date  user_id  month_session\n",
              "0           1000_0      113   2018-11-25     1000             11\n",
              "1           1000_1     1053   2018-09-07     1000              9\n",
              "2           1000_2     1198   2018-06-25     1000              6\n",
              "3           1000_3      551   2018-08-22     1000              8\n",
              "4           1000_4      303   2018-09-24     1000              9\n",
              "...            ...      ...          ...      ...            ...\n",
              "149391    1499_152      319   2018-10-03     1499             10\n",
              "149392    1499_153      491   2018-12-14     1499             12\n",
              "149393    1499_154        0   2018-10-27     1499             10\n",
              "149394    1499_155     1247   2018-11-26     1499             11\n",
              "149395    1499_156      545   2018-10-26     1499             10\n",
              "\n",
              "[149396 rows x 5 columns]"
            ]
          },
          "metadata": {
            "tags": []
          },
          "execution_count": 24
        }
      ]
    },
    {
      "cell_type": "markdown",
      "metadata": {
        "id": "0js0aA74SI34"
      },
      "source": [
        "## `tariff`"
      ]
    },
    {
      "cell_type": "code",
      "metadata": {
        "scrolled": false,
        "id": "oUAT0S6vSI34",
        "outputId": "2656360b-c8f3-4d48-b83e-e95f3cc412fa"
      },
      "source": [
        "# просмотр информации о таблице \n",
        "df_tariffs.info()"
      ],
      "execution_count": null,
      "outputs": [
        {
          "output_type": "stream",
          "text": [
            "<class 'pandas.core.frame.DataFrame'>\n",
            "RangeIndex: 2 entries, 0 to 1\n",
            "Data columns (total 8 columns):\n",
            "messages_included        2 non-null int64\n",
            "mb_per_month_included    2 non-null int64\n",
            "minutes_included         2 non-null int64\n",
            "rub_monthly_fee          2 non-null int64\n",
            "rub_per_gb               2 non-null int64\n",
            "rub_per_message          2 non-null int64\n",
            "rub_per_minute           2 non-null int64\n",
            "tariff_name              2 non-null object\n",
            "dtypes: int64(7), object(1)\n",
            "memory usage: 256.0+ bytes\n"
          ],
          "name": "stdout"
        }
      ]
    },
    {
      "cell_type": "markdown",
      "metadata": {
        "id": "MReiv8usSI35"
      },
      "source": [
        "Изменили название столбца."
      ]
    },
    {
      "cell_type": "code",
      "metadata": {
        "id": "msS_1ieuSI36"
      },
      "source": [
        "df_tariffs.columns = [col.replace('tariff_name', 'tariff') for col in df_tariffs.columns]"
      ],
      "execution_count": null,
      "outputs": []
    },
    {
      "cell_type": "markdown",
      "metadata": {
        "id": "hZTmgz36SI36"
      },
      "source": [
        "Для большего удобства и дальнейшего анализа соединили таблицы `users` и `tariff`."
      ]
    },
    {
      "cell_type": "code",
      "metadata": {
        "id": "NbF_EIYcSI37",
        "outputId": "d75b69b1-4b79-4079-a743-235e41d92e7c"
      },
      "source": [
        "df = df_users.merge(df_tariffs, how='left')\n",
        "df"
      ],
      "execution_count": null,
      "outputs": [
        {
          "output_type": "execute_result",
          "data": {
            "text/html": [
              "<div>\n",
              "<style scoped>\n",
              "    .dataframe tbody tr th:only-of-type {\n",
              "        vertical-align: middle;\n",
              "    }\n",
              "\n",
              "    .dataframe tbody tr th {\n",
              "        vertical-align: top;\n",
              "    }\n",
              "\n",
              "    .dataframe thead th {\n",
              "        text-align: right;\n",
              "    }\n",
              "</style>\n",
              "<table border=\"1\" class=\"dataframe\">\n",
              "  <thead>\n",
              "    <tr style=\"text-align: right;\">\n",
              "      <th></th>\n",
              "      <th>user_id</th>\n",
              "      <th>age</th>\n",
              "      <th>churn_date</th>\n",
              "      <th>city</th>\n",
              "      <th>first_name</th>\n",
              "      <th>last_name</th>\n",
              "      <th>reg_date</th>\n",
              "      <th>tariff</th>\n",
              "      <th>messages_included</th>\n",
              "      <th>mb_per_month_included</th>\n",
              "      <th>minutes_included</th>\n",
              "      <th>rub_monthly_fee</th>\n",
              "      <th>rub_per_gb</th>\n",
              "      <th>rub_per_message</th>\n",
              "      <th>rub_per_minute</th>\n",
              "    </tr>\n",
              "  </thead>\n",
              "  <tbody>\n",
              "    <tr>\n",
              "      <td>0</td>\n",
              "      <td>1000</td>\n",
              "      <td>52</td>\n",
              "      <td>NaN</td>\n",
              "      <td>краснодар</td>\n",
              "      <td>рафаил</td>\n",
              "      <td>верещагин</td>\n",
              "      <td>2018-05-25</td>\n",
              "      <td>ultra</td>\n",
              "      <td>1000</td>\n",
              "      <td>30720</td>\n",
              "      <td>3000</td>\n",
              "      <td>1950</td>\n",
              "      <td>150</td>\n",
              "      <td>1</td>\n",
              "      <td>1</td>\n",
              "    </tr>\n",
              "    <tr>\n",
              "      <td>1</td>\n",
              "      <td>1001</td>\n",
              "      <td>41</td>\n",
              "      <td>NaN</td>\n",
              "      <td>москва</td>\n",
              "      <td>иван</td>\n",
              "      <td>ежов</td>\n",
              "      <td>2018-11-01</td>\n",
              "      <td>smart</td>\n",
              "      <td>50</td>\n",
              "      <td>15360</td>\n",
              "      <td>500</td>\n",
              "      <td>550</td>\n",
              "      <td>200</td>\n",
              "      <td>3</td>\n",
              "      <td>3</td>\n",
              "    </tr>\n",
              "    <tr>\n",
              "      <td>2</td>\n",
              "      <td>1002</td>\n",
              "      <td>59</td>\n",
              "      <td>NaN</td>\n",
              "      <td>стерлитамак</td>\n",
              "      <td>евгений</td>\n",
              "      <td>абрамович</td>\n",
              "      <td>2018-06-17</td>\n",
              "      <td>smart</td>\n",
              "      <td>50</td>\n",
              "      <td>15360</td>\n",
              "      <td>500</td>\n",
              "      <td>550</td>\n",
              "      <td>200</td>\n",
              "      <td>3</td>\n",
              "      <td>3</td>\n",
              "    </tr>\n",
              "    <tr>\n",
              "      <td>3</td>\n",
              "      <td>1003</td>\n",
              "      <td>23</td>\n",
              "      <td>NaN</td>\n",
              "      <td>москва</td>\n",
              "      <td>белла</td>\n",
              "      <td>белякова</td>\n",
              "      <td>2018-08-17</td>\n",
              "      <td>ultra</td>\n",
              "      <td>1000</td>\n",
              "      <td>30720</td>\n",
              "      <td>3000</td>\n",
              "      <td>1950</td>\n",
              "      <td>150</td>\n",
              "      <td>1</td>\n",
              "      <td>1</td>\n",
              "    </tr>\n",
              "    <tr>\n",
              "      <td>4</td>\n",
              "      <td>1004</td>\n",
              "      <td>68</td>\n",
              "      <td>NaN</td>\n",
              "      <td>новокузнецк</td>\n",
              "      <td>татьяна</td>\n",
              "      <td>авдеенко</td>\n",
              "      <td>2018-05-14</td>\n",
              "      <td>ultra</td>\n",
              "      <td>1000</td>\n",
              "      <td>30720</td>\n",
              "      <td>3000</td>\n",
              "      <td>1950</td>\n",
              "      <td>150</td>\n",
              "      <td>1</td>\n",
              "      <td>1</td>\n",
              "    </tr>\n",
              "    <tr>\n",
              "      <td>...</td>\n",
              "      <td>...</td>\n",
              "      <td>...</td>\n",
              "      <td>...</td>\n",
              "      <td>...</td>\n",
              "      <td>...</td>\n",
              "      <td>...</td>\n",
              "      <td>...</td>\n",
              "      <td>...</td>\n",
              "      <td>...</td>\n",
              "      <td>...</td>\n",
              "      <td>...</td>\n",
              "      <td>...</td>\n",
              "      <td>...</td>\n",
              "      <td>...</td>\n",
              "      <td>...</td>\n",
              "    </tr>\n",
              "    <tr>\n",
              "      <td>495</td>\n",
              "      <td>1495</td>\n",
              "      <td>65</td>\n",
              "      <td>NaN</td>\n",
              "      <td>иркутск</td>\n",
              "      <td>авксентий</td>\n",
              "      <td>фокин</td>\n",
              "      <td>2018-08-28</td>\n",
              "      <td>ultra</td>\n",
              "      <td>1000</td>\n",
              "      <td>30720</td>\n",
              "      <td>3000</td>\n",
              "      <td>1950</td>\n",
              "      <td>150</td>\n",
              "      <td>1</td>\n",
              "      <td>1</td>\n",
              "    </tr>\n",
              "    <tr>\n",
              "      <td>496</td>\n",
              "      <td>1496</td>\n",
              "      <td>36</td>\n",
              "      <td>NaN</td>\n",
              "      <td>вологда</td>\n",
              "      <td>трифон</td>\n",
              "      <td>блохин</td>\n",
              "      <td>2018-01-27</td>\n",
              "      <td>smart</td>\n",
              "      <td>50</td>\n",
              "      <td>15360</td>\n",
              "      <td>500</td>\n",
              "      <td>550</td>\n",
              "      <td>200</td>\n",
              "      <td>3</td>\n",
              "      <td>3</td>\n",
              "    </tr>\n",
              "    <tr>\n",
              "      <td>497</td>\n",
              "      <td>1497</td>\n",
              "      <td>32</td>\n",
              "      <td>NaN</td>\n",
              "      <td>челябинск</td>\n",
              "      <td>каролина</td>\n",
              "      <td>агеева</td>\n",
              "      <td>2018-10-09</td>\n",
              "      <td>smart</td>\n",
              "      <td>50</td>\n",
              "      <td>15360</td>\n",
              "      <td>500</td>\n",
              "      <td>550</td>\n",
              "      <td>200</td>\n",
              "      <td>3</td>\n",
              "      <td>3</td>\n",
              "    </tr>\n",
              "    <tr>\n",
              "      <td>498</td>\n",
              "      <td>1498</td>\n",
              "      <td>68</td>\n",
              "      <td>2018-10-25</td>\n",
              "      <td>владикавказ</td>\n",
              "      <td>всеволод</td>\n",
              "      <td>акимчин</td>\n",
              "      <td>2018-07-19</td>\n",
              "      <td>smart</td>\n",
              "      <td>50</td>\n",
              "      <td>15360</td>\n",
              "      <td>500</td>\n",
              "      <td>550</td>\n",
              "      <td>200</td>\n",
              "      <td>3</td>\n",
              "      <td>3</td>\n",
              "    </tr>\n",
              "    <tr>\n",
              "      <td>499</td>\n",
              "      <td>1499</td>\n",
              "      <td>35</td>\n",
              "      <td>NaN</td>\n",
              "      <td>пермь</td>\n",
              "      <td>гектор</td>\n",
              "      <td>корнилов</td>\n",
              "      <td>2018-09-27</td>\n",
              "      <td>smart</td>\n",
              "      <td>50</td>\n",
              "      <td>15360</td>\n",
              "      <td>500</td>\n",
              "      <td>550</td>\n",
              "      <td>200</td>\n",
              "      <td>3</td>\n",
              "      <td>3</td>\n",
              "    </tr>\n",
              "  </tbody>\n",
              "</table>\n",
              "<p>500 rows × 15 columns</p>\n",
              "</div>"
            ],
            "text/plain": [
              "     user_id  age  churn_date         city first_name  last_name   reg_date  \\\n",
              "0       1000   52         NaN    краснодар     рафаил  верещагин 2018-05-25   \n",
              "1       1001   41         NaN       москва       иван       ежов 2018-11-01   \n",
              "2       1002   59         NaN  стерлитамак    евгений  абрамович 2018-06-17   \n",
              "3       1003   23         NaN       москва      белла   белякова 2018-08-17   \n",
              "4       1004   68         NaN  новокузнецк    татьяна   авдеенко 2018-05-14   \n",
              "..       ...  ...         ...          ...        ...        ...        ...   \n",
              "495     1495   65         NaN      иркутск  авксентий      фокин 2018-08-28   \n",
              "496     1496   36         NaN      вологда     трифон     блохин 2018-01-27   \n",
              "497     1497   32         NaN    челябинск   каролина     агеева 2018-10-09   \n",
              "498     1498   68  2018-10-25  владикавказ   всеволод    акимчин 2018-07-19   \n",
              "499     1499   35         NaN        пермь     гектор   корнилов 2018-09-27   \n",
              "\n",
              "    tariff  messages_included  mb_per_month_included  minutes_included  \\\n",
              "0    ultra               1000                  30720              3000   \n",
              "1    smart                 50                  15360               500   \n",
              "2    smart                 50                  15360               500   \n",
              "3    ultra               1000                  30720              3000   \n",
              "4    ultra               1000                  30720              3000   \n",
              "..     ...                ...                    ...               ...   \n",
              "495  ultra               1000                  30720              3000   \n",
              "496  smart                 50                  15360               500   \n",
              "497  smart                 50                  15360               500   \n",
              "498  smart                 50                  15360               500   \n",
              "499  smart                 50                  15360               500   \n",
              "\n",
              "     rub_monthly_fee  rub_per_gb  rub_per_message  rub_per_minute  \n",
              "0               1950         150                1               1  \n",
              "1                550         200                3               3  \n",
              "2                550         200                3               3  \n",
              "3               1950         150                1               1  \n",
              "4               1950         150                1               1  \n",
              "..               ...         ...              ...             ...  \n",
              "495             1950         150                1               1  \n",
              "496              550         200                3               3  \n",
              "497              550         200                3               3  \n",
              "498              550         200                3               3  \n",
              "499              550         200                3               3  \n",
              "\n",
              "[500 rows x 15 columns]"
            ]
          },
          "metadata": {
            "tags": []
          },
          "execution_count": 27
        }
      ]
    },
    {
      "cell_type": "markdown",
      "metadata": {
        "id": "L_0eqMaLSI38"
      },
      "source": [
        "***"
      ]
    },
    {
      "cell_type": "markdown",
      "metadata": {
        "id": "_zchFjZESI38"
      },
      "source": [
        "* ### Подсчёт количества сделанных звонков и израсходованных минут разговора по месяцам <a id='2.2'></a> [^](#10)"
      ]
    },
    {
      "cell_type": "markdown",
      "metadata": {
        "id": "-Q7svTmSSI39"
      },
      "source": [
        "При подсчёте минут длительность нулевых звонков оставили без внимания, так как данный факт никак не влияет на потребление услуг из-за отсутствия тарификации."
      ]
    },
    {
      "cell_type": "code",
      "metadata": {
        "id": "66Jc1vacSI39",
        "outputId": "1fb1f1e4-98bc-41c7-f93d-804cac24c3f5"
      },
      "source": [
        "# сортировка по суммарному времени и количеству совершённых звонков за месяц каждым пользователем за исключением нулевых звонков\n",
        "df_calls_month = df_calls.query('duration != 0').pivot_table(index=[ 'user_id', 'month_calls'], \\\n",
        "                                                             values='duration', aggfunc=['count', 'sum'])\n",
        "\n",
        "# переименование осей таблицы\n",
        "df_calls_month.columns = ['count_call', 'sum_duration']\n",
        "\n",
        "df_calls_month.rename_axis(['user_id', 'month'], axis=0, inplace=True) \n",
        "df_calls_month"
      ],
      "execution_count": null,
      "outputs": [
        {
          "output_type": "execute_result",
          "data": {
            "text/html": [
              "<div>\n",
              "<style scoped>\n",
              "    .dataframe tbody tr th:only-of-type {\n",
              "        vertical-align: middle;\n",
              "    }\n",
              "\n",
              "    .dataframe tbody tr th {\n",
              "        vertical-align: top;\n",
              "    }\n",
              "\n",
              "    .dataframe thead th {\n",
              "        text-align: right;\n",
              "    }\n",
              "</style>\n",
              "<table border=\"1\" class=\"dataframe\">\n",
              "  <thead>\n",
              "    <tr style=\"text-align: right;\">\n",
              "      <th></th>\n",
              "      <th></th>\n",
              "      <th>count_call</th>\n",
              "      <th>sum_duration</th>\n",
              "    </tr>\n",
              "    <tr>\n",
              "      <th>user_id</th>\n",
              "      <th>month</th>\n",
              "      <th></th>\n",
              "      <th></th>\n",
              "    </tr>\n",
              "  </thead>\n",
              "  <tbody>\n",
              "    <tr>\n",
              "      <td rowspan=\"5\" valign=\"top\">1000</td>\n",
              "      <td>5</td>\n",
              "      <td>17</td>\n",
              "      <td>159</td>\n",
              "    </tr>\n",
              "    <tr>\n",
              "      <td>6</td>\n",
              "      <td>28</td>\n",
              "      <td>172</td>\n",
              "    </tr>\n",
              "    <tr>\n",
              "      <td>7</td>\n",
              "      <td>41</td>\n",
              "      <td>340</td>\n",
              "    </tr>\n",
              "    <tr>\n",
              "      <td>8</td>\n",
              "      <td>42</td>\n",
              "      <td>408</td>\n",
              "    </tr>\n",
              "    <tr>\n",
              "      <td>9</td>\n",
              "      <td>46</td>\n",
              "      <td>466</td>\n",
              "    </tr>\n",
              "    <tr>\n",
              "      <td>...</td>\n",
              "      <td>...</td>\n",
              "      <td>...</td>\n",
              "      <td>...</td>\n",
              "    </tr>\n",
              "    <tr>\n",
              "      <td>1498</td>\n",
              "      <td>10</td>\n",
              "      <td>30</td>\n",
              "      <td>247</td>\n",
              "    </tr>\n",
              "    <tr>\n",
              "      <td rowspan=\"4\" valign=\"top\">1499</td>\n",
              "      <td>9</td>\n",
              "      <td>8</td>\n",
              "      <td>70</td>\n",
              "    </tr>\n",
              "    <tr>\n",
              "      <td>10</td>\n",
              "      <td>44</td>\n",
              "      <td>449</td>\n",
              "    </tr>\n",
              "    <tr>\n",
              "      <td>11</td>\n",
              "      <td>62</td>\n",
              "      <td>612</td>\n",
              "    </tr>\n",
              "    <tr>\n",
              "      <td>12</td>\n",
              "      <td>56</td>\n",
              "      <td>492</td>\n",
              "    </tr>\n",
              "  </tbody>\n",
              "</table>\n",
              "<p>3168 rows × 2 columns</p>\n",
              "</div>"
            ],
            "text/plain": [
              "               count_call  sum_duration\n",
              "user_id month                          \n",
              "1000    5              17           159\n",
              "        6              28           172\n",
              "        7              41           340\n",
              "        8              42           408\n",
              "        9              46           466\n",
              "...                   ...           ...\n",
              "1498    10             30           247\n",
              "1499    9               8            70\n",
              "        10             44           449\n",
              "        11             62           612\n",
              "        12             56           492\n",
              "\n",
              "[3168 rows x 2 columns]"
            ]
          },
          "metadata": {
            "tags": []
          },
          "execution_count": 28
        }
      ]
    },
    {
      "cell_type": "markdown",
      "metadata": {
        "id": "V039AJCmSI3-"
      },
      "source": [
        "***"
      ]
    },
    {
      "cell_type": "markdown",
      "metadata": {
        "id": "qCmIPYYgSI3_"
      },
      "source": [
        "* ### Подсчёт количества отправленных сообщений по месяцам <a id='2.3'></a> [^](#10)"
      ]
    },
    {
      "cell_type": "markdown",
      "metadata": {
        "id": "Q85PQtDSSI3_"
      },
      "source": [
        "Посчитали количество отправленных пользователями сообщений за месяц."
      ]
    },
    {
      "cell_type": "code",
      "metadata": {
        "id": "2ANFO5FASI4A",
        "outputId": "52ae3c68-20ad-4ced-f59e-db2854fc4df2"
      },
      "source": [
        "# подсчет количества отправленных сообщений за месяц каждым пользователем\n",
        "df_message_month = df_messages.pivot_table(index=[ 'user_id', 'month_message'], values='id_message', aggfunc=['count'])\n",
        "\n",
        "# переименование мультииндексов и столбцов таблицы\n",
        "df_message_month.columns = ['count_message']\n",
        "\n",
        "df_message_month.rename_axis(['user_id', 'month'], axis=0, inplace=True) \n",
        "df_message_month"
      ],
      "execution_count": null,
      "outputs": [
        {
          "output_type": "execute_result",
          "data": {
            "text/html": [
              "<div>\n",
              "<style scoped>\n",
              "    .dataframe tbody tr th:only-of-type {\n",
              "        vertical-align: middle;\n",
              "    }\n",
              "\n",
              "    .dataframe tbody tr th {\n",
              "        vertical-align: top;\n",
              "    }\n",
              "\n",
              "    .dataframe thead th {\n",
              "        text-align: right;\n",
              "    }\n",
              "</style>\n",
              "<table border=\"1\" class=\"dataframe\">\n",
              "  <thead>\n",
              "    <tr style=\"text-align: right;\">\n",
              "      <th></th>\n",
              "      <th></th>\n",
              "      <th>count_message</th>\n",
              "    </tr>\n",
              "    <tr>\n",
              "      <th>user_id</th>\n",
              "      <th>month</th>\n",
              "      <th></th>\n",
              "    </tr>\n",
              "  </thead>\n",
              "  <tbody>\n",
              "    <tr>\n",
              "      <td rowspan=\"5\" valign=\"top\">1000</td>\n",
              "      <td>5</td>\n",
              "      <td>22</td>\n",
              "    </tr>\n",
              "    <tr>\n",
              "      <td>6</td>\n",
              "      <td>60</td>\n",
              "    </tr>\n",
              "    <tr>\n",
              "      <td>7</td>\n",
              "      <td>75</td>\n",
              "    </tr>\n",
              "    <tr>\n",
              "      <td>8</td>\n",
              "      <td>81</td>\n",
              "    </tr>\n",
              "    <tr>\n",
              "      <td>9</td>\n",
              "      <td>57</td>\n",
              "    </tr>\n",
              "    <tr>\n",
              "      <td>...</td>\n",
              "      <td>...</td>\n",
              "      <td>...</td>\n",
              "    </tr>\n",
              "    <tr>\n",
              "      <td>1498</td>\n",
              "      <td>10</td>\n",
              "      <td>42</td>\n",
              "    </tr>\n",
              "    <tr>\n",
              "      <td rowspan=\"4\" valign=\"top\">1499</td>\n",
              "      <td>9</td>\n",
              "      <td>11</td>\n",
              "    </tr>\n",
              "    <tr>\n",
              "      <td>10</td>\n",
              "      <td>48</td>\n",
              "    </tr>\n",
              "    <tr>\n",
              "      <td>11</td>\n",
              "      <td>59</td>\n",
              "    </tr>\n",
              "    <tr>\n",
              "      <td>12</td>\n",
              "      <td>66</td>\n",
              "    </tr>\n",
              "  </tbody>\n",
              "</table>\n",
              "<p>2717 rows × 1 columns</p>\n",
              "</div>"
            ],
            "text/plain": [
              "               count_message\n",
              "user_id month               \n",
              "1000    5                 22\n",
              "        6                 60\n",
              "        7                 75\n",
              "        8                 81\n",
              "        9                 57\n",
              "...                      ...\n",
              "1498    10                42\n",
              "1499    9                 11\n",
              "        10                48\n",
              "        11                59\n",
              "        12                66\n",
              "\n",
              "[2717 rows x 1 columns]"
            ]
          },
          "metadata": {
            "tags": []
          },
          "execution_count": 29
        }
      ]
    },
    {
      "cell_type": "markdown",
      "metadata": {
        "id": "kw1a3ArFSI4B"
      },
      "source": [
        "***"
      ]
    },
    {
      "cell_type": "markdown",
      "metadata": {
        "id": "F32mS8N-SI4C"
      },
      "source": [
        "* ### Объём израсходованного интернет-трафика по месяцам <a id='2.4'></a> [^](#10)"
      ]
    },
    {
      "cell_type": "code",
      "metadata": {
        "id": "ibhdPkpvSI4C",
        "outputId": "d0b3168e-4940-4402-816d-396c718872bd"
      },
      "source": [
        "# подсчет суммарного трафика за каждый месяц пользователями\n",
        "df_internet_month = df_internet.pivot_table(index=[ 'user_id', 'month_session'], values='mb_used', aggfunc=['sum'])\n",
        "\n",
        "# переименование осей таблицы\n",
        "df_internet_month.columns = ['sum_mb']\n",
        "\n",
        "df_internet_month.rename_axis(['user_id', 'month'], axis=0, inplace=True) \n",
        "df_internet_month"
      ],
      "execution_count": null,
      "outputs": [
        {
          "output_type": "execute_result",
          "data": {
            "text/html": [
              "<div>\n",
              "<style scoped>\n",
              "    .dataframe tbody tr th:only-of-type {\n",
              "        vertical-align: middle;\n",
              "    }\n",
              "\n",
              "    .dataframe tbody tr th {\n",
              "        vertical-align: top;\n",
              "    }\n",
              "\n",
              "    .dataframe thead th {\n",
              "        text-align: right;\n",
              "    }\n",
              "</style>\n",
              "<table border=\"1\" class=\"dataframe\">\n",
              "  <thead>\n",
              "    <tr style=\"text-align: right;\">\n",
              "      <th></th>\n",
              "      <th></th>\n",
              "      <th>sum_mb</th>\n",
              "    </tr>\n",
              "    <tr>\n",
              "      <th>user_id</th>\n",
              "      <th>month</th>\n",
              "      <th></th>\n",
              "    </tr>\n",
              "  </thead>\n",
              "  <tbody>\n",
              "    <tr>\n",
              "      <td rowspan=\"5\" valign=\"top\">1000</td>\n",
              "      <td>5</td>\n",
              "      <td>2256</td>\n",
              "    </tr>\n",
              "    <tr>\n",
              "      <td>6</td>\n",
              "      <td>23257</td>\n",
              "    </tr>\n",
              "    <tr>\n",
              "      <td>7</td>\n",
              "      <td>14016</td>\n",
              "    </tr>\n",
              "    <tr>\n",
              "      <td>8</td>\n",
              "      <td>14070</td>\n",
              "    </tr>\n",
              "    <tr>\n",
              "      <td>9</td>\n",
              "      <td>14581</td>\n",
              "    </tr>\n",
              "    <tr>\n",
              "      <td>...</td>\n",
              "      <td>...</td>\n",
              "      <td>...</td>\n",
              "    </tr>\n",
              "    <tr>\n",
              "      <td>1498</td>\n",
              "      <td>10</td>\n",
              "      <td>20604</td>\n",
              "    </tr>\n",
              "    <tr>\n",
              "      <td rowspan=\"4\" valign=\"top\">1499</td>\n",
              "      <td>9</td>\n",
              "      <td>1848</td>\n",
              "    </tr>\n",
              "    <tr>\n",
              "      <td>10</td>\n",
              "      <td>17809</td>\n",
              "    </tr>\n",
              "    <tr>\n",
              "      <td>11</td>\n",
              "      <td>17984</td>\n",
              "    </tr>\n",
              "    <tr>\n",
              "      <td>12</td>\n",
              "      <td>13077</td>\n",
              "    </tr>\n",
              "  </tbody>\n",
              "</table>\n",
              "<p>3203 rows × 1 columns</p>\n",
              "</div>"
            ],
            "text/plain": [
              "               sum_mb\n",
              "user_id month        \n",
              "1000    5        2256\n",
              "        6       23257\n",
              "        7       14016\n",
              "        8       14070\n",
              "        9       14581\n",
              "...               ...\n",
              "1498    10      20604\n",
              "1499    9        1848\n",
              "        10      17809\n",
              "        11      17984\n",
              "        12      13077\n",
              "\n",
              "[3203 rows x 1 columns]"
            ]
          },
          "metadata": {
            "tags": []
          },
          "execution_count": 30
        }
      ]
    },
    {
      "cell_type": "markdown",
      "metadata": {
        "id": "ZVqSAtcvSI4D"
      },
      "source": [
        "***"
      ]
    },
    {
      "cell_type": "markdown",
      "metadata": {
        "id": "3fmrQC6gSI4E"
      },
      "source": [
        "Соединили все сгруппированные таблицы с количеством потребляемых услуг."
      ]
    },
    {
      "cell_type": "code",
      "metadata": {
        "id": "BAH_9tENSI4E",
        "outputId": "4d3281b9-2f5d-47e4-a2cd-db4ff51ca3fb"
      },
      "source": [
        "df_group = df_calls_month.merge(df_message_month, on=['user_id', 'month'], how='left')\n",
        "\n",
        "df_group = df_group.merge(df_internet_month, on=['user_id', 'month'], how='left')\n",
        "\n",
        "df_group['month'] = df_group.index.get_level_values(1)\n",
        "df_group"
      ],
      "execution_count": null,
      "outputs": [
        {
          "output_type": "execute_result",
          "data": {
            "text/html": [
              "<div>\n",
              "<style scoped>\n",
              "    .dataframe tbody tr th:only-of-type {\n",
              "        vertical-align: middle;\n",
              "    }\n",
              "\n",
              "    .dataframe tbody tr th {\n",
              "        vertical-align: top;\n",
              "    }\n",
              "\n",
              "    .dataframe thead th {\n",
              "        text-align: right;\n",
              "    }\n",
              "</style>\n",
              "<table border=\"1\" class=\"dataframe\">\n",
              "  <thead>\n",
              "    <tr style=\"text-align: right;\">\n",
              "      <th></th>\n",
              "      <th></th>\n",
              "      <th>count_call</th>\n",
              "      <th>sum_duration</th>\n",
              "      <th>count_message</th>\n",
              "      <th>sum_mb</th>\n",
              "      <th>month</th>\n",
              "    </tr>\n",
              "    <tr>\n",
              "      <th>user_id</th>\n",
              "      <th>month</th>\n",
              "      <th></th>\n",
              "      <th></th>\n",
              "      <th></th>\n",
              "      <th></th>\n",
              "      <th></th>\n",
              "    </tr>\n",
              "  </thead>\n",
              "  <tbody>\n",
              "    <tr>\n",
              "      <td rowspan=\"5\" valign=\"top\">1000</td>\n",
              "      <td>5</td>\n",
              "      <td>17</td>\n",
              "      <td>159</td>\n",
              "      <td>22.0</td>\n",
              "      <td>2256.0</td>\n",
              "      <td>5</td>\n",
              "    </tr>\n",
              "    <tr>\n",
              "      <td>6</td>\n",
              "      <td>28</td>\n",
              "      <td>172</td>\n",
              "      <td>60.0</td>\n",
              "      <td>23257.0</td>\n",
              "      <td>6</td>\n",
              "    </tr>\n",
              "    <tr>\n",
              "      <td>7</td>\n",
              "      <td>41</td>\n",
              "      <td>340</td>\n",
              "      <td>75.0</td>\n",
              "      <td>14016.0</td>\n",
              "      <td>7</td>\n",
              "    </tr>\n",
              "    <tr>\n",
              "      <td>8</td>\n",
              "      <td>42</td>\n",
              "      <td>408</td>\n",
              "      <td>81.0</td>\n",
              "      <td>14070.0</td>\n",
              "      <td>8</td>\n",
              "    </tr>\n",
              "    <tr>\n",
              "      <td>9</td>\n",
              "      <td>46</td>\n",
              "      <td>466</td>\n",
              "      <td>57.0</td>\n",
              "      <td>14581.0</td>\n",
              "      <td>9</td>\n",
              "    </tr>\n",
              "    <tr>\n",
              "      <td>...</td>\n",
              "      <td>...</td>\n",
              "      <td>...</td>\n",
              "      <td>...</td>\n",
              "      <td>...</td>\n",
              "      <td>...</td>\n",
              "      <td>...</td>\n",
              "    </tr>\n",
              "    <tr>\n",
              "      <td>1498</td>\n",
              "      <td>10</td>\n",
              "      <td>30</td>\n",
              "      <td>247</td>\n",
              "      <td>42.0</td>\n",
              "      <td>20604.0</td>\n",
              "      <td>10</td>\n",
              "    </tr>\n",
              "    <tr>\n",
              "      <td rowspan=\"4\" valign=\"top\">1499</td>\n",
              "      <td>9</td>\n",
              "      <td>8</td>\n",
              "      <td>70</td>\n",
              "      <td>11.0</td>\n",
              "      <td>1848.0</td>\n",
              "      <td>9</td>\n",
              "    </tr>\n",
              "    <tr>\n",
              "      <td>10</td>\n",
              "      <td>44</td>\n",
              "      <td>449</td>\n",
              "      <td>48.0</td>\n",
              "      <td>17809.0</td>\n",
              "      <td>10</td>\n",
              "    </tr>\n",
              "    <tr>\n",
              "      <td>11</td>\n",
              "      <td>62</td>\n",
              "      <td>612</td>\n",
              "      <td>59.0</td>\n",
              "      <td>17984.0</td>\n",
              "      <td>11</td>\n",
              "    </tr>\n",
              "    <tr>\n",
              "      <td>12</td>\n",
              "      <td>56</td>\n",
              "      <td>492</td>\n",
              "      <td>66.0</td>\n",
              "      <td>13077.0</td>\n",
              "      <td>12</td>\n",
              "    </tr>\n",
              "  </tbody>\n",
              "</table>\n",
              "<p>3168 rows × 5 columns</p>\n",
              "</div>"
            ],
            "text/plain": [
              "               count_call  sum_duration  count_message   sum_mb  month\n",
              "user_id month                                                         \n",
              "1000    5              17           159           22.0   2256.0      5\n",
              "        6              28           172           60.0  23257.0      6\n",
              "        7              41           340           75.0  14016.0      7\n",
              "        8              42           408           81.0  14070.0      8\n",
              "        9              46           466           57.0  14581.0      9\n",
              "...                   ...           ...            ...      ...    ...\n",
              "1498    10             30           247           42.0  20604.0     10\n",
              "1499    9               8            70           11.0   1848.0      9\n",
              "        10             44           449           48.0  17809.0     10\n",
              "        11             62           612           59.0  17984.0     11\n",
              "        12             56           492           66.0  13077.0     12\n",
              "\n",
              "[3168 rows x 5 columns]"
            ]
          },
          "metadata": {
            "tags": []
          },
          "execution_count": 31
        }
      ]
    },
    {
      "cell_type": "markdown",
      "metadata": {
        "id": "nzpxXttASI4F"
      },
      "source": [
        "***"
      ]
    },
    {
      "cell_type": "markdown",
      "metadata": {
        "id": "79cRqaDeSI4G"
      },
      "source": [
        "* ### Подсчёт помесячной выручки с каждого пользователя <a id='2.5'></a> [^](#10)"
      ]
    },
    {
      "cell_type": "markdown",
      "metadata": {
        "id": "slTNEoJ9SI4G"
      },
      "source": [
        "Создали общую таблицу для более лучшего расчёта и анализа параметров."
      ]
    },
    {
      "cell_type": "code",
      "metadata": {
        "id": "TSk-O1RYSI4H"
      },
      "source": [
        "df = df.merge(df_group, on='user_id', how='left')"
      ],
      "execution_count": null,
      "outputs": []
    },
    {
      "cell_type": "code",
      "metadata": {
        "id": "5LQ_BtqwSI4H",
        "outputId": "9a371c98-0164-4665-edd3-192a8ed681bc"
      },
      "source": [
        "# вызов общей таблицы\n",
        "df"
      ],
      "execution_count": null,
      "outputs": [
        {
          "output_type": "execute_result",
          "data": {
            "text/html": [
              "<div>\n",
              "<style scoped>\n",
              "    .dataframe tbody tr th:only-of-type {\n",
              "        vertical-align: middle;\n",
              "    }\n",
              "\n",
              "    .dataframe tbody tr th {\n",
              "        vertical-align: top;\n",
              "    }\n",
              "\n",
              "    .dataframe thead th {\n",
              "        text-align: right;\n",
              "    }\n",
              "</style>\n",
              "<table border=\"1\" class=\"dataframe\">\n",
              "  <thead>\n",
              "    <tr style=\"text-align: right;\">\n",
              "      <th></th>\n",
              "      <th>user_id</th>\n",
              "      <th>age</th>\n",
              "      <th>churn_date</th>\n",
              "      <th>city</th>\n",
              "      <th>first_name</th>\n",
              "      <th>last_name</th>\n",
              "      <th>reg_date</th>\n",
              "      <th>tariff</th>\n",
              "      <th>messages_included</th>\n",
              "      <th>mb_per_month_included</th>\n",
              "      <th>minutes_included</th>\n",
              "      <th>rub_monthly_fee</th>\n",
              "      <th>rub_per_gb</th>\n",
              "      <th>rub_per_message</th>\n",
              "      <th>rub_per_minute</th>\n",
              "      <th>count_call</th>\n",
              "      <th>sum_duration</th>\n",
              "      <th>count_message</th>\n",
              "      <th>sum_mb</th>\n",
              "      <th>month</th>\n",
              "    </tr>\n",
              "  </thead>\n",
              "  <tbody>\n",
              "    <tr>\n",
              "      <td>0</td>\n",
              "      <td>1000</td>\n",
              "      <td>52</td>\n",
              "      <td>NaN</td>\n",
              "      <td>краснодар</td>\n",
              "      <td>рафаил</td>\n",
              "      <td>верещагин</td>\n",
              "      <td>2018-05-25</td>\n",
              "      <td>ultra</td>\n",
              "      <td>1000</td>\n",
              "      <td>30720</td>\n",
              "      <td>3000</td>\n",
              "      <td>1950</td>\n",
              "      <td>150</td>\n",
              "      <td>1</td>\n",
              "      <td>1</td>\n",
              "      <td>17.0</td>\n",
              "      <td>159.0</td>\n",
              "      <td>22.0</td>\n",
              "      <td>2256.0</td>\n",
              "      <td>5.0</td>\n",
              "    </tr>\n",
              "    <tr>\n",
              "      <td>1</td>\n",
              "      <td>1000</td>\n",
              "      <td>52</td>\n",
              "      <td>NaN</td>\n",
              "      <td>краснодар</td>\n",
              "      <td>рафаил</td>\n",
              "      <td>верещагин</td>\n",
              "      <td>2018-05-25</td>\n",
              "      <td>ultra</td>\n",
              "      <td>1000</td>\n",
              "      <td>30720</td>\n",
              "      <td>3000</td>\n",
              "      <td>1950</td>\n",
              "      <td>150</td>\n",
              "      <td>1</td>\n",
              "      <td>1</td>\n",
              "      <td>28.0</td>\n",
              "      <td>172.0</td>\n",
              "      <td>60.0</td>\n",
              "      <td>23257.0</td>\n",
              "      <td>6.0</td>\n",
              "    </tr>\n",
              "    <tr>\n",
              "      <td>2</td>\n",
              "      <td>1000</td>\n",
              "      <td>52</td>\n",
              "      <td>NaN</td>\n",
              "      <td>краснодар</td>\n",
              "      <td>рафаил</td>\n",
              "      <td>верещагин</td>\n",
              "      <td>2018-05-25</td>\n",
              "      <td>ultra</td>\n",
              "      <td>1000</td>\n",
              "      <td>30720</td>\n",
              "      <td>3000</td>\n",
              "      <td>1950</td>\n",
              "      <td>150</td>\n",
              "      <td>1</td>\n",
              "      <td>1</td>\n",
              "      <td>41.0</td>\n",
              "      <td>340.0</td>\n",
              "      <td>75.0</td>\n",
              "      <td>14016.0</td>\n",
              "      <td>7.0</td>\n",
              "    </tr>\n",
              "    <tr>\n",
              "      <td>3</td>\n",
              "      <td>1000</td>\n",
              "      <td>52</td>\n",
              "      <td>NaN</td>\n",
              "      <td>краснодар</td>\n",
              "      <td>рафаил</td>\n",
              "      <td>верещагин</td>\n",
              "      <td>2018-05-25</td>\n",
              "      <td>ultra</td>\n",
              "      <td>1000</td>\n",
              "      <td>30720</td>\n",
              "      <td>3000</td>\n",
              "      <td>1950</td>\n",
              "      <td>150</td>\n",
              "      <td>1</td>\n",
              "      <td>1</td>\n",
              "      <td>42.0</td>\n",
              "      <td>408.0</td>\n",
              "      <td>81.0</td>\n",
              "      <td>14070.0</td>\n",
              "      <td>8.0</td>\n",
              "    </tr>\n",
              "    <tr>\n",
              "      <td>4</td>\n",
              "      <td>1000</td>\n",
              "      <td>52</td>\n",
              "      <td>NaN</td>\n",
              "      <td>краснодар</td>\n",
              "      <td>рафаил</td>\n",
              "      <td>верещагин</td>\n",
              "      <td>2018-05-25</td>\n",
              "      <td>ultra</td>\n",
              "      <td>1000</td>\n",
              "      <td>30720</td>\n",
              "      <td>3000</td>\n",
              "      <td>1950</td>\n",
              "      <td>150</td>\n",
              "      <td>1</td>\n",
              "      <td>1</td>\n",
              "      <td>46.0</td>\n",
              "      <td>466.0</td>\n",
              "      <td>57.0</td>\n",
              "      <td>14581.0</td>\n",
              "      <td>9.0</td>\n",
              "    </tr>\n",
              "    <tr>\n",
              "      <td>...</td>\n",
              "      <td>...</td>\n",
              "      <td>...</td>\n",
              "      <td>...</td>\n",
              "      <td>...</td>\n",
              "      <td>...</td>\n",
              "      <td>...</td>\n",
              "      <td>...</td>\n",
              "      <td>...</td>\n",
              "      <td>...</td>\n",
              "      <td>...</td>\n",
              "      <td>...</td>\n",
              "      <td>...</td>\n",
              "      <td>...</td>\n",
              "      <td>...</td>\n",
              "      <td>...</td>\n",
              "      <td>...</td>\n",
              "      <td>...</td>\n",
              "      <td>...</td>\n",
              "      <td>...</td>\n",
              "      <td>...</td>\n",
              "    </tr>\n",
              "    <tr>\n",
              "      <td>3171</td>\n",
              "      <td>1498</td>\n",
              "      <td>68</td>\n",
              "      <td>2018-10-25</td>\n",
              "      <td>владикавказ</td>\n",
              "      <td>всеволод</td>\n",
              "      <td>акимчин</td>\n",
              "      <td>2018-07-19</td>\n",
              "      <td>smart</td>\n",
              "      <td>50</td>\n",
              "      <td>15360</td>\n",
              "      <td>500</td>\n",
              "      <td>550</td>\n",
              "      <td>200</td>\n",
              "      <td>3</td>\n",
              "      <td>3</td>\n",
              "      <td>30.0</td>\n",
              "      <td>247.0</td>\n",
              "      <td>42.0</td>\n",
              "      <td>20604.0</td>\n",
              "      <td>10.0</td>\n",
              "    </tr>\n",
              "    <tr>\n",
              "      <td>3172</td>\n",
              "      <td>1499</td>\n",
              "      <td>35</td>\n",
              "      <td>NaN</td>\n",
              "      <td>пермь</td>\n",
              "      <td>гектор</td>\n",
              "      <td>корнилов</td>\n",
              "      <td>2018-09-27</td>\n",
              "      <td>smart</td>\n",
              "      <td>50</td>\n",
              "      <td>15360</td>\n",
              "      <td>500</td>\n",
              "      <td>550</td>\n",
              "      <td>200</td>\n",
              "      <td>3</td>\n",
              "      <td>3</td>\n",
              "      <td>8.0</td>\n",
              "      <td>70.0</td>\n",
              "      <td>11.0</td>\n",
              "      <td>1848.0</td>\n",
              "      <td>9.0</td>\n",
              "    </tr>\n",
              "    <tr>\n",
              "      <td>3173</td>\n",
              "      <td>1499</td>\n",
              "      <td>35</td>\n",
              "      <td>NaN</td>\n",
              "      <td>пермь</td>\n",
              "      <td>гектор</td>\n",
              "      <td>корнилов</td>\n",
              "      <td>2018-09-27</td>\n",
              "      <td>smart</td>\n",
              "      <td>50</td>\n",
              "      <td>15360</td>\n",
              "      <td>500</td>\n",
              "      <td>550</td>\n",
              "      <td>200</td>\n",
              "      <td>3</td>\n",
              "      <td>3</td>\n",
              "      <td>44.0</td>\n",
              "      <td>449.0</td>\n",
              "      <td>48.0</td>\n",
              "      <td>17809.0</td>\n",
              "      <td>10.0</td>\n",
              "    </tr>\n",
              "    <tr>\n",
              "      <td>3174</td>\n",
              "      <td>1499</td>\n",
              "      <td>35</td>\n",
              "      <td>NaN</td>\n",
              "      <td>пермь</td>\n",
              "      <td>гектор</td>\n",
              "      <td>корнилов</td>\n",
              "      <td>2018-09-27</td>\n",
              "      <td>smart</td>\n",
              "      <td>50</td>\n",
              "      <td>15360</td>\n",
              "      <td>500</td>\n",
              "      <td>550</td>\n",
              "      <td>200</td>\n",
              "      <td>3</td>\n",
              "      <td>3</td>\n",
              "      <td>62.0</td>\n",
              "      <td>612.0</td>\n",
              "      <td>59.0</td>\n",
              "      <td>17984.0</td>\n",
              "      <td>11.0</td>\n",
              "    </tr>\n",
              "    <tr>\n",
              "      <td>3175</td>\n",
              "      <td>1499</td>\n",
              "      <td>35</td>\n",
              "      <td>NaN</td>\n",
              "      <td>пермь</td>\n",
              "      <td>гектор</td>\n",
              "      <td>корнилов</td>\n",
              "      <td>2018-09-27</td>\n",
              "      <td>smart</td>\n",
              "      <td>50</td>\n",
              "      <td>15360</td>\n",
              "      <td>500</td>\n",
              "      <td>550</td>\n",
              "      <td>200</td>\n",
              "      <td>3</td>\n",
              "      <td>3</td>\n",
              "      <td>56.0</td>\n",
              "      <td>492.0</td>\n",
              "      <td>66.0</td>\n",
              "      <td>13077.0</td>\n",
              "      <td>12.0</td>\n",
              "    </tr>\n",
              "  </tbody>\n",
              "</table>\n",
              "<p>3176 rows × 20 columns</p>\n",
              "</div>"
            ],
            "text/plain": [
              "      user_id  age  churn_date         city first_name  last_name   reg_date  \\\n",
              "0        1000   52         NaN    краснодар     рафаил  верещагин 2018-05-25   \n",
              "1        1000   52         NaN    краснодар     рафаил  верещагин 2018-05-25   \n",
              "2        1000   52         NaN    краснодар     рафаил  верещагин 2018-05-25   \n",
              "3        1000   52         NaN    краснодар     рафаил  верещагин 2018-05-25   \n",
              "4        1000   52         NaN    краснодар     рафаил  верещагин 2018-05-25   \n",
              "...       ...  ...         ...          ...        ...        ...        ...   \n",
              "3171     1498   68  2018-10-25  владикавказ   всеволод    акимчин 2018-07-19   \n",
              "3172     1499   35         NaN        пермь     гектор   корнилов 2018-09-27   \n",
              "3173     1499   35         NaN        пермь     гектор   корнилов 2018-09-27   \n",
              "3174     1499   35         NaN        пермь     гектор   корнилов 2018-09-27   \n",
              "3175     1499   35         NaN        пермь     гектор   корнилов 2018-09-27   \n",
              "\n",
              "     tariff  messages_included  mb_per_month_included  minutes_included  \\\n",
              "0     ultra               1000                  30720              3000   \n",
              "1     ultra               1000                  30720              3000   \n",
              "2     ultra               1000                  30720              3000   \n",
              "3     ultra               1000                  30720              3000   \n",
              "4     ultra               1000                  30720              3000   \n",
              "...     ...                ...                    ...               ...   \n",
              "3171  smart                 50                  15360               500   \n",
              "3172  smart                 50                  15360               500   \n",
              "3173  smart                 50                  15360               500   \n",
              "3174  smart                 50                  15360               500   \n",
              "3175  smart                 50                  15360               500   \n",
              "\n",
              "      rub_monthly_fee  rub_per_gb  rub_per_message  rub_per_minute  \\\n",
              "0                1950         150                1               1   \n",
              "1                1950         150                1               1   \n",
              "2                1950         150                1               1   \n",
              "3                1950         150                1               1   \n",
              "4                1950         150                1               1   \n",
              "...               ...         ...              ...             ...   \n",
              "3171              550         200                3               3   \n",
              "3172              550         200                3               3   \n",
              "3173              550         200                3               3   \n",
              "3174              550         200                3               3   \n",
              "3175              550         200                3               3   \n",
              "\n",
              "      count_call  sum_duration  count_message   sum_mb  month  \n",
              "0           17.0         159.0           22.0   2256.0    5.0  \n",
              "1           28.0         172.0           60.0  23257.0    6.0  \n",
              "2           41.0         340.0           75.0  14016.0    7.0  \n",
              "3           42.0         408.0           81.0  14070.0    8.0  \n",
              "4           46.0         466.0           57.0  14581.0    9.0  \n",
              "...          ...           ...            ...      ...    ...  \n",
              "3171        30.0         247.0           42.0  20604.0   10.0  \n",
              "3172         8.0          70.0           11.0   1848.0    9.0  \n",
              "3173        44.0         449.0           48.0  17809.0   10.0  \n",
              "3174        62.0         612.0           59.0  17984.0   11.0  \n",
              "3175        56.0         492.0           66.0  13077.0   12.0  \n",
              "\n",
              "[3176 rows x 20 columns]"
            ]
          },
          "metadata": {
            "tags": []
          },
          "execution_count": 33
        }
      ]
    },
    {
      "cell_type": "markdown",
      "metadata": {
        "id": "KTTRCiH8SI4I"
      },
      "source": [
        "Посчитали помесячную выручку с каждого пользователя."
      ]
    },
    {
      "cell_type": "code",
      "metadata": {
        "id": "tUNrTLpvSI4J"
      },
      "source": [
        "# функция для вычисления помесячной выручки с каждого пользователя\n",
        "def to_fee(row):\n",
        "    if row['minutes_included'] < row['sum_duration']:\n",
        "        fee_calls = (row['sum_duration'] - row['minutes_included']) * row['rub_per_minute']\n",
        "    else:\n",
        "        fee_calls = 0 \n",
        "        \n",
        "    if row['messages_included'] < row['count_message']:\n",
        "        fee_messages = (row['count_message'] - row['messages_included']) * row['rub_per_message']\n",
        "    else:\n",
        "        fee_messages = 0  \n",
        "        \n",
        "    if row['mb_per_month_included'] < row['sum_mb']:\n",
        "        fee_mb = mt.ceil((row['sum_mb'] - row['mb_per_month_included']) / 1024) * row['rub_per_gb']\n",
        "    else:\n",
        "        fee_mb = 0\n",
        "        \n",
        "    fee_month_total = row['rub_monthly_fee'] + fee_calls + fee_messages + fee_mb\n",
        "    return fee_month_total"
      ],
      "execution_count": null,
      "outputs": []
    },
    {
      "cell_type": "code",
      "metadata": {
        "id": "jPmrXG5_SI4K",
        "outputId": "71421474-b339-4c74-d43b-259d988a2bfe"
      },
      "source": [
        "# создание столбца с общей платой за тариф в месяц\n",
        "df['fee_month_total'] = df.apply(to_fee, axis=1)\n",
        "df"
      ],
      "execution_count": null,
      "outputs": [
        {
          "output_type": "execute_result",
          "data": {
            "text/html": [
              "<div>\n",
              "<style scoped>\n",
              "    .dataframe tbody tr th:only-of-type {\n",
              "        vertical-align: middle;\n",
              "    }\n",
              "\n",
              "    .dataframe tbody tr th {\n",
              "        vertical-align: top;\n",
              "    }\n",
              "\n",
              "    .dataframe thead th {\n",
              "        text-align: right;\n",
              "    }\n",
              "</style>\n",
              "<table border=\"1\" class=\"dataframe\">\n",
              "  <thead>\n",
              "    <tr style=\"text-align: right;\">\n",
              "      <th></th>\n",
              "      <th>user_id</th>\n",
              "      <th>age</th>\n",
              "      <th>churn_date</th>\n",
              "      <th>city</th>\n",
              "      <th>first_name</th>\n",
              "      <th>last_name</th>\n",
              "      <th>reg_date</th>\n",
              "      <th>tariff</th>\n",
              "      <th>messages_included</th>\n",
              "      <th>mb_per_month_included</th>\n",
              "      <th>...</th>\n",
              "      <th>rub_monthly_fee</th>\n",
              "      <th>rub_per_gb</th>\n",
              "      <th>rub_per_message</th>\n",
              "      <th>rub_per_minute</th>\n",
              "      <th>count_call</th>\n",
              "      <th>sum_duration</th>\n",
              "      <th>count_message</th>\n",
              "      <th>sum_mb</th>\n",
              "      <th>month</th>\n",
              "      <th>fee_month_total</th>\n",
              "    </tr>\n",
              "  </thead>\n",
              "  <tbody>\n",
              "    <tr>\n",
              "      <td>0</td>\n",
              "      <td>1000</td>\n",
              "      <td>52</td>\n",
              "      <td>NaN</td>\n",
              "      <td>краснодар</td>\n",
              "      <td>рафаил</td>\n",
              "      <td>верещагин</td>\n",
              "      <td>2018-05-25</td>\n",
              "      <td>ultra</td>\n",
              "      <td>1000</td>\n",
              "      <td>30720</td>\n",
              "      <td>...</td>\n",
              "      <td>1950</td>\n",
              "      <td>150</td>\n",
              "      <td>1</td>\n",
              "      <td>1</td>\n",
              "      <td>17.0</td>\n",
              "      <td>159.0</td>\n",
              "      <td>22.0</td>\n",
              "      <td>2256.0</td>\n",
              "      <td>5.0</td>\n",
              "      <td>1950.0</td>\n",
              "    </tr>\n",
              "    <tr>\n",
              "      <td>1</td>\n",
              "      <td>1000</td>\n",
              "      <td>52</td>\n",
              "      <td>NaN</td>\n",
              "      <td>краснодар</td>\n",
              "      <td>рафаил</td>\n",
              "      <td>верещагин</td>\n",
              "      <td>2018-05-25</td>\n",
              "      <td>ultra</td>\n",
              "      <td>1000</td>\n",
              "      <td>30720</td>\n",
              "      <td>...</td>\n",
              "      <td>1950</td>\n",
              "      <td>150</td>\n",
              "      <td>1</td>\n",
              "      <td>1</td>\n",
              "      <td>28.0</td>\n",
              "      <td>172.0</td>\n",
              "      <td>60.0</td>\n",
              "      <td>23257.0</td>\n",
              "      <td>6.0</td>\n",
              "      <td>1950.0</td>\n",
              "    </tr>\n",
              "    <tr>\n",
              "      <td>2</td>\n",
              "      <td>1000</td>\n",
              "      <td>52</td>\n",
              "      <td>NaN</td>\n",
              "      <td>краснодар</td>\n",
              "      <td>рафаил</td>\n",
              "      <td>верещагин</td>\n",
              "      <td>2018-05-25</td>\n",
              "      <td>ultra</td>\n",
              "      <td>1000</td>\n",
              "      <td>30720</td>\n",
              "      <td>...</td>\n",
              "      <td>1950</td>\n",
              "      <td>150</td>\n",
              "      <td>1</td>\n",
              "      <td>1</td>\n",
              "      <td>41.0</td>\n",
              "      <td>340.0</td>\n",
              "      <td>75.0</td>\n",
              "      <td>14016.0</td>\n",
              "      <td>7.0</td>\n",
              "      <td>1950.0</td>\n",
              "    </tr>\n",
              "    <tr>\n",
              "      <td>3</td>\n",
              "      <td>1000</td>\n",
              "      <td>52</td>\n",
              "      <td>NaN</td>\n",
              "      <td>краснодар</td>\n",
              "      <td>рафаил</td>\n",
              "      <td>верещагин</td>\n",
              "      <td>2018-05-25</td>\n",
              "      <td>ultra</td>\n",
              "      <td>1000</td>\n",
              "      <td>30720</td>\n",
              "      <td>...</td>\n",
              "      <td>1950</td>\n",
              "      <td>150</td>\n",
              "      <td>1</td>\n",
              "      <td>1</td>\n",
              "      <td>42.0</td>\n",
              "      <td>408.0</td>\n",
              "      <td>81.0</td>\n",
              "      <td>14070.0</td>\n",
              "      <td>8.0</td>\n",
              "      <td>1950.0</td>\n",
              "    </tr>\n",
              "    <tr>\n",
              "      <td>4</td>\n",
              "      <td>1000</td>\n",
              "      <td>52</td>\n",
              "      <td>NaN</td>\n",
              "      <td>краснодар</td>\n",
              "      <td>рафаил</td>\n",
              "      <td>верещагин</td>\n",
              "      <td>2018-05-25</td>\n",
              "      <td>ultra</td>\n",
              "      <td>1000</td>\n",
              "      <td>30720</td>\n",
              "      <td>...</td>\n",
              "      <td>1950</td>\n",
              "      <td>150</td>\n",
              "      <td>1</td>\n",
              "      <td>1</td>\n",
              "      <td>46.0</td>\n",
              "      <td>466.0</td>\n",
              "      <td>57.0</td>\n",
              "      <td>14581.0</td>\n",
              "      <td>9.0</td>\n",
              "      <td>1950.0</td>\n",
              "    </tr>\n",
              "    <tr>\n",
              "      <td>...</td>\n",
              "      <td>...</td>\n",
              "      <td>...</td>\n",
              "      <td>...</td>\n",
              "      <td>...</td>\n",
              "      <td>...</td>\n",
              "      <td>...</td>\n",
              "      <td>...</td>\n",
              "      <td>...</td>\n",
              "      <td>...</td>\n",
              "      <td>...</td>\n",
              "      <td>...</td>\n",
              "      <td>...</td>\n",
              "      <td>...</td>\n",
              "      <td>...</td>\n",
              "      <td>...</td>\n",
              "      <td>...</td>\n",
              "      <td>...</td>\n",
              "      <td>...</td>\n",
              "      <td>...</td>\n",
              "      <td>...</td>\n",
              "      <td>...</td>\n",
              "    </tr>\n",
              "    <tr>\n",
              "      <td>3171</td>\n",
              "      <td>1498</td>\n",
              "      <td>68</td>\n",
              "      <td>2018-10-25</td>\n",
              "      <td>владикавказ</td>\n",
              "      <td>всеволод</td>\n",
              "      <td>акимчин</td>\n",
              "      <td>2018-07-19</td>\n",
              "      <td>smart</td>\n",
              "      <td>50</td>\n",
              "      <td>15360</td>\n",
              "      <td>...</td>\n",
              "      <td>550</td>\n",
              "      <td>200</td>\n",
              "      <td>3</td>\n",
              "      <td>3</td>\n",
              "      <td>30.0</td>\n",
              "      <td>247.0</td>\n",
              "      <td>42.0</td>\n",
              "      <td>20604.0</td>\n",
              "      <td>10.0</td>\n",
              "      <td>1750.0</td>\n",
              "    </tr>\n",
              "    <tr>\n",
              "      <td>3172</td>\n",
              "      <td>1499</td>\n",
              "      <td>35</td>\n",
              "      <td>NaN</td>\n",
              "      <td>пермь</td>\n",
              "      <td>гектор</td>\n",
              "      <td>корнилов</td>\n",
              "      <td>2018-09-27</td>\n",
              "      <td>smart</td>\n",
              "      <td>50</td>\n",
              "      <td>15360</td>\n",
              "      <td>...</td>\n",
              "      <td>550</td>\n",
              "      <td>200</td>\n",
              "      <td>3</td>\n",
              "      <td>3</td>\n",
              "      <td>8.0</td>\n",
              "      <td>70.0</td>\n",
              "      <td>11.0</td>\n",
              "      <td>1848.0</td>\n",
              "      <td>9.0</td>\n",
              "      <td>550.0</td>\n",
              "    </tr>\n",
              "    <tr>\n",
              "      <td>3173</td>\n",
              "      <td>1499</td>\n",
              "      <td>35</td>\n",
              "      <td>NaN</td>\n",
              "      <td>пермь</td>\n",
              "      <td>гектор</td>\n",
              "      <td>корнилов</td>\n",
              "      <td>2018-09-27</td>\n",
              "      <td>smart</td>\n",
              "      <td>50</td>\n",
              "      <td>15360</td>\n",
              "      <td>...</td>\n",
              "      <td>550</td>\n",
              "      <td>200</td>\n",
              "      <td>3</td>\n",
              "      <td>3</td>\n",
              "      <td>44.0</td>\n",
              "      <td>449.0</td>\n",
              "      <td>48.0</td>\n",
              "      <td>17809.0</td>\n",
              "      <td>10.0</td>\n",
              "      <td>1150.0</td>\n",
              "    </tr>\n",
              "    <tr>\n",
              "      <td>3174</td>\n",
              "      <td>1499</td>\n",
              "      <td>35</td>\n",
              "      <td>NaN</td>\n",
              "      <td>пермь</td>\n",
              "      <td>гектор</td>\n",
              "      <td>корнилов</td>\n",
              "      <td>2018-09-27</td>\n",
              "      <td>smart</td>\n",
              "      <td>50</td>\n",
              "      <td>15360</td>\n",
              "      <td>...</td>\n",
              "      <td>550</td>\n",
              "      <td>200</td>\n",
              "      <td>3</td>\n",
              "      <td>3</td>\n",
              "      <td>62.0</td>\n",
              "      <td>612.0</td>\n",
              "      <td>59.0</td>\n",
              "      <td>17984.0</td>\n",
              "      <td>11.0</td>\n",
              "      <td>1513.0</td>\n",
              "    </tr>\n",
              "    <tr>\n",
              "      <td>3175</td>\n",
              "      <td>1499</td>\n",
              "      <td>35</td>\n",
              "      <td>NaN</td>\n",
              "      <td>пермь</td>\n",
              "      <td>гектор</td>\n",
              "      <td>корнилов</td>\n",
              "      <td>2018-09-27</td>\n",
              "      <td>smart</td>\n",
              "      <td>50</td>\n",
              "      <td>15360</td>\n",
              "      <td>...</td>\n",
              "      <td>550</td>\n",
              "      <td>200</td>\n",
              "      <td>3</td>\n",
              "      <td>3</td>\n",
              "      <td>56.0</td>\n",
              "      <td>492.0</td>\n",
              "      <td>66.0</td>\n",
              "      <td>13077.0</td>\n",
              "      <td>12.0</td>\n",
              "      <td>598.0</td>\n",
              "    </tr>\n",
              "  </tbody>\n",
              "</table>\n",
              "<p>3176 rows × 21 columns</p>\n",
              "</div>"
            ],
            "text/plain": [
              "      user_id  age  churn_date         city first_name  last_name   reg_date  \\\n",
              "0        1000   52         NaN    краснодар     рафаил  верещагин 2018-05-25   \n",
              "1        1000   52         NaN    краснодар     рафаил  верещагин 2018-05-25   \n",
              "2        1000   52         NaN    краснодар     рафаил  верещагин 2018-05-25   \n",
              "3        1000   52         NaN    краснодар     рафаил  верещагин 2018-05-25   \n",
              "4        1000   52         NaN    краснодар     рафаил  верещагин 2018-05-25   \n",
              "...       ...  ...         ...          ...        ...        ...        ...   \n",
              "3171     1498   68  2018-10-25  владикавказ   всеволод    акимчин 2018-07-19   \n",
              "3172     1499   35         NaN        пермь     гектор   корнилов 2018-09-27   \n",
              "3173     1499   35         NaN        пермь     гектор   корнилов 2018-09-27   \n",
              "3174     1499   35         NaN        пермь     гектор   корнилов 2018-09-27   \n",
              "3175     1499   35         NaN        пермь     гектор   корнилов 2018-09-27   \n",
              "\n",
              "     tariff  messages_included  mb_per_month_included  ...  rub_monthly_fee  \\\n",
              "0     ultra               1000                  30720  ...             1950   \n",
              "1     ultra               1000                  30720  ...             1950   \n",
              "2     ultra               1000                  30720  ...             1950   \n",
              "3     ultra               1000                  30720  ...             1950   \n",
              "4     ultra               1000                  30720  ...             1950   \n",
              "...     ...                ...                    ...  ...              ...   \n",
              "3171  smart                 50                  15360  ...              550   \n",
              "3172  smart                 50                  15360  ...              550   \n",
              "3173  smart                 50                  15360  ...              550   \n",
              "3174  smart                 50                  15360  ...              550   \n",
              "3175  smart                 50                  15360  ...              550   \n",
              "\n",
              "      rub_per_gb  rub_per_message  rub_per_minute  count_call  sum_duration  \\\n",
              "0            150                1               1        17.0         159.0   \n",
              "1            150                1               1        28.0         172.0   \n",
              "2            150                1               1        41.0         340.0   \n",
              "3            150                1               1        42.0         408.0   \n",
              "4            150                1               1        46.0         466.0   \n",
              "...          ...              ...             ...         ...           ...   \n",
              "3171         200                3               3        30.0         247.0   \n",
              "3172         200                3               3         8.0          70.0   \n",
              "3173         200                3               3        44.0         449.0   \n",
              "3174         200                3               3        62.0         612.0   \n",
              "3175         200                3               3        56.0         492.0   \n",
              "\n",
              "      count_message   sum_mb  month  fee_month_total  \n",
              "0              22.0   2256.0    5.0           1950.0  \n",
              "1              60.0  23257.0    6.0           1950.0  \n",
              "2              75.0  14016.0    7.0           1950.0  \n",
              "3              81.0  14070.0    8.0           1950.0  \n",
              "4              57.0  14581.0    9.0           1950.0  \n",
              "...             ...      ...    ...              ...  \n",
              "3171           42.0  20604.0   10.0           1750.0  \n",
              "3172           11.0   1848.0    9.0            550.0  \n",
              "3173           48.0  17809.0   10.0           1150.0  \n",
              "3174           59.0  17984.0   11.0           1513.0  \n",
              "3175           66.0  13077.0   12.0            598.0  \n",
              "\n",
              "[3176 rows x 21 columns]"
            ]
          },
          "metadata": {
            "tags": []
          },
          "execution_count": 35
        }
      ]
    },
    {
      "cell_type": "markdown",
      "metadata": {
        "id": "pUdzpkp7SI4K"
      },
      "source": [
        "###  Выводы\n",
        "При подготовке данных мы очистили некоторые таблицы от некорректной информации, изменили тип данных, а также предварительно сгруппировав по определённым признакам, рассчитали объём потребляемых услуг пользователями. Сгруппированные таблицы соединили в одну для более наглядного представления.\n",
        "***"
      ]
    },
    {
      "cell_type": "markdown",
      "metadata": {
        "id": "oRCVsUaASI4L"
      },
      "source": [
        "## 3. Анализ данных <a id='3'></a>   [^](#10)"
      ]
    },
    {
      "cell_type": "markdown",
      "metadata": {
        "id": "_y1B6vyFSI4M"
      },
      "source": [
        "* ### Описание поведения клиентов и расчёт статистических параметров <a id='3.1'></a> [^](#10)"
      ]
    },
    {
      "cell_type": "code",
      "metadata": {
        "id": "3O83wd3WSI4O"
      },
      "source": [
        "# создание срезов для разных тарифов\n",
        "df_ultra = df.query('tariff == \"ultra\"').reset_index(drop=True)\n",
        "\n",
        "df_smart = df.query('tariff == \"smart\"').reset_index(drop=True)"
      ],
      "execution_count": null,
      "outputs": []
    },
    {
      "cell_type": "code",
      "metadata": {
        "id": "Rfo5zy3PSI4P"
      },
      "source": [
        "# функция для расчёта статистических параметров\n",
        "def to_stat(df, column):\n",
        "    \n",
        "    mean = round(df[column].mean(), 2)\n",
        "    variance = round(np.var(df[column],  ddof=1), 2)\n",
        "    std = round(np.std(df[column], ddof=1), 2)\n",
        "    \n",
        "    return [mean, variance, std]"
      ],
      "execution_count": null,
      "outputs": []
    },
    {
      "cell_type": "code",
      "metadata": {
        "id": "BnG1gcuWSI4P"
      },
      "source": [
        "# расчёт статистических параметров для разных тарифов и потребляемых услуг\n",
        "count_df = [df_ultra, df_smart]\n",
        "count_column = ['sum_duration', 'count_message', 'sum_mb', 'fee_month_total']\n",
        "\n",
        "list_stat = []\n",
        "\n",
        "for i in range(len(count_df)):\n",
        "    for j in range(len(count_column)):\n",
        "        list_stat.append(to_stat(count_df[i], count_column[j]))      "
      ],
      "execution_count": null,
      "outputs": []
    },
    {
      "cell_type": "code",
      "metadata": {
        "id": "00H135s5SI4Q"
      },
      "source": [
        "# создание таблиц со статистическими параметрами\n",
        "df_stat_ultra = pd.DataFrame(list_stat[:4], index=['dur_ultra', 'message_ultra', 'mb_ultra', 'fee_month_ultra'],\n",
        "                      columns=['mean', 'variance', 'std']).T\n",
        "                       \n",
        "df_stat_smart = pd.DataFrame(list_stat[4:], index=['dur_smart', 'message_smart', 'mb_smart', 'fee_month_smart'],\n",
        "                      columns=['mean', 'variance', 'std']).T"
      ],
      "execution_count": null,
      "outputs": []
    },
    {
      "cell_type": "code",
      "metadata": {
        "id": "djqxXSZESI4R",
        "outputId": "beb836d9-3eda-454b-e0d3-30a52b97d27d"
      },
      "source": [
        "df_stat_ultra      "
      ],
      "execution_count": null,
      "outputs": [
        {
          "output_type": "execute_result",
          "data": {
            "text/html": [
              "<div>\n",
              "<style scoped>\n",
              "    .dataframe tbody tr th:only-of-type {\n",
              "        vertical-align: middle;\n",
              "    }\n",
              "\n",
              "    .dataframe tbody tr th {\n",
              "        vertical-align: top;\n",
              "    }\n",
              "\n",
              "    .dataframe thead th {\n",
              "        text-align: right;\n",
              "    }\n",
              "</style>\n",
              "<table border=\"1\" class=\"dataframe\">\n",
              "  <thead>\n",
              "    <tr style=\"text-align: right;\">\n",
              "      <th></th>\n",
              "      <th>dur_ultra</th>\n",
              "      <th>message_ultra</th>\n",
              "      <th>mb_ultra</th>\n",
              "      <th>fee_month_ultra</th>\n",
              "    </tr>\n",
              "  </thead>\n",
              "  <tbody>\n",
              "    <tr>\n",
              "      <td>mean</td>\n",
              "      <td>547.76</td>\n",
              "      <td>60.84</td>\n",
              "      <td>19697.67</td>\n",
              "      <td>2071.67</td>\n",
              "    </tr>\n",
              "    <tr>\n",
              "      <td>variance</td>\n",
              "      <td>93338.43</td>\n",
              "      <td>1974.64</td>\n",
              "      <td>99755846.13</td>\n",
              "      <td>145730.09</td>\n",
              "    </tr>\n",
              "    <tr>\n",
              "      <td>std</td>\n",
              "      <td>305.51</td>\n",
              "      <td>44.44</td>\n",
              "      <td>9987.78</td>\n",
              "      <td>381.75</td>\n",
              "    </tr>\n",
              "  </tbody>\n",
              "</table>\n",
              "</div>"
            ],
            "text/plain": [
              "          dur_ultra  message_ultra     mb_ultra  fee_month_ultra\n",
              "mean         547.76          60.84     19697.67          2071.67\n",
              "variance   93338.43        1974.64  99755846.13        145730.09\n",
              "std          305.51          44.44      9987.78           381.75"
            ]
          },
          "metadata": {
            "tags": []
          },
          "execution_count": 40
        }
      ]
    },
    {
      "cell_type": "code",
      "metadata": {
        "id": "09Yd__czSI4S",
        "outputId": "c6fac0a1-f741-4eb0-df26-f85cc59be4e8"
      },
      "source": [
        "df_stat_smart"
      ],
      "execution_count": null,
      "outputs": [
        {
          "output_type": "execute_result",
          "data": {
            "text/html": [
              "<div>\n",
              "<style scoped>\n",
              "    .dataframe tbody tr th:only-of-type {\n",
              "        vertical-align: middle;\n",
              "    }\n",
              "\n",
              "    .dataframe tbody tr th {\n",
              "        vertical-align: top;\n",
              "    }\n",
              "\n",
              "    .dataframe thead th {\n",
              "        text-align: right;\n",
              "    }\n",
              "</style>\n",
              "<table border=\"1\" class=\"dataframe\">\n",
              "  <thead>\n",
              "    <tr style=\"text-align: right;\">\n",
              "      <th></th>\n",
              "      <th>dur_smart</th>\n",
              "      <th>message_smart</th>\n",
              "      <th>mb_smart</th>\n",
              "      <th>fee_month_smart</th>\n",
              "    </tr>\n",
              "  </thead>\n",
              "  <tbody>\n",
              "    <tr>\n",
              "      <td>mean</td>\n",
              "      <td>419.44</td>\n",
              "      <td>38.75</td>\n",
              "      <td>16238.77</td>\n",
              "      <td>1295.12</td>\n",
              "    </tr>\n",
              "    <tr>\n",
              "      <td>variance</td>\n",
              "      <td>35718.13</td>\n",
              "      <td>719.82</td>\n",
              "      <td>34511766.69</td>\n",
              "      <td>675326.32</td>\n",
              "    </tr>\n",
              "    <tr>\n",
              "      <td>std</td>\n",
              "      <td>188.99</td>\n",
              "      <td>26.83</td>\n",
              "      <td>5874.67</td>\n",
              "      <td>821.78</td>\n",
              "    </tr>\n",
              "  </tbody>\n",
              "</table>\n",
              "</div>"
            ],
            "text/plain": [
              "          dur_smart  message_smart     mb_smart  fee_month_smart\n",
              "mean         419.44          38.75     16238.77          1295.12\n",
              "variance   35718.13         719.82  34511766.69        675326.32\n",
              "std          188.99          26.83      5874.67           821.78"
            ]
          },
          "metadata": {
            "tags": []
          },
          "execution_count": 41
        }
      ]
    },
    {
      "cell_type": "code",
      "metadata": {
        "scrolled": true,
        "id": "7FMJ44qCSI4T",
        "outputId": "52c27696-802b-4515-e451-09268f8c285e"
      },
      "source": [
        "# вызов таблицы с параметрами тарифов\n",
        "df_tariffs"
      ],
      "execution_count": null,
      "outputs": [
        {
          "output_type": "execute_result",
          "data": {
            "text/html": [
              "<div>\n",
              "<style scoped>\n",
              "    .dataframe tbody tr th:only-of-type {\n",
              "        vertical-align: middle;\n",
              "    }\n",
              "\n",
              "    .dataframe tbody tr th {\n",
              "        vertical-align: top;\n",
              "    }\n",
              "\n",
              "    .dataframe thead th {\n",
              "        text-align: right;\n",
              "    }\n",
              "</style>\n",
              "<table border=\"1\" class=\"dataframe\">\n",
              "  <thead>\n",
              "    <tr style=\"text-align: right;\">\n",
              "      <th></th>\n",
              "      <th>messages_included</th>\n",
              "      <th>mb_per_month_included</th>\n",
              "      <th>minutes_included</th>\n",
              "      <th>rub_monthly_fee</th>\n",
              "      <th>rub_per_gb</th>\n",
              "      <th>rub_per_message</th>\n",
              "      <th>rub_per_minute</th>\n",
              "      <th>tariff</th>\n",
              "    </tr>\n",
              "  </thead>\n",
              "  <tbody>\n",
              "    <tr>\n",
              "      <td>0</td>\n",
              "      <td>50</td>\n",
              "      <td>15360</td>\n",
              "      <td>500</td>\n",
              "      <td>550</td>\n",
              "      <td>200</td>\n",
              "      <td>3</td>\n",
              "      <td>3</td>\n",
              "      <td>smart</td>\n",
              "    </tr>\n",
              "    <tr>\n",
              "      <td>1</td>\n",
              "      <td>1000</td>\n",
              "      <td>30720</td>\n",
              "      <td>3000</td>\n",
              "      <td>1950</td>\n",
              "      <td>150</td>\n",
              "      <td>1</td>\n",
              "      <td>1</td>\n",
              "      <td>ultra</td>\n",
              "    </tr>\n",
              "  </tbody>\n",
              "</table>\n",
              "</div>"
            ],
            "text/plain": [
              "   messages_included  mb_per_month_included  minutes_included  \\\n",
              "0                 50                  15360               500   \n",
              "1               1000                  30720              3000   \n",
              "\n",
              "   rub_monthly_fee  rub_per_gb  rub_per_message  rub_per_minute tariff  \n",
              "0              550         200                3               3  smart  \n",
              "1             1950         150                1               1  ultra  "
            ]
          },
          "metadata": {
            "tags": []
          },
          "execution_count": 42
        }
      ]
    },
    {
      "cell_type": "markdown",
      "metadata": {
        "id": "LvIFVfZdSI4U"
      },
      "source": [
        "## `ultra`"
      ]
    },
    {
      "cell_type": "code",
      "metadata": {
        "scrolled": false,
        "id": "fvtUcHivSI4U",
        "outputId": "b46397f4-c439-4286-d301-d67db7ae491f"
      },
      "source": [
        "# построение плотностных гистограмм для тарифа Ultra\n",
        "name_title_ultra = ['Гистограмма распределения вероятностей звонков на тарифе \"Ultra\"', \n",
        "             'Гистограмма распределения вероятностей сообщений на тарифе \"Ultra\"', \n",
        "              'Гистограмма распределения вероятностей интернет трафика на тарифе \"Ultra\"']\n",
        "name_x_ultra = ['Минуты разговора', 'Сообщения', 'Интернет трафик']\n",
        "name_y_ultra = 'Плотность вероятности'\n",
        "\n",
        "for i in range(0, 1):\n",
        "    for j in range(0, 3):\n",
        "        count_df[i][count_column[j]].hist(density=True, bins=20, figsize=(10, 5))\n",
        "        plt.xlabel(name_x_ultra[j],  fontsize=16, fontweight='normal')\n",
        "        plt.ylabel(name_y_ultra, fontsize=16, fontweight='normal')\n",
        "        plt.title(name_title_ultra[j], fontsize=16, fontweight='normal')\n",
        "        plt.show()"
      ],
      "execution_count": null,
      "outputs": [
        {
          "output_type": "display_data",
          "data": {
            "image/png": "[encoded data removed]",
            "text/plain": [
              "<Figure size 720x360 with 1 Axes>"
            ]
          },
          "metadata": {
            "tags": [],
            "needs_background": "light"
          }
        },
        {
          "output_type": "display_data",
          "data": {
            "image/png": "[encoded data removed]",
            "text/plain": [
              "<Figure size 720x360 with 1 Axes>"
            ]
          },
          "metadata": {
            "tags": [],
            "needs_background": "light"
          }
        },
        {
          "output_type": "display_data",
          "data": {
            "image/png": "[encoded data removed]",
            "text/plain": [
              "<Figure size 720x360 with 1 Axes>"
            ]
          },
          "metadata": {
            "tags": [],
            "needs_background": "light"
          }
        }
      ]
    },
    {
      "cell_type": "markdown",
      "metadata": {
        "id": "d_vVa-L_SI4V"
      },
      "source": [
        "Как видно при вышепредставленных гистограмм и рассчитанных статистических параметров, пользователи тарифа \"Ultra\" в среднем потребляют около 550 минут, 60 сообщений и 20 Гб трафика в месяц. Гистограмма минут имеет широкую верхушку, что говорит о существенном различии в потреблении разного числа минут разными пользователями. Большинству пользователям достаточно включённого в тариф количества минут, так как 3000 почти никто не наговаривает.  \n",
        "\n",
        "Включённые в тариф сообщения (1000 шт.) также с лихвой покрывают потребности клиентов, так как количество 150-200 сообщений в месяц уже являются маловероятными событиями в масштабе всей выборки.  \n",
        "\n",
        "30 Гб трафика также хватает большинству пользователей, однако мы видим, что есть существенная прослойка людей, которая выбивается за 30 и 40 Гб. После пика в 20 Гб, есть второй около 30. Это говорит о желании людей потратить тот объём трафика, за который они заплатили и выйти \"в ноль\" к началу следующего расчётного периода."
      ]
    },
    {
      "cell_type": "markdown",
      "metadata": {
        "id": "7HenzdvgSI4W"
      },
      "source": [
        "## `smart`"
      ]
    },
    {
      "cell_type": "code",
      "metadata": {
        "scrolled": false,
        "id": "E87J1MWXSI4X",
        "outputId": "28498c4f-8189-4d50-c3f8-596abd609c93"
      },
      "source": [
        "# построение плотностных гистограмм для тарифа Smart\n",
        "name_title_smart = ['Гистограмма распределения вероятностей звонков на тарифе \"Smart\"', \n",
        "             'Гистограмма распределения вероятностей сообщений на тарифе \"Smart\"', \n",
        "              'Гистограмма распределения вероятностей интернет трафика на тарифе \"Smart\"']\n",
        "name_x_smart = ['Минуты разговора', 'Сообщения', 'Интернет трафик']\n",
        "name_y_smart = 'Плотность вероятности'\n",
        "\n",
        "for i in range(1, 2):\n",
        "    for j in range(0, 3):\n",
        "        count_df[i][count_column[j]].hist(density=True, bins=20, figsize=(10, 5))\n",
        "        plt.xlabel(name_x_smart[j],  fontsize=16, fontweight='normal')\n",
        "        plt.ylabel(name_y_smart, fontsize=16, fontweight='normal')\n",
        "        plt.title(name_title_smart[j], fontsize=16, fontweight='normal')\n",
        "        plt.show()"
      ],
      "execution_count": null,
      "outputs": [
        {
          "output_type": "display_data",
          "data": {
            "image/png": "[encoded data removed]",
            "text/plain": [
              "<Figure size 720x360 with 1 Axes>"
            ]
          },
          "metadata": {
            "tags": [],
            "needs_background": "light"
          }
        },
        {
          "output_type": "display_data",
          "data": {
            "image/png": "[encoded data removed]",
            "text/plain": [
              "<Figure size 720x360 with 1 Axes>"
            ]
          },
          "metadata": {
            "tags": [],
            "needs_background": "light"
          }
        },
        {
          "output_type": "display_data",
          "data": {
            "image/png": "[encoded data removed]",
            "text/plain": [
              "<Figure size 720x360 with 1 Axes>"
            ]
          },
          "metadata": {
            "tags": [],
            "needs_background": "light"
          }
        }
      ]
    },
    {
      "cell_type": "markdown",
      "metadata": {
        "id": "M0uDjnRtSI4Y"
      },
      "source": [
        "500 минут в месяц, включённые в тариф, являютя неким средним и в выборке тарифа \"Smart\". Гистограмма минут более пологая относительно среднего, чем на другом тарифе, что говорит о сдерживании в потреблении дополнительного количества минут из-за перерасхода.  \n",
        "\n",
        "50 сообщений в месяц являются тем минимумом, которым можно довольствоваться на данном тарифе. Видно, что не всем его хватает в полной мере и многим приходится дополнительно оплачивать сверхнормативное потребление.  \n",
        "\n",
        "Гистограмма трафика немного скошена вправо, т.е. имеется тенденция к увеличению потребления количества Гб. 15 Гб, являясь средним, уже перестают удовлетворять всё большее количество пользователей, и им приходится оплачивать \"лишне потреблённые\" мегабайты интернета."
      ]
    },
    {
      "cell_type": "markdown",
      "metadata": {
        "id": "9jUEuYgvSI4Z"
      },
      "source": [
        "###  Выводы\n",
        "Анализируя потребление у пользователей разных тарифов, можно проследить, что пользователи более дорого тарифа склонны потреблять больше из-за осознания непотребляемости излишне включённого количества минут, сообщений и трафика , а более дешёвого всегда думать о лимите. Однако как показывает средняя плата за тариф \"Smart\" (1300 р.) и  плата по тарифу (550 р.), пользователи часто переплачивают в более, чем 2 раза. Среднеквадратичное отклонение также покакзывает большой разброс общей платы за данный тариф. Совмещая со скошенностью гистограммы потрябляемых мегабайт, делаем вывод, что, в основном, причиной перерасхода является дополнительно покупаемые Гб. Сегодня человеку легче отказаться от звонков и сообщений, чем от интернета, тем более, что последний даёт гораздо больше в плане коммуникаций.\n",
        "\n",
        "\n",
        "***"
      ]
    },
    {
      "cell_type": "markdown",
      "metadata": {
        "id": "IlMnmufcSI4Z"
      },
      "source": [
        "## 4. Проверка гипотез <a id='4'></a>   [^](#10)"
      ]
    },
    {
      "cell_type": "markdown",
      "metadata": {
        "id": "JMaEhrHGSI4a"
      },
      "source": [
        "* ### Различие средней выручки пользователей тарифов \"Ультра\" и \"Смарт\" <a id='4.1'></a> [^](#10)"
      ]
    },
    {
      "cell_type": "markdown",
      "metadata": {
        "id": "esmQAYZZSI4a"
      },
      "source": [
        "Сформулировали гипотезы, так чтобы все значения, полученные эмпирически, не были экстремальными, а лежали там, где ожидаем их найти. Поэтому:  \n",
        "\n",
        "- Будем считать для нулевой гипотезы $ H_0 $, что средние выручки пользователей тарифов **\"Ультра\"** и **\"Смарт\"** равны.\n",
        "- Тогда альтернативная гипотеза $ H_1 $ будет звучать как: \"Средние выручки пользователей тарифов **\"Ультра\"** и **\"Смарт\"** различаются\".\n",
        "\n",
        "Применили статистический тест о равенстве среднего двух генеральных совокупностей по взятым из них выборкам."
      ]
    },
    {
      "cell_type": "code",
      "metadata": {
        "id": "TwqGvQQVSI4b",
        "outputId": "3f1cc729-fbda-45de-8e08-79e3246aa03f"
      },
      "source": [
        "# выборка из первой и второй генеральной совокупности выручки по разным тарифам\n",
        "\n",
        "sample_1 = df_ultra['fee_month_total']  \n",
        "sample_2 = df_smart['fee_month_total']  \n",
        "\n",
        "# проверили методом Бартлетта одинаковость дисперсий двух выборок\n",
        "from scipy.stats import bartlett\n",
        "stat, p = bartlett(sample_1, sample_2,)\n",
        "print('p-значение Бартлетта:', p)"
      ],
      "execution_count": null,
      "outputs": [
        {
          "output_type": "stream",
          "text": [
            "p-значение Бартлетта: 2.4178815605583046e-134\n"
          ],
          "name": "stdout"
        }
      ]
    },
    {
      "cell_type": "markdown",
      "metadata": {
        "id": "BNNmIG5FSI4c"
      },
      "source": [
        "Дисперсии двух выборок различаются."
      ]
    },
    {
      "cell_type": "code",
      "metadata": {
        "id": "whZAj-jJSI4c",
        "outputId": "f03e11df-3b53-4c98-f0a9-2ad2e93ec511"
      },
      "source": [
        "# критический уровень статистической значимости, меньше которого отвергнем нулевую гипотезу \n",
        "alpha = 0.05\n",
        "\n",
        "# будем считать дисперсии выборок разными\n",
        "results = st.ttest_ind(sample_1, sample_2, equal_var = False)   \n",
        "\n",
        "print('p-значение:', results.pvalue)\n",
        "\n",
        "if (results.pvalue < alpha):\n",
        "    print(\"Отвергаем нулевую гипотезу\")\n",
        "else:\n",
        "    print(\"Не получилось отвергнуть нулевую гипотезу\")    "
      ],
      "execution_count": null,
      "outputs": [
        {
          "output_type": "stream",
          "text": [
            "p-значение: 7.870022530292764e-242\n",
            "Отвергаем нулевую гипотезу\n"
          ],
          "name": "stdout"
        }
      ]
    },
    {
      "cell_type": "markdown",
      "metadata": {
        "id": "Z_j-GP8ASI4d"
      },
      "source": [
        "Полученное значение p-value говорит о том, что с данной вероятностью средние генеральных совокупностей равны. Из-за ничтожно малого значения этой вероятности, нулевая гипотеза отвергается и предполагается альтернативная, говорящая о различии средней выручки по разных тарифов."
      ]
    },
    {
      "cell_type": "markdown",
      "metadata": {
        "id": "Cv0I__mNSI4e"
      },
      "source": [
        "* ### Различие средней выручки пользователей из Москвы от других пользователей  <a id='4.2'></a> [^](#10)"
      ]
    },
    {
      "cell_type": "markdown",
      "metadata": {
        "id": "rmDa8SwFSI4e"
      },
      "source": [
        "Создали срезы с пользователями из Москвы и остальными клиентами оператора."
      ]
    },
    {
      "cell_type": "code",
      "metadata": {
        "id": "U03e5tX9SI4f"
      },
      "source": [
        "df_moscow = df.query('city == \"москва\"').reset_index(drop=True)\n",
        "\n",
        "df_other = df.query('city != \"москва\"').reset_index(drop=True)"
      ],
      "execution_count": null,
      "outputs": []
    },
    {
      "cell_type": "markdown",
      "metadata": {
        "id": "oXOqC1CaSI4f"
      },
      "source": [
        "Применим в качестве нулевой гипотезы положительное определение о равенстве выручек пользователей из разных регионов:  \n",
        "\n",
        "- Будем считать для нулевой гипотезы $ H_0 $, что средняя выручка пользователей из Москвы равна средней выручке пользователей из других регионов.\n",
        "- Тогда альтернативная гипотеза $ H_1 $ будет: \"Средние выручки пользователей из Москвы и пользователей из других регионов различаются\".\n",
        "\n",
        "Применили статистический тест о равенстве среднего двух генеральных совокупностей по взятым из них выборкам."
      ]
    },
    {
      "cell_type": "code",
      "metadata": {
        "id": "W6_KvUruSI4g",
        "outputId": "cd694b0e-3b5f-43a0-988f-8ddd6e111438"
      },
      "source": [
        "# выборка из первой и второй генеральной совокупности выручки по пользователям из разных регионов\n",
        "\n",
        "sample_1 = df_moscow['fee_month_total']  \n",
        "sample_2 = df_other['fee_month_total']  \n",
        "\n",
        "# проверили методом Бартлетта одинаковость дисперсий двух выборок\n",
        "from scipy.stats import bartlett\n",
        "stat, p = bartlett(sample_1, sample_2,)\n",
        "print('p-значение Бартлетта:', p)"
      ],
      "execution_count": null,
      "outputs": [
        {
          "output_type": "stream",
          "text": [
            "p-значение Бартлетта: 0.017494084061406023\n"
          ],
          "name": "stdout"
        }
      ]
    },
    {
      "cell_type": "markdown",
      "metadata": {
        "id": "Dt6U4LiVSI4h"
      },
      "source": [
        "\n",
        "Тест Бартлетта показал, что дисперсии наших выборок различны."
      ]
    },
    {
      "cell_type": "code",
      "metadata": {
        "id": "m_Kss3JlSI4i",
        "outputId": "1aa59050-9912-4672-be56-86b24ee57490"
      },
      "source": [
        "# критический уровень статистической значимости, меньше которого отвергнем нулевую гипотезу \n",
        "alpha = 0.05\n",
        "\n",
        "# будем считать дисперсии выборок разными\n",
        "results = st.ttest_ind(sample_1, sample_2, equal_var = False)   \n",
        "\n",
        "print('p-значение:', results.pvalue)\n",
        "\n",
        "if (results.pvalue < alpha):\n",
        "    print(\"Отвергаем нулевую гипотезу\")\n",
        "else:\n",
        "    print(\"Не получилось отвергнуть нулевую гипотезу\")    "
      ],
      "execution_count": null,
      "outputs": [
        {
          "output_type": "stream",
          "text": [
            "p-значение: 0.42913243609236307\n",
            "Не получилось отвергнуть нулевую гипотезу\n"
          ],
          "name": "stdout"
        }
      ]
    },
    {
      "cell_type": "markdown",
      "metadata": {
        "id": "qXmcujHBSI4i"
      },
      "source": [
        "Полученное значение p-value говорит о том, что с вероятностью 43 % средние генеральных совокупностей равны. Поэтому нулевая гипотеза не отвергается, в виду того, что такая большая вероятность неправдоподобно могла возникнуть случайно."
      ]
    },
    {
      "cell_type": "markdown",
      "metadata": {
        "id": "iPho20D-SI4j"
      },
      "source": [
        "###  Выводы\n",
        "Мы проверили две гипотезы, используя статистический тест о равенстве среднего двух генеральных совокупностей по взятым из них выборкам. Данный тест показал различие средней выручки у пользователей разных тарифов. Однако данная средняя выручка никак не коррелирует от местонахождения пользователя мобильной связи.\n",
        "***"
      ]
    },
    {
      "cell_type": "markdown",
      "metadata": {
        "id": "aAAZ6XQZSI4k"
      },
      "source": [
        "## 5. Общий вывод <a id='5'></a>   [^](#10)\n"
      ]
    },
    {
      "cell_type": "markdown",
      "metadata": {
        "id": "_vc-Lq83SI4k"
      },
      "source": [
        "Мы провели исследование по определению перспективного тарифа для оператора сотовой связи.  \n",
        "\n",
        "\n",
        "- Изначально был получен датасет с параметрами действующих тарифов, выборкой из 500 абонентов и количеством потребляемых ими услуг.  \n",
        "\n",
        "\n",
        "- Предварительно произвели замену типа данных, там, где это было необходимо, провели округление тарифицируемых услуг по правилам мобильного оператора, рассчитали для каждого пользователя объём получаемых ими услуг по месяцам, а также помесячную выручку.  \n",
        "\n",
        "\n",
        "- В результате работы мы обнаружили следующие особенности: \n",
        "    - пользователи более дорогого тарифа склонны не лимитировать объём потребляемых услуг, так как включенных в тариф хватает с избытком, за исключением потребление интернет-трафика. Объем в 30 Гб не всегда способен удовлетворить даже более обеспеченных абонентов.  \n",
        "    - пользователи дешевого тарифа стараются держаться в лимите своего тарифа. И если даже по среднему объёму количества минут и сообщений данные абоненты похожи на абонентов тарифа **\"Ultra\"**, в виду того, что потребление данных услуг находится примерно в одинаковых диапазонах (~ 500 минут и 60 сообщений). Однако и пользователи тарифа **\"Smart\"** склонны перебирать с интернет-трафиком. Включённого объема в 15 Гб им явно не хватает, о чем свидетельствует удвоенная средняя помесячная выручка и большое среднеквадратичное отклонение. \n",
        "    - проверили гипотезы, которые показали различие средней выручки у пользователей разных тарифов и отсутствие такового различия средней выручки от местонахождения пользователя мобильной связи.\n",
        "    \n",
        "- Имеет смысл рассмотреть внедрение промежуточного тарифа между **\"Ultra\"** и **\"Smart\"** с более высокой абонентской платой, чем у **\"Smart\"** и увеличенным объёмом интернет-трафика."
      ]
    },
    {
      "cell_type": "code",
      "metadata": {
        "id": "qaH9ad-RSI4l"
      },
      "source": [
        ""
      ],
      "execution_count": null,
      "outputs": []
    }
  ]
}