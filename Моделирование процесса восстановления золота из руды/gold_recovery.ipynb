{
  "nbformat": 4,
  "nbformat_minor": 0,
  "metadata": {
    "ExecuteTimeLog": [
      {
        "duration": 1506,
        "start_time": "2021-06-25T12:03:52.251Z"
      },
      {
        "duration": 953,
        "start_time": "2021-06-25T12:03:53.760Z"
      },
      {
        "duration": 10,
        "start_time": "2021-06-25T12:03:54.716Z"
      },
      {
        "duration": 10,
        "start_time": "2021-06-25T12:03:54.729Z"
      },
      {
        "duration": 7,
        "start_time": "2021-06-25T12:03:54.742Z"
      },
      {
        "duration": 31,
        "start_time": "2021-06-25T12:03:54.752Z"
      },
      {
        "duration": 53,
        "start_time": "2021-06-25T12:03:54.785Z"
      },
      {
        "duration": 5,
        "start_time": "2021-06-25T12:03:54.841Z"
      },
      {
        "duration": 25,
        "start_time": "2021-06-25T12:03:54.852Z"
      },
      {
        "duration": 53,
        "start_time": "2021-06-25T12:03:54.880Z"
      },
      {
        "duration": 8,
        "start_time": "2021-06-25T12:03:54.935Z"
      },
      {
        "duration": 7,
        "start_time": "2021-06-25T12:03:54.946Z"
      },
      {
        "duration": 20,
        "start_time": "2021-06-25T12:03:54.956Z"
      },
      {
        "duration": 10,
        "start_time": "2021-06-25T12:03:55.025Z"
      },
      {
        "duration": 87,
        "start_time": "2021-06-25T12:03:55.037Z"
      },
      {
        "duration": 5,
        "start_time": "2021-06-25T12:03:55.127Z"
      },
      {
        "duration": 7,
        "start_time": "2021-06-25T12:03:55.135Z"
      },
      {
        "duration": 7,
        "start_time": "2021-06-25T12:03:55.144Z"
      },
      {
        "duration": 5,
        "start_time": "2021-06-25T12:03:55.154Z"
      },
      {
        "duration": 3306,
        "start_time": "2021-06-25T12:03:55.162Z"
      },
      {
        "duration": 5025,
        "start_time": "2021-06-25T12:03:58.471Z"
      },
      {
        "duration": 319,
        "start_time": "2021-06-25T12:04:03.499Z"
      },
      {
        "duration": 1594,
        "start_time": "2021-06-25T12:04:03.825Z"
      },
      {
        "duration": 55,
        "start_time": "2021-06-25T12:04:05.425Z"
      },
      {
        "duration": 1618,
        "start_time": "2021-06-25T12:04:05.482Z"
      },
      {
        "duration": 7,
        "start_time": "2021-06-25T12:04:07.103Z"
      },
      {
        "duration": 7,
        "start_time": "2021-06-25T12:04:07.128Z"
      },
      {
        "duration": 28,
        "start_time": "2021-06-25T12:04:07.138Z"
      },
      {
        "duration": 14,
        "start_time": "2021-06-25T12:04:07.169Z"
      },
      {
        "duration": 40,
        "start_time": "2021-06-25T12:04:07.186Z"
      },
      {
        "duration": 12,
        "start_time": "2021-06-25T12:04:07.228Z"
      },
      {
        "duration": 20,
        "start_time": "2021-06-25T12:04:07.242Z"
      },
      {
        "duration": 26,
        "start_time": "2021-06-25T12:04:07.265Z"
      },
      {
        "duration": 4,
        "start_time": "2021-06-25T12:04:07.294Z"
      },
      {
        "duration": 23,
        "start_time": "2021-06-25T12:04:07.301Z"
      },
      {
        "duration": 17,
        "start_time": "2021-06-25T12:04:07.326Z"
      },
      {
        "duration": 14,
        "start_time": "2021-06-25T12:04:07.346Z"
      },
      {
        "duration": 4170,
        "start_time": "2021-06-25T12:04:07.362Z"
      },
      {
        "duration": 193,
        "start_time": "2021-06-25T12:04:11.535Z"
      },
      {
        "duration": 4594,
        "start_time": "2021-06-25T12:04:11.730Z"
      },
      {
        "duration": 96,
        "start_time": "2021-06-25T12:04:16.335Z"
      },
      {
        "duration": 92,
        "start_time": "2021-06-25T12:04:16.434Z"
      },
      {
        "duration": 1476,
        "start_time": "2021-06-25T12:04:53.080Z"
      },
      {
        "duration": 953,
        "start_time": "2021-06-25T12:04:54.559Z"
      },
      {
        "duration": 10,
        "start_time": "2021-06-25T12:04:55.515Z"
      },
      {
        "duration": 9,
        "start_time": "2021-06-25T12:04:55.528Z"
      },
      {
        "duration": 13,
        "start_time": "2021-06-25T12:04:55.540Z"
      },
      {
        "duration": 31,
        "start_time": "2021-06-25T12:04:55.555Z"
      },
      {
        "duration": 17,
        "start_time": "2021-06-25T12:04:55.624Z"
      },
      {
        "duration": 4,
        "start_time": "2021-06-25T12:04:55.645Z"
      },
      {
        "duration": 17,
        "start_time": "2021-06-25T12:04:55.652Z"
      },
      {
        "duration": 57,
        "start_time": "2021-06-25T12:04:55.671Z"
      },
      {
        "duration": 8,
        "start_time": "2021-06-25T12:04:55.731Z"
      },
      {
        "duration": 8,
        "start_time": "2021-06-25T12:04:55.741Z"
      },
      {
        "duration": 17,
        "start_time": "2021-06-25T12:04:55.751Z"
      },
      {
        "duration": 64,
        "start_time": "2021-06-25T12:04:55.771Z"
      },
      {
        "duration": 62,
        "start_time": "2021-06-25T12:04:55.837Z"
      },
      {
        "duration": 6,
        "start_time": "2021-06-25T12:04:55.901Z"
      },
      {
        "duration": 5,
        "start_time": "2021-06-25T12:04:55.925Z"
      },
      {
        "duration": 22,
        "start_time": "2021-06-25T12:04:55.932Z"
      },
      {
        "duration": 7,
        "start_time": "2021-06-25T12:04:55.956Z"
      },
      {
        "duration": 3086,
        "start_time": "2021-06-25T12:04:55.966Z"
      },
      {
        "duration": 4976,
        "start_time": "2021-06-25T12:04:59.055Z"
      },
      {
        "duration": 301,
        "start_time": "2021-06-25T12:05:04.033Z"
      },
      {
        "duration": 1559,
        "start_time": "2021-06-25T12:05:04.339Z"
      },
      {
        "duration": 68,
        "start_time": "2021-06-25T12:05:05.901Z"
      },
      {
        "duration": 1596,
        "start_time": "2021-06-25T12:05:05.971Z"
      },
      {
        "duration": 5,
        "start_time": "2021-06-25T12:05:07.569Z"
      },
      {
        "duration": 10,
        "start_time": "2021-06-25T12:05:07.576Z"
      },
      {
        "duration": 44,
        "start_time": "2021-06-25T12:05:07.588Z"
      },
      {
        "duration": 15,
        "start_time": "2021-06-25T12:05:07.634Z"
      },
      {
        "duration": 5,
        "start_time": "2021-06-25T12:05:07.651Z"
      },
      {
        "duration": 9,
        "start_time": "2021-06-25T12:05:07.658Z"
      },
      {
        "duration": 11,
        "start_time": "2021-06-25T12:05:07.669Z"
      },
      {
        "duration": 5,
        "start_time": "2021-06-25T12:05:07.725Z"
      },
      {
        "duration": 162,
        "start_time": "2021-06-25T12:05:07.732Z"
      },
      {
        "duration": 6,
        "start_time": "2021-06-25T12:05:07.896Z"
      },
      {
        "duration": 3928,
        "start_time": "2021-06-25T12:05:07.904Z"
      },
      {
        "duration": 197,
        "start_time": "2021-06-25T12:05:11.835Z"
      },
      {
        "duration": 4390,
        "start_time": "2021-06-25T12:05:12.034Z"
      },
      {
        "duration": 190,
        "start_time": "2021-06-25T12:05:16.435Z"
      },
      {
        "duration": 95,
        "start_time": "2021-06-25T12:05:16.632Z"
      },
      {
        "duration": 82773,
        "start_time": "2021-06-25T12:05:16.729Z"
      },
      {
        "duration": 405,
        "start_time": "2021-06-25T12:06:39.504Z"
      },
      {
        "duration": 109883,
        "start_time": "2021-06-25T12:06:39.911Z"
      },
      {
        "duration": 441,
        "start_time": "2021-06-25T12:08:29.797Z"
      },
      {
        "duration": 7,
        "start_time": "2021-06-25T12:08:30.241Z"
      }
    ],
    "kernelspec": {
      "display_name": "Python 3",
      "language": "python",
      "name": "python3"
    },
    "language_info": {
      "codemirror_mode": {
        "name": "ipython",
        "version": 3
      },
      "file_extension": ".py",
      "mimetype": "text/x-python",
      "name": "python",
      "nbconvert_exporter": "python",
      "pygments_lexer": "ipython3",
      "version": "3.7.8"
    },
    "toc": {
      "base_numbering": 1,
      "nav_menu": {},
      "number_sections": false,
      "sideBar": true,
      "skip_h1_title": true,
      "title_cell": "Table of Contents",
      "title_sidebar": "Contents",
      "toc_cell": false,
      "toc_position": {},
      "toc_section_display": true,
      "toc_window_display": false
    },
    "colab": {
      "name": "gold_recovery_8.ipynb",
      "provenance": [],
      "include_colab_link": true
    }
  },
  "cells": [
    {
      "cell_type": "markdown",
      "metadata": {
        "id": "view-in-github",
        "colab_type": "text"
      },
      "source": [
        "<a href=\"https://colab.research.google.com/github/stixmal/praktikum_project_ds/blob/main/%D0%9F%D1%80%D0%BE%D1%86%D0%B5%D1%81%D1%81%20%D0%B2%D0%BE%D1%81%D1%81%D1%82%D0%B0%D0%BD%D0%BE%D0%B2%D0%BB%D0%B5%D0%BD%D0%B8%D1%8F%20%D0%B7%D0%BE%D0%BB%D0%BE%D1%82%D0%B0%20%D0%B8%D0%B7%20%D1%80%D1%83%D0%B4%D1%8B/gold_recovery.ipynb\" target=\"_parent\"><img src=\"https://colab.research.google.com/assets/colab-badge.svg\" alt=\"Open In Colab\"/></a>"
      ]
    },
    {
      "cell_type": "markdown",
      "metadata": {
        "id": "8p4GPkARz53v"
      },
      "source": [
        "# Моделирование процесса восстановления золота из руды\n",
        "\n",
        "Подготовили прототип модели машинного обучения для «Цифры». Компания разрабатывает решения для эффективной работы промышленных предприятий.\n",
        "\n",
        "Модель предсказывает коэффициент восстановления золота из золотосодержащей руды. В нашем распоряжении сырые данные, выгруженные из хранилища, с параметрами добычи и очистки. \n",
        "\n",
        "Модель поможет оптимизировать производство, чтобы не запускать предприятие с убыточными характеристиками.\n",
        "\n",
        "Данные индексируются датой и временем получения информации (признак date). Соседние по времени параметры часто похожи.  \n",
        "\n",
        "Некоторые параметры недоступны, потому что замеряются и/или рассчитываются значительно позже. Из-за этого в тестовой выборке отсутствуют некоторые признаки, которые могут быть в обучающей. Также в тестовом наборе нет целевых признаков.  \n",
        "\n",
        "Исходный датасет содержит обучающую и тестовую выборки со всеми признаками.\n",
        "Предварительно проверили данные на корректность.  \n",
        "\n",
        "Источники данных:  \n",
        "\n",
        "+ `/datasets/gold_recovery_train.csv` - обучающая выборка\n",
        "+ `/datasets/gold_recovery_test.csv` - тестовая  выборка\n",
        "+ `/datasets/gold_recovery_full.csv` - исходные данные."
      ]
    },
    {
      "cell_type": "markdown",
      "metadata": {
        "id": "lhuTChHZz538"
      },
      "source": [
        "## Оглавление\n",
        "\n",
        "### [1. Подготовка данных](#1) <a id='10'></a>   \n",
        "\n",
        "\n",
        "+ [1.1 Изучение файлов](#1.1) \n",
        "\n",
        "\n",
        "+ [1.2 Проверка эффективности обогащения](#1.2) \n",
        "\n",
        "\n",
        "+ [1.3 Предобработка данных](#1.3) \n",
        "\n",
        "\n",
        "### [2. Анализ данных](#2) <a id='20'></a>\n",
        "\n",
        "+ [2.1 Концентрация металлов на разных этапах очистки](#2.1) \n",
        "\n",
        "\n",
        "+ [2.2 Распределение гранул сырья](#2.2) \n",
        "\n",
        "\n",
        "+ [2.3 Суммарная концентрация веществ на разных стадиях](#2.3) \n",
        "\n",
        "### [3. Построение модели](#3) <a id='30'></a>\n",
        "\n",
        "+ [3.1 Функция для вычисления итоговой sMAPE](#3.1) \n",
        "\n",
        "\n",
        "+ [3.2 Обучение и проверка модели](#3.2) \n",
        "\n",
        "\n",
        "***"
      ]
    },
    {
      "cell_type": "markdown",
      "metadata": {
        "id": "869I2V9Zz53-"
      },
      "source": [
        "## 1. Подготовка данных <a id='1'></a>   [^](#10) "
      ]
    },
    {
      "cell_type": "markdown",
      "metadata": {
        "id": "h8PSwQ4rz53_"
      },
      "source": [
        "* ### 1.1 Изучение файлов <a id='1.1'></a> [^](#10)"
      ]
    },
    {
      "cell_type": "code",
      "metadata": {
        "id": "NckcAEiNz54A"
      },
      "source": [
        "# импорт библиотеки pandas и numpy\n",
        "import pandas as pd \n",
        "import numpy as np  \n",
        "\n",
        "# импорт модуля display\n",
        "from IPython.display import display  \n",
        "\n",
        "# импорт библиотеки mathplot и seaborn\n",
        "import matplotlib.pyplot as plt\n",
        "import seaborn as sns \n",
        "\n",
        "# отключение предупреждений\n",
        "import warnings\n",
        "warnings.filterwarnings('ignore') \n",
        "\n",
        "# импорт mae\n",
        "from sklearn.metrics import mean_absolute_error\n",
        "\n",
        "# импорт модели линейной регрессии\n",
        "from sklearn.linear_model import LinearRegression\n",
        "\n",
        "# импорт модели случайного леса\n",
        "from sklearn.ensemble import RandomForestRegressor\n",
        "\n",
        "# импорт сетки гиперпараметров\n",
        "from sklearn.model_selection import GridSearchCV\n",
        "\n",
        "# импорт make_score\n",
        "from sklearn.metrics import make_scorer\n",
        "\n",
        "# импорт метрик\n",
        "from sklearn.metrics import r2_score"
      ],
      "execution_count": null,
      "outputs": []
    },
    {
      "cell_type": "code",
      "metadata": {
        "id": "mNEMiiCDz54D"
      },
      "source": [
        "# чтение файлов с данными\n",
        "df_train = pd.read_csv('/datasets/gold_recovery_train.csv')\n",
        "df_test = pd.read_csv('/datasets/gold_recovery_test.csv')\n",
        "df_full = pd.read_csv('/datasets/gold_recovery_full.csv')"
      ],
      "execution_count": null,
      "outputs": []
    },
    {
      "cell_type": "code",
      "metadata": {
        "id": "srwd1Badz54F",
        "outputId": "fb6bed46-db43-4821-91c9-83ad5c086099"
      },
      "source": [
        "# визуальный осмотр признаков \n",
        "df_train.columns"
      ],
      "execution_count": null,
      "outputs": [
        {
          "output_type": "execute_result",
          "data": {
            "text/plain": [
              "Index(['date', 'final.output.concentrate_ag', 'final.output.concentrate_pb',\n",
              "       'final.output.concentrate_sol', 'final.output.concentrate_au',\n",
              "       'final.output.recovery', 'final.output.tail_ag', 'final.output.tail_pb',\n",
              "       'final.output.tail_sol', 'final.output.tail_au',\n",
              "       'primary_cleaner.input.sulfate', 'primary_cleaner.input.depressant',\n",
              "       'primary_cleaner.input.feed_size', 'primary_cleaner.input.xanthate',\n",
              "       'primary_cleaner.output.concentrate_ag',\n",
              "       'primary_cleaner.output.concentrate_pb',\n",
              "       'primary_cleaner.output.concentrate_sol',\n",
              "       'primary_cleaner.output.concentrate_au',\n",
              "       'primary_cleaner.output.tail_ag', 'primary_cleaner.output.tail_pb',\n",
              "       'primary_cleaner.output.tail_sol', 'primary_cleaner.output.tail_au',\n",
              "       'primary_cleaner.state.floatbank8_a_air',\n",
              "       'primary_cleaner.state.floatbank8_a_level',\n",
              "       'primary_cleaner.state.floatbank8_b_air',\n",
              "       'primary_cleaner.state.floatbank8_b_level',\n",
              "       'primary_cleaner.state.floatbank8_c_air',\n",
              "       'primary_cleaner.state.floatbank8_c_level',\n",
              "       'primary_cleaner.state.floatbank8_d_air',\n",
              "       'primary_cleaner.state.floatbank8_d_level',\n",
              "       'rougher.calculation.sulfate_to_au_concentrate',\n",
              "       'rougher.calculation.floatbank10_sulfate_to_au_feed',\n",
              "       'rougher.calculation.floatbank11_sulfate_to_au_feed',\n",
              "       'rougher.calculation.au_pb_ratio', 'rougher.input.feed_ag',\n",
              "       'rougher.input.feed_pb', 'rougher.input.feed_rate',\n",
              "       'rougher.input.feed_size', 'rougher.input.feed_sol',\n",
              "       'rougher.input.feed_au', 'rougher.input.floatbank10_sulfate',\n",
              "       'rougher.input.floatbank10_xanthate',\n",
              "       'rougher.input.floatbank11_sulfate',\n",
              "       'rougher.input.floatbank11_xanthate', 'rougher.output.concentrate_ag',\n",
              "       'rougher.output.concentrate_pb', 'rougher.output.concentrate_sol',\n",
              "       'rougher.output.concentrate_au', 'rougher.output.recovery',\n",
              "       'rougher.output.tail_ag', 'rougher.output.tail_pb',\n",
              "       'rougher.output.tail_sol', 'rougher.output.tail_au',\n",
              "       'rougher.state.floatbank10_a_air', 'rougher.state.floatbank10_a_level',\n",
              "       'rougher.state.floatbank10_b_air', 'rougher.state.floatbank10_b_level',\n",
              "       'rougher.state.floatbank10_c_air', 'rougher.state.floatbank10_c_level',\n",
              "       'rougher.state.floatbank10_d_air', 'rougher.state.floatbank10_d_level',\n",
              "       'rougher.state.floatbank10_e_air', 'rougher.state.floatbank10_e_level',\n",
              "       'rougher.state.floatbank10_f_air', 'rougher.state.floatbank10_f_level',\n",
              "       'secondary_cleaner.output.tail_ag', 'secondary_cleaner.output.tail_pb',\n",
              "       'secondary_cleaner.output.tail_sol', 'secondary_cleaner.output.tail_au',\n",
              "       'secondary_cleaner.state.floatbank2_a_air',\n",
              "       'secondary_cleaner.state.floatbank2_a_level',\n",
              "       'secondary_cleaner.state.floatbank2_b_air',\n",
              "       'secondary_cleaner.state.floatbank2_b_level',\n",
              "       'secondary_cleaner.state.floatbank3_a_air',\n",
              "       'secondary_cleaner.state.floatbank3_a_level',\n",
              "       'secondary_cleaner.state.floatbank3_b_air',\n",
              "       'secondary_cleaner.state.floatbank3_b_level',\n",
              "       'secondary_cleaner.state.floatbank4_a_air',\n",
              "       'secondary_cleaner.state.floatbank4_a_level',\n",
              "       'secondary_cleaner.state.floatbank4_b_air',\n",
              "       'secondary_cleaner.state.floatbank4_b_level',\n",
              "       'secondary_cleaner.state.floatbank5_a_air',\n",
              "       'secondary_cleaner.state.floatbank5_a_level',\n",
              "       'secondary_cleaner.state.floatbank5_b_air',\n",
              "       'secondary_cleaner.state.floatbank5_b_level',\n",
              "       'secondary_cleaner.state.floatbank6_a_air',\n",
              "       'secondary_cleaner.state.floatbank6_a_level'],\n",
              "      dtype='object')"
            ]
          },
          "metadata": {
            "tags": []
          },
          "execution_count": 3
        }
      ]
    },
    {
      "cell_type": "markdown",
      "metadata": {
        "id": "tfTT58u3z54I"
      },
      "source": [
        "В тестовой выборке отсутствуют некоторые признаки."
      ]
    },
    {
      "cell_type": "code",
      "metadata": {
        "id": "RovskQtZz54K",
        "outputId": "2805ae3b-8492-466b-a634-8d703a140361"
      },
      "source": [
        "df_train.shape, df_test.shape"
      ],
      "execution_count": null,
      "outputs": [
        {
          "output_type": "execute_result",
          "data": {
            "text/plain": [
              "((16860, 87), (5856, 53))"
            ]
          },
          "metadata": {
            "tags": []
          },
          "execution_count": 4
        }
      ]
    },
    {
      "cell_type": "code",
      "metadata": {
        "id": "Ge__3UUuz54L",
        "outputId": "c3126ff1-6400-4f54-91da-5d5f3d130d25"
      },
      "source": [
        "# исходные данные поделены 75 на 25 %\n",
        "df_train.shape[0] / df_full.shape[0]"
      ],
      "execution_count": null,
      "outputs": [
        {
          "output_type": "execute_result",
          "data": {
            "text/plain": [
              "0.7422081352350766"
            ]
          },
          "metadata": {
            "tags": []
          },
          "execution_count": 5
        }
      ]
    },
    {
      "cell_type": "code",
      "metadata": {
        "id": "JHrTP8F0z54N",
        "outputId": "d129098e-1bfd-48a1-9799-56561128db1b"
      },
      "source": [
        "df_full.info()"
      ],
      "execution_count": null,
      "outputs": [
        {
          "output_type": "stream",
          "text": [
            "<class 'pandas.core.frame.DataFrame'>\n",
            "RangeIndex: 22716 entries, 0 to 22715\n",
            "Data columns (total 87 columns):\n",
            "date                                                  22716 non-null object\n",
            "final.output.concentrate_ag                           22627 non-null float64\n",
            "final.output.concentrate_pb                           22629 non-null float64\n",
            "final.output.concentrate_sol                          22331 non-null float64\n",
            "final.output.concentrate_au                           22630 non-null float64\n",
            "final.output.recovery                                 20753 non-null float64\n",
            "final.output.tail_ag                                  22633 non-null float64\n",
            "final.output.tail_pb                                  22516 non-null float64\n",
            "final.output.tail_sol                                 22445 non-null float64\n",
            "final.output.tail_au                                  22635 non-null float64\n",
            "primary_cleaner.input.sulfate                         21107 non-null float64\n",
            "primary_cleaner.input.depressant                      21170 non-null float64\n",
            "primary_cleaner.input.feed_size                       22716 non-null float64\n",
            "primary_cleaner.input.xanthate                        21565 non-null float64\n",
            "primary_cleaner.output.concentrate_ag                 22618 non-null float64\n",
            "primary_cleaner.output.concentrate_pb                 22268 non-null float64\n",
            "primary_cleaner.output.concentrate_sol                21918 non-null float64\n",
            "primary_cleaner.output.concentrate_au                 22618 non-null float64\n",
            "primary_cleaner.output.tail_ag                        22614 non-null float64\n",
            "primary_cleaner.output.tail_pb                        22594 non-null float64\n",
            "primary_cleaner.output.tail_sol                       22365 non-null float64\n",
            "primary_cleaner.output.tail_au                        22617 non-null float64\n",
            "primary_cleaner.state.floatbank8_a_air                22660 non-null float64\n",
            "primary_cleaner.state.floatbank8_a_level              22667 non-null float64\n",
            "primary_cleaner.state.floatbank8_b_air                22660 non-null float64\n",
            "primary_cleaner.state.floatbank8_b_level              22673 non-null float64\n",
            "primary_cleaner.state.floatbank8_c_air                22662 non-null float64\n",
            "primary_cleaner.state.floatbank8_c_level              22673 non-null float64\n",
            "primary_cleaner.state.floatbank8_d_air                22661 non-null float64\n",
            "primary_cleaner.state.floatbank8_d_level              22673 non-null float64\n",
            "rougher.calculation.sulfate_to_au_concentrate         22672 non-null float64\n",
            "rougher.calculation.floatbank10_sulfate_to_au_feed    22672 non-null float64\n",
            "rougher.calculation.floatbank11_sulfate_to_au_feed    22672 non-null float64\n",
            "rougher.calculation.au_pb_ratio                       21089 non-null float64\n",
            "rougher.input.feed_ag                                 22618 non-null float64\n",
            "rougher.input.feed_pb                                 22472 non-null float64\n",
            "rougher.input.feed_rate                               22163 non-null float64\n",
            "rougher.input.feed_size                               22277 non-null float64\n",
            "rougher.input.feed_sol                                22357 non-null float64\n",
            "rougher.input.feed_au                                 22617 non-null float64\n",
            "rougher.input.floatbank10_sulfate                     21415 non-null float64\n",
            "rougher.input.floatbank10_xanthate                    22247 non-null float64\n",
            "rougher.input.floatbank11_sulfate                     22038 non-null float64\n",
            "rougher.input.floatbank11_xanthate                    20459 non-null float64\n",
            "rougher.output.concentrate_ag                         22618 non-null float64\n",
            "rougher.output.concentrate_pb                         22618 non-null float64\n",
            "rougher.output.concentrate_sol                        22526 non-null float64\n",
            "rougher.output.concentrate_au                         22618 non-null float64\n",
            "rougher.output.recovery                               19597 non-null float64\n",
            "rougher.output.tail_ag                                19979 non-null float64\n",
            "rougher.output.tail_pb                                22618 non-null float64\n",
            "rougher.output.tail_sol                               19980 non-null float64\n",
            "rougher.output.tail_au                                19980 non-null float64\n",
            "rougher.state.floatbank10_a_air                       22646 non-null float64\n",
            "rougher.state.floatbank10_a_level                     22647 non-null float64\n",
            "rougher.state.floatbank10_b_air                       22646 non-null float64\n",
            "rougher.state.floatbank10_b_level                     22647 non-null float64\n",
            "rougher.state.floatbank10_c_air                       22646 non-null float64\n",
            "rougher.state.floatbank10_c_level                     22654 non-null float64\n",
            "rougher.state.floatbank10_d_air                       22641 non-null float64\n",
            "rougher.state.floatbank10_d_level                     22649 non-null float64\n",
            "rougher.state.floatbank10_e_air                       22096 non-null float64\n",
            "rougher.state.floatbank10_e_level                     22649 non-null float64\n",
            "rougher.state.floatbank10_f_air                       22641 non-null float64\n",
            "rougher.state.floatbank10_f_level                     22642 non-null float64\n",
            "secondary_cleaner.output.tail_ag                      22616 non-null float64\n",
            "secondary_cleaner.output.tail_pb                      22600 non-null float64\n",
            "secondary_cleaner.output.tail_sol                     20501 non-null float64\n",
            "secondary_cleaner.output.tail_au                      22618 non-null float64\n",
            "secondary_cleaner.state.floatbank2_a_air              22333 non-null float64\n",
            "secondary_cleaner.state.floatbank2_a_level            22591 non-null float64\n",
            "secondary_cleaner.state.floatbank2_b_air              22538 non-null float64\n",
            "secondary_cleaner.state.floatbank2_b_level            22588 non-null float64\n",
            "secondary_cleaner.state.floatbank3_a_air              22585 non-null float64\n",
            "secondary_cleaner.state.floatbank3_a_level            22587 non-null float64\n",
            "secondary_cleaner.state.floatbank3_b_air              22592 non-null float64\n",
            "secondary_cleaner.state.floatbank3_b_level            22590 non-null float64\n",
            "secondary_cleaner.state.floatbank4_a_air              22571 non-null float64\n",
            "secondary_cleaner.state.floatbank4_a_level            22587 non-null float64\n",
            "secondary_cleaner.state.floatbank4_b_air              22608 non-null float64\n",
            "secondary_cleaner.state.floatbank4_b_level            22607 non-null float64\n",
            "secondary_cleaner.state.floatbank5_a_air              22615 non-null float64\n",
            "secondary_cleaner.state.floatbank5_a_level            22615 non-null float64\n",
            "secondary_cleaner.state.floatbank5_b_air              22615 non-null float64\n",
            "secondary_cleaner.state.floatbank5_b_level            22616 non-null float64\n",
            "secondary_cleaner.state.floatbank6_a_air              22597 non-null float64\n",
            "secondary_cleaner.state.floatbank6_a_level            22615 non-null float64\n",
            "dtypes: float64(86), object(1)\n",
            "memory usage: 15.1+ MB\n"
          ],
          "name": "stdout"
        }
      ]
    },
    {
      "cell_type": "code",
      "metadata": {
        "id": "poDbv9X_z54O",
        "outputId": "5e38a821-d75d-4088-80e8-226a72bac8d8"
      },
      "source": [
        "df_test.info()"
      ],
      "execution_count": null,
      "outputs": [
        {
          "output_type": "stream",
          "text": [
            "<class 'pandas.core.frame.DataFrame'>\n",
            "RangeIndex: 5856 entries, 0 to 5855\n",
            "Data columns (total 53 columns):\n",
            "date                                          5856 non-null object\n",
            "primary_cleaner.input.sulfate                 5554 non-null float64\n",
            "primary_cleaner.input.depressant              5572 non-null float64\n",
            "primary_cleaner.input.feed_size               5856 non-null float64\n",
            "primary_cleaner.input.xanthate                5690 non-null float64\n",
            "primary_cleaner.state.floatbank8_a_air        5840 non-null float64\n",
            "primary_cleaner.state.floatbank8_a_level      5840 non-null float64\n",
            "primary_cleaner.state.floatbank8_b_air        5840 non-null float64\n",
            "primary_cleaner.state.floatbank8_b_level      5840 non-null float64\n",
            "primary_cleaner.state.floatbank8_c_air        5840 non-null float64\n",
            "primary_cleaner.state.floatbank8_c_level      5840 non-null float64\n",
            "primary_cleaner.state.floatbank8_d_air        5840 non-null float64\n",
            "primary_cleaner.state.floatbank8_d_level      5840 non-null float64\n",
            "rougher.input.feed_ag                         5840 non-null float64\n",
            "rougher.input.feed_pb                         5840 non-null float64\n",
            "rougher.input.feed_rate                       5816 non-null float64\n",
            "rougher.input.feed_size                       5834 non-null float64\n",
            "rougher.input.feed_sol                        5789 non-null float64\n",
            "rougher.input.feed_au                         5840 non-null float64\n",
            "rougher.input.floatbank10_sulfate             5599 non-null float64\n",
            "rougher.input.floatbank10_xanthate            5733 non-null float64\n",
            "rougher.input.floatbank11_sulfate             5801 non-null float64\n",
            "rougher.input.floatbank11_xanthate            5503 non-null float64\n",
            "rougher.state.floatbank10_a_air               5839 non-null float64\n",
            "rougher.state.floatbank10_a_level             5840 non-null float64\n",
            "rougher.state.floatbank10_b_air               5839 non-null float64\n",
            "rougher.state.floatbank10_b_level             5840 non-null float64\n",
            "rougher.state.floatbank10_c_air               5839 non-null float64\n",
            "rougher.state.floatbank10_c_level             5840 non-null float64\n",
            "rougher.state.floatbank10_d_air               5839 non-null float64\n",
            "rougher.state.floatbank10_d_level             5840 non-null float64\n",
            "rougher.state.floatbank10_e_air               5839 non-null float64\n",
            "rougher.state.floatbank10_e_level             5840 non-null float64\n",
            "rougher.state.floatbank10_f_air               5839 non-null float64\n",
            "rougher.state.floatbank10_f_level             5840 non-null float64\n",
            "secondary_cleaner.state.floatbank2_a_air      5836 non-null float64\n",
            "secondary_cleaner.state.floatbank2_a_level    5840 non-null float64\n",
            "secondary_cleaner.state.floatbank2_b_air      5833 non-null float64\n",
            "secondary_cleaner.state.floatbank2_b_level    5840 non-null float64\n",
            "secondary_cleaner.state.floatbank3_a_air      5822 non-null float64\n",
            "secondary_cleaner.state.floatbank3_a_level    5840 non-null float64\n",
            "secondary_cleaner.state.floatbank3_b_air      5840 non-null float64\n",
            "secondary_cleaner.state.floatbank3_b_level    5840 non-null float64\n",
            "secondary_cleaner.state.floatbank4_a_air      5840 non-null float64\n",
            "secondary_cleaner.state.floatbank4_a_level    5840 non-null float64\n",
            "secondary_cleaner.state.floatbank4_b_air      5840 non-null float64\n",
            "secondary_cleaner.state.floatbank4_b_level    5840 non-null float64\n",
            "secondary_cleaner.state.floatbank5_a_air      5840 non-null float64\n",
            "secondary_cleaner.state.floatbank5_a_level    5840 non-null float64\n",
            "secondary_cleaner.state.floatbank5_b_air      5840 non-null float64\n",
            "secondary_cleaner.state.floatbank5_b_level    5840 non-null float64\n",
            "secondary_cleaner.state.floatbank6_a_air      5840 non-null float64\n",
            "secondary_cleaner.state.floatbank6_a_level    5840 non-null float64\n",
            "dtypes: float64(52), object(1)\n",
            "memory usage: 2.4+ MB\n"
          ],
          "name": "stdout"
        }
      ]
    },
    {
      "cell_type": "markdown",
      "metadata": {
        "id": "yIOfqvmZz54P"
      },
      "source": [
        "Видим, что в датасетах имеются пропуски, в дальнейшем нужно думать о методе их заполнения. Также имеется колонка со временем, хронологически-последовательным технологическим процессам. "
      ]
    },
    {
      "cell_type": "markdown",
      "metadata": {
        "id": "L9YyZ6cVz54Q"
      },
      "source": [
        "* ### 1.2 Проверка эффективности обогащения <a id='1.2'></a> [^](#10)"
      ]
    },
    {
      "cell_type": "markdown",
      "metadata": {
        "id": "rhK-bM_Zz54Q"
      },
      "source": [
        "Написали функцию для определения эффективности."
      ]
    },
    {
      "cell_type": "code",
      "metadata": {
        "id": "7B3Cj2bFz54R"
      },
      "source": [
        "# C — доля золота в концентрате после флотации/очистки;\n",
        "# F — доля золота в сырье/концентрате до флотации/очистки;\n",
        "# T — доля золота в отвальных хвостах после флотации/очистки.\n",
        "# ограничили проценты от 0 до 100\n",
        "\n",
        "def recovery(C, F, T):\n",
        "    recov = ((C * (F - T)) / (F * (C - T))) * 100\n",
        "    recov[recov<0] = np.nan\n",
        "    recov[recov>100] = np.nan\n",
        "    return recov"
      ],
      "execution_count": null,
      "outputs": []
    },
    {
      "cell_type": "code",
      "metadata": {
        "id": "ZKVmfm68z54S"
      },
      "source": [
        "# расчёт эффективности обогащения чернового концентрата\n",
        "C, F, T = df_train['rougher.output.concentrate_au'], df_train['rougher.input.feed_au'],  df_train['rougher.output.tail_au']\n",
        "rec = recovery(C, F, T)"
      ],
      "execution_count": null,
      "outputs": []
    },
    {
      "cell_type": "code",
      "metadata": {
        "id": "GSXwp00Vz54T",
        "outputId": "252c8c38-0e18-4589-aaaa-25510b08d1f1"
      },
      "source": [
        "# описание данных об эффективности\n",
        "rec.describe(), df_train['rougher.output.recovery'].describe()"
      ],
      "execution_count": null,
      "outputs": [
        {
          "output_type": "execute_result",
          "data": {
            "text/plain": [
              "(count    14287.000000\n",
              " mean        82.394201\n",
              " std         15.096808\n",
              " min         -0.000000\n",
              " 25%         79.818372\n",
              " 50%         85.235997\n",
              " 75%         90.131691\n",
              " max        100.000000\n",
              " dtype: float64,\n",
              " count    14287.000000\n",
              " mean        82.394201\n",
              " std         15.096808\n",
              " min          0.000000\n",
              " 25%         79.818372\n",
              " 50%         85.235997\n",
              " 75%         90.131691\n",
              " max        100.000000\n",
              " Name: rougher.output.recovery, dtype: float64)"
            ]
          },
          "metadata": {
            "tags": []
          },
          "execution_count": 10
        }
      ]
    },
    {
      "cell_type": "code",
      "metadata": {
        "id": "Mat_mtnjz54U",
        "outputId": "8e2ee12a-c668-4d1e-d38e-23cb2f08a3a2"
      },
      "source": [
        "# вычисление mae по исходным и посчитанным данным с заменой пропущенных значенией \n",
        "\n",
        "mean_absolute_error(df_train['rougher.output.recovery'].fillna(method='ffill'), rec.fillna(method='ffill'))"
      ],
      "execution_count": null,
      "outputs": [
        {
          "output_type": "execute_result",
          "data": {
            "text/plain": [
              "9.514308413213554e-15"
            ]
          },
          "metadata": {
            "tags": []
          },
          "execution_count": 11
        }
      ]
    },
    {
      "cell_type": "markdown",
      "metadata": {
        "id": "3mOIdxivz54W"
      },
      "source": [
        "Средняя абсолютная ошибка очень мала, поэтому будем считать, что эффективность посчитана верно."
      ]
    },
    {
      "cell_type": "markdown",
      "metadata": {
        "id": "HSqiVPL4z54W"
      },
      "source": [
        "* ### 1.3 Предобработка данных <a id='1.3'></a> [^](#10)"
      ]
    },
    {
      "cell_type": "code",
      "metadata": {
        "id": "EJEkEp9mz54X",
        "outputId": "4aa8cfcd-06c3-44eb-ce0f-a5c66774b8ad"
      },
      "source": [
        "# отсутствующие признаки в тестовой выборке\n",
        "set(df_train.columns) - set(df_test.columns)"
      ],
      "execution_count": null,
      "outputs": [
        {
          "output_type": "execute_result",
          "data": {
            "text/plain": [
              "{'final.output.concentrate_ag',\n",
              " 'final.output.concentrate_au',\n",
              " 'final.output.concentrate_pb',\n",
              " 'final.output.concentrate_sol',\n",
              " 'final.output.recovery',\n",
              " 'final.output.tail_ag',\n",
              " 'final.output.tail_au',\n",
              " 'final.output.tail_pb',\n",
              " 'final.output.tail_sol',\n",
              " 'primary_cleaner.output.concentrate_ag',\n",
              " 'primary_cleaner.output.concentrate_au',\n",
              " 'primary_cleaner.output.concentrate_pb',\n",
              " 'primary_cleaner.output.concentrate_sol',\n",
              " 'primary_cleaner.output.tail_ag',\n",
              " 'primary_cleaner.output.tail_au',\n",
              " 'primary_cleaner.output.tail_pb',\n",
              " 'primary_cleaner.output.tail_sol',\n",
              " 'rougher.calculation.au_pb_ratio',\n",
              " 'rougher.calculation.floatbank10_sulfate_to_au_feed',\n",
              " 'rougher.calculation.floatbank11_sulfate_to_au_feed',\n",
              " 'rougher.calculation.sulfate_to_au_concentrate',\n",
              " 'rougher.output.concentrate_ag',\n",
              " 'rougher.output.concentrate_au',\n",
              " 'rougher.output.concentrate_pb',\n",
              " 'rougher.output.concentrate_sol',\n",
              " 'rougher.output.recovery',\n",
              " 'rougher.output.tail_ag',\n",
              " 'rougher.output.tail_au',\n",
              " 'rougher.output.tail_pb',\n",
              " 'rougher.output.tail_sol',\n",
              " 'secondary_cleaner.output.tail_ag',\n",
              " 'secondary_cleaner.output.tail_au',\n",
              " 'secondary_cleaner.output.tail_pb',\n",
              " 'secondary_cleaner.output.tail_sol'}"
            ]
          },
          "metadata": {
            "tags": []
          },
          "execution_count": 12
        }
      ]
    },
    {
      "cell_type": "markdown",
      "metadata": {
        "id": "5ypqHQboz54Y"
      },
      "source": [
        "В тестовой выборке отсутствуют признаки output - так как это скорее всего целевые признаки. Признаки calculation возможно показывают расчет де факто после всех степеней очистки и переработки руды."
      ]
    },
    {
      "cell_type": "code",
      "metadata": {
        "id": "rKap5m31z54Z",
        "outputId": "a5ed8ce6-e23a-4ae8-f3b7-44980262ae5b"
      },
      "source": [
        "# просмотр пропущенных значений тренировочной выборки\n",
        "df_train.isna().sum().sort_values(ascending=False).head(10)"
      ],
      "execution_count": null,
      "outputs": [
        {
          "output_type": "execute_result",
          "data": {
            "text/plain": [
              "rougher.output.recovery               2573\n",
              "rougher.output.tail_ag                2250\n",
              "rougher.output.tail_sol               2249\n",
              "rougher.output.tail_au                2249\n",
              "secondary_cleaner.output.tail_sol     1986\n",
              "rougher.input.floatbank11_xanthate    1904\n",
              "final.output.recovery                 1521\n",
              "primary_cleaner.input.sulfate         1307\n",
              "primary_cleaner.input.depressant      1262\n",
              "rougher.calculation.au_pb_ratio       1242\n",
              "dtype: int64"
            ]
          },
          "metadata": {
            "tags": []
          },
          "execution_count": 13
        }
      ]
    },
    {
      "cell_type": "code",
      "metadata": {
        "id": "Y5un7HdFz54a",
        "outputId": "4c6802b2-ff40-4286-8526-72fc7e247a54"
      },
      "source": [
        "# просмотр пропущенных значений тестовой выборки\n",
        "df_test.isna().sum().sort_values(ascending=False).head(10)"
      ],
      "execution_count": null,
      "outputs": [
        {
          "output_type": "execute_result",
          "data": {
            "text/plain": [
              "rougher.input.floatbank11_xanthate          353\n",
              "primary_cleaner.input.sulfate               302\n",
              "primary_cleaner.input.depressant            284\n",
              "rougher.input.floatbank10_sulfate           257\n",
              "primary_cleaner.input.xanthate              166\n",
              "rougher.input.floatbank10_xanthate          123\n",
              "rougher.input.feed_sol                       67\n",
              "rougher.input.floatbank11_sulfate            55\n",
              "rougher.input.feed_rate                      40\n",
              "secondary_cleaner.state.floatbank3_a_air     34\n",
              "dtype: int64"
            ]
          },
          "metadata": {
            "tags": []
          },
          "execution_count": 14
        }
      ]
    },
    {
      "cell_type": "markdown",
      "metadata": {
        "id": "CaU99tCvz54b"
      },
      "source": [
        "На тестовой выборке заметно меньше пропущенных значений. В тренировочной отсутствующих значений гораздо больше.  \n",
        "\n",
        "Удалили признаки, которых нет в тестовой выборке, выделили целевой признак, а также разделили технический процесс флотации и очистки, так как они мало кореллируют между собой. В качестве целевого признака будем предсказывать эффективность обогащения металла после  процесса очистки. "
      ]
    },
    {
      "cell_type": "code",
      "metadata": {
        "id": "tH5tdXqmz54c"
      },
      "source": [
        "# удаление признаков, отсутствующих в тестовой выборке\n",
        "df_train = df_train.loc[:,  df_test.columns]\n",
        "\n",
        "# выделение целевого признака в процессе флотации и финальной очистки \n",
        "target_train_rougher = df_full.loc[df_full['date'].isin(df_train['date']), ['rougher.output.recovery']]\n",
        "target_train_cleaner = df_full.loc[df_full['date'].isin(df_train['date']), ['final.output.recovery']]\n",
        "\n",
        "# признаки в процессе флотации и финальной очистки обучающей выборки\n",
        "features_train_rougher = df_train.loc[:, df_train.columns.str.contains('rougher')]\n",
        "features_train_cleaner = df_train.loc[:, df_train.columns.str.contains('cleaner')]\n",
        "\n",
        "# выделение целевого признака в процессе флотации и финальной очистки \n",
        "target_test_rougher = df_full.loc[df_full['date'].isin(df_test['date']), ['rougher.output.recovery']]\n",
        "target_test_cleaner = df_full.loc[df_full['date'].isin(df_test['date']), ['final.output.recovery']]\n",
        "\n",
        "# признаки в процессе флотации и финальной очистки тестовой выборки\n",
        "features_test_rougher = df_test.loc[:, df_test.columns.str.contains('rougher')]\n",
        "features_test_cleaner = df_test.loc[:, df_test.columns.str.contains('cleaner')]"
      ],
      "execution_count": null,
      "outputs": []
    },
    {
      "cell_type": "code",
      "metadata": {
        "id": "HrGIq73jz54e",
        "outputId": "819860eb-3bb2-4efd-fc36-d6e863592bc1"
      },
      "source": [
        "# проверка обучающей выборки после флотации\n",
        "features_train_rougher.shape, target_train_rougher.shape"
      ],
      "execution_count": null,
      "outputs": [
        {
          "output_type": "execute_result",
          "data": {
            "text/plain": [
              "((16860, 22), (16860, 1))"
            ]
          },
          "metadata": {
            "tags": []
          },
          "execution_count": 16
        }
      ]
    },
    {
      "cell_type": "code",
      "metadata": {
        "id": "JKBgcpVdz54f",
        "outputId": "dd78860a-dbba-4ad8-b8a7-81d23517d00c"
      },
      "source": [
        "# проверка обучачающей выборки после финальной очистки\n",
        "features_train_cleaner.shape, target_train_cleaner.shape"
      ],
      "execution_count": null,
      "outputs": [
        {
          "output_type": "execute_result",
          "data": {
            "text/plain": [
              "((16860, 30), (16860, 1))"
            ]
          },
          "metadata": {
            "tags": []
          },
          "execution_count": 17
        }
      ]
    },
    {
      "cell_type": "code",
      "metadata": {
        "id": "p8G54EK1z54g",
        "outputId": "aee0f0a8-5147-4cd8-f02b-8409197964fe"
      },
      "source": [
        "# проверка тестовой выборки\n",
        "features_test_rougher.shape, target_test_rougher.shape"
      ],
      "execution_count": null,
      "outputs": [
        {
          "output_type": "execute_result",
          "data": {
            "text/plain": [
              "((5856, 22), (5856, 1))"
            ]
          },
          "metadata": {
            "tags": []
          },
          "execution_count": 18
        }
      ]
    },
    {
      "cell_type": "code",
      "metadata": {
        "id": "8k88LTypz54h",
        "outputId": "7f2bf2b4-084c-4228-a8c1-9d3d633faecd"
      },
      "source": [
        "features_test_cleaner.shape, target_test_cleaner.shape"
      ],
      "execution_count": null,
      "outputs": [
        {
          "output_type": "execute_result",
          "data": {
            "text/plain": [
              "((5856, 30), (5856, 1))"
            ]
          },
          "metadata": {
            "tags": []
          },
          "execution_count": 19
        }
      ]
    },
    {
      "cell_type": "markdown",
      "metadata": {
        "id": "ghBT4XfJz54i"
      },
      "source": [
        "### Вывод  \n",
        "\n",
        "Выборки поделены согласно технологическому процессу, выделены целевые признаки, удалены избыточные и данные готовы к дальнейшему анализу."
      ]
    },
    {
      "cell_type": "markdown",
      "metadata": {
        "id": "kjwjbgC1z54j"
      },
      "source": [
        "***"
      ]
    },
    {
      "cell_type": "markdown",
      "metadata": {
        "id": "Xv4RsLPSz54k"
      },
      "source": [
        "## 2. Анализ данных <a id='2'></a>   [^](#10) "
      ]
    },
    {
      "cell_type": "markdown",
      "metadata": {
        "id": "AjfbDDhwz54l"
      },
      "source": [
        "* ### 2.1 Концентрация металлов на разных этапах очистки <a id='2.1'></a> [^](#10)"
      ]
    },
    {
      "cell_type": "markdown",
      "metadata": {
        "id": "zslBv8K3z54l"
      },
      "source": [
        "Посмотрели на концентрацию металлов на различных этапах очистки."
      ]
    },
    {
      "cell_type": "code",
      "metadata": {
        "id": "Z6V5gYcfz54m",
        "outputId": "5ed3d15e-ec44-441e-fdc9-979def2c89eb"
      },
      "source": [
        "# создали список с концентрациями после каждого технологического этапа\n",
        "process = ['rougher.input.feed', 'rougher.output.concentrate', 'primary_cleaner.output.concentrate', 'final.output.concentrate']\n",
        "\n",
        "# список с металлами\n",
        "metals = ['au', 'ag', 'pb']\n",
        "\n",
        "fig, axs = plt.subplots(1, 4, figsize=(18, 6))\n",
        "fig.suptitle('Концентрация металлов на разных этапах очистки', fontsize=20)\n",
        "\n",
        "for stage, ax in zip(process, axs):\n",
        "    ax.set_title(stage)\n",
        "    for metal in metals:        \n",
        "        sns_ax = sns.distplot(df_full.loc[:, df_full.columns.str.contains(stage+'_'+metal)].dropna(), label=metal, ax=ax)    \n",
        "plt.legend()"
      ],
      "execution_count": null,
      "outputs": [
        {
          "output_type": "execute_result",
          "data": {
            "text/plain": [
              "<matplotlib.legend.Legend at 0x7fc738666690>"
            ]
          },
          "metadata": {
            "tags": []
          },
          "execution_count": 20
        },
        {
          "output_type": "display_data",
          "data": {
            "image/png": "[encoded data removed]",
            "text/plain": [
              "<Figure size 1296x432 with 4 Axes>"
            ]
          },
          "metadata": {
            "tags": [],
            "needs_background": "light"
          }
        }
      ]
    },
    {
      "cell_type": "markdown",
      "metadata": {
        "id": "EREEAhfDz54n"
      },
      "source": [
        "Мы наблюдаем, что концентрация золота после каждого этапа очистки значительно возрастает, в отличие от других металлов. Также хорошо видны выбросы возле нуля. Скорее всего они нуждаются в удалении, так как из нулевой концентрации мало можно получить полезной выработки."
      ]
    },
    {
      "cell_type": "code",
      "metadata": {
        "id": "tfju5WcDz54n",
        "outputId": "9740b93d-0ffd-43b0-b9d0-62306c224eac"
      },
      "source": [
        "fig, axs = plt.subplots(1, 3, figsize=(18, 6), constrained_layout=True)\n",
        "fig.suptitle('Распределения концентраций каждого металла при разных этапах очистки', fontsize=20)\n",
        "\n",
        "for metal, ax in zip(metals, axs):\n",
        "    ax.set_title(metal)\n",
        "    for stage in process:\n",
        "        plt_ax = sns.distplot(df_full.loc[:, df_full.columns.str.contains(stage+'_'+metal)].dropna(), label=stage, ax=ax)   \n",
        "plt.legend()"
      ],
      "execution_count": null,
      "outputs": [
        {
          "output_type": "execute_result",
          "data": {
            "text/plain": [
              "<matplotlib.legend.Legend at 0x7fc72c6382d0>"
            ]
          },
          "metadata": {
            "tags": []
          },
          "execution_count": 21
        },
        {
          "output_type": "display_data",
          "data": {
            "image/png": "[encoded data removed]",
            "text/plain": [
              "<Figure size 1296x432 with 3 Axes>"
            ]
          },
          "metadata": {
            "tags": [],
            "needs_background": "light"
          }
        }
      ]
    },
    {
      "cell_type": "markdown",
      "metadata": {
        "id": "Lg4vvhkAz54o"
      },
      "source": [
        "Вывод: однозначно распределения концентраций явно увеличиваются у золота."
      ]
    },
    {
      "cell_type": "markdown",
      "metadata": {
        "id": "Nevbi61fz54p"
      },
      "source": [
        "* ### 2.2 Распределение гранул сырья <a id='2.2'></a> [^](#10)"
      ]
    },
    {
      "cell_type": "markdown",
      "metadata": {
        "id": "jUCY-zFdz54p"
      },
      "source": [
        "Посмотрели как распределяются гранулы сырья на обучающей и тестовой выборке."
      ]
    },
    {
      "cell_type": "code",
      "metadata": {
        "id": "rz0g1XlSz54q",
        "outputId": "08c340d2-3482-4a2d-b0e2-b0bd718f3a59"
      },
      "source": [
        "sns.kdeplot(df_train['rougher.input.feed_size'].dropna(), label='feed_size_train')\n",
        "sns.kdeplot(df_test['rougher.input.feed_size'].dropna(), label='feed_size_test')\n",
        "plt.legend()"
      ],
      "execution_count": null,
      "outputs": [
        {
          "output_type": "execute_result",
          "data": {
            "text/plain": [
              "<matplotlib.legend.Legend at 0x7fc7383f0810>"
            ]
          },
          "metadata": {
            "tags": []
          },
          "execution_count": 22
        },
        {
          "output_type": "display_data",
          "data": {
            "image/png": "[encoded data removed]",
            "text/plain": [
              "<Figure size 432x288 with 1 Axes>"
            ]
          },
          "metadata": {
            "tags": [],
            "needs_background": "light"
          }
        }
      ]
    },
    {
      "cell_type": "markdown",
      "metadata": {
        "id": "5_0Vc4-Zz54r"
      },
      "source": [
        "Мы видим, что распределения очень похожи. Оценка модели должна быть адекватной."
      ]
    },
    {
      "cell_type": "markdown",
      "metadata": {
        "id": "NBD91MXEz54r"
      },
      "source": [
        "* ### 2.3 Суммарная концентрация веществ на разных стадиях <a id='2.3'></a> [^](#10)"
      ]
    },
    {
      "cell_type": "code",
      "metadata": {
        "id": "52xkLgjjz54s",
        "outputId": "2339dcbe-9fa4-4d56-90ab-6147c4699a59"
      },
      "source": [
        "fig, axs = plt.subplots(1, 4, figsize=(18, 6))\n",
        "fig.suptitle('Суммарная концентрация веществ на разных стадиях', fontsize=20)\n",
        "\n",
        "for stage, ax in zip(process, axs):\n",
        "    ax.set_title(stage)\n",
        "    sum_full = df_full[stage+ '_ag'] + df_full[stage+ '_au'] + df_full[stage+ '_pb']\n",
        "    sns.distplot(sum_full.dropna(), label='full', ax=ax)"
      ],
      "execution_count": null,
      "outputs": [
        {
          "output_type": "display_data",
          "data": {
            "image/png": "[encoded data removed]",
            "text/plain": [
              "<Figure size 1296x432 with 4 Axes>"
            ]
          },
          "metadata": {
            "tags": [],
            "needs_background": "light"
          }
        }
      ]
    },
    {
      "cell_type": "markdown",
      "metadata": {
        "id": "CoaHGfwcz54y"
      },
      "source": [
        "Видим, что имеются суммарные выбросы около нуля. Имеет смысл удалить околонулевые значения, так как они не имеют практического значения. "
      ]
    },
    {
      "cell_type": "markdown",
      "metadata": {
        "id": "6RjE5Rhyz54z"
      },
      "source": [
        "### Вывод  \n",
        "\n",
        "- концентрация золота после каждой степени очистки возрастает\n",
        "- распределение гранул в обучающей и тестовой выборке похожи\n",
        "- имеет смысл удалить околонулевые концентрации полезных веществ из-за низкого практического смысла."
      ]
    },
    {
      "cell_type": "code",
      "metadata": {
        "id": "ppqOe8Kpz541"
      },
      "source": [
        "for stage in process:\n",
        "    df_full = df_full.drop(df_full[(df_full[stage+'_ag'] < 1) + (df_full[stage+'_au'] < 1) + (df_full[stage+'_pb'] < 1)].index)"
      ],
      "execution_count": null,
      "outputs": []
    },
    {
      "cell_type": "code",
      "metadata": {
        "id": "sBhvlNx1z542",
        "outputId": "dc388483-4aba-472b-9725-025e7518a311"
      },
      "source": [
        "fig, axs = plt.subplots(1, 4, figsize=(18, 6))\n",
        "fig.suptitle('Суммарная концентрация веществ на разных стадиях после удаления околонулевых выбросов', fontsize=20)\n",
        "\n",
        "for stage, ax in zip(process, axs):\n",
        "    ax.set_title(stage)\n",
        "    sum_full = df_full[stage+ '_ag'] + df_full[stage+ '_au'] + df_full[stage+ '_pb']\n",
        "    sns.distplot(sum_full.dropna(), label='full', ax=ax)"
      ],
      "execution_count": null,
      "outputs": [
        {
          "output_type": "display_data",
          "data": {
            "image/png": "[encoded data removed]",
            "text/plain": [
              "<Figure size 1296x432 with 4 Axes>"
            ]
          },
          "metadata": {
            "tags": [],
            "needs_background": "light"
          }
        }
      ]
    },
    {
      "cell_type": "markdown",
      "metadata": {
        "id": "hIaInRBlz544"
      },
      "source": [
        "***"
      ]
    },
    {
      "cell_type": "markdown",
      "metadata": {
        "id": "y_9u9pk_z545"
      },
      "source": [
        "## 3. Построение модели <a id='3'></a>   [^](#10) "
      ]
    },
    {
      "cell_type": "markdown",
      "metadata": {
        "id": "pFzvYKEDz545"
      },
      "source": [
        "* ### 3.1 Функция для вычисления итоговой sMAPE <a id='3.1'></a> [^](#10)"
      ]
    },
    {
      "cell_type": "markdown",
      "metadata": {
        "id": "uH-cfu13z546"
      },
      "source": [
        "Написали функцию для определения sMAPE."
      ]
    },
    {
      "cell_type": "code",
      "metadata": {
        "id": "f6029aiaz548"
      },
      "source": [
        "def smape(y, y_pred):\n",
        "    y = y.values\n",
        "    result = abs(y - y_pred) / ((abs(y) + abs(y_pred)) / 2)\n",
        "    return 100 * result.mean()"
      ],
      "execution_count": null,
      "outputs": []
    },
    {
      "cell_type": "code",
      "metadata": {
        "id": "CiLd5pycz548"
      },
      "source": [
        "# финальный sMAPE\n",
        "def final_smape(smape_rougher, smape_clear):\n",
        "    result = (0.25 * smape_rougher) + (0.75 * smape_clear)\n",
        "    return result"
      ],
      "execution_count": null,
      "outputs": []
    },
    {
      "cell_type": "markdown",
      "metadata": {
        "id": "9KtPpG4Az549"
      },
      "source": [
        "* ### 3.2 Обучение и проверка модели <a id='3.2'></a> [^](#10)"
      ]
    },
    {
      "cell_type": "markdown",
      "metadata": {
        "id": "m4EGcfY0z54-"
      },
      "source": [
        "Заполнили предварительно пропуски."
      ]
    },
    {
      "cell_type": "markdown",
      "metadata": {
        "id": "cfEZ-6FKz54-"
      },
      "source": [
        "Удалили нулевые значения в целевом признаке."
      ]
    },
    {
      "cell_type": "code",
      "metadata": {
        "scrolled": true,
        "id": "tSUm-ssPz55A"
      },
      "source": [
        "# удаление пропусков в целевом признаке\n",
        "target_train_rougher = target_train_rougher.dropna()\n",
        "target_train_cleaner = target_train_cleaner.dropna()\n",
        "\n",
        "# заполнение пропусков в признаках обучающей выборки\n",
        "features_train_rougher = features_train_rougher.loc[target_train_rougher.index, :]\n",
        "features_train_rougher = features_train_rougher.fillna(method='ffill')\n",
        "features_train_cleaner = features_train_cleaner.loc[target_train_cleaner.index, :]\n",
        "features_train_cleaner = features_train_cleaner.fillna(method='ffill')"
      ],
      "execution_count": null,
      "outputs": []
    },
    {
      "cell_type": "code",
      "metadata": {
        "id": "Jvpa1dzKz55B"
      },
      "source": [
        "# удаление пропусков в целевом признаке\n",
        "target_test_rougher = target_test_rougher.dropna()\n",
        "target_test_cleaner = target_test_cleaner.dropna()\n",
        "\n",
        "# заполнение пропусков в признаках тестовой выборки\n",
        "features_test_rougher = features_test_rougher.loc[target_test_rougher.index, :]\n",
        "features_test_rougher = features_test_rougher.fillna(method='ffill')\n",
        "features_test_cleaner = features_test_cleaner.loc[target_test_cleaner.index, :]\n",
        "features_test_cleaner = features_test_cleaner.fillna(method='ffill')"
      ],
      "execution_count": null,
      "outputs": []
    },
    {
      "cell_type": "code",
      "metadata": {
        "id": "QFLX3uzTz55C",
        "outputId": "aa423887-ff66-4263-ee0c-58dcd6fdf82e"
      },
      "source": [
        "# проверка выборок\n",
        "target_train_rougher.shape, features_train_rougher.shape"
      ],
      "execution_count": null,
      "outputs": [
        {
          "output_type": "execute_result",
          "data": {
            "text/plain": [
              "((14287, 1), (14287, 22))"
            ]
          },
          "metadata": {
            "tags": []
          },
          "execution_count": 30
        }
      ]
    },
    {
      "cell_type": "code",
      "metadata": {
        "id": "h9cXSE-xz55D",
        "outputId": "362aa651-2341-4ff2-b246-b3dff8cd1f7a"
      },
      "source": [
        "target_train_cleaner.shape, features_train_cleaner.shape"
      ],
      "execution_count": null,
      "outputs": [
        {
          "output_type": "execute_result",
          "data": {
            "text/plain": [
              "((15339, 1), (15339, 30))"
            ]
          },
          "metadata": {
            "tags": []
          },
          "execution_count": 31
        }
      ]
    },
    {
      "cell_type": "code",
      "metadata": {
        "id": "h7NEbr8Rz55F",
        "outputId": "3064eec6-39db-4baa-f8ea-f4bd7280af7a"
      },
      "source": [
        "target_test_rougher.shape, features_test_rougher.shape"
      ],
      "execution_count": null,
      "outputs": [
        {
          "output_type": "execute_result",
          "data": {
            "text/plain": [
              "((5310, 1), (5310, 22))"
            ]
          },
          "metadata": {
            "tags": []
          },
          "execution_count": 32
        }
      ]
    },
    {
      "cell_type": "code",
      "metadata": {
        "id": "xJyCFZBQz55G",
        "outputId": "702ba90c-f529-4541-d0d7-3e24a880ce29"
      },
      "source": [
        "target_test_cleaner.shape, features_test_cleaner.shape"
      ],
      "execution_count": null,
      "outputs": [
        {
          "output_type": "execute_result",
          "data": {
            "text/plain": [
              "((5414, 1), (5414, 30))"
            ]
          },
          "metadata": {
            "tags": []
          },
          "execution_count": 33
        }
      ]
    },
    {
      "cell_type": "markdown",
      "metadata": {
        "id": "m6_uuMLhz55H"
      },
      "source": [
        "***"
      ]
    },
    {
      "cell_type": "markdown",
      "metadata": {
        "id": "ah4y91S5z55J"
      },
      "source": [
        "Создали функцию перебора гиперпараметров."
      ]
    },
    {
      "cell_type": "code",
      "metadata": {
        "id": "qBIA2kyzz55K"
      },
      "source": [
        "# функция для оценки качества модели в GridSearch\n",
        "my_scorer = make_scorer(score_func=smape, greater_is_better=False)\n",
        "\n",
        "def grid_search(model, param_grid, cv, features_train, target_train):\n",
        "    grid_model = GridSearchCV(model, param_grid=param_grid, cv=cv, scoring=my_scorer, n_jobs=-1)\n",
        "    grid_model.fit(features_train, target_train)\n",
        "    best_estimator = grid_model.best_estimator_\n",
        "    best_parameters = grid_model.best_params_\n",
        "    best_score = grid_model.best_score_\n",
        "    return best_estimator, best_parameters, best_score"
      ],
      "execution_count": null,
      "outputs": []
    },
    {
      "cell_type": "code",
      "metadata": {
        "id": "fISjqafzz55K"
      },
      "source": [
        "# сетка гиперпараметров линейной регрессии\n",
        "param_grid_reg={'fit_intercept':[True, False],\n",
        "                'normalize':[True, False]}\n",
        "\n",
        "# сетка параметров случайного леса\n",
        "param_grid_forest={'n_estimators':[25, 50],\n",
        "                   'max_depth':[3, 4, 5],\n",
        "                   'max_features': ['auto', 'sqrt']}"
      ],
      "execution_count": null,
      "outputs": []
    },
    {
      "cell_type": "markdown",
      "metadata": {
        "id": "au1Ihk8Rz55L"
      },
      "source": [
        "## Линейная регрессия"
      ]
    },
    {
      "cell_type": "markdown",
      "metadata": {
        "id": "miXu7rJKz55N"
      },
      "source": [
        "### `rougher`"
      ]
    },
    {
      "cell_type": "code",
      "metadata": {
        "id": "_Hoaz_lpz55N",
        "outputId": "e9b8ab00-220b-41ca-9b16-8521c5244d89"
      },
      "source": [
        "# определение лучшей модели после флотации \n",
        "lin_reg = LinearRegression()\n",
        "grid_rougher_reg = grid_search(lin_reg, param_grid_reg, 5, features_train_rougher, target_train_rougher)\n",
        "grid_rougher_reg"
      ],
      "execution_count": null,
      "outputs": [
        {
          "output_type": "execute_result",
          "data": {
            "text/plain": [
              "(LinearRegression(copy_X=True, fit_intercept=True, n_jobs=None, normalize=True),\n",
              " {'fit_intercept': True, 'normalize': True},\n",
              " -12.49635431300769)"
            ]
          },
          "metadata": {
            "tags": []
          },
          "execution_count": 36
        }
      ]
    },
    {
      "cell_type": "code",
      "metadata": {
        "id": "32zDjp-Jz55O",
        "outputId": "8cc2b406-81b7-4f2c-c01a-bf609f9f6ac7"
      },
      "source": [
        "# определение smape rougher\n",
        "pred_rougher_reg = grid_rougher_reg[0].predict(features_test_rougher)\n",
        "smape_rougher_reg = smape(target_test_rougher, pred_rougher_reg)\n",
        "smape_rougher_reg"
      ],
      "execution_count": null,
      "outputs": [
        {
          "output_type": "execute_result",
          "data": {
            "text/plain": [
              "16.47241308963873"
            ]
          },
          "metadata": {
            "tags": []
          },
          "execution_count": 37
        }
      ]
    },
    {
      "cell_type": "markdown",
      "metadata": {
        "id": "ew4QbgDyz55Q"
      },
      "source": [
        "### `cleaner`"
      ]
    },
    {
      "cell_type": "code",
      "metadata": {
        "id": "NeNDMB5Dz55R",
        "outputId": "67d83670-7160-4d5b-f8a6-b18a39ef1823"
      },
      "source": [
        "# определение лучшей модели после финальной очистки\n",
        "grid_cleaner_reg = grid_search(lin_reg, param_grid_reg, 5, features_train_cleaner, target_train_cleaner)\n",
        "grid_cleaner_reg"
      ],
      "execution_count": null,
      "outputs": [
        {
          "output_type": "execute_result",
          "data": {
            "text/plain": [
              "(LinearRegression(copy_X=True, fit_intercept=True, n_jobs=None, normalize=False),\n",
              " {'fit_intercept': True, 'normalize': False},\n",
              " -12.909515011247407)"
            ]
          },
          "metadata": {
            "tags": []
          },
          "execution_count": 38
        }
      ]
    },
    {
      "cell_type": "code",
      "metadata": {
        "id": "d5BftXQPz55T",
        "outputId": "bfb9b20d-1644-4155-b7c1-2ec020367cba"
      },
      "source": [
        "# определение smape cleaner\n",
        "pred_cleaner_reg = grid_cleaner_reg[0].predict(features_test_cleaner)\n",
        "smape_cleaner_reg = smape(target_test_cleaner, pred_cleaner_reg)\n",
        "smape_cleaner_reg"
      ],
      "execution_count": null,
      "outputs": [
        {
          "output_type": "execute_result",
          "data": {
            "text/plain": [
              "13.342064769892026"
            ]
          },
          "metadata": {
            "tags": []
          },
          "execution_count": 39
        }
      ]
    },
    {
      "cell_type": "code",
      "metadata": {
        "id": "eQ6h5onZz55U",
        "outputId": "0f19cad9-1cff-4e79-96bb-1563cfe31392"
      },
      "source": [
        "# финальный smape\n",
        "final_reg = final_smape(smape_rougher_reg, smape_cleaner_reg)\n",
        "final_reg"
      ],
      "execution_count": null,
      "outputs": [
        {
          "output_type": "execute_result",
          "data": {
            "text/plain": [
              "14.124651849828702"
            ]
          },
          "metadata": {
            "tags": []
          },
          "execution_count": 40
        }
      ]
    },
    {
      "cell_type": "markdown",
      "metadata": {
        "id": "giRy_sAYz55W"
      },
      "source": [
        "## Случайный лес"
      ]
    },
    {
      "cell_type": "markdown",
      "metadata": {
        "id": "8RBvx1pbz55X"
      },
      "source": [
        "### `rougher`"
      ]
    },
    {
      "cell_type": "code",
      "metadata": {
        "scrolled": true,
        "id": "f9lHO-w0z55X",
        "outputId": "36536561-f438-4248-d954-8b3324e01c2c"
      },
      "source": [
        "# определение лучшей модели после флотации \n",
        "rfr = RandomForestRegressor(random_state=12345)\n",
        "grid_rougher_forest = grid_search(rfr, param_grid_forest, 5, features_train_rougher, target_train_rougher)\n",
        "grid_rougher_forest"
      ],
      "execution_count": null,
      "outputs": [
        {
          "output_type": "execute_result",
          "data": {
            "text/plain": [
              "(RandomForestRegressor(bootstrap=True, criterion='mse', max_depth=3,\n",
              "                       max_features='auto', max_leaf_nodes=None,\n",
              "                       min_impurity_decrease=0.0, min_impurity_split=None,\n",
              "                       min_samples_leaf=1, min_samples_split=2,\n",
              "                       min_weight_fraction_leaf=0.0, n_estimators=25,\n",
              "                       n_jobs=None, oob_score=False, random_state=12345,\n",
              "                       verbose=0, warm_start=False),\n",
              " {'max_depth': 3, 'max_features': 'auto', 'n_estimators': 25},\n",
              " -12.302188005105824)"
            ]
          },
          "metadata": {
            "tags": []
          },
          "execution_count": 41
        }
      ]
    },
    {
      "cell_type": "code",
      "metadata": {
        "id": "bzF-22rJz55Y",
        "outputId": "e3796393-aa29-42ac-ada7-55a6c5d72f35"
      },
      "source": [
        "# определение smape rougher\n",
        "pred_rougher_forest = grid_rougher_forest[0].predict(features_test_rougher)\n",
        "smape_rougher_forest = smape(target_test_rougher, pred_rougher_forest)\n",
        "smape_rougher_forest "
      ],
      "execution_count": null,
      "outputs": [
        {
          "output_type": "execute_result",
          "data": {
            "text/plain": [
              "12.686170496400429"
            ]
          },
          "metadata": {
            "tags": []
          },
          "execution_count": 42
        }
      ]
    },
    {
      "cell_type": "markdown",
      "metadata": {
        "id": "FqzKlgxtz55a"
      },
      "source": [
        "### `cleaner`"
      ]
    },
    {
      "cell_type": "code",
      "metadata": {
        "scrolled": true,
        "id": "1f8LexWNz55b",
        "outputId": "9c5c6d49-deee-4a6b-e9bf-68350a6b78e9"
      },
      "source": [
        "# определение лучшей модели после финальной очистки\n",
        "grid_cleaner_forest = grid_search(rfr, param_grid_forest, 5, features_train_cleaner, target_train_cleaner)\n",
        "grid_cleaner_forest"
      ],
      "execution_count": null,
      "outputs": [
        {
          "output_type": "execute_result",
          "data": {
            "text/plain": [
              "(RandomForestRegressor(bootstrap=True, criterion='mse', max_depth=3,\n",
              "                       max_features='sqrt', max_leaf_nodes=None,\n",
              "                       min_impurity_decrease=0.0, min_impurity_split=None,\n",
              "                       min_samples_leaf=1, min_samples_split=2,\n",
              "                       min_weight_fraction_leaf=0.0, n_estimators=25,\n",
              "                       n_jobs=None, oob_score=False, random_state=12345,\n",
              "                       verbose=0, warm_start=False),\n",
              " {'max_depth': 3, 'max_features': 'sqrt', 'n_estimators': 25},\n",
              " -12.338027896633337)"
            ]
          },
          "metadata": {
            "tags": []
          },
          "execution_count": 43
        }
      ]
    },
    {
      "cell_type": "code",
      "metadata": {
        "id": "dKq4qg3dz55c",
        "outputId": "d932692a-c956-4133-bf81-6ee47bf7b644"
      },
      "source": [
        "# определение smape cleaner\n",
        "pred_cleaner_forest = grid_cleaner_forest[0].predict(features_test_cleaner)\n",
        "smape_cleaner_forest = smape(target_test_cleaner, pred_cleaner_forest)\n",
        "smape_cleaner_forest"
      ],
      "execution_count": null,
      "outputs": [
        {
          "output_type": "execute_result",
          "data": {
            "text/plain": [
              "14.12406502764964"
            ]
          },
          "metadata": {
            "tags": []
          },
          "execution_count": 44
        }
      ]
    },
    {
      "cell_type": "code",
      "metadata": {
        "id": "4V9chuwNz55e",
        "outputId": "ab3e8009-814b-4ca6-a9c4-54d4963f4d6a"
      },
      "source": [
        "# финальный smape\n",
        "final_forest = final_smape(smape_rougher_forest, smape_cleaner_forest)\n",
        "final_forest"
      ],
      "execution_count": null,
      "outputs": [
        {
          "output_type": "execute_result",
          "data": {
            "text/plain": [
              "13.764591394837337"
            ]
          },
          "metadata": {
            "tags": []
          },
          "execution_count": 45
        }
      ]
    },
    {
      "cell_type": "markdown",
      "metadata": {
        "id": "bYB-ghMpz55f"
      },
      "source": [
        "### Вывод  \n",
        "\n",
        "Мы обучили линейную регрессия и случайный лес и нашли по сетке гиперпараметров лучшие модели, максимизирующие отрицательный smape. Также проверили на тестовой выборке их качество. Так как итоговый sMAPE случайного леса (13,764) оказался меньше, чем у линейной регрессии (14,125), то лучшей моделью является RandomForestRegressor."
      ]
    }
  ]
}
