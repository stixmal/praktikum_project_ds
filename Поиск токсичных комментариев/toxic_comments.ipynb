{
  "nbformat": 4,
  "nbformat_minor": 0,
  "metadata": {
    "ExecuteTimeLog": [
      {
        "duration": 1516,
        "start_time": "2021-06-25T16:52:35.621Z"
      },
      {
        "duration": 768,
        "start_time": "2021-06-25T16:52:37.139Z"
      },
      {
        "duration": 4,
        "start_time": "2021-06-25T16:52:37.910Z"
      },
      {
        "duration": 9,
        "start_time": "2021-06-25T16:52:37.917Z"
      },
      {
        "duration": 134865,
        "start_time": "2021-06-25T16:52:37.928Z"
      },
      {
        "duration": 17,
        "start_time": "2021-06-25T16:54:52.795Z"
      },
      {
        "duration": 14,
        "start_time": "2021-06-25T16:54:52.814Z"
      },
      {
        "duration": 60,
        "start_time": "2021-06-25T16:54:52.831Z"
      },
      {
        "duration": 5,
        "start_time": "2021-06-25T16:54:52.894Z"
      },
      {
        "duration": 9,
        "start_time": "2021-06-25T16:54:52.901Z"
      },
      {
        "duration": 2872,
        "start_time": "2021-06-25T16:54:52.912Z"
      },
      {
        "duration": 7,
        "start_time": "2021-06-25T16:54:55.787Z"
      },
      {
        "duration": 13560,
        "start_time": "2021-06-25T16:54:55.796Z"
      },
      {
        "duration": 14,
        "start_time": "2021-06-25T16:55:09.358Z"
      },
      {
        "duration": 6,
        "start_time": "2021-06-25T16:55:09.375Z"
      },
      {
        "duration": 14140,
        "start_time": "2021-06-25T16:55:09.383Z"
      },
      {
        "duration": 18,
        "start_time": "2021-06-25T16:55:23.526Z"
      },
      {
        "duration": 21,
        "start_time": "2021-06-25T16:55:23.547Z"
      },
      {
        "duration": 74483,
        "start_time": "2021-06-25T16:55:23.570Z"
      },
      {
        "duration": 25,
        "start_time": "2021-06-25T16:56:38.056Z"
      },
      {
        "duration": 3,
        "start_time": "2021-06-25T16:56:38.083Z"
      },
      {
        "duration": 327,
        "start_time": "2021-06-25T16:58:27.994Z"
      },
      {
        "duration": 1624,
        "start_time": "2021-06-25T16:58:44.240Z"
      },
      {
        "duration": 811,
        "start_time": "2021-06-25T16:58:45.868Z"
      },
      {
        "duration": 5,
        "start_time": "2021-06-25T16:58:46.682Z"
      },
      {
        "duration": 8,
        "start_time": "2021-06-25T16:58:46.689Z"
      },
      {
        "duration": 137158,
        "start_time": "2021-06-25T16:58:46.699Z"
      },
      {
        "duration": 20,
        "start_time": "2021-06-25T17:01:03.861Z"
      },
      {
        "duration": 8,
        "start_time": "2021-06-25T17:01:03.883Z"
      },
      {
        "duration": 44,
        "start_time": "2021-06-25T17:01:03.893Z"
      },
      {
        "duration": 29,
        "start_time": "2021-06-25T17:01:03.939Z"
      },
      {
        "duration": 5,
        "start_time": "2021-06-25T17:01:03.970Z"
      },
      {
        "duration": 2833,
        "start_time": "2021-06-25T17:01:03.977Z"
      },
      {
        "duration": 8,
        "start_time": "2021-06-25T17:01:06.812Z"
      },
      {
        "duration": 13715,
        "start_time": "2021-06-25T17:01:06.823Z"
      },
      {
        "duration": 9,
        "start_time": "2021-06-25T17:01:20.540Z"
      },
      {
        "duration": 18,
        "start_time": "2021-06-25T17:01:20.552Z"
      },
      {
        "duration": 14158,
        "start_time": "2021-06-25T17:01:20.573Z"
      },
      {
        "duration": 35,
        "start_time": "2021-06-25T17:01:34.733Z"
      },
      {
        "duration": 4,
        "start_time": "2021-06-25T17:01:34.773Z"
      },
      {
        "duration": 75806,
        "start_time": "2021-06-25T17:01:34.779Z"
      },
      {
        "duration": 19,
        "start_time": "2021-06-25T17:02:50.587Z"
      },
      {
        "duration": 4,
        "start_time": "2021-06-25T17:02:50.609Z"
      },
      {
        "duration": 1550,
        "start_time": "2021-06-25T17:40:47.710Z"
      },
      {
        "duration": 780,
        "start_time": "2021-06-25T17:40:49.263Z"
      },
      {
        "duration": 5,
        "start_time": "2021-06-25T17:40:50.045Z"
      },
      {
        "duration": 18,
        "start_time": "2021-06-25T17:40:50.052Z"
      },
      {
        "duration": 137310,
        "start_time": "2021-06-25T17:40:50.073Z"
      },
      {
        "duration": 17,
        "start_time": "2021-06-25T17:43:07.386Z"
      },
      {
        "duration": 6,
        "start_time": "2021-06-25T17:43:07.406Z"
      },
      {
        "duration": 65,
        "start_time": "2021-06-25T17:43:07.416Z"
      },
      {
        "duration": 5,
        "start_time": "2021-06-25T17:43:07.485Z"
      },
      {
        "duration": 7,
        "start_time": "2021-06-25T17:43:07.493Z"
      },
      {
        "duration": 2820,
        "start_time": "2021-06-25T17:43:07.502Z"
      },
      {
        "duration": 5,
        "start_time": "2021-06-25T17:43:10.324Z"
      },
      {
        "duration": 13608,
        "start_time": "2021-06-25T17:43:10.331Z"
      },
      {
        "duration": 10,
        "start_time": "2021-06-25T17:43:23.941Z"
      },
      {
        "duration": 16,
        "start_time": "2021-06-25T17:43:23.954Z"
      },
      {
        "duration": 14155,
        "start_time": "2021-06-25T17:43:23.972Z"
      },
      {
        "duration": 19,
        "start_time": "2021-06-25T17:43:38.129Z"
      },
      {
        "duration": 18,
        "start_time": "2021-06-25T17:43:38.150Z"
      },
      {
        "duration": 75600,
        "start_time": "2021-06-25T17:43:38.170Z"
      },
      {
        "duration": 17,
        "start_time": "2021-06-25T17:44:53.773Z"
      },
      {
        "duration": 4,
        "start_time": "2021-06-25T17:44:53.792Z"
      },
      {
        "duration": 32291,
        "start_time": "2021-06-25T17:44:53.798Z"
      },
      {
        "duration": 20,
        "start_time": "2021-06-25T17:45:26.095Z"
      }
    ],
    "kernelspec": {
      "display_name": "Python 3",
      "language": "python",
      "name": "python3"
    },
    "language_info": {
      "codemirror_mode": {
        "name": "ipython",
        "version": 3
      },
      "file_extension": ".py",
      "mimetype": "text/x-python",
      "name": "python",
      "nbconvert_exporter": "python",
      "pygments_lexer": "ipython3",
      "version": "3.7.8"
    },
    "toc": {
      "base_numbering": 1,
      "nav_menu": {
        "height": "121px",
        "width": "274px"
      },
      "number_sections": false,
      "sideBar": true,
      "skip_h1_title": true,
      "title_cell": "Table of Contents",
      "title_sidebar": "Содержание",
      "toc_cell": false,
      "toc_position": {
        "height": "calc(100% - 180px)",
        "left": "10px",
        "top": "150px",
        "width": "197px"
      },
      "toc_section_display": true,
      "toc_window_display": false
    },
    "colab": {
      "name": "toxic_comments_12.ipynb",
      "provenance": [],
      "include_colab_link": true
    }
  },
  "cells": [
    {
      "cell_type": "markdown",
      "metadata": {
        "id": "view-in-github",
        "colab_type": "text"
      },
      "source": [
        "<a href=\"https://colab.research.google.com/github/stixmal/praktikum_project_ds/blob/main/%D0%9E%D0%BF%D1%80%D0%B5%D0%B4%D0%B5%D0%BB%D0%B5%D0%BD%D0%B8%D0%B5%20%D1%82%D0%BE%D0%BA%D1%81%D0%B8%D1%87%D0%BD%D1%8B%D1%85%20%D0%BA%D0%BE%D0%BC%D0%BC%D0%B5%D0%BD%D1%82%D0%B0%D1%80%D0%B8%D0%B5%D0%B2/toxic_comments.ipynb\" target=\"_parent\"><img src=\"https://colab.research.google.com/assets/colab-badge.svg\" alt=\"Open In Colab\"/></a>"
      ]
    },
    {
      "cell_type": "markdown",
      "metadata": {
        "id": "pNr46IZ8l7Yz"
      },
      "source": [
        "# Проект для «Викишоп»\n",
        "\n",
        "Интернет-магазин «Викишоп» запускает новый сервис. Теперь пользователи могут редактировать и дополнять описания товаров, как в вики-сообществах. То есть клиенты предлагают свои правки и комментируют изменения других. Магазину нужен инструмент, который будет искать токсичные комментарии и отправлять их на модерацию. \n",
        "\n",
        "Обучим модель классифицировать комментарии на позитивные и негативные. В нашем распоряжении набор данных с разметкой о токсичности правок.\n",
        "\n",
        "Построили модель со значением метрики качества *F1* не меньше 0.75. \n",
        "\n",
        "\n",
        "**Описание данных**\n",
        "\n",
        "Данные находятся в файле `toxic_comments.csv`. Столбец *`text`* - в нём содержит текст комментария, а *`toxic`* — целевой признак.\n",
        "***"
      ]
    },
    {
      "cell_type": "markdown",
      "metadata": {
        "id": "ru1Ta40Dl7Y8"
      },
      "source": [
        "## 1. Подготовка данных"
      ]
    },
    {
      "cell_type": "code",
      "metadata": {
        "id": "gcYYCyG9l7Y-"
      },
      "source": [
        "# импорт библиотеки pandas и numpy\n",
        "import pandas as pd \n",
        "import numpy as np  \n",
        "\n",
        "# импорт модуля display\n",
        "from IPython.display import display  \n",
        "\n",
        "# отключение предупреждений\n",
        "import warnings\n",
        "warnings.filterwarnings('ignore') \n",
        "\n",
        "# импорт лемматизатора\n",
        "import re\n",
        "import nltk\n",
        "from nltk.corpus import wordnet\n",
        "from nltk.stem import WordNetLemmatizer \n",
        "\n",
        "# импорт модуля разделения на выборки\n",
        "from sklearn.model_selection import train_test_split\n",
        "\n",
        "# счётчик величин TF-IDF\n",
        "from sklearn.feature_extraction.text import TfidfVectorizer\n",
        "\n",
        "# инструментарий естественного языка - стоп-слова\n",
        "from nltk.corpus import stopwords\n",
        "\n",
        "# импорт модели логистической регрессии\n",
        "from sklearn.linear_model import LogisticRegression\n",
        "\n",
        "# импорт модели случайного леса\n",
        "from sklearn.ensemble import RandomForestClassifier\n",
        "\n",
        "# импорт модели градиентного бустинга\n",
        "import lightgbm as lgb\n",
        "\n",
        "# импорт метрик\n",
        "from sklearn.metrics import f1_score"
      ],
      "execution_count": null,
      "outputs": []
    },
    {
      "cell_type": "code",
      "metadata": {
        "id": "YY1rTE1Ml7ZB",
        "outputId": "b21fb172-acb5-4301-ff8a-84e3f2efbe2b"
      },
      "source": [
        "# чтение файла с данными\n",
        "df = pd.read_csv('/datasets/toxic_comments.csv')\n",
        "\n",
        "# визуальный осмотр  \n",
        "df"
      ],
      "execution_count": null,
      "outputs": [
        {
          "output_type": "execute_result",
          "data": {
            "text/html": [
              "<div>\n",
              "<style scoped>\n",
              "    .dataframe tbody tr th:only-of-type {\n",
              "        vertical-align: middle;\n",
              "    }\n",
              "\n",
              "    .dataframe tbody tr th {\n",
              "        vertical-align: top;\n",
              "    }\n",
              "\n",
              "    .dataframe thead th {\n",
              "        text-align: right;\n",
              "    }\n",
              "</style>\n",
              "<table border=\"1\" class=\"dataframe\">\n",
              "  <thead>\n",
              "    <tr style=\"text-align: right;\">\n",
              "      <th></th>\n",
              "      <th>text</th>\n",
              "      <th>toxic</th>\n",
              "    </tr>\n",
              "  </thead>\n",
              "  <tbody>\n",
              "    <tr>\n",
              "      <td>0</td>\n",
              "      <td>Explanation\\nWhy the edits made under my usern...</td>\n",
              "      <td>0</td>\n",
              "    </tr>\n",
              "    <tr>\n",
              "      <td>1</td>\n",
              "      <td>D'aww! He matches this background colour I'm s...</td>\n",
              "      <td>0</td>\n",
              "    </tr>\n",
              "    <tr>\n",
              "      <td>2</td>\n",
              "      <td>Hey man, I'm really not trying to edit war. It...</td>\n",
              "      <td>0</td>\n",
              "    </tr>\n",
              "    <tr>\n",
              "      <td>3</td>\n",
              "      <td>\"\\nMore\\nI can't make any real suggestions on ...</td>\n",
              "      <td>0</td>\n",
              "    </tr>\n",
              "    <tr>\n",
              "      <td>4</td>\n",
              "      <td>You, sir, are my hero. Any chance you remember...</td>\n",
              "      <td>0</td>\n",
              "    </tr>\n",
              "    <tr>\n",
              "      <td>...</td>\n",
              "      <td>...</td>\n",
              "      <td>...</td>\n",
              "    </tr>\n",
              "    <tr>\n",
              "      <td>159566</td>\n",
              "      <td>\":::::And for the second time of asking, when ...</td>\n",
              "      <td>0</td>\n",
              "    </tr>\n",
              "    <tr>\n",
              "      <td>159567</td>\n",
              "      <td>You should be ashamed of yourself \\n\\nThat is ...</td>\n",
              "      <td>0</td>\n",
              "    </tr>\n",
              "    <tr>\n",
              "      <td>159568</td>\n",
              "      <td>Spitzer \\n\\nUmm, theres no actual article for ...</td>\n",
              "      <td>0</td>\n",
              "    </tr>\n",
              "    <tr>\n",
              "      <td>159569</td>\n",
              "      <td>And it looks like it was actually you who put ...</td>\n",
              "      <td>0</td>\n",
              "    </tr>\n",
              "    <tr>\n",
              "      <td>159570</td>\n",
              "      <td>\"\\nAnd ... I really don't think you understand...</td>\n",
              "      <td>0</td>\n",
              "    </tr>\n",
              "  </tbody>\n",
              "</table>\n",
              "<p>159571 rows × 2 columns</p>\n",
              "</div>"
            ],
            "text/plain": [
              "                                                     text  toxic\n",
              "0       Explanation\\nWhy the edits made under my usern...      0\n",
              "1       D'aww! He matches this background colour I'm s...      0\n",
              "2       Hey man, I'm really not trying to edit war. It...      0\n",
              "3       \"\\nMore\\nI can't make any real suggestions on ...      0\n",
              "4       You, sir, are my hero. Any chance you remember...      0\n",
              "...                                                   ...    ...\n",
              "159566  \":::::And for the second time of asking, when ...      0\n",
              "159567  You should be ashamed of yourself \\n\\nThat is ...      0\n",
              "159568  Spitzer \\n\\nUmm, theres no actual article for ...      0\n",
              "159569  And it looks like it was actually you who put ...      0\n",
              "159570  \"\\nAnd ... I really don't think you understand...      0\n",
              "\n",
              "[159571 rows x 2 columns]"
            ]
          },
          "metadata": {
            "tags": []
          },
          "execution_count": 2
        }
      ]
    },
    {
      "cell_type": "code",
      "metadata": {
        "id": "wVKZxEKSl7ZE"
      },
      "source": [
        "# функция для лемматизации текста\n",
        "lem = WordNetLemmatizer()\n",
        "def lemmatize(text):\n",
        "    word_list = nltk.word_tokenize(text)\n",
        "    lemm_text = ' '.join([lem.lemmatize(w) for w in word_list])\n",
        "        \n",
        "    return lemm_text"
      ],
      "execution_count": null,
      "outputs": []
    },
    {
      "cell_type": "code",
      "metadata": {
        "id": "8Sphj0D9l7ZF"
      },
      "source": [
        "# функция для очистки текста\n",
        "def clear_text(text):\n",
        "    eng_text = re.sub(r'[^a-zA-Z ]', ' ', text)\n",
        "    clear_text = \" \".join(eng_text.split())\n",
        "    \n",
        "    return clear_text"
      ],
      "execution_count": null,
      "outputs": []
    },
    {
      "cell_type": "code",
      "metadata": {
        "id": "fpUEvlhDl7ZG"
      },
      "source": [
        "# лемматизированный текст\n",
        "df['lemm_text'] = df['text'].apply(lambda i: lemmatize(clear_text(i)))"
      ],
      "execution_count": null,
      "outputs": []
    },
    {
      "cell_type": "code",
      "metadata": {
        "id": "JAW4tL3Ml7ZH",
        "outputId": "efd462f2-c4d4-4ff5-adf8-e81bfb127c68"
      },
      "source": [
        "df"
      ],
      "execution_count": null,
      "outputs": [
        {
          "output_type": "execute_result",
          "data": {
            "text/html": [
              "<div>\n",
              "<style scoped>\n",
              "    .dataframe tbody tr th:only-of-type {\n",
              "        vertical-align: middle;\n",
              "    }\n",
              "\n",
              "    .dataframe tbody tr th {\n",
              "        vertical-align: top;\n",
              "    }\n",
              "\n",
              "    .dataframe thead th {\n",
              "        text-align: right;\n",
              "    }\n",
              "</style>\n",
              "<table border=\"1\" class=\"dataframe\">\n",
              "  <thead>\n",
              "    <tr style=\"text-align: right;\">\n",
              "      <th></th>\n",
              "      <th>text</th>\n",
              "      <th>toxic</th>\n",
              "      <th>lemm_text</th>\n",
              "    </tr>\n",
              "  </thead>\n",
              "  <tbody>\n",
              "    <tr>\n",
              "      <td>0</td>\n",
              "      <td>Explanation\\nWhy the edits made under my usern...</td>\n",
              "      <td>0</td>\n",
              "      <td>Explanation Why the edits made under my userna...</td>\n",
              "    </tr>\n",
              "    <tr>\n",
              "      <td>1</td>\n",
              "      <td>D'aww! He matches this background colour I'm s...</td>\n",
              "      <td>0</td>\n",
              "      <td>D aww He match this background colour I m seem...</td>\n",
              "    </tr>\n",
              "    <tr>\n",
              "      <td>2</td>\n",
              "      <td>Hey man, I'm really not trying to edit war. It...</td>\n",
              "      <td>0</td>\n",
              "      <td>Hey man I m really not trying to edit war It s...</td>\n",
              "    </tr>\n",
              "    <tr>\n",
              "      <td>3</td>\n",
              "      <td>\"\\nMore\\nI can't make any real suggestions on ...</td>\n",
              "      <td>0</td>\n",
              "      <td>More I can t make any real suggestion on impro...</td>\n",
              "    </tr>\n",
              "    <tr>\n",
              "      <td>4</td>\n",
              "      <td>You, sir, are my hero. Any chance you remember...</td>\n",
              "      <td>0</td>\n",
              "      <td>You sir are my hero Any chance you remember wh...</td>\n",
              "    </tr>\n",
              "    <tr>\n",
              "      <td>...</td>\n",
              "      <td>...</td>\n",
              "      <td>...</td>\n",
              "      <td>...</td>\n",
              "    </tr>\n",
              "    <tr>\n",
              "      <td>159566</td>\n",
              "      <td>\":::::And for the second time of asking, when ...</td>\n",
              "      <td>0</td>\n",
              "      <td>And for the second time of asking when your vi...</td>\n",
              "    </tr>\n",
              "    <tr>\n",
              "      <td>159567</td>\n",
              "      <td>You should be ashamed of yourself \\n\\nThat is ...</td>\n",
              "      <td>0</td>\n",
              "      <td>You should be ashamed of yourself That is a ho...</td>\n",
              "    </tr>\n",
              "    <tr>\n",
              "      <td>159568</td>\n",
              "      <td>Spitzer \\n\\nUmm, theres no actual article for ...</td>\n",
              "      <td>0</td>\n",
              "      <td>Spitzer Umm there no actual article for prosti...</td>\n",
              "    </tr>\n",
              "    <tr>\n",
              "      <td>159569</td>\n",
              "      <td>And it looks like it was actually you who put ...</td>\n",
              "      <td>0</td>\n",
              "      <td>And it look like it wa actually you who put on...</td>\n",
              "    </tr>\n",
              "    <tr>\n",
              "      <td>159570</td>\n",
              "      <td>\"\\nAnd ... I really don't think you understand...</td>\n",
              "      <td>0</td>\n",
              "      <td>And I really don t think you understand I came...</td>\n",
              "    </tr>\n",
              "  </tbody>\n",
              "</table>\n",
              "<p>159571 rows × 3 columns</p>\n",
              "</div>"
            ],
            "text/plain": [
              "                                                     text  toxic  \\\n",
              "0       Explanation\\nWhy the edits made under my usern...      0   \n",
              "1       D'aww! He matches this background colour I'm s...      0   \n",
              "2       Hey man, I'm really not trying to edit war. It...      0   \n",
              "3       \"\\nMore\\nI can't make any real suggestions on ...      0   \n",
              "4       You, sir, are my hero. Any chance you remember...      0   \n",
              "...                                                   ...    ...   \n",
              "159566  \":::::And for the second time of asking, when ...      0   \n",
              "159567  You should be ashamed of yourself \\n\\nThat is ...      0   \n",
              "159568  Spitzer \\n\\nUmm, theres no actual article for ...      0   \n",
              "159569  And it looks like it was actually you who put ...      0   \n",
              "159570  \"\\nAnd ... I really don't think you understand...      0   \n",
              "\n",
              "                                                lemm_text  \n",
              "0       Explanation Why the edits made under my userna...  \n",
              "1       D aww He match this background colour I m seem...  \n",
              "2       Hey man I m really not trying to edit war It s...  \n",
              "3       More I can t make any real suggestion on impro...  \n",
              "4       You sir are my hero Any chance you remember wh...  \n",
              "...                                                   ...  \n",
              "159566  And for the second time of asking when your vi...  \n",
              "159567  You should be ashamed of yourself That is a ho...  \n",
              "159568  Spitzer Umm there no actual article for prosti...  \n",
              "159569  And it look like it wa actually you who put on...  \n",
              "159570  And I really don t think you understand I came...  \n",
              "\n",
              "[159571 rows x 3 columns]"
            ]
          },
          "metadata": {
            "tags": []
          },
          "execution_count": 6
        }
      ]
    },
    {
      "cell_type": "markdown",
      "metadata": {
        "id": "_gRlsJA0l7ZJ"
      },
      "source": [
        "Разделили на признаки."
      ]
    },
    {
      "cell_type": "code",
      "metadata": {
        "id": "1r4GY35Rl7ZK"
      },
      "source": [
        "X = df['lemm_text']\n",
        "y = df['toxic']"
      ],
      "execution_count": null,
      "outputs": []
    },
    {
      "cell_type": "markdown",
      "metadata": {
        "id": "ZksERLiVl7ZL"
      },
      "source": [
        "Разделили на выборки train и test."
      ]
    },
    {
      "cell_type": "code",
      "metadata": {
        "id": "DY5NmREkl7ZM"
      },
      "source": [
        "# раздел на 75 % обучающей и 25 % тестовой выборки\n",
        "X_train, X_test, y_train, y_test = train_test_split(X, y, test_size=0.25, random_state=12345)"
      ],
      "execution_count": null,
      "outputs": []
    },
    {
      "cell_type": "markdown",
      "metadata": {
        "id": "e-_Tn0rDl7ZN"
      },
      "source": [
        "Проконтролировали размер выборок."
      ]
    },
    {
      "cell_type": "code",
      "metadata": {
        "id": "zv_zBX_Cl7ZO",
        "outputId": "05f52198-1231-4a66-c133-48dad1ba883c"
      },
      "source": [
        "X_train.shape, y_train.shape"
      ],
      "execution_count": null,
      "outputs": [
        {
          "output_type": "execute_result",
          "data": {
            "text/plain": [
              "((119678,), (119678,))"
            ]
          },
          "metadata": {
            "tags": []
          },
          "execution_count": 9
        }
      ]
    },
    {
      "cell_type": "code",
      "metadata": {
        "id": "b7uOMFaml7ZP",
        "outputId": "f61253bb-5ed6-47a8-8412-54446c289a71"
      },
      "source": [
        "X_test.shape, y_test.shape"
      ],
      "execution_count": null,
      "outputs": [
        {
          "output_type": "execute_result",
          "data": {
            "text/plain": [
              "((39893,), (39893,))"
            ]
          },
          "metadata": {
            "tags": []
          },
          "execution_count": 10
        }
      ]
    },
    {
      "cell_type": "markdown",
      "metadata": {
        "id": "BiPAAlCal7ZQ"
      },
      "source": [
        "***"
      ]
    },
    {
      "cell_type": "markdown",
      "metadata": {
        "id": "60Y2arTll7ZQ"
      },
      "source": [
        "Вычислили TF-IDF для корпуса текстов."
      ]
    },
    {
      "cell_type": "code",
      "metadata": {
        "id": "_mzcuCwPl7ZR"
      },
      "source": [
        "corpus_train = X_train.values.astype('U')\n",
        "corpus_test = X_test.values.astype('U')"
      ],
      "execution_count": null,
      "outputs": []
    },
    {
      "cell_type": "markdown",
      "metadata": {
        "id": "2tmWIfayl7ZS"
      },
      "source": [
        "Cоздали счётчик, указав в нём стоп-слова."
      ]
    },
    {
      "cell_type": "code",
      "metadata": {
        "id": "4mLD2pOkl7ZS"
      },
      "source": [
        "stopwords = stopwords.words('english')\n",
        "\n",
        "count_tf_idf = TfidfVectorizer(stop_words=stopwords)"
      ],
      "execution_count": null,
      "outputs": []
    },
    {
      "cell_type": "markdown",
      "metadata": {
        "id": "EZdi29KWl7ZT"
      },
      "source": [
        "Чтобы посчитать TF-IDF для корпуса текстов, вызвали функцию fit_transform()."
      ]
    },
    {
      "cell_type": "code",
      "metadata": {
        "id": "JSnemZ7zl7ZU"
      },
      "source": [
        "tf_idf_train = count_tf_idf.fit_transform(corpus_train)\n",
        "tf_idf_test = count_tf_idf.transform(corpus_test)"
      ],
      "execution_count": null,
      "outputs": []
    },
    {
      "cell_type": "code",
      "metadata": {
        "id": "yqvOmszFl7ZU"
      },
      "source": [
        "# признаки и ответы\n",
        "y_train = y_train.values\n",
        "X_train = tf_idf_train\n",
        "\n",
        "y_test = y_test.values\n",
        "X_test = tf_idf_test"
      ],
      "execution_count": null,
      "outputs": []
    },
    {
      "cell_type": "markdown",
      "metadata": {
        "id": "_nLyIBQul7ZV"
      },
      "source": [
        "## 2. Обучение"
      ]
    },
    {
      "cell_type": "markdown",
      "metadata": {
        "id": "ic4mPRMZl7ZW"
      },
      "source": [
        "### 2.1 Логистическая регрессия"
      ]
    },
    {
      "cell_type": "code",
      "metadata": {
        "id": "O_v9_mxtl7ZW"
      },
      "source": [
        "log_reg = LogisticRegression(class_weight='balanced', n_jobs=-1, random_state=12345)"
      ],
      "execution_count": null,
      "outputs": []
    },
    {
      "cell_type": "code",
      "metadata": {
        "id": "Zk8WjsEel7ZX"
      },
      "source": [
        "# обучение и предсказания модели\n",
        "log_reg.fit(X_train, y_train)\n",
        "y_pred = log_reg.predict(X_test)"
      ],
      "execution_count": null,
      "outputs": []
    },
    {
      "cell_type": "code",
      "metadata": {
        "id": "Qe9-hEiTl7ZX",
        "outputId": "73d4a195-fa1a-46d2-db8a-e93b7034d782"
      },
      "source": [
        "f1_score(y_test, y_pred)"
      ],
      "execution_count": null,
      "outputs": [
        {
          "output_type": "execute_result",
          "data": {
            "text/plain": [
              "0.7503759398496241"
            ]
          },
          "metadata": {
            "tags": []
          },
          "execution_count": 17
        }
      ]
    },
    {
      "cell_type": "markdown",
      "metadata": {
        "id": "JQoeXtoNl7ZY"
      },
      "source": [
        "### 2.2 Случайный лес"
      ]
    },
    {
      "cell_type": "code",
      "metadata": {
        "id": "2hEA3s__l7ZZ"
      },
      "source": [
        "rfc = RandomForestClassifier(class_weight='balanced', n_jobs=-1, random_state=12345)"
      ],
      "execution_count": null,
      "outputs": []
    },
    {
      "cell_type": "code",
      "metadata": {
        "id": "sQR6YG4yl7Za"
      },
      "source": [
        "# обучение и предсказания модели\n",
        "rfc.fit(X_train, y_train)\n",
        "y_pred = rfc.predict(X_test)"
      ],
      "execution_count": null,
      "outputs": []
    },
    {
      "cell_type": "code",
      "metadata": {
        "id": "h6egg-dPl7Za",
        "outputId": "56249c89-69f3-4a67-d653-fa6deca7b37e"
      },
      "source": [
        "f1_score(y_test, y_pred)"
      ],
      "execution_count": null,
      "outputs": [
        {
          "output_type": "execute_result",
          "data": {
            "text/plain": [
              "0.6025956957450304"
            ]
          },
          "metadata": {
            "tags": []
          },
          "execution_count": 20
        }
      ]
    },
    {
      "cell_type": "markdown",
      "metadata": {
        "id": "nCHtXkxTl7Zb"
      },
      "source": [
        "### 2.3 Градиентный бустинг"
      ]
    },
    {
      "cell_type": "code",
      "metadata": {
        "id": "n2EedbQ9l7Zc"
      },
      "source": [
        "gbm = lgb.LGBMClassifier(learning_rate=0.1, num_leaves=10, n_estimators=40, class_weight='balanced', random_state=12345)"
      ],
      "execution_count": null,
      "outputs": []
    },
    {
      "cell_type": "code",
      "metadata": {
        "id": "rAlZ1fh4l7Zd"
      },
      "source": [
        "# обучение и предсказания модели\n",
        "gbm.fit(X_train, y_train)\n",
        "y_pred = gbm.predict(X_test)"
      ],
      "execution_count": null,
      "outputs": []
    },
    {
      "cell_type": "code",
      "metadata": {
        "id": "-6augDc9l7Zd",
        "outputId": "4f2d2e8c-c1e3-494b-9b2c-f9ab8c448700"
      },
      "source": [
        "f1_score(y_test, y_pred)"
      ],
      "execution_count": null,
      "outputs": [
        {
          "output_type": "execute_result",
          "data": {
            "text/plain": [
              "0.6701557632398755"
            ]
          },
          "metadata": {
            "tags": []
          },
          "execution_count": 23
        }
      ]
    },
    {
      "cell_type": "markdown",
      "metadata": {
        "id": "El-VYZ2Zl7Ze"
      },
      "source": [
        "## 3. Выводы"
      ]
    },
    {
      "cell_type": "markdown",
      "metadata": {
        "id": "ZdQ0e5d5l7Zf"
      },
      "source": [
        "Из всех обученных моделей, как ни странно, лучшие результаты показала логистическая регрессия с результотом f1_score = 0.75. Тогда как решения от разных методов над деревьями не дотягивают до необходимого минимума."
      ]
    }
  ]
}
