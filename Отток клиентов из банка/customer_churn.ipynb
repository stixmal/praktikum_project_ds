{
  "nbformat": 4,
  "nbformat_minor": 0,
  "metadata": {
    "ExecuteTimeLog": [
      {
        "duration": 824,
        "start_time": "2021-06-25T11:47:26.180Z"
      },
      {
        "duration": 64,
        "start_time": "2021-06-25T11:47:27.007Z"
      },
      {
        "duration": 7,
        "start_time": "2021-06-25T11:47:27.074Z"
      },
      {
        "duration": 635,
        "start_time": "2021-06-25T11:47:27.084Z"
      },
      {
        "duration": 11,
        "start_time": "2021-06-25T11:47:27.723Z"
      },
      {
        "duration": 21,
        "start_time": "2021-06-25T11:47:27.736Z"
      },
      {
        "duration": 15,
        "start_time": "2021-06-25T11:47:27.760Z"
      },
      {
        "duration": 8,
        "start_time": "2021-06-25T11:47:27.781Z"
      },
      {
        "duration": 34,
        "start_time": "2021-06-25T11:47:27.793Z"
      },
      {
        "duration": 20,
        "start_time": "2021-06-25T11:47:27.831Z"
      },
      {
        "duration": 65,
        "start_time": "2021-06-25T11:47:27.853Z"
      },
      {
        "duration": 12,
        "start_time": "2021-06-25T11:47:27.921Z"
      },
      {
        "duration": 506,
        "start_time": "2021-06-25T11:47:27.936Z"
      },
      {
        "duration": 9478,
        "start_time": "2021-06-25T11:47:28.446Z"
      },
      {
        "duration": 100,
        "start_time": "2021-06-25T11:47:37.926Z"
      },
      {
        "duration": 96,
        "start_time": "2021-06-25T11:47:38.029Z"
      },
      {
        "duration": 19,
        "start_time": "2021-06-25T11:47:38.128Z"
      },
      {
        "duration": 675,
        "start_time": "2021-06-25T11:47:38.149Z"
      },
      {
        "duration": 13452,
        "start_time": "2021-06-25T11:47:38.826Z"
      },
      {
        "duration": 152,
        "start_time": "2021-06-25T11:47:52.280Z"
      },
      {
        "duration": 213,
        "start_time": "2021-06-25T11:47:52.434Z"
      },
      {
        "duration": 352,
        "start_time": "2021-06-25T11:47:52.725Z"
      }
    ],
    "kernelspec": {
      "display_name": "Python 3",
      "language": "python",
      "name": "python3"
    },
    "language_info": {
      "codemirror_mode": {
        "name": "ipython",
        "version": 3
      },
      "file_extension": ".py",
      "mimetype": "text/x-python",
      "name": "python",
      "nbconvert_exporter": "python",
      "pygments_lexer": "ipython3",
      "version": "3.7.8"
    },
    "toc": {
      "base_numbering": 1,
      "nav_menu": {},
      "number_sections": false,
      "sideBar": true,
      "skip_h1_title": true,
      "title_cell": "Table of Contents",
      "title_sidebar": "Contents",
      "toc_cell": false,
      "toc_position": {},
      "toc_section_display": true,
      "toc_window_display": false
    },
    "colab": {
      "name": "customer churn_6.ipynb",
      "provenance": [],
      "include_colab_link": true
    }
  },
  "cells": [
    {
      "cell_type": "markdown",
      "metadata": {
        "id": "view-in-github",
        "colab_type": "text"
      },
      "source": [
        "<a href=\"https://colab.research.google.com/github/stixmal/praktikum_project_ds/blob/main/%D0%9E%D1%82%D1%82%D0%BE%D0%BA%20%D0%BA%D0%BB%D0%B8%D0%B5%D0%BD%D1%82%D0%BE%D0%B2%20%D0%B8%D0%B7%20%D0%B1%D0%B0%D0%BD%D0%BA%D0%B0/customer_churn.ipynb\" target=\"_parent\"><img src=\"https://colab.research.google.com/assets/colab-badge.svg\" alt=\"Open In Colab\"/></a>"
      ]
    },
    {
      "cell_type": "markdown",
      "metadata": {
        "id": "MlYCM80em0Fn"
      },
      "source": [
        "# Отток клиентов"
      ]
    },
    {
      "cell_type": "markdown",
      "metadata": {
        "id": "11JeCQ83m0Fv"
      },
      "source": [
        "Из «Бета-Банка» стали уходить клиенты. Каждый месяц. Немного, но заметно. Банковские маркетологи посчитали: сохранять текущих клиентов дешевле, чем привлекать новых.\n",
        "\n",
        "Нужно спрогнозировать, уйдёт клиент из банка в ближайшее время или нет. Нам предоставлены исторические данные о поведении клиентов и расторжении договоров с банком. \n",
        "\n",
        "Источник данных: [https://www.kaggle.com/barelydedicated/bank-customer-churn-modeling](https://www.kaggle.com/barelydedicated/bank-customer-churn-modeling)"
      ]
    },
    {
      "cell_type": "markdown",
      "metadata": {
        "id": "LQn8Mwfnm0Fx"
      },
      "source": [
        "## Оглавление\n",
        "\n",
        "### [1. Подготовка данных](#1) <a id='10'></a>   \n",
        "\n",
        "### [2. Исследование задачи](#2) <a id='20'></a>\n",
        "\n",
        "+ [2.1 Решающее дерево](#2.1) \n",
        "\n",
        "\n",
        "+ [2.2 Случайный лес](#2.2) \n",
        "\n",
        "\n",
        "+ [2.3 Логистическая регрессия](#2.3) \n",
        "\n",
        "### [3. Борьба с дисбалансом](#3) <a id='30'></a>\n",
        "\n",
        "+ [3.1 Решающее дерево](#3.1) \n",
        "\n",
        "\n",
        "+ [3.2 Случайный лес](#3.2) \n",
        "\n",
        "\n",
        "+ [3.3 Логистическая регрессия](#3.3)\n",
        "\n",
        "\n",
        "### [4. Тестирование модели](#4) <a id='40'></a>\n",
        "\n",
        "\n",
        "***\n"
      ]
    },
    {
      "cell_type": "markdown",
      "metadata": {
        "id": "h2Dqy5iNm0Fy"
      },
      "source": [
        "## 1. Подготовка данных <a id='1'></a>   [^](#10) "
      ]
    },
    {
      "cell_type": "code",
      "metadata": {
        "id": "2hpP8SgSm0F0"
      },
      "source": [
        "# импорт библиотеки pandas\n",
        "import pandas as pd  \n",
        "\n",
        "# импорт модуля display\n",
        "from IPython.display import display  \n",
        "\n",
        "# импорт mathplotlib\n",
        "import matplotlib.pyplot as plt"
      ],
      "execution_count": null,
      "outputs": []
    },
    {
      "cell_type": "code",
      "metadata": {
        "id": "4pOwuGMHm0F2",
        "outputId": "a1bed767-fff0-488c-c5c7-5a175697c3e5"
      },
      "source": [
        "# чтение файла с данными и визуальная оценка таблицы\n",
        "df = pd.read_csv('/datasets/Churn.csv')\n",
        "df"
      ],
      "execution_count": null,
      "outputs": [
        {
          "output_type": "execute_result",
          "data": {
            "text/html": [
              "<div>\n",
              "<style scoped>\n",
              "    .dataframe tbody tr th:only-of-type {\n",
              "        vertical-align: middle;\n",
              "    }\n",
              "\n",
              "    .dataframe tbody tr th {\n",
              "        vertical-align: top;\n",
              "    }\n",
              "\n",
              "    .dataframe thead th {\n",
              "        text-align: right;\n",
              "    }\n",
              "</style>\n",
              "<table border=\"1\" class=\"dataframe\">\n",
              "  <thead>\n",
              "    <tr style=\"text-align: right;\">\n",
              "      <th></th>\n",
              "      <th>RowNumber</th>\n",
              "      <th>CustomerId</th>\n",
              "      <th>Surname</th>\n",
              "      <th>CreditScore</th>\n",
              "      <th>Geography</th>\n",
              "      <th>Gender</th>\n",
              "      <th>Age</th>\n",
              "      <th>Tenure</th>\n",
              "      <th>Balance</th>\n",
              "      <th>NumOfProducts</th>\n",
              "      <th>HasCrCard</th>\n",
              "      <th>IsActiveMember</th>\n",
              "      <th>EstimatedSalary</th>\n",
              "      <th>Exited</th>\n",
              "    </tr>\n",
              "  </thead>\n",
              "  <tbody>\n",
              "    <tr>\n",
              "      <td>0</td>\n",
              "      <td>1</td>\n",
              "      <td>15634602</td>\n",
              "      <td>Hargrave</td>\n",
              "      <td>619</td>\n",
              "      <td>France</td>\n",
              "      <td>Female</td>\n",
              "      <td>42</td>\n",
              "      <td>2.0</td>\n",
              "      <td>0.00</td>\n",
              "      <td>1</td>\n",
              "      <td>1</td>\n",
              "      <td>1</td>\n",
              "      <td>101348.88</td>\n",
              "      <td>1</td>\n",
              "    </tr>\n",
              "    <tr>\n",
              "      <td>1</td>\n",
              "      <td>2</td>\n",
              "      <td>15647311</td>\n",
              "      <td>Hill</td>\n",
              "      <td>608</td>\n",
              "      <td>Spain</td>\n",
              "      <td>Female</td>\n",
              "      <td>41</td>\n",
              "      <td>1.0</td>\n",
              "      <td>83807.86</td>\n",
              "      <td>1</td>\n",
              "      <td>0</td>\n",
              "      <td>1</td>\n",
              "      <td>112542.58</td>\n",
              "      <td>0</td>\n",
              "    </tr>\n",
              "    <tr>\n",
              "      <td>2</td>\n",
              "      <td>3</td>\n",
              "      <td>15619304</td>\n",
              "      <td>Onio</td>\n",
              "      <td>502</td>\n",
              "      <td>France</td>\n",
              "      <td>Female</td>\n",
              "      <td>42</td>\n",
              "      <td>8.0</td>\n",
              "      <td>159660.80</td>\n",
              "      <td>3</td>\n",
              "      <td>1</td>\n",
              "      <td>0</td>\n",
              "      <td>113931.57</td>\n",
              "      <td>1</td>\n",
              "    </tr>\n",
              "    <tr>\n",
              "      <td>3</td>\n",
              "      <td>4</td>\n",
              "      <td>15701354</td>\n",
              "      <td>Boni</td>\n",
              "      <td>699</td>\n",
              "      <td>France</td>\n",
              "      <td>Female</td>\n",
              "      <td>39</td>\n",
              "      <td>1.0</td>\n",
              "      <td>0.00</td>\n",
              "      <td>2</td>\n",
              "      <td>0</td>\n",
              "      <td>0</td>\n",
              "      <td>93826.63</td>\n",
              "      <td>0</td>\n",
              "    </tr>\n",
              "    <tr>\n",
              "      <td>4</td>\n",
              "      <td>5</td>\n",
              "      <td>15737888</td>\n",
              "      <td>Mitchell</td>\n",
              "      <td>850</td>\n",
              "      <td>Spain</td>\n",
              "      <td>Female</td>\n",
              "      <td>43</td>\n",
              "      <td>2.0</td>\n",
              "      <td>125510.82</td>\n",
              "      <td>1</td>\n",
              "      <td>1</td>\n",
              "      <td>1</td>\n",
              "      <td>79084.10</td>\n",
              "      <td>0</td>\n",
              "    </tr>\n",
              "    <tr>\n",
              "      <td>...</td>\n",
              "      <td>...</td>\n",
              "      <td>...</td>\n",
              "      <td>...</td>\n",
              "      <td>...</td>\n",
              "      <td>...</td>\n",
              "      <td>...</td>\n",
              "      <td>...</td>\n",
              "      <td>...</td>\n",
              "      <td>...</td>\n",
              "      <td>...</td>\n",
              "      <td>...</td>\n",
              "      <td>...</td>\n",
              "      <td>...</td>\n",
              "      <td>...</td>\n",
              "    </tr>\n",
              "    <tr>\n",
              "      <td>9995</td>\n",
              "      <td>9996</td>\n",
              "      <td>15606229</td>\n",
              "      <td>Obijiaku</td>\n",
              "      <td>771</td>\n",
              "      <td>France</td>\n",
              "      <td>Male</td>\n",
              "      <td>39</td>\n",
              "      <td>5.0</td>\n",
              "      <td>0.00</td>\n",
              "      <td>2</td>\n",
              "      <td>1</td>\n",
              "      <td>0</td>\n",
              "      <td>96270.64</td>\n",
              "      <td>0</td>\n",
              "    </tr>\n",
              "    <tr>\n",
              "      <td>9996</td>\n",
              "      <td>9997</td>\n",
              "      <td>15569892</td>\n",
              "      <td>Johnstone</td>\n",
              "      <td>516</td>\n",
              "      <td>France</td>\n",
              "      <td>Male</td>\n",
              "      <td>35</td>\n",
              "      <td>10.0</td>\n",
              "      <td>57369.61</td>\n",
              "      <td>1</td>\n",
              "      <td>1</td>\n",
              "      <td>1</td>\n",
              "      <td>101699.77</td>\n",
              "      <td>0</td>\n",
              "    </tr>\n",
              "    <tr>\n",
              "      <td>9997</td>\n",
              "      <td>9998</td>\n",
              "      <td>15584532</td>\n",
              "      <td>Liu</td>\n",
              "      <td>709</td>\n",
              "      <td>France</td>\n",
              "      <td>Female</td>\n",
              "      <td>36</td>\n",
              "      <td>7.0</td>\n",
              "      <td>0.00</td>\n",
              "      <td>1</td>\n",
              "      <td>0</td>\n",
              "      <td>1</td>\n",
              "      <td>42085.58</td>\n",
              "      <td>1</td>\n",
              "    </tr>\n",
              "    <tr>\n",
              "      <td>9998</td>\n",
              "      <td>9999</td>\n",
              "      <td>15682355</td>\n",
              "      <td>Sabbatini</td>\n",
              "      <td>772</td>\n",
              "      <td>Germany</td>\n",
              "      <td>Male</td>\n",
              "      <td>42</td>\n",
              "      <td>3.0</td>\n",
              "      <td>75075.31</td>\n",
              "      <td>2</td>\n",
              "      <td>1</td>\n",
              "      <td>0</td>\n",
              "      <td>92888.52</td>\n",
              "      <td>1</td>\n",
              "    </tr>\n",
              "    <tr>\n",
              "      <td>9999</td>\n",
              "      <td>10000</td>\n",
              "      <td>15628319</td>\n",
              "      <td>Walker</td>\n",
              "      <td>792</td>\n",
              "      <td>France</td>\n",
              "      <td>Female</td>\n",
              "      <td>28</td>\n",
              "      <td>NaN</td>\n",
              "      <td>130142.79</td>\n",
              "      <td>1</td>\n",
              "      <td>1</td>\n",
              "      <td>0</td>\n",
              "      <td>38190.78</td>\n",
              "      <td>0</td>\n",
              "    </tr>\n",
              "  </tbody>\n",
              "</table>\n",
              "<p>10000 rows × 14 columns</p>\n",
              "</div>"
            ],
            "text/plain": [
              "      RowNumber  CustomerId    Surname  CreditScore Geography  Gender  Age  \\\n",
              "0             1    15634602   Hargrave          619    France  Female   42   \n",
              "1             2    15647311       Hill          608     Spain  Female   41   \n",
              "2             3    15619304       Onio          502    France  Female   42   \n",
              "3             4    15701354       Boni          699    France  Female   39   \n",
              "4             5    15737888   Mitchell          850     Spain  Female   43   \n",
              "...         ...         ...        ...          ...       ...     ...  ...   \n",
              "9995       9996    15606229   Obijiaku          771    France    Male   39   \n",
              "9996       9997    15569892  Johnstone          516    France    Male   35   \n",
              "9997       9998    15584532        Liu          709    France  Female   36   \n",
              "9998       9999    15682355  Sabbatini          772   Germany    Male   42   \n",
              "9999      10000    15628319     Walker          792    France  Female   28   \n",
              "\n",
              "      Tenure    Balance  NumOfProducts  HasCrCard  IsActiveMember  \\\n",
              "0        2.0       0.00              1          1               1   \n",
              "1        1.0   83807.86              1          0               1   \n",
              "2        8.0  159660.80              3          1               0   \n",
              "3        1.0       0.00              2          0               0   \n",
              "4        2.0  125510.82              1          1               1   \n",
              "...      ...        ...            ...        ...             ...   \n",
              "9995     5.0       0.00              2          1               0   \n",
              "9996    10.0   57369.61              1          1               1   \n",
              "9997     7.0       0.00              1          0               1   \n",
              "9998     3.0   75075.31              2          1               0   \n",
              "9999     NaN  130142.79              1          1               0   \n",
              "\n",
              "      EstimatedSalary  Exited  \n",
              "0           101348.88       1  \n",
              "1           112542.58       0  \n",
              "2           113931.57       1  \n",
              "3            93826.63       0  \n",
              "4            79084.10       0  \n",
              "...               ...     ...  \n",
              "9995         96270.64       0  \n",
              "9996        101699.77       0  \n",
              "9997         42085.58       1  \n",
              "9998         92888.52       1  \n",
              "9999         38190.78       0  \n",
              "\n",
              "[10000 rows x 14 columns]"
            ]
          },
          "metadata": {
            "tags": []
          },
          "execution_count": 2
        }
      ]
    },
    {
      "cell_type": "markdown",
      "metadata": {
        "id": "5eg6QQyQm0F6"
      },
      "source": [
        "Признаки:  \n",
        "\n",
        "* **RowNumber** — индекс строки в данных\n",
        "* **CustomerId** — уникальный идентификатор клиента\n",
        "* **Surname** — фамилия\n",
        "* **CreditScore** — кредитный рейтинг\n",
        "* **Geography** — страна проживания\n",
        "* **Gender** — пол\n",
        "* **Age** — возраст\n",
        "* **Tenure** — количество недвижимости у клиента\n",
        "* **Balance** — баланс на счёте\n",
        "* **NumOfProducts** — количество продуктов банка, используемых клиентом\n",
        "* **HasCrCard** — наличие кредитной карты\n",
        "* **IsActiveMember** — активность клиента\n",
        "* **EstimatedSalary** — предполагаемая зарплата\n",
        "\n",
        "Целевой признак:\n",
        "\n",
        "* **Exited** — факт ухода клиента"
      ]
    },
    {
      "cell_type": "markdown",
      "metadata": {
        "id": "tG4buYidm0F8"
      },
      "source": [
        "Удалили дублирующий индексы столбец, а также сильно коррелирующий с пользовательским id столбец с фамилиями."
      ]
    },
    {
      "cell_type": "code",
      "metadata": {
        "id": "pfyKG1swm0F9"
      },
      "source": [
        "# удаление столбца с индексом строки, id и столбца с фамилией\n",
        "df = df.drop(['RowNumber', 'Surname', 'CustomerId'], axis=1)\n",
        "\n",
        "# замена пропущенных значений в столбце с количеством недвижимости медианой\n",
        "df['Tenure'] = df['Tenure'].fillna(value = df['Tenure'].median())"
      ],
      "execution_count": null,
      "outputs": []
    },
    {
      "cell_type": "code",
      "metadata": {
        "id": "AsiczP55m0F_"
      },
      "source": [
        "# вызов функции из sklearn\n",
        "from sklearn.model_selection import train_test_split\n",
        "from sklearn.preprocessing import StandardScaler\n",
        "\n",
        "# провели прямое кодирование категориальных признаков с избеганием дамми-ловушки \n",
        "data_ohe = pd.get_dummies(df, drop_first=True)\n",
        "\n",
        "# переменные с признаками и ответами\n",
        "features = data_ohe.drop(['Exited'], axis=1)\n",
        "target = data_ohe['Exited']"
      ],
      "execution_count": null,
      "outputs": []
    },
    {
      "cell_type": "code",
      "metadata": {
        "id": "BnizmKzHm0GA"
      },
      "source": [
        "# раздел на 60 % обучающей и 40 % совмещённой выборки\n",
        "features_train, features_valid_test, target_train, target_valid_test = train_test_split(\n",
        "    features, target, test_size=0.4, random_state=12345)\n",
        "\n",
        "# раздел на валидационную и тестовую выборку в соотношении 1:1\n",
        "features_valid, features_test, target_valid, target_test = train_test_split(\n",
        "    features_valid_test, target_valid_test, test_size=0.5, random_state=12345)"
      ],
      "execution_count": null,
      "outputs": []
    },
    {
      "cell_type": "markdown",
      "metadata": {
        "id": "JUtcj1thm0GB"
      },
      "source": [
        "Проконтролировали размер выборок."
      ]
    },
    {
      "cell_type": "code",
      "metadata": {
        "id": "MQJaS0spm0GC",
        "outputId": "b72c42c5-56ff-4c9c-d8d4-0a1bc49cc741"
      },
      "source": [
        "features_train.shape[0]"
      ],
      "execution_count": null,
      "outputs": [
        {
          "output_type": "execute_result",
          "data": {
            "text/plain": [
              "6000"
            ]
          },
          "metadata": {
            "tags": []
          },
          "execution_count": 6
        }
      ]
    },
    {
      "cell_type": "code",
      "metadata": {
        "id": "9ISivhj6m0GE",
        "outputId": "f5b9d8ba-8f1a-4352-d343-3faba2b5ba5a"
      },
      "source": [
        "features_valid.shape[0]"
      ],
      "execution_count": null,
      "outputs": [
        {
          "output_type": "execute_result",
          "data": {
            "text/plain": [
              "2000"
            ]
          },
          "metadata": {
            "tags": []
          },
          "execution_count": 7
        }
      ]
    },
    {
      "cell_type": "code",
      "metadata": {
        "id": "UCwBMWb1m0GF",
        "outputId": "db55254e-9b0f-4052-88b9-5561e9d9118c"
      },
      "source": [
        "features_test.shape[0]"
      ],
      "execution_count": null,
      "outputs": [
        {
          "output_type": "execute_result",
          "data": {
            "text/plain": [
              "2000"
            ]
          },
          "metadata": {
            "tags": []
          },
          "execution_count": 8
        }
      ]
    },
    {
      "cell_type": "code",
      "metadata": {
        "id": "P6T35X6mm0GG",
        "outputId": "04396fd0-cd03-4008-c833-6c57c6eb65f4"
      },
      "source": [
        "df.shape[0]"
      ],
      "execution_count": null,
      "outputs": [
        {
          "output_type": "execute_result",
          "data": {
            "text/plain": [
              "10000"
            ]
          },
          "metadata": {
            "tags": []
          },
          "execution_count": 9
        }
      ]
    },
    {
      "cell_type": "code",
      "metadata": {
        "id": "D186-IHLm0GH"
      },
      "source": [
        "# провели масштабирование числовых признаков\n",
        "numeric = ['CreditScore', 'Age', 'Tenure', 'Balance', 'NumOfProducts', 'HasCrCard', 'IsActiveMember', 'EstimatedSalary']"
      ],
      "execution_count": null,
      "outputs": []
    },
    {
      "cell_type": "code",
      "metadata": {
        "id": "x5IooVEBm0GI"
      },
      "source": [
        "import warnings\n",
        "warnings.filterwarnings('ignore') \n",
        "\n",
        "# cоздали объект структуры StandardScaler() и настроили его на обучающих данных\n",
        "scaler = StandardScaler()\n",
        "scaler.fit(features_train[numeric])\n",
        "\n",
        "# преобразовали обучающую, валидационную и тестовую выборки функцией transform()\n",
        "features_train[numeric] = scaler.transform(features_train[numeric])\n",
        "features_valid[numeric] = scaler.transform(features_valid[numeric])\n",
        "features_test[numeric] = scaler.transform(features_test[numeric])"
      ],
      "execution_count": null,
      "outputs": []
    },
    {
      "cell_type": "markdown",
      "metadata": {
        "id": "qFepBF4Cm0GJ"
      },
      "source": [
        "### Вывод  \n",
        "\n",
        "Провели кодирование категориальных признаков и масштабирование численных. Данные готовы к дальнейшему анализу."
      ]
    },
    {
      "cell_type": "markdown",
      "metadata": {
        "id": "C0coTQycm0GK"
      },
      "source": [
        "***"
      ]
    },
    {
      "cell_type": "markdown",
      "metadata": {
        "id": "QNVQsQf4m0GK"
      },
      "source": [
        "## 2. Исследование задачи <a id='2'></a>   [^](#10) "
      ]
    },
    {
      "cell_type": "markdown",
      "metadata": {
        "id": "7BDYXrQlm0GL"
      },
      "source": [
        "Исследовали баланс классов и обнаружили дисбаланс."
      ]
    },
    {
      "cell_type": "code",
      "metadata": {
        "id": "LanOeIDxm0GL",
        "outputId": "7f45a733-ab7c-4cfa-acd4-295be85a8109"
      },
      "source": [
        "# частоты классов целевого признака\n",
        "df['Exited'].value_counts(normalize=True)"
      ],
      "execution_count": null,
      "outputs": [
        {
          "output_type": "execute_result",
          "data": {
            "text/plain": [
              "0    0.7963\n",
              "1    0.2037\n",
              "Name: Exited, dtype: float64"
            ]
          },
          "metadata": {
            "tags": []
          },
          "execution_count": 12
        }
      ]
    },
    {
      "cell_type": "markdown",
      "metadata": {
        "id": "jhpLhmRjm0GM"
      },
      "source": [
        "Посмотрели как обучаются и предсказывают разные модели при дисбалансе классов."
      ]
    },
    {
      "cell_type": "markdown",
      "metadata": {
        "id": "Iwae10Wsm0GN"
      },
      "source": [
        "* ### 2.1 Решающее дерево <a id='2.1'></a> [^](#10)"
      ]
    },
    {
      "cell_type": "code",
      "metadata": {
        "id": "skisHoRim0GO",
        "outputId": "cf68c4ca-9539-4f80-fe3b-0775f4514f4d"
      },
      "source": [
        "# импорт модели дерева решений из библиотеки sklearn\n",
        "from sklearn.tree import DecisionTreeClassifier\n",
        "\n",
        "# импорт f1 меры\n",
        "from sklearn.metrics import f1_score\n",
        "\n",
        "# импорт метрики roc-auc\n",
        "from sklearn.metrics import roc_auc_score\n",
        "\n",
        "# проход по гиперпараметрам в цикле и нахождение наилучшей модели дерева решений\n",
        "best_result = 0\n",
        "best_depth = 0\n",
        "best_samples_leaf = 0\n",
        "\n",
        "# меняя глубину дерева с 1 до 5, будем также менять минимальное число объектов в листьях деревьев с 1 до 5\n",
        "for depth in range(1, 6):\n",
        "    for samples_leaf in range(1, 6):\n",
        "        model = DecisionTreeClassifier(random_state=12345, max_depth=depth, min_samples_leaf=samples_leaf)\n",
        "        model.fit(features_train, target_train)\n",
        "        predictions_valid = model.predict(features_valid)\n",
        "        result = f1_score(target_valid, predictions_valid)\n",
        "        \n",
        "        # предсказание вероятности положительного класса для метрики auc-roc\n",
        "        probabilities_valid = model.predict_proba(features_valid)\n",
        "        probabilities_one_valid = probabilities_valid[:, 1]\n",
        "        auc_roc = roc_auc_score(target_valid, probabilities_one_valid)\n",
        "        \n",
        "        if result > best_result:\n",
        "            best_result = result\n",
        "            best_depth = depth\n",
        "            best_samples_leaf = samples_leaf\n",
        "            best_auc_roc = auc_roc\n",
        "              \n",
        "print(\"f1_score: {:.3f} | auc-roc: {:.3f} | Глубина дерева: {} | Минимальное число объектов в листьях: {}\"\n",
        "      .format(best_result, best_auc_roc, best_depth, best_samples_leaf))   "
      ],
      "execution_count": null,
      "outputs": [
        {
          "output_type": "stream",
          "text": [
            "f1_score: 0.554 | auc-roc: 0.815 | Глубина дерева: 4 | Минимальное число объектов в листьях: 3\n"
          ],
          "name": "stdout"
        }
      ]
    },
    {
      "cell_type": "markdown",
      "metadata": {
        "id": "ttENvB8Om0GQ"
      },
      "source": [
        "* ### 2.2 Случайный лес<a id='2.2'></a> [^](#10)"
      ]
    },
    {
      "cell_type": "code",
      "metadata": {
        "id": "YJkWQSEsm0GR",
        "outputId": "3d4fb1d3-6e00-4ada-fafd-163b416364df"
      },
      "source": [
        "# импорт модели случайного леса из библиотеки sklearn\n",
        "from sklearn.ensemble import RandomForestClassifier\n",
        "\n",
        "# проход по гиперпараметрам в цикле и нахождение наилучшей модели случайного леса\n",
        "best_result = 0\n",
        "best_depth = 0\n",
        "best_est = 0\n",
        "\n",
        "# изменим количество деревьев в лесу с 10 до 50 с шагом 10 и глубину каждого дерева с 1 до 10\n",
        "for est in range(10, 51, 10):\n",
        "    for depth in range(1, 11):\n",
        "        model = RandomForestClassifier(random_state=12345, n_estimators=est, max_depth=depth)\n",
        "        model.fit(features_train, target_train)  \n",
        "        predictions_valid = model.predict(features_valid)\n",
        "        result = f1_score(target_valid, predictions_valid)\n",
        "        \n",
        "        # предсказание вероятности положительного класса для метрики auc-roc\n",
        "        probabilities_valid = model.predict_proba(features_valid)\n",
        "        probabilities_one_valid = probabilities_valid[:, 1]\n",
        "        auc_roc = roc_auc_score(target_valid, probabilities_one_valid)\n",
        "        \n",
        "        if result > best_result:\n",
        "            best_result = result\n",
        "            best_depth = depth\n",
        "            best_est = est\n",
        "            best_auc_roc = auc_roc\n",
        "            \n",
        "print(\"f1_score: {:.3f} | auc-roc: {:.3f} | Глубина дерева: {} | Количество деревьев: {}\"\n",
        "      .format(best_result, best_auc_roc, best_depth, best_est))      "
      ],
      "execution_count": null,
      "outputs": [
        {
          "output_type": "stream",
          "text": [
            "f1_score: 0.589 | auc-roc: 0.846 | Глубина дерева: 10 | Количество деревьев: 10\n"
          ],
          "name": "stdout"
        }
      ]
    },
    {
      "cell_type": "markdown",
      "metadata": {
        "id": "eOA1dTsjm0GT"
      },
      "source": [
        "* ### 2.3 Логистическая регрессия <a id='2.3'></a> [^](#10)"
      ]
    },
    {
      "cell_type": "code",
      "metadata": {
        "id": "e8vISxTkm0GT",
        "outputId": "922c9ce0-45cd-4aac-a407-1b168b9f13cc"
      },
      "source": [
        "# импорт логистической регрессии\n",
        "from sklearn.linear_model import LogisticRegression\n",
        "\n",
        "# создание модели логистической регрессии\n",
        "model = LogisticRegression(random_state=12345)\n",
        "model.fit(features_train, target_train)\n",
        "predictions_valid = model.predict(features_valid)\n",
        "result = f1_score(target_valid, predictions_valid)\n",
        "\n",
        "# предсказание вероятности положительного класса для метрики auc-roc\n",
        "probabilities_valid = model.predict_proba(features_valid)\n",
        "probabilities_one_valid = probabilities_valid[:, 1]\n",
        "auc_roc = roc_auc_score(target_valid, probabilities_one_valid)\n",
        "\n",
        "print(\"f1_score:{:.3f} | auc-roc:{:.3f}\".format(result, auc_roc))   "
      ],
      "execution_count": null,
      "outputs": [
        {
          "output_type": "stream",
          "text": [
            "f1_score:0.331 | auc-roc:0.759\n"
          ],
          "name": "stdout"
        }
      ]
    },
    {
      "cell_type": "markdown",
      "metadata": {
        "id": "jsWbGNNXm0GW"
      },
      "source": [
        "### Вывод  \n",
        "\n",
        "При неучитывании дисбаланса классов лучшие результаты показывает случайный лес: f1 мера почти дотягивает до условно успешного значения в 0,59 при количестве деревьев 10."
      ]
    },
    {
      "cell_type": "markdown",
      "metadata": {
        "id": "yj_r3PL_m0GW"
      },
      "source": [
        "***"
      ]
    },
    {
      "cell_type": "markdown",
      "metadata": {
        "id": "_Yik2WIsm0GX"
      },
      "source": [
        "## 3. Борьба с дисбалансом <a id='3'></a>   [^](#10) "
      ]
    },
    {
      "cell_type": "code",
      "metadata": {
        "id": "H28qWzh_m0GY"
      },
      "source": [
        "# импорт функции перемешивания\n",
        "from sklearn.utils import shuffle\n",
        "\n",
        "# написали функцию для \"апсеплинга\" положительного класса для уменьшения дисбаланса в выборках\n",
        "def upsample(features, target, repeat):\n",
        "    features_zeros = features[target == 0]\n",
        "    features_ones = features[target == 1]\n",
        "    target_zeros = target[target == 0]\n",
        "    target_ones = target[target == 1]\n",
        "\n",
        "    features_upsampled = pd.concat([features_zeros] + [features_ones] * repeat)\n",
        "    target_upsampled = pd.concat([target_zeros] + [target_ones] * repeat)\n",
        "    \n",
        "    features_upsampled, target_upsampled = shuffle(\n",
        "        features_upsampled, target_upsampled, random_state=12345)\n",
        "    \n",
        "    return features_upsampled, target_upsampled"
      ],
      "execution_count": null,
      "outputs": []
    },
    {
      "cell_type": "code",
      "metadata": {
        "id": "uXzCC29Nm0GZ",
        "outputId": "1690f223-2136-47cf-b57c-ee2a679c3574"
      },
      "source": [
        "# upsampling тренировочной выборки\n",
        "features_upsampled, target_upsampled = upsample(features_train, target_train, 4)\n",
        "\n",
        "# частоты классов целевого признака после апсемплинга\n",
        "target_upsampled.value_counts(normalize=True)"
      ],
      "execution_count": null,
      "outputs": [
        {
          "output_type": "execute_result",
          "data": {
            "text/plain": [
              "0    0.501043\n",
              "1    0.498957\n",
              "Name: Exited, dtype: float64"
            ]
          },
          "metadata": {
            "tags": []
          },
          "execution_count": 17
        }
      ]
    },
    {
      "cell_type": "markdown",
      "metadata": {
        "id": "L_m95pEfm0Ga"
      },
      "source": [
        "* ### 3.1 Решающее дерево <a id='3.1'></a> [^](#10)"
      ]
    },
    {
      "cell_type": "code",
      "metadata": {
        "id": "1F4LHi0rm0Gb",
        "outputId": "2b64f188-db38-4d97-e104-fa24da1aa19c"
      },
      "source": [
        "best_model = None\n",
        "best_result = 0\n",
        "best_depth = 0\n",
        "best_samples_leaf = 0\n",
        "\n",
        "# меняя глубину дерева с 1 до 5, будем также менять минимальное число объектов в листьях деревьев с 1 до 5\n",
        "# применили также аргумент \"вес класса\"\n",
        "for depth in range(1, 6):\n",
        "    for samples_leaf in range(1, 6):\n",
        "        model = DecisionTreeClassifier(random_state=12345, max_depth=depth, min_samples_leaf=samples_leaf,\n",
        "                                       class_weight='balanced')\n",
        "        model.fit(features_upsampled, target_upsampled)\n",
        "        predictions_valid = model.predict(features_valid)\n",
        "        result = f1_score(target_valid, predictions_valid)\n",
        "        \n",
        "        # предсказание вероятности положительного класса для метрики auc-roc\n",
        "        probabilities_valid = model.predict_proba(features_valid)\n",
        "        probabilities_one_valid = probabilities_valid[:, 1]\n",
        "        auc_roc = roc_auc_score(target_valid, probabilities_one_valid)\n",
        "        \n",
        "        if result > best_result:\n",
        "            best_model_tree = model\n",
        "            best_result = result\n",
        "            best_depth = depth\n",
        "            best_samples_leaf = samples_leaf\n",
        "            best_auc_roc = auc_roc\n",
        "              \n",
        "print(\"f1_score: {:.3f} | auc-roc: {:.3f} | Глубина дерева: {} | Минимальное число объектов в листьях: {}\"\n",
        "      .format(best_result, best_auc_roc, best_depth, best_samples_leaf)) "
      ],
      "execution_count": null,
      "outputs": [
        {
          "output_type": "stream",
          "text": [
            "f1_score: 0.599 | auc-roc: 0.835 | Глубина дерева: 5 | Минимальное число объектов в листьях: 2\n"
          ],
          "name": "stdout"
        }
      ]
    },
    {
      "cell_type": "markdown",
      "metadata": {
        "id": "K49RQXEMm0Gc"
      },
      "source": [
        "* ### 3.2 Случайный лес<a id='3.2'></a> [^](#10)"
      ]
    },
    {
      "cell_type": "code",
      "metadata": {
        "id": "Xtivav9pm0Gd",
        "outputId": "4986a98d-edea-4bd2-bf71-697427e3f56b"
      },
      "source": [
        "best_model = None\n",
        "best_result = 0\n",
        "best_depth = 0\n",
        "best_est = 0\n",
        "\n",
        "# изменим количество деревьев в лесу с 10 до 50 с шагом 10 и глубину каждого дерева с 1 до 10\n",
        "# применили также аргумент \"вес класса\"\n",
        "for est in range(10, 51, 10):\n",
        "    for depth in range(1, 11):\n",
        "        model = RandomForestClassifier(random_state=12345, n_estimators=est, max_depth=depth, class_weight='balanced')\n",
        "        model.fit(features_upsampled, target_upsampled)  \n",
        "        predictions_valid = model.predict(features_valid)\n",
        "        result = f1_score(target_valid, predictions_valid)\n",
        "        \n",
        "        # предсказание вероятности положительного класса для метрики auc-roc\n",
        "        probabilities_valid = model.predict_proba(features_valid)\n",
        "        probabilities_one_valid = probabilities_valid[:, 1]\n",
        "        auc_roc = roc_auc_score(target_valid, probabilities_one_valid)\n",
        "        \n",
        "        if result > best_result:\n",
        "            best_model_forest = model\n",
        "            best_result = result\n",
        "            best_depth = depth\n",
        "            best_est = est\n",
        "            best_auc_roc = auc_roc\n",
        "            \n",
        "print(\"f1_score: {:.3f} | auc-roc: {:.3f} | Глубина дерева: {} | Количество деревьев: {}\"\n",
        "      .format(best_result, best_auc_roc, best_depth, best_est))   "
      ],
      "execution_count": null,
      "outputs": [
        {
          "output_type": "stream",
          "text": [
            "f1_score: 0.626 | auc-roc: 0.854 | Глубина дерева: 10 | Количество деревьев: 40\n"
          ],
          "name": "stdout"
        }
      ]
    },
    {
      "cell_type": "markdown",
      "metadata": {
        "id": "kLFCxayEm0Ge"
      },
      "source": [
        "* ### 3.3 Логистическая регрессия <a id='3.3'></a> [^](#10)"
      ]
    },
    {
      "cell_type": "code",
      "metadata": {
        "id": "jC0aMfQnm0Gf",
        "outputId": "2c7e789b-a846-46a0-e502-8905e699c8d4"
      },
      "source": [
        "# создание модели логистической регрессии\n",
        "model = LogisticRegression(random_state=12345, class_weight='balanced')\n",
        "model.fit(features_upsampled, target_upsampled)\n",
        "predictions_valid = model.predict(features_valid)\n",
        "result = f1_score(target_valid, predictions_valid)\n",
        "\n",
        "# предсказание вероятности положительного класса для метрики auc-roc\n",
        "probabilities_valid = model.predict_proba(features_valid)\n",
        "probabilities_one_valid = probabilities_valid[:, 1]\n",
        "auc_roc = roc_auc_score(target_valid, probabilities_one_valid)\n",
        "\n",
        "print(\"f1_score:{:.3f} | auc-roc:{:.3f}\".format(result, auc_roc))   "
      ],
      "execution_count": null,
      "outputs": [
        {
          "output_type": "stream",
          "text": [
            "f1_score:0.489 | auc-roc:0.764\n"
          ],
          "name": "stdout"
        }
      ]
    },
    {
      "cell_type": "markdown",
      "metadata": {
        "id": "DBXLCVMZm0Gg"
      },
      "source": [
        "### Вывод  \n",
        "\n",
        "Для уменьшения дисбаланса классов применили семплирование выборок: частоту положительного класса практически сравняли с частотой отрицательного. Данный приём заметно поднял F1-меру, а также численное значение auc-roc. Лучшая модель рандомного леса показала f1 меру примерно 0,626. Возьмём её для оценки тестирования качества лучшей модели."
      ]
    },
    {
      "cell_type": "markdown",
      "metadata": {
        "id": "5XBPfqjTm0Gh"
      },
      "source": [
        "***"
      ]
    },
    {
      "cell_type": "markdown",
      "metadata": {
        "id": "JQJcfCgUm0Gi"
      },
      "source": [
        "## 4. Тестирование модели <a id='4'></a>   [^](#10) "
      ]
    },
    {
      "cell_type": "markdown",
      "metadata": {
        "id": "wx_Sb6mfm0Gj"
      },
      "source": [
        "Выполнили тестирование лучшей модели, показавшей лучший f1 score, на тестовой выборке. Лучшая модель определилась из случайного леса."
      ]
    },
    {
      "cell_type": "code",
      "metadata": {
        "id": "vFJy_ZAem0Gj",
        "outputId": "7196b7a1-6c7e-43c0-ee53-d0126d83a27a"
      },
      "source": [
        "predictions_test = best_model_forest.predict(features_test)\n",
        "best_result = f1_score(target_test, predictions_test)\n",
        "\n",
        "# вероятности положительного класса для метрики auc-roc\n",
        "probabilities_test = model.predict_proba(features_test)\n",
        "probabilities_one_test = probabilities_test[:, 1]\n",
        "auc_roc = roc_auc_score(target_test, probabilities_one_test)\n",
        "\n",
        "print(\"f1_score:{:.3f} | auc-roc:{:.3f}\".format(best_result, auc_roc))  "
      ],
      "execution_count": null,
      "outputs": [
        {
          "output_type": "stream",
          "text": [
            "f1_score:0.612 | auc-roc:0.742\n"
          ],
          "name": "stdout"
        }
      ]
    },
    {
      "cell_type": "markdown",
      "metadata": {
        "id": "7-TxGiSBm0Gl"
      },
      "source": [
        "Построили график ROC-кривой."
      ]
    },
    {
      "cell_type": "code",
      "metadata": {
        "scrolled": true,
        "id": "_vOorST-m0Gl",
        "outputId": "6663b75a-c81e-4c68-8fa4-6db9f70b7369"
      },
      "source": [
        "# импорт roc-кривой\n",
        "from sklearn.metrics import roc_curve\n",
        "\n",
        "fpr, tpr, thresholds = roc_curve(target_test, probabilities_one_test)\n",
        "\n",
        "\n",
        "plt.figure()\n",
        "plt.plot(fpr, tpr)\n",
        "plt.xlim([0.0, 1.0])\n",
        "plt.ylim([0.0, 1.0])\n",
        "plt.xlabel('False Positive Rate')\n",
        "plt.ylabel('True Positive Rate')\n",
        "plt.title('ROC-кривая')\n",
        "plt.show()"
      ],
      "execution_count": null,
      "outputs": [
        {
          "output_type": "display_data",
          "data": {
            "image/png": "[encoded data removed]",
            "text/plain": [
              "<Figure size 432x288 with 1 Axes>"
            ]
          },
          "metadata": {
            "tags": [],
            "needs_background": "light"
          }
        }
      ]
    },
    {
      "cell_type": "markdown",
      "metadata": {
        "id": "pbi9Q18jm0Gn"
      },
      "source": [
        "### Вывод  \n",
        "\n",
        "На тестовой выборке лучшая модель случайного леса показала необходимую метрику f1 score выше минимально допустимой, равной 0,59. Численно roc-кривая превосходит значение в 0,5 и визуально отстоит от прямой диагонали, что указывает на относительно более высокую прогностическую точность модели по сравнению с рандомом."
      ]
    }
  ]
}