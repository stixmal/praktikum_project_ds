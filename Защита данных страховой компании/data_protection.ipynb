{
  "nbformat": 4,
  "nbformat_minor": 0,
  "metadata": {
    "ExecuteTimeLog": [
      {
        "duration": 1362,
        "start_time": "2021-06-25T12:17:10.090Z"
      },
      {
        "duration": 46,
        "start_time": "2021-06-25T12:17:11.454Z"
      },
      {
        "duration": 21,
        "start_time": "2021-06-25T12:17:11.503Z"
      },
      {
        "duration": 55,
        "start_time": "2021-06-25T12:17:11.529Z"
      },
      {
        "duration": 7,
        "start_time": "2021-06-25T12:17:11.587Z"
      },
      {
        "duration": 12,
        "start_time": "2021-06-25T12:17:11.624Z"
      },
      {
        "duration": 8,
        "start_time": "2021-06-25T12:17:11.639Z"
      },
      {
        "duration": 7,
        "start_time": "2021-06-25T12:17:11.652Z"
      },
      {
        "duration": 12,
        "start_time": "2021-06-25T12:17:11.664Z"
      },
      {
        "duration": 457,
        "start_time": "2021-06-25T12:17:11.679Z"
      },
      {
        "duration": 7,
        "start_time": "2021-06-25T12:17:12.226Z"
      },
      {
        "duration": 91,
        "start_time": "2021-06-25T12:17:12.235Z"
      },
      {
        "duration": 6,
        "start_time": "2021-06-25T12:17:12.328Z"
      },
      {
        "duration": 5,
        "start_time": "2021-06-25T12:17:12.337Z"
      },
      {
        "duration": 9,
        "start_time": "2021-06-25T12:17:12.344Z"
      },
      {
        "duration": 71,
        "start_time": "2021-06-25T12:17:12.355Z"
      },
      {
        "duration": 9,
        "start_time": "2021-06-25T12:17:12.429Z"
      },
      {
        "duration": 89,
        "start_time": "2021-06-25T12:17:12.442Z"
      },
      {
        "duration": 9,
        "start_time": "2021-06-25T12:17:12.533Z"
      },
      {
        "duration": 9,
        "start_time": "2021-06-25T12:17:12.544Z"
      },
      {
        "duration": 71,
        "start_time": "2021-06-25T12:17:12.555Z"
      },
      {
        "duration": 13,
        "start_time": "2021-06-25T12:17:12.628Z"
      },
      {
        "duration": 16,
        "start_time": "2021-06-25T12:17:12.645Z"
      },
      {
        "duration": 65,
        "start_time": "2021-06-25T12:17:12.664Z"
      }
    ],
    "kernelspec": {
      "display_name": "Python 3",
      "language": "python",
      "name": "python3"
    },
    "language_info": {
      "codemirror_mode": {
        "name": "ipython",
        "version": 3
      },
      "file_extension": ".py",
      "mimetype": "text/x-python",
      "name": "python",
      "nbconvert_exporter": "python",
      "pygments_lexer": "ipython3",
      "version": "3.7.8"
    },
    "toc": {
      "base_numbering": 1,
      "nav_menu": {},
      "number_sections": false,
      "sideBar": true,
      "skip_h1_title": true,
      "title_cell": "Table of Contents",
      "title_sidebar": "Contents",
      "toc_cell": false,
      "toc_position": {},
      "toc_section_display": true,
      "toc_window_display": false
    },
    "colab": {
      "name": "data_protection_9.ipynb",
      "provenance": [],
      "include_colab_link": true
    }
  },
  "cells": [
    {
      "cell_type": "markdown",
      "metadata": {
        "id": "view-in-github",
        "colab_type": "text"
      },
      "source": [
        "<a href=\"https://colab.research.google.com/github/stixmal/praktikum_project_ds/blob/main/%D0%97%D0%B0%D1%89%D0%B8%D1%82%D0%B0%20%D0%B4%D0%B0%D0%BD%D0%BD%D1%8B%D1%85%20%D1%81%D1%82%D1%80%D0%B0%D1%85%D0%BE%D0%B2%D0%BE%D0%B9%20%D0%BA%D0%BE%D0%BC%D0%BF%D0%B0%D0%BD%D0%B8%D0%B8/data_protection.ipynb\" target=\"_parent\"><img src=\"https://colab.research.google.com/assets/colab-badge.svg\" alt=\"Open In Colab\"/></a>"
      ]
    },
    {
      "cell_type": "markdown",
      "metadata": {
        "id": "NhHmkuTWmGQl"
      },
      "source": [
        "# Защита данных страховой компании"
      ]
    },
    {
      "cell_type": "markdown",
      "metadata": {
        "id": "jC1smbkImGQv"
      },
      "source": [
        "Защитим данные клиентов страховой компании «Хоть потоп». Разработали метод преобразования данных, усложняющий восстановление персональной информации. Обосновали корректность его работы. При преобразовании данных качество моделей машинного обучения не ухудшилось.  \n",
        "\n",
        "Источник данных: `/datasets/insurance.csv`."
      ]
    },
    {
      "cell_type": "markdown",
      "metadata": {
        "id": "4n2MUpUMmGQx"
      },
      "source": [
        "## Оглавление\n",
        "\n",
        "### [1. Подготовка данных](#1) <a id='10'></a>   \n",
        "\n",
        "\n",
        "\n",
        "### [2. Умножение матриц](#2) <a id='20'></a>\n",
        "\n",
        "\n",
        "\n",
        "### [3. Алгоритм преобразования](#3) <a id='30'></a>\n",
        "\n",
        "\n",
        "\n",
        "### [4. Проверка алгоритма](#4) <a id='40'></a>\n",
        "\n",
        "***"
      ]
    },
    {
      "cell_type": "markdown",
      "metadata": {
        "id": "OyEeHf-ymGQz"
      },
      "source": [
        "## 1. Подготовка данных <a id='1'></a>   [^](#10) "
      ]
    },
    {
      "cell_type": "code",
      "metadata": {
        "id": "IPhSgDVzmGQ0"
      },
      "source": [
        "# импорт библиотеки pandas и numpy\n",
        "import pandas as pd \n",
        "import numpy as np  \n",
        "\n",
        "# импорт модуля display\n",
        "from IPython.display import display  \n",
        "\n",
        "# отключение предупреждений\n",
        "import warnings\n",
        "warnings.filterwarnings('ignore') \n",
        "\n",
        "# импорт модуля разделения на выборки\n",
        "from sklearn.model_selection import train_test_split\n",
        "\n",
        "# импорт модели линейной регрессии\n",
        "from sklearn.linear_model import LinearRegression\n",
        "\n",
        "# импорт метрик\n",
        "from sklearn.metrics import r2_score"
      ],
      "execution_count": null,
      "outputs": []
    },
    {
      "cell_type": "code",
      "metadata": {
        "id": "wqFhKEd-mGQ2",
        "outputId": "367ef50f-012e-4e44-a889-d288991d726a"
      },
      "source": [
        "# чтение файла с данными\n",
        "df = pd.read_csv('/datasets/insurance.csv')\n",
        "\n",
        "# визуальный осмотр  \n",
        "df"
      ],
      "execution_count": null,
      "outputs": [
        {
          "output_type": "execute_result",
          "data": {
            "text/html": [
              "<div>\n",
              "<style scoped>\n",
              "    .dataframe tbody tr th:only-of-type {\n",
              "        vertical-align: middle;\n",
              "    }\n",
              "\n",
              "    .dataframe tbody tr th {\n",
              "        vertical-align: top;\n",
              "    }\n",
              "\n",
              "    .dataframe thead th {\n",
              "        text-align: right;\n",
              "    }\n",
              "</style>\n",
              "<table border=\"1\" class=\"dataframe\">\n",
              "  <thead>\n",
              "    <tr style=\"text-align: right;\">\n",
              "      <th></th>\n",
              "      <th>Пол</th>\n",
              "      <th>Возраст</th>\n",
              "      <th>Зарплата</th>\n",
              "      <th>Члены семьи</th>\n",
              "      <th>Страховые выплаты</th>\n",
              "    </tr>\n",
              "  </thead>\n",
              "  <tbody>\n",
              "    <tr>\n",
              "      <td>0</td>\n",
              "      <td>1</td>\n",
              "      <td>41.0</td>\n",
              "      <td>49600.0</td>\n",
              "      <td>1</td>\n",
              "      <td>0</td>\n",
              "    </tr>\n",
              "    <tr>\n",
              "      <td>1</td>\n",
              "      <td>0</td>\n",
              "      <td>46.0</td>\n",
              "      <td>38000.0</td>\n",
              "      <td>1</td>\n",
              "      <td>1</td>\n",
              "    </tr>\n",
              "    <tr>\n",
              "      <td>2</td>\n",
              "      <td>0</td>\n",
              "      <td>29.0</td>\n",
              "      <td>21000.0</td>\n",
              "      <td>0</td>\n",
              "      <td>0</td>\n",
              "    </tr>\n",
              "    <tr>\n",
              "      <td>3</td>\n",
              "      <td>0</td>\n",
              "      <td>21.0</td>\n",
              "      <td>41700.0</td>\n",
              "      <td>2</td>\n",
              "      <td>0</td>\n",
              "    </tr>\n",
              "    <tr>\n",
              "      <td>4</td>\n",
              "      <td>1</td>\n",
              "      <td>28.0</td>\n",
              "      <td>26100.0</td>\n",
              "      <td>0</td>\n",
              "      <td>0</td>\n",
              "    </tr>\n",
              "    <tr>\n",
              "      <td>...</td>\n",
              "      <td>...</td>\n",
              "      <td>...</td>\n",
              "      <td>...</td>\n",
              "      <td>...</td>\n",
              "      <td>...</td>\n",
              "    </tr>\n",
              "    <tr>\n",
              "      <td>4995</td>\n",
              "      <td>0</td>\n",
              "      <td>28.0</td>\n",
              "      <td>35700.0</td>\n",
              "      <td>2</td>\n",
              "      <td>0</td>\n",
              "    </tr>\n",
              "    <tr>\n",
              "      <td>4996</td>\n",
              "      <td>0</td>\n",
              "      <td>34.0</td>\n",
              "      <td>52400.0</td>\n",
              "      <td>1</td>\n",
              "      <td>0</td>\n",
              "    </tr>\n",
              "    <tr>\n",
              "      <td>4997</td>\n",
              "      <td>0</td>\n",
              "      <td>20.0</td>\n",
              "      <td>33900.0</td>\n",
              "      <td>2</td>\n",
              "      <td>0</td>\n",
              "    </tr>\n",
              "    <tr>\n",
              "      <td>4998</td>\n",
              "      <td>1</td>\n",
              "      <td>22.0</td>\n",
              "      <td>32700.0</td>\n",
              "      <td>3</td>\n",
              "      <td>0</td>\n",
              "    </tr>\n",
              "    <tr>\n",
              "      <td>4999</td>\n",
              "      <td>1</td>\n",
              "      <td>28.0</td>\n",
              "      <td>40600.0</td>\n",
              "      <td>1</td>\n",
              "      <td>0</td>\n",
              "    </tr>\n",
              "  </tbody>\n",
              "</table>\n",
              "<p>5000 rows × 5 columns</p>\n",
              "</div>"
            ],
            "text/plain": [
              "      Пол  Возраст  Зарплата  Члены семьи  Страховые выплаты\n",
              "0       1     41.0   49600.0            1                  0\n",
              "1       0     46.0   38000.0            1                  1\n",
              "2       0     29.0   21000.0            0                  0\n",
              "3       0     21.0   41700.0            2                  0\n",
              "4       1     28.0   26100.0            0                  0\n",
              "...   ...      ...       ...          ...                ...\n",
              "4995    0     28.0   35700.0            2                  0\n",
              "4996    0     34.0   52400.0            1                  0\n",
              "4997    0     20.0   33900.0            2                  0\n",
              "4998    1     22.0   32700.0            3                  0\n",
              "4999    1     28.0   40600.0            1                  0\n",
              "\n",
              "[5000 rows x 5 columns]"
            ]
          },
          "metadata": {
            "tags": []
          },
          "execution_count": 2
        }
      ]
    },
    {
      "cell_type": "markdown",
      "metadata": {
        "id": "fHLgcFZAmGQ6"
      },
      "source": [
        "Признаки: \n",
        "\n",
        "* **Пол, Возраст, Зарплата, Члены семьи**  \n",
        "\n",
        "Целевой признак:  \n",
        "\n",
        "* **Страховые выплаты** - количество страховых выплат клиенту за последние 5 лет."
      ]
    },
    {
      "cell_type": "code",
      "metadata": {
        "id": "XA0UUtQBmGQ7",
        "outputId": "1c4fd5c7-0bad-4568-d530-a3f6295545f2"
      },
      "source": [
        "# информация о таблице\n",
        "df.info()"
      ],
      "execution_count": null,
      "outputs": [
        {
          "output_type": "stream",
          "text": [
            "<class 'pandas.core.frame.DataFrame'>\n",
            "RangeIndex: 5000 entries, 0 to 4999\n",
            "Data columns (total 5 columns):\n",
            "Пол                  5000 non-null int64\n",
            "Возраст              5000 non-null float64\n",
            "Зарплата             5000 non-null float64\n",
            "Члены семьи          5000 non-null int64\n",
            "Страховые выплаты    5000 non-null int64\n",
            "dtypes: float64(2), int64(3)\n",
            "memory usage: 195.4 KB\n"
          ],
          "name": "stdout"
        }
      ]
    },
    {
      "cell_type": "code",
      "metadata": {
        "id": "teRVB1lImGQ8",
        "outputId": "030ec747-9ad9-4a97-fac0-b8053584f3fb"
      },
      "source": [
        "df.describe()"
      ],
      "execution_count": null,
      "outputs": [
        {
          "output_type": "execute_result",
          "data": {
            "text/html": [
              "<div>\n",
              "<style scoped>\n",
              "    .dataframe tbody tr th:only-of-type {\n",
              "        vertical-align: middle;\n",
              "    }\n",
              "\n",
              "    .dataframe tbody tr th {\n",
              "        vertical-align: top;\n",
              "    }\n",
              "\n",
              "    .dataframe thead th {\n",
              "        text-align: right;\n",
              "    }\n",
              "</style>\n",
              "<table border=\"1\" class=\"dataframe\">\n",
              "  <thead>\n",
              "    <tr style=\"text-align: right;\">\n",
              "      <th></th>\n",
              "      <th>Пол</th>\n",
              "      <th>Возраст</th>\n",
              "      <th>Зарплата</th>\n",
              "      <th>Члены семьи</th>\n",
              "      <th>Страховые выплаты</th>\n",
              "    </tr>\n",
              "  </thead>\n",
              "  <tbody>\n",
              "    <tr>\n",
              "      <td>count</td>\n",
              "      <td>5000.000000</td>\n",
              "      <td>5000.000000</td>\n",
              "      <td>5000.000000</td>\n",
              "      <td>5000.000000</td>\n",
              "      <td>5000.000000</td>\n",
              "    </tr>\n",
              "    <tr>\n",
              "      <td>mean</td>\n",
              "      <td>0.499000</td>\n",
              "      <td>30.952800</td>\n",
              "      <td>39916.360000</td>\n",
              "      <td>1.194200</td>\n",
              "      <td>0.148000</td>\n",
              "    </tr>\n",
              "    <tr>\n",
              "      <td>std</td>\n",
              "      <td>0.500049</td>\n",
              "      <td>8.440807</td>\n",
              "      <td>9900.083569</td>\n",
              "      <td>1.091387</td>\n",
              "      <td>0.463183</td>\n",
              "    </tr>\n",
              "    <tr>\n",
              "      <td>min</td>\n",
              "      <td>0.000000</td>\n",
              "      <td>18.000000</td>\n",
              "      <td>5300.000000</td>\n",
              "      <td>0.000000</td>\n",
              "      <td>0.000000</td>\n",
              "    </tr>\n",
              "    <tr>\n",
              "      <td>25%</td>\n",
              "      <td>0.000000</td>\n",
              "      <td>24.000000</td>\n",
              "      <td>33300.000000</td>\n",
              "      <td>0.000000</td>\n",
              "      <td>0.000000</td>\n",
              "    </tr>\n",
              "    <tr>\n",
              "      <td>50%</td>\n",
              "      <td>0.000000</td>\n",
              "      <td>30.000000</td>\n",
              "      <td>40200.000000</td>\n",
              "      <td>1.000000</td>\n",
              "      <td>0.000000</td>\n",
              "    </tr>\n",
              "    <tr>\n",
              "      <td>75%</td>\n",
              "      <td>1.000000</td>\n",
              "      <td>37.000000</td>\n",
              "      <td>46600.000000</td>\n",
              "      <td>2.000000</td>\n",
              "      <td>0.000000</td>\n",
              "    </tr>\n",
              "    <tr>\n",
              "      <td>max</td>\n",
              "      <td>1.000000</td>\n",
              "      <td>65.000000</td>\n",
              "      <td>79000.000000</td>\n",
              "      <td>6.000000</td>\n",
              "      <td>5.000000</td>\n",
              "    </tr>\n",
              "  </tbody>\n",
              "</table>\n",
              "</div>"
            ],
            "text/plain": [
              "               Пол      Возраст      Зарплата  Члены семьи  Страховые выплаты\n",
              "count  5000.000000  5000.000000   5000.000000  5000.000000        5000.000000\n",
              "mean      0.499000    30.952800  39916.360000     1.194200           0.148000\n",
              "std       0.500049     8.440807   9900.083569     1.091387           0.463183\n",
              "min       0.000000    18.000000   5300.000000     0.000000           0.000000\n",
              "25%       0.000000    24.000000  33300.000000     0.000000           0.000000\n",
              "50%       0.000000    30.000000  40200.000000     1.000000           0.000000\n",
              "75%       1.000000    37.000000  46600.000000     2.000000           0.000000\n",
              "max       1.000000    65.000000  79000.000000     6.000000           5.000000"
            ]
          },
          "metadata": {
            "tags": []
          },
          "execution_count": 4
        }
      ]
    },
    {
      "cell_type": "markdown",
      "metadata": {
        "id": "qQpJT9MRmGQ-"
      },
      "source": [
        "Видим, что пропуски в данных отсутствуют, везде тип числовой. Соотношения минимума и максимума распределения в данных, а также небольшое различие среднего и медианы говорит о отсутствии неадекватных выбросов. "
      ]
    },
    {
      "cell_type": "markdown",
      "metadata": {
        "id": "YeWdpdWMmGRA"
      },
      "source": [
        "Поделили выборку на трейн и тест."
      ]
    },
    {
      "cell_type": "code",
      "metadata": {
        "id": "hxP3Y1zGmGRA"
      },
      "source": [
        "# переменные с признаками и ответами \n",
        "features = df.drop(['Страховые выплаты'], axis=1)\n",
        "target = df['Страховые выплаты']"
      ],
      "execution_count": null,
      "outputs": []
    },
    {
      "cell_type": "code",
      "metadata": {
        "id": "qSKwpZdPmGRB"
      },
      "source": [
        "# раздел на 75 % обучающей и 25 % тестовой выборки\n",
        "features_train, features_test, target_train, target_test = train_test_split(\n",
        "    features, target, test_size=0.25, random_state=12345)"
      ],
      "execution_count": null,
      "outputs": []
    },
    {
      "cell_type": "markdown",
      "metadata": {
        "id": "chIJ_N_YmGRC"
      },
      "source": [
        "Проконтролировали размер выборок."
      ]
    },
    {
      "cell_type": "code",
      "metadata": {
        "id": "bvKM32pGmGRD",
        "outputId": "40c181e7-1289-4bb0-bf68-af40b84089f8"
      },
      "source": [
        "features_train.shape, target_train.shape"
      ],
      "execution_count": null,
      "outputs": [
        {
          "output_type": "execute_result",
          "data": {
            "text/plain": [
              "((3750, 4), (3750,))"
            ]
          },
          "metadata": {
            "tags": []
          },
          "execution_count": 7
        }
      ]
    },
    {
      "cell_type": "code",
      "metadata": {
        "id": "d7WXuYjjmGRE",
        "outputId": "7aa5f5a2-4a61-41e1-9201-ab72045417d2"
      },
      "source": [
        "features_test.shape, target_test.shape"
      ],
      "execution_count": null,
      "outputs": [
        {
          "output_type": "execute_result",
          "data": {
            "text/plain": [
              "((1250, 4), (1250,))"
            ]
          },
          "metadata": {
            "tags": []
          },
          "execution_count": 8
        }
      ]
    },
    {
      "cell_type": "code",
      "metadata": {
        "id": "leAPhzW0mGRF",
        "outputId": "c74d39da-0769-4493-96ec-22ac3b82ef8a"
      },
      "source": [
        "df.shape"
      ],
      "execution_count": null,
      "outputs": [
        {
          "output_type": "execute_result",
          "data": {
            "text/plain": [
              "(5000, 5)"
            ]
          },
          "metadata": {
            "tags": []
          },
          "execution_count": 9
        }
      ]
    },
    {
      "cell_type": "markdown",
      "metadata": {
        "id": "oYWmUt7MmGRG"
      },
      "source": [
        "## 2. Умножение матриц <a id='2'></a>  [^](#10) "
      ]
    },
    {
      "cell_type": "markdown",
      "metadata": {
        "id": "F7yOifjmmGRH"
      },
      "source": [
        "Ответим на вопрос -  \n",
        "**Признаки умножают на обратимую матрицу. Изменится ли качество линейной регрессии?**  \n",
        "\n",
        "- изменится \n",
        "- не изменится"
      ]
    },
    {
      "cell_type": "markdown",
      "metadata": {
        "id": "2sLjOFovmGRH"
      },
      "source": [
        "Попробуем привести алгебраическое доказательство."
      ]
    },
    {
      "cell_type": "markdown",
      "metadata": {
        "id": "rwapafNxmGRI"
      },
      "source": [
        "Предсказания линейной регрессии имеют вид: $$a = X·w = X·(X^TX)^{-1}·X^T·y $$  \n",
        "\n",
        "где \n",
        "- a - предсказания; \n",
        "- X - матрица признаков;\n",
        "- y - целевой признак."
      ]
    },
    {
      "cell_type": "markdown",
      "metadata": {
        "id": "EvK1B2jNmGRJ"
      },
      "source": [
        "Домножим матрицу признаков на обратимую квадратную случайную матрицу Z. Тогда формула расчета предсказаний линейной регрессии примет вид: $$a = X·Z·w = X·Z·((XZ)^T·(XZ))^{-1}·(XZ)^T·y$$  \n",
        "\n",
        "По свойству обратной матрицы от произведения двух матриц получаем: \n",
        "$$a = X·Z·(XZ)^{-1}·((XZ)^T)^{-1}·(XZ)^T·y = X·Z·Z^{-1}·X^{-1}·E·y = X·X^{-1}·y$$"
      ]
    },
    {
      "cell_type": "markdown",
      "metadata": {
        "id": "XcmBtR9WmGRK"
      },
      "source": [
        "Тогда домножение обратимой квадратной матрицы на матрицу признаков не влияет на качество предсказаний."
      ]
    },
    {
      "cell_type": "markdown",
      "metadata": {
        "id": "3V_O5LQSmGRK"
      },
      "source": [
        "## 3. Алгоритм преобразования <a id='3'></a>  [^](#10) "
      ]
    },
    {
      "cell_type": "markdown",
      "metadata": {
        "id": "1DL8Vd5NmGRL"
      },
      "source": [
        "Домножим нашу матрицу признаков на свою квадратную.\n",
        "$$Xnew = (X·X^T)·X$$"
      ]
    },
    {
      "cell_type": "code",
      "metadata": {
        "id": "YPXwsxA8mGRL"
      },
      "source": [
        "# преобразование признаков \n",
        "features_transform = np.array(features).dot(np.array(features).T).dot(np.array(features))\n",
        "target_transform = target"
      ],
      "execution_count": null,
      "outputs": []
    },
    {
      "cell_type": "code",
      "metadata": {
        "id": "0g_RguwPmGRM"
      },
      "source": [
        "# раздел на 75 % обучающей и 25 % тестовой выборки\n",
        "features_train_transform, features_test_transform, target_train_transform, target_test_transform = train_test_split(\n",
        "    features_transform, target_transform, test_size=0.25, random_state=12345)"
      ],
      "execution_count": null,
      "outputs": []
    },
    {
      "cell_type": "code",
      "metadata": {
        "id": "PL_wHuL2mGRN",
        "outputId": "e9cdb853-8483-46a8-f890-db0d7577b076"
      },
      "source": [
        "# контроль выборок\n",
        "features_train_transform.shape, target_train_transform.shape"
      ],
      "execution_count": null,
      "outputs": [
        {
          "output_type": "execute_result",
          "data": {
            "text/plain": [
              "((3750, 4), (3750,))"
            ]
          },
          "metadata": {
            "tags": []
          },
          "execution_count": 12
        }
      ]
    },
    {
      "cell_type": "code",
      "metadata": {
        "id": "DDyG6iNJmGRO",
        "outputId": "565f367f-13fa-4adf-de7c-fd1b9b821c0e"
      },
      "source": [
        "features_test_transform.shape, target_test_transform.shape"
      ],
      "execution_count": null,
      "outputs": [
        {
          "output_type": "execute_result",
          "data": {
            "text/plain": [
              "((1250, 4), (1250,))"
            ]
          },
          "metadata": {
            "tags": []
          },
          "execution_count": 13
        }
      ]
    },
    {
      "cell_type": "markdown",
      "metadata": {
        "id": "TwUso1VZmGRP"
      },
      "source": [
        "Создали план для преобразования и проверки алгоритма."
      ]
    },
    {
      "cell_type": "markdown",
      "metadata": {
        "id": "rFY3DC5CmGRP"
      },
      "source": [
        "Алгоритм преобразования выполнили следующим образом: \n",
        "\n",
        "- Создаём рандомную квадратную матрицу, размерно позволяющую делать перемножение с матрицей признаков;\n",
        "- Проверяем эту случайную матрицу на обратимость;\n",
        "- Создаём новую матрицу данных;\n",
        "- Проверяем качество предсказаний на исходных данных и преобразованных."
      ]
    },
    {
      "cell_type": "markdown",
      "metadata": {
        "id": "33ggnW0fmGRQ"
      },
      "source": [
        "## 4 Проверка алгоритма <a id='4'></a>  [^](#10) "
      ]
    },
    {
      "cell_type": "markdown",
      "metadata": {
        "id": "cfb6w8g0mGRR"
      },
      "source": [
        " * ### Создание рандомной матрицы"
      ]
    },
    {
      "cell_type": "code",
      "metadata": {
        "id": "zZxj_Zo_mGRR"
      },
      "source": [
        "# создание рандомной матрицы с количеством строк и столбцов, равному количеству столбцов матрицы признаков\n",
        "Z = np.random.rand(features.shape[1], features.shape[1])"
      ],
      "execution_count": null,
      "outputs": []
    },
    {
      "cell_type": "markdown",
      "metadata": {
        "id": "ibZMtiVUmGRS"
      },
      "source": [
        " * ### Проверка случайной матрицы на обратимость"
      ]
    },
    {
      "cell_type": "code",
      "metadata": {
        "id": "zqEe3A0BmGRS"
      },
      "source": [
        "# создание обратной матрицы\n",
        "Z_inv = np.linalg.inv(Z)"
      ],
      "execution_count": null,
      "outputs": []
    },
    {
      "cell_type": "code",
      "metadata": {
        "id": "xXPX4OKnmGRT",
        "outputId": "816bb3ce-110e-42bd-a67e-455dc11745e7"
      },
      "source": [
        "# проверка перемножения матриц\n",
        "Z @ Z_inv"
      ],
      "execution_count": null,
      "outputs": [
        {
          "output_type": "execute_result",
          "data": {
            "text/plain": [
              "array([[ 1.00000000e+00,  6.43304747e-16,  4.47477904e-17,\n",
              "         1.91145825e-16],\n",
              "       [ 1.43448628e-16,  1.00000000e+00, -2.87232844e-17,\n",
              "         4.96581050e-17],\n",
              "       [ 3.38132243e-16, -1.11829388e-15,  1.00000000e+00,\n",
              "         9.11663075e-17],\n",
              "       [-4.98996410e-17, -5.65223752e-17,  5.39579338e-17,\n",
              "         1.00000000e+00]])"
            ]
          },
          "metadata": {
            "tags": []
          },
          "execution_count": 16
        }
      ]
    },
    {
      "cell_type": "markdown",
      "metadata": {
        "id": "MoKv4P0dmGRU"
      },
      "source": [
        "Ответом является единичная матрица Е. Значит случайная матрица обратима."
      ]
    },
    {
      "cell_type": "markdown",
      "metadata": {
        "id": "PHfhg3F9mGRV"
      },
      "source": [
        " * ### Создание новой матрицы данных"
      ]
    },
    {
      "cell_type": "code",
      "metadata": {
        "id": "y1PT4Z7SmGRV"
      },
      "source": [
        "X = features @ Z"
      ],
      "execution_count": null,
      "outputs": []
    },
    {
      "cell_type": "code",
      "metadata": {
        "id": "iSVJqF6mmGRW"
      },
      "source": [
        "# раздел на 75 % обучающей и 25 % тестовой выборки\n",
        "X_train, X_test, target_train, target_test = train_test_split(\n",
        "    X, target, test_size=0.25, random_state=12345)"
      ],
      "execution_count": null,
      "outputs": []
    },
    {
      "cell_type": "code",
      "metadata": {
        "id": "9bBH20OsmGRW",
        "outputId": "e6086691-04ed-47d9-cd5f-dd760ff27314"
      },
      "source": [
        "# контроль выборок\n",
        "X_train.shape, target_train.shape"
      ],
      "execution_count": null,
      "outputs": [
        {
          "output_type": "execute_result",
          "data": {
            "text/plain": [
              "((3750, 4), (3750,))"
            ]
          },
          "metadata": {
            "tags": []
          },
          "execution_count": 19
        }
      ]
    },
    {
      "cell_type": "code",
      "metadata": {
        "id": "S4pswkyHmGRX",
        "outputId": "775e6fe4-b665-4b42-9a43-27212019eba0"
      },
      "source": [
        "X_test.shape, target_test.shape"
      ],
      "execution_count": null,
      "outputs": [
        {
          "output_type": "execute_result",
          "data": {
            "text/plain": [
              "((1250, 4), (1250,))"
            ]
          },
          "metadata": {
            "tags": []
          },
          "execution_count": 20
        }
      ]
    },
    {
      "cell_type": "markdown",
      "metadata": {
        "id": "KlLwoj4SmGRY"
      },
      "source": [
        " * ### Проверка качества предсказаний на исходных данных и преобразованных"
      ]
    },
    {
      "cell_type": "markdown",
      "metadata": {
        "id": "hIcqxSY2mGRZ"
      },
      "source": [
        "Проверили преобразования матрицы признаков на метрике R2 после обучения и предсказания модели."
      ]
    },
    {
      "cell_type": "code",
      "metadata": {
        "id": "FEILxRAlmGRZ",
        "outputId": "da4e7369-c95f-4863-8ae3-394d06439ee4"
      },
      "source": [
        "# визуальный осмотр таблицы с признаками трейна\n",
        "features_train"
      ],
      "execution_count": null,
      "outputs": [
        {
          "output_type": "execute_result",
          "data": {
            "text/html": [
              "<div>\n",
              "<style scoped>\n",
              "    .dataframe tbody tr th:only-of-type {\n",
              "        vertical-align: middle;\n",
              "    }\n",
              "\n",
              "    .dataframe tbody tr th {\n",
              "        vertical-align: top;\n",
              "    }\n",
              "\n",
              "    .dataframe thead th {\n",
              "        text-align: right;\n",
              "    }\n",
              "</style>\n",
              "<table border=\"1\" class=\"dataframe\">\n",
              "  <thead>\n",
              "    <tr style=\"text-align: right;\">\n",
              "      <th></th>\n",
              "      <th>Пол</th>\n",
              "      <th>Возраст</th>\n",
              "      <th>Зарплата</th>\n",
              "      <th>Члены семьи</th>\n",
              "    </tr>\n",
              "  </thead>\n",
              "  <tbody>\n",
              "    <tr>\n",
              "      <td>3369</td>\n",
              "      <td>1</td>\n",
              "      <td>43.0</td>\n",
              "      <td>36200.0</td>\n",
              "      <td>1</td>\n",
              "    </tr>\n",
              "    <tr>\n",
              "      <td>1441</td>\n",
              "      <td>1</td>\n",
              "      <td>34.0</td>\n",
              "      <td>57600.0</td>\n",
              "      <td>0</td>\n",
              "    </tr>\n",
              "    <tr>\n",
              "      <td>571</td>\n",
              "      <td>0</td>\n",
              "      <td>32.0</td>\n",
              "      <td>41100.0</td>\n",
              "      <td>1</td>\n",
              "    </tr>\n",
              "    <tr>\n",
              "      <td>225</td>\n",
              "      <td>0</td>\n",
              "      <td>36.0</td>\n",
              "      <td>45100.0</td>\n",
              "      <td>1</td>\n",
              "    </tr>\n",
              "    <tr>\n",
              "      <td>2558</td>\n",
              "      <td>0</td>\n",
              "      <td>33.0</td>\n",
              "      <td>50600.0</td>\n",
              "      <td>2</td>\n",
              "    </tr>\n",
              "    <tr>\n",
              "      <td>...</td>\n",
              "      <td>...</td>\n",
              "      <td>...</td>\n",
              "      <td>...</td>\n",
              "      <td>...</td>\n",
              "    </tr>\n",
              "    <tr>\n",
              "      <td>3497</td>\n",
              "      <td>0</td>\n",
              "      <td>42.0</td>\n",
              "      <td>32100.0</td>\n",
              "      <td>0</td>\n",
              "    </tr>\n",
              "    <tr>\n",
              "      <td>3492</td>\n",
              "      <td>0</td>\n",
              "      <td>28.0</td>\n",
              "      <td>22700.0</td>\n",
              "      <td>4</td>\n",
              "    </tr>\n",
              "    <tr>\n",
              "      <td>2177</td>\n",
              "      <td>1</td>\n",
              "      <td>41.0</td>\n",
              "      <td>44700.0</td>\n",
              "      <td>1</td>\n",
              "    </tr>\n",
              "    <tr>\n",
              "      <td>3557</td>\n",
              "      <td>0</td>\n",
              "      <td>22.0</td>\n",
              "      <td>50100.0</td>\n",
              "      <td>4</td>\n",
              "    </tr>\n",
              "    <tr>\n",
              "      <td>4578</td>\n",
              "      <td>0</td>\n",
              "      <td>19.0</td>\n",
              "      <td>40800.0</td>\n",
              "      <td>0</td>\n",
              "    </tr>\n",
              "  </tbody>\n",
              "</table>\n",
              "<p>3750 rows × 4 columns</p>\n",
              "</div>"
            ],
            "text/plain": [
              "      Пол  Возраст  Зарплата  Члены семьи\n",
              "3369    1     43.0   36200.0            1\n",
              "1441    1     34.0   57600.0            0\n",
              "571     0     32.0   41100.0            1\n",
              "225     0     36.0   45100.0            1\n",
              "2558    0     33.0   50600.0            2\n",
              "...   ...      ...       ...          ...\n",
              "3497    0     42.0   32100.0            0\n",
              "3492    0     28.0   22700.0            4\n",
              "2177    1     41.0   44700.0            1\n",
              "3557    0     22.0   50100.0            4\n",
              "4578    0     19.0   40800.0            0\n",
              "\n",
              "[3750 rows x 4 columns]"
            ]
          },
          "metadata": {
            "tags": []
          },
          "execution_count": 21
        }
      ]
    },
    {
      "cell_type": "code",
      "metadata": {
        "id": "FC-A6YwxmGRa",
        "outputId": "0343d2c9-a4cc-4aa7-8b25-4ed14543b5ef"
      },
      "source": [
        "# предсказания модели и метрика R2 \n",
        "model = LinearRegression()\n",
        "model.fit(features_train, target_train)\n",
        "predictions = model.predict(features_test)\n",
        "print(r2_score(target_test, predictions))"
      ],
      "execution_count": null,
      "outputs": [
        {
          "output_type": "stream",
          "text": [
            "0.435227571270266\n"
          ],
          "name": "stdout"
        }
      ]
    },
    {
      "cell_type": "code",
      "metadata": {
        "id": "h8ydnGKFmGRb",
        "outputId": "3a047187-ee3a-4179-dd73-597678715598"
      },
      "source": [
        "# визуальный осмотр таблицы с преобразованными признаками трейна\n",
        "X_train"
      ],
      "execution_count": null,
      "outputs": [
        {
          "output_type": "execute_result",
          "data": {
            "text/html": [
              "<div>\n",
              "<style scoped>\n",
              "    .dataframe tbody tr th:only-of-type {\n",
              "        vertical-align: middle;\n",
              "    }\n",
              "\n",
              "    .dataframe tbody tr th {\n",
              "        vertical-align: top;\n",
              "    }\n",
              "\n",
              "    .dataframe thead th {\n",
              "        text-align: right;\n",
              "    }\n",
              "</style>\n",
              "<table border=\"1\" class=\"dataframe\">\n",
              "  <thead>\n",
              "    <tr style=\"text-align: right;\">\n",
              "      <th></th>\n",
              "      <th>0</th>\n",
              "      <th>1</th>\n",
              "      <th>2</th>\n",
              "      <th>3</th>\n",
              "    </tr>\n",
              "  </thead>\n",
              "  <tbody>\n",
              "    <tr>\n",
              "      <td>3369</td>\n",
              "      <td>20904.778180</td>\n",
              "      <td>25373.508530</td>\n",
              "      <td>26795.437276</td>\n",
              "      <td>6806.422907</td>\n",
              "    </tr>\n",
              "    <tr>\n",
              "      <td>1441</td>\n",
              "      <td>33256.613925</td>\n",
              "      <td>40367.197499</td>\n",
              "      <td>42627.616501</td>\n",
              "      <td>10814.869263</td>\n",
              "    </tr>\n",
              "    <tr>\n",
              "      <td>571</td>\n",
              "      <td>23730.978649</td>\n",
              "      <td>28804.864677</td>\n",
              "      <td>30418.737443</td>\n",
              "      <td>7719.604103</td>\n",
              "    </tr>\n",
              "    <tr>\n",
              "      <td>225</td>\n",
              "      <td>26040.697618</td>\n",
              "      <td>31608.382957</td>\n",
              "      <td>33379.276761</td>\n",
              "      <td>8471.268236</td>\n",
              "    </tr>\n",
              "    <tr>\n",
              "      <td>2558</td>\n",
              "      <td>29215.276854</td>\n",
              "      <td>35462.032452</td>\n",
              "      <td>37449.328356</td>\n",
              "      <td>9501.315253</td>\n",
              "    </tr>\n",
              "    <tr>\n",
              "      <td>...</td>\n",
              "      <td>...</td>\n",
              "      <td>...</td>\n",
              "      <td>...</td>\n",
              "      <td>...</td>\n",
              "    </tr>\n",
              "    <tr>\n",
              "      <td>3497</td>\n",
              "      <td>18537.134992</td>\n",
              "      <td>22499.843132</td>\n",
              "      <td>23760.210320</td>\n",
              "      <td>6036.290640</td>\n",
              "    </tr>\n",
              "    <tr>\n",
              "      <td>3492</td>\n",
              "      <td>13109.029120</td>\n",
              "      <td>15911.600655</td>\n",
              "      <td>16805.772904</td>\n",
              "      <td>4268.346342</td>\n",
              "    </tr>\n",
              "    <tr>\n",
              "      <td>2177</td>\n",
              "      <td>25811.191313</td>\n",
              "      <td>31329.278430</td>\n",
              "      <td>33084.586952</td>\n",
              "      <td>8399.269519</td>\n",
              "    </tr>\n",
              "    <tr>\n",
              "      <td>3557</td>\n",
              "      <td>28925.070231</td>\n",
              "      <td>35110.272755</td>\n",
              "      <td>37079.116858</td>\n",
              "      <td>9403.123272</td>\n",
              "    </tr>\n",
              "    <tr>\n",
              "      <td>4578</td>\n",
              "      <td>23555.521585</td>\n",
              "      <td>28592.343554</td>\n",
              "      <td>30193.356187</td>\n",
              "      <td>7657.756554</td>\n",
              "    </tr>\n",
              "  </tbody>\n",
              "</table>\n",
              "<p>3750 rows × 4 columns</p>\n",
              "</div>"
            ],
            "text/plain": [
              "                 0             1             2             3\n",
              "3369  20904.778180  25373.508530  26795.437276   6806.422907\n",
              "1441  33256.613925  40367.197499  42627.616501  10814.869263\n",
              "571   23730.978649  28804.864677  30418.737443   7719.604103\n",
              "225   26040.697618  31608.382957  33379.276761   8471.268236\n",
              "2558  29215.276854  35462.032452  37449.328356   9501.315253\n",
              "...            ...           ...           ...           ...\n",
              "3497  18537.134992  22499.843132  23760.210320   6036.290640\n",
              "3492  13109.029120  15911.600655  16805.772904   4268.346342\n",
              "2177  25811.191313  31329.278430  33084.586952   8399.269519\n",
              "3557  28925.070231  35110.272755  37079.116858   9403.123272\n",
              "4578  23555.521585  28592.343554  30193.356187   7657.756554\n",
              "\n",
              "[3750 rows x 4 columns]"
            ]
          },
          "metadata": {
            "tags": []
          },
          "execution_count": 23
        }
      ]
    },
    {
      "cell_type": "code",
      "metadata": {
        "id": "3PbhOsaWmGRc",
        "outputId": "711a8d02-325c-495d-e2be-851735e94fb7"
      },
      "source": [
        "# предсказания модели и метрика R2\n",
        "model = LinearRegression()\n",
        "model.fit(X_train, target_train)\n",
        "predictions = model.predict(X_test)\n",
        "print(r2_score(target_test, predictions))"
      ],
      "execution_count": null,
      "outputs": [
        {
          "output_type": "stream",
          "text": [
            "0.4352275712688335\n"
          ],
          "name": "stdout"
        }
      ]
    },
    {
      "cell_type": "markdown",
      "metadata": {
        "id": "9dHVRKP5mGRd"
      },
      "source": [
        "## Вывод  \n",
        "\n",
        "Мы провели преобразование признаков с помощью матричных операций. Качество линейной регрессии при этом не поменялось."
      ]
    }
  ]
}